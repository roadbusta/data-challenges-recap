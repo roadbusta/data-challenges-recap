{
 "cells": [
  {
   "cell_type": "markdown",
   "metadata": {},
   "source": [
    "# Hand-made Standardizer"
   ]
  },
  {
   "cell_type": "markdown",
   "metadata": {},
   "source": [
    "## 1. Key Concept : State-less vs. State-full transformers"
   ]
  },
  {
   "cell_type": "markdown",
   "metadata": {},
   "source": [
    "👇 Consider the following train and test sets"
   ]
  },
  {
   "cell_type": "code",
   "execution_count": 1,
   "metadata": {},
   "outputs": [
    {
     "data": {
      "text/html": [
       "<div>\n",
       "<style scoped>\n",
       "    .dataframe tbody tr th:only-of-type {\n",
       "        vertical-align: middle;\n",
       "    }\n",
       "\n",
       "    .dataframe tbody tr th {\n",
       "        vertical-align: top;\n",
       "    }\n",
       "\n",
       "    .dataframe thead th {\n",
       "        text-align: right;\n",
       "    }\n",
       "</style>\n",
       "<table border=\"1\" class=\"dataframe\">\n",
       "  <thead>\n",
       "    <tr style=\"text-align: right;\">\n",
       "      <th></th>\n",
       "      <th>A</th>\n",
       "      <th>B</th>\n",
       "      <th>C</th>\n",
       "    </tr>\n",
       "  </thead>\n",
       "  <tbody>\n",
       "    <tr>\n",
       "      <th>0</th>\n",
       "      <td>1</td>\n",
       "      <td>2</td>\n",
       "      <td>3</td>\n",
       "    </tr>\n",
       "    <tr>\n",
       "      <th>1</th>\n",
       "      <td>2</td>\n",
       "      <td>3</td>\n",
       "      <td>4</td>\n",
       "    </tr>\n",
       "    <tr>\n",
       "      <th>2</th>\n",
       "      <td>3</td>\n",
       "      <td>4</td>\n",
       "      <td>5</td>\n",
       "    </tr>\n",
       "  </tbody>\n",
       "</table>\n",
       "</div>"
      ],
      "text/plain": [
       "   A  B  C\n",
       "0  1  2  3\n",
       "1  2  3  4\n",
       "2  3  4  5"
      ]
     },
     "metadata": {},
     "output_type": "display_data"
    },
    {
     "data": {
      "text/html": [
       "<div>\n",
       "<style scoped>\n",
       "    .dataframe tbody tr th:only-of-type {\n",
       "        vertical-align: middle;\n",
       "    }\n",
       "\n",
       "    .dataframe tbody tr th {\n",
       "        vertical-align: top;\n",
       "    }\n",
       "\n",
       "    .dataframe thead th {\n",
       "        text-align: right;\n",
       "    }\n",
       "</style>\n",
       "<table border=\"1\" class=\"dataframe\">\n",
       "  <thead>\n",
       "    <tr style=\"text-align: right;\">\n",
       "      <th></th>\n",
       "      <th>A</th>\n",
       "      <th>B</th>\n",
       "      <th>C</th>\n",
       "    </tr>\n",
       "  </thead>\n",
       "  <tbody>\n",
       "    <tr>\n",
       "      <th>0</th>\n",
       "      <td>1</td>\n",
       "      <td>2</td>\n",
       "      <td>3</td>\n",
       "    </tr>\n",
       "    <tr>\n",
       "      <th>1</th>\n",
       "      <td>2</td>\n",
       "      <td>3</td>\n",
       "      <td>4</td>\n",
       "    </tr>\n",
       "    <tr>\n",
       "      <th>2</th>\n",
       "      <td>3</td>\n",
       "      <td>4</td>\n",
       "      <td>10</td>\n",
       "    </tr>\n",
       "  </tbody>\n",
       "</table>\n",
       "</div>"
      ],
      "text/plain": [
       "   A  B   C\n",
       "0  1  2   3\n",
       "1  2  3   4\n",
       "2  3  4  10"
      ]
     },
     "metadata": {},
     "output_type": "display_data"
    }
   ],
   "source": [
    "import numpy as np\n",
    "import pandas as pd\n",
    "\n",
    "X_train = pd.DataFrame({\n",
    "    'A': {0: 1, 1: 2, 2: 3},\n",
    "    'B': {0: 2, 1: 3, 2: 4},\n",
    "    'C': {0: 3, 1: 4, 2: 5}})\n",
    "display(X_train)\n",
    "\n",
    "X_test = pd.DataFrame({\n",
    "    'A': {0: 1, 1: 2, 2: 3},\n",
    "    'B': {0: 2, 1: 3, 2: 4},\n",
    "    'C': {0: 3, 1: 4, 2: 10}})\n",
    "display(X_test)"
   ]
  },
  {
   "cell_type": "markdown",
   "metadata": {},
   "source": [
    "👇 And the following pipeline"
   ]
  },
  {
   "cell_type": "code",
   "execution_count": 2,
   "metadata": {},
   "outputs": [
    {
     "data": {
      "text/html": [
       "<style>#sk-78cb5b12-2047-4bd5-9f92-e26ec9f17930 {color: black;background-color: white;}#sk-78cb5b12-2047-4bd5-9f92-e26ec9f17930 pre{padding: 0;}#sk-78cb5b12-2047-4bd5-9f92-e26ec9f17930 div.sk-toggleable {background-color: white;}#sk-78cb5b12-2047-4bd5-9f92-e26ec9f17930 label.sk-toggleable__label {cursor: pointer;display: block;width: 100%;margin-bottom: 0;padding: 0.3em;box-sizing: border-box;text-align: center;}#sk-78cb5b12-2047-4bd5-9f92-e26ec9f17930 label.sk-toggleable__label-arrow:before {content: \"▸\";float: left;margin-right: 0.25em;color: #696969;}#sk-78cb5b12-2047-4bd5-9f92-e26ec9f17930 label.sk-toggleable__label-arrow:hover:before {color: black;}#sk-78cb5b12-2047-4bd5-9f92-e26ec9f17930 div.sk-estimator:hover label.sk-toggleable__label-arrow:before {color: black;}#sk-78cb5b12-2047-4bd5-9f92-e26ec9f17930 div.sk-toggleable__content {max-height: 0;max-width: 0;overflow: hidden;text-align: left;background-color: #f0f8ff;}#sk-78cb5b12-2047-4bd5-9f92-e26ec9f17930 div.sk-toggleable__content pre {margin: 0.2em;color: black;border-radius: 0.25em;background-color: #f0f8ff;}#sk-78cb5b12-2047-4bd5-9f92-e26ec9f17930 input.sk-toggleable__control:checked~div.sk-toggleable__content {max-height: 200px;max-width: 100%;overflow: auto;}#sk-78cb5b12-2047-4bd5-9f92-e26ec9f17930 input.sk-toggleable__control:checked~label.sk-toggleable__label-arrow:before {content: \"▾\";}#sk-78cb5b12-2047-4bd5-9f92-e26ec9f17930 div.sk-estimator input.sk-toggleable__control:checked~label.sk-toggleable__label {background-color: #d4ebff;}#sk-78cb5b12-2047-4bd5-9f92-e26ec9f17930 div.sk-label input.sk-toggleable__control:checked~label.sk-toggleable__label {background-color: #d4ebff;}#sk-78cb5b12-2047-4bd5-9f92-e26ec9f17930 input.sk-hidden--visually {border: 0;clip: rect(1px 1px 1px 1px);clip: rect(1px, 1px, 1px, 1px);height: 1px;margin: -1px;overflow: hidden;padding: 0;position: absolute;width: 1px;}#sk-78cb5b12-2047-4bd5-9f92-e26ec9f17930 div.sk-estimator {font-family: monospace;background-color: #f0f8ff;border: 1px dotted black;border-radius: 0.25em;box-sizing: border-box;margin-bottom: 0.5em;}#sk-78cb5b12-2047-4bd5-9f92-e26ec9f17930 div.sk-estimator:hover {background-color: #d4ebff;}#sk-78cb5b12-2047-4bd5-9f92-e26ec9f17930 div.sk-parallel-item::after {content: \"\";width: 100%;border-bottom: 1px solid gray;flex-grow: 1;}#sk-78cb5b12-2047-4bd5-9f92-e26ec9f17930 div.sk-label:hover label.sk-toggleable__label {background-color: #d4ebff;}#sk-78cb5b12-2047-4bd5-9f92-e26ec9f17930 div.sk-serial::before {content: \"\";position: absolute;border-left: 1px solid gray;box-sizing: border-box;top: 2em;bottom: 0;left: 50%;}#sk-78cb5b12-2047-4bd5-9f92-e26ec9f17930 div.sk-serial {display: flex;flex-direction: column;align-items: center;background-color: white;padding-right: 0.2em;padding-left: 0.2em;}#sk-78cb5b12-2047-4bd5-9f92-e26ec9f17930 div.sk-item {z-index: 1;}#sk-78cb5b12-2047-4bd5-9f92-e26ec9f17930 div.sk-parallel {display: flex;align-items: stretch;justify-content: center;background-color: white;}#sk-78cb5b12-2047-4bd5-9f92-e26ec9f17930 div.sk-parallel::before {content: \"\";position: absolute;border-left: 1px solid gray;box-sizing: border-box;top: 2em;bottom: 0;left: 50%;}#sk-78cb5b12-2047-4bd5-9f92-e26ec9f17930 div.sk-parallel-item {display: flex;flex-direction: column;position: relative;background-color: white;}#sk-78cb5b12-2047-4bd5-9f92-e26ec9f17930 div.sk-parallel-item:first-child::after {align-self: flex-end;width: 50%;}#sk-78cb5b12-2047-4bd5-9f92-e26ec9f17930 div.sk-parallel-item:last-child::after {align-self: flex-start;width: 50%;}#sk-78cb5b12-2047-4bd5-9f92-e26ec9f17930 div.sk-parallel-item:only-child::after {width: 0;}#sk-78cb5b12-2047-4bd5-9f92-e26ec9f17930 div.sk-dashed-wrapped {border: 1px dashed gray;margin: 0 0.4em 0.5em 0.4em;box-sizing: border-box;padding-bottom: 0.4em;background-color: white;position: relative;}#sk-78cb5b12-2047-4bd5-9f92-e26ec9f17930 div.sk-label label {font-family: monospace;font-weight: bold;background-color: white;display: inline-block;line-height: 1.2em;}#sk-78cb5b12-2047-4bd5-9f92-e26ec9f17930 div.sk-label-container {position: relative;z-index: 2;text-align: center;}#sk-78cb5b12-2047-4bd5-9f92-e26ec9f17930 div.sk-container {/* jupyter's `normalize.less` sets `[hidden] { display: none; }` but bootstrap.min.css set `[hidden] { display: none !important; }` so we also need the `!important` here to be able to override the default hidden behavior on the sphinx rendered scikit-learn.org. See: https://github.com/scikit-learn/scikit-learn/issues/21755 */display: inline-block !important;position: relative;}#sk-78cb5b12-2047-4bd5-9f92-e26ec9f17930 div.sk-text-repr-fallback {display: none;}</style><div id=\"sk-78cb5b12-2047-4bd5-9f92-e26ec9f17930\" class=\"sk-top-container\"><div class=\"sk-text-repr-fallback\"><pre>FeatureUnion(transformer_list=[(&#x27;standardscaler&#x27;, StandardScaler()),\n",
       "                               (&#x27;functiontransformer&#x27;,\n",
       "                                FunctionTransformer(func=&lt;function &lt;lambda&gt; at 0x10df215e0&gt;))])</pre><b>Please rerun this cell to show the HTML repr or trust the notebook.</b></div><div class=\"sk-container\" hidden><div class=\"sk-item sk-dashed-wrapped\"><div class=\"sk-label-container\"><div class=\"sk-label sk-toggleable\"><input class=\"sk-toggleable__control sk-hidden--visually\" id=\"ed7f538a-e2bc-480d-aa62-ee44e876ae6b\" type=\"checkbox\" ><label for=\"ed7f538a-e2bc-480d-aa62-ee44e876ae6b\" class=\"sk-toggleable__label sk-toggleable__label-arrow\">FeatureUnion</label><div class=\"sk-toggleable__content\"><pre>FeatureUnion(transformer_list=[(&#x27;standardscaler&#x27;, StandardScaler()),\n",
       "                               (&#x27;functiontransformer&#x27;,\n",
       "                                FunctionTransformer(func=&lt;function &lt;lambda&gt; at 0x10df215e0&gt;))])</pre></div></div></div><div class=\"sk-parallel\"><div class=\"sk-parallel-item\"><div class=\"sk-item\"><div class=\"sk-label-container\"><div class=\"sk-label sk-toggleable\"><label>standardscaler</label></div></div><div class=\"sk-serial\"><div class=\"sk-item\"><div class=\"sk-estimator sk-toggleable\"><input class=\"sk-toggleable__control sk-hidden--visually\" id=\"5a1c5e21-4c09-4364-9a64-50fee085701d\" type=\"checkbox\" ><label for=\"5a1c5e21-4c09-4364-9a64-50fee085701d\" class=\"sk-toggleable__label sk-toggleable__label-arrow\">StandardScaler</label><div class=\"sk-toggleable__content\"><pre>StandardScaler()</pre></div></div></div></div></div></div><div class=\"sk-parallel-item\"><div class=\"sk-item\"><div class=\"sk-label-container\"><div class=\"sk-label sk-toggleable\"><label>functiontransformer</label></div></div><div class=\"sk-serial\"><div class=\"sk-item\"><div class=\"sk-estimator sk-toggleable\"><input class=\"sk-toggleable__control sk-hidden--visually\" id=\"53d76a32-0c3a-463b-8547-fa634f49960c\" type=\"checkbox\" ><label for=\"53d76a32-0c3a-463b-8547-fa634f49960c\" class=\"sk-toggleable__label sk-toggleable__label-arrow\">FunctionTransformer</label><div class=\"sk-toggleable__content\"><pre>FunctionTransformer(func=&lt;function &lt;lambda&gt; at 0x10df215e0&gt;)</pre></div></div></div></div></div></div></div></div></div></div>"
      ],
      "text/plain": [
       "FeatureUnion(transformer_list=[('standardscaler', StandardScaler()),\n",
       "                               ('functiontransformer',\n",
       "                                FunctionTransformer(func=<function <lambda> at 0x10df215e0>))])"
      ]
     },
     "execution_count": 2,
     "metadata": {},
     "output_type": "execute_result"
    }
   ],
   "source": [
    "from sklearn import set_config; set_config(display='diagram')\n",
    "from sklearn.preprocessing import FunctionTransformer, StandardScaler\n",
    "from sklearn.pipeline import make_pipeline, make_union\n",
    "\n",
    "scaler = StandardScaler()\n",
    "feature_averager = FunctionTransformer(lambda df: pd.DataFrame(1/3 * (df[\"A\"] + df[\"B\"] + df[\"C\"])))\n",
    "pipe = make_union(scaler, feature_averager)\n",
    "pipe"
   ]
  },
  {
   "cell_type": "code",
   "execution_count": 3,
   "metadata": {},
   "outputs": [
    {
     "data": {
      "text/html": [
       "<div>\n",
       "<style scoped>\n",
       "    .dataframe tbody tr th:only-of-type {\n",
       "        vertical-align: middle;\n",
       "    }\n",
       "\n",
       "    .dataframe tbody tr th {\n",
       "        vertical-align: top;\n",
       "    }\n",
       "\n",
       "    .dataframe thead th {\n",
       "        text-align: right;\n",
       "    }\n",
       "</style>\n",
       "<table border=\"1\" class=\"dataframe\">\n",
       "  <thead>\n",
       "    <tr style=\"text-align: right;\">\n",
       "      <th></th>\n",
       "      <th>0</th>\n",
       "      <th>1</th>\n",
       "      <th>2</th>\n",
       "      <th>3</th>\n",
       "    </tr>\n",
       "  </thead>\n",
       "  <tbody>\n",
       "    <tr>\n",
       "      <th>0</th>\n",
       "      <td>-1.224745</td>\n",
       "      <td>-1.224745</td>\n",
       "      <td>-1.224745</td>\n",
       "      <td>2.0</td>\n",
       "    </tr>\n",
       "    <tr>\n",
       "      <th>1</th>\n",
       "      <td>0.000000</td>\n",
       "      <td>0.000000</td>\n",
       "      <td>0.000000</td>\n",
       "      <td>3.0</td>\n",
       "    </tr>\n",
       "    <tr>\n",
       "      <th>2</th>\n",
       "      <td>1.224745</td>\n",
       "      <td>1.224745</td>\n",
       "      <td>1.224745</td>\n",
       "      <td>4.0</td>\n",
       "    </tr>\n",
       "  </tbody>\n",
       "</table>\n",
       "</div>"
      ],
      "text/plain": [
       "          0         1         2    3\n",
       "0 -1.224745 -1.224745 -1.224745  2.0\n",
       "1  0.000000  0.000000  0.000000  3.0\n",
       "2  1.224745  1.224745  1.224745  4.0"
      ]
     },
     "execution_count": 3,
     "metadata": {},
     "output_type": "execute_result"
    }
   ],
   "source": [
    "pipe.fit(X_train)\n",
    "pd.DataFrame(pipe.transform(X_train))"
   ]
  },
  {
   "cell_type": "code",
   "execution_count": 4,
   "metadata": {},
   "outputs": [
    {
     "data": {
      "text/html": [
       "<div>\n",
       "<style scoped>\n",
       "    .dataframe tbody tr th:only-of-type {\n",
       "        vertical-align: middle;\n",
       "    }\n",
       "\n",
       "    .dataframe tbody tr th {\n",
       "        vertical-align: top;\n",
       "    }\n",
       "\n",
       "    .dataframe thead th {\n",
       "        text-align: right;\n",
       "    }\n",
       "</style>\n",
       "<table border=\"1\" class=\"dataframe\">\n",
       "  <thead>\n",
       "    <tr style=\"text-align: right;\">\n",
       "      <th></th>\n",
       "      <th>0</th>\n",
       "      <th>1</th>\n",
       "      <th>2</th>\n",
       "      <th>3</th>\n",
       "    </tr>\n",
       "  </thead>\n",
       "  <tbody>\n",
       "    <tr>\n",
       "      <th>0</th>\n",
       "      <td>-1.224745</td>\n",
       "      <td>-1.224745</td>\n",
       "      <td>-1.224745</td>\n",
       "      <td>2.000000</td>\n",
       "    </tr>\n",
       "    <tr>\n",
       "      <th>1</th>\n",
       "      <td>0.000000</td>\n",
       "      <td>0.000000</td>\n",
       "      <td>0.000000</td>\n",
       "      <td>3.000000</td>\n",
       "    </tr>\n",
       "    <tr>\n",
       "      <th>2</th>\n",
       "      <td>1.224745</td>\n",
       "      <td>1.224745</td>\n",
       "      <td>7.348469</td>\n",
       "      <td>5.666667</td>\n",
       "    </tr>\n",
       "  </tbody>\n",
       "</table>\n",
       "</div>"
      ],
      "text/plain": [
       "          0         1         2         3\n",
       "0 -1.224745 -1.224745 -1.224745  2.000000\n",
       "1  0.000000  0.000000  0.000000  3.000000\n",
       "2  1.224745  1.224745  7.348469  5.666667"
      ]
     },
     "execution_count": 4,
     "metadata": {},
     "output_type": "execute_result"
    }
   ],
   "source": [
    "pd.DataFrame(pipe.transform(X_test))"
   ]
  },
  {
   "cell_type": "markdown",
   "metadata": {},
   "source": [
    "☝️ Notice how the `StandardScaler` and the `FunctionTransformer` are fundamentally different:\n",
    "\n",
    "1️⃣ `FunctionTransformer` can only performs **stateless** transformations\n",
    " \n",
    "$(X_1, X_2, X_3)$ --> $\\frac{(X_1 + X_2 + X_3)}{3}$ for our `feature_averager`\n",
    "\n",
    "other stateless transformations for instance: \n",
    "\n",
    "$X$ --> $log(X)$  \n",
    "$(X_1, X_2)$ --> $X_1 + 5X_2^2$ \n",
    "\n",
    "2️⃣ `StandardScaler` performs a **state-full** transformation \n",
    "\n",
    "$\n",
    "X \\rightarrow \\frac{(X-\\mu )}{\\sigma}\n",
    "$\n",
    "\n",
    "- that requires to **store** information from the train set during the `.fit` (here, `mean_train` and `std_train`)\n",
    "- In order to **reuse/apply** these back later during the `.transform` phase, on *both* train or test sets"
   ]
  },
  {
   "cell_type": "markdown",
   "metadata": {},
   "source": [
    "☝️ What if we wanted to code our own state-full custom transformer? For that, we will have to code our own class"
   ]
  },
  {
   "cell_type": "markdown",
   "metadata": {},
   "source": [
    "## 2. Create your own state-full transformer"
   ]
  },
  {
   "cell_type": "markdown",
   "metadata": {},
   "source": [
    "### 2.1 CustomStandardizer"
   ]
  },
  {
   "cell_type": "markdown",
   "metadata": {
    "slideshow": {
     "slide_type": "subslide"
    }
   },
   "source": [
    "👉 Try to code your own class `CustomStandardizer` that should behave exactly like `StandardScaler` from scikit-learn.  \n",
    "This means having a `fit()` and `transform()` method.\n",
    "\n",
    "Then, fit it on `X_train` and transform `X_test` with it to compare with the original scikit-learn version!\n",
    "\n",
    "\n",
    "\n"
   ]
  },
  {
   "cell_type": "code",
   "execution_count": null,
   "metadata": {},
   "outputs": [],
   "source": [
    "# TransformerMixin inheritance is used to create fit_transform() method from fit() and transform()\n",
    "from sklearn.base import TransformerMixin, BaseEstimator\n",
    "\n",
    "# I need to think about this a bit more\n",
    "\n",
    "class CustomStandardizer(TransformerMixin, BaseEstimator):\n",
    "    \n",
    "    def __init__(self):\n",
    "        pass\n",
    "    \n",
    "    def fit(self, X, y=None):\n",
    "        # Store what needs to be stored as instance attributes. Return \"self\" to allow chaining fit and transform.\n",
    "        \n",
    "        \n",
    "        return self\n",
    "    \n",
    "    def transform(self, X, y=None): \n",
    "        self.transformed\n",
    "        \n",
    "        return\n",
    "    \n",
    "    "
   ]
  },
  {
   "cell_type": "code",
   "execution_count": null,
   "metadata": {},
   "outputs": [],
   "source": [
    "# Try it out below\n",
    "custom_standardizer = CustomStandardizer()\n",
    "custom_standardizer.fit(X_train)\n",
    "custom_standardizer.transform(X_test)"
   ]
  },
  {
   "cell_type": "code",
   "execution_count": null,
   "metadata": {},
   "outputs": [],
   "source": [
    "from nbresult import ChallengeResult\n",
    "\n",
    "tmp = CustomStandardizer()\n",
    "tmp_train = np.array(tmp.fit_transform(X_train))\n",
    "tmp_test = np.array(tmp.transform(X_test))\n",
    "\n",
    "result = ChallengeResult('standardizer', \n",
    "                         X_train_transformed=tmp_train,\n",
    "                         X_test_transformed=tmp_test\n",
    ")\n",
    "\n",
    "result.write()\n",
    "print(result.check())"
   ]
  },
  {
   "cell_type": "markdown",
   "metadata": {},
   "source": [
    "<details>\n",
    "<summary>💡 Hint if test above only fail by a small margin </summary>\n",
    "\n",
    "Be carefull there is a slight difference between `np.std()` and `pd.std` methods! This stackoverflow [post](https://stackoverflow.com/questions/44220290/sklearn-standardscaler-result-different-to-manual-result) might help 😉\n",
    "      \n",
    "</details>"
   ]
  },
  {
   "cell_type": "markdown",
   "metadata": {},
   "source": [
    "### 2.2 Inverse Transform"
   ]
  },
  {
   "cell_type": "markdown",
   "metadata": {},
   "source": [
    "❗️ Scikit-learn transformer also have [`inverse_transform`](https://scikit-learn.org/stable/modules/generated/sklearn.preprocessing.StandardScaler.html#sklearn.preprocessing.StandardScaler.inverse_transform) methods. Try to implement it in your custom scaler!"
   ]
  },
  {
   "cell_type": "code",
   "execution_count": null,
   "metadata": {},
   "outputs": [],
   "source": [
    "# YOUR CODE HERE"
   ]
  },
  {
   "cell_type": "code",
   "execution_count": null,
   "metadata": {},
   "outputs": [],
   "source": [
    "# Test yourself below\n",
    "\n",
    "custom_scaler = CustomStandardizer().fit(X_train)\n",
    "X_train_transformed = custom_scaler.transform(X_train)\n",
    "display(X_train_transformed)\n",
    "\n",
    "X_train_detransformed = custom_scaler.inverse_transform(X_train_transformed)\n",
    "display(X_train_detransformed)"
   ]
  },
  {
   "cell_type": "code",
   "execution_count": null,
   "metadata": {},
   "outputs": [],
   "source": [
    "assert np.allclose(X_train_detransformed, X_train)"
   ]
  },
  {
   "cell_type": "markdown",
   "metadata": {},
   "source": [
    "### 2.3 Complete custom pipeline!"
   ]
  },
  {
   "cell_type": "markdown",
   "metadata": {},
   "source": [
    "👉 Now that we have replicated scikit-learn's `StandardScaler`, we create many new ones !\n",
    "\n",
    "Try to create the following:\n",
    "\n",
    "- A `CustomStandardizer(shrink_factor = 1)` which takes one additional argument to allow scaling by more than 1 standard deviation\n",
    "\n",
    "\n",
    "- A `FeatureAverager()` class that improves upon the one you built on section 1, scaling the result of the \n",
    "\n",
    "$$(X_1, X_2, X_3) --> \\frac{1/3 * (X_1 + X_2 + X_3)}{max(X_1+X_2+X_3)}$$\n",
    "\n",
    "Then, use them both to your ininitial feature union `pipe` to make your own custom pipeline!"
   ]
  },
  {
   "cell_type": "code",
   "execution_count": null,
   "metadata": {},
   "outputs": [],
   "source": [
    "# Feature Averager\n",
    "\n",
    "\n",
    "\n",
    "class FeatureAverager(TransformerMixin, BaseEstimator):\n",
    "    \n",
    "    def __init__(self):\n",
    "        pass\n",
    "    \n",
    "    def fit(self, X, y=None):\n",
    "        # Store what needs to be stored as instance attributes. Return \"self\" to allow chaining fit and transform.\n",
    "        pass  # YOUR CODE HERE\n",
    "    \n",
    "    def transform(self, X, y=None): \n",
    "        pass  # YOUR CODE HERE\n",
    "    "
   ]
  },
  {
   "cell_type": "markdown",
   "metadata": {},
   "source": [
    "Test you feature averager custom transformer by fitting on `X_train` and transfoming it"
   ]
  },
  {
   "cell_type": "code",
   "execution_count": null,
   "metadata": {},
   "outputs": [],
   "source": [
    "pass  # YOUR CODE HERE"
   ]
  },
  {
   "cell_type": "code",
   "execution_count": null,
   "metadata": {},
   "outputs": [],
   "source": [
    "from nbresult import ChallengeResult\n",
    "\n",
    "tmp = FeatureAverager()\n",
    "tmp_train = np.array(tmp.fit_transform(X_train))\n",
    "tmp_test = np.array(tmp.transform(X_test))\n",
    "\n",
    "result = ChallengeResult('feature_averager', \n",
    "                         X_train_transformed=tmp_train,\n",
    "                         X_test_transformed=tmp_test\n",
    ")\n",
    "\n",
    "result.write()\n",
    "print(result.check())"
   ]
  },
  {
   "cell_type": "markdown",
   "metadata": {},
   "source": [
    "Create a feature union named `pipe` using your custom standardizer and the feature averager created"
   ]
  },
  {
   "cell_type": "code",
   "execution_count": null,
   "metadata": {},
   "outputs": [],
   "source": [
    "pass  # YOUR CODE HERE"
   ]
  },
  {
   "cell_type": "markdown",
   "metadata": {},
   "source": [
    "Fit the `X_train` and `X_test` and transform them"
   ]
  },
  {
   "cell_type": "code",
   "execution_count": null,
   "metadata": {},
   "outputs": [],
   "source": [
    "# fit and transform X_train\n",
    "\n",
    "pass  # YOUR CODE HERE"
   ]
  },
  {
   "cell_type": "code",
   "execution_count": null,
   "metadata": {},
   "outputs": [],
   "source": [
    "# fit and transform X_test\n",
    "\n",
    "pass  # YOUR CODE HERE"
   ]
  },
  {
   "cell_type": "code",
   "execution_count": null,
   "metadata": {},
   "outputs": [],
   "source": [
    "from nbresult import ChallengeResult\n",
    "\n",
    "tmp = pipe\n",
    "tmp_train = np.array(tmp.fit_transform(X_train))\n",
    "tmp_test = np.array(tmp.transform(X_test))\n",
    "\n",
    "result = ChallengeResult('feature_union_custom_transformers', \n",
    "                         X_train_transformed=tmp_train,\n",
    "                         X_test_transformed=tmp_test\n",
    ")\n",
    "\n",
    "result.write()\n",
    "print(result.check())"
   ]
  },
  {
   "cell_type": "markdown",
   "metadata": {},
   "source": [
    "🏁 Congratulation! Don't forget to commit and push your notebooks"
   ]
  },
  {
   "cell_type": "code",
   "execution_count": null,
   "metadata": {},
   "outputs": [],
   "source": []
  }
 ],
 "metadata": {
  "kernelspec": {
   "display_name": "Python 3 (ipykernel)",
   "language": "python",
   "name": "python3"
  },
  "language_info": {
   "codemirror_mode": {
    "name": "ipython",
    "version": 3
   },
   "file_extension": ".py",
   "mimetype": "text/x-python",
   "name": "python",
   "nbconvert_exporter": "python",
   "pygments_lexer": "ipython3",
   "version": "3.9.8"
  },
  "toc": {
   "base_numbering": 1,
   "nav_menu": {},
   "number_sections": true,
   "sideBar": true,
   "skip_h1_title": false,
   "title_cell": "Table of Contents",
   "title_sidebar": "Contents",
   "toc_cell": false,
   "toc_position": {},
   "toc_section_display": true,
   "toc_window_display": false
  }
 },
 "nbformat": 4,
 "nbformat_minor": 4
}
