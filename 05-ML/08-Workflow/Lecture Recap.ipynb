{
 "cells": [
  {
   "cell_type": "markdown",
   "id": "16068402",
   "metadata": {},
   "source": [
    "**Today's challenge:**\n",
    "1. preprocessing<br>\n",
    "    1.1 impute missing values and scale numerical features<br>\n",
    "    1.2 encode categorical features<br>\n",
    "    1.3 other preprocesssing <br><br>\n",
    "    \n",
    "2. fine tune model and save "
   ]
  },
  {
   "cell_type": "markdown",
   "id": "1c2032b3",
   "metadata": {},
   "source": [
    "# Preprocessing pipelines"
   ]
  },
  {
   "cell_type": "code",
   "execution_count": 1,
   "id": "2a75551a",
   "metadata": {},
   "outputs": [],
   "source": [
    "# Import relevant libraries\n",
    "import pandas as pd\n",
    "import numpy as np\n"
   ]
  },
  {
   "cell_type": "code",
   "execution_count": 2,
   "id": "6e05261e",
   "metadata": {},
   "outputs": [
    {
     "data": {
      "text/html": [
       "<div>\n",
       "<style scoped>\n",
       "    .dataframe tbody tr th:only-of-type {\n",
       "        vertical-align: middle;\n",
       "    }\n",
       "\n",
       "    .dataframe tbody tr th {\n",
       "        vertical-align: top;\n",
       "    }\n",
       "\n",
       "    .dataframe thead th {\n",
       "        text-align: right;\n",
       "    }\n",
       "</style>\n",
       "<table border=\"1\" class=\"dataframe\">\n",
       "  <thead>\n",
       "    <tr style=\"text-align: right;\">\n",
       "      <th></th>\n",
       "      <th>age</th>\n",
       "      <th>bmi</th>\n",
       "      <th>children</th>\n",
       "      <th>smoker</th>\n",
       "      <th>region</th>\n",
       "      <th>charges</th>\n",
       "    </tr>\n",
       "  </thead>\n",
       "  <tbody>\n",
       "    <tr>\n",
       "      <th>0</th>\n",
       "      <td>19.0</td>\n",
       "      <td>27.900</td>\n",
       "      <td>0</td>\n",
       "      <td>True</td>\n",
       "      <td>southwest</td>\n",
       "      <td>16884.92400</td>\n",
       "    </tr>\n",
       "    <tr>\n",
       "      <th>1</th>\n",
       "      <td>18.0</td>\n",
       "      <td>33.770</td>\n",
       "      <td>1</td>\n",
       "      <td>False</td>\n",
       "      <td>southeast</td>\n",
       "      <td>1725.55230</td>\n",
       "    </tr>\n",
       "    <tr>\n",
       "      <th>2</th>\n",
       "      <td>NaN</td>\n",
       "      <td>33.000</td>\n",
       "      <td>3</td>\n",
       "      <td>False</td>\n",
       "      <td>southeast</td>\n",
       "      <td>4449.46200</td>\n",
       "    </tr>\n",
       "    <tr>\n",
       "      <th>3</th>\n",
       "      <td>33.0</td>\n",
       "      <td>22.705</td>\n",
       "      <td>0</td>\n",
       "      <td>False</td>\n",
       "      <td>northwest</td>\n",
       "      <td>21984.47061</td>\n",
       "    </tr>\n",
       "    <tr>\n",
       "      <th>4</th>\n",
       "      <td>32.0</td>\n",
       "      <td>28.880</td>\n",
       "      <td>0</td>\n",
       "      <td>False</td>\n",
       "      <td>northwest</td>\n",
       "      <td>3866.85520</td>\n",
       "    </tr>\n",
       "  </tbody>\n",
       "</table>\n",
       "</div>"
      ],
      "text/plain": [
       "    age     bmi  children  smoker     region      charges\n",
       "0  19.0  27.900         0    True  southwest  16884.92400\n",
       "1  18.0  33.770         1   False  southeast   1725.55230\n",
       "2   NaN  33.000         3   False  southeast   4449.46200\n",
       "3  33.0  22.705         0   False  northwest  21984.47061\n",
       "4  32.0  28.880         0   False  northwest   3866.85520"
      ]
     },
     "execution_count": 2,
     "metadata": {},
     "output_type": "execute_result"
    }
   ],
   "source": [
    "#Import the data\n",
    "data = pd.read_csv('data_workflow.csv')\n",
    "\n",
    "data.head(5)"
   ]
  },
  {
   "cell_type": "code",
   "execution_count": 3,
   "id": "291f4408",
   "metadata": {},
   "outputs": [],
   "source": [
    "# Create training and testing set\n",
    "X = data.drop(columns='charges')\n",
    "y = data['charges']\n",
    "\n",
    "X_train = X[:1100]\n",
    "y_train = y[:1100]\n",
    "X_test = X[1100:]\n",
    "y_test = y[1100:]"
   ]
  },
  {
   "cell_type": "code",
   "execution_count": 5,
   "id": "29f5e4ba",
   "metadata": {},
   "outputs": [
    {
     "data": {
      "text/plain": [
       "0       16884.92400\n",
       "1        1725.55230\n",
       "2        4449.46200\n",
       "3       21984.47061\n",
       "4        3866.85520\n",
       "           ...     \n",
       "1333    10600.54830\n",
       "1334     2205.98080\n",
       "1335     1629.83350\n",
       "1336     2007.94500\n",
       "1337    29141.36030\n",
       "Name: charges, Length: 1338, dtype: float64"
      ]
     },
     "execution_count": 5,
     "metadata": {},
     "output_type": "execute_result"
    }
   ],
   "source": [
    "y"
   ]
  },
  {
   "cell_type": "markdown",
   "id": "e0b1c344",
   "metadata": {},
   "source": [
    "\n",
    "\n"
   ]
  },
  {
   "cell_type": "markdown",
   "id": "4e46b870",
   "metadata": {},
   "source": [
    "## Impute missing values and scale numerical features"
   ]
  },
  {
   "cell_type": "code",
   "execution_count": 6,
   "id": "cceb2675",
   "metadata": {},
   "outputs": [
    {
     "data": {
      "text/plain": [
       "array([[-1.45565969],\n",
       "       [-1.52644066],\n",
       "       [ 0.        ],\n",
       "       ...,\n",
       "       [-1.24331678],\n",
       "       [ 0.88011225],\n",
       "       [-1.03097388]])"
      ]
     },
     "execution_count": 6,
     "metadata": {},
     "output_type": "execute_result"
    }
   ],
   "source": [
    "from sklearn.pipeline import Pipeline\n",
    "# Preprocess \"age\"\n",
    "from sklearn.pipeline import Pipeline\n",
    "from sklearn.impute import SimpleImputer\n",
    "from sklearn.preprocessing import StandardScaler\n",
    "\n",
    "pipe = Pipeline([\n",
    "    ('imputer', SimpleImputer()),\n",
    "    ('scaler', StandardScaler())\n",
    "])\n",
    "\n",
    "pipe.fit(X_train[['age']])\n",
    "pipe.transform(X_train[['age']])"
   ]
  },
  {
   "cell_type": "code",
   "execution_count": 9,
   "id": "45b702bb",
   "metadata": {},
   "outputs": [
    {
     "data": {
      "text/plain": [
       "SimpleImputer()"
      ]
     },
     "execution_count": 9,
     "metadata": {},
     "output_type": "execute_result"
    }
   ],
   "source": [
    "# access steps\n",
    "\n",
    "pipe[]\n",
    "pipe['imputer']"
   ]
  },
  {
   "cell_type": "code",
   "execution_count": 14,
   "id": "7b679398",
   "metadata": {},
   "outputs": [
    {
     "data": {
      "text/plain": [
       "SimpleImputer()"
      ]
     },
     "execution_count": 14,
     "metadata": {},
     "output_type": "execute_result"
    }
   ],
   "source": [
    "pipe[0]"
   ]
  },
  {
   "cell_type": "markdown",
   "id": "d6804eb2",
   "metadata": {},
   "source": [
    "## Encode categorical features"
   ]
  },
  {
   "cell_type": "code",
   "execution_count": 15,
   "id": "08422998",
   "metadata": {},
   "outputs": [],
   "source": [
    "from sklearn.preprocessing import OneHotEncoder\n",
    "from sklearn.compose import ColumnTransformer\n",
    "\n",
    "# Impute then Scale for numerical variables: \n",
    "num_transformer = Pipeline([\n",
    "    ('imputer', SimpleImputer()),\n",
    "    ('scaler', StandardScaler())])\n",
    "\n",
    "# Encode categorical variables\n",
    "cat_transformer = OneHotEncoder(handle_unknown='ignore')\n",
    "\n",
    "# cat_transformer = Pipeline([\n",
    "#     ('imputer', #Categorical),\n",
    "#     ('scaler', StandardScaler())])\n",
    "\n",
    "# Paralellize \"num_transformer\" and \"One hot encoder\"\n",
    "preprocessor = ColumnTransformer([\n",
    "    ('num_tr', num_transformer, ['age','bmi']),\n",
    "    ('cat_tr', cat_transformer, ['smoker', 'region'])])"
   ]
  },
  {
   "cell_type": "code",
   "execution_count": 16,
   "id": "bbc7654d",
   "metadata": {},
   "outputs": [
    {
     "data": {
      "text/html": [
       "<style>#sk-072ef35e-80e9-44b5-b568-abb62fa35c4a {color: black;background-color: white;}#sk-072ef35e-80e9-44b5-b568-abb62fa35c4a pre{padding: 0;}#sk-072ef35e-80e9-44b5-b568-abb62fa35c4a div.sk-toggleable {background-color: white;}#sk-072ef35e-80e9-44b5-b568-abb62fa35c4a label.sk-toggleable__label {cursor: pointer;display: block;width: 100%;margin-bottom: 0;padding: 0.3em;box-sizing: border-box;text-align: center;}#sk-072ef35e-80e9-44b5-b568-abb62fa35c4a label.sk-toggleable__label-arrow:before {content: \"▸\";float: left;margin-right: 0.25em;color: #696969;}#sk-072ef35e-80e9-44b5-b568-abb62fa35c4a label.sk-toggleable__label-arrow:hover:before {color: black;}#sk-072ef35e-80e9-44b5-b568-abb62fa35c4a div.sk-estimator:hover label.sk-toggleable__label-arrow:before {color: black;}#sk-072ef35e-80e9-44b5-b568-abb62fa35c4a div.sk-toggleable__content {max-height: 0;max-width: 0;overflow: hidden;text-align: left;background-color: #f0f8ff;}#sk-072ef35e-80e9-44b5-b568-abb62fa35c4a div.sk-toggleable__content pre {margin: 0.2em;color: black;border-radius: 0.25em;background-color: #f0f8ff;}#sk-072ef35e-80e9-44b5-b568-abb62fa35c4a input.sk-toggleable__control:checked~div.sk-toggleable__content {max-height: 200px;max-width: 100%;overflow: auto;}#sk-072ef35e-80e9-44b5-b568-abb62fa35c4a input.sk-toggleable__control:checked~label.sk-toggleable__label-arrow:before {content: \"▾\";}#sk-072ef35e-80e9-44b5-b568-abb62fa35c4a div.sk-estimator input.sk-toggleable__control:checked~label.sk-toggleable__label {background-color: #d4ebff;}#sk-072ef35e-80e9-44b5-b568-abb62fa35c4a div.sk-label input.sk-toggleable__control:checked~label.sk-toggleable__label {background-color: #d4ebff;}#sk-072ef35e-80e9-44b5-b568-abb62fa35c4a input.sk-hidden--visually {border: 0;clip: rect(1px 1px 1px 1px);clip: rect(1px, 1px, 1px, 1px);height: 1px;margin: -1px;overflow: hidden;padding: 0;position: absolute;width: 1px;}#sk-072ef35e-80e9-44b5-b568-abb62fa35c4a div.sk-estimator {font-family: monospace;background-color: #f0f8ff;border: 1px dotted black;border-radius: 0.25em;box-sizing: border-box;margin-bottom: 0.5em;}#sk-072ef35e-80e9-44b5-b568-abb62fa35c4a div.sk-estimator:hover {background-color: #d4ebff;}#sk-072ef35e-80e9-44b5-b568-abb62fa35c4a div.sk-parallel-item::after {content: \"\";width: 100%;border-bottom: 1px solid gray;flex-grow: 1;}#sk-072ef35e-80e9-44b5-b568-abb62fa35c4a div.sk-label:hover label.sk-toggleable__label {background-color: #d4ebff;}#sk-072ef35e-80e9-44b5-b568-abb62fa35c4a div.sk-serial::before {content: \"\";position: absolute;border-left: 1px solid gray;box-sizing: border-box;top: 2em;bottom: 0;left: 50%;}#sk-072ef35e-80e9-44b5-b568-abb62fa35c4a div.sk-serial {display: flex;flex-direction: column;align-items: center;background-color: white;padding-right: 0.2em;padding-left: 0.2em;}#sk-072ef35e-80e9-44b5-b568-abb62fa35c4a div.sk-item {z-index: 1;}#sk-072ef35e-80e9-44b5-b568-abb62fa35c4a div.sk-parallel {display: flex;align-items: stretch;justify-content: center;background-color: white;}#sk-072ef35e-80e9-44b5-b568-abb62fa35c4a div.sk-parallel::before {content: \"\";position: absolute;border-left: 1px solid gray;box-sizing: border-box;top: 2em;bottom: 0;left: 50%;}#sk-072ef35e-80e9-44b5-b568-abb62fa35c4a div.sk-parallel-item {display: flex;flex-direction: column;position: relative;background-color: white;}#sk-072ef35e-80e9-44b5-b568-abb62fa35c4a div.sk-parallel-item:first-child::after {align-self: flex-end;width: 50%;}#sk-072ef35e-80e9-44b5-b568-abb62fa35c4a div.sk-parallel-item:last-child::after {align-self: flex-start;width: 50%;}#sk-072ef35e-80e9-44b5-b568-abb62fa35c4a div.sk-parallel-item:only-child::after {width: 0;}#sk-072ef35e-80e9-44b5-b568-abb62fa35c4a div.sk-dashed-wrapped {border: 1px dashed gray;margin: 0 0.4em 0.5em 0.4em;box-sizing: border-box;padding-bottom: 0.4em;background-color: white;position: relative;}#sk-072ef35e-80e9-44b5-b568-abb62fa35c4a div.sk-label label {font-family: monospace;font-weight: bold;background-color: white;display: inline-block;line-height: 1.2em;}#sk-072ef35e-80e9-44b5-b568-abb62fa35c4a div.sk-label-container {position: relative;z-index: 2;text-align: center;}#sk-072ef35e-80e9-44b5-b568-abb62fa35c4a div.sk-container {/* jupyter's `normalize.less` sets `[hidden] { display: none; }` but bootstrap.min.css set `[hidden] { display: none !important; }` so we also need the `!important` here to be able to override the default hidden behavior on the sphinx rendered scikit-learn.org. See: https://github.com/scikit-learn/scikit-learn/issues/21755 */display: inline-block !important;position: relative;}#sk-072ef35e-80e9-44b5-b568-abb62fa35c4a div.sk-text-repr-fallback {display: none;}</style><div id=\"sk-072ef35e-80e9-44b5-b568-abb62fa35c4a\" class=\"sk-top-container\"><div class=\"sk-text-repr-fallback\"><pre>ColumnTransformer(transformers=[(&#x27;num_tr&#x27;,\n",
       "                                 Pipeline(steps=[(&#x27;imputer&#x27;, SimpleImputer()),\n",
       "                                                 (&#x27;scaler&#x27;, StandardScaler())]),\n",
       "                                 [&#x27;age&#x27;, &#x27;bmi&#x27;]),\n",
       "                                (&#x27;cat_tr&#x27;,\n",
       "                                 OneHotEncoder(handle_unknown=&#x27;ignore&#x27;),\n",
       "                                 [&#x27;smoker&#x27;, &#x27;region&#x27;])])</pre><b>Please rerun this cell to show the HTML repr or trust the notebook.</b></div><div class=\"sk-container\" hidden><div class=\"sk-item sk-dashed-wrapped\"><div class=\"sk-label-container\"><div class=\"sk-label sk-toggleable\"><input class=\"sk-toggleable__control sk-hidden--visually\" id=\"633a6c5b-745d-4da0-9450-bc6cee9bcbff\" type=\"checkbox\" ><label for=\"633a6c5b-745d-4da0-9450-bc6cee9bcbff\" class=\"sk-toggleable__label sk-toggleable__label-arrow\">ColumnTransformer</label><div class=\"sk-toggleable__content\"><pre>ColumnTransformer(transformers=[(&#x27;num_tr&#x27;,\n",
       "                                 Pipeline(steps=[(&#x27;imputer&#x27;, SimpleImputer()),\n",
       "                                                 (&#x27;scaler&#x27;, StandardScaler())]),\n",
       "                                 [&#x27;age&#x27;, &#x27;bmi&#x27;]),\n",
       "                                (&#x27;cat_tr&#x27;,\n",
       "                                 OneHotEncoder(handle_unknown=&#x27;ignore&#x27;),\n",
       "                                 [&#x27;smoker&#x27;, &#x27;region&#x27;])])</pre></div></div></div><div class=\"sk-parallel\"><div class=\"sk-parallel-item\"><div class=\"sk-item\"><div class=\"sk-label-container\"><div class=\"sk-label sk-toggleable\"><input class=\"sk-toggleable__control sk-hidden--visually\" id=\"d9d29f96-8078-48dd-8f41-3a4b6a0ac457\" type=\"checkbox\" ><label for=\"d9d29f96-8078-48dd-8f41-3a4b6a0ac457\" class=\"sk-toggleable__label sk-toggleable__label-arrow\">num_tr</label><div class=\"sk-toggleable__content\"><pre>[&#x27;age&#x27;, &#x27;bmi&#x27;]</pre></div></div></div><div class=\"sk-serial\"><div class=\"sk-item\"><div class=\"sk-serial\"><div class=\"sk-item\"><div class=\"sk-estimator sk-toggleable\"><input class=\"sk-toggleable__control sk-hidden--visually\" id=\"425b2184-f468-4449-9f3a-1e00fa8e6459\" type=\"checkbox\" ><label for=\"425b2184-f468-4449-9f3a-1e00fa8e6459\" class=\"sk-toggleable__label sk-toggleable__label-arrow\">SimpleImputer</label><div class=\"sk-toggleable__content\"><pre>SimpleImputer()</pre></div></div></div><div class=\"sk-item\"><div class=\"sk-estimator sk-toggleable\"><input class=\"sk-toggleable__control sk-hidden--visually\" id=\"115c28a2-884e-42db-b27a-5939dd3a19a0\" type=\"checkbox\" ><label for=\"115c28a2-884e-42db-b27a-5939dd3a19a0\" class=\"sk-toggleable__label sk-toggleable__label-arrow\">StandardScaler</label><div class=\"sk-toggleable__content\"><pre>StandardScaler()</pre></div></div></div></div></div></div></div></div><div class=\"sk-parallel-item\"><div class=\"sk-item\"><div class=\"sk-label-container\"><div class=\"sk-label sk-toggleable\"><input class=\"sk-toggleable__control sk-hidden--visually\" id=\"2292bad9-4f1e-4134-9761-4f9fcf88b971\" type=\"checkbox\" ><label for=\"2292bad9-4f1e-4134-9761-4f9fcf88b971\" class=\"sk-toggleable__label sk-toggleable__label-arrow\">cat_tr</label><div class=\"sk-toggleable__content\"><pre>[&#x27;smoker&#x27;, &#x27;region&#x27;]</pre></div></div></div><div class=\"sk-serial\"><div class=\"sk-item\"><div class=\"sk-estimator sk-toggleable\"><input class=\"sk-toggleable__control sk-hidden--visually\" id=\"07f78c19-9ce4-4b29-9abe-aae37c680106\" type=\"checkbox\" ><label for=\"07f78c19-9ce4-4b29-9abe-aae37c680106\" class=\"sk-toggleable__label sk-toggleable__label-arrow\">OneHotEncoder</label><div class=\"sk-toggleable__content\"><pre>OneHotEncoder(handle_unknown=&#x27;ignore&#x27;)</pre></div></div></div></div></div></div></div></div></div></div>"
      ],
      "text/plain": [
       "ColumnTransformer(transformers=[('num_tr',\n",
       "                                 Pipeline(steps=[('imputer', SimpleImputer()),\n",
       "                                                 ('scaler', StandardScaler())]),\n",
       "                                 ['age', 'bmi']),\n",
       "                                ('cat_tr',\n",
       "                                 OneHotEncoder(handle_unknown='ignore'),\n",
       "                                 ['smoker', 'region'])])"
      ]
     },
     "execution_count": 16,
     "metadata": {},
     "output_type": "execute_result"
    }
   ],
   "source": [
    " # visualizing pipelines in HTML\n",
    "from sklearn import set_config; set_config(display='diagram')\n",
    "preprocessor"
   ]
  },
  {
   "cell_type": "code",
   "execution_count": null,
   "id": "5c422a30",
   "metadata": {},
   "outputs": [],
   "source": [
    "#How many columns do we expect to see?\n"
   ]
  },
  {
   "cell_type": "code",
   "execution_count": 17,
   "id": "6ee0c453",
   "metadata": {},
   "outputs": [
    {
     "data": {
      "text/html": [
       "<div>\n",
       "<style scoped>\n",
       "    .dataframe tbody tr th:only-of-type {\n",
       "        vertical-align: middle;\n",
       "    }\n",
       "\n",
       "    .dataframe tbody tr th {\n",
       "        vertical-align: top;\n",
       "    }\n",
       "\n",
       "    .dataframe thead th {\n",
       "        text-align: right;\n",
       "    }\n",
       "</style>\n",
       "<table border=\"1\" class=\"dataframe\">\n",
       "  <thead>\n",
       "    <tr style=\"text-align: right;\">\n",
       "      <th></th>\n",
       "      <th>age</th>\n",
       "      <th>bmi</th>\n",
       "      <th>children</th>\n",
       "      <th>smoker</th>\n",
       "      <th>region</th>\n",
       "    </tr>\n",
       "  </thead>\n",
       "  <tbody>\n",
       "    <tr>\n",
       "      <th>0</th>\n",
       "      <td>19.0</td>\n",
       "      <td>27.90</td>\n",
       "      <td>0</td>\n",
       "      <td>True</td>\n",
       "      <td>southwest</td>\n",
       "    </tr>\n",
       "    <tr>\n",
       "      <th>1</th>\n",
       "      <td>18.0</td>\n",
       "      <td>33.77</td>\n",
       "      <td>1</td>\n",
       "      <td>False</td>\n",
       "      <td>southeast</td>\n",
       "    </tr>\n",
       "    <tr>\n",
       "      <th>2</th>\n",
       "      <td>NaN</td>\n",
       "      <td>33.00</td>\n",
       "      <td>3</td>\n",
       "      <td>False</td>\n",
       "      <td>southeast</td>\n",
       "    </tr>\n",
       "  </tbody>\n",
       "</table>\n",
       "</div>"
      ],
      "text/plain": [
       "    age    bmi  children  smoker     region\n",
       "0  19.0  27.90         0    True  southwest\n",
       "1  18.0  33.77         1   False  southeast\n",
       "2   NaN  33.00         3   False  southeast"
      ]
     },
     "metadata": {},
     "output_type": "display_data"
    },
    {
     "data": {
      "text/html": [
       "<div>\n",
       "<style scoped>\n",
       "    .dataframe tbody tr th:only-of-type {\n",
       "        vertical-align: middle;\n",
       "    }\n",
       "\n",
       "    .dataframe tbody tr th {\n",
       "        vertical-align: top;\n",
       "    }\n",
       "\n",
       "    .dataframe thead th {\n",
       "        text-align: right;\n",
       "    }\n",
       "</style>\n",
       "<table border=\"1\" class=\"dataframe\">\n",
       "  <thead>\n",
       "    <tr style=\"text-align: right;\">\n",
       "      <th></th>\n",
       "      <th>0</th>\n",
       "      <th>1</th>\n",
       "      <th>2</th>\n",
       "      <th>3</th>\n",
       "      <th>4</th>\n",
       "      <th>5</th>\n",
       "      <th>6</th>\n",
       "      <th>7</th>\n",
       "    </tr>\n",
       "  </thead>\n",
       "  <tbody>\n",
       "    <tr>\n",
       "      <th>0</th>\n",
       "      <td>-1.455660</td>\n",
       "      <td>-0.479092</td>\n",
       "      <td>0.0</td>\n",
       "      <td>1.0</td>\n",
       "      <td>0.0</td>\n",
       "      <td>0.0</td>\n",
       "      <td>0.0</td>\n",
       "      <td>1.0</td>\n",
       "    </tr>\n",
       "    <tr>\n",
       "      <th>1</th>\n",
       "      <td>-1.526441</td>\n",
       "      <td>0.492337</td>\n",
       "      <td>1.0</td>\n",
       "      <td>0.0</td>\n",
       "      <td>0.0</td>\n",
       "      <td>0.0</td>\n",
       "      <td>1.0</td>\n",
       "      <td>0.0</td>\n",
       "    </tr>\n",
       "    <tr>\n",
       "      <th>2</th>\n",
       "      <td>0.000000</td>\n",
       "      <td>0.364910</td>\n",
       "      <td>1.0</td>\n",
       "      <td>0.0</td>\n",
       "      <td>0.0</td>\n",
       "      <td>0.0</td>\n",
       "      <td>1.0</td>\n",
       "      <td>0.0</td>\n",
       "    </tr>\n",
       "  </tbody>\n",
       "</table>\n",
       "</div>"
      ],
      "text/plain": [
       "          0         1    2    3    4    5    6    7\n",
       "0 -1.455660 -0.479092  0.0  1.0  0.0  0.0  0.0  1.0\n",
       "1 -1.526441  0.492337  1.0  0.0  0.0  0.0  1.0  0.0\n",
       "2  0.000000  0.364910  1.0  0.0  0.0  0.0  1.0  0.0"
      ]
     },
     "metadata": {},
     "output_type": "display_data"
    }
   ],
   "source": [
    "X_train_transformed = preprocessor.fit_transform(X_train)\n",
    "\n",
    "display(X_train.head(3))\n",
    "display(pd.DataFrame(X_train_transformed).head(3))"
   ]
  },
  {
   "cell_type": "code",
   "execution_count": 18,
   "id": "bfc7c867",
   "metadata": {},
   "outputs": [],
   "source": [
    "#Where are the column names?\n",
    "\n",
    "# This should be fixed in Scikit-Learn 1.0.2: all transformers will have this method.\n",
    "# SimpleImputer does not have a get_feature_names_out, so we need to add it manually.\n",
    "SimpleImputer.get_feature_names_out = (lambda self, names=None: self.feature_names_in_)"
   ]
  },
  {
   "cell_type": "code",
   "execution_count": 19,
   "id": "02f69b0b",
   "metadata": {},
   "outputs": [
    {
     "data": {
      "text/plain": [
       "array(['num_tr__age', 'num_tr__bmi', 'cat_tr__smoker_False',\n",
       "       'cat_tr__smoker_True', 'cat_tr__region_northeast',\n",
       "       'cat_tr__region_northwest', 'cat_tr__region_southeast',\n",
       "       'cat_tr__region_southwest'], dtype=object)"
      ]
     },
     "execution_count": 19,
     "metadata": {},
     "output_type": "execute_result"
    }
   ],
   "source": [
    "# Get your feature\n",
    "preprocessor.get_feature_names_out()"
   ]
  },
  {
   "cell_type": "code",
   "execution_count": 20,
   "id": "433eff88",
   "metadata": {},
   "outputs": [
    {
     "data": {
      "text/html": [
       "<div>\n",
       "<style scoped>\n",
       "    .dataframe tbody tr th:only-of-type {\n",
       "        vertical-align: middle;\n",
       "    }\n",
       "\n",
       "    .dataframe tbody tr th {\n",
       "        vertical-align: top;\n",
       "    }\n",
       "\n",
       "    .dataframe thead th {\n",
       "        text-align: right;\n",
       "    }\n",
       "</style>\n",
       "<table border=\"1\" class=\"dataframe\">\n",
       "  <thead>\n",
       "    <tr style=\"text-align: right;\">\n",
       "      <th></th>\n",
       "      <th>num_tr__age</th>\n",
       "      <th>num_tr__bmi</th>\n",
       "      <th>cat_tr__smoker_False</th>\n",
       "      <th>cat_tr__smoker_True</th>\n",
       "      <th>cat_tr__region_northeast</th>\n",
       "      <th>cat_tr__region_northwest</th>\n",
       "      <th>cat_tr__region_southeast</th>\n",
       "      <th>cat_tr__region_southwest</th>\n",
       "    </tr>\n",
       "  </thead>\n",
       "  <tbody>\n",
       "    <tr>\n",
       "      <th>0</th>\n",
       "      <td>-1.455660</td>\n",
       "      <td>-0.479092</td>\n",
       "      <td>0.0</td>\n",
       "      <td>1.0</td>\n",
       "      <td>0.0</td>\n",
       "      <td>0.0</td>\n",
       "      <td>0.0</td>\n",
       "      <td>1.0</td>\n",
       "    </tr>\n",
       "    <tr>\n",
       "      <th>1</th>\n",
       "      <td>-1.526441</td>\n",
       "      <td>0.492337</td>\n",
       "      <td>1.0</td>\n",
       "      <td>0.0</td>\n",
       "      <td>0.0</td>\n",
       "      <td>0.0</td>\n",
       "      <td>1.0</td>\n",
       "      <td>0.0</td>\n",
       "    </tr>\n",
       "    <tr>\n",
       "      <th>2</th>\n",
       "      <td>0.000000</td>\n",
       "      <td>0.364910</td>\n",
       "      <td>1.0</td>\n",
       "      <td>0.0</td>\n",
       "      <td>0.0</td>\n",
       "      <td>0.0</td>\n",
       "      <td>1.0</td>\n",
       "      <td>0.0</td>\n",
       "    </tr>\n",
       "    <tr>\n",
       "      <th>3</th>\n",
       "      <td>-0.464726</td>\n",
       "      <td>-1.338815</td>\n",
       "      <td>1.0</td>\n",
       "      <td>0.0</td>\n",
       "      <td>0.0</td>\n",
       "      <td>1.0</td>\n",
       "      <td>0.0</td>\n",
       "      <td>0.0</td>\n",
       "    </tr>\n",
       "    <tr>\n",
       "      <th>4</th>\n",
       "      <td>-0.535507</td>\n",
       "      <td>-0.316911</td>\n",
       "      <td>1.0</td>\n",
       "      <td>0.0</td>\n",
       "      <td>0.0</td>\n",
       "      <td>1.0</td>\n",
       "      <td>0.0</td>\n",
       "      <td>0.0</td>\n",
       "    </tr>\n",
       "  </tbody>\n",
       "</table>\n",
       "</div>"
      ],
      "text/plain": [
       "   num_tr__age  num_tr__bmi  cat_tr__smoker_False  cat_tr__smoker_True  \\\n",
       "0    -1.455660    -0.479092                   0.0                  1.0   \n",
       "1    -1.526441     0.492337                   1.0                  0.0   \n",
       "2     0.000000     0.364910                   1.0                  0.0   \n",
       "3    -0.464726    -1.338815                   1.0                  0.0   \n",
       "4    -0.535507    -0.316911                   1.0                  0.0   \n",
       "\n",
       "   cat_tr__region_northeast  cat_tr__region_northwest  \\\n",
       "0                       0.0                       0.0   \n",
       "1                       0.0                       0.0   \n",
       "2                       0.0                       0.0   \n",
       "3                       0.0                       1.0   \n",
       "4                       0.0                       1.0   \n",
       "\n",
       "   cat_tr__region_southeast  cat_tr__region_southwest  \n",
       "0                       0.0                       1.0  \n",
       "1                       1.0                       0.0  \n",
       "2                       1.0                       0.0  \n",
       "3                       0.0                       0.0  \n",
       "4                       0.0                       0.0  "
      ]
     },
     "execution_count": 20,
     "metadata": {},
     "output_type": "execute_result"
    }
   ],
   "source": [
    "pd.DataFrame(X_train_transformed, \n",
    "             columns=preprocessor.get_feature_names_out()\n",
    "            ).head()"
   ]
  },
  {
   "cell_type": "code",
   "execution_count": 21,
   "id": "b64c0c9c",
   "metadata": {},
   "outputs": [
    {
     "data": {
      "text/html": [
       "<style>#sk-eb695e99-6df8-4eee-805e-24d90c36be24 {color: black;background-color: white;}#sk-eb695e99-6df8-4eee-805e-24d90c36be24 pre{padding: 0;}#sk-eb695e99-6df8-4eee-805e-24d90c36be24 div.sk-toggleable {background-color: white;}#sk-eb695e99-6df8-4eee-805e-24d90c36be24 label.sk-toggleable__label {cursor: pointer;display: block;width: 100%;margin-bottom: 0;padding: 0.3em;box-sizing: border-box;text-align: center;}#sk-eb695e99-6df8-4eee-805e-24d90c36be24 label.sk-toggleable__label-arrow:before {content: \"▸\";float: left;margin-right: 0.25em;color: #696969;}#sk-eb695e99-6df8-4eee-805e-24d90c36be24 label.sk-toggleable__label-arrow:hover:before {color: black;}#sk-eb695e99-6df8-4eee-805e-24d90c36be24 div.sk-estimator:hover label.sk-toggleable__label-arrow:before {color: black;}#sk-eb695e99-6df8-4eee-805e-24d90c36be24 div.sk-toggleable__content {max-height: 0;max-width: 0;overflow: hidden;text-align: left;background-color: #f0f8ff;}#sk-eb695e99-6df8-4eee-805e-24d90c36be24 div.sk-toggleable__content pre {margin: 0.2em;color: black;border-radius: 0.25em;background-color: #f0f8ff;}#sk-eb695e99-6df8-4eee-805e-24d90c36be24 input.sk-toggleable__control:checked~div.sk-toggleable__content {max-height: 200px;max-width: 100%;overflow: auto;}#sk-eb695e99-6df8-4eee-805e-24d90c36be24 input.sk-toggleable__control:checked~label.sk-toggleable__label-arrow:before {content: \"▾\";}#sk-eb695e99-6df8-4eee-805e-24d90c36be24 div.sk-estimator input.sk-toggleable__control:checked~label.sk-toggleable__label {background-color: #d4ebff;}#sk-eb695e99-6df8-4eee-805e-24d90c36be24 div.sk-label input.sk-toggleable__control:checked~label.sk-toggleable__label {background-color: #d4ebff;}#sk-eb695e99-6df8-4eee-805e-24d90c36be24 input.sk-hidden--visually {border: 0;clip: rect(1px 1px 1px 1px);clip: rect(1px, 1px, 1px, 1px);height: 1px;margin: -1px;overflow: hidden;padding: 0;position: absolute;width: 1px;}#sk-eb695e99-6df8-4eee-805e-24d90c36be24 div.sk-estimator {font-family: monospace;background-color: #f0f8ff;border: 1px dotted black;border-radius: 0.25em;box-sizing: border-box;margin-bottom: 0.5em;}#sk-eb695e99-6df8-4eee-805e-24d90c36be24 div.sk-estimator:hover {background-color: #d4ebff;}#sk-eb695e99-6df8-4eee-805e-24d90c36be24 div.sk-parallel-item::after {content: \"\";width: 100%;border-bottom: 1px solid gray;flex-grow: 1;}#sk-eb695e99-6df8-4eee-805e-24d90c36be24 div.sk-label:hover label.sk-toggleable__label {background-color: #d4ebff;}#sk-eb695e99-6df8-4eee-805e-24d90c36be24 div.sk-serial::before {content: \"\";position: absolute;border-left: 1px solid gray;box-sizing: border-box;top: 2em;bottom: 0;left: 50%;}#sk-eb695e99-6df8-4eee-805e-24d90c36be24 div.sk-serial {display: flex;flex-direction: column;align-items: center;background-color: white;padding-right: 0.2em;padding-left: 0.2em;}#sk-eb695e99-6df8-4eee-805e-24d90c36be24 div.sk-item {z-index: 1;}#sk-eb695e99-6df8-4eee-805e-24d90c36be24 div.sk-parallel {display: flex;align-items: stretch;justify-content: center;background-color: white;}#sk-eb695e99-6df8-4eee-805e-24d90c36be24 div.sk-parallel::before {content: \"\";position: absolute;border-left: 1px solid gray;box-sizing: border-box;top: 2em;bottom: 0;left: 50%;}#sk-eb695e99-6df8-4eee-805e-24d90c36be24 div.sk-parallel-item {display: flex;flex-direction: column;position: relative;background-color: white;}#sk-eb695e99-6df8-4eee-805e-24d90c36be24 div.sk-parallel-item:first-child::after {align-self: flex-end;width: 50%;}#sk-eb695e99-6df8-4eee-805e-24d90c36be24 div.sk-parallel-item:last-child::after {align-self: flex-start;width: 50%;}#sk-eb695e99-6df8-4eee-805e-24d90c36be24 div.sk-parallel-item:only-child::after {width: 0;}#sk-eb695e99-6df8-4eee-805e-24d90c36be24 div.sk-dashed-wrapped {border: 1px dashed gray;margin: 0 0.4em 0.5em 0.4em;box-sizing: border-box;padding-bottom: 0.4em;background-color: white;position: relative;}#sk-eb695e99-6df8-4eee-805e-24d90c36be24 div.sk-label label {font-family: monospace;font-weight: bold;background-color: white;display: inline-block;line-height: 1.2em;}#sk-eb695e99-6df8-4eee-805e-24d90c36be24 div.sk-label-container {position: relative;z-index: 2;text-align: center;}#sk-eb695e99-6df8-4eee-805e-24d90c36be24 div.sk-container {/* jupyter's `normalize.less` sets `[hidden] { display: none; }` but bootstrap.min.css set `[hidden] { display: none !important; }` so we also need the `!important` here to be able to override the default hidden behavior on the sphinx rendered scikit-learn.org. See: https://github.com/scikit-learn/scikit-learn/issues/21755 */display: inline-block !important;position: relative;}#sk-eb695e99-6df8-4eee-805e-24d90c36be24 div.sk-text-repr-fallback {display: none;}</style><div id=\"sk-eb695e99-6df8-4eee-805e-24d90c36be24\" class=\"sk-top-container\"><div class=\"sk-text-repr-fallback\"><pre>ColumnTransformer(remainder=&#x27;passthrough&#x27;,\n",
       "                  transformers=[(&#x27;num_tr&#x27;,\n",
       "                                 Pipeline(steps=[(&#x27;imputer&#x27;, SimpleImputer()),\n",
       "                                                 (&#x27;scaler&#x27;, StandardScaler())]),\n",
       "                                 [&#x27;age&#x27;, &#x27;bmi&#x27;]),\n",
       "                                (&#x27;cat_tr&#x27;,\n",
       "                                 OneHotEncoder(handle_unknown=&#x27;ignore&#x27;),\n",
       "                                 [&#x27;region&#x27;, &#x27;smoker&#x27;])])</pre><b>Please rerun this cell to show the HTML repr or trust the notebook.</b></div><div class=\"sk-container\" hidden><div class=\"sk-item sk-dashed-wrapped\"><div class=\"sk-label-container\"><div class=\"sk-label sk-toggleable\"><input class=\"sk-toggleable__control sk-hidden--visually\" id=\"4d29a359-4cea-4f50-9307-74bceb8e652c\" type=\"checkbox\" ><label for=\"4d29a359-4cea-4f50-9307-74bceb8e652c\" class=\"sk-toggleable__label sk-toggleable__label-arrow\">ColumnTransformer</label><div class=\"sk-toggleable__content\"><pre>ColumnTransformer(remainder=&#x27;passthrough&#x27;,\n",
       "                  transformers=[(&#x27;num_tr&#x27;,\n",
       "                                 Pipeline(steps=[(&#x27;imputer&#x27;, SimpleImputer()),\n",
       "                                                 (&#x27;scaler&#x27;, StandardScaler())]),\n",
       "                                 [&#x27;age&#x27;, &#x27;bmi&#x27;]),\n",
       "                                (&#x27;cat_tr&#x27;,\n",
       "                                 OneHotEncoder(handle_unknown=&#x27;ignore&#x27;),\n",
       "                                 [&#x27;region&#x27;, &#x27;smoker&#x27;])])</pre></div></div></div><div class=\"sk-parallel\"><div class=\"sk-parallel-item\"><div class=\"sk-item\"><div class=\"sk-label-container\"><div class=\"sk-label sk-toggleable\"><input class=\"sk-toggleable__control sk-hidden--visually\" id=\"8dae0ab7-78e1-4790-9b02-9cff4d9568cf\" type=\"checkbox\" ><label for=\"8dae0ab7-78e1-4790-9b02-9cff4d9568cf\" class=\"sk-toggleable__label sk-toggleable__label-arrow\">num_tr</label><div class=\"sk-toggleable__content\"><pre>[&#x27;age&#x27;, &#x27;bmi&#x27;]</pre></div></div></div><div class=\"sk-serial\"><div class=\"sk-item\"><div class=\"sk-serial\"><div class=\"sk-item\"><div class=\"sk-estimator sk-toggleable\"><input class=\"sk-toggleable__control sk-hidden--visually\" id=\"bfb0a99e-25fe-4569-9af1-5a6f757fe846\" type=\"checkbox\" ><label for=\"bfb0a99e-25fe-4569-9af1-5a6f757fe846\" class=\"sk-toggleable__label sk-toggleable__label-arrow\">SimpleImputer</label><div class=\"sk-toggleable__content\"><pre>SimpleImputer()</pre></div></div></div><div class=\"sk-item\"><div class=\"sk-estimator sk-toggleable\"><input class=\"sk-toggleable__control sk-hidden--visually\" id=\"f3519bbb-ffb6-4d76-9c8d-986adbc6bd62\" type=\"checkbox\" ><label for=\"f3519bbb-ffb6-4d76-9c8d-986adbc6bd62\" class=\"sk-toggleable__label sk-toggleable__label-arrow\">StandardScaler</label><div class=\"sk-toggleable__content\"><pre>StandardScaler()</pre></div></div></div></div></div></div></div></div><div class=\"sk-parallel-item\"><div class=\"sk-item\"><div class=\"sk-label-container\"><div class=\"sk-label sk-toggleable\"><input class=\"sk-toggleable__control sk-hidden--visually\" id=\"14532bec-e731-4eb4-81cb-18cd7dbdc818\" type=\"checkbox\" ><label for=\"14532bec-e731-4eb4-81cb-18cd7dbdc818\" class=\"sk-toggleable__label sk-toggleable__label-arrow\">cat_tr</label><div class=\"sk-toggleable__content\"><pre>[&#x27;region&#x27;, &#x27;smoker&#x27;]</pre></div></div></div><div class=\"sk-serial\"><div class=\"sk-item\"><div class=\"sk-estimator sk-toggleable\"><input class=\"sk-toggleable__control sk-hidden--visually\" id=\"dcf10328-c3c3-41dc-8550-570f68116cff\" type=\"checkbox\" ><label for=\"dcf10328-c3c3-41dc-8550-570f68116cff\" class=\"sk-toggleable__label sk-toggleable__label-arrow\">OneHotEncoder</label><div class=\"sk-toggleable__content\"><pre>OneHotEncoder(handle_unknown=&#x27;ignore&#x27;)</pre></div></div></div></div></div></div><div class=\"sk-parallel-item\"><div class=\"sk-item\"><div class=\"sk-label-container\"><div class=\"sk-label sk-toggleable\"><input class=\"sk-toggleable__control sk-hidden--visually\" id=\"a4c16cb0-5013-4736-baa0-75fa3a341c0b\" type=\"checkbox\" ><label for=\"a4c16cb0-5013-4736-baa0-75fa3a341c0b\" class=\"sk-toggleable__label sk-toggleable__label-arrow\">remainder</label><div class=\"sk-toggleable__content\"><pre></pre></div></div></div><div class=\"sk-serial\"><div class=\"sk-item\"><div class=\"sk-estimator sk-toggleable\"><input class=\"sk-toggleable__control sk-hidden--visually\" id=\"c00a321b-8068-4fd9-9152-3e8421ea4efb\" type=\"checkbox\" ><label for=\"c00a321b-8068-4fd9-9152-3e8421ea4efb\" class=\"sk-toggleable__label sk-toggleable__label-arrow\">passthrough</label><div class=\"sk-toggleable__content\"><pre>passthrough</pre></div></div></div></div></div></div></div></div></div></div>"
      ],
      "text/plain": [
       "ColumnTransformer(remainder='passthrough',\n",
       "                  transformers=[('num_tr',\n",
       "                                 Pipeline(steps=[('imputer', SimpleImputer()),\n",
       "                                                 ('scaler', StandardScaler())]),\n",
       "                                 ['age', 'bmi']),\n",
       "                                ('cat_tr',\n",
       "                                 OneHotEncoder(handle_unknown='ignore'),\n",
       "                                 ['region', 'smoker'])])"
      ]
     },
     "execution_count": 21,
     "metadata": {},
     "output_type": "execute_result"
    }
   ],
   "source": [
    "preprocessor = ColumnTransformer([\n",
    "    ('num_tr', num_transformer, ['age','bmi']),\n",
    "    ('cat_tr', cat_transformer, ['region','smoker'])],\n",
    "    remainder='passthrough')\n",
    "preprocessor"
   ]
  },
  {
   "cell_type": "code",
   "execution_count": 22,
   "id": "5fc2c0b1",
   "metadata": {},
   "outputs": [
    {
     "data": {
      "text/html": [
       "<div>\n",
       "<style scoped>\n",
       "    .dataframe tbody tr th:only-of-type {\n",
       "        vertical-align: middle;\n",
       "    }\n",
       "\n",
       "    .dataframe tbody tr th {\n",
       "        vertical-align: top;\n",
       "    }\n",
       "\n",
       "    .dataframe thead th {\n",
       "        text-align: right;\n",
       "    }\n",
       "</style>\n",
       "<table border=\"1\" class=\"dataframe\">\n",
       "  <thead>\n",
       "    <tr style=\"text-align: right;\">\n",
       "      <th></th>\n",
       "      <th>0</th>\n",
       "      <th>1</th>\n",
       "      <th>2</th>\n",
       "      <th>3</th>\n",
       "      <th>4</th>\n",
       "      <th>5</th>\n",
       "      <th>6</th>\n",
       "      <th>7</th>\n",
       "      <th>8</th>\n",
       "    </tr>\n",
       "  </thead>\n",
       "  <tbody>\n",
       "    <tr>\n",
       "      <th>0</th>\n",
       "      <td>-1.455660</td>\n",
       "      <td>-0.479092</td>\n",
       "      <td>0.0</td>\n",
       "      <td>0.0</td>\n",
       "      <td>0.0</td>\n",
       "      <td>1.0</td>\n",
       "      <td>0.0</td>\n",
       "      <td>1.0</td>\n",
       "      <td>0.0</td>\n",
       "    </tr>\n",
       "    <tr>\n",
       "      <th>1</th>\n",
       "      <td>-1.526441</td>\n",
       "      <td>0.492337</td>\n",
       "      <td>0.0</td>\n",
       "      <td>0.0</td>\n",
       "      <td>1.0</td>\n",
       "      <td>0.0</td>\n",
       "      <td>1.0</td>\n",
       "      <td>0.0</td>\n",
       "      <td>1.0</td>\n",
       "    </tr>\n",
       "    <tr>\n",
       "      <th>2</th>\n",
       "      <td>0.000000</td>\n",
       "      <td>0.364910</td>\n",
       "      <td>0.0</td>\n",
       "      <td>0.0</td>\n",
       "      <td>1.0</td>\n",
       "      <td>0.0</td>\n",
       "      <td>1.0</td>\n",
       "      <td>0.0</td>\n",
       "      <td>3.0</td>\n",
       "    </tr>\n",
       "  </tbody>\n",
       "</table>\n",
       "</div>"
      ],
      "text/plain": [
       "          0         1    2    3    4    5    6    7    8\n",
       "0 -1.455660 -0.479092  0.0  0.0  0.0  1.0  0.0  1.0  0.0\n",
       "1 -1.526441  0.492337  0.0  0.0  1.0  0.0  1.0  0.0  1.0\n",
       "2  0.000000  0.364910  0.0  0.0  1.0  0.0  1.0  0.0  3.0"
      ]
     },
     "execution_count": 22,
     "metadata": {},
     "output_type": "execute_result"
    }
   ],
   "source": [
    "pd.DataFrame(preprocessor.fit_transform(X_train)).head(3)"
   ]
  },
  {
   "cell_type": "code",
   "execution_count": 23,
   "id": "472b4770",
   "metadata": {},
   "outputs": [
    {
     "data": {
      "text/plain": [
       "array(['num_tr__age', 'num_tr__bmi', 'cat_tr__region_northeast',\n",
       "       'cat_tr__region_northwest', 'cat_tr__region_southeast',\n",
       "       'cat_tr__region_southwest', 'cat_tr__smoker_False',\n",
       "       'cat_tr__smoker_True', 'remainder__children'], dtype=object)"
      ]
     },
     "execution_count": 23,
     "metadata": {},
     "output_type": "execute_result"
    }
   ],
   "source": [
    "# # Get your feature\n",
    "preprocessor.get_feature_names_out()"
   ]
  },
  {
   "cell_type": "markdown",
   "id": "5ffcef67",
   "metadata": {},
   "source": [
    "## Other preprocessing"
   ]
  },
  {
   "cell_type": "markdown",
   "id": "5baa3f79",
   "metadata": {},
   "source": [
    "### Custom: Function Transformer"
   ]
  },
  {
   "cell_type": "code",
   "execution_count": 24,
   "id": "f69a4105",
   "metadata": {},
   "outputs": [],
   "source": [
    "from sklearn.preprocessing import FunctionTransformer\n",
    "\n",
    "# Create a transformer that compresses data to 2 digits (for instance!)\n",
    "rounder = FunctionTransformer(np.round)\n",
    "rounder = FunctionTransformer(lambda array: np.round(array, decimals=2))"
   ]
  },
  {
   "cell_type": "markdown",
   "id": "8c55928d",
   "metadata": {},
   "source": [
    "**Reminder of lambda function**"
   ]
  },
  {
   "cell_type": "code",
   "execution_count": 25,
   "id": "876dd8bd",
   "metadata": {},
   "outputs": [
    {
     "name": "stdout",
     "output_type": "stream",
     "text": [
      "15\n"
     ]
    }
   ],
   "source": [
    "# #lambda arguments : expression\n",
    "x = lambda a : a + 10\n",
    "print(x(5))"
   ]
  },
  {
   "cell_type": "code",
   "execution_count": 26,
   "id": "fb7f143b",
   "metadata": {},
   "outputs": [
    {
     "data": {
      "text/html": [
       "<style>#sk-2df5a48a-a15b-4173-a95f-7e9792a3224e {color: black;background-color: white;}#sk-2df5a48a-a15b-4173-a95f-7e9792a3224e pre{padding: 0;}#sk-2df5a48a-a15b-4173-a95f-7e9792a3224e div.sk-toggleable {background-color: white;}#sk-2df5a48a-a15b-4173-a95f-7e9792a3224e label.sk-toggleable__label {cursor: pointer;display: block;width: 100%;margin-bottom: 0;padding: 0.3em;box-sizing: border-box;text-align: center;}#sk-2df5a48a-a15b-4173-a95f-7e9792a3224e label.sk-toggleable__label-arrow:before {content: \"▸\";float: left;margin-right: 0.25em;color: #696969;}#sk-2df5a48a-a15b-4173-a95f-7e9792a3224e label.sk-toggleable__label-arrow:hover:before {color: black;}#sk-2df5a48a-a15b-4173-a95f-7e9792a3224e div.sk-estimator:hover label.sk-toggleable__label-arrow:before {color: black;}#sk-2df5a48a-a15b-4173-a95f-7e9792a3224e div.sk-toggleable__content {max-height: 0;max-width: 0;overflow: hidden;text-align: left;background-color: #f0f8ff;}#sk-2df5a48a-a15b-4173-a95f-7e9792a3224e div.sk-toggleable__content pre {margin: 0.2em;color: black;border-radius: 0.25em;background-color: #f0f8ff;}#sk-2df5a48a-a15b-4173-a95f-7e9792a3224e input.sk-toggleable__control:checked~div.sk-toggleable__content {max-height: 200px;max-width: 100%;overflow: auto;}#sk-2df5a48a-a15b-4173-a95f-7e9792a3224e input.sk-toggleable__control:checked~label.sk-toggleable__label-arrow:before {content: \"▾\";}#sk-2df5a48a-a15b-4173-a95f-7e9792a3224e div.sk-estimator input.sk-toggleable__control:checked~label.sk-toggleable__label {background-color: #d4ebff;}#sk-2df5a48a-a15b-4173-a95f-7e9792a3224e div.sk-label input.sk-toggleable__control:checked~label.sk-toggleable__label {background-color: #d4ebff;}#sk-2df5a48a-a15b-4173-a95f-7e9792a3224e input.sk-hidden--visually {border: 0;clip: rect(1px 1px 1px 1px);clip: rect(1px, 1px, 1px, 1px);height: 1px;margin: -1px;overflow: hidden;padding: 0;position: absolute;width: 1px;}#sk-2df5a48a-a15b-4173-a95f-7e9792a3224e div.sk-estimator {font-family: monospace;background-color: #f0f8ff;border: 1px dotted black;border-radius: 0.25em;box-sizing: border-box;margin-bottom: 0.5em;}#sk-2df5a48a-a15b-4173-a95f-7e9792a3224e div.sk-estimator:hover {background-color: #d4ebff;}#sk-2df5a48a-a15b-4173-a95f-7e9792a3224e div.sk-parallel-item::after {content: \"\";width: 100%;border-bottom: 1px solid gray;flex-grow: 1;}#sk-2df5a48a-a15b-4173-a95f-7e9792a3224e div.sk-label:hover label.sk-toggleable__label {background-color: #d4ebff;}#sk-2df5a48a-a15b-4173-a95f-7e9792a3224e div.sk-serial::before {content: \"\";position: absolute;border-left: 1px solid gray;box-sizing: border-box;top: 2em;bottom: 0;left: 50%;}#sk-2df5a48a-a15b-4173-a95f-7e9792a3224e div.sk-serial {display: flex;flex-direction: column;align-items: center;background-color: white;padding-right: 0.2em;padding-left: 0.2em;}#sk-2df5a48a-a15b-4173-a95f-7e9792a3224e div.sk-item {z-index: 1;}#sk-2df5a48a-a15b-4173-a95f-7e9792a3224e div.sk-parallel {display: flex;align-items: stretch;justify-content: center;background-color: white;}#sk-2df5a48a-a15b-4173-a95f-7e9792a3224e div.sk-parallel::before {content: \"\";position: absolute;border-left: 1px solid gray;box-sizing: border-box;top: 2em;bottom: 0;left: 50%;}#sk-2df5a48a-a15b-4173-a95f-7e9792a3224e div.sk-parallel-item {display: flex;flex-direction: column;position: relative;background-color: white;}#sk-2df5a48a-a15b-4173-a95f-7e9792a3224e div.sk-parallel-item:first-child::after {align-self: flex-end;width: 50%;}#sk-2df5a48a-a15b-4173-a95f-7e9792a3224e div.sk-parallel-item:last-child::after {align-self: flex-start;width: 50%;}#sk-2df5a48a-a15b-4173-a95f-7e9792a3224e div.sk-parallel-item:only-child::after {width: 0;}#sk-2df5a48a-a15b-4173-a95f-7e9792a3224e div.sk-dashed-wrapped {border: 1px dashed gray;margin: 0 0.4em 0.5em 0.4em;box-sizing: border-box;padding-bottom: 0.4em;background-color: white;position: relative;}#sk-2df5a48a-a15b-4173-a95f-7e9792a3224e div.sk-label label {font-family: monospace;font-weight: bold;background-color: white;display: inline-block;line-height: 1.2em;}#sk-2df5a48a-a15b-4173-a95f-7e9792a3224e div.sk-label-container {position: relative;z-index: 2;text-align: center;}#sk-2df5a48a-a15b-4173-a95f-7e9792a3224e div.sk-container {/* jupyter's `normalize.less` sets `[hidden] { display: none; }` but bootstrap.min.css set `[hidden] { display: none !important; }` so we also need the `!important` here to be able to override the default hidden behavior on the sphinx rendered scikit-learn.org. See: https://github.com/scikit-learn/scikit-learn/issues/21755 */display: inline-block !important;position: relative;}#sk-2df5a48a-a15b-4173-a95f-7e9792a3224e div.sk-text-repr-fallback {display: none;}</style><div id=\"sk-2df5a48a-a15b-4173-a95f-7e9792a3224e\" class=\"sk-top-container\"><div class=\"sk-text-repr-fallback\"><pre>ColumnTransformer(remainder=&#x27;passthrough&#x27;,\n",
       "                  transformers=[(&#x27;num_tr&#x27;,\n",
       "                                 Pipeline(steps=[(&#x27;imputer&#x27;, SimpleImputer()),\n",
       "                                                 (&#x27;scaler&#x27;, StandardScaler()),\n",
       "                                                 (&#x27;rounder&#x27;,\n",
       "                                                  FunctionTransformer(func=&lt;function &lt;lambda&gt; at 0x135bf2310&gt;))]),\n",
       "                                 [&#x27;bmi&#x27;, &#x27;age&#x27;]),\n",
       "                                (&#x27;cat_tr&#x27;,\n",
       "                                 OneHotEncoder(handle_unknown=&#x27;ignore&#x27;),\n",
       "                                 [&#x27;region&#x27;, &#x27;smoker&#x27;])])</pre><b>Please rerun this cell to show the HTML repr or trust the notebook.</b></div><div class=\"sk-container\" hidden><div class=\"sk-item sk-dashed-wrapped\"><div class=\"sk-label-container\"><div class=\"sk-label sk-toggleable\"><input class=\"sk-toggleable__control sk-hidden--visually\" id=\"e4c8381f-d93c-436d-9339-5bab25ad02c3\" type=\"checkbox\" ><label for=\"e4c8381f-d93c-436d-9339-5bab25ad02c3\" class=\"sk-toggleable__label sk-toggleable__label-arrow\">ColumnTransformer</label><div class=\"sk-toggleable__content\"><pre>ColumnTransformer(remainder=&#x27;passthrough&#x27;,\n",
       "                  transformers=[(&#x27;num_tr&#x27;,\n",
       "                                 Pipeline(steps=[(&#x27;imputer&#x27;, SimpleImputer()),\n",
       "                                                 (&#x27;scaler&#x27;, StandardScaler()),\n",
       "                                                 (&#x27;rounder&#x27;,\n",
       "                                                  FunctionTransformer(func=&lt;function &lt;lambda&gt; at 0x135bf2310&gt;))]),\n",
       "                                 [&#x27;bmi&#x27;, &#x27;age&#x27;]),\n",
       "                                (&#x27;cat_tr&#x27;,\n",
       "                                 OneHotEncoder(handle_unknown=&#x27;ignore&#x27;),\n",
       "                                 [&#x27;region&#x27;, &#x27;smoker&#x27;])])</pre></div></div></div><div class=\"sk-parallel\"><div class=\"sk-parallel-item\"><div class=\"sk-item\"><div class=\"sk-label-container\"><div class=\"sk-label sk-toggleable\"><input class=\"sk-toggleable__control sk-hidden--visually\" id=\"44173bb3-df8b-486c-b660-73870c547f5d\" type=\"checkbox\" ><label for=\"44173bb3-df8b-486c-b660-73870c547f5d\" class=\"sk-toggleable__label sk-toggleable__label-arrow\">num_tr</label><div class=\"sk-toggleable__content\"><pre>[&#x27;bmi&#x27;, &#x27;age&#x27;]</pre></div></div></div><div class=\"sk-serial\"><div class=\"sk-item\"><div class=\"sk-serial\"><div class=\"sk-item\"><div class=\"sk-estimator sk-toggleable\"><input class=\"sk-toggleable__control sk-hidden--visually\" id=\"58a740bf-d942-4db6-aec7-c2832a6a58d0\" type=\"checkbox\" ><label for=\"58a740bf-d942-4db6-aec7-c2832a6a58d0\" class=\"sk-toggleable__label sk-toggleable__label-arrow\">SimpleImputer</label><div class=\"sk-toggleable__content\"><pre>SimpleImputer()</pre></div></div></div><div class=\"sk-item\"><div class=\"sk-estimator sk-toggleable\"><input class=\"sk-toggleable__control sk-hidden--visually\" id=\"175894c6-1049-47d4-935b-90244d55acab\" type=\"checkbox\" ><label for=\"175894c6-1049-47d4-935b-90244d55acab\" class=\"sk-toggleable__label sk-toggleable__label-arrow\">StandardScaler</label><div class=\"sk-toggleable__content\"><pre>StandardScaler()</pre></div></div></div><div class=\"sk-item\"><div class=\"sk-estimator sk-toggleable\"><input class=\"sk-toggleable__control sk-hidden--visually\" id=\"ec0b6131-e224-4ebc-9d8a-0a804549e3cd\" type=\"checkbox\" ><label for=\"ec0b6131-e224-4ebc-9d8a-0a804549e3cd\" class=\"sk-toggleable__label sk-toggleable__label-arrow\">FunctionTransformer</label><div class=\"sk-toggleable__content\"><pre>FunctionTransformer(func=&lt;function &lt;lambda&gt; at 0x135bf2310&gt;)</pre></div></div></div></div></div></div></div></div><div class=\"sk-parallel-item\"><div class=\"sk-item\"><div class=\"sk-label-container\"><div class=\"sk-label sk-toggleable\"><input class=\"sk-toggleable__control sk-hidden--visually\" id=\"e428f2cd-2ba7-421b-8708-54a2c1022596\" type=\"checkbox\" ><label for=\"e428f2cd-2ba7-421b-8708-54a2c1022596\" class=\"sk-toggleable__label sk-toggleable__label-arrow\">cat_tr</label><div class=\"sk-toggleable__content\"><pre>[&#x27;region&#x27;, &#x27;smoker&#x27;]</pre></div></div></div><div class=\"sk-serial\"><div class=\"sk-item\"><div class=\"sk-estimator sk-toggleable\"><input class=\"sk-toggleable__control sk-hidden--visually\" id=\"d3d840c7-ead4-4c01-a6b3-85b2c26c977a\" type=\"checkbox\" ><label for=\"d3d840c7-ead4-4c01-a6b3-85b2c26c977a\" class=\"sk-toggleable__label sk-toggleable__label-arrow\">OneHotEncoder</label><div class=\"sk-toggleable__content\"><pre>OneHotEncoder(handle_unknown=&#x27;ignore&#x27;)</pre></div></div></div></div></div></div><div class=\"sk-parallel-item\"><div class=\"sk-item\"><div class=\"sk-label-container\"><div class=\"sk-label sk-toggleable\"><input class=\"sk-toggleable__control sk-hidden--visually\" id=\"c65ae58e-f744-4afb-ba16-da128cd7afae\" type=\"checkbox\" ><label for=\"c65ae58e-f744-4afb-ba16-da128cd7afae\" class=\"sk-toggleable__label sk-toggleable__label-arrow\">remainder</label><div class=\"sk-toggleable__content\"><pre></pre></div></div></div><div class=\"sk-serial\"><div class=\"sk-item\"><div class=\"sk-estimator sk-toggleable\"><input class=\"sk-toggleable__control sk-hidden--visually\" id=\"2e38c97d-b1cb-4ba1-8095-36d5e4de1d69\" type=\"checkbox\" ><label for=\"2e38c97d-b1cb-4ba1-8095-36d5e4de1d69\" class=\"sk-toggleable__label sk-toggleable__label-arrow\">passthrough</label><div class=\"sk-toggleable__content\"><pre>passthrough</pre></div></div></div></div></div></div></div></div></div></div>"
      ],
      "text/plain": [
       "ColumnTransformer(remainder='passthrough',\n",
       "                  transformers=[('num_tr',\n",
       "                                 Pipeline(steps=[('imputer', SimpleImputer()),\n",
       "                                                 ('scaler', StandardScaler()),\n",
       "                                                 ('rounder',\n",
       "                                                  FunctionTransformer(func=<function <lambda> at 0x135bf2310>))]),\n",
       "                                 ['bmi', 'age']),\n",
       "                                ('cat_tr',\n",
       "                                 OneHotEncoder(handle_unknown='ignore'),\n",
       "                                 ['region', 'smoker'])])"
      ]
     },
     "execution_count": 26,
     "metadata": {},
     "output_type": "execute_result"
    }
   ],
   "source": [
    "# Add it at the end of our numerical transformer\n",
    "num_transformer = Pipeline([\n",
    "    ('imputer', SimpleImputer()),\n",
    "    ('scaler', StandardScaler()),\n",
    "    ('rounder', rounder)])\n",
    "\n",
    "preprocessor = ColumnTransformer([\n",
    "    ('num_tr', num_transformer, ['bmi', 'age']),\n",
    "    ('cat_tr', cat_transformer, ['region', 'smoker'])],\n",
    "    remainder='passthrough')\n",
    "preprocessor"
   ]
  },
  {
   "cell_type": "code",
   "execution_count": 27,
   "id": "ad03393d",
   "metadata": {},
   "outputs": [
    {
     "data": {
      "text/html": [
       "<div>\n",
       "<style scoped>\n",
       "    .dataframe tbody tr th:only-of-type {\n",
       "        vertical-align: middle;\n",
       "    }\n",
       "\n",
       "    .dataframe tbody tr th {\n",
       "        vertical-align: top;\n",
       "    }\n",
       "\n",
       "    .dataframe thead th {\n",
       "        text-align: right;\n",
       "    }\n",
       "</style>\n",
       "<table border=\"1\" class=\"dataframe\">\n",
       "  <thead>\n",
       "    <tr style=\"text-align: right;\">\n",
       "      <th></th>\n",
       "      <th>0</th>\n",
       "      <th>1</th>\n",
       "      <th>2</th>\n",
       "      <th>3</th>\n",
       "      <th>4</th>\n",
       "      <th>5</th>\n",
       "      <th>6</th>\n",
       "      <th>7</th>\n",
       "      <th>8</th>\n",
       "    </tr>\n",
       "  </thead>\n",
       "  <tbody>\n",
       "    <tr>\n",
       "      <th>0</th>\n",
       "      <td>-0.48</td>\n",
       "      <td>-1.46</td>\n",
       "      <td>0.0</td>\n",
       "      <td>0.0</td>\n",
       "      <td>0.0</td>\n",
       "      <td>1.0</td>\n",
       "      <td>0.0</td>\n",
       "      <td>1.0</td>\n",
       "      <td>0.0</td>\n",
       "    </tr>\n",
       "    <tr>\n",
       "      <th>1</th>\n",
       "      <td>0.49</td>\n",
       "      <td>-1.53</td>\n",
       "      <td>0.0</td>\n",
       "      <td>0.0</td>\n",
       "      <td>1.0</td>\n",
       "      <td>0.0</td>\n",
       "      <td>1.0</td>\n",
       "      <td>0.0</td>\n",
       "      <td>1.0</td>\n",
       "    </tr>\n",
       "  </tbody>\n",
       "</table>\n",
       "</div>"
      ],
      "text/plain": [
       "      0     1    2    3    4    5    6    7    8\n",
       "0 -0.48 -1.46  0.0  0.0  0.0  1.0  0.0  1.0  0.0\n",
       "1  0.49 -1.53  0.0  0.0  1.0  0.0  1.0  0.0  1.0"
      ]
     },
     "execution_count": 27,
     "metadata": {},
     "output_type": "execute_result"
    }
   ],
   "source": [
    "#Let's see the impact of the function transformer\n",
    "pd.DataFrame(preprocessor.fit_transform(X_train)).head(2)"
   ]
  },
  {
   "cell_type": "markdown",
   "id": "e75ec8e7",
   "metadata": {},
   "source": [
    "**IMPORTANT** Can only be applied to state-less transformations"
   ]
  },
  {
   "cell_type": "markdown",
   "id": "502140df",
   "metadata": {},
   "source": [
    "### Transformers under the hood"
   ]
  },
  {
   "cell_type": "code",
   "execution_count": null,
   "id": "fd197da3",
   "metadata": {},
   "outputs": [],
   "source": [
    "from sklearn.base import TransformerMixin, BaseEstimator\n",
    "\n",
    "class MyCustomTranformer(TransformerMixin, BaseEstimator): \n",
    "    # BaseEstimator generates get_params() and set_params() methods that all pipelines require\n",
    "    # TransformerMixin creates fit_transform() method from fit() and transform()\n",
    "    \n",
    "    def __init__(self):\n",
    "        pass\n",
    "    \n",
    "    def fit(self, X, y=None):\n",
    "        # Store here what needs to be stored during .fit(X_train) as instance attributes.\n",
    "        # Return \"self\" to allow chaining .fit().transform()\n",
    "       \n",
    "        pass\n",
    "    \n",
    "    def transform(self, X, y=None):\n",
    "        # Return result as dataframe for integration into ColumnTransformer\n",
    "        pass"
   ]
  },
  {
   "cell_type": "code",
   "execution_count": null,
   "id": "a7b69455",
   "metadata": {},
   "outputs": [],
   "source": [
    "my_transformer = MyCustomTranformer()\n",
    "\n",
    "my_transformer.fit(X_train)\n",
    "\n",
    "my_transformer.transform(X_train)\n",
    "\n",
    "my_transformer.transform(X_test)"
   ]
  },
  {
   "cell_type": "markdown",
   "id": "e98e5acc",
   "metadata": {},
   "source": [
    "### Feature Union"
   ]
  },
  {
   "cell_type": "code",
   "execution_count": 28,
   "id": "48a2e6c0",
   "metadata": {},
   "outputs": [
    {
     "data": {
      "text/html": [
       "<style>#sk-cd4fa83d-63a2-494b-9947-3713249663ff {color: black;background-color: white;}#sk-cd4fa83d-63a2-494b-9947-3713249663ff pre{padding: 0;}#sk-cd4fa83d-63a2-494b-9947-3713249663ff div.sk-toggleable {background-color: white;}#sk-cd4fa83d-63a2-494b-9947-3713249663ff label.sk-toggleable__label {cursor: pointer;display: block;width: 100%;margin-bottom: 0;padding: 0.3em;box-sizing: border-box;text-align: center;}#sk-cd4fa83d-63a2-494b-9947-3713249663ff label.sk-toggleable__label-arrow:before {content: \"▸\";float: left;margin-right: 0.25em;color: #696969;}#sk-cd4fa83d-63a2-494b-9947-3713249663ff label.sk-toggleable__label-arrow:hover:before {color: black;}#sk-cd4fa83d-63a2-494b-9947-3713249663ff div.sk-estimator:hover label.sk-toggleable__label-arrow:before {color: black;}#sk-cd4fa83d-63a2-494b-9947-3713249663ff div.sk-toggleable__content {max-height: 0;max-width: 0;overflow: hidden;text-align: left;background-color: #f0f8ff;}#sk-cd4fa83d-63a2-494b-9947-3713249663ff div.sk-toggleable__content pre {margin: 0.2em;color: black;border-radius: 0.25em;background-color: #f0f8ff;}#sk-cd4fa83d-63a2-494b-9947-3713249663ff input.sk-toggleable__control:checked~div.sk-toggleable__content {max-height: 200px;max-width: 100%;overflow: auto;}#sk-cd4fa83d-63a2-494b-9947-3713249663ff input.sk-toggleable__control:checked~label.sk-toggleable__label-arrow:before {content: \"▾\";}#sk-cd4fa83d-63a2-494b-9947-3713249663ff div.sk-estimator input.sk-toggleable__control:checked~label.sk-toggleable__label {background-color: #d4ebff;}#sk-cd4fa83d-63a2-494b-9947-3713249663ff div.sk-label input.sk-toggleable__control:checked~label.sk-toggleable__label {background-color: #d4ebff;}#sk-cd4fa83d-63a2-494b-9947-3713249663ff input.sk-hidden--visually {border: 0;clip: rect(1px 1px 1px 1px);clip: rect(1px, 1px, 1px, 1px);height: 1px;margin: -1px;overflow: hidden;padding: 0;position: absolute;width: 1px;}#sk-cd4fa83d-63a2-494b-9947-3713249663ff div.sk-estimator {font-family: monospace;background-color: #f0f8ff;border: 1px dotted black;border-radius: 0.25em;box-sizing: border-box;margin-bottom: 0.5em;}#sk-cd4fa83d-63a2-494b-9947-3713249663ff div.sk-estimator:hover {background-color: #d4ebff;}#sk-cd4fa83d-63a2-494b-9947-3713249663ff div.sk-parallel-item::after {content: \"\";width: 100%;border-bottom: 1px solid gray;flex-grow: 1;}#sk-cd4fa83d-63a2-494b-9947-3713249663ff div.sk-label:hover label.sk-toggleable__label {background-color: #d4ebff;}#sk-cd4fa83d-63a2-494b-9947-3713249663ff div.sk-serial::before {content: \"\";position: absolute;border-left: 1px solid gray;box-sizing: border-box;top: 2em;bottom: 0;left: 50%;}#sk-cd4fa83d-63a2-494b-9947-3713249663ff div.sk-serial {display: flex;flex-direction: column;align-items: center;background-color: white;padding-right: 0.2em;padding-left: 0.2em;}#sk-cd4fa83d-63a2-494b-9947-3713249663ff div.sk-item {z-index: 1;}#sk-cd4fa83d-63a2-494b-9947-3713249663ff div.sk-parallel {display: flex;align-items: stretch;justify-content: center;background-color: white;}#sk-cd4fa83d-63a2-494b-9947-3713249663ff div.sk-parallel::before {content: \"\";position: absolute;border-left: 1px solid gray;box-sizing: border-box;top: 2em;bottom: 0;left: 50%;}#sk-cd4fa83d-63a2-494b-9947-3713249663ff div.sk-parallel-item {display: flex;flex-direction: column;position: relative;background-color: white;}#sk-cd4fa83d-63a2-494b-9947-3713249663ff div.sk-parallel-item:first-child::after {align-self: flex-end;width: 50%;}#sk-cd4fa83d-63a2-494b-9947-3713249663ff div.sk-parallel-item:last-child::after {align-self: flex-start;width: 50%;}#sk-cd4fa83d-63a2-494b-9947-3713249663ff div.sk-parallel-item:only-child::after {width: 0;}#sk-cd4fa83d-63a2-494b-9947-3713249663ff div.sk-dashed-wrapped {border: 1px dashed gray;margin: 0 0.4em 0.5em 0.4em;box-sizing: border-box;padding-bottom: 0.4em;background-color: white;position: relative;}#sk-cd4fa83d-63a2-494b-9947-3713249663ff div.sk-label label {font-family: monospace;font-weight: bold;background-color: white;display: inline-block;line-height: 1.2em;}#sk-cd4fa83d-63a2-494b-9947-3713249663ff div.sk-label-container {position: relative;z-index: 2;text-align: center;}#sk-cd4fa83d-63a2-494b-9947-3713249663ff div.sk-container {/* jupyter's `normalize.less` sets `[hidden] { display: none; }` but bootstrap.min.css set `[hidden] { display: none !important; }` so we also need the `!important` here to be able to override the default hidden behavior on the sphinx rendered scikit-learn.org. See: https://github.com/scikit-learn/scikit-learn/issues/21755 */display: inline-block !important;position: relative;}#sk-cd4fa83d-63a2-494b-9947-3713249663ff div.sk-text-repr-fallback {display: none;}</style><div id=\"sk-cd4fa83d-63a2-494b-9947-3713249663ff\" class=\"sk-top-container\"><div class=\"sk-text-repr-fallback\"><pre>FeatureUnion(transformer_list=[(&#x27;preprocess&#x27;,\n",
       "                                ColumnTransformer(remainder=&#x27;passthrough&#x27;,\n",
       "                                                  transformers=[(&#x27;num_tr&#x27;,\n",
       "                                                                 Pipeline(steps=[(&#x27;imputer&#x27;,\n",
       "                                                                                  SimpleImputer()),\n",
       "                                                                                 (&#x27;scaler&#x27;,\n",
       "                                                                                  StandardScaler()),\n",
       "                                                                                 (&#x27;rounder&#x27;,\n",
       "                                                                                  FunctionTransformer(func=&lt;function &lt;lambda&gt; at 0x135bf2310&gt;))]),\n",
       "                                                                 [&#x27;bmi&#x27;,\n",
       "                                                                  &#x27;age&#x27;]),\n",
       "                                                                (&#x27;cat_tr&#x27;,\n",
       "                                                                 OneHotEncoder(handle_unknown=&#x27;ignore&#x27;),\n",
       "                                                                 [&#x27;region&#x27;,\n",
       "                                                                  &#x27;smoker&#x27;])])),\n",
       "                               (&#x27;bmi_age_ratio&#x27;,\n",
       "                                FunctionTransformer(func=&lt;function &lt;lambda&gt; at 0x135bf24c0&gt;))])</pre><b>Please rerun this cell to show the HTML repr or trust the notebook.</b></div><div class=\"sk-container\" hidden><div class=\"sk-item sk-dashed-wrapped\"><div class=\"sk-label-container\"><div class=\"sk-label sk-toggleable\"><input class=\"sk-toggleable__control sk-hidden--visually\" id=\"67861328-2f1b-491c-badd-5d878102a144\" type=\"checkbox\" ><label for=\"67861328-2f1b-491c-badd-5d878102a144\" class=\"sk-toggleable__label sk-toggleable__label-arrow\">FeatureUnion</label><div class=\"sk-toggleable__content\"><pre>FeatureUnion(transformer_list=[(&#x27;preprocess&#x27;,\n",
       "                                ColumnTransformer(remainder=&#x27;passthrough&#x27;,\n",
       "                                                  transformers=[(&#x27;num_tr&#x27;,\n",
       "                                                                 Pipeline(steps=[(&#x27;imputer&#x27;,\n",
       "                                                                                  SimpleImputer()),\n",
       "                                                                                 (&#x27;scaler&#x27;,\n",
       "                                                                                  StandardScaler()),\n",
       "                                                                                 (&#x27;rounder&#x27;,\n",
       "                                                                                  FunctionTransformer(func=&lt;function &lt;lambda&gt; at 0x135bf2310&gt;))]),\n",
       "                                                                 [&#x27;bmi&#x27;,\n",
       "                                                                  &#x27;age&#x27;]),\n",
       "                                                                (&#x27;cat_tr&#x27;,\n",
       "                                                                 OneHotEncoder(handle_unknown=&#x27;ignore&#x27;),\n",
       "                                                                 [&#x27;region&#x27;,\n",
       "                                                                  &#x27;smoker&#x27;])])),\n",
       "                               (&#x27;bmi_age_ratio&#x27;,\n",
       "                                FunctionTransformer(func=&lt;function &lt;lambda&gt; at 0x135bf24c0&gt;))])</pre></div></div></div><div class=\"sk-parallel\"><div class=\"sk-parallel-item\"><div class=\"sk-item\"><div class=\"sk-label-container\"><div class=\"sk-label sk-toggleable\"><label>preprocess</label></div></div><div class=\"sk-serial\"><div class=\"sk-item sk-dashed-wrapped\"><div class=\"sk-parallel\"><div class=\"sk-parallel-item\"><div class=\"sk-item\"><div class=\"sk-label-container\"><div class=\"sk-label sk-toggleable\"><input class=\"sk-toggleable__control sk-hidden--visually\" id=\"75e46e56-7cfd-49d2-859b-febfca32f76a\" type=\"checkbox\" ><label for=\"75e46e56-7cfd-49d2-859b-febfca32f76a\" class=\"sk-toggleable__label sk-toggleable__label-arrow\">num_tr</label><div class=\"sk-toggleable__content\"><pre>[&#x27;bmi&#x27;, &#x27;age&#x27;]</pre></div></div></div><div class=\"sk-serial\"><div class=\"sk-item\"><div class=\"sk-serial\"><div class=\"sk-item\"><div class=\"sk-estimator sk-toggleable\"><input class=\"sk-toggleable__control sk-hidden--visually\" id=\"6916b2bd-93ed-4dca-b18b-a9fab300c98e\" type=\"checkbox\" ><label for=\"6916b2bd-93ed-4dca-b18b-a9fab300c98e\" class=\"sk-toggleable__label sk-toggleable__label-arrow\">SimpleImputer</label><div class=\"sk-toggleable__content\"><pre>SimpleImputer()</pre></div></div></div><div class=\"sk-item\"><div class=\"sk-estimator sk-toggleable\"><input class=\"sk-toggleable__control sk-hidden--visually\" id=\"794a015b-bdbe-4164-b675-3bcb000e0824\" type=\"checkbox\" ><label for=\"794a015b-bdbe-4164-b675-3bcb000e0824\" class=\"sk-toggleable__label sk-toggleable__label-arrow\">StandardScaler</label><div class=\"sk-toggleable__content\"><pre>StandardScaler()</pre></div></div></div><div class=\"sk-item\"><div class=\"sk-estimator sk-toggleable\"><input class=\"sk-toggleable__control sk-hidden--visually\" id=\"616f0f6f-6339-4857-b420-89e1311ad98d\" type=\"checkbox\" ><label for=\"616f0f6f-6339-4857-b420-89e1311ad98d\" class=\"sk-toggleable__label sk-toggleable__label-arrow\">FunctionTransformer</label><div class=\"sk-toggleable__content\"><pre>FunctionTransformer(func=&lt;function &lt;lambda&gt; at 0x135bf2310&gt;)</pre></div></div></div></div></div></div></div></div><div class=\"sk-parallel-item\"><div class=\"sk-item\"><div class=\"sk-label-container\"><div class=\"sk-label sk-toggleable\"><input class=\"sk-toggleable__control sk-hidden--visually\" id=\"03951736-4a16-48c4-a685-68611d9a2216\" type=\"checkbox\" ><label for=\"03951736-4a16-48c4-a685-68611d9a2216\" class=\"sk-toggleable__label sk-toggleable__label-arrow\">cat_tr</label><div class=\"sk-toggleable__content\"><pre>[&#x27;region&#x27;, &#x27;smoker&#x27;]</pre></div></div></div><div class=\"sk-serial\"><div class=\"sk-item\"><div class=\"sk-estimator sk-toggleable\"><input class=\"sk-toggleable__control sk-hidden--visually\" id=\"e97f5525-e9e2-48b2-bb71-1a93b21859a3\" type=\"checkbox\" ><label for=\"e97f5525-e9e2-48b2-bb71-1a93b21859a3\" class=\"sk-toggleable__label sk-toggleable__label-arrow\">OneHotEncoder</label><div class=\"sk-toggleable__content\"><pre>OneHotEncoder(handle_unknown=&#x27;ignore&#x27;)</pre></div></div></div></div></div></div><div class=\"sk-parallel-item\"><div class=\"sk-item\"><div class=\"sk-label-container\"><div class=\"sk-label sk-toggleable\"><input class=\"sk-toggleable__control sk-hidden--visually\" id=\"55ad084a-02c2-4743-a4e7-0d0f96f3156f\" type=\"checkbox\" ><label for=\"55ad084a-02c2-4743-a4e7-0d0f96f3156f\" class=\"sk-toggleable__label sk-toggleable__label-arrow\">remainder</label><div class=\"sk-toggleable__content\"><pre>[&#x27;children&#x27;]</pre></div></div></div><div class=\"sk-serial\"><div class=\"sk-item\"><div class=\"sk-estimator sk-toggleable\"><input class=\"sk-toggleable__control sk-hidden--visually\" id=\"32f6e381-b48a-4e73-8eff-bf062f0b58d4\" type=\"checkbox\" ><label for=\"32f6e381-b48a-4e73-8eff-bf062f0b58d4\" class=\"sk-toggleable__label sk-toggleable__label-arrow\">passthrough</label><div class=\"sk-toggleable__content\"><pre>passthrough</pre></div></div></div></div></div></div></div></div></div></div></div><div class=\"sk-parallel-item\"><div class=\"sk-item\"><div class=\"sk-label-container\"><div class=\"sk-label sk-toggleable\"><label>bmi_age_ratio</label></div></div><div class=\"sk-serial\"><div class=\"sk-item\"><div class=\"sk-estimator sk-toggleable\"><input class=\"sk-toggleable__control sk-hidden--visually\" id=\"68c3fe7a-9473-46b1-ace7-1e6d969bfe44\" type=\"checkbox\" ><label for=\"68c3fe7a-9473-46b1-ace7-1e6d969bfe44\" class=\"sk-toggleable__label sk-toggleable__label-arrow\">FunctionTransformer</label><div class=\"sk-toggleable__content\"><pre>FunctionTransformer(func=&lt;function &lt;lambda&gt; at 0x135bf24c0&gt;)</pre></div></div></div></div></div></div></div></div></div></div>"
      ],
      "text/plain": [
       "FeatureUnion(transformer_list=[('preprocess',\n",
       "                                ColumnTransformer(remainder='passthrough',\n",
       "                                                  transformers=[('num_tr',\n",
       "                                                                 Pipeline(steps=[('imputer',\n",
       "                                                                                  SimpleImputer()),\n",
       "                                                                                 ('scaler',\n",
       "                                                                                  StandardScaler()),\n",
       "                                                                                 ('rounder',\n",
       "                                                                                  FunctionTransformer(func=<function <lambda> at 0x135bf2310>))]),\n",
       "                                                                 ['bmi',\n",
       "                                                                  'age']),\n",
       "                                                                ('cat_tr',\n",
       "                                                                 OneHotEncoder(handle_unknown='ignore'),\n",
       "                                                                 ['region',\n",
       "                                                                  'smoker'])])),\n",
       "                               ('bmi_age_ratio',\n",
       "                                FunctionTransformer(func=<function <lambda> at 0x135bf24c0>))])"
      ]
     },
     "execution_count": 28,
     "metadata": {},
     "output_type": "execute_result"
    }
   ],
   "source": [
    "from sklearn.pipeline import FeatureUnion\n",
    "\n",
    "# Create a custom transformer that multiplies two columns\n",
    "bmi_age_ratio_constructor = FunctionTransformer(lambda df: pd.DataFrame(df[\"bmi\"] / df[\"age\"]))\n",
    "\n",
    "union = FeatureUnion([\n",
    "    ('preprocess', preprocessor), # columns 0-8\n",
    "    ('bmi_age_ratio', bmi_age_ratio_constructor) # new colums 9\n",
    "])\n",
    "union"
   ]
  },
  {
   "cell_type": "code",
   "execution_count": 30,
   "id": "40440ab1",
   "metadata": {},
   "outputs": [
    {
     "data": {
      "text/html": [
       "<div>\n",
       "<style scoped>\n",
       "    .dataframe tbody tr th:only-of-type {\n",
       "        vertical-align: middle;\n",
       "    }\n",
       "\n",
       "    .dataframe tbody tr th {\n",
       "        vertical-align: top;\n",
       "    }\n",
       "\n",
       "    .dataframe thead th {\n",
       "        text-align: right;\n",
       "    }\n",
       "</style>\n",
       "<table border=\"1\" class=\"dataframe\">\n",
       "  <thead>\n",
       "    <tr style=\"text-align: right;\">\n",
       "      <th></th>\n",
       "      <th>age</th>\n",
       "      <th>bmi</th>\n",
       "      <th>children</th>\n",
       "      <th>smoker</th>\n",
       "      <th>region</th>\n",
       "    </tr>\n",
       "  </thead>\n",
       "  <tbody>\n",
       "    <tr>\n",
       "      <th>0</th>\n",
       "      <td>19.0</td>\n",
       "      <td>27.900</td>\n",
       "      <td>0</td>\n",
       "      <td>True</td>\n",
       "      <td>southwest</td>\n",
       "    </tr>\n",
       "    <tr>\n",
       "      <th>1</th>\n",
       "      <td>18.0</td>\n",
       "      <td>33.770</td>\n",
       "      <td>1</td>\n",
       "      <td>False</td>\n",
       "      <td>southeast</td>\n",
       "    </tr>\n",
       "    <tr>\n",
       "      <th>2</th>\n",
       "      <td>NaN</td>\n",
       "      <td>33.000</td>\n",
       "      <td>3</td>\n",
       "      <td>False</td>\n",
       "      <td>southeast</td>\n",
       "    </tr>\n",
       "    <tr>\n",
       "      <th>3</th>\n",
       "      <td>33.0</td>\n",
       "      <td>22.705</td>\n",
       "      <td>0</td>\n",
       "      <td>False</td>\n",
       "      <td>northwest</td>\n",
       "    </tr>\n",
       "    <tr>\n",
       "      <th>4</th>\n",
       "      <td>32.0</td>\n",
       "      <td>28.880</td>\n",
       "      <td>0</td>\n",
       "      <td>False</td>\n",
       "      <td>northwest</td>\n",
       "    </tr>\n",
       "    <tr>\n",
       "      <th>...</th>\n",
       "      <td>...</td>\n",
       "      <td>...</td>\n",
       "      <td>...</td>\n",
       "      <td>...</td>\n",
       "      <td>...</td>\n",
       "    </tr>\n",
       "    <tr>\n",
       "      <th>1333</th>\n",
       "      <td>50.0</td>\n",
       "      <td>30.970</td>\n",
       "      <td>3</td>\n",
       "      <td>False</td>\n",
       "      <td>northwest</td>\n",
       "    </tr>\n",
       "    <tr>\n",
       "      <th>1334</th>\n",
       "      <td>18.0</td>\n",
       "      <td>31.920</td>\n",
       "      <td>0</td>\n",
       "      <td>False</td>\n",
       "      <td>northeast</td>\n",
       "    </tr>\n",
       "    <tr>\n",
       "      <th>1335</th>\n",
       "      <td>18.0</td>\n",
       "      <td>36.850</td>\n",
       "      <td>0</td>\n",
       "      <td>False</td>\n",
       "      <td>southeast</td>\n",
       "    </tr>\n",
       "    <tr>\n",
       "      <th>1336</th>\n",
       "      <td>21.0</td>\n",
       "      <td>25.800</td>\n",
       "      <td>0</td>\n",
       "      <td>False</td>\n",
       "      <td>southwest</td>\n",
       "    </tr>\n",
       "    <tr>\n",
       "      <th>1337</th>\n",
       "      <td>61.0</td>\n",
       "      <td>29.070</td>\n",
       "      <td>0</td>\n",
       "      <td>True</td>\n",
       "      <td>northwest</td>\n",
       "    </tr>\n",
       "  </tbody>\n",
       "</table>\n",
       "<p>1338 rows × 5 columns</p>\n",
       "</div>"
      ],
      "text/plain": [
       "       age     bmi  children  smoker     region\n",
       "0     19.0  27.900         0    True  southwest\n",
       "1     18.0  33.770         1   False  southeast\n",
       "2      NaN  33.000         3   False  southeast\n",
       "3     33.0  22.705         0   False  northwest\n",
       "4     32.0  28.880         0   False  northwest\n",
       "...    ...     ...       ...     ...        ...\n",
       "1333  50.0  30.970         3   False  northwest\n",
       "1334  18.0  31.920         0   False  northeast\n",
       "1335  18.0  36.850         0   False  southeast\n",
       "1336  21.0  25.800         0   False  southwest\n",
       "1337  61.0  29.070         0    True  northwest\n",
       "\n",
       "[1338 rows x 5 columns]"
      ]
     },
     "execution_count": 30,
     "metadata": {},
     "output_type": "execute_result"
    }
   ],
   "source": [
    "X"
   ]
  },
  {
   "cell_type": "code",
   "execution_count": 32,
   "id": "e60ea4ae",
   "metadata": {},
   "outputs": [
    {
     "data": {
      "text/html": [
       "<style>#sk-0891e12c-8e75-402a-a28f-3319faa2266d {color: black;background-color: white;}#sk-0891e12c-8e75-402a-a28f-3319faa2266d pre{padding: 0;}#sk-0891e12c-8e75-402a-a28f-3319faa2266d div.sk-toggleable {background-color: white;}#sk-0891e12c-8e75-402a-a28f-3319faa2266d label.sk-toggleable__label {cursor: pointer;display: block;width: 100%;margin-bottom: 0;padding: 0.3em;box-sizing: border-box;text-align: center;}#sk-0891e12c-8e75-402a-a28f-3319faa2266d label.sk-toggleable__label-arrow:before {content: \"▸\";float: left;margin-right: 0.25em;color: #696969;}#sk-0891e12c-8e75-402a-a28f-3319faa2266d label.sk-toggleable__label-arrow:hover:before {color: black;}#sk-0891e12c-8e75-402a-a28f-3319faa2266d div.sk-estimator:hover label.sk-toggleable__label-arrow:before {color: black;}#sk-0891e12c-8e75-402a-a28f-3319faa2266d div.sk-toggleable__content {max-height: 0;max-width: 0;overflow: hidden;text-align: left;background-color: #f0f8ff;}#sk-0891e12c-8e75-402a-a28f-3319faa2266d div.sk-toggleable__content pre {margin: 0.2em;color: black;border-radius: 0.25em;background-color: #f0f8ff;}#sk-0891e12c-8e75-402a-a28f-3319faa2266d input.sk-toggleable__control:checked~div.sk-toggleable__content {max-height: 200px;max-width: 100%;overflow: auto;}#sk-0891e12c-8e75-402a-a28f-3319faa2266d input.sk-toggleable__control:checked~label.sk-toggleable__label-arrow:before {content: \"▾\";}#sk-0891e12c-8e75-402a-a28f-3319faa2266d div.sk-estimator input.sk-toggleable__control:checked~label.sk-toggleable__label {background-color: #d4ebff;}#sk-0891e12c-8e75-402a-a28f-3319faa2266d div.sk-label input.sk-toggleable__control:checked~label.sk-toggleable__label {background-color: #d4ebff;}#sk-0891e12c-8e75-402a-a28f-3319faa2266d input.sk-hidden--visually {border: 0;clip: rect(1px 1px 1px 1px);clip: rect(1px, 1px, 1px, 1px);height: 1px;margin: -1px;overflow: hidden;padding: 0;position: absolute;width: 1px;}#sk-0891e12c-8e75-402a-a28f-3319faa2266d div.sk-estimator {font-family: monospace;background-color: #f0f8ff;border: 1px dotted black;border-radius: 0.25em;box-sizing: border-box;margin-bottom: 0.5em;}#sk-0891e12c-8e75-402a-a28f-3319faa2266d div.sk-estimator:hover {background-color: #d4ebff;}#sk-0891e12c-8e75-402a-a28f-3319faa2266d div.sk-parallel-item::after {content: \"\";width: 100%;border-bottom: 1px solid gray;flex-grow: 1;}#sk-0891e12c-8e75-402a-a28f-3319faa2266d div.sk-label:hover label.sk-toggleable__label {background-color: #d4ebff;}#sk-0891e12c-8e75-402a-a28f-3319faa2266d div.sk-serial::before {content: \"\";position: absolute;border-left: 1px solid gray;box-sizing: border-box;top: 2em;bottom: 0;left: 50%;}#sk-0891e12c-8e75-402a-a28f-3319faa2266d div.sk-serial {display: flex;flex-direction: column;align-items: center;background-color: white;padding-right: 0.2em;padding-left: 0.2em;}#sk-0891e12c-8e75-402a-a28f-3319faa2266d div.sk-item {z-index: 1;}#sk-0891e12c-8e75-402a-a28f-3319faa2266d div.sk-parallel {display: flex;align-items: stretch;justify-content: center;background-color: white;}#sk-0891e12c-8e75-402a-a28f-3319faa2266d div.sk-parallel::before {content: \"\";position: absolute;border-left: 1px solid gray;box-sizing: border-box;top: 2em;bottom: 0;left: 50%;}#sk-0891e12c-8e75-402a-a28f-3319faa2266d div.sk-parallel-item {display: flex;flex-direction: column;position: relative;background-color: white;}#sk-0891e12c-8e75-402a-a28f-3319faa2266d div.sk-parallel-item:first-child::after {align-self: flex-end;width: 50%;}#sk-0891e12c-8e75-402a-a28f-3319faa2266d div.sk-parallel-item:last-child::after {align-self: flex-start;width: 50%;}#sk-0891e12c-8e75-402a-a28f-3319faa2266d div.sk-parallel-item:only-child::after {width: 0;}#sk-0891e12c-8e75-402a-a28f-3319faa2266d div.sk-dashed-wrapped {border: 1px dashed gray;margin: 0 0.4em 0.5em 0.4em;box-sizing: border-box;padding-bottom: 0.4em;background-color: white;position: relative;}#sk-0891e12c-8e75-402a-a28f-3319faa2266d div.sk-label label {font-family: monospace;font-weight: bold;background-color: white;display: inline-block;line-height: 1.2em;}#sk-0891e12c-8e75-402a-a28f-3319faa2266d div.sk-label-container {position: relative;z-index: 2;text-align: center;}#sk-0891e12c-8e75-402a-a28f-3319faa2266d div.sk-container {/* jupyter's `normalize.less` sets `[hidden] { display: none; }` but bootstrap.min.css set `[hidden] { display: none !important; }` so we also need the `!important` here to be able to override the default hidden behavior on the sphinx rendered scikit-learn.org. See: https://github.com/scikit-learn/scikit-learn/issues/21755 */display: inline-block !important;position: relative;}#sk-0891e12c-8e75-402a-a28f-3319faa2266d div.sk-text-repr-fallback {display: none;}</style><div id=\"sk-0891e12c-8e75-402a-a28f-3319faa2266d\" class=\"sk-top-container\"><div class=\"sk-text-repr-fallback\"><pre>FeatureUnion(transformer_list=[(&#x27;bmi_age_ratio&#x27;,\n",
       "                                FunctionTransformer(func=&lt;function &lt;lambda&gt; at 0x135bf24c0&gt;))])</pre><b>Please rerun this cell to show the HTML repr or trust the notebook.</b></div><div class=\"sk-container\" hidden><div class=\"sk-item sk-dashed-wrapped\"><div class=\"sk-label-container\"><div class=\"sk-label sk-toggleable\"><input class=\"sk-toggleable__control sk-hidden--visually\" id=\"69c33204-580b-43b8-bd11-2d3c9738296a\" type=\"checkbox\" ><label for=\"69c33204-580b-43b8-bd11-2d3c9738296a\" class=\"sk-toggleable__label sk-toggleable__label-arrow\">FeatureUnion</label><div class=\"sk-toggleable__content\"><pre>FeatureUnion(transformer_list=[(&#x27;bmi_age_ratio&#x27;,\n",
       "                                FunctionTransformer(func=&lt;function &lt;lambda&gt; at 0x135bf24c0&gt;))])</pre></div></div></div><div class=\"sk-parallel\"><div class=\"sk-parallel-item\"><div class=\"sk-item\"><div class=\"sk-label-container\"><div class=\"sk-label sk-toggleable\"><label>bmi_age_ratio</label></div></div><div class=\"sk-serial\"><div class=\"sk-item\"><div class=\"sk-estimator sk-toggleable\"><input class=\"sk-toggleable__control sk-hidden--visually\" id=\"c5720cd6-775d-4022-942a-a2196314e2f6\" type=\"checkbox\" ><label for=\"c5720cd6-775d-4022-942a-a2196314e2f6\" class=\"sk-toggleable__label sk-toggleable__label-arrow\">FunctionTransformer</label><div class=\"sk-toggleable__content\"><pre>FunctionTransformer(func=&lt;function &lt;lambda&gt; at 0x135bf24c0&gt;)</pre></div></div></div></div></div></div></div></div></div></div>"
      ],
      "text/plain": [
       "FeatureUnion(transformer_list=[('bmi_age_ratio',\n",
       "                                FunctionTransformer(func=<function <lambda> at 0x135bf24c0>))])"
      ]
     },
     "execution_count": 32,
     "metadata": {},
     "output_type": "execute_result"
    }
   ],
   "source": [
    "union = FeatureUnion([\n",
    "    (#pass through data frame)\n",
    "    ('bmi_age_ratio', bmi_age_ratio_constructor) # new colums 9,\n",
    "        remainder = 'passthrough'\n",
    "])\n",
    "\n",
    "\n",
    "union.fit(X)\n"
   ]
  },
  {
   "cell_type": "code",
   "execution_count": 33,
   "id": "f976d7b4",
   "metadata": {},
   "outputs": [
    {
     "data": {
      "text/html": [
       "<div>\n",
       "<style scoped>\n",
       "    .dataframe tbody tr th:only-of-type {\n",
       "        vertical-align: middle;\n",
       "    }\n",
       "\n",
       "    .dataframe tbody tr th {\n",
       "        vertical-align: top;\n",
       "    }\n",
       "\n",
       "    .dataframe thead th {\n",
       "        text-align: right;\n",
       "    }\n",
       "</style>\n",
       "<table border=\"1\" class=\"dataframe\">\n",
       "  <thead>\n",
       "    <tr style=\"text-align: right;\">\n",
       "      <th></th>\n",
       "      <th>0</th>\n",
       "    </tr>\n",
       "  </thead>\n",
       "  <tbody>\n",
       "    <tr>\n",
       "      <th>0</th>\n",
       "      <td>1.468421</td>\n",
       "    </tr>\n",
       "    <tr>\n",
       "      <th>1</th>\n",
       "      <td>1.876111</td>\n",
       "    </tr>\n",
       "    <tr>\n",
       "      <th>2</th>\n",
       "      <td>NaN</td>\n",
       "    </tr>\n",
       "    <tr>\n",
       "      <th>3</th>\n",
       "      <td>0.688030</td>\n",
       "    </tr>\n",
       "    <tr>\n",
       "      <th>4</th>\n",
       "      <td>0.902500</td>\n",
       "    </tr>\n",
       "  </tbody>\n",
       "</table>\n",
       "</div>"
      ],
      "text/plain": [
       "          0\n",
       "0  1.468421\n",
       "1  1.876111\n",
       "2       NaN\n",
       "3  0.688030\n",
       "4  0.902500"
      ]
     },
     "execution_count": 33,
     "metadata": {},
     "output_type": "execute_result"
    }
   ],
   "source": [
    "pd.DataFrame(union.fit_transform(X)).head()"
   ]
  },
  {
   "cell_type": "code",
   "execution_count": 29,
   "id": "fe5ede8f",
   "metadata": {},
   "outputs": [
    {
     "data": {
      "text/html": [
       "<div>\n",
       "<style scoped>\n",
       "    .dataframe tbody tr th:only-of-type {\n",
       "        vertical-align: middle;\n",
       "    }\n",
       "\n",
       "    .dataframe tbody tr th {\n",
       "        vertical-align: top;\n",
       "    }\n",
       "\n",
       "    .dataframe thead th {\n",
       "        text-align: right;\n",
       "    }\n",
       "</style>\n",
       "<table border=\"1\" class=\"dataframe\">\n",
       "  <thead>\n",
       "    <tr style=\"text-align: right;\">\n",
       "      <th></th>\n",
       "      <th>0</th>\n",
       "      <th>1</th>\n",
       "      <th>2</th>\n",
       "      <th>3</th>\n",
       "      <th>4</th>\n",
       "      <th>5</th>\n",
       "      <th>6</th>\n",
       "      <th>7</th>\n",
       "      <th>8</th>\n",
       "      <th>9</th>\n",
       "    </tr>\n",
       "  </thead>\n",
       "  <tbody>\n",
       "    <tr>\n",
       "      <th>0</th>\n",
       "      <td>-0.48</td>\n",
       "      <td>-1.46</td>\n",
       "      <td>0.0</td>\n",
       "      <td>0.0</td>\n",
       "      <td>0.0</td>\n",
       "      <td>1.0</td>\n",
       "      <td>0.0</td>\n",
       "      <td>1.0</td>\n",
       "      <td>0.0</td>\n",
       "      <td>1.468421</td>\n",
       "    </tr>\n",
       "  </tbody>\n",
       "</table>\n",
       "</div>"
      ],
      "text/plain": [
       "      0     1    2    3    4    5    6    7    8         9\n",
       "0 -0.48 -1.46  0.0  0.0  0.0  1.0  0.0  1.0  0.0  1.468421"
      ]
     },
     "execution_count": 29,
     "metadata": {},
     "output_type": "execute_result"
    }
   ],
   "source": [
    "pd.DataFrame(union.fit_transform(X_train)).head(1)"
   ]
  },
  {
   "cell_type": "code",
   "execution_count": 35,
   "id": "e7278350",
   "metadata": {},
   "outputs": [
    {
     "data": {
      "text/html": [
       "<style>#sk-4f1c4c2a-d401-43ea-91f4-8ebbf868f192 {color: black;background-color: white;}#sk-4f1c4c2a-d401-43ea-91f4-8ebbf868f192 pre{padding: 0;}#sk-4f1c4c2a-d401-43ea-91f4-8ebbf868f192 div.sk-toggleable {background-color: white;}#sk-4f1c4c2a-d401-43ea-91f4-8ebbf868f192 label.sk-toggleable__label {cursor: pointer;display: block;width: 100%;margin-bottom: 0;padding: 0.3em;box-sizing: border-box;text-align: center;}#sk-4f1c4c2a-d401-43ea-91f4-8ebbf868f192 label.sk-toggleable__label-arrow:before {content: \"▸\";float: left;margin-right: 0.25em;color: #696969;}#sk-4f1c4c2a-d401-43ea-91f4-8ebbf868f192 label.sk-toggleable__label-arrow:hover:before {color: black;}#sk-4f1c4c2a-d401-43ea-91f4-8ebbf868f192 div.sk-estimator:hover label.sk-toggleable__label-arrow:before {color: black;}#sk-4f1c4c2a-d401-43ea-91f4-8ebbf868f192 div.sk-toggleable__content {max-height: 0;max-width: 0;overflow: hidden;text-align: left;background-color: #f0f8ff;}#sk-4f1c4c2a-d401-43ea-91f4-8ebbf868f192 div.sk-toggleable__content pre {margin: 0.2em;color: black;border-radius: 0.25em;background-color: #f0f8ff;}#sk-4f1c4c2a-d401-43ea-91f4-8ebbf868f192 input.sk-toggleable__control:checked~div.sk-toggleable__content {max-height: 200px;max-width: 100%;overflow: auto;}#sk-4f1c4c2a-d401-43ea-91f4-8ebbf868f192 input.sk-toggleable__control:checked~label.sk-toggleable__label-arrow:before {content: \"▾\";}#sk-4f1c4c2a-d401-43ea-91f4-8ebbf868f192 div.sk-estimator input.sk-toggleable__control:checked~label.sk-toggleable__label {background-color: #d4ebff;}#sk-4f1c4c2a-d401-43ea-91f4-8ebbf868f192 div.sk-label input.sk-toggleable__control:checked~label.sk-toggleable__label {background-color: #d4ebff;}#sk-4f1c4c2a-d401-43ea-91f4-8ebbf868f192 input.sk-hidden--visually {border: 0;clip: rect(1px 1px 1px 1px);clip: rect(1px, 1px, 1px, 1px);height: 1px;margin: -1px;overflow: hidden;padding: 0;position: absolute;width: 1px;}#sk-4f1c4c2a-d401-43ea-91f4-8ebbf868f192 div.sk-estimator {font-family: monospace;background-color: #f0f8ff;border: 1px dotted black;border-radius: 0.25em;box-sizing: border-box;margin-bottom: 0.5em;}#sk-4f1c4c2a-d401-43ea-91f4-8ebbf868f192 div.sk-estimator:hover {background-color: #d4ebff;}#sk-4f1c4c2a-d401-43ea-91f4-8ebbf868f192 div.sk-parallel-item::after {content: \"\";width: 100%;border-bottom: 1px solid gray;flex-grow: 1;}#sk-4f1c4c2a-d401-43ea-91f4-8ebbf868f192 div.sk-label:hover label.sk-toggleable__label {background-color: #d4ebff;}#sk-4f1c4c2a-d401-43ea-91f4-8ebbf868f192 div.sk-serial::before {content: \"\";position: absolute;border-left: 1px solid gray;box-sizing: border-box;top: 2em;bottom: 0;left: 50%;}#sk-4f1c4c2a-d401-43ea-91f4-8ebbf868f192 div.sk-serial {display: flex;flex-direction: column;align-items: center;background-color: white;padding-right: 0.2em;padding-left: 0.2em;}#sk-4f1c4c2a-d401-43ea-91f4-8ebbf868f192 div.sk-item {z-index: 1;}#sk-4f1c4c2a-d401-43ea-91f4-8ebbf868f192 div.sk-parallel {display: flex;align-items: stretch;justify-content: center;background-color: white;}#sk-4f1c4c2a-d401-43ea-91f4-8ebbf868f192 div.sk-parallel::before {content: \"\";position: absolute;border-left: 1px solid gray;box-sizing: border-box;top: 2em;bottom: 0;left: 50%;}#sk-4f1c4c2a-d401-43ea-91f4-8ebbf868f192 div.sk-parallel-item {display: flex;flex-direction: column;position: relative;background-color: white;}#sk-4f1c4c2a-d401-43ea-91f4-8ebbf868f192 div.sk-parallel-item:first-child::after {align-self: flex-end;width: 50%;}#sk-4f1c4c2a-d401-43ea-91f4-8ebbf868f192 div.sk-parallel-item:last-child::after {align-self: flex-start;width: 50%;}#sk-4f1c4c2a-d401-43ea-91f4-8ebbf868f192 div.sk-parallel-item:only-child::after {width: 0;}#sk-4f1c4c2a-d401-43ea-91f4-8ebbf868f192 div.sk-dashed-wrapped {border: 1px dashed gray;margin: 0 0.4em 0.5em 0.4em;box-sizing: border-box;padding-bottom: 0.4em;background-color: white;position: relative;}#sk-4f1c4c2a-d401-43ea-91f4-8ebbf868f192 div.sk-label label {font-family: monospace;font-weight: bold;background-color: white;display: inline-block;line-height: 1.2em;}#sk-4f1c4c2a-d401-43ea-91f4-8ebbf868f192 div.sk-label-container {position: relative;z-index: 2;text-align: center;}#sk-4f1c4c2a-d401-43ea-91f4-8ebbf868f192 div.sk-container {/* jupyter's `normalize.less` sets `[hidden] { display: none; }` but bootstrap.min.css set `[hidden] { display: none !important; }` so we also need the `!important` here to be able to override the default hidden behavior on the sphinx rendered scikit-learn.org. See: https://github.com/scikit-learn/scikit-learn/issues/21755 */display: inline-block !important;position: relative;}#sk-4f1c4c2a-d401-43ea-91f4-8ebbf868f192 div.sk-text-repr-fallback {display: none;}</style><div id=\"sk-4f1c4c2a-d401-43ea-91f4-8ebbf868f192\" class=\"sk-top-container\"><div class=\"sk-text-repr-fallback\"><pre>Pipeline(steps=[(&#x27;simpleimputer&#x27;, SimpleImputer()),\n",
       "                (&#x27;standardscaler&#x27;, StandardScaler())])</pre><b>Please rerun this cell to show the HTML repr or trust the notebook.</b></div><div class=\"sk-container\" hidden><div class=\"sk-item sk-dashed-wrapped\"><div class=\"sk-label-container\"><div class=\"sk-label sk-toggleable\"><input class=\"sk-toggleable__control sk-hidden--visually\" id=\"a3b750eb-4049-403e-b5e3-46d01b0469cc\" type=\"checkbox\" ><label for=\"a3b750eb-4049-403e-b5e3-46d01b0469cc\" class=\"sk-toggleable__label sk-toggleable__label-arrow\">Pipeline</label><div class=\"sk-toggleable__content\"><pre>Pipeline(steps=[(&#x27;simpleimputer&#x27;, SimpleImputer()),\n",
       "                (&#x27;standardscaler&#x27;, StandardScaler())])</pre></div></div></div><div class=\"sk-serial\"><div class=\"sk-item\"><div class=\"sk-estimator sk-toggleable\"><input class=\"sk-toggleable__control sk-hidden--visually\" id=\"f35f950a-0f88-4a79-958a-7495f8f002a8\" type=\"checkbox\" ><label for=\"f35f950a-0f88-4a79-958a-7495f8f002a8\" class=\"sk-toggleable__label sk-toggleable__label-arrow\">SimpleImputer</label><div class=\"sk-toggleable__content\"><pre>SimpleImputer()</pre></div></div></div><div class=\"sk-item\"><div class=\"sk-estimator sk-toggleable\"><input class=\"sk-toggleable__control sk-hidden--visually\" id=\"bdd1355a-75ac-49ce-8af5-ce1d60cc15ef\" type=\"checkbox\" ><label for=\"bdd1355a-75ac-49ce-8af5-ce1d60cc15ef\" class=\"sk-toggleable__label sk-toggleable__label-arrow\">StandardScaler</label><div class=\"sk-toggleable__content\"><pre>StandardScaler()</pre></div></div></div></div></div></div></div>"
      ],
      "text/plain": [
       "Pipeline(steps=[('simpleimputer', SimpleImputer()),\n",
       "                ('standardscaler', StandardScaler())])"
      ]
     },
     "execution_count": 35,
     "metadata": {},
     "output_type": "execute_result"
    }
   ],
   "source": [
    "from sklearn.pipeline import make_pipeline\n",
    "from sklearn.pipeline import make_union\n",
    "from sklearn.compose import make_column_transformer\n",
    "\n",
    "Pipeline([\n",
    "    ('my_name_for_imputer', SimpleImputer()),\n",
    "    ('my_name_for_scaler', StandardScaler())\n",
    "])\n",
    "\n",
    "# Equivalent to\n",
    "make_pipeline(SimpleImputer(), StandardScaler())"
   ]
  },
  {
   "cell_type": "code",
   "execution_count": 36,
   "id": "c2af288b",
   "metadata": {},
   "outputs": [
    {
     "data": {
      "text/html": [
       "<style>#sk-91390947-8631-4cb9-a344-4ad7f2df70fd {color: black;background-color: white;}#sk-91390947-8631-4cb9-a344-4ad7f2df70fd pre{padding: 0;}#sk-91390947-8631-4cb9-a344-4ad7f2df70fd div.sk-toggleable {background-color: white;}#sk-91390947-8631-4cb9-a344-4ad7f2df70fd label.sk-toggleable__label {cursor: pointer;display: block;width: 100%;margin-bottom: 0;padding: 0.3em;box-sizing: border-box;text-align: center;}#sk-91390947-8631-4cb9-a344-4ad7f2df70fd label.sk-toggleable__label-arrow:before {content: \"▸\";float: left;margin-right: 0.25em;color: #696969;}#sk-91390947-8631-4cb9-a344-4ad7f2df70fd label.sk-toggleable__label-arrow:hover:before {color: black;}#sk-91390947-8631-4cb9-a344-4ad7f2df70fd div.sk-estimator:hover label.sk-toggleable__label-arrow:before {color: black;}#sk-91390947-8631-4cb9-a344-4ad7f2df70fd div.sk-toggleable__content {max-height: 0;max-width: 0;overflow: hidden;text-align: left;background-color: #f0f8ff;}#sk-91390947-8631-4cb9-a344-4ad7f2df70fd div.sk-toggleable__content pre {margin: 0.2em;color: black;border-radius: 0.25em;background-color: #f0f8ff;}#sk-91390947-8631-4cb9-a344-4ad7f2df70fd input.sk-toggleable__control:checked~div.sk-toggleable__content {max-height: 200px;max-width: 100%;overflow: auto;}#sk-91390947-8631-4cb9-a344-4ad7f2df70fd input.sk-toggleable__control:checked~label.sk-toggleable__label-arrow:before {content: \"▾\";}#sk-91390947-8631-4cb9-a344-4ad7f2df70fd div.sk-estimator input.sk-toggleable__control:checked~label.sk-toggleable__label {background-color: #d4ebff;}#sk-91390947-8631-4cb9-a344-4ad7f2df70fd div.sk-label input.sk-toggleable__control:checked~label.sk-toggleable__label {background-color: #d4ebff;}#sk-91390947-8631-4cb9-a344-4ad7f2df70fd input.sk-hidden--visually {border: 0;clip: rect(1px 1px 1px 1px);clip: rect(1px, 1px, 1px, 1px);height: 1px;margin: -1px;overflow: hidden;padding: 0;position: absolute;width: 1px;}#sk-91390947-8631-4cb9-a344-4ad7f2df70fd div.sk-estimator {font-family: monospace;background-color: #f0f8ff;border: 1px dotted black;border-radius: 0.25em;box-sizing: border-box;margin-bottom: 0.5em;}#sk-91390947-8631-4cb9-a344-4ad7f2df70fd div.sk-estimator:hover {background-color: #d4ebff;}#sk-91390947-8631-4cb9-a344-4ad7f2df70fd div.sk-parallel-item::after {content: \"\";width: 100%;border-bottom: 1px solid gray;flex-grow: 1;}#sk-91390947-8631-4cb9-a344-4ad7f2df70fd div.sk-label:hover label.sk-toggleable__label {background-color: #d4ebff;}#sk-91390947-8631-4cb9-a344-4ad7f2df70fd div.sk-serial::before {content: \"\";position: absolute;border-left: 1px solid gray;box-sizing: border-box;top: 2em;bottom: 0;left: 50%;}#sk-91390947-8631-4cb9-a344-4ad7f2df70fd div.sk-serial {display: flex;flex-direction: column;align-items: center;background-color: white;padding-right: 0.2em;padding-left: 0.2em;}#sk-91390947-8631-4cb9-a344-4ad7f2df70fd div.sk-item {z-index: 1;}#sk-91390947-8631-4cb9-a344-4ad7f2df70fd div.sk-parallel {display: flex;align-items: stretch;justify-content: center;background-color: white;}#sk-91390947-8631-4cb9-a344-4ad7f2df70fd div.sk-parallel::before {content: \"\";position: absolute;border-left: 1px solid gray;box-sizing: border-box;top: 2em;bottom: 0;left: 50%;}#sk-91390947-8631-4cb9-a344-4ad7f2df70fd div.sk-parallel-item {display: flex;flex-direction: column;position: relative;background-color: white;}#sk-91390947-8631-4cb9-a344-4ad7f2df70fd div.sk-parallel-item:first-child::after {align-self: flex-end;width: 50%;}#sk-91390947-8631-4cb9-a344-4ad7f2df70fd div.sk-parallel-item:last-child::after {align-self: flex-start;width: 50%;}#sk-91390947-8631-4cb9-a344-4ad7f2df70fd div.sk-parallel-item:only-child::after {width: 0;}#sk-91390947-8631-4cb9-a344-4ad7f2df70fd div.sk-dashed-wrapped {border: 1px dashed gray;margin: 0 0.4em 0.5em 0.4em;box-sizing: border-box;padding-bottom: 0.4em;background-color: white;position: relative;}#sk-91390947-8631-4cb9-a344-4ad7f2df70fd div.sk-label label {font-family: monospace;font-weight: bold;background-color: white;display: inline-block;line-height: 1.2em;}#sk-91390947-8631-4cb9-a344-4ad7f2df70fd div.sk-label-container {position: relative;z-index: 2;text-align: center;}#sk-91390947-8631-4cb9-a344-4ad7f2df70fd div.sk-container {/* jupyter's `normalize.less` sets `[hidden] { display: none; }` but bootstrap.min.css set `[hidden] { display: none !important; }` so we also need the `!important` here to be able to override the default hidden behavior on the sphinx rendered scikit-learn.org. See: https://github.com/scikit-learn/scikit-learn/issues/21755 */display: inline-block !important;position: relative;}#sk-91390947-8631-4cb9-a344-4ad7f2df70fd div.sk-text-repr-fallback {display: none;}</style><div id=\"sk-91390947-8631-4cb9-a344-4ad7f2df70fd\" class=\"sk-top-container\"><div class=\"sk-text-repr-fallback\"><pre>FeatureUnion(transformer_list=[(&#x27;columntransformer&#x27;,\n",
       "                                ColumnTransformer(remainder=&#x27;passthrough&#x27;,\n",
       "                                                  transformers=[(&#x27;pipeline&#x27;,\n",
       "                                                                 Pipeline(steps=[(&#x27;simpleimputer&#x27;,\n",
       "                                                                                  SimpleImputer()),\n",
       "                                                                                 (&#x27;standardscaler&#x27;,\n",
       "                                                                                  StandardScaler())]),\n",
       "                                                                 [&#x27;age&#x27;,\n",
       "                                                                  &#x27;bmi&#x27;]),\n",
       "                                                                (&#x27;onehotencoder&#x27;,\n",
       "                                                                 OneHotEncoder(),\n",
       "                                                                 [&#x27;smoker&#x27;,\n",
       "                                                                  &#x27;region&#x27;])])),\n",
       "                               (&#x27;functiontransformer&#x27;,\n",
       "                                FunctionTransformer(func=&lt;function &lt;lambda&gt; at 0x135bf24c0&gt;))])</pre><b>Please rerun this cell to show the HTML repr or trust the notebook.</b></div><div class=\"sk-container\" hidden><div class=\"sk-item sk-dashed-wrapped\"><div class=\"sk-label-container\"><div class=\"sk-label sk-toggleable\"><input class=\"sk-toggleable__control sk-hidden--visually\" id=\"da158369-0250-4ed6-91dd-338a5defe923\" type=\"checkbox\" ><label for=\"da158369-0250-4ed6-91dd-338a5defe923\" class=\"sk-toggleable__label sk-toggleable__label-arrow\">FeatureUnion</label><div class=\"sk-toggleable__content\"><pre>FeatureUnion(transformer_list=[(&#x27;columntransformer&#x27;,\n",
       "                                ColumnTransformer(remainder=&#x27;passthrough&#x27;,\n",
       "                                                  transformers=[(&#x27;pipeline&#x27;,\n",
       "                                                                 Pipeline(steps=[(&#x27;simpleimputer&#x27;,\n",
       "                                                                                  SimpleImputer()),\n",
       "                                                                                 (&#x27;standardscaler&#x27;,\n",
       "                                                                                  StandardScaler())]),\n",
       "                                                                 [&#x27;age&#x27;,\n",
       "                                                                  &#x27;bmi&#x27;]),\n",
       "                                                                (&#x27;onehotencoder&#x27;,\n",
       "                                                                 OneHotEncoder(),\n",
       "                                                                 [&#x27;smoker&#x27;,\n",
       "                                                                  &#x27;region&#x27;])])),\n",
       "                               (&#x27;functiontransformer&#x27;,\n",
       "                                FunctionTransformer(func=&lt;function &lt;lambda&gt; at 0x135bf24c0&gt;))])</pre></div></div></div><div class=\"sk-parallel\"><div class=\"sk-parallel-item\"><div class=\"sk-item\"><div class=\"sk-label-container\"><div class=\"sk-label sk-toggleable\"><label>columntransformer</label></div></div><div class=\"sk-serial\"><div class=\"sk-item sk-dashed-wrapped\"><div class=\"sk-parallel\"><div class=\"sk-parallel-item\"><div class=\"sk-item\"><div class=\"sk-label-container\"><div class=\"sk-label sk-toggleable\"><input class=\"sk-toggleable__control sk-hidden--visually\" id=\"32a1c200-8fe3-438c-ad61-0f56bd83d385\" type=\"checkbox\" ><label for=\"32a1c200-8fe3-438c-ad61-0f56bd83d385\" class=\"sk-toggleable__label sk-toggleable__label-arrow\">pipeline</label><div class=\"sk-toggleable__content\"><pre>[&#x27;age&#x27;, &#x27;bmi&#x27;]</pre></div></div></div><div class=\"sk-serial\"><div class=\"sk-item\"><div class=\"sk-serial\"><div class=\"sk-item\"><div class=\"sk-estimator sk-toggleable\"><input class=\"sk-toggleable__control sk-hidden--visually\" id=\"ec4fccc5-8d8c-43df-9106-1ce5ea1a7f46\" type=\"checkbox\" ><label for=\"ec4fccc5-8d8c-43df-9106-1ce5ea1a7f46\" class=\"sk-toggleable__label sk-toggleable__label-arrow\">SimpleImputer</label><div class=\"sk-toggleable__content\"><pre>SimpleImputer()</pre></div></div></div><div class=\"sk-item\"><div class=\"sk-estimator sk-toggleable\"><input class=\"sk-toggleable__control sk-hidden--visually\" id=\"06f427ea-b382-4816-9083-0e02063cf30d\" type=\"checkbox\" ><label for=\"06f427ea-b382-4816-9083-0e02063cf30d\" class=\"sk-toggleable__label sk-toggleable__label-arrow\">StandardScaler</label><div class=\"sk-toggleable__content\"><pre>StandardScaler()</pre></div></div></div></div></div></div></div></div><div class=\"sk-parallel-item\"><div class=\"sk-item\"><div class=\"sk-label-container\"><div class=\"sk-label sk-toggleable\"><input class=\"sk-toggleable__control sk-hidden--visually\" id=\"ac79ba96-c572-4f1e-b8f2-e83a135bf4bd\" type=\"checkbox\" ><label for=\"ac79ba96-c572-4f1e-b8f2-e83a135bf4bd\" class=\"sk-toggleable__label sk-toggleable__label-arrow\">onehotencoder</label><div class=\"sk-toggleable__content\"><pre>[&#x27;smoker&#x27;, &#x27;region&#x27;]</pre></div></div></div><div class=\"sk-serial\"><div class=\"sk-item\"><div class=\"sk-estimator sk-toggleable\"><input class=\"sk-toggleable__control sk-hidden--visually\" id=\"d571264f-1836-48a1-9399-015702043e4c\" type=\"checkbox\" ><label for=\"d571264f-1836-48a1-9399-015702043e4c\" class=\"sk-toggleable__label sk-toggleable__label-arrow\">OneHotEncoder</label><div class=\"sk-toggleable__content\"><pre>OneHotEncoder()</pre></div></div></div></div></div></div><div class=\"sk-parallel-item\"><div class=\"sk-item\"><div class=\"sk-label-container\"><div class=\"sk-label sk-toggleable\"><input class=\"sk-toggleable__control sk-hidden--visually\" id=\"d854af64-326e-4aa5-982c-cf74da514c8a\" type=\"checkbox\" ><label for=\"d854af64-326e-4aa5-982c-cf74da514c8a\" class=\"sk-toggleable__label sk-toggleable__label-arrow\">remainder</label><div class=\"sk-toggleable__content\"><pre></pre></div></div></div><div class=\"sk-serial\"><div class=\"sk-item\"><div class=\"sk-estimator sk-toggleable\"><input class=\"sk-toggleable__control sk-hidden--visually\" id=\"4677311e-3226-4908-94f9-25c30bebda9d\" type=\"checkbox\" ><label for=\"4677311e-3226-4908-94f9-25c30bebda9d\" class=\"sk-toggleable__label sk-toggleable__label-arrow\">passthrough</label><div class=\"sk-toggleable__content\"><pre>passthrough</pre></div></div></div></div></div></div></div></div></div></div></div><div class=\"sk-parallel-item\"><div class=\"sk-item\"><div class=\"sk-label-container\"><div class=\"sk-label sk-toggleable\"><label>functiontransformer</label></div></div><div class=\"sk-serial\"><div class=\"sk-item\"><div class=\"sk-estimator sk-toggleable\"><input class=\"sk-toggleable__control sk-hidden--visually\" id=\"1bac5696-7840-4578-809d-9413f0d24e68\" type=\"checkbox\" ><label for=\"1bac5696-7840-4578-809d-9413f0d24e68\" class=\"sk-toggleable__label sk-toggleable__label-arrow\">FunctionTransformer</label><div class=\"sk-toggleable__content\"><pre>FunctionTransformer(func=&lt;function &lt;lambda&gt; at 0x135bf24c0&gt;)</pre></div></div></div></div></div></div></div></div></div></div>"
      ],
      "text/plain": [
       "FeatureUnion(transformer_list=[('columntransformer',\n",
       "                                ColumnTransformer(remainder='passthrough',\n",
       "                                                  transformers=[('pipeline',\n",
       "                                                                 Pipeline(steps=[('simpleimputer',\n",
       "                                                                                  SimpleImputer()),\n",
       "                                                                                 ('standardscaler',\n",
       "                                                                                  StandardScaler())]),\n",
       "                                                                 ['age',\n",
       "                                                                  'bmi']),\n",
       "                                                                ('onehotencoder',\n",
       "                                                                 OneHotEncoder(),\n",
       "                                                                 ['smoker',\n",
       "                                                                  'region'])])),\n",
       "                               ('functiontransformer',\n",
       "                                FunctionTransformer(func=<function <lambda> at 0x135bf24c0>))])"
      ]
     },
     "execution_count": 36,
     "metadata": {},
     "output_type": "execute_result"
    }
   ],
   "source": [
    "num_transformer = make_pipeline(SimpleImputer(), StandardScaler())\n",
    "cat_transformer = OneHotEncoder()\n",
    "\n",
    "preproc_basic = make_column_transformer((num_transformer, ['age', 'bmi']),\n",
    "                                       (cat_transformer, ['smoker', 'region']),\n",
    "                                       remainder='passthrough')\n",
    "\n",
    "preproc_full = make_union(preproc_basic, bmi_age_ratio_constructor)\n",
    "preproc_full"
   ]
  },
  {
   "cell_type": "code",
   "execution_count": 37,
   "id": "05ee58e5",
   "metadata": {},
   "outputs": [
    {
     "data": {
      "text/plain": [
       "age         float64\n",
       "bmi         float64\n",
       "children      int64\n",
       "smoker         bool\n",
       "region       object\n",
       "dtype: object"
      ]
     },
     "execution_count": 37,
     "metadata": {},
     "output_type": "execute_result"
    }
   ],
   "source": [
    "#make_column_selector selects features automatically based on dtype\n",
    "\n",
    "from sklearn.compose import make_column_selector\n",
    "\n",
    "num_col = make_column_selector(dtype_include=['float64'])\n",
    "cat_col = make_column_selector(dtype_include=['object','bool'])\n",
    "\n",
    "X_train.dtypes"
   ]
  },
  {
   "cell_type": "code",
   "execution_count": 38,
   "id": "f5a253d9",
   "metadata": {},
   "outputs": [
    {
     "data": {
      "text/html": [
       "<style>#sk-e47999ad-13e9-4f0e-bbed-193e9bb5242d {color: black;background-color: white;}#sk-e47999ad-13e9-4f0e-bbed-193e9bb5242d pre{padding: 0;}#sk-e47999ad-13e9-4f0e-bbed-193e9bb5242d div.sk-toggleable {background-color: white;}#sk-e47999ad-13e9-4f0e-bbed-193e9bb5242d label.sk-toggleable__label {cursor: pointer;display: block;width: 100%;margin-bottom: 0;padding: 0.3em;box-sizing: border-box;text-align: center;}#sk-e47999ad-13e9-4f0e-bbed-193e9bb5242d label.sk-toggleable__label-arrow:before {content: \"▸\";float: left;margin-right: 0.25em;color: #696969;}#sk-e47999ad-13e9-4f0e-bbed-193e9bb5242d label.sk-toggleable__label-arrow:hover:before {color: black;}#sk-e47999ad-13e9-4f0e-bbed-193e9bb5242d div.sk-estimator:hover label.sk-toggleable__label-arrow:before {color: black;}#sk-e47999ad-13e9-4f0e-bbed-193e9bb5242d div.sk-toggleable__content {max-height: 0;max-width: 0;overflow: hidden;text-align: left;background-color: #f0f8ff;}#sk-e47999ad-13e9-4f0e-bbed-193e9bb5242d div.sk-toggleable__content pre {margin: 0.2em;color: black;border-radius: 0.25em;background-color: #f0f8ff;}#sk-e47999ad-13e9-4f0e-bbed-193e9bb5242d input.sk-toggleable__control:checked~div.sk-toggleable__content {max-height: 200px;max-width: 100%;overflow: auto;}#sk-e47999ad-13e9-4f0e-bbed-193e9bb5242d input.sk-toggleable__control:checked~label.sk-toggleable__label-arrow:before {content: \"▾\";}#sk-e47999ad-13e9-4f0e-bbed-193e9bb5242d div.sk-estimator input.sk-toggleable__control:checked~label.sk-toggleable__label {background-color: #d4ebff;}#sk-e47999ad-13e9-4f0e-bbed-193e9bb5242d div.sk-label input.sk-toggleable__control:checked~label.sk-toggleable__label {background-color: #d4ebff;}#sk-e47999ad-13e9-4f0e-bbed-193e9bb5242d input.sk-hidden--visually {border: 0;clip: rect(1px 1px 1px 1px);clip: rect(1px, 1px, 1px, 1px);height: 1px;margin: -1px;overflow: hidden;padding: 0;position: absolute;width: 1px;}#sk-e47999ad-13e9-4f0e-bbed-193e9bb5242d div.sk-estimator {font-family: monospace;background-color: #f0f8ff;border: 1px dotted black;border-radius: 0.25em;box-sizing: border-box;margin-bottom: 0.5em;}#sk-e47999ad-13e9-4f0e-bbed-193e9bb5242d div.sk-estimator:hover {background-color: #d4ebff;}#sk-e47999ad-13e9-4f0e-bbed-193e9bb5242d div.sk-parallel-item::after {content: \"\";width: 100%;border-bottom: 1px solid gray;flex-grow: 1;}#sk-e47999ad-13e9-4f0e-bbed-193e9bb5242d div.sk-label:hover label.sk-toggleable__label {background-color: #d4ebff;}#sk-e47999ad-13e9-4f0e-bbed-193e9bb5242d div.sk-serial::before {content: \"\";position: absolute;border-left: 1px solid gray;box-sizing: border-box;top: 2em;bottom: 0;left: 50%;}#sk-e47999ad-13e9-4f0e-bbed-193e9bb5242d div.sk-serial {display: flex;flex-direction: column;align-items: center;background-color: white;padding-right: 0.2em;padding-left: 0.2em;}#sk-e47999ad-13e9-4f0e-bbed-193e9bb5242d div.sk-item {z-index: 1;}#sk-e47999ad-13e9-4f0e-bbed-193e9bb5242d div.sk-parallel {display: flex;align-items: stretch;justify-content: center;background-color: white;}#sk-e47999ad-13e9-4f0e-bbed-193e9bb5242d div.sk-parallel::before {content: \"\";position: absolute;border-left: 1px solid gray;box-sizing: border-box;top: 2em;bottom: 0;left: 50%;}#sk-e47999ad-13e9-4f0e-bbed-193e9bb5242d div.sk-parallel-item {display: flex;flex-direction: column;position: relative;background-color: white;}#sk-e47999ad-13e9-4f0e-bbed-193e9bb5242d div.sk-parallel-item:first-child::after {align-self: flex-end;width: 50%;}#sk-e47999ad-13e9-4f0e-bbed-193e9bb5242d div.sk-parallel-item:last-child::after {align-self: flex-start;width: 50%;}#sk-e47999ad-13e9-4f0e-bbed-193e9bb5242d div.sk-parallel-item:only-child::after {width: 0;}#sk-e47999ad-13e9-4f0e-bbed-193e9bb5242d div.sk-dashed-wrapped {border: 1px dashed gray;margin: 0 0.4em 0.5em 0.4em;box-sizing: border-box;padding-bottom: 0.4em;background-color: white;position: relative;}#sk-e47999ad-13e9-4f0e-bbed-193e9bb5242d div.sk-label label {font-family: monospace;font-weight: bold;background-color: white;display: inline-block;line-height: 1.2em;}#sk-e47999ad-13e9-4f0e-bbed-193e9bb5242d div.sk-label-container {position: relative;z-index: 2;text-align: center;}#sk-e47999ad-13e9-4f0e-bbed-193e9bb5242d div.sk-container {/* jupyter's `normalize.less` sets `[hidden] { display: none; }` but bootstrap.min.css set `[hidden] { display: none !important; }` so we also need the `!important` here to be able to override the default hidden behavior on the sphinx rendered scikit-learn.org. See: https://github.com/scikit-learn/scikit-learn/issues/21755 */display: inline-block !important;position: relative;}#sk-e47999ad-13e9-4f0e-bbed-193e9bb5242d div.sk-text-repr-fallback {display: none;}</style><div id=\"sk-e47999ad-13e9-4f0e-bbed-193e9bb5242d\" class=\"sk-top-container\"><div class=\"sk-text-repr-fallback\"><pre>FeatureUnion(transformer_list=[(&#x27;columntransformer&#x27;,\n",
       "                                ColumnTransformer(remainder=&#x27;passthrough&#x27;,\n",
       "                                                  transformers=[(&#x27;pipeline&#x27;,\n",
       "                                                                 Pipeline(steps=[(&#x27;simpleimputer&#x27;,\n",
       "                                                                                  SimpleImputer()),\n",
       "                                                                                 (&#x27;standardscaler&#x27;,\n",
       "                                                                                  StandardScaler())]),\n",
       "                                                                 &lt;sklearn.compose._column_transformer.make_column_selector object at 0x135ec9d30&gt;),\n",
       "                                                                (&#x27;onehotencoder&#x27;,\n",
       "                                                                 OneHotEncoder(),\n",
       "                                                                 &lt;sklearn.compose._column_transformer.make_column_selector object at 0x135af7e50&gt;)])),\n",
       "                               (&#x27;functiontransformer&#x27;,\n",
       "                                FunctionTransformer(func=&lt;function &lt;lambda&gt; at 0x135bf24c0&gt;))])</pre><b>Please rerun this cell to show the HTML repr or trust the notebook.</b></div><div class=\"sk-container\" hidden><div class=\"sk-item sk-dashed-wrapped\"><div class=\"sk-label-container\"><div class=\"sk-label sk-toggleable\"><input class=\"sk-toggleable__control sk-hidden--visually\" id=\"ab08acc1-741a-481d-96de-7903714dcfa9\" type=\"checkbox\" ><label for=\"ab08acc1-741a-481d-96de-7903714dcfa9\" class=\"sk-toggleable__label sk-toggleable__label-arrow\">FeatureUnion</label><div class=\"sk-toggleable__content\"><pre>FeatureUnion(transformer_list=[(&#x27;columntransformer&#x27;,\n",
       "                                ColumnTransformer(remainder=&#x27;passthrough&#x27;,\n",
       "                                                  transformers=[(&#x27;pipeline&#x27;,\n",
       "                                                                 Pipeline(steps=[(&#x27;simpleimputer&#x27;,\n",
       "                                                                                  SimpleImputer()),\n",
       "                                                                                 (&#x27;standardscaler&#x27;,\n",
       "                                                                                  StandardScaler())]),\n",
       "                                                                 &lt;sklearn.compose._column_transformer.make_column_selector object at 0x135ec9d30&gt;),\n",
       "                                                                (&#x27;onehotencoder&#x27;,\n",
       "                                                                 OneHotEncoder(),\n",
       "                                                                 &lt;sklearn.compose._column_transformer.make_column_selector object at 0x135af7e50&gt;)])),\n",
       "                               (&#x27;functiontransformer&#x27;,\n",
       "                                FunctionTransformer(func=&lt;function &lt;lambda&gt; at 0x135bf24c0&gt;))])</pre></div></div></div><div class=\"sk-parallel\"><div class=\"sk-parallel-item\"><div class=\"sk-item\"><div class=\"sk-label-container\"><div class=\"sk-label sk-toggleable\"><label>columntransformer</label></div></div><div class=\"sk-serial\"><div class=\"sk-item sk-dashed-wrapped\"><div class=\"sk-parallel\"><div class=\"sk-parallel-item\"><div class=\"sk-item\"><div class=\"sk-label-container\"><div class=\"sk-label sk-toggleable\"><input class=\"sk-toggleable__control sk-hidden--visually\" id=\"d978f663-daf3-4bc7-b722-96da4e2209bb\" type=\"checkbox\" ><label for=\"d978f663-daf3-4bc7-b722-96da4e2209bb\" class=\"sk-toggleable__label sk-toggleable__label-arrow\">pipeline</label><div class=\"sk-toggleable__content\"><pre>&lt;sklearn.compose._column_transformer.make_column_selector object at 0x135ec9d30&gt;</pre></div></div></div><div class=\"sk-serial\"><div class=\"sk-item\"><div class=\"sk-serial\"><div class=\"sk-item\"><div class=\"sk-estimator sk-toggleable\"><input class=\"sk-toggleable__control sk-hidden--visually\" id=\"a11ff5f3-bf4f-468e-a917-9fcec7825884\" type=\"checkbox\" ><label for=\"a11ff5f3-bf4f-468e-a917-9fcec7825884\" class=\"sk-toggleable__label sk-toggleable__label-arrow\">SimpleImputer</label><div class=\"sk-toggleable__content\"><pre>SimpleImputer()</pre></div></div></div><div class=\"sk-item\"><div class=\"sk-estimator sk-toggleable\"><input class=\"sk-toggleable__control sk-hidden--visually\" id=\"77a2d4b9-34bc-419e-86d3-166135cf6318\" type=\"checkbox\" ><label for=\"77a2d4b9-34bc-419e-86d3-166135cf6318\" class=\"sk-toggleable__label sk-toggleable__label-arrow\">StandardScaler</label><div class=\"sk-toggleable__content\"><pre>StandardScaler()</pre></div></div></div></div></div></div></div></div><div class=\"sk-parallel-item\"><div class=\"sk-item\"><div class=\"sk-label-container\"><div class=\"sk-label sk-toggleable\"><input class=\"sk-toggleable__control sk-hidden--visually\" id=\"58373e24-2b52-40d4-b793-5a21a93371ee\" type=\"checkbox\" ><label for=\"58373e24-2b52-40d4-b793-5a21a93371ee\" class=\"sk-toggleable__label sk-toggleable__label-arrow\">onehotencoder</label><div class=\"sk-toggleable__content\"><pre>&lt;sklearn.compose._column_transformer.make_column_selector object at 0x135af7e50&gt;</pre></div></div></div><div class=\"sk-serial\"><div class=\"sk-item\"><div class=\"sk-estimator sk-toggleable\"><input class=\"sk-toggleable__control sk-hidden--visually\" id=\"5c2c1d05-061c-42c8-b43e-261ab1e8baf6\" type=\"checkbox\" ><label for=\"5c2c1d05-061c-42c8-b43e-261ab1e8baf6\" class=\"sk-toggleable__label sk-toggleable__label-arrow\">OneHotEncoder</label><div class=\"sk-toggleable__content\"><pre>OneHotEncoder()</pre></div></div></div></div></div></div><div class=\"sk-parallel-item\"><div class=\"sk-item\"><div class=\"sk-label-container\"><div class=\"sk-label sk-toggleable\"><input class=\"sk-toggleable__control sk-hidden--visually\" id=\"3e046aad-6b4a-44c2-bb2f-56ebbca73269\" type=\"checkbox\" ><label for=\"3e046aad-6b4a-44c2-bb2f-56ebbca73269\" class=\"sk-toggleable__label sk-toggleable__label-arrow\">remainder</label><div class=\"sk-toggleable__content\"><pre></pre></div></div></div><div class=\"sk-serial\"><div class=\"sk-item\"><div class=\"sk-estimator sk-toggleable\"><input class=\"sk-toggleable__control sk-hidden--visually\" id=\"9475eda7-4870-40b5-9e33-49fd9dd8e418\" type=\"checkbox\" ><label for=\"9475eda7-4870-40b5-9e33-49fd9dd8e418\" class=\"sk-toggleable__label sk-toggleable__label-arrow\">passthrough</label><div class=\"sk-toggleable__content\"><pre>passthrough</pre></div></div></div></div></div></div></div></div></div></div></div><div class=\"sk-parallel-item\"><div class=\"sk-item\"><div class=\"sk-label-container\"><div class=\"sk-label sk-toggleable\"><label>functiontransformer</label></div></div><div class=\"sk-serial\"><div class=\"sk-item\"><div class=\"sk-estimator sk-toggleable\"><input class=\"sk-toggleable__control sk-hidden--visually\" id=\"3976180c-472e-4a56-b3fb-962b7d06a247\" type=\"checkbox\" ><label for=\"3976180c-472e-4a56-b3fb-962b7d06a247\" class=\"sk-toggleable__label sk-toggleable__label-arrow\">FunctionTransformer</label><div class=\"sk-toggleable__content\"><pre>FunctionTransformer(func=&lt;function &lt;lambda&gt; at 0x135bf24c0&gt;)</pre></div></div></div></div></div></div></div></div></div></div>"
      ],
      "text/plain": [
       "FeatureUnion(transformer_list=[('columntransformer',\n",
       "                                ColumnTransformer(remainder='passthrough',\n",
       "                                                  transformers=[('pipeline',\n",
       "                                                                 Pipeline(steps=[('simpleimputer',\n",
       "                                                                                  SimpleImputer()),\n",
       "                                                                                 ('standardscaler',\n",
       "                                                                                  StandardScaler())]),\n",
       "                                                                 <sklearn.compose._column_transformer.make_column_selector object at 0x135ec9d30>),\n",
       "                                                                ('onehotencoder',\n",
       "                                                                 OneHotEncoder(),\n",
       "                                                                 <sklearn.compose._column_transformer.make_column_selector object at 0x135af7e50>)])),\n",
       "                               ('functiontransformer',\n",
       "                                FunctionTransformer(func=<function <lambda> at 0x135bf24c0>))])"
      ]
     },
     "execution_count": 38,
     "metadata": {},
     "output_type": "execute_result"
    }
   ],
   "source": [
    "#Complete preprocessing pipeline\n",
    "\n",
    "num_transformer = make_pipeline(SimpleImputer(), StandardScaler())\n",
    "num_col = make_column_selector(dtype_include=['float64'])\n",
    "\n",
    "cat_transformer = OneHotEncoder()\n",
    "cat_col = make_column_selector(dtype_include=['object','bool'])\n",
    "\n",
    "preproc_basic = make_column_transformer(\n",
    "    (num_transformer, num_col),\n",
    "    (cat_transformer, cat_col),\n",
    "    remainder='passthrough')\n",
    "\n",
    "preproc_full = make_union(preproc_basic, bmi_age_ratio_constructor)\n",
    "preproc_full"
   ]
  },
  {
   "cell_type": "markdown",
   "id": "ba329e44",
   "metadata": {},
   "source": [
    "# Tuning the pipeline"
   ]
  },
  {
   "cell_type": "markdown",
   "id": "590826a1",
   "metadata": {},
   "source": [
    "## Including models in pipelines"
   ]
  },
  {
   "cell_type": "code",
   "execution_count": 39,
   "id": "f51cb7f7",
   "metadata": {},
   "outputs": [
    {
     "data": {
      "text/html": [
       "<style>#sk-f41891a6-76a5-43d0-84bc-504517c056d3 {color: black;background-color: white;}#sk-f41891a6-76a5-43d0-84bc-504517c056d3 pre{padding: 0;}#sk-f41891a6-76a5-43d0-84bc-504517c056d3 div.sk-toggleable {background-color: white;}#sk-f41891a6-76a5-43d0-84bc-504517c056d3 label.sk-toggleable__label {cursor: pointer;display: block;width: 100%;margin-bottom: 0;padding: 0.3em;box-sizing: border-box;text-align: center;}#sk-f41891a6-76a5-43d0-84bc-504517c056d3 label.sk-toggleable__label-arrow:before {content: \"▸\";float: left;margin-right: 0.25em;color: #696969;}#sk-f41891a6-76a5-43d0-84bc-504517c056d3 label.sk-toggleable__label-arrow:hover:before {color: black;}#sk-f41891a6-76a5-43d0-84bc-504517c056d3 div.sk-estimator:hover label.sk-toggleable__label-arrow:before {color: black;}#sk-f41891a6-76a5-43d0-84bc-504517c056d3 div.sk-toggleable__content {max-height: 0;max-width: 0;overflow: hidden;text-align: left;background-color: #f0f8ff;}#sk-f41891a6-76a5-43d0-84bc-504517c056d3 div.sk-toggleable__content pre {margin: 0.2em;color: black;border-radius: 0.25em;background-color: #f0f8ff;}#sk-f41891a6-76a5-43d0-84bc-504517c056d3 input.sk-toggleable__control:checked~div.sk-toggleable__content {max-height: 200px;max-width: 100%;overflow: auto;}#sk-f41891a6-76a5-43d0-84bc-504517c056d3 input.sk-toggleable__control:checked~label.sk-toggleable__label-arrow:before {content: \"▾\";}#sk-f41891a6-76a5-43d0-84bc-504517c056d3 div.sk-estimator input.sk-toggleable__control:checked~label.sk-toggleable__label {background-color: #d4ebff;}#sk-f41891a6-76a5-43d0-84bc-504517c056d3 div.sk-label input.sk-toggleable__control:checked~label.sk-toggleable__label {background-color: #d4ebff;}#sk-f41891a6-76a5-43d0-84bc-504517c056d3 input.sk-hidden--visually {border: 0;clip: rect(1px 1px 1px 1px);clip: rect(1px, 1px, 1px, 1px);height: 1px;margin: -1px;overflow: hidden;padding: 0;position: absolute;width: 1px;}#sk-f41891a6-76a5-43d0-84bc-504517c056d3 div.sk-estimator {font-family: monospace;background-color: #f0f8ff;border: 1px dotted black;border-radius: 0.25em;box-sizing: border-box;margin-bottom: 0.5em;}#sk-f41891a6-76a5-43d0-84bc-504517c056d3 div.sk-estimator:hover {background-color: #d4ebff;}#sk-f41891a6-76a5-43d0-84bc-504517c056d3 div.sk-parallel-item::after {content: \"\";width: 100%;border-bottom: 1px solid gray;flex-grow: 1;}#sk-f41891a6-76a5-43d0-84bc-504517c056d3 div.sk-label:hover label.sk-toggleable__label {background-color: #d4ebff;}#sk-f41891a6-76a5-43d0-84bc-504517c056d3 div.sk-serial::before {content: \"\";position: absolute;border-left: 1px solid gray;box-sizing: border-box;top: 2em;bottom: 0;left: 50%;}#sk-f41891a6-76a5-43d0-84bc-504517c056d3 div.sk-serial {display: flex;flex-direction: column;align-items: center;background-color: white;padding-right: 0.2em;padding-left: 0.2em;}#sk-f41891a6-76a5-43d0-84bc-504517c056d3 div.sk-item {z-index: 1;}#sk-f41891a6-76a5-43d0-84bc-504517c056d3 div.sk-parallel {display: flex;align-items: stretch;justify-content: center;background-color: white;}#sk-f41891a6-76a5-43d0-84bc-504517c056d3 div.sk-parallel::before {content: \"\";position: absolute;border-left: 1px solid gray;box-sizing: border-box;top: 2em;bottom: 0;left: 50%;}#sk-f41891a6-76a5-43d0-84bc-504517c056d3 div.sk-parallel-item {display: flex;flex-direction: column;position: relative;background-color: white;}#sk-f41891a6-76a5-43d0-84bc-504517c056d3 div.sk-parallel-item:first-child::after {align-self: flex-end;width: 50%;}#sk-f41891a6-76a5-43d0-84bc-504517c056d3 div.sk-parallel-item:last-child::after {align-self: flex-start;width: 50%;}#sk-f41891a6-76a5-43d0-84bc-504517c056d3 div.sk-parallel-item:only-child::after {width: 0;}#sk-f41891a6-76a5-43d0-84bc-504517c056d3 div.sk-dashed-wrapped {border: 1px dashed gray;margin: 0 0.4em 0.5em 0.4em;box-sizing: border-box;padding-bottom: 0.4em;background-color: white;position: relative;}#sk-f41891a6-76a5-43d0-84bc-504517c056d3 div.sk-label label {font-family: monospace;font-weight: bold;background-color: white;display: inline-block;line-height: 1.2em;}#sk-f41891a6-76a5-43d0-84bc-504517c056d3 div.sk-label-container {position: relative;z-index: 2;text-align: center;}#sk-f41891a6-76a5-43d0-84bc-504517c056d3 div.sk-container {/* jupyter's `normalize.less` sets `[hidden] { display: none; }` but bootstrap.min.css set `[hidden] { display: none !important; }` so we also need the `!important` here to be able to override the default hidden behavior on the sphinx rendered scikit-learn.org. See: https://github.com/scikit-learn/scikit-learn/issues/21755 */display: inline-block !important;position: relative;}#sk-f41891a6-76a5-43d0-84bc-504517c056d3 div.sk-text-repr-fallback {display: none;}</style><div id=\"sk-f41891a6-76a5-43d0-84bc-504517c056d3\" class=\"sk-top-container\"><div class=\"sk-text-repr-fallback\"><pre>Pipeline(steps=[(&#x27;columntransformer&#x27;,\n",
       "                 ColumnTransformer(remainder=&#x27;passthrough&#x27;,\n",
       "                                   transformers=[(&#x27;pipeline&#x27;,\n",
       "                                                  Pipeline(steps=[(&#x27;simpleimputer&#x27;,\n",
       "                                                                   SimpleImputer()),\n",
       "                                                                  (&#x27;standardscaler&#x27;,\n",
       "                                                                   StandardScaler())]),\n",
       "                                                  &lt;sklearn.compose._column_transformer.make_column_selector object at 0x135f28490&gt;),\n",
       "                                                 (&#x27;onehotencoder&#x27;,\n",
       "                                                  OneHotEncoder(),\n",
       "                                                  &lt;sklearn.compose._column_transformer.make_column_selector object at 0x135e46f70&gt;)])),\n",
       "                (&#x27;ridge&#x27;, Ridge())])</pre><b>Please rerun this cell to show the HTML repr or trust the notebook.</b></div><div class=\"sk-container\" hidden><div class=\"sk-item sk-dashed-wrapped\"><div class=\"sk-label-container\"><div class=\"sk-label sk-toggleable\"><input class=\"sk-toggleable__control sk-hidden--visually\" id=\"a5f3a926-4b4c-4ee4-8139-9c9d4b2142f5\" type=\"checkbox\" ><label for=\"a5f3a926-4b4c-4ee4-8139-9c9d4b2142f5\" class=\"sk-toggleable__label sk-toggleable__label-arrow\">Pipeline</label><div class=\"sk-toggleable__content\"><pre>Pipeline(steps=[(&#x27;columntransformer&#x27;,\n",
       "                 ColumnTransformer(remainder=&#x27;passthrough&#x27;,\n",
       "                                   transformers=[(&#x27;pipeline&#x27;,\n",
       "                                                  Pipeline(steps=[(&#x27;simpleimputer&#x27;,\n",
       "                                                                   SimpleImputer()),\n",
       "                                                                  (&#x27;standardscaler&#x27;,\n",
       "                                                                   StandardScaler())]),\n",
       "                                                  &lt;sklearn.compose._column_transformer.make_column_selector object at 0x135f28490&gt;),\n",
       "                                                 (&#x27;onehotencoder&#x27;,\n",
       "                                                  OneHotEncoder(),\n",
       "                                                  &lt;sklearn.compose._column_transformer.make_column_selector object at 0x135e46f70&gt;)])),\n",
       "                (&#x27;ridge&#x27;, Ridge())])</pre></div></div></div><div class=\"sk-serial\"><div class=\"sk-item sk-dashed-wrapped\"><div class=\"sk-label-container\"><div class=\"sk-label sk-toggleable\"><input class=\"sk-toggleable__control sk-hidden--visually\" id=\"6d2cfd90-18f6-4ca2-a215-277c3dbe5578\" type=\"checkbox\" ><label for=\"6d2cfd90-18f6-4ca2-a215-277c3dbe5578\" class=\"sk-toggleable__label sk-toggleable__label-arrow\">columntransformer: ColumnTransformer</label><div class=\"sk-toggleable__content\"><pre>ColumnTransformer(remainder=&#x27;passthrough&#x27;,\n",
       "                  transformers=[(&#x27;pipeline&#x27;,\n",
       "                                 Pipeline(steps=[(&#x27;simpleimputer&#x27;,\n",
       "                                                  SimpleImputer()),\n",
       "                                                 (&#x27;standardscaler&#x27;,\n",
       "                                                  StandardScaler())]),\n",
       "                                 &lt;sklearn.compose._column_transformer.make_column_selector object at 0x135f28490&gt;),\n",
       "                                (&#x27;onehotencoder&#x27;, OneHotEncoder(),\n",
       "                                 &lt;sklearn.compose._column_transformer.make_column_selector object at 0x135e46f70&gt;)])</pre></div></div></div><div class=\"sk-parallel\"><div class=\"sk-parallel-item\"><div class=\"sk-item\"><div class=\"sk-label-container\"><div class=\"sk-label sk-toggleable\"><input class=\"sk-toggleable__control sk-hidden--visually\" id=\"2632c75d-d623-436a-98fe-3cfa66ec4123\" type=\"checkbox\" ><label for=\"2632c75d-d623-436a-98fe-3cfa66ec4123\" class=\"sk-toggleable__label sk-toggleable__label-arrow\">pipeline</label><div class=\"sk-toggleable__content\"><pre>&lt;sklearn.compose._column_transformer.make_column_selector object at 0x135f28490&gt;</pre></div></div></div><div class=\"sk-serial\"><div class=\"sk-item\"><div class=\"sk-serial\"><div class=\"sk-item\"><div class=\"sk-estimator sk-toggleable\"><input class=\"sk-toggleable__control sk-hidden--visually\" id=\"04c61eab-7f99-41bc-94b8-b2e537ad9a0c\" type=\"checkbox\" ><label for=\"04c61eab-7f99-41bc-94b8-b2e537ad9a0c\" class=\"sk-toggleable__label sk-toggleable__label-arrow\">SimpleImputer</label><div class=\"sk-toggleable__content\"><pre>SimpleImputer()</pre></div></div></div><div class=\"sk-item\"><div class=\"sk-estimator sk-toggleable\"><input class=\"sk-toggleable__control sk-hidden--visually\" id=\"68d88af5-8b5a-4717-bb85-eb894e76a412\" type=\"checkbox\" ><label for=\"68d88af5-8b5a-4717-bb85-eb894e76a412\" class=\"sk-toggleable__label sk-toggleable__label-arrow\">StandardScaler</label><div class=\"sk-toggleable__content\"><pre>StandardScaler()</pre></div></div></div></div></div></div></div></div><div class=\"sk-parallel-item\"><div class=\"sk-item\"><div class=\"sk-label-container\"><div class=\"sk-label sk-toggleable\"><input class=\"sk-toggleable__control sk-hidden--visually\" id=\"09ed3890-1d2e-42d2-bcf5-133697b8e83b\" type=\"checkbox\" ><label for=\"09ed3890-1d2e-42d2-bcf5-133697b8e83b\" class=\"sk-toggleable__label sk-toggleable__label-arrow\">onehotencoder</label><div class=\"sk-toggleable__content\"><pre>&lt;sklearn.compose._column_transformer.make_column_selector object at 0x135e46f70&gt;</pre></div></div></div><div class=\"sk-serial\"><div class=\"sk-item\"><div class=\"sk-estimator sk-toggleable\"><input class=\"sk-toggleable__control sk-hidden--visually\" id=\"357122cc-e4ef-4d0f-90b2-b1e17ea80504\" type=\"checkbox\" ><label for=\"357122cc-e4ef-4d0f-90b2-b1e17ea80504\" class=\"sk-toggleable__label sk-toggleable__label-arrow\">OneHotEncoder</label><div class=\"sk-toggleable__content\"><pre>OneHotEncoder()</pre></div></div></div></div></div></div><div class=\"sk-parallel-item\"><div class=\"sk-item\"><div class=\"sk-label-container\"><div class=\"sk-label sk-toggleable\"><input class=\"sk-toggleable__control sk-hidden--visually\" id=\"cad2710d-696b-4419-8c64-309ebce0672b\" type=\"checkbox\" ><label for=\"cad2710d-696b-4419-8c64-309ebce0672b\" class=\"sk-toggleable__label sk-toggleable__label-arrow\">remainder</label><div class=\"sk-toggleable__content\"><pre></pre></div></div></div><div class=\"sk-serial\"><div class=\"sk-item\"><div class=\"sk-estimator sk-toggleable\"><input class=\"sk-toggleable__control sk-hidden--visually\" id=\"18aad9e6-dc06-419c-8288-54f070579509\" type=\"checkbox\" ><label for=\"18aad9e6-dc06-419c-8288-54f070579509\" class=\"sk-toggleable__label sk-toggleable__label-arrow\">passthrough</label><div class=\"sk-toggleable__content\"><pre>passthrough</pre></div></div></div></div></div></div></div></div><div class=\"sk-item\"><div class=\"sk-estimator sk-toggleable\"><input class=\"sk-toggleable__control sk-hidden--visually\" id=\"404c0535-0889-401c-a004-bfebf4e2c436\" type=\"checkbox\" ><label for=\"404c0535-0889-401c-a004-bfebf4e2c436\" class=\"sk-toggleable__label sk-toggleable__label-arrow\">Ridge</label><div class=\"sk-toggleable__content\"><pre>Ridge()</pre></div></div></div></div></div></div></div>"
      ],
      "text/plain": [
       "Pipeline(steps=[('columntransformer',\n",
       "                 ColumnTransformer(remainder='passthrough',\n",
       "                                   transformers=[('pipeline',\n",
       "                                                  Pipeline(steps=[('simpleimputer',\n",
       "                                                                   SimpleImputer()),\n",
       "                                                                  ('standardscaler',\n",
       "                                                                   StandardScaler())]),\n",
       "                                                  <sklearn.compose._column_transformer.make_column_selector object at 0x135f28490>),\n",
       "                                                 ('onehotencoder',\n",
       "                                                  OneHotEncoder(),\n",
       "                                                  <sklearn.compose._column_transformer.make_column_selector object at 0x135e46f70>)])),\n",
       "                ('ridge', Ridge())])"
      ]
     },
     "execution_count": 39,
     "metadata": {},
     "output_type": "execute_result"
    }
   ],
   "source": [
    "from sklearn.linear_model import Ridge\n",
    "\n",
    "# Preprocessor\n",
    "num_transformer = make_pipeline(SimpleImputer(), StandardScaler())\n",
    "cat_transformer = OneHotEncoder()\n",
    "\n",
    "preproc = make_column_transformer(\n",
    "    (num_transformer, make_column_selector(dtype_include=['float64'])),\n",
    "    (cat_transformer, make_column_selector(dtype_include=['object','bool'])),\n",
    "    remainder='passthrough')\n",
    "\n",
    "# Add Estimator\n",
    "pipe = make_pipeline(preproc, Ridge())\n",
    "pipe"
   ]
  },
  {
   "cell_type": "markdown",
   "id": "538e961f",
   "metadata": {},
   "source": [
    "## Using the pipeline"
   ]
  },
  {
   "cell_type": "code",
   "execution_count": null,
   "id": "4931da38",
   "metadata": {},
   "outputs": [],
   "source": [
    "# X_train\n",
    "# y_train"
   ]
  },
  {
   "cell_type": "code",
   "execution_count": 40,
   "id": "4235aab5",
   "metadata": {},
   "outputs": [
    {
     "data": {
      "text/plain": [
       "0.7472459359430912"
      ]
     },
     "execution_count": 40,
     "metadata": {},
     "output_type": "execute_result"
    }
   ],
   "source": [
    "# Train pipeline\n",
    "pipe.fit(X_train,y_train)\n",
    "\n",
    "# Make predictions\n",
    "pipe.predict(X_test.iloc[0:2])\n",
    "\n",
    "# Score model\n",
    "pipe.score(X_test,y_test)"
   ]
  },
  {
   "cell_type": "markdown",
   "id": "4b467039",
   "metadata": {},
   "source": [
    "## Cross validating the pipeline"
   ]
  },
  {
   "cell_type": "code",
   "execution_count": 41,
   "id": "170c716e",
   "metadata": {},
   "outputs": [
    {
     "data": {
      "text/plain": [
       "0.7463235584349777"
      ]
     },
     "execution_count": 41,
     "metadata": {},
     "output_type": "execute_result"
    }
   ],
   "source": [
    "from sklearn.model_selection import cross_val_score\n",
    "\n",
    "# Cross validate pipeline\n",
    "cross_val_score(pipe, X_train, y_train, cv=5, scoring='r2').mean()"
   ]
  },
  {
   "cell_type": "code",
   "execution_count": null,
   "id": "cc575307",
   "metadata": {},
   "outputs": [],
   "source": [
    "# pipe.get_params()"
   ]
  },
  {
   "cell_type": "code",
   "execution_count": 43,
   "id": "edd70592",
   "metadata": {},
   "outputs": [],
   "source": [
    "from sklearn.model_selection import GridSearchCV\n",
    "\n",
    "# Inspect all pipe components parameters to find the one you want to gridsearch\n",
    "pipe.get_params()\n",
    "\n",
    "# Instanciate grid search\n",
    "grid_search = GridSearchCV(\n",
    "    pipe, \n",
    "    param_grid={\n",
    "        # Access any component of the pipeline, as far back as you want\n",
    "        'columntransformer__pipeline__simpleimputer__strategy': ['mean', 'median'],\n",
    "        'ridge__alpha': [0.1, 0.5, 1, 5, 10]},\n",
    "    cv=5,\n",
    "    scoring=\"r2\")"
   ]
  },
  {
   "cell_type": "code",
   "execution_count": 47,
   "id": "b4dbfeac",
   "metadata": {},
   "outputs": [
    {
     "data": {
      "text/plain": [
       "{'memory': None,\n",
       " 'steps': [('columntransformer',\n",
       "   ColumnTransformer(remainder='passthrough',\n",
       "                     transformers=[('pipeline',\n",
       "                                    Pipeline(steps=[('simpleimputer',\n",
       "                                                     SimpleImputer()),\n",
       "                                                    ('standardscaler',\n",
       "                                                     StandardScaler())]),\n",
       "                                    <sklearn.compose._column_transformer.make_column_selector object at 0x135f28490>),\n",
       "                                   ('onehotencoder', OneHotEncoder(),\n",
       "                                    <sklearn.compose._column_transformer.make_column_selector object at 0x135e46f70>)])),\n",
       "  ('ridge', Ridge())],\n",
       " 'verbose': False,\n",
       " 'columntransformer': ColumnTransformer(remainder='passthrough',\n",
       "                   transformers=[('pipeline',\n",
       "                                  Pipeline(steps=[('simpleimputer',\n",
       "                                                   SimpleImputer()),\n",
       "                                                  ('standardscaler',\n",
       "                                                   StandardScaler())]),\n",
       "                                  <sklearn.compose._column_transformer.make_column_selector object at 0x135f28490>),\n",
       "                                 ('onehotencoder', OneHotEncoder(),\n",
       "                                  <sklearn.compose._column_transformer.make_column_selector object at 0x135e46f70>)]),\n",
       " 'ridge': Ridge(),\n",
       " 'columntransformer__n_jobs': None,\n",
       " 'columntransformer__remainder': 'passthrough',\n",
       " 'columntransformer__sparse_threshold': 0.3,\n",
       " 'columntransformer__transformer_weights': None,\n",
       " 'columntransformer__transformers': [('pipeline',\n",
       "   Pipeline(steps=[('simpleimputer', SimpleImputer()),\n",
       "                   ('standardscaler', StandardScaler())]),\n",
       "   <sklearn.compose._column_transformer.make_column_selector at 0x135f28490>),\n",
       "  ('onehotencoder',\n",
       "   OneHotEncoder(),\n",
       "   <sklearn.compose._column_transformer.make_column_selector at 0x135e46f70>)],\n",
       " 'columntransformer__verbose': False,\n",
       " 'columntransformer__verbose_feature_names_out': True,\n",
       " 'columntransformer__pipeline': Pipeline(steps=[('simpleimputer', SimpleImputer()),\n",
       "                 ('standardscaler', StandardScaler())]),\n",
       " 'columntransformer__onehotencoder': OneHotEncoder(),\n",
       " 'columntransformer__pipeline__memory': None,\n",
       " 'columntransformer__pipeline__steps': [('simpleimputer', SimpleImputer()),\n",
       "  ('standardscaler', StandardScaler())],\n",
       " 'columntransformer__pipeline__verbose': False,\n",
       " 'columntransformer__pipeline__simpleimputer': SimpleImputer(),\n",
       " 'columntransformer__pipeline__standardscaler': StandardScaler(),\n",
       " 'columntransformer__pipeline__simpleimputer__add_indicator': False,\n",
       " 'columntransformer__pipeline__simpleimputer__copy': True,\n",
       " 'columntransformer__pipeline__simpleimputer__fill_value': None,\n",
       " 'columntransformer__pipeline__simpleimputer__missing_values': nan,\n",
       " 'columntransformer__pipeline__simpleimputer__strategy': 'mean',\n",
       " 'columntransformer__pipeline__simpleimputer__verbose': 0,\n",
       " 'columntransformer__pipeline__standardscaler__copy': True,\n",
       " 'columntransformer__pipeline__standardscaler__with_mean': True,\n",
       " 'columntransformer__pipeline__standardscaler__with_std': True,\n",
       " 'columntransformer__onehotencoder__categories': 'auto',\n",
       " 'columntransformer__onehotencoder__drop': None,\n",
       " 'columntransformer__onehotencoder__dtype': numpy.float64,\n",
       " 'columntransformer__onehotencoder__handle_unknown': 'error',\n",
       " 'columntransformer__onehotencoder__sparse': True,\n",
       " 'ridge__alpha': 1.0,\n",
       " 'ridge__copy_X': True,\n",
       " 'ridge__fit_intercept': True,\n",
       " 'ridge__max_iter': None,\n",
       " 'ridge__normalize': 'deprecated',\n",
       " 'ridge__positive': False,\n",
       " 'ridge__random_state': None,\n",
       " 'ridge__solver': 'auto',\n",
       " 'ridge__tol': 0.001}"
      ]
     },
     "execution_count": 47,
     "metadata": {},
     "output_type": "execute_result"
    }
   ],
   "source": [
    "pipe.get_params()"
   ]
  },
  {
   "cell_type": "code",
   "execution_count": 44,
   "id": "56d35a92",
   "metadata": {},
   "outputs": [
    {
     "data": {
      "text/plain": [
       "{'columntransformer__pipeline__simpleimputer__strategy': 'median',\n",
       " 'ridge__alpha': 1}"
      ]
     },
     "execution_count": 44,
     "metadata": {},
     "output_type": "execute_result"
    }
   ],
   "source": [
    "grid_search.fit(X_train, y_train)\n",
    "grid_search.best_params_"
   ]
  },
  {
   "cell_type": "code",
   "execution_count": 45,
   "id": "f36d61fa",
   "metadata": {},
   "outputs": [],
   "source": [
    "pipe_tuned = grid_search.best_estimator_"
   ]
  },
  {
   "cell_type": "markdown",
   "id": "7de5e86d",
   "metadata": {},
   "source": [
    "## Debugging the pipeline"
   ]
  },
  {
   "cell_type": "code",
   "execution_count": 48,
   "id": "e1d90f0c",
   "metadata": {},
   "outputs": [
    {
     "data": {
      "text/plain": [
       "dict_keys(['columntransformer', 'ridge'])"
      ]
     },
     "execution_count": 48,
     "metadata": {},
     "output_type": "execute_result"
    }
   ],
   "source": [
    "# Access component of pipeline with `name_steps`\n",
    "pipe_tuned.named_steps.keys()\n",
    "\n"
   ]
  },
  {
   "cell_type": "code",
   "execution_count": 49,
   "id": "3911c17a",
   "metadata": {},
   "outputs": [
    {
     "data": {
      "text/plain": [
       "(1100, 9)"
      ]
     },
     "execution_count": 49,
     "metadata": {},
     "output_type": "execute_result"
    }
   ],
   "source": [
    "# Check intermediate steps\n",
    "pipe_tuned.named_steps[\"columntransformer\"].fit_transform(X_train).shape"
   ]
  },
  {
   "cell_type": "markdown",
   "id": "a8afbbfd",
   "metadata": {},
   "source": [
    "## Exporting models/pipelines"
   ]
  },
  {
   "cell_type": "code",
   "execution_count": null,
   "id": "19a78ef2",
   "metadata": {},
   "outputs": [],
   "source": [
    "import pickle\n",
    "\n",
    "# Export pipeline as pickle file\n",
    "with open(\"pipeline.pkl\", \"wb\") as file:\n",
    "    pickle.dump(pipe_tuned, file)\n",
    "\n",
    "# Load pipeline from pickle file\n",
    "my_pipeline = pickle.load(open(\"pipeline.pkl\",\"rb\"))\n",
    "\n",
    "my_pipeline.score(X_test, y_test)"
   ]
  },
  {
   "cell_type": "code",
   "execution_count": null,
   "id": "90522e87",
   "metadata": {},
   "outputs": [],
   "source": []
  }
 ],
 "metadata": {
  "kernelspec": {
   "display_name": "Python 3 (ipykernel)",
   "language": "python",
   "name": "python3"
  },
  "language_info": {
   "codemirror_mode": {
    "name": "ipython",
    "version": 3
   },
   "file_extension": ".py",
   "mimetype": "text/x-python",
   "name": "python",
   "nbconvert_exporter": "python",
   "pygments_lexer": "ipython3",
   "version": "3.9.8"
  },
  "toc": {
   "base_numbering": 1,
   "nav_menu": {},
   "number_sections": true,
   "sideBar": true,
   "skip_h1_title": false,
   "title_cell": "Table of Contents",
   "title_sidebar": "Contents",
   "toc_cell": false,
   "toc_position": {},
   "toc_section_display": true,
   "toc_window_display": false
  }
 },
 "nbformat": 4,
 "nbformat_minor": 5
}
