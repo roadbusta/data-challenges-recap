{
 "cells": [
  {
   "cell_type": "markdown",
   "metadata": {},
   "source": [
    "# Re-create your own One_Hot_Encoder "
   ]
  },
  {
   "cell_type": "markdown",
   "metadata": {},
   "source": [
    "## Load data"
   ]
  },
  {
   "cell_type": "code",
   "execution_count": 8,
   "metadata": {},
   "outputs": [],
   "source": [
    "import pandas as pd\n",
    "import seaborn as sns\n",
    "\n",
    " # visualizing pipelines in HTML\n",
    "from sklearn import set_config; set_config(display='diagram')\n"
   ]
  },
  {
   "cell_type": "code",
   "execution_count": 15,
   "metadata": {},
   "outputs": [],
   "source": [
    "data = sns.load_dataset('titanic').sample(frac=1)"
   ]
  },
  {
   "cell_type": "code",
   "execution_count": 19,
   "metadata": {},
   "outputs": [
    {
     "data": {
      "text/html": [
       "<div>\n",
       "<style scoped>\n",
       "    .dataframe tbody tr th:only-of-type {\n",
       "        vertical-align: middle;\n",
       "    }\n",
       "\n",
       "    .dataframe tbody tr th {\n",
       "        vertical-align: top;\n",
       "    }\n",
       "\n",
       "    .dataframe thead th {\n",
       "        text-align: right;\n",
       "    }\n",
       "</style>\n",
       "<table border=\"1\" class=\"dataframe\">\n",
       "  <thead>\n",
       "    <tr style=\"text-align: right;\">\n",
       "      <th></th>\n",
       "      <th>pclass</th>\n",
       "      <th>sex</th>\n",
       "      <th>age</th>\n",
       "      <th>sibsp</th>\n",
       "      <th>parch</th>\n",
       "      <th>fare</th>\n",
       "      <th>embarked</th>\n",
       "      <th>class</th>\n",
       "      <th>deck</th>\n",
       "      <th>embark_town</th>\n",
       "      <th>alone</th>\n",
       "    </tr>\n",
       "  </thead>\n",
       "  <tbody>\n",
       "    <tr>\n",
       "      <th>11</th>\n",
       "      <td>1</td>\n",
       "      <td>female</td>\n",
       "      <td>58.0</td>\n",
       "      <td>0</td>\n",
       "      <td>0</td>\n",
       "      <td>26.5500</td>\n",
       "      <td>S</td>\n",
       "      <td>First</td>\n",
       "      <td>C</td>\n",
       "      <td>Southampton</td>\n",
       "      <td>True</td>\n",
       "    </tr>\n",
       "    <tr>\n",
       "      <th>60</th>\n",
       "      <td>3</td>\n",
       "      <td>male</td>\n",
       "      <td>22.0</td>\n",
       "      <td>0</td>\n",
       "      <td>0</td>\n",
       "      <td>7.2292</td>\n",
       "      <td>C</td>\n",
       "      <td>Third</td>\n",
       "      <td>NaN</td>\n",
       "      <td>Cherbourg</td>\n",
       "      <td>True</td>\n",
       "    </tr>\n",
       "    <tr>\n",
       "      <th>646</th>\n",
       "      <td>3</td>\n",
       "      <td>male</td>\n",
       "      <td>19.0</td>\n",
       "      <td>0</td>\n",
       "      <td>0</td>\n",
       "      <td>7.8958</td>\n",
       "      <td>S</td>\n",
       "      <td>Third</td>\n",
       "      <td>NaN</td>\n",
       "      <td>Southampton</td>\n",
       "      <td>True</td>\n",
       "    </tr>\n",
       "    <tr>\n",
       "      <th>13</th>\n",
       "      <td>3</td>\n",
       "      <td>male</td>\n",
       "      <td>39.0</td>\n",
       "      <td>1</td>\n",
       "      <td>5</td>\n",
       "      <td>31.2750</td>\n",
       "      <td>S</td>\n",
       "      <td>Third</td>\n",
       "      <td>NaN</td>\n",
       "      <td>Southampton</td>\n",
       "      <td>False</td>\n",
       "    </tr>\n",
       "    <tr>\n",
       "      <th>567</th>\n",
       "      <td>3</td>\n",
       "      <td>female</td>\n",
       "      <td>29.0</td>\n",
       "      <td>0</td>\n",
       "      <td>4</td>\n",
       "      <td>21.0750</td>\n",
       "      <td>S</td>\n",
       "      <td>Third</td>\n",
       "      <td>NaN</td>\n",
       "      <td>Southampton</td>\n",
       "      <td>False</td>\n",
       "    </tr>\n",
       "    <tr>\n",
       "      <th>...</th>\n",
       "      <td>...</td>\n",
       "      <td>...</td>\n",
       "      <td>...</td>\n",
       "      <td>...</td>\n",
       "      <td>...</td>\n",
       "      <td>...</td>\n",
       "      <td>...</td>\n",
       "      <td>...</td>\n",
       "      <td>...</td>\n",
       "      <td>...</td>\n",
       "      <td>...</td>\n",
       "    </tr>\n",
       "    <tr>\n",
       "      <th>413</th>\n",
       "      <td>2</td>\n",
       "      <td>male</td>\n",
       "      <td>NaN</td>\n",
       "      <td>0</td>\n",
       "      <td>0</td>\n",
       "      <td>0.0000</td>\n",
       "      <td>S</td>\n",
       "      <td>Second</td>\n",
       "      <td>NaN</td>\n",
       "      <td>Southampton</td>\n",
       "      <td>True</td>\n",
       "    </tr>\n",
       "    <tr>\n",
       "      <th>881</th>\n",
       "      <td>3</td>\n",
       "      <td>male</td>\n",
       "      <td>33.0</td>\n",
       "      <td>0</td>\n",
       "      <td>0</td>\n",
       "      <td>7.8958</td>\n",
       "      <td>S</td>\n",
       "      <td>Third</td>\n",
       "      <td>NaN</td>\n",
       "      <td>Southampton</td>\n",
       "      <td>True</td>\n",
       "    </tr>\n",
       "    <tr>\n",
       "      <th>766</th>\n",
       "      <td>1</td>\n",
       "      <td>male</td>\n",
       "      <td>NaN</td>\n",
       "      <td>0</td>\n",
       "      <td>0</td>\n",
       "      <td>39.6000</td>\n",
       "      <td>C</td>\n",
       "      <td>First</td>\n",
       "      <td>NaN</td>\n",
       "      <td>Cherbourg</td>\n",
       "      <td>True</td>\n",
       "    </tr>\n",
       "    <tr>\n",
       "      <th>781</th>\n",
       "      <td>1</td>\n",
       "      <td>female</td>\n",
       "      <td>17.0</td>\n",
       "      <td>1</td>\n",
       "      <td>0</td>\n",
       "      <td>57.0000</td>\n",
       "      <td>S</td>\n",
       "      <td>First</td>\n",
       "      <td>B</td>\n",
       "      <td>Southampton</td>\n",
       "      <td>False</td>\n",
       "    </tr>\n",
       "    <tr>\n",
       "      <th>658</th>\n",
       "      <td>2</td>\n",
       "      <td>male</td>\n",
       "      <td>23.0</td>\n",
       "      <td>0</td>\n",
       "      <td>0</td>\n",
       "      <td>13.0000</td>\n",
       "      <td>S</td>\n",
       "      <td>Second</td>\n",
       "      <td>NaN</td>\n",
       "      <td>Southampton</td>\n",
       "      <td>True</td>\n",
       "    </tr>\n",
       "  </tbody>\n",
       "</table>\n",
       "<p>624 rows × 11 columns</p>\n",
       "</div>"
      ],
      "text/plain": [
       "     pclass     sex   age  sibsp  parch     fare embarked   class deck  \\\n",
       "11        1  female  58.0      0      0  26.5500        S   First    C   \n",
       "60        3    male  22.0      0      0   7.2292        C   Third  NaN   \n",
       "646       3    male  19.0      0      0   7.8958        S   Third  NaN   \n",
       "13        3    male  39.0      1      5  31.2750        S   Third  NaN   \n",
       "567       3  female  29.0      0      4  21.0750        S   Third  NaN   \n",
       "..      ...     ...   ...    ...    ...      ...      ...     ...  ...   \n",
       "413       2    male   NaN      0      0   0.0000        S  Second  NaN   \n",
       "881       3    male  33.0      0      0   7.8958        S   Third  NaN   \n",
       "766       1    male   NaN      0      0  39.6000        C   First  NaN   \n",
       "781       1  female  17.0      1      0  57.0000        S   First    B   \n",
       "658       2    male  23.0      0      0  13.0000        S  Second  NaN   \n",
       "\n",
       "     embark_town  alone  \n",
       "11   Southampton   True  \n",
       "60     Cherbourg   True  \n",
       "646  Southampton   True  \n",
       "13   Southampton  False  \n",
       "567  Southampton  False  \n",
       "..           ...    ...  \n",
       "413  Southampton   True  \n",
       "881  Southampton   True  \n",
       "766    Cherbourg   True  \n",
       "781  Southampton  False  \n",
       "658  Southampton   True  \n",
       "\n",
       "[624 rows x 11 columns]"
      ]
     },
     "execution_count": 19,
     "metadata": {},
     "output_type": "execute_result"
    }
   ],
   "source": [
    "train_frac = 0.7\n",
    "n_train = round(len(data)*train_frac)\n",
    "n_test = len(data) - n_train\n",
    "\n",
    "data_train = data.iloc[:n_train,:]\n",
    "data_test = data.iloc[n_train:,:]\n",
    "\n",
    "X_train = data_train.drop(columns=['survived', 'alive','who','adult_male'])\n",
    "y_train = data_train['survived']\n",
    "\n",
    "X_test = data_test.drop(columns=['survived','alive','who','adult_male'])\n",
    "y_test = data_test['survived']\n",
    "\n",
    "X_train"
   ]
  },
  {
   "cell_type": "markdown",
   "metadata": {},
   "source": [
    "## A first preprocessing pipeline"
   ]
  },
  {
   "cell_type": "markdown",
   "metadata": {},
   "source": [
    "👉 Create a basic pipeline one-hot-encoding categorical features"
   ]
  },
  {
   "cell_type": "code",
   "execution_count": 16,
   "metadata": {},
   "outputs": [],
   "source": [
    "# Differentiate between categorical and numerical\n",
    "cat = ['pclass', 'sex', 'embarked', 'class', 'deck', 'embark_town', 'alone']\n",
    "num = ['age', 'fare','sibsp', 'parch']\n",
    "\n",
    "\n"
   ]
  },
  {
   "cell_type": "code",
   "execution_count": 17,
   "metadata": {},
   "outputs": [
    {
     "data": {
      "text/html": [
       "<style>#sk-d7389678-d016-43ab-b0fb-c256cf4889d4 {color: black;background-color: white;}#sk-d7389678-d016-43ab-b0fb-c256cf4889d4 pre{padding: 0;}#sk-d7389678-d016-43ab-b0fb-c256cf4889d4 div.sk-toggleable {background-color: white;}#sk-d7389678-d016-43ab-b0fb-c256cf4889d4 label.sk-toggleable__label {cursor: pointer;display: block;width: 100%;margin-bottom: 0;padding: 0.3em;box-sizing: border-box;text-align: center;}#sk-d7389678-d016-43ab-b0fb-c256cf4889d4 label.sk-toggleable__label-arrow:before {content: \"▸\";float: left;margin-right: 0.25em;color: #696969;}#sk-d7389678-d016-43ab-b0fb-c256cf4889d4 label.sk-toggleable__label-arrow:hover:before {color: black;}#sk-d7389678-d016-43ab-b0fb-c256cf4889d4 div.sk-estimator:hover label.sk-toggleable__label-arrow:before {color: black;}#sk-d7389678-d016-43ab-b0fb-c256cf4889d4 div.sk-toggleable__content {max-height: 0;max-width: 0;overflow: hidden;text-align: left;background-color: #f0f8ff;}#sk-d7389678-d016-43ab-b0fb-c256cf4889d4 div.sk-toggleable__content pre {margin: 0.2em;color: black;border-radius: 0.25em;background-color: #f0f8ff;}#sk-d7389678-d016-43ab-b0fb-c256cf4889d4 input.sk-toggleable__control:checked~div.sk-toggleable__content {max-height: 200px;max-width: 100%;overflow: auto;}#sk-d7389678-d016-43ab-b0fb-c256cf4889d4 input.sk-toggleable__control:checked~label.sk-toggleable__label-arrow:before {content: \"▾\";}#sk-d7389678-d016-43ab-b0fb-c256cf4889d4 div.sk-estimator input.sk-toggleable__control:checked~label.sk-toggleable__label {background-color: #d4ebff;}#sk-d7389678-d016-43ab-b0fb-c256cf4889d4 div.sk-label input.sk-toggleable__control:checked~label.sk-toggleable__label {background-color: #d4ebff;}#sk-d7389678-d016-43ab-b0fb-c256cf4889d4 input.sk-hidden--visually {border: 0;clip: rect(1px 1px 1px 1px);clip: rect(1px, 1px, 1px, 1px);height: 1px;margin: -1px;overflow: hidden;padding: 0;position: absolute;width: 1px;}#sk-d7389678-d016-43ab-b0fb-c256cf4889d4 div.sk-estimator {font-family: monospace;background-color: #f0f8ff;border: 1px dotted black;border-radius: 0.25em;box-sizing: border-box;margin-bottom: 0.5em;}#sk-d7389678-d016-43ab-b0fb-c256cf4889d4 div.sk-estimator:hover {background-color: #d4ebff;}#sk-d7389678-d016-43ab-b0fb-c256cf4889d4 div.sk-parallel-item::after {content: \"\";width: 100%;border-bottom: 1px solid gray;flex-grow: 1;}#sk-d7389678-d016-43ab-b0fb-c256cf4889d4 div.sk-label:hover label.sk-toggleable__label {background-color: #d4ebff;}#sk-d7389678-d016-43ab-b0fb-c256cf4889d4 div.sk-serial::before {content: \"\";position: absolute;border-left: 1px solid gray;box-sizing: border-box;top: 2em;bottom: 0;left: 50%;}#sk-d7389678-d016-43ab-b0fb-c256cf4889d4 div.sk-serial {display: flex;flex-direction: column;align-items: center;background-color: white;padding-right: 0.2em;padding-left: 0.2em;}#sk-d7389678-d016-43ab-b0fb-c256cf4889d4 div.sk-item {z-index: 1;}#sk-d7389678-d016-43ab-b0fb-c256cf4889d4 div.sk-parallel {display: flex;align-items: stretch;justify-content: center;background-color: white;}#sk-d7389678-d016-43ab-b0fb-c256cf4889d4 div.sk-parallel::before {content: \"\";position: absolute;border-left: 1px solid gray;box-sizing: border-box;top: 2em;bottom: 0;left: 50%;}#sk-d7389678-d016-43ab-b0fb-c256cf4889d4 div.sk-parallel-item {display: flex;flex-direction: column;position: relative;background-color: white;}#sk-d7389678-d016-43ab-b0fb-c256cf4889d4 div.sk-parallel-item:first-child::after {align-self: flex-end;width: 50%;}#sk-d7389678-d016-43ab-b0fb-c256cf4889d4 div.sk-parallel-item:last-child::after {align-self: flex-start;width: 50%;}#sk-d7389678-d016-43ab-b0fb-c256cf4889d4 div.sk-parallel-item:only-child::after {width: 0;}#sk-d7389678-d016-43ab-b0fb-c256cf4889d4 div.sk-dashed-wrapped {border: 1px dashed gray;margin: 0 0.4em 0.5em 0.4em;box-sizing: border-box;padding-bottom: 0.4em;background-color: white;position: relative;}#sk-d7389678-d016-43ab-b0fb-c256cf4889d4 div.sk-label label {font-family: monospace;font-weight: bold;background-color: white;display: inline-block;line-height: 1.2em;}#sk-d7389678-d016-43ab-b0fb-c256cf4889d4 div.sk-label-container {position: relative;z-index: 2;text-align: center;}#sk-d7389678-d016-43ab-b0fb-c256cf4889d4 div.sk-container {/* jupyter's `normalize.less` sets `[hidden] { display: none; }` but bootstrap.min.css set `[hidden] { display: none !important; }` so we also need the `!important` here to be able to override the default hidden behavior on the sphinx rendered scikit-learn.org. See: https://github.com/scikit-learn/scikit-learn/issues/21755 */display: inline-block !important;position: relative;}#sk-d7389678-d016-43ab-b0fb-c256cf4889d4 div.sk-text-repr-fallback {display: none;}</style><div id=\"sk-d7389678-d016-43ab-b0fb-c256cf4889d4\" class=\"sk-top-container\"><div class=\"sk-text-repr-fallback\"><pre>ColumnTransformer(transformers=[(&#x27;pipeline-1&#x27;,\n",
       "                                 Pipeline(steps=[(&#x27;simpleimputer&#x27;,\n",
       "                                                  SimpleImputer()),\n",
       "                                                 (&#x27;standardscaler&#x27;,\n",
       "                                                  StandardScaler())]),\n",
       "                                 [&#x27;age&#x27;, &#x27;fare&#x27;, &#x27;sibsp&#x27;, &#x27;parch&#x27;]),\n",
       "                                (&#x27;pipeline-2&#x27;,\n",
       "                                 Pipeline(steps=[(&#x27;simpleimputer&#x27;,\n",
       "                                                  SimpleImputer(strategy=&#x27;most_frequent&#x27;)),\n",
       "                                                 (&#x27;onehotencoder&#x27;,\n",
       "                                                  OneHotEncoder(handle_unknown=&#x27;ignore&#x27;))]),\n",
       "                                 [&#x27;pclass&#x27;, &#x27;sex&#x27;, &#x27;embarked&#x27;, &#x27;class&#x27;, &#x27;deck&#x27;,\n",
       "                                  &#x27;embark_town&#x27;, &#x27;alone&#x27;])])</pre><b>Please rerun this cell to show the HTML repr or trust the notebook.</b></div><div class=\"sk-container\" hidden><div class=\"sk-item sk-dashed-wrapped\"><div class=\"sk-label-container\"><div class=\"sk-label sk-toggleable\"><input class=\"sk-toggleable__control sk-hidden--visually\" id=\"da17fecf-9221-4398-a00b-bdca627c3ada\" type=\"checkbox\" ><label for=\"da17fecf-9221-4398-a00b-bdca627c3ada\" class=\"sk-toggleable__label sk-toggleable__label-arrow\">ColumnTransformer</label><div class=\"sk-toggleable__content\"><pre>ColumnTransformer(transformers=[(&#x27;pipeline-1&#x27;,\n",
       "                                 Pipeline(steps=[(&#x27;simpleimputer&#x27;,\n",
       "                                                  SimpleImputer()),\n",
       "                                                 (&#x27;standardscaler&#x27;,\n",
       "                                                  StandardScaler())]),\n",
       "                                 [&#x27;age&#x27;, &#x27;fare&#x27;, &#x27;sibsp&#x27;, &#x27;parch&#x27;]),\n",
       "                                (&#x27;pipeline-2&#x27;,\n",
       "                                 Pipeline(steps=[(&#x27;simpleimputer&#x27;,\n",
       "                                                  SimpleImputer(strategy=&#x27;most_frequent&#x27;)),\n",
       "                                                 (&#x27;onehotencoder&#x27;,\n",
       "                                                  OneHotEncoder(handle_unknown=&#x27;ignore&#x27;))]),\n",
       "                                 [&#x27;pclass&#x27;, &#x27;sex&#x27;, &#x27;embarked&#x27;, &#x27;class&#x27;, &#x27;deck&#x27;,\n",
       "                                  &#x27;embark_town&#x27;, &#x27;alone&#x27;])])</pre></div></div></div><div class=\"sk-parallel\"><div class=\"sk-parallel-item\"><div class=\"sk-item\"><div class=\"sk-label-container\"><div class=\"sk-label sk-toggleable\"><input class=\"sk-toggleable__control sk-hidden--visually\" id=\"2da3356c-170a-4bf4-8678-530eeb945c66\" type=\"checkbox\" ><label for=\"2da3356c-170a-4bf4-8678-530eeb945c66\" class=\"sk-toggleable__label sk-toggleable__label-arrow\">pipeline-1</label><div class=\"sk-toggleable__content\"><pre>[&#x27;age&#x27;, &#x27;fare&#x27;, &#x27;sibsp&#x27;, &#x27;parch&#x27;]</pre></div></div></div><div class=\"sk-serial\"><div class=\"sk-item\"><div class=\"sk-serial\"><div class=\"sk-item\"><div class=\"sk-estimator sk-toggleable\"><input class=\"sk-toggleable__control sk-hidden--visually\" id=\"e9ce4b3d-4bab-4735-869c-9f694ace057c\" type=\"checkbox\" ><label for=\"e9ce4b3d-4bab-4735-869c-9f694ace057c\" class=\"sk-toggleable__label sk-toggleable__label-arrow\">SimpleImputer</label><div class=\"sk-toggleable__content\"><pre>SimpleImputer()</pre></div></div></div><div class=\"sk-item\"><div class=\"sk-estimator sk-toggleable\"><input class=\"sk-toggleable__control sk-hidden--visually\" id=\"91094f0f-cce5-4555-bf27-4aeca82b66db\" type=\"checkbox\" ><label for=\"91094f0f-cce5-4555-bf27-4aeca82b66db\" class=\"sk-toggleable__label sk-toggleable__label-arrow\">StandardScaler</label><div class=\"sk-toggleable__content\"><pre>StandardScaler()</pre></div></div></div></div></div></div></div></div><div class=\"sk-parallel-item\"><div class=\"sk-item\"><div class=\"sk-label-container\"><div class=\"sk-label sk-toggleable\"><input class=\"sk-toggleable__control sk-hidden--visually\" id=\"9bbccd83-84fb-4cfb-91bc-bf1aadf6ec02\" type=\"checkbox\" ><label for=\"9bbccd83-84fb-4cfb-91bc-bf1aadf6ec02\" class=\"sk-toggleable__label sk-toggleable__label-arrow\">pipeline-2</label><div class=\"sk-toggleable__content\"><pre>[&#x27;pclass&#x27;, &#x27;sex&#x27;, &#x27;embarked&#x27;, &#x27;class&#x27;, &#x27;deck&#x27;, &#x27;embark_town&#x27;, &#x27;alone&#x27;]</pre></div></div></div><div class=\"sk-serial\"><div class=\"sk-item\"><div class=\"sk-serial\"><div class=\"sk-item\"><div class=\"sk-estimator sk-toggleable\"><input class=\"sk-toggleable__control sk-hidden--visually\" id=\"b622fc05-ab72-4cb0-a148-54f2f8c72ccb\" type=\"checkbox\" ><label for=\"b622fc05-ab72-4cb0-a148-54f2f8c72ccb\" class=\"sk-toggleable__label sk-toggleable__label-arrow\">SimpleImputer</label><div class=\"sk-toggleable__content\"><pre>SimpleImputer(strategy=&#x27;most_frequent&#x27;)</pre></div></div></div><div class=\"sk-item\"><div class=\"sk-estimator sk-toggleable\"><input class=\"sk-toggleable__control sk-hidden--visually\" id=\"04bfef73-61d9-457d-9e0d-94622c77c90c\" type=\"checkbox\" ><label for=\"04bfef73-61d9-457d-9e0d-94622c77c90c\" class=\"sk-toggleable__label sk-toggleable__label-arrow\">OneHotEncoder</label><div class=\"sk-toggleable__content\"><pre>OneHotEncoder(handle_unknown=&#x27;ignore&#x27;)</pre></div></div></div></div></div></div></div></div></div></div></div></div>"
      ],
      "text/plain": [
       "ColumnTransformer(transformers=[('pipeline-1',\n",
       "                                 Pipeline(steps=[('simpleimputer',\n",
       "                                                  SimpleImputer()),\n",
       "                                                 ('standardscaler',\n",
       "                                                  StandardScaler())]),\n",
       "                                 ['age', 'fare', 'sibsp', 'parch']),\n",
       "                                ('pipeline-2',\n",
       "                                 Pipeline(steps=[('simpleimputer',\n",
       "                                                  SimpleImputer(strategy='most_frequent')),\n",
       "                                                 ('onehotencoder',\n",
       "                                                  OneHotEncoder(handle_unknown='ignore'))]),\n",
       "                                 ['pclass', 'sex', 'embarked', 'class', 'deck',\n",
       "                                  'embark_town', 'alone'])])"
      ]
     },
     "execution_count": 17,
     "metadata": {},
     "output_type": "execute_result"
    }
   ],
   "source": [
    "from sklearn.pipeline import Pipeline, make_pipeline\n",
    "from sklearn.compose import make_column_transformer\n",
    "from sklearn.preprocessing import StandardScaler\n",
    "\n",
    "from sklearn.preprocessing import OneHotEncoder\n",
    "from sklearn.impute import SimpleImputer\n",
    "\n",
    "\n",
    "\n",
    "num_scaler = make_pipeline( \n",
    "                            SimpleImputer(strategy = 'mean'), \n",
    "                            StandardScaler()\n",
    "                            )\n",
    "\n",
    "cat_scaler = make_pipeline(\n",
    "                            SimpleImputer(strategy = \"most_frequent\"),\n",
    "                            OneHotEncoder(handle_unknown = 'ignore')\n",
    "                            )\n",
    "\n",
    "\n",
    "    \n",
    "prep= make_column_transformer(\n",
    "    (num_scaler, num),\n",
    "     (cat_scaler, cat)   \n",
    "        )\n",
    "prep"
   ]
  },
  {
   "cell_type": "code",
   "execution_count": 20,
   "metadata": {},
   "outputs": [
    {
     "data": {
      "text/plain": [
       "array([[ 2.12555959, -0.10573931, -0.489315  , ...,  1.        ,\n",
       "         0.        ,  1.        ],\n",
       "       [-0.59895243, -0.50004831, -0.489315  , ...,  0.        ,\n",
       "         0.        ,  1.        ],\n",
       "       [-0.8259951 , -0.48644398, -0.489315  , ...,  1.        ,\n",
       "         0.        ,  1.        ],\n",
       "       ...,\n",
       "       [ 0.        ,  0.16059191, -0.489315  , ...,  0.        ,\n",
       "         0.        ,  1.        ],\n",
       "       [-0.97735688,  0.51570022,  0.42212548, ...,  1.        ,\n",
       "         1.        ,  0.        ],\n",
       "       [-0.52327154, -0.3822748 , -0.489315  , ...,  1.        ,\n",
       "         0.        ,  1.        ]])"
      ]
     },
     "execution_count": 20,
     "metadata": {},
     "output_type": "execute_result"
    }
   ],
   "source": [
    "prep.fit_transform(X_train)"
   ]
  },
  {
   "cell_type": "markdown",
   "metadata": {},
   "source": [
    "## Custom OHEncoder to keep track of column names?"
   ]
  },
  {
   "cell_type": "code",
   "execution_count": 22,
   "metadata": {},
   "outputs": [
    {
     "data": {
      "text/plain": [
       "array([[1., 0.],\n",
       "       [0., 1.],\n",
       "       [0., 1.],\n",
       "       ...,\n",
       "       [0., 1.],\n",
       "       [1., 0.],\n",
       "       [0., 1.]])"
      ]
     },
     "execution_count": 22,
     "metadata": {},
     "output_type": "execute_result"
    }
   ],
   "source": [
    "# By default OneHot works with numpy and loses track of column names\n",
    "ohe = OneHotEncoder(sparse=False)\n",
    "ohe.fit_transform(X_train[['sex']])"
   ]
  },
  {
   "cell_type": "code",
   "execution_count": 50,
   "metadata": {},
   "outputs": [
    {
     "data": {
      "text/plain": [
       "array(['sex_female', 'sex_male'], dtype=object)"
      ]
     },
     "execution_count": 50,
     "metadata": {},
     "output_type": "execute_result"
    }
   ],
   "source": [
    "# Hopefully we can access the one-hot-encoded names as follows\n",
    "ohe.get_feature_names_out()"
   ]
  },
  {
   "cell_type": "markdown",
   "metadata": {},
   "source": [
    "👉 Try to create your own OneHotEncoder so that it preserves the column names when piping"
   ]
  },
  {
   "cell_type": "code",
   "execution_count": 77,
   "metadata": {},
   "outputs": [],
   "source": [
    "from sklearn.preprocessing import OneHotEncoder\n",
    "\n",
    "\n",
    "class MyCustomOHE(OneHotEncoder): #Inherit from OneHotEncoder\n",
    "    \n",
    "#     # Define the function\n",
    "    def transform(self, *args, **kwargs):\n",
    "        array = super().transform(*args, **kwargs)\n",
    "        df = pd.DataFrame(array,columns = self.get_feature_names_out())\n",
    "        return df\n",
    "    \n",
    "    def fit_transform(self, *args, **kwargs):\n",
    "        array = super().fit_transform(*args, **kwargs)\n",
    "        df = pd.DataFrame(array,columns = self.get_feature_names_out())\n",
    "        return df\n",
    "        "
   ]
  },
  {
   "cell_type": "code",
   "execution_count": 78,
   "metadata": {},
   "outputs": [
    {
     "data": {
      "text/html": [
       "<div>\n",
       "<style scoped>\n",
       "    .dataframe tbody tr th:only-of-type {\n",
       "        vertical-align: middle;\n",
       "    }\n",
       "\n",
       "    .dataframe tbody tr th {\n",
       "        vertical-align: top;\n",
       "    }\n",
       "\n",
       "    .dataframe thead th {\n",
       "        text-align: right;\n",
       "    }\n",
       "</style>\n",
       "<table border=\"1\" class=\"dataframe\">\n",
       "  <thead>\n",
       "    <tr style=\"text-align: right;\">\n",
       "      <th></th>\n",
       "      <th>sex_female</th>\n",
       "      <th>sex_male</th>\n",
       "    </tr>\n",
       "  </thead>\n",
       "  <tbody>\n",
       "    <tr>\n",
       "      <th>0</th>\n",
       "      <td>1.0</td>\n",
       "      <td>0.0</td>\n",
       "    </tr>\n",
       "    <tr>\n",
       "      <th>1</th>\n",
       "      <td>0.0</td>\n",
       "      <td>1.0</td>\n",
       "    </tr>\n",
       "    <tr>\n",
       "      <th>2</th>\n",
       "      <td>0.0</td>\n",
       "      <td>1.0</td>\n",
       "    </tr>\n",
       "    <tr>\n",
       "      <th>3</th>\n",
       "      <td>0.0</td>\n",
       "      <td>1.0</td>\n",
       "    </tr>\n",
       "    <tr>\n",
       "      <th>4</th>\n",
       "      <td>1.0</td>\n",
       "      <td>0.0</td>\n",
       "    </tr>\n",
       "  </tbody>\n",
       "</table>\n",
       "</div>"
      ],
      "text/plain": [
       "   sex_female  sex_male\n",
       "0         1.0       0.0\n",
       "1         0.0       1.0\n",
       "2         0.0       1.0\n",
       "3         0.0       1.0\n",
       "4         1.0       0.0"
      ]
     },
     "execution_count": 78,
     "metadata": {},
     "output_type": "execute_result"
    }
   ],
   "source": [
    "c = MyCustomOHE(sparse = False)\n",
    "c.fit(X_train[['sex']])\n",
    "c.transform(X_train[['sex']])\n",
    "c.fit_transform(X_train[['sex']]).head()"
   ]
  },
  {
   "cell_type": "code",
   "execution_count": null,
   "metadata": {},
   "outputs": [],
   "source": []
  },
  {
   "cell_type": "markdown",
   "metadata": {},
   "source": [
    "### Test it within a Pipeline and a ColumnTransformer"
   ]
  },
  {
   "cell_type": "code",
   "execution_count": 79,
   "metadata": {},
   "outputs": [
    {
     "data": {
      "text/html": [
       "<div>\n",
       "<style scoped>\n",
       "    .dataframe tbody tr th:only-of-type {\n",
       "        vertical-align: middle;\n",
       "    }\n",
       "\n",
       "    .dataframe tbody tr th {\n",
       "        vertical-align: top;\n",
       "    }\n",
       "\n",
       "    .dataframe thead th {\n",
       "        text-align: right;\n",
       "    }\n",
       "</style>\n",
       "<table border=\"1\" class=\"dataframe\">\n",
       "  <thead>\n",
       "    <tr style=\"text-align: right;\">\n",
       "      <th></th>\n",
       "      <th>sex_female</th>\n",
       "      <th>sex_male</th>\n",
       "    </tr>\n",
       "  </thead>\n",
       "  <tbody>\n",
       "    <tr>\n",
       "      <th>0</th>\n",
       "      <td>1.0</td>\n",
       "      <td>0.0</td>\n",
       "    </tr>\n",
       "    <tr>\n",
       "      <th>1</th>\n",
       "      <td>0.0</td>\n",
       "      <td>1.0</td>\n",
       "    </tr>\n",
       "    <tr>\n",
       "      <th>2</th>\n",
       "      <td>0.0</td>\n",
       "      <td>1.0</td>\n",
       "    </tr>\n",
       "    <tr>\n",
       "      <th>3</th>\n",
       "      <td>0.0</td>\n",
       "      <td>1.0</td>\n",
       "    </tr>\n",
       "    <tr>\n",
       "      <th>4</th>\n",
       "      <td>1.0</td>\n",
       "      <td>0.0</td>\n",
       "    </tr>\n",
       "  </tbody>\n",
       "</table>\n",
       "</div>"
      ],
      "text/plain": [
       "   sex_female  sex_male\n",
       "0         1.0       0.0\n",
       "1         0.0       1.0\n",
       "2         0.0       1.0\n",
       "3         0.0       1.0\n",
       "4         1.0       0.0"
      ]
     },
     "execution_count": 79,
     "metadata": {},
     "output_type": "execute_result"
    }
   ],
   "source": [
    "# For the Pipeline, it's working as expected and returns columns' names\n",
    "pipeline = make_pipeline(MyCustomOHE(sparse=False))\n",
    "\n",
    "pd.DataFrame(pipeline.fit_transform(X_train[['sex']])).head()"
   ]
  },
  {
   "cell_type": "code",
   "execution_count": null,
   "metadata": {},
   "outputs": [],
   "source": []
  },
  {
   "cell_type": "markdown",
   "metadata": {},
   "source": [
    "**⚠️ But then again we lose column names when passing that into a ColumnTransformer!**"
   ]
  },
  {
   "cell_type": "code",
   "execution_count": 80,
   "metadata": {},
   "outputs": [
    {
     "data": {
      "text/html": [
       "<div>\n",
       "<style scoped>\n",
       "    .dataframe tbody tr th:only-of-type {\n",
       "        vertical-align: middle;\n",
       "    }\n",
       "\n",
       "    .dataframe tbody tr th {\n",
       "        vertical-align: top;\n",
       "    }\n",
       "\n",
       "    .dataframe thead th {\n",
       "        text-align: right;\n",
       "    }\n",
       "</style>\n",
       "<table border=\"1\" class=\"dataframe\">\n",
       "  <thead>\n",
       "    <tr style=\"text-align: right;\">\n",
       "      <th></th>\n",
       "      <th>0</th>\n",
       "      <th>1</th>\n",
       "    </tr>\n",
       "  </thead>\n",
       "  <tbody>\n",
       "    <tr>\n",
       "      <th>0</th>\n",
       "      <td>1.0</td>\n",
       "      <td>0.0</td>\n",
       "    </tr>\n",
       "    <tr>\n",
       "      <th>1</th>\n",
       "      <td>0.0</td>\n",
       "      <td>1.0</td>\n",
       "    </tr>\n",
       "    <tr>\n",
       "      <th>2</th>\n",
       "      <td>0.0</td>\n",
       "      <td>1.0</td>\n",
       "    </tr>\n",
       "    <tr>\n",
       "      <th>3</th>\n",
       "      <td>0.0</td>\n",
       "      <td>1.0</td>\n",
       "    </tr>\n",
       "    <tr>\n",
       "      <th>4</th>\n",
       "      <td>1.0</td>\n",
       "      <td>0.0</td>\n",
       "    </tr>\n",
       "  </tbody>\n",
       "</table>\n",
       "</div>"
      ],
      "text/plain": [
       "     0    1\n",
       "0  1.0  0.0\n",
       "1  0.0  1.0\n",
       "2  0.0  1.0\n",
       "3  0.0  1.0\n",
       "4  1.0  0.0"
      ]
     },
     "execution_count": 80,
     "metadata": {},
     "output_type": "execute_result"
    }
   ],
   "source": [
    "# Test within a ColumnTransformer\n",
    "preprocessor = make_column_transformer(\n",
    "    (MyCustomOHE(sparse=False), ['sex'])\n",
    ")\n",
    "\n",
    "pd.DataFrame(preprocessor.fit_transform(X_train)).head()"
   ]
  },
  {
   "cell_type": "markdown",
   "metadata": {},
   "source": [
    "**🤯🤯🤯 We also have to recode the ColumnTransformer ourself!**  "
   ]
  },
  {
   "cell_type": "code",
   "execution_count": 81,
   "metadata": {},
   "outputs": [],
   "source": [
    "# from sklearn.compose import ColumnTransformer\n",
    "\n",
    "# class MyCustomColumnTransformer(ColumnTransformer):\n",
    "#     def transform(self, *args, **kwargs):\n",
    "#         return pd.DataFrame(super().transform(*args, **kwargs), columns=self.get_feature_names_out())\n",
    "#     def fit_transform(self, *args, **kwargs):\n",
    "#         return pd.DataFrame(super().fit_transform(*args, **kwargs), columns=self.get_feature_names_out())"
   ]
  },
  {
   "cell_type": "code",
   "execution_count": 85,
   "metadata": {},
   "outputs": [],
   "source": [
    "from sklearn.compose import ColumnTransformer\n",
    "\n",
    "class MyCustomColumnTransformer(ColumnTransformer):\n",
    "   # Define the function\n",
    "    def transform(self, *args, **kwargs):\n",
    "        array = super().transform(*args, **kwargs)\n",
    "        df = pd.DataFrame(array,columns = self.get_feature_names_out())\n",
    "        return df\n",
    "    \n",
    "    def fit_transform(self, *args, **kwargs):\n",
    "        array = super().fit_transform(*args, **kwargs)\n",
    "        df = pd.DataFrame(array,columns = self.get_feature_names_out())\n",
    "        return df"
   ]
  },
  {
   "cell_type": "code",
   "execution_count": 86,
   "metadata": {},
   "outputs": [
    {
     "data": {
      "text/html": [
       "<style>#sk-bbd7b65c-f733-46bf-9811-a85cf7bdf974 {color: black;background-color: white;}#sk-bbd7b65c-f733-46bf-9811-a85cf7bdf974 pre{padding: 0;}#sk-bbd7b65c-f733-46bf-9811-a85cf7bdf974 div.sk-toggleable {background-color: white;}#sk-bbd7b65c-f733-46bf-9811-a85cf7bdf974 label.sk-toggleable__label {cursor: pointer;display: block;width: 100%;margin-bottom: 0;padding: 0.3em;box-sizing: border-box;text-align: center;}#sk-bbd7b65c-f733-46bf-9811-a85cf7bdf974 label.sk-toggleable__label-arrow:before {content: \"▸\";float: left;margin-right: 0.25em;color: #696969;}#sk-bbd7b65c-f733-46bf-9811-a85cf7bdf974 label.sk-toggleable__label-arrow:hover:before {color: black;}#sk-bbd7b65c-f733-46bf-9811-a85cf7bdf974 div.sk-estimator:hover label.sk-toggleable__label-arrow:before {color: black;}#sk-bbd7b65c-f733-46bf-9811-a85cf7bdf974 div.sk-toggleable__content {max-height: 0;max-width: 0;overflow: hidden;text-align: left;background-color: #f0f8ff;}#sk-bbd7b65c-f733-46bf-9811-a85cf7bdf974 div.sk-toggleable__content pre {margin: 0.2em;color: black;border-radius: 0.25em;background-color: #f0f8ff;}#sk-bbd7b65c-f733-46bf-9811-a85cf7bdf974 input.sk-toggleable__control:checked~div.sk-toggleable__content {max-height: 200px;max-width: 100%;overflow: auto;}#sk-bbd7b65c-f733-46bf-9811-a85cf7bdf974 input.sk-toggleable__control:checked~label.sk-toggleable__label-arrow:before {content: \"▾\";}#sk-bbd7b65c-f733-46bf-9811-a85cf7bdf974 div.sk-estimator input.sk-toggleable__control:checked~label.sk-toggleable__label {background-color: #d4ebff;}#sk-bbd7b65c-f733-46bf-9811-a85cf7bdf974 div.sk-label input.sk-toggleable__control:checked~label.sk-toggleable__label {background-color: #d4ebff;}#sk-bbd7b65c-f733-46bf-9811-a85cf7bdf974 input.sk-hidden--visually {border: 0;clip: rect(1px 1px 1px 1px);clip: rect(1px, 1px, 1px, 1px);height: 1px;margin: -1px;overflow: hidden;padding: 0;position: absolute;width: 1px;}#sk-bbd7b65c-f733-46bf-9811-a85cf7bdf974 div.sk-estimator {font-family: monospace;background-color: #f0f8ff;border: 1px dotted black;border-radius: 0.25em;box-sizing: border-box;margin-bottom: 0.5em;}#sk-bbd7b65c-f733-46bf-9811-a85cf7bdf974 div.sk-estimator:hover {background-color: #d4ebff;}#sk-bbd7b65c-f733-46bf-9811-a85cf7bdf974 div.sk-parallel-item::after {content: \"\";width: 100%;border-bottom: 1px solid gray;flex-grow: 1;}#sk-bbd7b65c-f733-46bf-9811-a85cf7bdf974 div.sk-label:hover label.sk-toggleable__label {background-color: #d4ebff;}#sk-bbd7b65c-f733-46bf-9811-a85cf7bdf974 div.sk-serial::before {content: \"\";position: absolute;border-left: 1px solid gray;box-sizing: border-box;top: 2em;bottom: 0;left: 50%;}#sk-bbd7b65c-f733-46bf-9811-a85cf7bdf974 div.sk-serial {display: flex;flex-direction: column;align-items: center;background-color: white;padding-right: 0.2em;padding-left: 0.2em;}#sk-bbd7b65c-f733-46bf-9811-a85cf7bdf974 div.sk-item {z-index: 1;}#sk-bbd7b65c-f733-46bf-9811-a85cf7bdf974 div.sk-parallel {display: flex;align-items: stretch;justify-content: center;background-color: white;}#sk-bbd7b65c-f733-46bf-9811-a85cf7bdf974 div.sk-parallel::before {content: \"\";position: absolute;border-left: 1px solid gray;box-sizing: border-box;top: 2em;bottom: 0;left: 50%;}#sk-bbd7b65c-f733-46bf-9811-a85cf7bdf974 div.sk-parallel-item {display: flex;flex-direction: column;position: relative;background-color: white;}#sk-bbd7b65c-f733-46bf-9811-a85cf7bdf974 div.sk-parallel-item:first-child::after {align-self: flex-end;width: 50%;}#sk-bbd7b65c-f733-46bf-9811-a85cf7bdf974 div.sk-parallel-item:last-child::after {align-self: flex-start;width: 50%;}#sk-bbd7b65c-f733-46bf-9811-a85cf7bdf974 div.sk-parallel-item:only-child::after {width: 0;}#sk-bbd7b65c-f733-46bf-9811-a85cf7bdf974 div.sk-dashed-wrapped {border: 1px dashed gray;margin: 0 0.4em 0.5em 0.4em;box-sizing: border-box;padding-bottom: 0.4em;background-color: white;position: relative;}#sk-bbd7b65c-f733-46bf-9811-a85cf7bdf974 div.sk-label label {font-family: monospace;font-weight: bold;background-color: white;display: inline-block;line-height: 1.2em;}#sk-bbd7b65c-f733-46bf-9811-a85cf7bdf974 div.sk-label-container {position: relative;z-index: 2;text-align: center;}#sk-bbd7b65c-f733-46bf-9811-a85cf7bdf974 div.sk-container {/* jupyter's `normalize.less` sets `[hidden] { display: none; }` but bootstrap.min.css set `[hidden] { display: none !important; }` so we also need the `!important` here to be able to override the default hidden behavior on the sphinx rendered scikit-learn.org. See: https://github.com/scikit-learn/scikit-learn/issues/21755 */display: inline-block !important;position: relative;}#sk-bbd7b65c-f733-46bf-9811-a85cf7bdf974 div.sk-text-repr-fallback {display: none;}</style><div id=\"sk-bbd7b65c-f733-46bf-9811-a85cf7bdf974\" class=\"sk-top-container\"><div class=\"sk-text-repr-fallback\"><pre>MyCustomColumnTransformer(transformers=[(&#x27;num&#x27;,\n",
       "                                         Pipeline(steps=[(&#x27;simpleimputer&#x27;,\n",
       "                                                          SimpleImputer()),\n",
       "                                                         (&#x27;standardscaler&#x27;,\n",
       "                                                          StandardScaler())]),\n",
       "                                         [&#x27;age&#x27;, &#x27;fare&#x27;, &#x27;sibsp&#x27;, &#x27;parch&#x27;]),\n",
       "                                        (&#x27;cat&#x27;,\n",
       "                                         Pipeline(steps=[(&#x27;simpleimputer&#x27;,\n",
       "                                                          SimpleImputer(strategy=&#x27;most_frequent&#x27;)),\n",
       "                                                         (&#x27;mycustomohe&#x27;,\n",
       "                                                          MyCustomOHE(handle_unknown=&#x27;ignore&#x27;,\n",
       "                                                                      sparse=False))]),\n",
       "                                         [&#x27;pclass&#x27;, &#x27;sex&#x27;, &#x27;embarked&#x27;, &#x27;class&#x27;,\n",
       "                                          &#x27;deck&#x27;, &#x27;embark_town&#x27;, &#x27;alone&#x27;])])</pre><b>Please rerun this cell to show the HTML repr or trust the notebook.</b></div><div class=\"sk-container\" hidden><div class=\"sk-item sk-dashed-wrapped\"><div class=\"sk-label-container\"><div class=\"sk-label sk-toggleable\"><input class=\"sk-toggleable__control sk-hidden--visually\" id=\"b652c031-bd3c-4763-9e31-b0b283f4c5b8\" type=\"checkbox\" ><label for=\"b652c031-bd3c-4763-9e31-b0b283f4c5b8\" class=\"sk-toggleable__label sk-toggleable__label-arrow\">MyCustomColumnTransformer</label><div class=\"sk-toggleable__content\"><pre>MyCustomColumnTransformer(transformers=[(&#x27;num&#x27;,\n",
       "                                         Pipeline(steps=[(&#x27;simpleimputer&#x27;,\n",
       "                                                          SimpleImputer()),\n",
       "                                                         (&#x27;standardscaler&#x27;,\n",
       "                                                          StandardScaler())]),\n",
       "                                         [&#x27;age&#x27;, &#x27;fare&#x27;, &#x27;sibsp&#x27;, &#x27;parch&#x27;]),\n",
       "                                        (&#x27;cat&#x27;,\n",
       "                                         Pipeline(steps=[(&#x27;simpleimputer&#x27;,\n",
       "                                                          SimpleImputer(strategy=&#x27;most_frequent&#x27;)),\n",
       "                                                         (&#x27;mycustomohe&#x27;,\n",
       "                                                          MyCustomOHE(handle_unknown=&#x27;ignore&#x27;,\n",
       "                                                                      sparse=False))]),\n",
       "                                         [&#x27;pclass&#x27;, &#x27;sex&#x27;, &#x27;embarked&#x27;, &#x27;class&#x27;,\n",
       "                                          &#x27;deck&#x27;, &#x27;embark_town&#x27;, &#x27;alone&#x27;])])</pre></div></div></div><div class=\"sk-parallel\"><div class=\"sk-parallel-item\"><div class=\"sk-item\"><div class=\"sk-label-container\"><div class=\"sk-label sk-toggleable\"><input class=\"sk-toggleable__control sk-hidden--visually\" id=\"550b6d1d-c0f9-4536-b830-730f7cefd2f5\" type=\"checkbox\" ><label for=\"550b6d1d-c0f9-4536-b830-730f7cefd2f5\" class=\"sk-toggleable__label sk-toggleable__label-arrow\">num</label><div class=\"sk-toggleable__content\"><pre>[&#x27;age&#x27;, &#x27;fare&#x27;, &#x27;sibsp&#x27;, &#x27;parch&#x27;]</pre></div></div></div><div class=\"sk-serial\"><div class=\"sk-item\"><div class=\"sk-serial\"><div class=\"sk-item\"><div class=\"sk-estimator sk-toggleable\"><input class=\"sk-toggleable__control sk-hidden--visually\" id=\"e4116b35-fb73-43d3-8e11-779acedd0e0e\" type=\"checkbox\" ><label for=\"e4116b35-fb73-43d3-8e11-779acedd0e0e\" class=\"sk-toggleable__label sk-toggleable__label-arrow\">SimpleImputer</label><div class=\"sk-toggleable__content\"><pre>SimpleImputer()</pre></div></div></div><div class=\"sk-item\"><div class=\"sk-estimator sk-toggleable\"><input class=\"sk-toggleable__control sk-hidden--visually\" id=\"59b2e42d-04c7-4c1c-9c41-063ce83f493d\" type=\"checkbox\" ><label for=\"59b2e42d-04c7-4c1c-9c41-063ce83f493d\" class=\"sk-toggleable__label sk-toggleable__label-arrow\">StandardScaler</label><div class=\"sk-toggleable__content\"><pre>StandardScaler()</pre></div></div></div></div></div></div></div></div><div class=\"sk-parallel-item\"><div class=\"sk-item\"><div class=\"sk-label-container\"><div class=\"sk-label sk-toggleable\"><input class=\"sk-toggleable__control sk-hidden--visually\" id=\"e1bcd130-3511-4837-afdb-ee7b4986fcf7\" type=\"checkbox\" ><label for=\"e1bcd130-3511-4837-afdb-ee7b4986fcf7\" class=\"sk-toggleable__label sk-toggleable__label-arrow\">cat</label><div class=\"sk-toggleable__content\"><pre>[&#x27;pclass&#x27;, &#x27;sex&#x27;, &#x27;embarked&#x27;, &#x27;class&#x27;, &#x27;deck&#x27;, &#x27;embark_town&#x27;, &#x27;alone&#x27;]</pre></div></div></div><div class=\"sk-serial\"><div class=\"sk-item\"><div class=\"sk-serial\"><div class=\"sk-item\"><div class=\"sk-estimator sk-toggleable\"><input class=\"sk-toggleable__control sk-hidden--visually\" id=\"ac2fe8d4-6517-471b-93f2-725f1bd36f1e\" type=\"checkbox\" ><label for=\"ac2fe8d4-6517-471b-93f2-725f1bd36f1e\" class=\"sk-toggleable__label sk-toggleable__label-arrow\">SimpleImputer</label><div class=\"sk-toggleable__content\"><pre>SimpleImputer(strategy=&#x27;most_frequent&#x27;)</pre></div></div></div><div class=\"sk-item\"><div class=\"sk-estimator sk-toggleable\"><input class=\"sk-toggleable__control sk-hidden--visually\" id=\"58380115-f280-428d-a027-07999689ea78\" type=\"checkbox\" ><label for=\"58380115-f280-428d-a027-07999689ea78\" class=\"sk-toggleable__label sk-toggleable__label-arrow\">MyCustomOHE</label><div class=\"sk-toggleable__content\"><pre>MyCustomOHE(handle_unknown=&#x27;ignore&#x27;, sparse=False)</pre></div></div></div></div></div></div></div></div></div></div></div></div>"
      ],
      "text/plain": [
       "MyCustomColumnTransformer(transformers=[('num',\n",
       "                                         Pipeline(steps=[('simpleimputer',\n",
       "                                                          SimpleImputer()),\n",
       "                                                         ('standardscaler',\n",
       "                                                          StandardScaler())]),\n",
       "                                         ['age', 'fare', 'sibsp', 'parch']),\n",
       "                                        ('cat',\n",
       "                                         Pipeline(steps=[('simpleimputer',\n",
       "                                                          SimpleImputer(strategy='most_frequent')),\n",
       "                                                         ('mycustomohe',\n",
       "                                                          MyCustomOHE(handle_unknown='ignore',\n",
       "                                                                      sparse=False))]),\n",
       "                                         ['pclass', 'sex', 'embarked', 'class',\n",
       "                                          'deck', 'embark_town', 'alone'])])"
      ]
     },
     "execution_count": 86,
     "metadata": {},
     "output_type": "execute_result"
    }
   ],
   "source": [
    "num_scaler = make_pipeline( \n",
    "                            SimpleImputer(strategy = 'mean'), \n",
    "                            StandardScaler()\n",
    "                            )\n",
    "\n",
    "cat_scaler = make_pipeline(\n",
    "                            SimpleImputer(strategy = \"most_frequent\"),\n",
    "                            MyCustomOHE(sparse = False,handle_unknown = 'ignore')\n",
    "                            )\n",
    "\n",
    "\n",
    "    \n",
    "prep= MyCustomColumnTransformer([\n",
    "    ('num', num_scaler, num),\n",
    "     ('cat', cat_scaler, cat)   \n",
    "])\n",
    "prep"
   ]
  },
  {
   "cell_type": "code",
   "execution_count": 87,
   "metadata": {},
   "outputs": [
    {
     "data": {
      "text/html": [
       "<div>\n",
       "<style scoped>\n",
       "    .dataframe tbody tr th:only-of-type {\n",
       "        vertical-align: middle;\n",
       "    }\n",
       "\n",
       "    .dataframe tbody tr th {\n",
       "        vertical-align: top;\n",
       "    }\n",
       "\n",
       "    .dataframe thead th {\n",
       "        text-align: right;\n",
       "    }\n",
       "</style>\n",
       "<table border=\"1\" class=\"dataframe\">\n",
       "  <thead>\n",
       "    <tr style=\"text-align: right;\">\n",
       "      <th></th>\n",
       "      <th>custom_ohe__sex_female</th>\n",
       "      <th>custom_ohe__sex_male</th>\n",
       "    </tr>\n",
       "  </thead>\n",
       "  <tbody>\n",
       "    <tr>\n",
       "      <th>0</th>\n",
       "      <td>1.0</td>\n",
       "      <td>0.0</td>\n",
       "    </tr>\n",
       "    <tr>\n",
       "      <th>1</th>\n",
       "      <td>0.0</td>\n",
       "      <td>1.0</td>\n",
       "    </tr>\n",
       "    <tr>\n",
       "      <th>2</th>\n",
       "      <td>0.0</td>\n",
       "      <td>1.0</td>\n",
       "    </tr>\n",
       "    <tr>\n",
       "      <th>3</th>\n",
       "      <td>0.0</td>\n",
       "      <td>1.0</td>\n",
       "    </tr>\n",
       "    <tr>\n",
       "      <th>4</th>\n",
       "      <td>1.0</td>\n",
       "      <td>0.0</td>\n",
       "    </tr>\n",
       "  </tbody>\n",
       "</table>\n",
       "</div>"
      ],
      "text/plain": [
       "   custom_ohe__sex_female  custom_ohe__sex_male\n",
       "0                     1.0                   0.0\n",
       "1                     0.0                   1.0\n",
       "2                     0.0                   1.0\n",
       "3                     0.0                   1.0\n",
       "4                     1.0                   0.0"
      ]
     },
     "execution_count": 87,
     "metadata": {},
     "output_type": "execute_result"
    }
   ],
   "source": [
    "preprocessor = MyCustomColumnTransformer([\n",
    "    ('custom_ohe', MyCustomOHE(sparse=False), ['sex'])\n",
    "])\n",
    "preprocessor.fit(X_train)\n",
    "preprocessor.transform(X_train)\n",
    "preprocessor.fit_transform(X_train).head()"
   ]
  },
  {
   "cell_type": "markdown",
   "metadata": {},
   "source": [
    "🏁 In conclusion, it's rather difficult to keep column names and dataframes when dealing with pipelines in Sklearn."
   ]
  },
  {
   "cell_type": "code",
   "execution_count": null,
   "metadata": {},
   "outputs": [],
   "source": []
  }
 ],
 "metadata": {
  "kernelspec": {
   "display_name": "Python 3 (ipykernel)",
   "language": "python",
   "name": "python3"
  },
  "language_info": {
   "codemirror_mode": {
    "name": "ipython",
    "version": 3
   },
   "file_extension": ".py",
   "mimetype": "text/x-python",
   "name": "python",
   "nbconvert_exporter": "python",
   "pygments_lexer": "ipython3",
   "version": "3.9.8"
  },
  "toc": {
   "base_numbering": 1,
   "nav_menu": {},
   "number_sections": true,
   "sideBar": true,
   "skip_h1_title": false,
   "title_cell": "Table of Contents",
   "title_sidebar": "Contents",
   "toc_cell": false,
   "toc_position": {},
   "toc_section_display": true,
   "toc_window_display": false
  }
 },
 "nbformat": 4,
 "nbformat_minor": 4
}
