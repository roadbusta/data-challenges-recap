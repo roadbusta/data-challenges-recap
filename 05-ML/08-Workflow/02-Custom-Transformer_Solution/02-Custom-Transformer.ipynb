{
 "cells": [
  {
   "cell_type": "markdown",
   "metadata": {},
   "source": [
    "# Custom Transformer"
   ]
  },
  {
   "cell_type": "code",
   "execution_count": null,
   "metadata": {},
   "outputs": [],
   "source": [
    "import seaborn as sns\n",
    "import pandas as pd\n",
    "import numpy as np\n",
    "from sklearn import set_config; set_config(display='diagram')"
   ]
  },
  {
   "cell_type": "markdown",
   "metadata": {},
   "source": [
    "👇 Consider the following dataset"
   ]
  },
  {
   "cell_type": "code",
   "execution_count": null,
   "metadata": {},
   "outputs": [
    {
     "data": {
      "text/html": [
       "<div>\n",
       "<style scoped>\n",
       "    .dataframe tbody tr th:only-of-type {\n",
       "        vertical-align: middle;\n",
       "    }\n",
       "\n",
       "    .dataframe tbody tr th {\n",
       "        vertical-align: top;\n",
       "    }\n",
       "\n",
       "    .dataframe thead th {\n",
       "        text-align: right;\n",
       "    }\n",
       "</style>\n",
       "<table border=\"1\" class=\"dataframe\">\n",
       "  <thead>\n",
       "    <tr style=\"text-align: right;\">\n",
       "      <th></th>\n",
       "      <th>customer_state</th>\n",
       "      <th>seller_state</th>\n",
       "      <th>product_weight_g</th>\n",
       "      <th>product_length_cm</th>\n",
       "      <th>product_height_cm</th>\n",
       "      <th>product_width_cm</th>\n",
       "      <th>days_until_delivery</th>\n",
       "    </tr>\n",
       "  </thead>\n",
       "  <tbody>\n",
       "    <tr>\n",
       "      <th>0</th>\n",
       "      <td>RJ</td>\n",
       "      <td>SP</td>\n",
       "      <td>1825</td>\n",
       "      <td>53</td>\n",
       "      <td>10</td>\n",
       "      <td>40</td>\n",
       "      <td>9</td>\n",
       "    </tr>\n",
       "    <tr>\n",
       "      <th>1</th>\n",
       "      <td>RJ</td>\n",
       "      <td>SP</td>\n",
       "      <td>700</td>\n",
       "      <td>65</td>\n",
       "      <td>18</td>\n",
       "      <td>28</td>\n",
       "      <td>9</td>\n",
       "    </tr>\n",
       "    <tr>\n",
       "      <th>2</th>\n",
       "      <td>RJ</td>\n",
       "      <td>SP</td>\n",
       "      <td>1825</td>\n",
       "      <td>53</td>\n",
       "      <td>10</td>\n",
       "      <td>40</td>\n",
       "      <td>11</td>\n",
       "    </tr>\n",
       "    <tr>\n",
       "      <th>3</th>\n",
       "      <td>RJ</td>\n",
       "      <td>SP</td>\n",
       "      <td>1825</td>\n",
       "      <td>53</td>\n",
       "      <td>10</td>\n",
       "      <td>40</td>\n",
       "      <td>12</td>\n",
       "    </tr>\n",
       "    <tr>\n",
       "      <th>4</th>\n",
       "      <td>RJ</td>\n",
       "      <td>SP</td>\n",
       "      <td>1825</td>\n",
       "      <td>53</td>\n",
       "      <td>10</td>\n",
       "      <td>40</td>\n",
       "      <td>14</td>\n",
       "    </tr>\n",
       "  </tbody>\n",
       "</table>\n",
       "</div>"
      ],
      "text/plain": [
       "  customer_state seller_state  product_weight_g  product_length_cm  \\\n",
       "0             RJ           SP              1825                 53   \n",
       "1             RJ           SP               700                 65   \n",
       "2             RJ           SP              1825                 53   \n",
       "3             RJ           SP              1825                 53   \n",
       "4             RJ           SP              1825                 53   \n",
       "\n",
       "   product_height_cm  product_width_cm  days_until_delivery  \n",
       "0                 10                40                    9  \n",
       "1                 18                28                    9  \n",
       "2                 10                40                   11  \n",
       "3                 10                40                   12  \n",
       "4                 10                40                   14  "
      ]
     },
     "execution_count": null,
     "metadata": {},
     "output_type": "execute_result"
    }
   ],
   "source": [
    "import pandas as pd\n",
    "\n",
    "data = pd.read_csv(\"data.csv\")\n",
    "data.head()"
   ]
  },
  {
   "cell_type": "markdown",
   "metadata": {},
   "source": [
    "- Each observation of the dataset represents an item being delivered from a  `seller_state` to a `customer_state`. \n",
    "- Other columns describe the packaging properties of each item.\n",
    "\n",
    "🎯 The target is the number of days between the order and the delivery."
   ]
  },
  {
   "cell_type": "code",
   "execution_count": null,
   "metadata": {},
   "outputs": [
    {
     "data": {
      "text/plain": [
       "<AxesSubplot:xlabel='days_until_delivery', ylabel='Count'>"
      ]
     },
     "execution_count": null,
     "metadata": {},
     "output_type": "execute_result"
    },
    {
     "data": {
      "image/png": "[encoded data removed]",
      "text/plain": [
       "<Figure size 432x288 with 1 Axes>"
      ]
     },
     "metadata": {
      "needs_background": "light"
     },
     "output_type": "display_data"
    }
   ],
   "source": [
    "# Check target\n",
    "sns.histplot(data.days_until_delivery)"
   ]
  },
  {
   "cell_type": "markdown",
   "metadata": {},
   "source": [
    "## 1. Pipeline"
   ]
  },
  {
   "cell_type": "markdown",
   "metadata": {},
   "source": [
    "👇 Create a scikit-learn pipeline named `pipe`:\n",
    "\n",
    "- Engineer a `volume` feature from the dimensions features\n",
    "- Preserve the original product dimensions features for training\n",
    "- Scale all numerical features\n",
    "- Encode the categorical features\n",
    "- Add a default `Ridge` regression estimator"
   ]
  },
  {
   "cell_type": "markdown",
   "metadata": {},
   "source": [
    "<details><summary>Hints</summary>\n",
    "\n",
    "- There are many ways to create your preprocessed matrix (using `ColumnTransformer` and/or `FeatureUnion`). \n",
    "    \n",
    "- If your transformed feature matrix look wierd, it may be stored as \"sparse\" by the default behavior of `OneHotEncoder(sparse=True)`. Use `.todense()` to turn it back to a dense matrix\n",
    "\n",
    "</details>"
   ]
  },
  {
   "cell_type": "code",
   "execution_count": null,
   "metadata": {},
   "outputs": [],
   "source": [
    "# YOUR CODE HERE"
   ]
  },
  {
   "cell_type": "markdown",
   "metadata": {
    "tags": [
     "delete_begin"
    ]
   },
   "source": [
    "### solution"
   ]
  },
  {
   "cell_type": "markdown",
   "metadata": {},
   "source": [
    "#### Preprocessing Solution 1: Function Transformer"
   ]
  },
  {
   "cell_type": "code",
   "execution_count": null,
   "metadata": {},
   "outputs": [],
   "source": [
    "from sklearn.compose import ColumnTransformer\n",
    "from sklearn.compose import make_column_selector\n",
    "from sklearn.pipeline import Pipeline\n",
    "from sklearn.preprocessing import FunctionTransformer\n",
    "from sklearn.preprocessing import OneHotEncoder\n",
    "from sklearn.preprocessing import MinMaxScaler\n",
    "\n",
    "from sklearn.preprocessing import StandardScaler\n",
    "from sklearn.preprocessing import FunctionTransformer\n",
    "\n",
    "from sklearn.preprocessing import StandardScaler\n",
    "from sklearn.base import TransformerMixin\n",
    "from sklearn.base import BaseEstimator\n",
    "\n",
    "from sklearn.pipeline import FeatureUnion"
   ]
  },
  {
   "cell_type": "code",
   "execution_count": null,
   "metadata": {},
   "outputs": [
    {
     "data": {
      "text/html": [
       "<div>\n",
       "<style scoped>\n",
       "    .dataframe tbody tr th:only-of-type {\n",
       "        vertical-align: middle;\n",
       "    }\n",
       "\n",
       "    .dataframe tbody tr th {\n",
       "        vertical-align: top;\n",
       "    }\n",
       "\n",
       "    .dataframe thead th {\n",
       "        text-align: right;\n",
       "    }\n",
       "</style>\n",
       "<table border=\"1\" class=\"dataframe\">\n",
       "  <thead>\n",
       "    <tr style=\"text-align: right;\">\n",
       "      <th></th>\n",
       "      <th>customer_state</th>\n",
       "      <th>seller_state</th>\n",
       "      <th>product_weight_g</th>\n",
       "      <th>product_length_cm</th>\n",
       "      <th>product_height_cm</th>\n",
       "      <th>product_width_cm</th>\n",
       "    </tr>\n",
       "  </thead>\n",
       "  <tbody>\n",
       "    <tr>\n",
       "      <th>0</th>\n",
       "      <td>RJ</td>\n",
       "      <td>SP</td>\n",
       "      <td>1825</td>\n",
       "      <td>53</td>\n",
       "      <td>10</td>\n",
       "      <td>40</td>\n",
       "    </tr>\n",
       "    <tr>\n",
       "      <th>1</th>\n",
       "      <td>RJ</td>\n",
       "      <td>SP</td>\n",
       "      <td>700</td>\n",
       "      <td>65</td>\n",
       "      <td>18</td>\n",
       "      <td>28</td>\n",
       "    </tr>\n",
       "    <tr>\n",
       "      <th>2</th>\n",
       "      <td>RJ</td>\n",
       "      <td>SP</td>\n",
       "      <td>1825</td>\n",
       "      <td>53</td>\n",
       "      <td>10</td>\n",
       "      <td>40</td>\n",
       "    </tr>\n",
       "    <tr>\n",
       "      <th>3</th>\n",
       "      <td>RJ</td>\n",
       "      <td>SP</td>\n",
       "      <td>1825</td>\n",
       "      <td>53</td>\n",
       "      <td>10</td>\n",
       "      <td>40</td>\n",
       "    </tr>\n",
       "    <tr>\n",
       "      <th>4</th>\n",
       "      <td>RJ</td>\n",
       "      <td>SP</td>\n",
       "      <td>1825</td>\n",
       "      <td>53</td>\n",
       "      <td>10</td>\n",
       "      <td>40</td>\n",
       "    </tr>\n",
       "  </tbody>\n",
       "</table>\n",
       "</div>"
      ],
      "text/plain": [
       "  customer_state seller_state  product_weight_g  product_length_cm  \\\n",
       "0             RJ           SP              1825                 53   \n",
       "1             RJ           SP               700                 65   \n",
       "2             RJ           SP              1825                 53   \n",
       "3             RJ           SP              1825                 53   \n",
       "4             RJ           SP              1825                 53   \n",
       "\n",
       "   product_height_cm  product_width_cm  \n",
       "0                 10                40  \n",
       "1                 18                28  \n",
       "2                 10                40  \n",
       "3                 10                40  \n",
       "4                 10                40  "
      ]
     },
     "execution_count": null,
     "metadata": {},
     "output_type": "execute_result"
    }
   ],
   "source": [
    "X = data.drop(columns=['days_until_delivery'])\n",
    "y = data['days_until_delivery']\n",
    "X.head()"
   ]
  },
  {
   "cell_type": "code",
   "execution_count": null,
   "metadata": {},
   "outputs": [
    {
     "data": {
      "text/html": [
       "<style>#sk-3fadb127-a4ab-4651-b82c-749bc19f189d {color: black;background-color: white;}#sk-3fadb127-a4ab-4651-b82c-749bc19f189d pre{padding: 0;}#sk-3fadb127-a4ab-4651-b82c-749bc19f189d div.sk-toggleable {background-color: white;}#sk-3fadb127-a4ab-4651-b82c-749bc19f189d label.sk-toggleable__label {cursor: pointer;display: block;width: 100%;margin-bottom: 0;padding: 0.3em;box-sizing: border-box;text-align: center;}#sk-3fadb127-a4ab-4651-b82c-749bc19f189d div.sk-toggleable__content {max-height: 0;max-width: 0;overflow: hidden;text-align: left;background-color: #f0f8ff;}#sk-3fadb127-a4ab-4651-b82c-749bc19f189d div.sk-toggleable__content pre {margin: 0.2em;color: black;border-radius: 0.25em;background-color: #f0f8ff;}#sk-3fadb127-a4ab-4651-b82c-749bc19f189d input.sk-toggleable__control:checked~div.sk-toggleable__content {max-height: 200px;max-width: 100%;overflow: auto;}#sk-3fadb127-a4ab-4651-b82c-749bc19f189d div.sk-estimator input.sk-toggleable__control:checked~label.sk-toggleable__label {background-color: #d4ebff;}#sk-3fadb127-a4ab-4651-b82c-749bc19f189d div.sk-label input.sk-toggleable__control:checked~label.sk-toggleable__label {background-color: #d4ebff;}#sk-3fadb127-a4ab-4651-b82c-749bc19f189d input.sk-hidden--visually {border: 0;clip: rect(1px 1px 1px 1px);clip: rect(1px, 1px, 1px, 1px);height: 1px;margin: -1px;overflow: hidden;padding: 0;position: absolute;width: 1px;}#sk-3fadb127-a4ab-4651-b82c-749bc19f189d div.sk-estimator {font-family: monospace;background-color: #f0f8ff;border: 1px dotted black;border-radius: 0.25em;box-sizing: border-box;margin-bottom: 0.5em;}#sk-3fadb127-a4ab-4651-b82c-749bc19f189d div.sk-estimator:hover {background-color: #d4ebff;}#sk-3fadb127-a4ab-4651-b82c-749bc19f189d div.sk-parallel-item::after {content: \"\";width: 100%;border-bottom: 1px solid gray;flex-grow: 1;}#sk-3fadb127-a4ab-4651-b82c-749bc19f189d div.sk-label:hover label.sk-toggleable__label {background-color: #d4ebff;}#sk-3fadb127-a4ab-4651-b82c-749bc19f189d div.sk-serial::before {content: \"\";position: absolute;border-left: 1px solid gray;box-sizing: border-box;top: 2em;bottom: 0;left: 50%;}#sk-3fadb127-a4ab-4651-b82c-749bc19f189d div.sk-serial {display: flex;flex-direction: column;align-items: center;background-color: white;padding-right: 0.2em;padding-left: 0.2em;}#sk-3fadb127-a4ab-4651-b82c-749bc19f189d div.sk-item {z-index: 1;}#sk-3fadb127-a4ab-4651-b82c-749bc19f189d div.sk-parallel {display: flex;align-items: stretch;justify-content: center;background-color: white;}#sk-3fadb127-a4ab-4651-b82c-749bc19f189d div.sk-parallel::before {content: \"\";position: absolute;border-left: 1px solid gray;box-sizing: border-box;top: 2em;bottom: 0;left: 50%;}#sk-3fadb127-a4ab-4651-b82c-749bc19f189d div.sk-parallel-item {display: flex;flex-direction: column;position: relative;background-color: white;}#sk-3fadb127-a4ab-4651-b82c-749bc19f189d div.sk-parallel-item:first-child::after {align-self: flex-end;width: 50%;}#sk-3fadb127-a4ab-4651-b82c-749bc19f189d div.sk-parallel-item:last-child::after {align-self: flex-start;width: 50%;}#sk-3fadb127-a4ab-4651-b82c-749bc19f189d div.sk-parallel-item:only-child::after {width: 0;}#sk-3fadb127-a4ab-4651-b82c-749bc19f189d div.sk-dashed-wrapped {border: 1px dashed gray;margin: 0 0.4em 0.5em 0.4em;box-sizing: border-box;padding-bottom: 0.4em;background-color: white;position: relative;}#sk-3fadb127-a4ab-4651-b82c-749bc19f189d div.sk-label label {font-family: monospace;font-weight: bold;background-color: white;display: inline-block;line-height: 1.2em;}#sk-3fadb127-a4ab-4651-b82c-749bc19f189d div.sk-label-container {position: relative;z-index: 2;text-align: center;}#sk-3fadb127-a4ab-4651-b82c-749bc19f189d div.sk-container {display: inline-block;position: relative;}</style><div id=\"sk-3fadb127-a4ab-4651-b82c-749bc19f189d\" class\"sk-top-container\"><div class=\"sk-container\"><div class=\"sk-item sk-dashed-wrapped\"><div class=\"sk-label-container\"><div class=\"sk-label sk-toggleable\"><input class=\"sk-toggleable__control sk-hidden--visually\" id=\"abcda466-d641-495b-81c1-fbd5218ceaa5\" type=\"checkbox\" ><label class=\"sk-toggleable__label\" for=\"abcda466-d641-495b-81c1-fbd5218ceaa5\">ColumnTransformer</label><div class=\"sk-toggleable__content\"><pre>ColumnTransformer(transformers=[('num_encoder', MinMaxScaler(),\n",
       "                                 <sklearn.compose._column_transformer.make_column_selector object at 0x13f30fa00>),\n",
       "                                ('cat_encoder',\n",
       "                                 OneHotEncoder(handle_unknown='ignore',\n",
       "                                               sparse=False),\n",
       "                                 <sklearn.compose._column_transformer.make_column_selector object at 0x13f30fc70>),\n",
       "                                ('volume_computer',\n",
       "                                 Pipeline(steps=[('compute_volume',\n",
       "                                                  FunctionTransformer(func=<function multiply at 0x13f30a160>)),\n",
       "                                                 ('scale_volume',\n",
       "                                                  MinMaxScaler())]),\n",
       "                                 ['product_length_cm', 'product_height_cm',\n",
       "                                  'product_width_cm'])])</pre></div></div></div><div class=\"sk-parallel\"><div class=\"sk-parallel-item\"><div class=\"sk-item\"><div class=\"sk-label-container\"><div class=\"sk-label sk-toggleable\"><input class=\"sk-toggleable__control sk-hidden--visually\" id=\"18409969-6fdf-4973-a2d7-2fe0d8342e1d\" type=\"checkbox\" ><label class=\"sk-toggleable__label\" for=\"18409969-6fdf-4973-a2d7-2fe0d8342e1d\">num_encoder</label><div class=\"sk-toggleable__content\"><pre><sklearn.compose._column_transformer.make_column_selector object at 0x13f30fa00></pre></div></div></div><div class=\"sk-serial\"><div class=\"sk-item\"><div class=\"sk-estimator sk-toggleable\"><input class=\"sk-toggleable__control sk-hidden--visually\" id=\"a36d5ebc-00df-4cc3-8368-5133ee672b8f\" type=\"checkbox\" ><label class=\"sk-toggleable__label\" for=\"a36d5ebc-00df-4cc3-8368-5133ee672b8f\">MinMaxScaler</label><div class=\"sk-toggleable__content\"><pre>MinMaxScaler()</pre></div></div></div></div></div></div><div class=\"sk-parallel-item\"><div class=\"sk-item\"><div class=\"sk-label-container\"><div class=\"sk-label sk-toggleable\"><input class=\"sk-toggleable__control sk-hidden--visually\" id=\"a48d9551-85b6-4641-b6d0-3238b3296e68\" type=\"checkbox\" ><label class=\"sk-toggleable__label\" for=\"a48d9551-85b6-4641-b6d0-3238b3296e68\">cat_encoder</label><div class=\"sk-toggleable__content\"><pre><sklearn.compose._column_transformer.make_column_selector object at 0x13f30fc70></pre></div></div></div><div class=\"sk-serial\"><div class=\"sk-item\"><div class=\"sk-estimator sk-toggleable\"><input class=\"sk-toggleable__control sk-hidden--visually\" id=\"43a94213-781f-4d5e-a35d-b1eb01229130\" type=\"checkbox\" ><label class=\"sk-toggleable__label\" for=\"43a94213-781f-4d5e-a35d-b1eb01229130\">OneHotEncoder</label><div class=\"sk-toggleable__content\"><pre>OneHotEncoder(handle_unknown='ignore', sparse=False)</pre></div></div></div></div></div></div><div class=\"sk-parallel-item\"><div class=\"sk-item\"><div class=\"sk-label-container\"><div class=\"sk-label sk-toggleable\"><input class=\"sk-toggleable__control sk-hidden--visually\" id=\"cbb96f41-8437-4930-81a5-f5d96af87dd1\" type=\"checkbox\" ><label class=\"sk-toggleable__label\" for=\"cbb96f41-8437-4930-81a5-f5d96af87dd1\">volume_computer</label><div class=\"sk-toggleable__content\"><pre>['product_length_cm', 'product_height_cm', 'product_width_cm']</pre></div></div></div><div class=\"sk-serial\"><div class=\"sk-item\"><div class=\"sk-serial\"><div class=\"sk-item\"><div class=\"sk-estimator sk-toggleable\"><input class=\"sk-toggleable__control sk-hidden--visually\" id=\"15c82a02-f2d5-4293-af3f-c22276ad7cd2\" type=\"checkbox\" ><label class=\"sk-toggleable__label\" for=\"15c82a02-f2d5-4293-af3f-c22276ad7cd2\">FunctionTransformer</label><div class=\"sk-toggleable__content\"><pre>FunctionTransformer(func=<function multiply at 0x13f30a160>)</pre></div></div></div><div class=\"sk-item\"><div class=\"sk-estimator sk-toggleable\"><input class=\"sk-toggleable__control sk-hidden--visually\" id=\"75440b44-1cb7-4363-ab6c-2fd48d01648e\" type=\"checkbox\" ><label class=\"sk-toggleable__label\" for=\"75440b44-1cb7-4363-ab6c-2fd48d01648e\">MinMaxScaler</label><div class=\"sk-toggleable__content\"><pre>MinMaxScaler()</pre></div></div></div></div></div></div></div></div></div></div></div></div>"
      ],
      "text/plain": [
       "ColumnTransformer(transformers=[('num_encoder', MinMaxScaler(),\n",
       "                                 <sklearn.compose._column_transformer.make_column_selector object at 0x13f30fa00>),\n",
       "                                ('cat_encoder',\n",
       "                                 OneHotEncoder(handle_unknown='ignore',\n",
       "                                               sparse=False),\n",
       "                                 <sklearn.compose._column_transformer.make_column_selector object at 0x13f30fc70>),\n",
       "                                ('volume_computer',\n",
       "                                 Pipeline(steps=[('compute_volume',\n",
       "                                                  FunctionTransformer(func=<function multiply at 0x13f30a160>)),\n",
       "                                                 ('scale_volume',\n",
       "                                                  MinMaxScaler())]),\n",
       "                                 ['product_length_cm', 'product_height_cm',\n",
       "                                  'product_width_cm'])])"
      ]
     },
     "execution_count": null,
     "metadata": {},
     "output_type": "execute_result"
    }
   ],
   "source": [
    "def multiply(df):\n",
    "    return pd.DataFrame(\n",
    "        df['product_length_cm'] * df['product_height_cm'] * df['product_width_cm'])\n",
    "    \n",
    "volume_computer = Pipeline([\n",
    "    ('compute_volume', FunctionTransformer(multiply)),\n",
    "    ('scale_volume', MinMaxScaler())\n",
    "])\n",
    "\n",
    "final_preprocessor = ColumnTransformer([\n",
    "    ('num_encoder', MinMaxScaler(), make_column_selector(dtype_include=\"int64\")),\n",
    "    ('cat_encoder', OneHotEncoder(handle_unknown='ignore', sparse=False), make_column_selector(dtype_include=\"object\")),\n",
    "    ('volume_computer', volume_computer, ['product_length_cm','product_height_cm','product_width_cm'])\n",
    "])\n",
    "final_preprocessor"
   ]
  },
  {
   "cell_type": "code",
   "execution_count": null,
   "metadata": {},
   "outputs": [
    {
     "data": {
      "text/html": [
       "<div>\n",
       "<style scoped>\n",
       "    .dataframe tbody tr th:only-of-type {\n",
       "        vertical-align: middle;\n",
       "    }\n",
       "\n",
       "    .dataframe tbody tr th {\n",
       "        vertical-align: top;\n",
       "    }\n",
       "\n",
       "    .dataframe thead th {\n",
       "        text-align: right;\n",
       "    }\n",
       "</style>\n",
       "<table border=\"1\" class=\"dataframe\">\n",
       "  <thead>\n",
       "    <tr style=\"text-align: right;\">\n",
       "      <th></th>\n",
       "      <th>0</th>\n",
       "      <th>1</th>\n",
       "      <th>2</th>\n",
       "      <th>3</th>\n",
       "      <th>4</th>\n",
       "      <th>5</th>\n",
       "      <th>6</th>\n",
       "      <th>7</th>\n",
       "      <th>8</th>\n",
       "      <th>9</th>\n",
       "      <th>...</th>\n",
       "      <th>22</th>\n",
       "      <th>23</th>\n",
       "      <th>24</th>\n",
       "      <th>25</th>\n",
       "      <th>26</th>\n",
       "      <th>27</th>\n",
       "      <th>28</th>\n",
       "      <th>29</th>\n",
       "      <th>30</th>\n",
       "      <th>31</th>\n",
       "    </tr>\n",
       "  </thead>\n",
       "  <tbody>\n",
       "    <tr>\n",
       "      <th>0</th>\n",
       "      <td>0.057692</td>\n",
       "      <td>0.402439</td>\n",
       "      <td>0.056818</td>\n",
       "      <td>0.271028</td>\n",
       "      <td>0.0</td>\n",
       "      <td>0.0</td>\n",
       "      <td>0.0</td>\n",
       "      <td>0.0</td>\n",
       "      <td>0.0</td>\n",
       "      <td>0.0</td>\n",
       "      <td>...</td>\n",
       "      <td>0.0</td>\n",
       "      <td>0.0</td>\n",
       "      <td>0.0</td>\n",
       "      <td>0.0</td>\n",
       "      <td>0.0</td>\n",
       "      <td>0.0</td>\n",
       "      <td>0.0</td>\n",
       "      <td>0.0</td>\n",
       "      <td>1.0</td>\n",
       "      <td>0.079177</td>\n",
       "    </tr>\n",
       "    <tr>\n",
       "      <th>1</th>\n",
       "      <td>0.020067</td>\n",
       "      <td>0.548780</td>\n",
       "      <td>0.147727</td>\n",
       "      <td>0.158879</td>\n",
       "      <td>0.0</td>\n",
       "      <td>0.0</td>\n",
       "      <td>0.0</td>\n",
       "      <td>0.0</td>\n",
       "      <td>0.0</td>\n",
       "      <td>0.0</td>\n",
       "      <td>...</td>\n",
       "      <td>0.0</td>\n",
       "      <td>0.0</td>\n",
       "      <td>0.0</td>\n",
       "      <td>0.0</td>\n",
       "      <td>0.0</td>\n",
       "      <td>0.0</td>\n",
       "      <td>0.0</td>\n",
       "      <td>0.0</td>\n",
       "      <td>1.0</td>\n",
       "      <td>0.125218</td>\n",
       "    </tr>\n",
       "    <tr>\n",
       "      <th>2</th>\n",
       "      <td>0.057692</td>\n",
       "      <td>0.402439</td>\n",
       "      <td>0.056818</td>\n",
       "      <td>0.271028</td>\n",
       "      <td>0.0</td>\n",
       "      <td>0.0</td>\n",
       "      <td>0.0</td>\n",
       "      <td>0.0</td>\n",
       "      <td>0.0</td>\n",
       "      <td>0.0</td>\n",
       "      <td>...</td>\n",
       "      <td>0.0</td>\n",
       "      <td>0.0</td>\n",
       "      <td>0.0</td>\n",
       "      <td>0.0</td>\n",
       "      <td>0.0</td>\n",
       "      <td>0.0</td>\n",
       "      <td>0.0</td>\n",
       "      <td>0.0</td>\n",
       "      <td>1.0</td>\n",
       "      <td>0.079177</td>\n",
       "    </tr>\n",
       "    <tr>\n",
       "      <th>3</th>\n",
       "      <td>0.057692</td>\n",
       "      <td>0.402439</td>\n",
       "      <td>0.056818</td>\n",
       "      <td>0.271028</td>\n",
       "      <td>0.0</td>\n",
       "      <td>0.0</td>\n",
       "      <td>0.0</td>\n",
       "      <td>0.0</td>\n",
       "      <td>0.0</td>\n",
       "      <td>0.0</td>\n",
       "      <td>...</td>\n",
       "      <td>0.0</td>\n",
       "      <td>0.0</td>\n",
       "      <td>0.0</td>\n",
       "      <td>0.0</td>\n",
       "      <td>0.0</td>\n",
       "      <td>0.0</td>\n",
       "      <td>0.0</td>\n",
       "      <td>0.0</td>\n",
       "      <td>1.0</td>\n",
       "      <td>0.079177</td>\n",
       "    </tr>\n",
       "    <tr>\n",
       "      <th>4</th>\n",
       "      <td>0.057692</td>\n",
       "      <td>0.402439</td>\n",
       "      <td>0.056818</td>\n",
       "      <td>0.271028</td>\n",
       "      <td>0.0</td>\n",
       "      <td>0.0</td>\n",
       "      <td>0.0</td>\n",
       "      <td>0.0</td>\n",
       "      <td>0.0</td>\n",
       "      <td>0.0</td>\n",
       "      <td>...</td>\n",
       "      <td>0.0</td>\n",
       "      <td>0.0</td>\n",
       "      <td>0.0</td>\n",
       "      <td>0.0</td>\n",
       "      <td>0.0</td>\n",
       "      <td>0.0</td>\n",
       "      <td>0.0</td>\n",
       "      <td>0.0</td>\n",
       "      <td>1.0</td>\n",
       "      <td>0.079177</td>\n",
       "    </tr>\n",
       "  </tbody>\n",
       "</table>\n",
       "<p>5 rows × 32 columns</p>\n",
       "</div>"
      ],
      "text/plain": [
       "         0         1         2         3    4    5    6    7    8    9   ...  \\\n",
       "0  0.057692  0.402439  0.056818  0.271028  0.0  0.0  0.0  0.0  0.0  0.0  ...   \n",
       "1  0.020067  0.548780  0.147727  0.158879  0.0  0.0  0.0  0.0  0.0  0.0  ...   \n",
       "2  0.057692  0.402439  0.056818  0.271028  0.0  0.0  0.0  0.0  0.0  0.0  ...   \n",
       "3  0.057692  0.402439  0.056818  0.271028  0.0  0.0  0.0  0.0  0.0  0.0  ...   \n",
       "4  0.057692  0.402439  0.056818  0.271028  0.0  0.0  0.0  0.0  0.0  0.0  ...   \n",
       "\n",
       "    22   23   24   25   26   27   28   29   30        31  \n",
       "0  0.0  0.0  0.0  0.0  0.0  0.0  0.0  0.0  1.0  0.079177  \n",
       "1  0.0  0.0  0.0  0.0  0.0  0.0  0.0  0.0  1.0  0.125218  \n",
       "2  0.0  0.0  0.0  0.0  0.0  0.0  0.0  0.0  1.0  0.079177  \n",
       "3  0.0  0.0  0.0  0.0  0.0  0.0  0.0  0.0  1.0  0.079177  \n",
       "4  0.0  0.0  0.0  0.0  0.0  0.0  0.0  0.0  1.0  0.079177  \n",
       "\n",
       "[5 rows x 32 columns]"
      ]
     },
     "execution_count": null,
     "metadata": {},
     "output_type": "execute_result"
    }
   ],
   "source": [
    "pd.DataFrame(final_preprocessor.fit_transform(X)).head()"
   ]
  },
  {
   "cell_type": "code",
   "execution_count": null,
   "metadata": {},
   "outputs": [
    {
     "data": {
      "text/html": [
       "<style>#sk-7a56d047-a8ec-42b1-bc6a-32818f81cfc7 {color: black;background-color: white;}#sk-7a56d047-a8ec-42b1-bc6a-32818f81cfc7 pre{padding: 0;}#sk-7a56d047-a8ec-42b1-bc6a-32818f81cfc7 div.sk-toggleable {background-color: white;}#sk-7a56d047-a8ec-42b1-bc6a-32818f81cfc7 label.sk-toggleable__label {cursor: pointer;display: block;width: 100%;margin-bottom: 0;padding: 0.3em;box-sizing: border-box;text-align: center;}#sk-7a56d047-a8ec-42b1-bc6a-32818f81cfc7 div.sk-toggleable__content {max-height: 0;max-width: 0;overflow: hidden;text-align: left;background-color: #f0f8ff;}#sk-7a56d047-a8ec-42b1-bc6a-32818f81cfc7 div.sk-toggleable__content pre {margin: 0.2em;color: black;border-radius: 0.25em;background-color: #f0f8ff;}#sk-7a56d047-a8ec-42b1-bc6a-32818f81cfc7 input.sk-toggleable__control:checked~div.sk-toggleable__content {max-height: 200px;max-width: 100%;overflow: auto;}#sk-7a56d047-a8ec-42b1-bc6a-32818f81cfc7 div.sk-estimator input.sk-toggleable__control:checked~label.sk-toggleable__label {background-color: #d4ebff;}#sk-7a56d047-a8ec-42b1-bc6a-32818f81cfc7 div.sk-label input.sk-toggleable__control:checked~label.sk-toggleable__label {background-color: #d4ebff;}#sk-7a56d047-a8ec-42b1-bc6a-32818f81cfc7 input.sk-hidden--visually {border: 0;clip: rect(1px 1px 1px 1px);clip: rect(1px, 1px, 1px, 1px);height: 1px;margin: -1px;overflow: hidden;padding: 0;position: absolute;width: 1px;}#sk-7a56d047-a8ec-42b1-bc6a-32818f81cfc7 div.sk-estimator {font-family: monospace;background-color: #f0f8ff;border: 1px dotted black;border-radius: 0.25em;box-sizing: border-box;margin-bottom: 0.5em;}#sk-7a56d047-a8ec-42b1-bc6a-32818f81cfc7 div.sk-estimator:hover {background-color: #d4ebff;}#sk-7a56d047-a8ec-42b1-bc6a-32818f81cfc7 div.sk-parallel-item::after {content: \"\";width: 100%;border-bottom: 1px solid gray;flex-grow: 1;}#sk-7a56d047-a8ec-42b1-bc6a-32818f81cfc7 div.sk-label:hover label.sk-toggleable__label {background-color: #d4ebff;}#sk-7a56d047-a8ec-42b1-bc6a-32818f81cfc7 div.sk-serial::before {content: \"\";position: absolute;border-left: 1px solid gray;box-sizing: border-box;top: 2em;bottom: 0;left: 50%;}#sk-7a56d047-a8ec-42b1-bc6a-32818f81cfc7 div.sk-serial {display: flex;flex-direction: column;align-items: center;background-color: white;padding-right: 0.2em;padding-left: 0.2em;}#sk-7a56d047-a8ec-42b1-bc6a-32818f81cfc7 div.sk-item {z-index: 1;}#sk-7a56d047-a8ec-42b1-bc6a-32818f81cfc7 div.sk-parallel {display: flex;align-items: stretch;justify-content: center;background-color: white;}#sk-7a56d047-a8ec-42b1-bc6a-32818f81cfc7 div.sk-parallel::before {content: \"\";position: absolute;border-left: 1px solid gray;box-sizing: border-box;top: 2em;bottom: 0;left: 50%;}#sk-7a56d047-a8ec-42b1-bc6a-32818f81cfc7 div.sk-parallel-item {display: flex;flex-direction: column;position: relative;background-color: white;}#sk-7a56d047-a8ec-42b1-bc6a-32818f81cfc7 div.sk-parallel-item:first-child::after {align-self: flex-end;width: 50%;}#sk-7a56d047-a8ec-42b1-bc6a-32818f81cfc7 div.sk-parallel-item:last-child::after {align-self: flex-start;width: 50%;}#sk-7a56d047-a8ec-42b1-bc6a-32818f81cfc7 div.sk-parallel-item:only-child::after {width: 0;}#sk-7a56d047-a8ec-42b1-bc6a-32818f81cfc7 div.sk-dashed-wrapped {border: 1px dashed gray;margin: 0 0.4em 0.5em 0.4em;box-sizing: border-box;padding-bottom: 0.4em;background-color: white;position: relative;}#sk-7a56d047-a8ec-42b1-bc6a-32818f81cfc7 div.sk-label label {font-family: monospace;font-weight: bold;background-color: white;display: inline-block;line-height: 1.2em;}#sk-7a56d047-a8ec-42b1-bc6a-32818f81cfc7 div.sk-label-container {position: relative;z-index: 2;text-align: center;}#sk-7a56d047-a8ec-42b1-bc6a-32818f81cfc7 div.sk-container {display: inline-block;position: relative;}</style><div id=\"sk-7a56d047-a8ec-42b1-bc6a-32818f81cfc7\" class\"sk-top-container\"><div class=\"sk-container\"><div class=\"sk-item sk-dashed-wrapped\"><div class=\"sk-label-container\"><div class=\"sk-label sk-toggleable\"><input class=\"sk-toggleable__control sk-hidden--visually\" id=\"9c75bc54-d652-4b55-81f1-33087a14d59c\" type=\"checkbox\" ><label class=\"sk-toggleable__label\" for=\"9c75bc54-d652-4b55-81f1-33087a14d59c\">FeatureUnion</label><div class=\"sk-toggleable__content\"><pre>FeatureUnion(transformer_list=[('preprocessess',\n",
       "                                ColumnTransformer(transformers=[('num_encoder',\n",
       "                                                                 MinMaxScaler(),\n",
       "                                                                 <sklearn.compose._column_transformer.make_column_selector object at 0x13f38f520>),\n",
       "                                                                ('cat_encoder',\n",
       "                                                                 OneHotEncoder(handle_unknown='ignore',\n",
       "                                                                               sparse=False),\n",
       "                                                                 <sklearn.compose._column_transformer.make_column_selector object at 0x13f38f5e0>)])),\n",
       "                               ('compute_volume',\n",
       "                                Pipeline(steps=[('compute_volume',\n",
       "                                                 FunctionTransformer(func=<function multiply at 0x13f31e940>)),\n",
       "                                                ('scale_volume',\n",
       "                                                 MinMaxScaler())]))])</pre></div></div></div><div class=\"sk-parallel\"><div class=\"sk-parallel-item\"><div class=\"sk-item\"><div class=\"sk-label-container\"><div class=\"sk-label sk-toggleable\"><label>preprocessess</label></div></div><div class=\"sk-serial\"><div class=\"sk-item sk-dashed-wrapped\"><div class=\"sk-parallel\"><div class=\"sk-parallel-item\"><div class=\"sk-item\"><div class=\"sk-label-container\"><div class=\"sk-label sk-toggleable\"><input class=\"sk-toggleable__control sk-hidden--visually\" id=\"bff8ed8b-49a1-42f2-a4e6-1ebca34d7933\" type=\"checkbox\" ><label class=\"sk-toggleable__label\" for=\"bff8ed8b-49a1-42f2-a4e6-1ebca34d7933\">num_encoder</label><div class=\"sk-toggleable__content\"><pre><sklearn.compose._column_transformer.make_column_selector object at 0x13f38f520></pre></div></div></div><div class=\"sk-serial\"><div class=\"sk-item\"><div class=\"sk-estimator sk-toggleable\"><input class=\"sk-toggleable__control sk-hidden--visually\" id=\"dc9d8002-8650-4de0-ba6d-ac0d43769bd6\" type=\"checkbox\" ><label class=\"sk-toggleable__label\" for=\"dc9d8002-8650-4de0-ba6d-ac0d43769bd6\">MinMaxScaler</label><div class=\"sk-toggleable__content\"><pre>MinMaxScaler()</pre></div></div></div></div></div></div><div class=\"sk-parallel-item\"><div class=\"sk-item\"><div class=\"sk-label-container\"><div class=\"sk-label sk-toggleable\"><input class=\"sk-toggleable__control sk-hidden--visually\" id=\"dac590ce-e793-4093-a53d-c039cc44a44e\" type=\"checkbox\" ><label class=\"sk-toggleable__label\" for=\"dac590ce-e793-4093-a53d-c039cc44a44e\">cat_encoder</label><div class=\"sk-toggleable__content\"><pre><sklearn.compose._column_transformer.make_column_selector object at 0x13f38f5e0></pre></div></div></div><div class=\"sk-serial\"><div class=\"sk-item\"><div class=\"sk-estimator sk-toggleable\"><input class=\"sk-toggleable__control sk-hidden--visually\" id=\"0a495f14-4e3c-4fc2-bf5d-ac491a59ebb9\" type=\"checkbox\" ><label class=\"sk-toggleable__label\" for=\"0a495f14-4e3c-4fc2-bf5d-ac491a59ebb9\">OneHotEncoder</label><div class=\"sk-toggleable__content\"><pre>OneHotEncoder(handle_unknown='ignore', sparse=False)</pre></div></div></div></div></div></div></div></div></div></div></div><div class=\"sk-parallel-item\"><div class=\"sk-item\"><div class=\"sk-label-container\"><div class=\"sk-label sk-toggleable\"><label>compute_volume</label></div></div><div class=\"sk-serial\"><div class=\"sk-item\"><div class=\"sk-serial\"><div class=\"sk-item\"><div class=\"sk-estimator sk-toggleable\"><input class=\"sk-toggleable__control sk-hidden--visually\" id=\"4d6f2847-0e21-4e09-9da3-4c6f9a326228\" type=\"checkbox\" ><label class=\"sk-toggleable__label\" for=\"4d6f2847-0e21-4e09-9da3-4c6f9a326228\">FunctionTransformer</label><div class=\"sk-toggleable__content\"><pre>FunctionTransformer(func=<function multiply at 0x13f31e940>)</pre></div></div></div><div class=\"sk-item\"><div class=\"sk-estimator sk-toggleable\"><input class=\"sk-toggleable__control sk-hidden--visually\" id=\"e994e5e5-0465-451b-9b73-1b2ceaad7925\" type=\"checkbox\" ><label class=\"sk-toggleable__label\" for=\"e994e5e5-0465-451b-9b73-1b2ceaad7925\">MinMaxScaler</label><div class=\"sk-toggleable__content\"><pre>MinMaxScaler()</pre></div></div></div></div></div></div></div></div></div></div></div></div>"
      ],
      "text/plain": [
       "FeatureUnion(transformer_list=[('preprocessess',\n",
       "                                ColumnTransformer(transformers=[('num_encoder',\n",
       "                                                                 MinMaxScaler(),\n",
       "                                                                 <sklearn.compose._column_transformer.make_column_selector object at 0x13f38f520>),\n",
       "                                                                ('cat_encoder',\n",
       "                                                                 OneHotEncoder(handle_unknown='ignore',\n",
       "                                                                               sparse=False),\n",
       "                                                                 <sklearn.compose._column_transformer.make_column_selector object at 0x13f38f5e0>)])),\n",
       "                               ('compute_volume',\n",
       "                                Pipeline(steps=[('compute_volume',\n",
       "                                                 FunctionTransformer(func=<function multiply at 0x13f31e940>)),\n",
       "                                                ('scale_volume',\n",
       "                                                 MinMaxScaler())]))])"
      ]
     },
     "execution_count": null,
     "metadata": {},
     "output_type": "execute_result"
    }
   ],
   "source": [
    "preprocessor = ColumnTransformer([\n",
    "    ('num_encoder', MinMaxScaler(), make_column_selector(dtype_include=\"int64\")),\n",
    "    ('cat_encoder', OneHotEncoder(handle_unknown='ignore', sparse=False), make_column_selector(dtype_include=\"object\"))\n",
    "])\n",
    "\n",
    "def multiply(df):\n",
    "    return pd.DataFrame(df['product_length_cm'] * df['product_height_cm'] * df['product_width_cm'])\n",
    "    \n",
    "volume_computer = Pipeline([\n",
    "    ('compute_volume', FunctionTransformer(multiply)),\n",
    "    ('scale_volume', MinMaxScaler())\n",
    "])\n",
    "\n",
    "final_preprocessor2 = FeatureUnion([\n",
    "    ('preprocessess', preprocessor),\n",
    "    ('compute_volume', volume_computer)\n",
    "])\n",
    "final_preprocessor2"
   ]
  },
  {
   "cell_type": "code",
   "execution_count": null,
   "metadata": {},
   "outputs": [
    {
     "data": {
      "text/html": [
       "<div>\n",
       "<style scoped>\n",
       "    .dataframe tbody tr th:only-of-type {\n",
       "        vertical-align: middle;\n",
       "    }\n",
       "\n",
       "    .dataframe tbody tr th {\n",
       "        vertical-align: top;\n",
       "    }\n",
       "\n",
       "    .dataframe thead th {\n",
       "        text-align: right;\n",
       "    }\n",
       "</style>\n",
       "<table border=\"1\" class=\"dataframe\">\n",
       "  <thead>\n",
       "    <tr style=\"text-align: right;\">\n",
       "      <th></th>\n",
       "      <th>0</th>\n",
       "      <th>1</th>\n",
       "      <th>2</th>\n",
       "      <th>3</th>\n",
       "      <th>4</th>\n",
       "      <th>5</th>\n",
       "      <th>6</th>\n",
       "      <th>7</th>\n",
       "      <th>8</th>\n",
       "      <th>9</th>\n",
       "      <th>...</th>\n",
       "      <th>22</th>\n",
       "      <th>23</th>\n",
       "      <th>24</th>\n",
       "      <th>25</th>\n",
       "      <th>26</th>\n",
       "      <th>27</th>\n",
       "      <th>28</th>\n",
       "      <th>29</th>\n",
       "      <th>30</th>\n",
       "      <th>31</th>\n",
       "    </tr>\n",
       "  </thead>\n",
       "  <tbody>\n",
       "    <tr>\n",
       "      <th>0</th>\n",
       "      <td>0.057692</td>\n",
       "      <td>0.402439</td>\n",
       "      <td>0.056818</td>\n",
       "      <td>0.271028</td>\n",
       "      <td>0.0</td>\n",
       "      <td>0.0</td>\n",
       "      <td>0.0</td>\n",
       "      <td>0.0</td>\n",
       "      <td>0.0</td>\n",
       "      <td>0.0</td>\n",
       "      <td>...</td>\n",
       "      <td>0.0</td>\n",
       "      <td>0.0</td>\n",
       "      <td>0.0</td>\n",
       "      <td>0.0</td>\n",
       "      <td>0.0</td>\n",
       "      <td>0.0</td>\n",
       "      <td>0.0</td>\n",
       "      <td>0.0</td>\n",
       "      <td>1.0</td>\n",
       "      <td>0.079177</td>\n",
       "    </tr>\n",
       "    <tr>\n",
       "      <th>1</th>\n",
       "      <td>0.020067</td>\n",
       "      <td>0.548780</td>\n",
       "      <td>0.147727</td>\n",
       "      <td>0.158879</td>\n",
       "      <td>0.0</td>\n",
       "      <td>0.0</td>\n",
       "      <td>0.0</td>\n",
       "      <td>0.0</td>\n",
       "      <td>0.0</td>\n",
       "      <td>0.0</td>\n",
       "      <td>...</td>\n",
       "      <td>0.0</td>\n",
       "      <td>0.0</td>\n",
       "      <td>0.0</td>\n",
       "      <td>0.0</td>\n",
       "      <td>0.0</td>\n",
       "      <td>0.0</td>\n",
       "      <td>0.0</td>\n",
       "      <td>0.0</td>\n",
       "      <td>1.0</td>\n",
       "      <td>0.125218</td>\n",
       "    </tr>\n",
       "    <tr>\n",
       "      <th>2</th>\n",
       "      <td>0.057692</td>\n",
       "      <td>0.402439</td>\n",
       "      <td>0.056818</td>\n",
       "      <td>0.271028</td>\n",
       "      <td>0.0</td>\n",
       "      <td>0.0</td>\n",
       "      <td>0.0</td>\n",
       "      <td>0.0</td>\n",
       "      <td>0.0</td>\n",
       "      <td>0.0</td>\n",
       "      <td>...</td>\n",
       "      <td>0.0</td>\n",
       "      <td>0.0</td>\n",
       "      <td>0.0</td>\n",
       "      <td>0.0</td>\n",
       "      <td>0.0</td>\n",
       "      <td>0.0</td>\n",
       "      <td>0.0</td>\n",
       "      <td>0.0</td>\n",
       "      <td>1.0</td>\n",
       "      <td>0.079177</td>\n",
       "    </tr>\n",
       "    <tr>\n",
       "      <th>3</th>\n",
       "      <td>0.057692</td>\n",
       "      <td>0.402439</td>\n",
       "      <td>0.056818</td>\n",
       "      <td>0.271028</td>\n",
       "      <td>0.0</td>\n",
       "      <td>0.0</td>\n",
       "      <td>0.0</td>\n",
       "      <td>0.0</td>\n",
       "      <td>0.0</td>\n",
       "      <td>0.0</td>\n",
       "      <td>...</td>\n",
       "      <td>0.0</td>\n",
       "      <td>0.0</td>\n",
       "      <td>0.0</td>\n",
       "      <td>0.0</td>\n",
       "      <td>0.0</td>\n",
       "      <td>0.0</td>\n",
       "      <td>0.0</td>\n",
       "      <td>0.0</td>\n",
       "      <td>1.0</td>\n",
       "      <td>0.079177</td>\n",
       "    </tr>\n",
       "    <tr>\n",
       "      <th>4</th>\n",
       "      <td>0.057692</td>\n",
       "      <td>0.402439</td>\n",
       "      <td>0.056818</td>\n",
       "      <td>0.271028</td>\n",
       "      <td>0.0</td>\n",
       "      <td>0.0</td>\n",
       "      <td>0.0</td>\n",
       "      <td>0.0</td>\n",
       "      <td>0.0</td>\n",
       "      <td>0.0</td>\n",
       "      <td>...</td>\n",
       "      <td>0.0</td>\n",
       "      <td>0.0</td>\n",
       "      <td>0.0</td>\n",
       "      <td>0.0</td>\n",
       "      <td>0.0</td>\n",
       "      <td>0.0</td>\n",
       "      <td>0.0</td>\n",
       "      <td>0.0</td>\n",
       "      <td>1.0</td>\n",
       "      <td>0.079177</td>\n",
       "    </tr>\n",
       "  </tbody>\n",
       "</table>\n",
       "<p>5 rows × 32 columns</p>\n",
       "</div>"
      ],
      "text/plain": [
       "         0         1         2         3    4    5    6    7    8    9   ...  \\\n",
       "0  0.057692  0.402439  0.056818  0.271028  0.0  0.0  0.0  0.0  0.0  0.0  ...   \n",
       "1  0.020067  0.548780  0.147727  0.158879  0.0  0.0  0.0  0.0  0.0  0.0  ...   \n",
       "2  0.057692  0.402439  0.056818  0.271028  0.0  0.0  0.0  0.0  0.0  0.0  ...   \n",
       "3  0.057692  0.402439  0.056818  0.271028  0.0  0.0  0.0  0.0  0.0  0.0  ...   \n",
       "4  0.057692  0.402439  0.056818  0.271028  0.0  0.0  0.0  0.0  0.0  0.0  ...   \n",
       "\n",
       "    22   23   24   25   26   27   28   29   30        31  \n",
       "0  0.0  0.0  0.0  0.0  0.0  0.0  0.0  0.0  1.0  0.079177  \n",
       "1  0.0  0.0  0.0  0.0  0.0  0.0  0.0  0.0  1.0  0.125218  \n",
       "2  0.0  0.0  0.0  0.0  0.0  0.0  0.0  0.0  1.0  0.079177  \n",
       "3  0.0  0.0  0.0  0.0  0.0  0.0  0.0  0.0  1.0  0.079177  \n",
       "4  0.0  0.0  0.0  0.0  0.0  0.0  0.0  0.0  1.0  0.079177  \n",
       "\n",
       "[5 rows x 32 columns]"
      ]
     },
     "execution_count": null,
     "metadata": {},
     "output_type": "execute_result"
    }
   ],
   "source": [
    "pd.DataFrame(final_preprocessor2.fit_transform(X)).head()"
   ]
  },
  {
   "cell_type": "markdown",
   "metadata": {},
   "source": [
    "#### Preprocessing Solution 2: Custom transformer class (overkill)"
   ]
  },
  {
   "cell_type": "code",
   "execution_count": null,
   "metadata": {},
   "outputs": [],
   "source": [
    "# Create a class\n",
    "class ColumnMultiplier(TransformerMixin, BaseEstimator): \n",
    "# TransformerMixin generates a fit_transform method from fit and transform\n",
    "# BaseEstimator generates get_params and set_params methods\n",
    "    \n",
    "    # Create parameters \"column_1\", \"column_2\", \"column_3\" to choose which columns of dataframe to multiply\n",
    "    def __init__(self, column_1, column_2, column_3):\n",
    "        self.column_1 = column_1\n",
    "        self.column_2 = column_2\n",
    "        self.column_3 = column_3\n",
    "        \n",
    "    def fit(self, X, y=None):\n",
    "        return self\n",
    "    \n",
    "    def transform(self, X, y=None):\n",
    "        \n",
    "        # Multiplication\n",
    "        multiplied_features =X[self.column_1]*X[self.column_2]*X[self.column_3]\n",
    "        \n",
    "        # Return result as dataframe (for integration into ColumnTransformer)\n",
    "        return pd.DataFrame(multiplied_features, columns=['volume'])"
   ]
  },
  {
   "cell_type": "code",
   "execution_count": null,
   "metadata": {},
   "outputs": [],
   "source": [
    "# Plug custom transformer into a feature engineering ColumnTransformer\n",
    "# Select and preserve the original features\n",
    "feature_engineering = ColumnTransformer([\n",
    "    ('column_multiplier', ColumnMultiplier(column_1=\"product_length_cm\",\n",
    "                                           column_2=\"product_height_cm\",\n",
    "                                           column_3=\"product_width_cm\"),\n",
    "     ['product_length_cm', 'product_height_cm', \"product_width_cm\"]),\n",
    "\n",
    "    ('select_original_features', FunctionTransformer(lambda x: x), ['product_length_cm',\n",
    "                                                                    'product_height_cm',\n",
    "                                                                    'product_width_cm',\n",
    "                                                                    'product_weight_g'])])\n",
    "\n",
    "# Chain the feature engineering transformer with a scaler\n",
    "numerical_pipe = Pipeline([\n",
    "    ('engineering', feature_engineering),\n",
    "    ('scaling', MinMaxScaler())])\n",
    "\n",
    "# Create a final preprocessing pipeline that combines the above pipeline with a One hot encoder for categorical features\n",
    "final_preprocessor3 = ColumnTransformer([\n",
    "    ('categorical_preprocessing', OneHotEncoder(sparse=False,\n",
    "                                                handle_unknown='ignore'), make_column_selector(dtype_include=\"object\")),\n",
    "    ('numerical_preprocessing', numerical_pipe, make_column_selector(dtype_include=\"int64\"))])"
   ]
  },
  {
   "cell_type": "code",
   "execution_count": null,
   "metadata": {},
   "outputs": [
    {
     "data": {
      "text/html": [
       "<style>#sk-79f3f1d6-b66d-4fd3-95dd-7a8371480196 {color: black;background-color: white;}#sk-79f3f1d6-b66d-4fd3-95dd-7a8371480196 pre{padding: 0;}#sk-79f3f1d6-b66d-4fd3-95dd-7a8371480196 div.sk-toggleable {background-color: white;}#sk-79f3f1d6-b66d-4fd3-95dd-7a8371480196 label.sk-toggleable__label {cursor: pointer;display: block;width: 100%;margin-bottom: 0;padding: 0.3em;box-sizing: border-box;text-align: center;}#sk-79f3f1d6-b66d-4fd3-95dd-7a8371480196 div.sk-toggleable__content {max-height: 0;max-width: 0;overflow: hidden;text-align: left;background-color: #f0f8ff;}#sk-79f3f1d6-b66d-4fd3-95dd-7a8371480196 div.sk-toggleable__content pre {margin: 0.2em;color: black;border-radius: 0.25em;background-color: #f0f8ff;}#sk-79f3f1d6-b66d-4fd3-95dd-7a8371480196 input.sk-toggleable__control:checked~div.sk-toggleable__content {max-height: 200px;max-width: 100%;overflow: auto;}#sk-79f3f1d6-b66d-4fd3-95dd-7a8371480196 div.sk-estimator input.sk-toggleable__control:checked~label.sk-toggleable__label {background-color: #d4ebff;}#sk-79f3f1d6-b66d-4fd3-95dd-7a8371480196 div.sk-label input.sk-toggleable__control:checked~label.sk-toggleable__label {background-color: #d4ebff;}#sk-79f3f1d6-b66d-4fd3-95dd-7a8371480196 input.sk-hidden--visually {border: 0;clip: rect(1px 1px 1px 1px);clip: rect(1px, 1px, 1px, 1px);height: 1px;margin: -1px;overflow: hidden;padding: 0;position: absolute;width: 1px;}#sk-79f3f1d6-b66d-4fd3-95dd-7a8371480196 div.sk-estimator {font-family: monospace;background-color: #f0f8ff;border: 1px dotted black;border-radius: 0.25em;box-sizing: border-box;margin-bottom: 0.5em;}#sk-79f3f1d6-b66d-4fd3-95dd-7a8371480196 div.sk-estimator:hover {background-color: #d4ebff;}#sk-79f3f1d6-b66d-4fd3-95dd-7a8371480196 div.sk-parallel-item::after {content: \"\";width: 100%;border-bottom: 1px solid gray;flex-grow: 1;}#sk-79f3f1d6-b66d-4fd3-95dd-7a8371480196 div.sk-label:hover label.sk-toggleable__label {background-color: #d4ebff;}#sk-79f3f1d6-b66d-4fd3-95dd-7a8371480196 div.sk-serial::before {content: \"\";position: absolute;border-left: 1px solid gray;box-sizing: border-box;top: 2em;bottom: 0;left: 50%;}#sk-79f3f1d6-b66d-4fd3-95dd-7a8371480196 div.sk-serial {display: flex;flex-direction: column;align-items: center;background-color: white;padding-right: 0.2em;padding-left: 0.2em;}#sk-79f3f1d6-b66d-4fd3-95dd-7a8371480196 div.sk-item {z-index: 1;}#sk-79f3f1d6-b66d-4fd3-95dd-7a8371480196 div.sk-parallel {display: flex;align-items: stretch;justify-content: center;background-color: white;}#sk-79f3f1d6-b66d-4fd3-95dd-7a8371480196 div.sk-parallel::before {content: \"\";position: absolute;border-left: 1px solid gray;box-sizing: border-box;top: 2em;bottom: 0;left: 50%;}#sk-79f3f1d6-b66d-4fd3-95dd-7a8371480196 div.sk-parallel-item {display: flex;flex-direction: column;position: relative;background-color: white;}#sk-79f3f1d6-b66d-4fd3-95dd-7a8371480196 div.sk-parallel-item:first-child::after {align-self: flex-end;width: 50%;}#sk-79f3f1d6-b66d-4fd3-95dd-7a8371480196 div.sk-parallel-item:last-child::after {align-self: flex-start;width: 50%;}#sk-79f3f1d6-b66d-4fd3-95dd-7a8371480196 div.sk-parallel-item:only-child::after {width: 0;}#sk-79f3f1d6-b66d-4fd3-95dd-7a8371480196 div.sk-dashed-wrapped {border: 1px dashed gray;margin: 0 0.4em 0.5em 0.4em;box-sizing: border-box;padding-bottom: 0.4em;background-color: white;position: relative;}#sk-79f3f1d6-b66d-4fd3-95dd-7a8371480196 div.sk-label label {font-family: monospace;font-weight: bold;background-color: white;display: inline-block;line-height: 1.2em;}#sk-79f3f1d6-b66d-4fd3-95dd-7a8371480196 div.sk-label-container {position: relative;z-index: 2;text-align: center;}#sk-79f3f1d6-b66d-4fd3-95dd-7a8371480196 div.sk-container {display: inline-block;position: relative;}</style><div id=\"sk-79f3f1d6-b66d-4fd3-95dd-7a8371480196\" class\"sk-top-container\"><div class=\"sk-container\"><div class=\"sk-item sk-dashed-wrapped\"><div class=\"sk-label-container\"><div class=\"sk-label sk-toggleable\"><input class=\"sk-toggleable__control sk-hidden--visually\" id=\"cd9d148a-5817-42d5-97f6-cee2bb9f047a\" type=\"checkbox\" ><label class=\"sk-toggleable__label\" for=\"cd9d148a-5817-42d5-97f6-cee2bb9f047a\">ColumnTransformer</label><div class=\"sk-toggleable__content\"><pre>ColumnTransformer(transformers=[('categorical_preprocessing',\n",
       "                                 OneHotEncoder(handle_unknown='ignore',\n",
       "                                               sparse=False),\n",
       "                                 <sklearn.compose._column_transformer.make_column_selector object at 0x13f30f910>),\n",
       "                                ('numerical_preprocessing',\n",
       "                                 Pipeline(steps=[('engineering',\n",
       "                                                  ColumnTransformer(transformers=[('column_multiplier',\n",
       "                                                                                   ColumnMultiplier(column_1='product_length_cm',\n",
       "                                                                                                    c...\n",
       "                                                                                                    column_3='product_width_cm'),\n",
       "                                                                                   ['product_length_cm',\n",
       "                                                                                    'product_height_cm',\n",
       "                                                                                    'product_width_cm']),\n",
       "                                                                                  ('select_original_features',\n",
       "                                                                                   FunctionTransformer(func=<function <lambda> at 0x13f31e4c0>),\n",
       "                                                                                   ['product_length_cm',\n",
       "                                                                                    'product_height_cm',\n",
       "                                                                                    'product_width_cm',\n",
       "                                                                                    'product_weight_g'])])),\n",
       "                                                 ('scaling', MinMaxScaler())]),\n",
       "                                 <sklearn.compose._column_transformer.make_column_selector object at 0x13f393100>)])</pre></div></div></div><div class=\"sk-parallel\"><div class=\"sk-parallel-item\"><div class=\"sk-item\"><div class=\"sk-label-container\"><div class=\"sk-label sk-toggleable\"><input class=\"sk-toggleable__control sk-hidden--visually\" id=\"54974229-c6b2-4ebf-bb9a-3ba0f0265aae\" type=\"checkbox\" ><label class=\"sk-toggleable__label\" for=\"54974229-c6b2-4ebf-bb9a-3ba0f0265aae\">categorical_preprocessing</label><div class=\"sk-toggleable__content\"><pre><sklearn.compose._column_transformer.make_column_selector object at 0x13f30f910></pre></div></div></div><div class=\"sk-serial\"><div class=\"sk-item\"><div class=\"sk-estimator sk-toggleable\"><input class=\"sk-toggleable__control sk-hidden--visually\" id=\"19bc38de-73fa-425a-8080-11dc75bf851f\" type=\"checkbox\" ><label class=\"sk-toggleable__label\" for=\"19bc38de-73fa-425a-8080-11dc75bf851f\">OneHotEncoder</label><div class=\"sk-toggleable__content\"><pre>OneHotEncoder(handle_unknown='ignore', sparse=False)</pre></div></div></div></div></div></div><div class=\"sk-parallel-item\"><div class=\"sk-item\"><div class=\"sk-label-container\"><div class=\"sk-label sk-toggleable\"><input class=\"sk-toggleable__control sk-hidden--visually\" id=\"5673ad19-61ec-4cec-9155-132f48ad2a2c\" type=\"checkbox\" ><label class=\"sk-toggleable__label\" for=\"5673ad19-61ec-4cec-9155-132f48ad2a2c\">numerical_preprocessing</label><div class=\"sk-toggleable__content\"><pre><sklearn.compose._column_transformer.make_column_selector object at 0x13f393100></pre></div></div></div><div class=\"sk-serial\"><div class=\"sk-item\"><div class=\"sk-serial\"><div class=\"sk-item sk-dashed-wrapped\"><div class=\"sk-label-container\"><div class=\"sk-label sk-toggleable\"><input class=\"sk-toggleable__control sk-hidden--visually\" id=\"7912f513-4978-431e-a751-bf38f7b21ffd\" type=\"checkbox\" ><label class=\"sk-toggleable__label\" for=\"7912f513-4978-431e-a751-bf38f7b21ffd\">engineering: ColumnTransformer</label><div class=\"sk-toggleable__content\"><pre>ColumnTransformer(transformers=[('column_multiplier',\n",
       "                                 ColumnMultiplier(column_1='product_length_cm',\n",
       "                                                  column_2='product_height_cm',\n",
       "                                                  column_3='product_width_cm'),\n",
       "                                 ['product_length_cm', 'product_height_cm',\n",
       "                                  'product_width_cm']),\n",
       "                                ('select_original_features',\n",
       "                                 FunctionTransformer(func=<function <lambda> at 0x13f31e4c0>),\n",
       "                                 ['product_length_cm', 'product_height_cm',\n",
       "                                  'product_width_cm', 'product_weight_g'])])</pre></div></div></div><div class=\"sk-parallel\"><div class=\"sk-parallel-item\"><div class=\"sk-item\"><div class=\"sk-label-container\"><div class=\"sk-label sk-toggleable\"><input class=\"sk-toggleable__control sk-hidden--visually\" id=\"ab923dfe-24b3-4e65-beb4-d1ee81a1c85e\" type=\"checkbox\" ><label class=\"sk-toggleable__label\" for=\"ab923dfe-24b3-4e65-beb4-d1ee81a1c85e\">column_multiplier</label><div class=\"sk-toggleable__content\"><pre>['product_length_cm', 'product_height_cm', 'product_width_cm']</pre></div></div></div><div class=\"sk-serial\"><div class=\"sk-item\"><div class=\"sk-estimator sk-toggleable\"><input class=\"sk-toggleable__control sk-hidden--visually\" id=\"cc2e1908-5882-42bb-9eaa-a467d1159770\" type=\"checkbox\" ><label class=\"sk-toggleable__label\" for=\"cc2e1908-5882-42bb-9eaa-a467d1159770\">ColumnMultiplier</label><div class=\"sk-toggleable__content\"><pre>ColumnMultiplier(column_1='product_length_cm', column_2='product_height_cm',\n",
       "                 column_3='product_width_cm')</pre></div></div></div></div></div></div><div class=\"sk-parallel-item\"><div class=\"sk-item\"><div class=\"sk-label-container\"><div class=\"sk-label sk-toggleable\"><input class=\"sk-toggleable__control sk-hidden--visually\" id=\"aca98d5d-7749-458a-b75d-3753530c5e0e\" type=\"checkbox\" ><label class=\"sk-toggleable__label\" for=\"aca98d5d-7749-458a-b75d-3753530c5e0e\">select_original_features</label><div class=\"sk-toggleable__content\"><pre>['product_length_cm', 'product_height_cm', 'product_width_cm', 'product_weight_g']</pre></div></div></div><div class=\"sk-serial\"><div class=\"sk-item\"><div class=\"sk-estimator sk-toggleable\"><input class=\"sk-toggleable__control sk-hidden--visually\" id=\"f11781b0-ff70-41dc-9c50-375a1683fcaf\" type=\"checkbox\" ><label class=\"sk-toggleable__label\" for=\"f11781b0-ff70-41dc-9c50-375a1683fcaf\">FunctionTransformer</label><div class=\"sk-toggleable__content\"><pre>FunctionTransformer(func=<function <lambda> at 0x13f31e4c0>)</pre></div></div></div></div></div></div></div></div><div class=\"sk-item\"><div class=\"sk-estimator sk-toggleable\"><input class=\"sk-toggleable__control sk-hidden--visually\" id=\"937b473c-5693-41a3-ba90-e9a5cbb57773\" type=\"checkbox\" ><label class=\"sk-toggleable__label\" for=\"937b473c-5693-41a3-ba90-e9a5cbb57773\">MinMaxScaler</label><div class=\"sk-toggleable__content\"><pre>MinMaxScaler()</pre></div></div></div></div></div></div></div></div></div></div></div></div>"
      ],
      "text/plain": [
       "ColumnTransformer(transformers=[('categorical_preprocessing',\n",
       "                                 OneHotEncoder(handle_unknown='ignore',\n",
       "                                               sparse=False),\n",
       "                                 <sklearn.compose._column_transformer.make_column_selector object at 0x13f30f910>),\n",
       "                                ('numerical_preprocessing',\n",
       "                                 Pipeline(steps=[('engineering',\n",
       "                                                  ColumnTransformer(transformers=[('column_multiplier',\n",
       "                                                                                   ColumnMultiplier(column_1='product_length_cm',\n",
       "                                                                                                    c...\n",
       "                                                                                                    column_3='product_width_cm'),\n",
       "                                                                                   ['product_length_cm',\n",
       "                                                                                    'product_height_cm',\n",
       "                                                                                    'product_width_cm']),\n",
       "                                                                                  ('select_original_features',\n",
       "                                                                                   FunctionTransformer(func=<function <lambda> at 0x13f31e4c0>),\n",
       "                                                                                   ['product_length_cm',\n",
       "                                                                                    'product_height_cm',\n",
       "                                                                                    'product_width_cm',\n",
       "                                                                                    'product_weight_g'])])),\n",
       "                                                 ('scaling', MinMaxScaler())]),\n",
       "                                 <sklearn.compose._column_transformer.make_column_selector object at 0x13f393100>)])"
      ]
     },
     "execution_count": null,
     "metadata": {},
     "output_type": "execute_result"
    }
   ],
   "source": [
    "final_preprocessor3"
   ]
  },
  {
   "cell_type": "code",
   "execution_count": null,
   "metadata": {},
   "outputs": [
    {
     "data": {
      "text/html": [
       "<div>\n",
       "<style scoped>\n",
       "    .dataframe tbody tr th:only-of-type {\n",
       "        vertical-align: middle;\n",
       "    }\n",
       "\n",
       "    .dataframe tbody tr th {\n",
       "        vertical-align: top;\n",
       "    }\n",
       "\n",
       "    .dataframe thead th {\n",
       "        text-align: right;\n",
       "    }\n",
       "</style>\n",
       "<table border=\"1\" class=\"dataframe\">\n",
       "  <thead>\n",
       "    <tr style=\"text-align: right;\">\n",
       "      <th></th>\n",
       "      <th>0</th>\n",
       "      <th>1</th>\n",
       "      <th>2</th>\n",
       "      <th>3</th>\n",
       "      <th>4</th>\n",
       "      <th>5</th>\n",
       "      <th>6</th>\n",
       "      <th>7</th>\n",
       "      <th>8</th>\n",
       "      <th>9</th>\n",
       "      <th>...</th>\n",
       "      <th>22</th>\n",
       "      <th>23</th>\n",
       "      <th>24</th>\n",
       "      <th>25</th>\n",
       "      <th>26</th>\n",
       "      <th>27</th>\n",
       "      <th>28</th>\n",
       "      <th>29</th>\n",
       "      <th>30</th>\n",
       "      <th>31</th>\n",
       "    </tr>\n",
       "  </thead>\n",
       "  <tbody>\n",
       "    <tr>\n",
       "      <th>0</th>\n",
       "      <td>0.0</td>\n",
       "      <td>0.0</td>\n",
       "      <td>0.0</td>\n",
       "      <td>0.0</td>\n",
       "      <td>0.0</td>\n",
       "      <td>0.0</td>\n",
       "      <td>0.0</td>\n",
       "      <td>0.0</td>\n",
       "      <td>0.0</td>\n",
       "      <td>0.0</td>\n",
       "      <td>...</td>\n",
       "      <td>0.0</td>\n",
       "      <td>0.0</td>\n",
       "      <td>0.0</td>\n",
       "      <td>0.0</td>\n",
       "      <td>1.0</td>\n",
       "      <td>0.079177</td>\n",
       "      <td>0.402439</td>\n",
       "      <td>0.056818</td>\n",
       "      <td>0.271028</td>\n",
       "      <td>0.057692</td>\n",
       "    </tr>\n",
       "    <tr>\n",
       "      <th>1</th>\n",
       "      <td>0.0</td>\n",
       "      <td>0.0</td>\n",
       "      <td>0.0</td>\n",
       "      <td>0.0</td>\n",
       "      <td>0.0</td>\n",
       "      <td>0.0</td>\n",
       "      <td>0.0</td>\n",
       "      <td>0.0</td>\n",
       "      <td>0.0</td>\n",
       "      <td>0.0</td>\n",
       "      <td>...</td>\n",
       "      <td>0.0</td>\n",
       "      <td>0.0</td>\n",
       "      <td>0.0</td>\n",
       "      <td>0.0</td>\n",
       "      <td>1.0</td>\n",
       "      <td>0.125218</td>\n",
       "      <td>0.548780</td>\n",
       "      <td>0.147727</td>\n",
       "      <td>0.158879</td>\n",
       "      <td>0.020067</td>\n",
       "    </tr>\n",
       "    <tr>\n",
       "      <th>2</th>\n",
       "      <td>0.0</td>\n",
       "      <td>0.0</td>\n",
       "      <td>0.0</td>\n",
       "      <td>0.0</td>\n",
       "      <td>0.0</td>\n",
       "      <td>0.0</td>\n",
       "      <td>0.0</td>\n",
       "      <td>0.0</td>\n",
       "      <td>0.0</td>\n",
       "      <td>0.0</td>\n",
       "      <td>...</td>\n",
       "      <td>0.0</td>\n",
       "      <td>0.0</td>\n",
       "      <td>0.0</td>\n",
       "      <td>0.0</td>\n",
       "      <td>1.0</td>\n",
       "      <td>0.079177</td>\n",
       "      <td>0.402439</td>\n",
       "      <td>0.056818</td>\n",
       "      <td>0.271028</td>\n",
       "      <td>0.057692</td>\n",
       "    </tr>\n",
       "    <tr>\n",
       "      <th>3</th>\n",
       "      <td>0.0</td>\n",
       "      <td>0.0</td>\n",
       "      <td>0.0</td>\n",
       "      <td>0.0</td>\n",
       "      <td>0.0</td>\n",
       "      <td>0.0</td>\n",
       "      <td>0.0</td>\n",
       "      <td>0.0</td>\n",
       "      <td>0.0</td>\n",
       "      <td>0.0</td>\n",
       "      <td>...</td>\n",
       "      <td>0.0</td>\n",
       "      <td>0.0</td>\n",
       "      <td>0.0</td>\n",
       "      <td>0.0</td>\n",
       "      <td>1.0</td>\n",
       "      <td>0.079177</td>\n",
       "      <td>0.402439</td>\n",
       "      <td>0.056818</td>\n",
       "      <td>0.271028</td>\n",
       "      <td>0.057692</td>\n",
       "    </tr>\n",
       "    <tr>\n",
       "      <th>4</th>\n",
       "      <td>0.0</td>\n",
       "      <td>0.0</td>\n",
       "      <td>0.0</td>\n",
       "      <td>0.0</td>\n",
       "      <td>0.0</td>\n",
       "      <td>0.0</td>\n",
       "      <td>0.0</td>\n",
       "      <td>0.0</td>\n",
       "      <td>0.0</td>\n",
       "      <td>0.0</td>\n",
       "      <td>...</td>\n",
       "      <td>0.0</td>\n",
       "      <td>0.0</td>\n",
       "      <td>0.0</td>\n",
       "      <td>0.0</td>\n",
       "      <td>1.0</td>\n",
       "      <td>0.079177</td>\n",
       "      <td>0.402439</td>\n",
       "      <td>0.056818</td>\n",
       "      <td>0.271028</td>\n",
       "      <td>0.057692</td>\n",
       "    </tr>\n",
       "  </tbody>\n",
       "</table>\n",
       "<p>5 rows × 32 columns</p>\n",
       "</div>"
      ],
      "text/plain": [
       "    0    1    2    3    4    5    6    7    8    9   ...   22   23   24   25  \\\n",
       "0  0.0  0.0  0.0  0.0  0.0  0.0  0.0  0.0  0.0  0.0  ...  0.0  0.0  0.0  0.0   \n",
       "1  0.0  0.0  0.0  0.0  0.0  0.0  0.0  0.0  0.0  0.0  ...  0.0  0.0  0.0  0.0   \n",
       "2  0.0  0.0  0.0  0.0  0.0  0.0  0.0  0.0  0.0  0.0  ...  0.0  0.0  0.0  0.0   \n",
       "3  0.0  0.0  0.0  0.0  0.0  0.0  0.0  0.0  0.0  0.0  ...  0.0  0.0  0.0  0.0   \n",
       "4  0.0  0.0  0.0  0.0  0.0  0.0  0.0  0.0  0.0  0.0  ...  0.0  0.0  0.0  0.0   \n",
       "\n",
       "    26        27        28        29        30        31  \n",
       "0  1.0  0.079177  0.402439  0.056818  0.271028  0.057692  \n",
       "1  1.0  0.125218  0.548780  0.147727  0.158879  0.020067  \n",
       "2  1.0  0.079177  0.402439  0.056818  0.271028  0.057692  \n",
       "3  1.0  0.079177  0.402439  0.056818  0.271028  0.057692  \n",
       "4  1.0  0.079177  0.402439  0.056818  0.271028  0.057692  \n",
       "\n",
       "[5 rows x 32 columns]"
      ]
     },
     "execution_count": null,
     "metadata": {},
     "output_type": "execute_result"
    }
   ],
   "source": [
    "pd.DataFrame(final_preprocessor3.fit_transform(X)).head()"
   ]
  },
  {
   "cell_type": "code",
   "execution_count": null,
   "metadata": {},
   "outputs": [
    {
     "data": {
      "text/plain": [
       "(1000, 32)"
      ]
     },
     "execution_count": null,
     "metadata": {},
     "output_type": "execute_result"
    }
   ],
   "source": [
    "final_preprocessor3.fit_transform(X).shape"
   ]
  },
  {
   "cell_type": "markdown",
   "metadata": {},
   "source": [
    "#### Full Pipe solution"
   ]
  },
  {
   "cell_type": "code",
   "execution_count": null,
   "metadata": {
    "tags": [
     "delete_end"
    ]
   },
   "outputs": [
    {
     "data": {
      "text/html": [
       "<style>#sk-8746529e-5463-45ee-8ffa-923ff5bbbed5 {color: black;background-color: white;}#sk-8746529e-5463-45ee-8ffa-923ff5bbbed5 pre{padding: 0;}#sk-8746529e-5463-45ee-8ffa-923ff5bbbed5 div.sk-toggleable {background-color: white;}#sk-8746529e-5463-45ee-8ffa-923ff5bbbed5 label.sk-toggleable__label {cursor: pointer;display: block;width: 100%;margin-bottom: 0;padding: 0.3em;box-sizing: border-box;text-align: center;}#sk-8746529e-5463-45ee-8ffa-923ff5bbbed5 div.sk-toggleable__content {max-height: 0;max-width: 0;overflow: hidden;text-align: left;background-color: #f0f8ff;}#sk-8746529e-5463-45ee-8ffa-923ff5bbbed5 div.sk-toggleable__content pre {margin: 0.2em;color: black;border-radius: 0.25em;background-color: #f0f8ff;}#sk-8746529e-5463-45ee-8ffa-923ff5bbbed5 input.sk-toggleable__control:checked~div.sk-toggleable__content {max-height: 200px;max-width: 100%;overflow: auto;}#sk-8746529e-5463-45ee-8ffa-923ff5bbbed5 div.sk-estimator input.sk-toggleable__control:checked~label.sk-toggleable__label {background-color: #d4ebff;}#sk-8746529e-5463-45ee-8ffa-923ff5bbbed5 div.sk-label input.sk-toggleable__control:checked~label.sk-toggleable__label {background-color: #d4ebff;}#sk-8746529e-5463-45ee-8ffa-923ff5bbbed5 input.sk-hidden--visually {border: 0;clip: rect(1px 1px 1px 1px);clip: rect(1px, 1px, 1px, 1px);height: 1px;margin: -1px;overflow: hidden;padding: 0;position: absolute;width: 1px;}#sk-8746529e-5463-45ee-8ffa-923ff5bbbed5 div.sk-estimator {font-family: monospace;background-color: #f0f8ff;border: 1px dotted black;border-radius: 0.25em;box-sizing: border-box;margin-bottom: 0.5em;}#sk-8746529e-5463-45ee-8ffa-923ff5bbbed5 div.sk-estimator:hover {background-color: #d4ebff;}#sk-8746529e-5463-45ee-8ffa-923ff5bbbed5 div.sk-parallel-item::after {content: \"\";width: 100%;border-bottom: 1px solid gray;flex-grow: 1;}#sk-8746529e-5463-45ee-8ffa-923ff5bbbed5 div.sk-label:hover label.sk-toggleable__label {background-color: #d4ebff;}#sk-8746529e-5463-45ee-8ffa-923ff5bbbed5 div.sk-serial::before {content: \"\";position: absolute;border-left: 1px solid gray;box-sizing: border-box;top: 2em;bottom: 0;left: 50%;}#sk-8746529e-5463-45ee-8ffa-923ff5bbbed5 div.sk-serial {display: flex;flex-direction: column;align-items: center;background-color: white;padding-right: 0.2em;padding-left: 0.2em;}#sk-8746529e-5463-45ee-8ffa-923ff5bbbed5 div.sk-item {z-index: 1;}#sk-8746529e-5463-45ee-8ffa-923ff5bbbed5 div.sk-parallel {display: flex;align-items: stretch;justify-content: center;background-color: white;}#sk-8746529e-5463-45ee-8ffa-923ff5bbbed5 div.sk-parallel::before {content: \"\";position: absolute;border-left: 1px solid gray;box-sizing: border-box;top: 2em;bottom: 0;left: 50%;}#sk-8746529e-5463-45ee-8ffa-923ff5bbbed5 div.sk-parallel-item {display: flex;flex-direction: column;position: relative;background-color: white;}#sk-8746529e-5463-45ee-8ffa-923ff5bbbed5 div.sk-parallel-item:first-child::after {align-self: flex-end;width: 50%;}#sk-8746529e-5463-45ee-8ffa-923ff5bbbed5 div.sk-parallel-item:last-child::after {align-self: flex-start;width: 50%;}#sk-8746529e-5463-45ee-8ffa-923ff5bbbed5 div.sk-parallel-item:only-child::after {width: 0;}#sk-8746529e-5463-45ee-8ffa-923ff5bbbed5 div.sk-dashed-wrapped {border: 1px dashed gray;margin: 0 0.4em 0.5em 0.4em;box-sizing: border-box;padding-bottom: 0.4em;background-color: white;position: relative;}#sk-8746529e-5463-45ee-8ffa-923ff5bbbed5 div.sk-label label {font-family: monospace;font-weight: bold;background-color: white;display: inline-block;line-height: 1.2em;}#sk-8746529e-5463-45ee-8ffa-923ff5bbbed5 div.sk-label-container {position: relative;z-index: 2;text-align: center;}#sk-8746529e-5463-45ee-8ffa-923ff5bbbed5 div.sk-container {display: inline-block;position: relative;}</style><div id=\"sk-8746529e-5463-45ee-8ffa-923ff5bbbed5\" class\"sk-top-container\"><div class=\"sk-container\"><div class=\"sk-item sk-dashed-wrapped\"><div class=\"sk-label-container\"><div class=\"sk-label sk-toggleable\"><input class=\"sk-toggleable__control sk-hidden--visually\" id=\"fa0b0ed6-0a02-4e4c-a99d-84b25be3ca88\" type=\"checkbox\" ><label class=\"sk-toggleable__label\" for=\"fa0b0ed6-0a02-4e4c-a99d-84b25be3ca88\">Pipeline</label><div class=\"sk-toggleable__content\"><pre>Pipeline(steps=[('preprocessing',\n",
       "                 ColumnTransformer(transformers=[('num_encoder', MinMaxScaler(),\n",
       "                                                  <sklearn.compose._column_transformer.make_column_selector object at 0x13f30fa00>),\n",
       "                                                 ('cat_encoder',\n",
       "                                                  OneHotEncoder(handle_unknown='ignore',\n",
       "                                                                sparse=False),\n",
       "                                                  <sklearn.compose._column_transformer.make_column_selector object at 0x13f30fc70>),\n",
       "                                                 ('volume_computer',\n",
       "                                                  Pipeline(steps=[('compute_volume',\n",
       "                                                                   FunctionTransformer(func=<function multiply at 0x13f30a160>)),\n",
       "                                                                  ('scale_volume',\n",
       "                                                                   MinMaxScaler())]),\n",
       "                                                  ['product_length_cm',\n",
       "                                                   'product_height_cm',\n",
       "                                                   'product_width_cm'])])),\n",
       "                ('linear_regression', Ridge())])</pre></div></div></div><div class=\"sk-serial\"><div class=\"sk-item sk-dashed-wrapped\"><div class=\"sk-label-container\"><div class=\"sk-label sk-toggleable\"><input class=\"sk-toggleable__control sk-hidden--visually\" id=\"f8c4f0ca-0b6a-4a9d-90ee-20ee52c8d45d\" type=\"checkbox\" ><label class=\"sk-toggleable__label\" for=\"f8c4f0ca-0b6a-4a9d-90ee-20ee52c8d45d\">preprocessing: ColumnTransformer</label><div class=\"sk-toggleable__content\"><pre>ColumnTransformer(transformers=[('num_encoder', MinMaxScaler(),\n",
       "                                 <sklearn.compose._column_transformer.make_column_selector object at 0x13f30fa00>),\n",
       "                                ('cat_encoder',\n",
       "                                 OneHotEncoder(handle_unknown='ignore',\n",
       "                                               sparse=False),\n",
       "                                 <sklearn.compose._column_transformer.make_column_selector object at 0x13f30fc70>),\n",
       "                                ('volume_computer',\n",
       "                                 Pipeline(steps=[('compute_volume',\n",
       "                                                  FunctionTransformer(func=<function multiply at 0x13f30a160>)),\n",
       "                                                 ('scale_volume',\n",
       "                                                  MinMaxScaler())]),\n",
       "                                 ['product_length_cm', 'product_height_cm',\n",
       "                                  'product_width_cm'])])</pre></div></div></div><div class=\"sk-parallel\"><div class=\"sk-parallel-item\"><div class=\"sk-item\"><div class=\"sk-label-container\"><div class=\"sk-label sk-toggleable\"><input class=\"sk-toggleable__control sk-hidden--visually\" id=\"7db8814b-9055-4a71-89bc-e4e2e7ac9e6b\" type=\"checkbox\" ><label class=\"sk-toggleable__label\" for=\"7db8814b-9055-4a71-89bc-e4e2e7ac9e6b\">num_encoder</label><div class=\"sk-toggleable__content\"><pre><sklearn.compose._column_transformer.make_column_selector object at 0x13f30fa00></pre></div></div></div><div class=\"sk-serial\"><div class=\"sk-item\"><div class=\"sk-estimator sk-toggleable\"><input class=\"sk-toggleable__control sk-hidden--visually\" id=\"579bb434-774b-4ff9-817f-e9b6e39955de\" type=\"checkbox\" ><label class=\"sk-toggleable__label\" for=\"579bb434-774b-4ff9-817f-e9b6e39955de\">MinMaxScaler</label><div class=\"sk-toggleable__content\"><pre>MinMaxScaler()</pre></div></div></div></div></div></div><div class=\"sk-parallel-item\"><div class=\"sk-item\"><div class=\"sk-label-container\"><div class=\"sk-label sk-toggleable\"><input class=\"sk-toggleable__control sk-hidden--visually\" id=\"3c6abeba-183e-4a69-8a3b-d6071a2d4480\" type=\"checkbox\" ><label class=\"sk-toggleable__label\" for=\"3c6abeba-183e-4a69-8a3b-d6071a2d4480\">cat_encoder</label><div class=\"sk-toggleable__content\"><pre><sklearn.compose._column_transformer.make_column_selector object at 0x13f30fc70></pre></div></div></div><div class=\"sk-serial\"><div class=\"sk-item\"><div class=\"sk-estimator sk-toggleable\"><input class=\"sk-toggleable__control sk-hidden--visually\" id=\"f703c341-ab00-4379-9d6f-9068d6a76400\" type=\"checkbox\" ><label class=\"sk-toggleable__label\" for=\"f703c341-ab00-4379-9d6f-9068d6a76400\">OneHotEncoder</label><div class=\"sk-toggleable__content\"><pre>OneHotEncoder(handle_unknown='ignore', sparse=False)</pre></div></div></div></div></div></div><div class=\"sk-parallel-item\"><div class=\"sk-item\"><div class=\"sk-label-container\"><div class=\"sk-label sk-toggleable\"><input class=\"sk-toggleable__control sk-hidden--visually\" id=\"017c2b3e-23e6-4d35-a4df-5a0709719d27\" type=\"checkbox\" ><label class=\"sk-toggleable__label\" for=\"017c2b3e-23e6-4d35-a4df-5a0709719d27\">volume_computer</label><div class=\"sk-toggleable__content\"><pre>['product_length_cm', 'product_height_cm', 'product_width_cm']</pre></div></div></div><div class=\"sk-serial\"><div class=\"sk-item\"><div class=\"sk-serial\"><div class=\"sk-item\"><div class=\"sk-estimator sk-toggleable\"><input class=\"sk-toggleable__control sk-hidden--visually\" id=\"119116b4-8784-4bc4-8c2b-e07804639fd1\" type=\"checkbox\" ><label class=\"sk-toggleable__label\" for=\"119116b4-8784-4bc4-8c2b-e07804639fd1\">FunctionTransformer</label><div class=\"sk-toggleable__content\"><pre>FunctionTransformer(func=<function multiply at 0x13f30a160>)</pre></div></div></div><div class=\"sk-item\"><div class=\"sk-estimator sk-toggleable\"><input class=\"sk-toggleable__control sk-hidden--visually\" id=\"ca782436-3dca-422c-88d9-468eb0367c8f\" type=\"checkbox\" ><label class=\"sk-toggleable__label\" for=\"ca782436-3dca-422c-88d9-468eb0367c8f\">MinMaxScaler</label><div class=\"sk-toggleable__content\"><pre>MinMaxScaler()</pre></div></div></div></div></div></div></div></div></div></div><div class=\"sk-item\"><div class=\"sk-estimator sk-toggleable\"><input class=\"sk-toggleable__control sk-hidden--visually\" id=\"97a260d3-7e46-490c-b5c5-f7369fc9e763\" type=\"checkbox\" ><label class=\"sk-toggleable__label\" for=\"97a260d3-7e46-490c-b5c5-f7369fc9e763\">Ridge</label><div class=\"sk-toggleable__content\"><pre>Ridge()</pre></div></div></div></div></div></div></div>"
      ],
      "text/plain": [
       "Pipeline(steps=[('preprocessing',\n",
       "                 ColumnTransformer(transformers=[('num_encoder', MinMaxScaler(),\n",
       "                                                  <sklearn.compose._column_transformer.make_column_selector object at 0x13f30fa00>),\n",
       "                                                 ('cat_encoder',\n",
       "                                                  OneHotEncoder(handle_unknown='ignore',\n",
       "                                                                sparse=False),\n",
       "                                                  <sklearn.compose._column_transformer.make_column_selector object at 0x13f30fc70>),\n",
       "                                                 ('volume_computer',\n",
       "                                                  Pipeline(steps=[('compute_volume',\n",
       "                                                                   FunctionTransformer(func=<function multiply at 0x13f30a160>)),\n",
       "                                                                  ('scale_volume',\n",
       "                                                                   MinMaxScaler())]),\n",
       "                                                  ['product_length_cm',\n",
       "                                                   'product_height_cm',\n",
       "                                                   'product_width_cm'])])),\n",
       "                ('linear_regression', Ridge())])"
      ]
     },
     "execution_count": null,
     "metadata": {},
     "output_type": "execute_result"
    }
   ],
   "source": [
    "from sklearn.linear_model import Ridge\n",
    "\n",
    "# Chain the final_preprocessor pipeline with a linear regression model\n",
    "pipe = Pipeline([\n",
    "    ('preprocessing', final_preprocessor),\n",
    "    ('linear_regression', Ridge())])\n",
    "pipe"
   ]
  },
  {
   "cell_type": "markdown",
   "metadata": {},
   "source": [
    "#### 🧪 Test your pipe"
   ]
  },
  {
   "cell_type": "code",
   "execution_count": null,
   "metadata": {},
   "outputs": [
    {
     "name": "stdout",
     "output_type": "stream",
     "text": [
      "\u001b[1m============================= test session starts ==============================\u001b[0m\n",
      "platform darwin -- Python 3.8.12, pytest-6.2.5, py-1.10.0, pluggy-1.0.0 -- /Users/brunolajoie/.pyenv/versions/lewagon3812/bin/python3\n",
      "cachedir: .pytest_cache\n",
      "rootdir: /Users/brunolajoie/code/lewagon/data-solutions/05-ML/08-Workflow/02-Custom-Transformer\n",
      "plugins: anyio-3.3.0, dash-2.0.0\n",
      "\u001b[1mcollecting ... \u001b[0mcollected 1 item\n",
      "\n",
      "tests/test_pipe.py::TestPipe::test_pipe_not_crashing \u001b[32mPASSED\u001b[0m\u001b[32m              [100%]\u001b[0m\n",
      "\n",
      "\u001b[32m============================== \u001b[32m\u001b[1m1 passed\u001b[0m\u001b[32m in 0.28s\u001b[0m\u001b[32m ===============================\u001b[0m\n",
      "\n",
      "\n",
      "💯 You can commit your code:\n",
      "\n",
      "\u001b[1;32mgit\u001b[39m add tests/pipe.pickle\n",
      "\n",
      "\u001b[32mgit\u001b[39m commit -m \u001b[33m'Completed pipe step'\u001b[39m\n",
      "\n",
      "\u001b[32mgit\u001b[39m push origin master\n"
     ]
    }
   ],
   "source": [
    "from nbresult import ChallengeResult\n",
    "\n",
    "pipe_test = pipe\n",
    "\n",
    "# Check that it doesn't crash\n",
    "assert pipe_test.fit(X,y)\n",
    "\n",
    "result = ChallengeResult('pipe', \n",
    "                         shape = pipe_test[:-1].fit_transform(X).shape\n",
    ")\n",
    "result.write()\n",
    "print(result.check())"
   ]
  },
  {
   "cell_type": "markdown",
   "metadata": {},
   "source": [
    "## 2. Train and Predict"
   ]
  },
  {
   "cell_type": "markdown",
   "metadata": {},
   "source": [
    "👇 Let's imagine `data` is your entire training set.\n",
    "\n",
    "- `cross_validate` your pipeline on this dataset (❗️low r2 score are expected)\n",
    "- Now, imagine you just received an new order `new_data`: predict it's duration of delivery in a variable `prediction`"
   ]
  },
  {
   "cell_type": "code",
   "execution_count": null,
   "metadata": {},
   "outputs": [
    {
     "data": {
      "text/html": [
       "<div>\n",
       "<style scoped>\n",
       "    .dataframe tbody tr th:only-of-type {\n",
       "        vertical-align: middle;\n",
       "    }\n",
       "\n",
       "    .dataframe tbody tr th {\n",
       "        vertical-align: top;\n",
       "    }\n",
       "\n",
       "    .dataframe thead th {\n",
       "        text-align: right;\n",
       "    }\n",
       "</style>\n",
       "<table border=\"1\" class=\"dataframe\">\n",
       "  <thead>\n",
       "    <tr style=\"text-align: right;\">\n",
       "      <th></th>\n",
       "      <th>customer_state</th>\n",
       "      <th>seller_state</th>\n",
       "      <th>product_weight_g</th>\n",
       "      <th>product_length_cm</th>\n",
       "      <th>product_height_cm</th>\n",
       "      <th>product_width_cm</th>\n",
       "    </tr>\n",
       "  </thead>\n",
       "  <tbody>\n",
       "    <tr>\n",
       "      <th>0</th>\n",
       "      <td>RJ</td>\n",
       "      <td>SP</td>\n",
       "      <td>1825</td>\n",
       "      <td>53</td>\n",
       "      <td>10</td>\n",
       "      <td>40</td>\n",
       "    </tr>\n",
       "  </tbody>\n",
       "</table>\n",
       "</div>"
      ],
      "text/plain": [
       "  customer_state seller_state  product_weight_g  product_length_cm  \\\n",
       "0             RJ           SP              1825                 53   \n",
       "\n",
       "   product_height_cm  product_width_cm  \n",
       "0                 10                40  "
      ]
     },
     "execution_count": null,
     "metadata": {},
     "output_type": "execute_result"
    }
   ],
   "source": [
    "new_data = pd.read_csv(\"data_new.csv\")\n",
    "new_data"
   ]
  },
  {
   "cell_type": "code",
   "execution_count": null,
   "metadata": {},
   "outputs": [],
   "source": [
    "# YOUR CODE HERE"
   ]
  },
  {
   "cell_type": "code",
   "execution_count": null,
   "metadata": {
    "tags": [
     "delete_begin"
    ]
   },
   "outputs": [
    {
     "data": {
      "text/plain": [
       "0.15824755009515182"
      ]
     },
     "execution_count": null,
     "metadata": {},
     "output_type": "execute_result"
    }
   ],
   "source": [
    "from sklearn.model_selection import cross_val_score\n",
    "\n",
    "# Cross validate the final_pipe\n",
    "cross_val_score(pipe, X, y, cv=10, scoring='r2').mean()"
   ]
  },
  {
   "cell_type": "code",
   "execution_count": null,
   "metadata": {},
   "outputs": [],
   "source": [
    "# Fit the final pipe to the data\n",
    "pipe.fit(X, y)"
   ]
  },
  {
   "cell_type": "code",
   "execution_count": null,
   "metadata": {
    "tags": [
     "delete_end"
    ]
   },
   "outputs": [
    {
     "data": {
      "text/plain": [
       "array([20.67221182])"
      ]
     },
     "execution_count": null,
     "metadata": {},
     "output_type": "execute_result"
    }
   ],
   "source": [
    "# Use final pipe for prediction\n",
    "prediction = pipe.predict(new_data)\n",
    "prediction"
   ]
  },
  {
   "cell_type": "code",
   "execution_count": null,
   "metadata": {},
   "outputs": [
    {
     "name": "stdout",
     "output_type": "stream",
     "text": [
      "\u001b[1m============================= test session starts ==============================\u001b[0m\n",
      "platform darwin -- Python 3.8.12, pytest-6.2.5, py-1.10.0, pluggy-1.0.0 -- /Users/brunolajoie/.pyenv/versions/lewagon3812/bin/python3\n",
      "cachedir: .pytest_cache\n",
      "rootdir: /Users/brunolajoie/code/lewagon/data-solutions/05-ML/08-Workflow/02-Custom-Transformer\n",
      "plugins: anyio-3.3.0, dash-2.0.0\n",
      "\u001b[1mcollecting ... \u001b[0mcollected 1 item\n",
      "\n",
      "tests/test_prediction.py::TestPrediction::test_prediction \u001b[32mPASSED\u001b[0m\u001b[32m         [100%]\u001b[0m\n",
      "\n",
      "\u001b[32m============================== \u001b[32m\u001b[1m1 passed\u001b[0m\u001b[32m in 0.59s\u001b[0m\u001b[32m ===============================\u001b[0m\n",
      "\n",
      "\n",
      "💯 You can commit your code:\n",
      "\n",
      "\u001b[1;32mgit\u001b[39m add tests/prediction.pickle\n",
      "\n",
      "\u001b[32mgit\u001b[39m commit -m \u001b[33m'Completed prediction step'\u001b[39m\n",
      "\n",
      "\u001b[32mgit\u001b[39m push origin master\n"
     ]
    }
   ],
   "source": [
    "from nbresult import ChallengeResult\n",
    "\n",
    "result = ChallengeResult('prediction',\n",
    "    prediction = prediction\n",
    ")\n",
    "result.write()\n",
    "print(result.check())\n"
   ]
  },
  {
   "cell_type": "markdown",
   "metadata": {
    "tags": [
     "delete_begin"
    ]
   },
   "source": [
    "#### Solution Bonus: get feature names"
   ]
  },
  {
   "cell_type": "code",
   "execution_count": null,
   "metadata": {},
   "outputs": [],
   "source": [
    "set_config(display='diagram')\n",
    "final_pipe"
   ]
  },
  {
   "cell_type": "code",
   "execution_count": null,
   "metadata": {},
   "outputs": [],
   "source": [
    "pd.DataFrame(data=final_pipe['preprocessing'].fit_transform(X)).head()"
   ]
  },
  {
   "cell_type": "code",
   "execution_count": null,
   "metadata": {},
   "outputs": [],
   "source": [
    "from sklearn import set_config; set_config(display='text')"
   ]
  },
  {
   "cell_type": "code",
   "execution_count": null,
   "metadata": {},
   "outputs": [],
   "source": [
    "final_pipe['preprocessing'].transformers_"
   ]
  },
  {
   "cell_type": "code",
   "execution_count": null,
   "metadata": {},
   "outputs": [],
   "source": [
    "col_num = final_pipe['preprocessing'].transformers_[0][2]\n",
    "col_num"
   ]
  },
  {
   "cell_type": "code",
   "execution_count": null,
   "metadata": {},
   "outputs": [],
   "source": [
    "final_pipe['preprocessing'].transformers_[1][1].get_feature_names_out()"
   ]
  },
  {
   "cell_type": "code",
   "execution_count": null,
   "metadata": {},
   "outputs": [],
   "source": [
    "col_cat = list(final_pipe['preprocessing'].transformers_[1][1].get_feature_names_out())"
   ]
  },
  {
   "cell_type": "code",
   "execution_count": null,
   "metadata": {},
   "outputs": [],
   "source": [
    "final_pipe['preprocessing'].transformers_[2]\n",
    "col_volume = ['volume']"
   ]
  },
  {
   "cell_type": "code",
   "execution_count": null,
   "metadata": {},
   "outputs": [],
   "source": [
    "import itertools\n",
    "col_prepross = list(itertools.chain(col_num, col_cat, col_volume))"
   ]
  },
  {
   "cell_type": "code",
   "execution_count": null,
   "metadata": {},
   "outputs": [],
   "source": [
    "len(col_prepross)"
   ]
  },
  {
   "cell_type": "code",
   "execution_count": null,
   "metadata": {
    "tags": [
     "delete_end"
    ]
   },
   "outputs": [],
   "source": [
    "pd.DataFrame(data=final_pipe['preprocessing'].fit_transform(X), columns=col_prepross).head()"
   ]
  },
  {
   "cell_type": "markdown",
   "metadata": {},
   "source": [
    "🏁 Congratulation. Don't forget to add, commit and push your notebook."
   ]
  },
  {
   "cell_type": "code",
   "execution_count": null,
   "metadata": {},
   "outputs": [],
   "source": []
  }
 ],
 "metadata": {
  "kernelspec": {
   "display_name": "Python 3",
   "language": "python",
   "name": "python3"
  }
 },
 "nbformat": 4,
 "nbformat_minor": 4
}
