{
 "cells": [
  {
   "cell_type": "code",
   "execution_count": 1,
   "id": "e1384185",
   "metadata": {},
   "outputs": [],
   "source": [
    "from sklearn import datasets\n",
    "import pandas as pd\n",
    "# Train and CV-score model for each combination\n",
    "from sklearn.linear_model import ElasticNet\n",
    "from sklearn.metrics import r2_score\n",
    "from sklearn.model_selection import cross_val_score\n",
    "from sklearn.model_selection import RandomizedSearchCV\n",
    "from scipy import stats\n",
    "import matplotlib.pyplot as plt"
   ]
  },
  {
   "cell_type": "markdown",
   "id": "a5ef7e1e",
   "metadata": {
    "heading_collapsed": true
   },
   "source": [
    "# Regularisation\n",
    "Note: Data has already been scaled"
   ]
  },
  {
   "cell_type": "code",
   "execution_count": 3,
   "id": "6316a6be",
   "metadata": {
    "hidden": true
   },
   "outputs": [
    {
     "data": {
      "text/html": [
       "<div>\n",
       "<style scoped>\n",
       "    .dataframe tbody tr th:only-of-type {\n",
       "        vertical-align: middle;\n",
       "    }\n",
       "\n",
       "    .dataframe tbody tr th {\n",
       "        vertical-align: top;\n",
       "    }\n",
       "\n",
       "    .dataframe thead th {\n",
       "        text-align: right;\n",
       "    }\n",
       "</style>\n",
       "<table border=\"1\" class=\"dataframe\">\n",
       "  <thead>\n",
       "    <tr style=\"text-align: right;\">\n",
       "      <th></th>\n",
       "      <th>age</th>\n",
       "      <th>sex</th>\n",
       "      <th>bmi</th>\n",
       "      <th>bp</th>\n",
       "      <th>s1</th>\n",
       "      <th>s2</th>\n",
       "      <th>s3</th>\n",
       "      <th>s4</th>\n",
       "      <th>s5</th>\n",
       "      <th>s6</th>\n",
       "    </tr>\n",
       "  </thead>\n",
       "  <tbody>\n",
       "    <tr>\n",
       "      <th>0</th>\n",
       "      <td>0.038076</td>\n",
       "      <td>0.050680</td>\n",
       "      <td>0.061696</td>\n",
       "      <td>0.021872</td>\n",
       "      <td>-0.044223</td>\n",
       "      <td>-0.034821</td>\n",
       "      <td>-0.043401</td>\n",
       "      <td>-0.002592</td>\n",
       "      <td>0.019908</td>\n",
       "      <td>-0.017646</td>\n",
       "    </tr>\n",
       "    <tr>\n",
       "      <th>1</th>\n",
       "      <td>-0.001882</td>\n",
       "      <td>-0.044642</td>\n",
       "      <td>-0.051474</td>\n",
       "      <td>-0.026328</td>\n",
       "      <td>-0.008449</td>\n",
       "      <td>-0.019163</td>\n",
       "      <td>0.074412</td>\n",
       "      <td>-0.039493</td>\n",
       "      <td>-0.068330</td>\n",
       "      <td>-0.092204</td>\n",
       "    </tr>\n",
       "    <tr>\n",
       "      <th>2</th>\n",
       "      <td>0.085299</td>\n",
       "      <td>0.050680</td>\n",
       "      <td>0.044451</td>\n",
       "      <td>-0.005671</td>\n",
       "      <td>-0.045599</td>\n",
       "      <td>-0.034194</td>\n",
       "      <td>-0.032356</td>\n",
       "      <td>-0.002592</td>\n",
       "      <td>0.002864</td>\n",
       "      <td>-0.025930</td>\n",
       "    </tr>\n",
       "    <tr>\n",
       "      <th>3</th>\n",
       "      <td>-0.089063</td>\n",
       "      <td>-0.044642</td>\n",
       "      <td>-0.011595</td>\n",
       "      <td>-0.036656</td>\n",
       "      <td>0.012191</td>\n",
       "      <td>0.024991</td>\n",
       "      <td>-0.036038</td>\n",
       "      <td>0.034309</td>\n",
       "      <td>0.022692</td>\n",
       "      <td>-0.009362</td>\n",
       "    </tr>\n",
       "    <tr>\n",
       "      <th>4</th>\n",
       "      <td>0.005383</td>\n",
       "      <td>-0.044642</td>\n",
       "      <td>-0.036385</td>\n",
       "      <td>0.021872</td>\n",
       "      <td>0.003935</td>\n",
       "      <td>0.015596</td>\n",
       "      <td>0.008142</td>\n",
       "      <td>-0.002592</td>\n",
       "      <td>-0.031991</td>\n",
       "      <td>-0.046641</td>\n",
       "    </tr>\n",
       "  </tbody>\n",
       "</table>\n",
       "</div>"
      ],
      "text/plain": [
       "        age       sex       bmi        bp        s1        s2        s3  \\\n",
       "0  0.038076  0.050680  0.061696  0.021872 -0.044223 -0.034821 -0.043401   \n",
       "1 -0.001882 -0.044642 -0.051474 -0.026328 -0.008449 -0.019163  0.074412   \n",
       "2  0.085299  0.050680  0.044451 -0.005671 -0.045599 -0.034194 -0.032356   \n",
       "3 -0.089063 -0.044642 -0.011595 -0.036656  0.012191  0.024991 -0.036038   \n",
       "4  0.005383 -0.044642 -0.036385  0.021872  0.003935  0.015596  0.008142   \n",
       "\n",
       "         s4        s5        s6  \n",
       "0 -0.002592  0.019908 -0.017646  \n",
       "1 -0.039493 -0.068330 -0.092204  \n",
       "2 -0.002592  0.002864 -0.025930  \n",
       "3  0.034309  0.022692 -0.009362  \n",
       "4 -0.002592 -0.031991 -0.046641  "
      ]
     },
     "execution_count": 3,
     "metadata": {},
     "output_type": "execute_result"
    }
   ],
   "source": [
    "X,y = datasets.load_diabetes(return_X_y=True, as_frame=True)\n",
    "X.head()"
   ]
  },
  {
   "cell_type": "code",
   "execution_count": 4,
   "id": "439f55b3",
   "metadata": {
    "hidden": true
   },
   "outputs": [
    {
     "data": {
      "text/plain": [
       "0    151.0\n",
       "1     75.0\n",
       "2    141.0\n",
       "3    206.0\n",
       "4    135.0\n",
       "Name: target, dtype: float64"
      ]
     },
     "execution_count": 4,
     "metadata": {},
     "output_type": "execute_result"
    }
   ],
   "source": [
    "y.head()"
   ]
  },
  {
   "cell_type": "code",
   "execution_count": 5,
   "id": "d573e025",
   "metadata": {
    "hidden": true
   },
   "outputs": [
    {
     "data": {
      "text/html": [
       "<style type=\"text/css\">\n",
       "#T_33192_row0_col0, #T_33192_row0_col1, #T_33192_row1_col0, #T_33192_row1_col1, #T_33192_row1_col2, #T_33192_row2_col0, #T_33192_row2_col1, #T_33192_row2_col2, #T_33192_row3_col0, #T_33192_row3_col1, #T_33192_row3_col2, #T_33192_row4_col0, #T_33192_row4_col1, #T_33192_row5_col0, #T_33192_row5_col1, #T_33192_row6_col0, #T_33192_row6_col1, #T_33192_row6_col2, #T_33192_row7_col0, #T_33192_row7_col1, #T_33192_row8_col0, #T_33192_row8_col1, #T_33192_row8_col2, #T_33192_row9_col0, #T_33192_row9_col1 {\n",
       "  color: black;\n",
       "}\n",
       "#T_33192_row0_col2, #T_33192_row4_col2, #T_33192_row5_col2, #T_33192_row7_col2, #T_33192_row9_col2 {\n",
       "  color: red;\n",
       "}\n",
       "</style>\n",
       "<table id=\"T_33192_\">\n",
       "  <thead>\n",
       "    <tr>\n",
       "      <th class=\"blank level0\" >&nbsp;</th>\n",
       "      <th class=\"col_heading level0 col0\" >coef_linreg</th>\n",
       "      <th class=\"col_heading level0 col1\" >coef_ridge</th>\n",
       "      <th class=\"col_heading level0 col2\" >coef_lasso</th>\n",
       "    </tr>\n",
       "  </thead>\n",
       "  <tbody>\n",
       "    <tr>\n",
       "      <th id=\"T_33192_level0_row0\" class=\"row_heading level0 row0\" >age</th>\n",
       "      <td id=\"T_33192_row0_col0\" class=\"data row0 col0\" >-10</td>\n",
       "      <td id=\"T_33192_row0_col1\" class=\"data row0 col1\" >7</td>\n",
       "      <td id=\"T_33192_row0_col2\" class=\"data row0 col2\" >0</td>\n",
       "    </tr>\n",
       "    <tr>\n",
       "      <th id=\"T_33192_level0_row1\" class=\"row_heading level0 row1\" >sex</th>\n",
       "      <td id=\"T_33192_row1_col0\" class=\"data row1 col0\" >-239</td>\n",
       "      <td id=\"T_33192_row1_col1\" class=\"data row1 col1\" >-182</td>\n",
       "      <td id=\"T_33192_row1_col2\" class=\"data row1 col2\" >-75</td>\n",
       "    </tr>\n",
       "    <tr>\n",
       "      <th id=\"T_33192_level0_row2\" class=\"row_heading level0 row2\" >bmi</th>\n",
       "      <td id=\"T_33192_row2_col0\" class=\"data row2 col0\" >519</td>\n",
       "      <td id=\"T_33192_row2_col1\" class=\"data row2 col1\" >457</td>\n",
       "      <td id=\"T_33192_row2_col2\" class=\"data row2 col2\" >511</td>\n",
       "    </tr>\n",
       "    <tr>\n",
       "      <th id=\"T_33192_level0_row3\" class=\"row_heading level0 row3\" >bp</th>\n",
       "      <td id=\"T_33192_row3_col0\" class=\"data row3 col0\" >324</td>\n",
       "      <td id=\"T_33192_row3_col1\" class=\"data row3 col1\" >284</td>\n",
       "      <td id=\"T_33192_row3_col2\" class=\"data row3 col2\" >234</td>\n",
       "    </tr>\n",
       "    <tr>\n",
       "      <th id=\"T_33192_level0_row4\" class=\"row_heading level0 row4\" >s1</th>\n",
       "      <td id=\"T_33192_row4_col0\" class=\"data row4 col0\" >-792</td>\n",
       "      <td id=\"T_33192_row4_col1\" class=\"data row4 col1\" >-48</td>\n",
       "      <td id=\"T_33192_row4_col2\" class=\"data row4 col2\" >0</td>\n",
       "    </tr>\n",
       "    <tr>\n",
       "      <th id=\"T_33192_level0_row5\" class=\"row_heading level0 row5\" >s2</th>\n",
       "      <td id=\"T_33192_row5_col0\" class=\"data row5 col0\" >476</td>\n",
       "      <td id=\"T_33192_row5_col1\" class=\"data row5 col1\" >-78</td>\n",
       "      <td id=\"T_33192_row5_col2\" class=\"data row5 col2\" >0</td>\n",
       "    </tr>\n",
       "    <tr>\n",
       "      <th id=\"T_33192_level0_row6\" class=\"row_heading level0 row6\" >s3</th>\n",
       "      <td id=\"T_33192_row6_col0\" class=\"data row6 col0\" >101</td>\n",
       "      <td id=\"T_33192_row6_col1\" class=\"data row6 col1\" >-189</td>\n",
       "      <td id=\"T_33192_row6_col2\" class=\"data row6 col2\" >-170</td>\n",
       "    </tr>\n",
       "    <tr>\n",
       "      <th id=\"T_33192_level0_row7\" class=\"row_heading level0 row7\" >s4</th>\n",
       "      <td id=\"T_33192_row7_col0\" class=\"data row7 col0\" >177</td>\n",
       "      <td id=\"T_33192_row7_col1\" class=\"data row7 col1\" >119</td>\n",
       "      <td id=\"T_33192_row7_col2\" class=\"data row7 col2\" >0</td>\n",
       "    </tr>\n",
       "    <tr>\n",
       "      <th id=\"T_33192_level0_row8\" class=\"row_heading level0 row8\" >s5</th>\n",
       "      <td id=\"T_33192_row8_col0\" class=\"data row8 col0\" >751</td>\n",
       "      <td id=\"T_33192_row8_col1\" class=\"data row8 col1\" >400</td>\n",
       "      <td id=\"T_33192_row8_col2\" class=\"data row8 col2\" >450</td>\n",
       "    </tr>\n",
       "    <tr>\n",
       "      <th id=\"T_33192_level0_row9\" class=\"row_heading level0 row9\" >s6</th>\n",
       "      <td id=\"T_33192_row9_col0\" class=\"data row9 col0\" >67</td>\n",
       "      <td id=\"T_33192_row9_col1\" class=\"data row9 col1\" >97</td>\n",
       "      <td id=\"T_33192_row9_col2\" class=\"data row9 col2\" >0</td>\n",
       "    </tr>\n",
       "  </tbody>\n",
       "</table>\n"
      ],
      "text/plain": [
       "<pandas.io.formats.style.Styler at 0x111f09970>"
      ]
     },
     "execution_count": 5,
     "metadata": {},
     "output_type": "execute_result"
    }
   ],
   "source": [
    "from sklearn.linear_model import Ridge, Lasso, LinearRegression\n",
    "\n",
    "linreg = LinearRegression().fit(X, y)\n",
    "ridge = Ridge(alpha=0.2).fit(X, y)\n",
    "lasso = Lasso(alpha=0.2).fit(X, y)\n",
    "\n",
    "coefs = pd.DataFrame({\n",
    "    \"coef_linreg\": pd.Series(linreg.coef_, index = X.columns),\n",
    "    \"coef_ridge\": pd.Series(ridge.coef_, index = X.columns),\n",
    "    \"coef_lasso\": pd.Series(lasso.coef_, index= X.columns)})\\\n",
    "\n",
    "coefs\\\n",
    "    .applymap(lambda x: int(x))\\\n",
    "    .style.applymap(lambda x: 'color: red' if x == 0 else 'color: black')"
   ]
  },
  {
   "cell_type": "markdown",
   "id": "d5db40e5",
   "metadata": {
    "hidden": true
   },
   "source": [
    "**Let's check the p-values of our features before regularization**"
   ]
  },
  {
   "cell_type": "code",
   "execution_count": 6,
   "id": "12e2a06c",
   "metadata": {
    "hidden": true
   },
   "outputs": [
    {
     "data": {
      "text/html": [
       "<table class=\"simpletable\">\n",
       "<caption>OLS Regression Results</caption>\n",
       "<tr>\n",
       "  <th>Dep. Variable:</th>         <td>target</td>      <th>  R-squared:         </th> <td>   0.518</td>\n",
       "</tr>\n",
       "<tr>\n",
       "  <th>Model:</th>                   <td>OLS</td>       <th>  Adj. R-squared:    </th> <td>   0.507</td>\n",
       "</tr>\n",
       "<tr>\n",
       "  <th>Method:</th>             <td>Least Squares</td>  <th>  F-statistic:       </th> <td>   46.27</td>\n",
       "</tr>\n",
       "<tr>\n",
       "  <th>Date:</th>             <td>Tue, 31 May 2022</td> <th>  Prob (F-statistic):</th> <td>3.83e-62</td>\n",
       "</tr>\n",
       "<tr>\n",
       "  <th>Time:</th>                 <td>18:49:44</td>     <th>  Log-Likelihood:    </th> <td> -2386.0</td>\n",
       "</tr>\n",
       "<tr>\n",
       "  <th>No. Observations:</th>      <td>   442</td>      <th>  AIC:               </th> <td>   4794.</td>\n",
       "</tr>\n",
       "<tr>\n",
       "  <th>Df Residuals:</th>          <td>   431</td>      <th>  BIC:               </th> <td>   4839.</td>\n",
       "</tr>\n",
       "<tr>\n",
       "  <th>Df Model:</th>              <td>    10</td>      <th>                     </th>     <td> </td>   \n",
       "</tr>\n",
       "<tr>\n",
       "  <th>Covariance Type:</th>      <td>nonrobust</td>    <th>                     </th>     <td> </td>   \n",
       "</tr>\n",
       "</table>\n",
       "<table class=\"simpletable\">\n",
       "<tr>\n",
       "    <td></td>       <th>coef</th>     <th>std err</th>      <th>t</th>      <th>P>|t|</th>  <th>[0.025</th>    <th>0.975]</th>  \n",
       "</tr>\n",
       "<tr>\n",
       "  <th>const</th> <td>  152.1335</td> <td>    2.576</td> <td>   59.061</td> <td> 0.000</td> <td>  147.071</td> <td>  157.196</td>\n",
       "</tr>\n",
       "<tr>\n",
       "  <th>age</th>   <td>  -10.0122</td> <td>   59.749</td> <td>   -0.168</td> <td> 0.867</td> <td> -127.448</td> <td>  107.424</td>\n",
       "</tr>\n",
       "<tr>\n",
       "  <th>sex</th>   <td> -239.8191</td> <td>   61.222</td> <td>   -3.917</td> <td> 0.000</td> <td> -360.151</td> <td> -119.488</td>\n",
       "</tr>\n",
       "<tr>\n",
       "  <th>bmi</th>   <td>  519.8398</td> <td>   66.534</td> <td>    7.813</td> <td> 0.000</td> <td>  389.069</td> <td>  650.610</td>\n",
       "</tr>\n",
       "<tr>\n",
       "  <th>bp</th>    <td>  324.3904</td> <td>   65.422</td> <td>    4.958</td> <td> 0.000</td> <td>  195.805</td> <td>  452.976</td>\n",
       "</tr>\n",
       "<tr>\n",
       "  <th>s1</th>    <td> -792.1842</td> <td>  416.684</td> <td>   -1.901</td> <td> 0.058</td> <td>-1611.169</td> <td>   26.801</td>\n",
       "</tr>\n",
       "<tr>\n",
       "  <th>s2</th>    <td>  476.7458</td> <td>  339.035</td> <td>    1.406</td> <td> 0.160</td> <td> -189.621</td> <td> 1143.113</td>\n",
       "</tr>\n",
       "<tr>\n",
       "  <th>s3</th>    <td>  101.0446</td> <td>  212.533</td> <td>    0.475</td> <td> 0.635</td> <td> -316.685</td> <td>  518.774</td>\n",
       "</tr>\n",
       "<tr>\n",
       "  <th>s4</th>    <td>  177.0642</td> <td>  161.476</td> <td>    1.097</td> <td> 0.273</td> <td> -140.313</td> <td>  494.442</td>\n",
       "</tr>\n",
       "<tr>\n",
       "  <th>s5</th>    <td>  751.2793</td> <td>  171.902</td> <td>    4.370</td> <td> 0.000</td> <td>  413.409</td> <td> 1089.150</td>\n",
       "</tr>\n",
       "<tr>\n",
       "  <th>s6</th>    <td>   67.6254</td> <td>   65.984</td> <td>    1.025</td> <td> 0.306</td> <td>  -62.065</td> <td>  197.316</td>\n",
       "</tr>\n",
       "</table>\n",
       "<table class=\"simpletable\">\n",
       "<tr>\n",
       "  <th>Omnibus:</th>       <td> 1.506</td> <th>  Durbin-Watson:     </th> <td>   2.029</td>\n",
       "</tr>\n",
       "<tr>\n",
       "  <th>Prob(Omnibus):</th> <td> 0.471</td> <th>  Jarque-Bera (JB):  </th> <td>   1.404</td>\n",
       "</tr>\n",
       "<tr>\n",
       "  <th>Skew:</th>          <td> 0.017</td> <th>  Prob(JB):          </th> <td>   0.496</td>\n",
       "</tr>\n",
       "<tr>\n",
       "  <th>Kurtosis:</th>      <td> 2.726</td> <th>  Cond. No.          </th> <td>    227.</td>\n",
       "</tr>\n",
       "</table><br/><br/>Notes:<br/>[1] Standard Errors assume that the covariance matrix of the errors is correctly specified."
      ],
      "text/plain": [
       "<class 'statsmodels.iolib.summary.Summary'>\n",
       "\"\"\"\n",
       "                            OLS Regression Results                            \n",
       "==============================================================================\n",
       "Dep. Variable:                 target   R-squared:                       0.518\n",
       "Model:                            OLS   Adj. R-squared:                  0.507\n",
       "Method:                 Least Squares   F-statistic:                     46.27\n",
       "Date:                Tue, 31 May 2022   Prob (F-statistic):           3.83e-62\n",
       "Time:                        18:49:44   Log-Likelihood:                -2386.0\n",
       "No. Observations:                 442   AIC:                             4794.\n",
       "Df Residuals:                     431   BIC:                             4839.\n",
       "Df Model:                          10                                         \n",
       "Covariance Type:            nonrobust                                         \n",
       "==============================================================================\n",
       "                 coef    std err          t      P>|t|      [0.025      0.975]\n",
       "------------------------------------------------------------------------------\n",
       "const        152.1335      2.576     59.061      0.000     147.071     157.196\n",
       "age          -10.0122     59.749     -0.168      0.867    -127.448     107.424\n",
       "sex         -239.8191     61.222     -3.917      0.000    -360.151    -119.488\n",
       "bmi          519.8398     66.534      7.813      0.000     389.069     650.610\n",
       "bp           324.3904     65.422      4.958      0.000     195.805     452.976\n",
       "s1          -792.1842    416.684     -1.901      0.058   -1611.169      26.801\n",
       "s2           476.7458    339.035      1.406      0.160    -189.621    1143.113\n",
       "s3           101.0446    212.533      0.475      0.635    -316.685     518.774\n",
       "s4           177.0642    161.476      1.097      0.273    -140.313     494.442\n",
       "s5           751.2793    171.902      4.370      0.000     413.409    1089.150\n",
       "s6            67.6254     65.984      1.025      0.306     -62.065     197.316\n",
       "==============================================================================\n",
       "Omnibus:                        1.506   Durbin-Watson:                   2.029\n",
       "Prob(Omnibus):                  0.471   Jarque-Bera (JB):                1.404\n",
       "Skew:                           0.017   Prob(JB):                        0.496\n",
       "Kurtosis:                       2.726   Cond. No.                         227.\n",
       "==============================================================================\n",
       "\n",
       "Notes:\n",
       "[1] Standard Errors assume that the covariance matrix of the errors is correctly specified.\n",
       "\"\"\""
      ]
     },
     "execution_count": 6,
     "metadata": {},
     "output_type": "execute_result"
    }
   ],
   "source": [
    "import statsmodels.api as sm\n",
    "ols = sm.OLS(y, sm.add_constant(X)).fit()\n",
    "ols.summary()"
   ]
  },
  {
   "cell_type": "markdown",
   "id": "dc85d60c",
   "metadata": {
    "hidden": true
   },
   "source": [
    "**Let's check the p-values of our features before regularization**"
   ]
  },
  {
   "cell_type": "code",
   "execution_count": 7,
   "id": "4f59b90e",
   "metadata": {
    "hidden": true
   },
   "outputs": [
    {
     "data": {
      "text/html": [
       "<style type=\"text/css\">\n",
       "#T_27e21_row0_col0, #T_27e21_row0_col1, #T_27e21_row0_col3, #T_27e21_row1_col0, #T_27e21_row1_col1, #T_27e21_row1_col2, #T_27e21_row2_col0, #T_27e21_row2_col1, #T_27e21_row2_col2, #T_27e21_row3_col0, #T_27e21_row3_col1, #T_27e21_row3_col2, #T_27e21_row4_col0, #T_27e21_row4_col1, #T_27e21_row4_col3, #T_27e21_row5_col0, #T_27e21_row5_col1, #T_27e21_row5_col3, #T_27e21_row6_col0, #T_27e21_row6_col1, #T_27e21_row6_col2, #T_27e21_row6_col3, #T_27e21_row7_col0, #T_27e21_row7_col1, #T_27e21_row7_col3, #T_27e21_row8_col0, #T_27e21_row8_col1, #T_27e21_row8_col2, #T_27e21_row9_col0, #T_27e21_row9_col1, #T_27e21_row9_col3 {\n",
       "  color: black;\n",
       "}\n",
       "#T_27e21_row0_col2, #T_27e21_row1_col3, #T_27e21_row2_col3, #T_27e21_row3_col3, #T_27e21_row4_col2, #T_27e21_row5_col2, #T_27e21_row7_col2, #T_27e21_row8_col3, #T_27e21_row9_col2 {\n",
       "  color: red;\n",
       "}\n",
       "</style>\n",
       "<table id=\"T_27e21_\">\n",
       "  <thead>\n",
       "    <tr>\n",
       "      <th class=\"blank level0\" >&nbsp;</th>\n",
       "      <th class=\"col_heading level0 col0\" >coef_linreg</th>\n",
       "      <th class=\"col_heading level0 col1\" >coef_ridge</th>\n",
       "      <th class=\"col_heading level0 col2\" >coef_lasso</th>\n",
       "      <th class=\"col_heading level0 col3\" >p-values (%)</th>\n",
       "    </tr>\n",
       "  </thead>\n",
       "  <tbody>\n",
       "    <tr>\n",
       "      <th id=\"T_27e21_level0_row0\" class=\"row_heading level0 row0\" >age</th>\n",
       "      <td id=\"T_27e21_row0_col0\" class=\"data row0 col0\" >-10</td>\n",
       "      <td id=\"T_27e21_row0_col1\" class=\"data row0 col1\" >7</td>\n",
       "      <td id=\"T_27e21_row0_col2\" class=\"data row0 col2\" >0</td>\n",
       "      <td id=\"T_27e21_row0_col3\" class=\"data row0 col3\" >86</td>\n",
       "    </tr>\n",
       "    <tr>\n",
       "      <th id=\"T_27e21_level0_row1\" class=\"row_heading level0 row1\" >sex</th>\n",
       "      <td id=\"T_27e21_row1_col0\" class=\"data row1 col0\" >-239</td>\n",
       "      <td id=\"T_27e21_row1_col1\" class=\"data row1 col1\" >-182</td>\n",
       "      <td id=\"T_27e21_row1_col2\" class=\"data row1 col2\" >-75</td>\n",
       "      <td id=\"T_27e21_row1_col3\" class=\"data row1 col3\" >0</td>\n",
       "    </tr>\n",
       "    <tr>\n",
       "      <th id=\"T_27e21_level0_row2\" class=\"row_heading level0 row2\" >bmi</th>\n",
       "      <td id=\"T_27e21_row2_col0\" class=\"data row2 col0\" >519</td>\n",
       "      <td id=\"T_27e21_row2_col1\" class=\"data row2 col1\" >457</td>\n",
       "      <td id=\"T_27e21_row2_col2\" class=\"data row2 col2\" >511</td>\n",
       "      <td id=\"T_27e21_row2_col3\" class=\"data row2 col3\" >0</td>\n",
       "    </tr>\n",
       "    <tr>\n",
       "      <th id=\"T_27e21_level0_row3\" class=\"row_heading level0 row3\" >bp</th>\n",
       "      <td id=\"T_27e21_row3_col0\" class=\"data row3 col0\" >324</td>\n",
       "      <td id=\"T_27e21_row3_col1\" class=\"data row3 col1\" >284</td>\n",
       "      <td id=\"T_27e21_row3_col2\" class=\"data row3 col2\" >234</td>\n",
       "      <td id=\"T_27e21_row3_col3\" class=\"data row3 col3\" >0</td>\n",
       "    </tr>\n",
       "    <tr>\n",
       "      <th id=\"T_27e21_level0_row4\" class=\"row_heading level0 row4\" >s1</th>\n",
       "      <td id=\"T_27e21_row4_col0\" class=\"data row4 col0\" >-792</td>\n",
       "      <td id=\"T_27e21_row4_col1\" class=\"data row4 col1\" >-48</td>\n",
       "      <td id=\"T_27e21_row4_col2\" class=\"data row4 col2\" >0</td>\n",
       "      <td id=\"T_27e21_row4_col3\" class=\"data row4 col3\" >5</td>\n",
       "    </tr>\n",
       "    <tr>\n",
       "      <th id=\"T_27e21_level0_row5\" class=\"row_heading level0 row5\" >s2</th>\n",
       "      <td id=\"T_27e21_row5_col0\" class=\"data row5 col0\" >476</td>\n",
       "      <td id=\"T_27e21_row5_col1\" class=\"data row5 col1\" >-78</td>\n",
       "      <td id=\"T_27e21_row5_col2\" class=\"data row5 col2\" >0</td>\n",
       "      <td id=\"T_27e21_row5_col3\" class=\"data row5 col3\" >16</td>\n",
       "    </tr>\n",
       "    <tr>\n",
       "      <th id=\"T_27e21_level0_row6\" class=\"row_heading level0 row6\" >s3</th>\n",
       "      <td id=\"T_27e21_row6_col0\" class=\"data row6 col0\" >101</td>\n",
       "      <td id=\"T_27e21_row6_col1\" class=\"data row6 col1\" >-189</td>\n",
       "      <td id=\"T_27e21_row6_col2\" class=\"data row6 col2\" >-170</td>\n",
       "      <td id=\"T_27e21_row6_col3\" class=\"data row6 col3\" >63</td>\n",
       "    </tr>\n",
       "    <tr>\n",
       "      <th id=\"T_27e21_level0_row7\" class=\"row_heading level0 row7\" >s4</th>\n",
       "      <td id=\"T_27e21_row7_col0\" class=\"data row7 col0\" >177</td>\n",
       "      <td id=\"T_27e21_row7_col1\" class=\"data row7 col1\" >119</td>\n",
       "      <td id=\"T_27e21_row7_col2\" class=\"data row7 col2\" >0</td>\n",
       "      <td id=\"T_27e21_row7_col3\" class=\"data row7 col3\" >27</td>\n",
       "    </tr>\n",
       "    <tr>\n",
       "      <th id=\"T_27e21_level0_row8\" class=\"row_heading level0 row8\" >s5</th>\n",
       "      <td id=\"T_27e21_row8_col0\" class=\"data row8 col0\" >751</td>\n",
       "      <td id=\"T_27e21_row8_col1\" class=\"data row8 col1\" >400</td>\n",
       "      <td id=\"T_27e21_row8_col2\" class=\"data row8 col2\" >450</td>\n",
       "      <td id=\"T_27e21_row8_col3\" class=\"data row8 col3\" >0</td>\n",
       "    </tr>\n",
       "    <tr>\n",
       "      <th id=\"T_27e21_level0_row9\" class=\"row_heading level0 row9\" >s6</th>\n",
       "      <td id=\"T_27e21_row9_col0\" class=\"data row9 col0\" >67</td>\n",
       "      <td id=\"T_27e21_row9_col1\" class=\"data row9 col1\" >97</td>\n",
       "      <td id=\"T_27e21_row9_col2\" class=\"data row9 col2\" >0</td>\n",
       "      <td id=\"T_27e21_row9_col3\" class=\"data row9 col3\" >30</td>\n",
       "    </tr>\n",
       "  </tbody>\n",
       "</table>\n"
      ],
      "text/plain": [
       "<pandas.io.formats.style.Styler at 0x10af687c0>"
      ]
     },
     "execution_count": 7,
     "metadata": {},
     "output_type": "execute_result"
    }
   ],
   "source": [
    "linreg = LinearRegression().fit(X, y)\n",
    "ridge = Ridge(alpha=0.2).fit(X, y)\n",
    "lasso = Lasso(alpha=0.2).fit(X, y)\n",
    "\n",
    "coefs = pd.DataFrame({\n",
    "    \"coef_linreg\": pd.Series(linreg.coef_, index = X.columns),\n",
    "    \"coef_ridge\": pd.Series(ridge.coef_, index = X.columns),\n",
    "    \"coef_lasso\": pd.Series(lasso.coef_, index= X.columns),\n",
    "    \"p-values (%)\" : pd.Series(ols.pvalues*100, index = X.columns)})\\\n",
    "\n",
    "coefs\\\n",
    "    .applymap(lambda x: int(x))\\\n",
    "    .style.applymap(lambda x: 'color: red' if x == 0 else 'color: black')"
   ]
  },
  {
   "cell_type": "code",
   "execution_count": 8,
   "id": "0f04f854",
   "metadata": {
    "hidden": true
   },
   "outputs": [
    {
     "data": {
      "text/plain": [
       "const    1.009679e-208\n",
       "age       8.669998e-01\n",
       "sex       1.041429e-04\n",
       "bmi       4.299558e-14\n",
       "bp        1.023819e-06\n",
       "s1        5.794735e-02\n",
       "s2        1.603892e-01\n",
       "s3        6.347207e-01\n",
       "s4        2.734557e-01\n",
       "s5        1.556021e-05\n",
       "s6        3.059983e-01\n",
       "dtype: float64"
      ]
     },
     "execution_count": 8,
     "metadata": {},
     "output_type": "execute_result"
    }
   ],
   "source": [
    "ols.pvalues"
   ]
  },
  {
   "cell_type": "markdown",
   "id": "242933f8",
   "metadata": {
    "heading_collapsed": true
   },
   "source": [
    "# Model Tuning"
   ]
  },
  {
   "cell_type": "markdown",
   "id": "03996ff0",
   "metadata": {
    "hidden": true
   },
   "source": [
    "## Model Tuning the hard way"
   ]
  },
  {
   "cell_type": "code",
   "execution_count": 10,
   "id": "4f699371",
   "metadata": {
    "hidden": true
   },
   "outputs": [],
   "source": [
    "from sklearn.model_selection import train_test_split\n",
    "\n",
    "X_train, X_test, y_train, y_test = \\\n",
    "    train_test_split(X, y, test_size=0.20, random_state=1)"
   ]
  },
  {
   "cell_type": "code",
   "execution_count": 11,
   "id": "f502cd83",
   "metadata": {
    "hidden": true
   },
   "outputs": [],
   "source": [
    "# Select hyperparam values to try\n",
    "\n",
    "alphas = [0.01, 0.1, 1] # L1 + L2 \n",
    "l1_ratios = [0.2, 0.5, 0.8] # L1 / L2 ratio\n",
    "\n",
    "# create all combinations [(0.01, 0.2), (0.01, 0.5), (...)]\n",
    "import itertools\n",
    "hyperparams = itertools.product(alphas, l1_ratios) "
   ]
  },
  {
   "cell_type": "code",
   "execution_count": 12,
   "id": "e3490a44",
   "metadata": {
    "hidden": true
   },
   "outputs": [
    {
     "name": "stdout",
     "output_type": "stream",
     "text": [
      "alpha: 0.01, l1_ratio: 0.2,   r2: 0.30970941644612154\n",
      "alpha: 0.01, l1_ratio: 0.5,   r2: 0.3655340015692019\n",
      "alpha: 0.01, l1_ratio: 0.8,   r2: 0.441695946812292\n",
      "alpha: 0.1, l1_ratio: 0.2,   r2: 0.04607457091738236\n",
      "alpha: 0.1, l1_ratio: 0.5,   r2: 0.0802909185027088\n",
      "alpha: 0.1, l1_ratio: 0.8,   r2: 0.17781850644643044\n",
      "alpha: 1, l1_ratio: 0.2,   r2: -0.02142017085463834\n",
      "alpha: 1, l1_ratio: 0.5,   r2: -0.019482178997087242\n",
      "alpha: 1, l1_ratio: 0.8,   r2: -0.011426671381456721\n"
     ]
    }
   ],
   "source": [
    "for hyperparam in hyperparams:\n",
    "    alpha = hyperparam[0]\n",
    "    l1_ratio = hyperparam[1]\n",
    "    model = ElasticNet(alpha=alpha, l1_ratio=l1_ratio)\n",
    "    r2 = cross_val_score(model, X_train, y_train, cv=5).mean()\n",
    "    print(f\"alpha: {alpha}, l1_ratio: {l1_ratio},   r2: {r2}\")"
   ]
  },
  {
   "cell_type": "markdown",
   "id": "39ff0d44",
   "metadata": {
    "hidden": true
   },
   "source": [
    "## Model Tuning the easy way- GridSearchCV"
   ]
  },
  {
   "cell_type": "code",
   "execution_count": 13,
   "id": "34c2b49c",
   "metadata": {
    "hidden": true
   },
   "outputs": [],
   "source": [
    "from sklearn.model_selection import GridSearchCV\n",
    "\n",
    "# Train/Test split\n",
    "X_train, X_test, y_train, y_test = train_test_split(X, y, test_size=0.20, random_state=1)\n",
    "\n",
    "# Instanciate model\n",
    "model = ElasticNet()\n",
    "\n",
    "# Hyperparameter Grid\n",
    "grid = {'alpha': [0.01, 0.1, 1], \n",
    "        'l1_ratio': [0.2, 0.5, 0.8]}\n",
    "\n",
    "# Instanciate Grid Search\n",
    "search = GridSearchCV(model, grid, \n",
    "                           scoring = 'r2',\n",
    "                           cv = 5,\n",
    "                           n_jobs=-1 # paralellize computation\n",
    "                          ) \n",
    "\n",
    "# Fit data to Grid Search\n",
    "search.fit(X_train,y_train);"
   ]
  },
  {
   "cell_type": "code",
   "execution_count": 14,
   "id": "bf3b9ae2",
   "metadata": {
    "hidden": true
   },
   "outputs": [
    {
     "data": {
      "text/plain": [
       "ElasticNet(alpha=0.01, l1_ratio=0.8)"
      ]
     },
     "execution_count": 14,
     "metadata": {},
     "output_type": "execute_result"
    }
   ],
   "source": [
    "# Best score\n",
    "search.best_score_\n",
    "\n",
    "# Best Params\n",
    "search.best_params_\n",
    "\n",
    "# Best estimator\n",
    "search.best_estimator_"
   ]
  },
  {
   "cell_type": "markdown",
   "id": "ae62f340",
   "metadata": {
    "hidden": true
   },
   "source": [
    "## Model Tuning the easy way- RandomSearchCV"
   ]
  },
  {
   "cell_type": "code",
   "execution_count": null,
   "id": "9e6e0d7f",
   "metadata": {
    "hidden": true
   },
   "outputs": [],
   "source": [
    "\n",
    "# Instanciate model\n",
    "model = ElasticNet()\n",
    "\n",
    "# Hyperparameter Grid\n",
    "grid = {'l1_ratio': stats.uniform(0, 1), 'alpha': [0.001, 0.01, 0.1, 1]}\n",
    "\n",
    "# Instanciate Grid Search\n",
    "search = RandomizedSearchCV(model, grid, \n",
    "                            scoring='r2',\n",
    "                            n_iter=100,  # number of draws\n",
    "                            cv=5, n_jobs=-1)\n",
    "\n",
    "# Fit data to Grid Search\n",
    "search.fit(X_train, y_train)\n",
    "search.best_estimator_"
   ]
  },
  {
   "cell_type": "markdown",
   "id": "6262024d",
   "metadata": {
    "hidden": true
   },
   "source": [
    "**Choosing hyperparameter probability**"
   ]
  },
  {
   "cell_type": "code",
   "execution_count": null,
   "id": "3062a8d4",
   "metadata": {
    "hidden": true
   },
   "outputs": [],
   "source": [
    "from scipy import stats\n",
    "\n",
    "dist = stats.norm(10, 2) # if you have a best guess (say: 10)\n",
    "r = dist.rvs(size=10000) # Random draws\n",
    "plt.hist(r);\n",
    "\n",
    "\n",
    "# dist = stats.randint(1,100) # if you have no idea\n",
    "# dist = stats.uniform(1, 100) # same\n",
    "\n",
    "# dist = stats.loguniform(0.01, 1) # Coarse grain search\n",
    "\n",
    "# r = dist.rvs(size=10000) # Random draws\n",
    "# plt.hist(r);"
   ]
  },
  {
   "cell_type": "markdown",
   "id": "f8cf07c2",
   "metadata": {},
   "source": [
    "# Support Vector Machines"
   ]
  },
  {
   "cell_type": "code",
   "execution_count": 2,
   "id": "31fffb1f",
   "metadata": {},
   "outputs": [],
   "source": [
    "from sklearn.svm import SVC\n",
    "svc = SVC(kernel='linear', C=10)\n",
    "\n",
    "# equivalent but with SGD solver\n",
    "from sklearn.linear_model import SGDClassifier\n",
    "svc_bis = SGDClassifier(loss='hinge', penalty='l2', alpha=1/10)"
   ]
  },
  {
   "cell_type": "code",
   "execution_count": null,
   "id": "82e526cb",
   "metadata": {},
   "outputs": [],
   "source": []
  }
 ],
 "metadata": {
  "kernelspec": {
   "display_name": "Python 3 (ipykernel)",
   "language": "python",
   "name": "python3"
  },
  "language_info": {
   "codemirror_mode": {
    "name": "ipython",
    "version": 3
   },
   "file_extension": ".py",
   "mimetype": "text/x-python",
   "name": "python",
   "nbconvert_exporter": "python",
   "pygments_lexer": "ipython3",
   "version": "3.9.8"
  },
  "toc": {
   "base_numbering": 1,
   "nav_menu": {},
   "number_sections": true,
   "sideBar": true,
   "skip_h1_title": false,
   "title_cell": "Table of Contents",
   "title_sidebar": "Contents",
   "toc_cell": false,
   "toc_position": {},
   "toc_section_display": true,
   "toc_window_display": false
  }
 },
 "nbformat": 4,
 "nbformat_minor": 5
}
