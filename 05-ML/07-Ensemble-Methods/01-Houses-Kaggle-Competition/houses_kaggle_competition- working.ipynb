{
 "cells": [
  {
   "cell_type": "code",
   "execution_count": 1,
   "metadata": {},
   "outputs": [],
   "source": [
    "# Use this cell to regroup all your imports\n",
    "\n",
    "import pandas as pd\n",
    "import numpy as np\n",
    "import matplotlib.pyplot as plt\n",
    "import seaborn as sns\n",
    "from sklearn import set_config; set_config(display='diagram')"
   ]
  },
  {
   "cell_type": "markdown",
   "metadata": {
    "heading_collapsed": true
   },
   "source": [
    "# 🏆 Le Wagon Kaggle Batch Challenge"
   ]
  },
  {
   "cell_type": "markdown",
   "metadata": {
    "hidden": true
   },
   "source": [
    "<img src='https://github.com/lewagon/data-images/blob/master/ML/kaggle-batch-challenge.png?raw=true' width=600>"
   ]
  },
  {
   "cell_type": "markdown",
   "metadata": {
    "hidden": true
   },
   "source": [
    "🏆 Welcome to your first Kaggle competition!\n",
    "\n",
    "Your objective is to **submit online an answer** to the open competition [House Prices - Advanced Regression Techniques](https://www.kaggle.com/c/house-prices-advanced-regression-techniques/data)\n",
    "\n",
    "- Fortunately, you have already come across the house dataset in the bootcamp!\n",
    "- You will be semi-guided up to a **baseline model**\n",
    "- Only after will you be free to improve & refine your models\n",
    "- We will approach the problem through **pipelines** (the best practice to take!)\n",
    "\n",
    "A word on Kaggle:\n",
    "- Kaggle will rank your submission amongst all participants!\n",
    "- But don't worry, everyone is publicly removed from the leaderboard after 2 months\n",
    "- You can make to 10 submissions per day"
   ]
  },
  {
   "cell_type": "markdown",
   "metadata": {
    "hidden": true
   },
   "source": [
    "🧹 Today is the perfect day to practice keeping your long notebook **tidy** 🧹\n",
    "- \"Collapse all headings\" from the \"command palette\" (Cmd + Shift + P)\n",
    "- Stay idempotent (restart & run all should never crash)\n",
    "- Name and delete variables carefully"
   ]
  },
  {
   "cell_type": "markdown",
   "metadata": {
    "hidden": true
   },
   "source": [
    "## Setup Kaggle\n",
    "\n",
    "👉 Create an account on Kaggle if you want to participate in the competition. \n",
    "\n",
    "👉 Join the [House Prices Challenge](https://www.kaggle.com/c/house-prices-advanced-regression-techniques/data) \n",
    "\n",
    "👉 Write down your Kaggle `username` the [result spreadsheet here](https://docs.google.com/spreadsheets/d/1ZEBKwa_k1Ytb0WCOh-Nopq3eaezwBNu1SAqKXEXRguc/edit#gid=0) (pick the correct batch!)\n",
    "\n",
    "**Your whole class will compete as a group against the team of TAs**"
   ]
  },
  {
   "cell_type": "markdown",
   "metadata": {
    "hidden": true
   },
   "source": [
    "## Load"
   ]
  },
  {
   "cell_type": "markdown",
   "metadata": {
    "hidden": true
   },
   "source": [
    "We have already downloaded for you everything from Kaggle into your current notebook folder:\n",
    "- `train.csv` is your (1460 * 81) training set containing `X` and `y`\n",
    "- `test.csv` is your (1459 * 80) testing set without the associated target `y` 😈\n",
    "- `sample_submission.csv` describing the format required to submit your answer\n",
    "- `data_description.txt` describing all columns\n",
    "\n",
    "Your goal is to predict the `y_pred` missing from your test set and submit it to discover your test_score & ranking"
   ]
  },
  {
   "cell_type": "markdown",
   "metadata": {
    "hidden": true
   },
   "source": [
    "❓ Load the train dataset in a DataFrame `data` and create your `X` and `y`. Inspect their shape"
   ]
  },
  {
   "cell_type": "code",
   "execution_count": 2,
   "metadata": {
    "hidden": true,
    "tags": [
     "challengify"
    ]
   },
   "outputs": [],
   "source": [
    "# YOUR CODE HERE\n",
    "from sklearn.model_selection import train_test_split\n",
    "\n",
    "source_df = pd.read_csv('data/train.csv')\n",
    "\n",
    "source_df\n",
    "X = source_df.drop(columns = [\"Id\",\"SalePrice\"])\n",
    "y = source_df[\"SalePrice\"]\n",
    "\n",
    "\n"
   ]
  },
  {
   "cell_type": "code",
   "execution_count": 3,
   "metadata": {
    "hidden": true
   },
   "outputs": [
    {
     "data": {
      "text/plain": [
       "array([nan, 'Grvl', 'Pave'], dtype=object)"
      ]
     },
     "execution_count": 3,
     "metadata": {},
     "output_type": "execute_result"
    }
   ],
   "source": [
    "X['Alley'].unique()\n"
   ]
  },
  {
   "cell_type": "markdown",
   "metadata": {},
   "source": [
    "# 🐣 1. BASELINE"
   ]
  },
  {
   "cell_type": "markdown",
   "metadata": {
    "heading_collapsed": true
   },
   "source": [
    "## 1.1 Initial feature overview"
   ]
  },
  {
   "cell_type": "markdown",
   "metadata": {
    "hidden": true
   },
   "source": [
    "80 features is too much to deal with one-by-one for a first baseline pipeline! Let's treat them solely based on their `dtype`:\n",
    "\n",
    "❓ How many numerical features vs. categorical features do we have? "
   ]
  },
  {
   "cell_type": "code",
   "execution_count": 4,
   "metadata": {
    "hidden": true,
    "tags": [
     "challengify"
    ]
   },
   "outputs": [
    {
     "data": {
      "text/plain": [
       "object     43\n",
       "int64      33\n",
       "float64     3\n",
       "dtype: int64"
      ]
     },
     "execution_count": 4,
     "metadata": {},
     "output_type": "execute_result"
    }
   ],
   "source": [
    "# YOUR CODE HERE\n",
    "X.dtypes.value_counts() \n",
    "\n",
    "#There are 43 categorical variables and 38 numerical variables at first glance"
   ]
  },
  {
   "cell_type": "code",
   "execution_count": 5,
   "metadata": {
    "hidden": true
   },
   "outputs": [
    {
     "name": "stdout",
     "output_type": "stream",
     "text": [
      "<class 'pandas.core.frame.DataFrame'>\n",
      "RangeIndex: 1460 entries, 0 to 1459\n",
      "Data columns (total 79 columns):\n",
      " #   Column         Non-Null Count  Dtype  \n",
      "---  ------         --------------  -----  \n",
      " 0   MSSubClass     1460 non-null   int64  \n",
      " 1   MSZoning       1460 non-null   object \n",
      " 2   LotFrontage    1201 non-null   float64\n",
      " 3   LotArea        1460 non-null   int64  \n",
      " 4   Street         1460 non-null   object \n",
      " 5   Alley          91 non-null     object \n",
      " 6   LotShape       1460 non-null   object \n",
      " 7   LandContour    1460 non-null   object \n",
      " 8   Utilities      1460 non-null   object \n",
      " 9   LotConfig      1460 non-null   object \n",
      " 10  LandSlope      1460 non-null   object \n",
      " 11  Neighborhood   1460 non-null   object \n",
      " 12  Condition1     1460 non-null   object \n",
      " 13  Condition2     1460 non-null   object \n",
      " 14  BldgType       1460 non-null   object \n",
      " 15  HouseStyle     1460 non-null   object \n",
      " 16  OverallQual    1460 non-null   int64  \n",
      " 17  OverallCond    1460 non-null   int64  \n",
      " 18  YearBuilt      1460 non-null   int64  \n",
      " 19  YearRemodAdd   1460 non-null   int64  \n",
      " 20  RoofStyle      1460 non-null   object \n",
      " 21  RoofMatl       1460 non-null   object \n",
      " 22  Exterior1st    1460 non-null   object \n",
      " 23  Exterior2nd    1460 non-null   object \n",
      " 24  MasVnrType     1452 non-null   object \n",
      " 25  MasVnrArea     1452 non-null   float64\n",
      " 26  ExterQual      1460 non-null   object \n",
      " 27  ExterCond      1460 non-null   object \n",
      " 28  Foundation     1460 non-null   object \n",
      " 29  BsmtQual       1423 non-null   object \n",
      " 30  BsmtCond       1423 non-null   object \n",
      " 31  BsmtExposure   1422 non-null   object \n",
      " 32  BsmtFinType1   1423 non-null   object \n",
      " 33  BsmtFinSF1     1460 non-null   int64  \n",
      " 34  BsmtFinType2   1422 non-null   object \n",
      " 35  BsmtFinSF2     1460 non-null   int64  \n",
      " 36  BsmtUnfSF      1460 non-null   int64  \n",
      " 37  TotalBsmtSF    1460 non-null   int64  \n",
      " 38  Heating        1460 non-null   object \n",
      " 39  HeatingQC      1460 non-null   object \n",
      " 40  CentralAir     1460 non-null   object \n",
      " 41  Electrical     1459 non-null   object \n",
      " 42  1stFlrSF       1460 non-null   int64  \n",
      " 43  2ndFlrSF       1460 non-null   int64  \n",
      " 44  LowQualFinSF   1460 non-null   int64  \n",
      " 45  GrLivArea      1460 non-null   int64  \n",
      " 46  BsmtFullBath   1460 non-null   int64  \n",
      " 47  BsmtHalfBath   1460 non-null   int64  \n",
      " 48  FullBath       1460 non-null   int64  \n",
      " 49  HalfBath       1460 non-null   int64  \n",
      " 50  BedroomAbvGr   1460 non-null   int64  \n",
      " 51  KitchenAbvGr   1460 non-null   int64  \n",
      " 52  KitchenQual    1460 non-null   object \n",
      " 53  TotRmsAbvGrd   1460 non-null   int64  \n",
      " 54  Functional     1460 non-null   object \n",
      " 55  Fireplaces     1460 non-null   int64  \n",
      " 56  FireplaceQu    770 non-null    object \n",
      " 57  GarageType     1379 non-null   object \n",
      " 58  GarageYrBlt    1379 non-null   float64\n",
      " 59  GarageFinish   1379 non-null   object \n",
      " 60  GarageCars     1460 non-null   int64  \n",
      " 61  GarageArea     1460 non-null   int64  \n",
      " 62  GarageQual     1379 non-null   object \n",
      " 63  GarageCond     1379 non-null   object \n",
      " 64  PavedDrive     1460 non-null   object \n",
      " 65  WoodDeckSF     1460 non-null   int64  \n",
      " 66  OpenPorchSF    1460 non-null   int64  \n",
      " 67  EnclosedPorch  1460 non-null   int64  \n",
      " 68  3SsnPorch      1460 non-null   int64  \n",
      " 69  ScreenPorch    1460 non-null   int64  \n",
      " 70  PoolArea       1460 non-null   int64  \n",
      " 71  PoolQC         7 non-null      object \n",
      " 72  Fence          281 non-null    object \n",
      " 73  MiscFeature    54 non-null     object \n",
      " 74  MiscVal        1460 non-null   int64  \n",
      " 75  MoSold         1460 non-null   int64  \n",
      " 76  YrSold         1460 non-null   int64  \n",
      " 77  SaleType       1460 non-null   object \n",
      " 78  SaleCondition  1460 non-null   object \n",
      "dtypes: float64(3), int64(33), object(43)\n",
      "memory usage: 901.2+ KB\n"
     ]
    }
   ],
   "source": [
    "X.info()"
   ]
  },
  {
   "cell_type": "markdown",
   "metadata": {
    "hidden": true
   },
   "source": [
    "❓ Store the Series `feat_categorical_nunique` containing the number of **unique values** for each categorical feature in our training set. How many unique categories are there in total ?"
   ]
  },
  {
   "cell_type": "code",
   "execution_count": 6,
   "metadata": {
    "hidden": true,
    "tags": [
     "challengify"
    ]
   },
   "outputs": [
    {
     "data": {
      "text/plain": [
       "MSZoning          5\n",
       "Street            2\n",
       "Alley             2\n",
       "LotShape          4\n",
       "LandContour       4\n",
       "Utilities         2\n",
       "LotConfig         5\n",
       "LandSlope         3\n",
       "Neighborhood     25\n",
       "Condition1        9\n",
       "Condition2        8\n",
       "BldgType          5\n",
       "HouseStyle        8\n",
       "RoofStyle         6\n",
       "RoofMatl          8\n",
       "Exterior1st      15\n",
       "Exterior2nd      16\n",
       "MasVnrType        4\n",
       "ExterQual         4\n",
       "ExterCond         5\n",
       "Foundation        6\n",
       "BsmtQual          4\n",
       "BsmtCond          4\n",
       "BsmtExposure      4\n",
       "BsmtFinType1      6\n",
       "BsmtFinType2      6\n",
       "Heating           6\n",
       "HeatingQC         5\n",
       "CentralAir        2\n",
       "Electrical        5\n",
       "KitchenQual       4\n",
       "Functional        7\n",
       "FireplaceQu       5\n",
       "GarageType        6\n",
       "GarageFinish      3\n",
       "GarageQual        5\n",
       "GarageCond        5\n",
       "PavedDrive        3\n",
       "PoolQC            3\n",
       "Fence             4\n",
       "MiscFeature       4\n",
       "SaleType          9\n",
       "SaleCondition     6\n",
       "dtype: int64"
      ]
     },
     "execution_count": 6,
     "metadata": {},
     "output_type": "execute_result"
    }
   ],
   "source": [
    "# YOUR CODE HERE\n",
    "feat_categorical_nunique= X.select_dtypes(include = 'object').nunique()\n",
    "feat_categorical_nunique"
   ]
  },
  {
   "cell_type": "markdown",
   "metadata": {
    "hidden": true
   },
   "source": [
    "🤔 If we were to `OneHotEncode` all categorical features, our feature matrix `X_preproc` would become pretty big and spare, with almost 300 (highly correlated) features for only 1400 observations. Ideally, we should aim at feeding our model with ~50 features max (📚 Read this [rule of thumb](https://datascience.stackexchange.com/a/11480/98300))"
   ]
  },
  {
   "cell_type": "markdown",
   "metadata": {
    "hidden": true
   },
   "source": [
    "We know 2 main strategies to reduce the number of categorical features post-preprocessing:\n",
    "- **[Remove](https://scikit-learn.org/stable/modules/classes.html#module-sklearn.feature_selection)** features that bring too little explanation to our model. This may require statistical analysis of feature importance \n",
    "- **[Ordinally encode](https://scikit-learn.org/stable/modules/generated/sklearn.preprocessing.OrdinalEncoder.html)** (instead of one-hot-encode) categorical features into integers. However this forces a notion of \"order\" (1>2>3...) that can be detrimental if not set properly!"
   ]
  },
  {
   "cell_type": "markdown",
   "metadata": {
    "hidden": true
   },
   "source": [
    "❓ Plot the **histogram** of number of unique value per categorical feature. Do you see some quick wins?"
   ]
  },
  {
   "cell_type": "code",
   "execution_count": 7,
   "metadata": {
    "hidden": true
   },
   "outputs": [
    {
     "data": {
      "text/plain": [
       "MSZoning          5\n",
       "Street            2\n",
       "Alley             2\n",
       "LotShape          4\n",
       "LandContour       4\n",
       "Utilities         2\n",
       "LotConfig         5\n",
       "LandSlope         3\n",
       "Neighborhood     25\n",
       "Condition1        9\n",
       "Condition2        8\n",
       "BldgType          5\n",
       "HouseStyle        8\n",
       "RoofStyle         6\n",
       "RoofMatl          8\n",
       "Exterior1st      15\n",
       "Exterior2nd      16\n",
       "MasVnrType        4\n",
       "ExterQual         4\n",
       "ExterCond         5\n",
       "Foundation        6\n",
       "BsmtQual          4\n",
       "BsmtCond          4\n",
       "BsmtExposure      4\n",
       "BsmtFinType1      6\n",
       "BsmtFinType2      6\n",
       "Heating           6\n",
       "HeatingQC         5\n",
       "CentralAir        2\n",
       "Electrical        5\n",
       "KitchenQual       4\n",
       "Functional        7\n",
       "FireplaceQu       5\n",
       "GarageType        6\n",
       "GarageFinish      3\n",
       "GarageQual        5\n",
       "GarageCond        5\n",
       "PavedDrive        3\n",
       "PoolQC            3\n",
       "Fence             4\n",
       "MiscFeature       4\n",
       "SaleType          9\n",
       "SaleCondition     6\n",
       "dtype: int64"
      ]
     },
     "execution_count": 7,
     "metadata": {},
     "output_type": "execute_result"
    }
   ],
   "source": [
    "feat_categorical_nunique"
   ]
  },
  {
   "cell_type": "code",
   "execution_count": 8,
   "metadata": {
    "hidden": true,
    "tags": [
     "challengify"
    ]
   },
   "outputs": [
    {
     "data": {
      "text/plain": [
       "(array([18., 16.,  4.,  2.,  0.,  1.,  1.,  0.,  0.,  1.]),\n",
       " array([ 2. ,  4.3,  6.6,  8.9, 11.2, 13.5, 15.8, 18.1, 20.4, 22.7, 25. ]),\n",
       " <BarContainer object of 10 artists>)"
      ]
     },
     "execution_count": 8,
     "metadata": {},
     "output_type": "execute_result"
    },
    {
     "data": {
      "image/png": "[encoded data removed]",
      "text/plain": [
       "<Figure size 432x288 with 1 Axes>"
      ]
     },
     "metadata": {
      "needs_background": "light"
     },
     "output_type": "display_data"
    }
   ],
   "source": [
    "# Your Code here\n",
    "\n",
    "plt.hist(feat_categorical_nunique)"
   ]
  },
  {
   "cell_type": "markdown",
   "metadata": {
    "hidden": true
   },
   "source": [
    "💡 As a starter, what about simply **removing** all features that have **7 unique values or more**, and one-hot-encode every others? Let's keep ordinal encoding and statistical feature selection for the next iteration of our pipeline.\n",
    "\n",
    "❓ Store features names to OHE in a list `feat_categorical_small` below. How many features will be OHE?"
   ]
  },
  {
   "cell_type": "code",
   "execution_count": 9,
   "metadata": {
    "hidden": true,
    "tags": [
     "challengify"
    ]
   },
   "outputs": [
    {
     "data": {
      "text/plain": [
       "['MSZoning',\n",
       " 'Street',\n",
       " 'Alley',\n",
       " 'LotShape',\n",
       " 'LandContour',\n",
       " 'Utilities',\n",
       " 'LotConfig',\n",
       " 'LandSlope',\n",
       " 'BldgType',\n",
       " 'RoofStyle',\n",
       " 'MasVnrType',\n",
       " 'ExterQual',\n",
       " 'ExterCond',\n",
       " 'Foundation',\n",
       " 'BsmtQual',\n",
       " 'BsmtCond',\n",
       " 'BsmtExposure',\n",
       " 'BsmtFinType1',\n",
       " 'BsmtFinType2',\n",
       " 'Heating',\n",
       " 'HeatingQC',\n",
       " 'CentralAir',\n",
       " 'Electrical',\n",
       " 'KitchenQual',\n",
       " 'FireplaceQu',\n",
       " 'GarageType',\n",
       " 'GarageFinish',\n",
       " 'GarageQual',\n",
       " 'GarageCond',\n",
       " 'PavedDrive',\n",
       " 'PoolQC',\n",
       " 'Fence',\n",
       " 'MiscFeature',\n",
       " 'SaleCondition']"
      ]
     },
     "execution_count": 9,
     "metadata": {},
     "output_type": "execute_result"
    }
   ],
   "source": [
    "# YOUR CODE HERE\n",
    "#Process: Mask features, drop na, grabe the index and convert to a list\n",
    "masked_features = feat_categorical_nunique.mask(feat_categorical_nunique>6)\n",
    "feat_categorical_small_list = masked_features.dropna()\n",
    "feat_categorical_small = list(feat_categorical_small_list.index)\n",
    "feat_categorical_small\n",
    "\n"
   ]
  },
  {
   "cell_type": "code",
   "execution_count": 10,
   "metadata": {
    "hidden": true,
    "tags": [
     "challengify"
    ]
   },
   "outputs": [
    {
     "data": {
      "text/plain": [
       "34"
      ]
     },
     "execution_count": 10,
     "metadata": {},
     "output_type": "execute_result"
    }
   ],
   "source": [
    "# YOUR CODE HERE\n",
    "len(feat_categorical_small)\n"
   ]
  },
  {
   "cell_type": "markdown",
   "metadata": {
    "hidden": true
   },
   "source": [
    "🧪 Test your code below (and clear the cell once it passed)"
   ]
  },
  {
   "cell_type": "code",
   "execution_count": 11,
   "metadata": {
    "hidden": true
   },
   "outputs": [
    {
     "name": "stdout",
     "output_type": "stream",
     "text": [
      "\u001b[1m============================= test session starts ==============================\u001b[0m\n",
      "platform darwin -- Python 3.9.8, pytest-6.2.5, py-1.11.0, pluggy-1.0.0 -- /Users/josephgulay/.pyenv/versions/lewagon/bin/python3\n",
      "cachedir: .pytest_cache\n",
      "rootdir: /Users/josephgulay/code/roadbusta/data-challenges-recap/05-ML/07-Ensemble-Methods/01-Houses-Kaggle-Competition\n",
      "plugins: anyio-3.4.0\n",
      "\u001b[1mcollecting ... \u001b[0mcollected 1 item\n",
      "\n",
      "tests/test_features_overview.py::TestFeaturesOverview::test_feat_categorical_small \u001b[32mPASSED\u001b[0m\u001b[32m [100%]\u001b[0m\n",
      "\n",
      "\u001b[32m============================== \u001b[32m\u001b[1m1 passed\u001b[0m\u001b[32m in 0.05s\u001b[0m\u001b[32m ===============================\u001b[0m\n",
      "\n",
      "\n",
      "💯 You can commit your code:\n",
      "\n",
      "\u001b[1;32mgit\u001b[39m add tests/features_overview.pickle\n",
      "\n",
      "\u001b[32mgit\u001b[39m commit -m \u001b[33m'Completed features_overview step'\u001b[39m\n",
      "\n",
      "\u001b[32mgit\u001b[39m push origin master\n"
     ]
    }
   ],
   "source": [
    "from nbresult import ChallengeResult\n",
    "result = ChallengeResult('features_overview',\n",
    "    n=len(feat_categorical_small))\n",
    "result.write(); print(result.check())"
   ]
  },
  {
   "cell_type": "markdown",
   "metadata": {
    "heading_collapsed": true
   },
   "source": [
    "## 1.2 Baseline pipe"
   ]
  },
  {
   "cell_type": "markdown",
   "metadata": {
    "hidden": true
   },
   "source": [
    "### a) Preprocessing"
   ]
  },
  {
   "cell_type": "markdown",
   "metadata": {
    "hidden": true
   },
   "source": [
    "❓ Let's code the basic preprocessing pipeline described below. Save it under `preproc_baseline`.\n",
    "\n",
    "For categorical features\n",
    "- Simple-Impute with most frequent values\n",
    "- One-Hot-Encode features that have less than 7 unique values to start with\n",
    "- Drop all others features\n",
    "\n",
    "\n",
    "As for numerical features\n",
    "- Simple-Impute with strategy 'mean'\n",
    "- Min-Max Scale \n",
    "\n",
    "\n",
    "<details>\n",
    "    <summary>ℹ️ Pro tips</summary>\n",
    "\n",
    "If you are confident, you can try sklearn's shorter syntax `make_pipeline` or `make_column_transformer` instead of the longer syntax `Pipeline` or `ColumnTransformer` if you want to avoid giving names manually to every steps.\n",
    "</details>"
   ]
  },
  {
   "cell_type": "code",
   "execution_count": 12,
   "metadata": {
    "hidden": true
   },
   "outputs": [],
   "source": [
    "#Create a numerical column list\n",
    "feat_numerical= list(X.select_dtypes(include = ['int64', 'float64']).columns)"
   ]
  },
  {
   "cell_type": "code",
   "execution_count": 13,
   "metadata": {
    "hidden": true,
    "tags": [
     "challengify"
    ]
   },
   "outputs": [
    {
     "data": {
      "text/html": [
       "<style>#sk-2a4f118e-ffa0-4da7-a00b-91c14c6454e5 {color: black;background-color: white;}#sk-2a4f118e-ffa0-4da7-a00b-91c14c6454e5 pre{padding: 0;}#sk-2a4f118e-ffa0-4da7-a00b-91c14c6454e5 div.sk-toggleable {background-color: white;}#sk-2a4f118e-ffa0-4da7-a00b-91c14c6454e5 label.sk-toggleable__label {cursor: pointer;display: block;width: 100%;margin-bottom: 0;padding: 0.3em;box-sizing: border-box;text-align: center;}#sk-2a4f118e-ffa0-4da7-a00b-91c14c6454e5 label.sk-toggleable__label-arrow:before {content: \"▸\";float: left;margin-right: 0.25em;color: #696969;}#sk-2a4f118e-ffa0-4da7-a00b-91c14c6454e5 label.sk-toggleable__label-arrow:hover:before {color: black;}#sk-2a4f118e-ffa0-4da7-a00b-91c14c6454e5 div.sk-estimator:hover label.sk-toggleable__label-arrow:before {color: black;}#sk-2a4f118e-ffa0-4da7-a00b-91c14c6454e5 div.sk-toggleable__content {max-height: 0;max-width: 0;overflow: hidden;text-align: left;background-color: #f0f8ff;}#sk-2a4f118e-ffa0-4da7-a00b-91c14c6454e5 div.sk-toggleable__content pre {margin: 0.2em;color: black;border-radius: 0.25em;background-color: #f0f8ff;}#sk-2a4f118e-ffa0-4da7-a00b-91c14c6454e5 input.sk-toggleable__control:checked~div.sk-toggleable__content {max-height: 200px;max-width: 100%;overflow: auto;}#sk-2a4f118e-ffa0-4da7-a00b-91c14c6454e5 input.sk-toggleable__control:checked~label.sk-toggleable__label-arrow:before {content: \"▾\";}#sk-2a4f118e-ffa0-4da7-a00b-91c14c6454e5 div.sk-estimator input.sk-toggleable__control:checked~label.sk-toggleable__label {background-color: #d4ebff;}#sk-2a4f118e-ffa0-4da7-a00b-91c14c6454e5 div.sk-label input.sk-toggleable__control:checked~label.sk-toggleable__label {background-color: #d4ebff;}#sk-2a4f118e-ffa0-4da7-a00b-91c14c6454e5 input.sk-hidden--visually {border: 0;clip: rect(1px 1px 1px 1px);clip: rect(1px, 1px, 1px, 1px);height: 1px;margin: -1px;overflow: hidden;padding: 0;position: absolute;width: 1px;}#sk-2a4f118e-ffa0-4da7-a00b-91c14c6454e5 div.sk-estimator {font-family: monospace;background-color: #f0f8ff;border: 1px dotted black;border-radius: 0.25em;box-sizing: border-box;margin-bottom: 0.5em;}#sk-2a4f118e-ffa0-4da7-a00b-91c14c6454e5 div.sk-estimator:hover {background-color: #d4ebff;}#sk-2a4f118e-ffa0-4da7-a00b-91c14c6454e5 div.sk-parallel-item::after {content: \"\";width: 100%;border-bottom: 1px solid gray;flex-grow: 1;}#sk-2a4f118e-ffa0-4da7-a00b-91c14c6454e5 div.sk-label:hover label.sk-toggleable__label {background-color: #d4ebff;}#sk-2a4f118e-ffa0-4da7-a00b-91c14c6454e5 div.sk-serial::before {content: \"\";position: absolute;border-left: 1px solid gray;box-sizing: border-box;top: 2em;bottom: 0;left: 50%;}#sk-2a4f118e-ffa0-4da7-a00b-91c14c6454e5 div.sk-serial {display: flex;flex-direction: column;align-items: center;background-color: white;padding-right: 0.2em;padding-left: 0.2em;}#sk-2a4f118e-ffa0-4da7-a00b-91c14c6454e5 div.sk-item {z-index: 1;}#sk-2a4f118e-ffa0-4da7-a00b-91c14c6454e5 div.sk-parallel {display: flex;align-items: stretch;justify-content: center;background-color: white;}#sk-2a4f118e-ffa0-4da7-a00b-91c14c6454e5 div.sk-parallel::before {content: \"\";position: absolute;border-left: 1px solid gray;box-sizing: border-box;top: 2em;bottom: 0;left: 50%;}#sk-2a4f118e-ffa0-4da7-a00b-91c14c6454e5 div.sk-parallel-item {display: flex;flex-direction: column;position: relative;background-color: white;}#sk-2a4f118e-ffa0-4da7-a00b-91c14c6454e5 div.sk-parallel-item:first-child::after {align-self: flex-end;width: 50%;}#sk-2a4f118e-ffa0-4da7-a00b-91c14c6454e5 div.sk-parallel-item:last-child::after {align-self: flex-start;width: 50%;}#sk-2a4f118e-ffa0-4da7-a00b-91c14c6454e5 div.sk-parallel-item:only-child::after {width: 0;}#sk-2a4f118e-ffa0-4da7-a00b-91c14c6454e5 div.sk-dashed-wrapped {border: 1px dashed gray;margin: 0 0.4em 0.5em 0.4em;box-sizing: border-box;padding-bottom: 0.4em;background-color: white;position: relative;}#sk-2a4f118e-ffa0-4da7-a00b-91c14c6454e5 div.sk-label label {font-family: monospace;font-weight: bold;background-color: white;display: inline-block;line-height: 1.2em;}#sk-2a4f118e-ffa0-4da7-a00b-91c14c6454e5 div.sk-label-container {position: relative;z-index: 2;text-align: center;}#sk-2a4f118e-ffa0-4da7-a00b-91c14c6454e5 div.sk-container {/* jupyter's `normalize.less` sets `[hidden] { display: none; }` but bootstrap.min.css set `[hidden] { display: none !important; }` so we also need the `!important` here to be able to override the default hidden behavior on the sphinx rendered scikit-learn.org. See: https://github.com/scikit-learn/scikit-learn/issues/21755 */display: inline-block !important;position: relative;}#sk-2a4f118e-ffa0-4da7-a00b-91c14c6454e5 div.sk-text-repr-fallback {display: none;}</style><div id=\"sk-2a4f118e-ffa0-4da7-a00b-91c14c6454e5\" class=\"sk-top-container\"><div class=\"sk-text-repr-fallback\"><pre>ColumnTransformer(transformers=[(&#x27;pipeline-1&#x27;,\n",
       "                                 Pipeline(steps=[(&#x27;simpleimputer&#x27;,\n",
       "                                                  SimpleImputer()),\n",
       "                                                 (&#x27;minmaxscaler&#x27;,\n",
       "                                                  MinMaxScaler())]),\n",
       "                                 [&#x27;MSSubClass&#x27;, &#x27;LotFrontage&#x27;, &#x27;LotArea&#x27;,\n",
       "                                  &#x27;OverallQual&#x27;, &#x27;OverallCond&#x27;, &#x27;YearBuilt&#x27;,\n",
       "                                  &#x27;YearRemodAdd&#x27;, &#x27;MasVnrArea&#x27;, &#x27;BsmtFinSF1&#x27;,\n",
       "                                  &#x27;BsmtFinSF2&#x27;, &#x27;BsmtUnfSF&#x27;, &#x27;TotalBsmtSF&#x27;,\n",
       "                                  &#x27;1stFlrSF&#x27;, &#x27;2ndFlrSF&#x27;, &#x27;LowQualFinSF&#x27;,\n",
       "                                  &#x27;GrLivArea&#x27;, &#x27;BsmtFullBath...\n",
       "                                 [&#x27;MSZoning&#x27;, &#x27;Street&#x27;, &#x27;Alley&#x27;, &#x27;LotShape&#x27;,\n",
       "                                  &#x27;LandContour&#x27;, &#x27;Utilities&#x27;, &#x27;LotConfig&#x27;,\n",
       "                                  &#x27;LandSlope&#x27;, &#x27;BldgType&#x27;, &#x27;RoofStyle&#x27;,\n",
       "                                  &#x27;MasVnrType&#x27;, &#x27;ExterQual&#x27;, &#x27;ExterCond&#x27;,\n",
       "                                  &#x27;Foundation&#x27;, &#x27;BsmtQual&#x27;, &#x27;BsmtCond&#x27;,\n",
       "                                  &#x27;BsmtExposure&#x27;, &#x27;BsmtFinType1&#x27;,\n",
       "                                  &#x27;BsmtFinType2&#x27;, &#x27;Heating&#x27;, &#x27;HeatingQC&#x27;,\n",
       "                                  &#x27;CentralAir&#x27;, &#x27;Electrical&#x27;, &#x27;KitchenQual&#x27;,\n",
       "                                  &#x27;FireplaceQu&#x27;, &#x27;GarageType&#x27;, &#x27;GarageFinish&#x27;,\n",
       "                                  &#x27;GarageQual&#x27;, &#x27;GarageCond&#x27;, &#x27;PavedDrive&#x27;, ...])])</pre><b>Please rerun this cell to show the HTML repr or trust the notebook.</b></div><div class=\"sk-container\" hidden><div class=\"sk-item sk-dashed-wrapped\"><div class=\"sk-label-container\"><div class=\"sk-label sk-toggleable\"><input class=\"sk-toggleable__control sk-hidden--visually\" id=\"e5ec4264-9f88-41f4-9085-4eaf11e54d65\" type=\"checkbox\" ><label for=\"e5ec4264-9f88-41f4-9085-4eaf11e54d65\" class=\"sk-toggleable__label sk-toggleable__label-arrow\">ColumnTransformer</label><div class=\"sk-toggleable__content\"><pre>ColumnTransformer(transformers=[(&#x27;pipeline-1&#x27;,\n",
       "                                 Pipeline(steps=[(&#x27;simpleimputer&#x27;,\n",
       "                                                  SimpleImputer()),\n",
       "                                                 (&#x27;minmaxscaler&#x27;,\n",
       "                                                  MinMaxScaler())]),\n",
       "                                 [&#x27;MSSubClass&#x27;, &#x27;LotFrontage&#x27;, &#x27;LotArea&#x27;,\n",
       "                                  &#x27;OverallQual&#x27;, &#x27;OverallCond&#x27;, &#x27;YearBuilt&#x27;,\n",
       "                                  &#x27;YearRemodAdd&#x27;, &#x27;MasVnrArea&#x27;, &#x27;BsmtFinSF1&#x27;,\n",
       "                                  &#x27;BsmtFinSF2&#x27;, &#x27;BsmtUnfSF&#x27;, &#x27;TotalBsmtSF&#x27;,\n",
       "                                  &#x27;1stFlrSF&#x27;, &#x27;2ndFlrSF&#x27;, &#x27;LowQualFinSF&#x27;,\n",
       "                                  &#x27;GrLivArea&#x27;, &#x27;BsmtFullBath...\n",
       "                                 [&#x27;MSZoning&#x27;, &#x27;Street&#x27;, &#x27;Alley&#x27;, &#x27;LotShape&#x27;,\n",
       "                                  &#x27;LandContour&#x27;, &#x27;Utilities&#x27;, &#x27;LotConfig&#x27;,\n",
       "                                  &#x27;LandSlope&#x27;, &#x27;BldgType&#x27;, &#x27;RoofStyle&#x27;,\n",
       "                                  &#x27;MasVnrType&#x27;, &#x27;ExterQual&#x27;, &#x27;ExterCond&#x27;,\n",
       "                                  &#x27;Foundation&#x27;, &#x27;BsmtQual&#x27;, &#x27;BsmtCond&#x27;,\n",
       "                                  &#x27;BsmtExposure&#x27;, &#x27;BsmtFinType1&#x27;,\n",
       "                                  &#x27;BsmtFinType2&#x27;, &#x27;Heating&#x27;, &#x27;HeatingQC&#x27;,\n",
       "                                  &#x27;CentralAir&#x27;, &#x27;Electrical&#x27;, &#x27;KitchenQual&#x27;,\n",
       "                                  &#x27;FireplaceQu&#x27;, &#x27;GarageType&#x27;, &#x27;GarageFinish&#x27;,\n",
       "                                  &#x27;GarageQual&#x27;, &#x27;GarageCond&#x27;, &#x27;PavedDrive&#x27;, ...])])</pre></div></div></div><div class=\"sk-parallel\"><div class=\"sk-parallel-item\"><div class=\"sk-item\"><div class=\"sk-label-container\"><div class=\"sk-label sk-toggleable\"><input class=\"sk-toggleable__control sk-hidden--visually\" id=\"97e2dcf0-8fb9-4d43-97f1-c35e7aa7d723\" type=\"checkbox\" ><label for=\"97e2dcf0-8fb9-4d43-97f1-c35e7aa7d723\" class=\"sk-toggleable__label sk-toggleable__label-arrow\">pipeline-1</label><div class=\"sk-toggleable__content\"><pre>[&#x27;MSSubClass&#x27;, &#x27;LotFrontage&#x27;, &#x27;LotArea&#x27;, &#x27;OverallQual&#x27;, &#x27;OverallCond&#x27;, &#x27;YearBuilt&#x27;, &#x27;YearRemodAdd&#x27;, &#x27;MasVnrArea&#x27;, &#x27;BsmtFinSF1&#x27;, &#x27;BsmtFinSF2&#x27;, &#x27;BsmtUnfSF&#x27;, &#x27;TotalBsmtSF&#x27;, &#x27;1stFlrSF&#x27;, &#x27;2ndFlrSF&#x27;, &#x27;LowQualFinSF&#x27;, &#x27;GrLivArea&#x27;, &#x27;BsmtFullBath&#x27;, &#x27;BsmtHalfBath&#x27;, &#x27;FullBath&#x27;, &#x27;HalfBath&#x27;, &#x27;BedroomAbvGr&#x27;, &#x27;KitchenAbvGr&#x27;, &#x27;TotRmsAbvGrd&#x27;, &#x27;Fireplaces&#x27;, &#x27;GarageYrBlt&#x27;, &#x27;GarageCars&#x27;, &#x27;GarageArea&#x27;, &#x27;WoodDeckSF&#x27;, &#x27;OpenPorchSF&#x27;, &#x27;EnclosedPorch&#x27;, &#x27;3SsnPorch&#x27;, &#x27;ScreenPorch&#x27;, &#x27;PoolArea&#x27;, &#x27;MiscVal&#x27;, &#x27;MoSold&#x27;, &#x27;YrSold&#x27;]</pre></div></div></div><div class=\"sk-serial\"><div class=\"sk-item\"><div class=\"sk-serial\"><div class=\"sk-item\"><div class=\"sk-estimator sk-toggleable\"><input class=\"sk-toggleable__control sk-hidden--visually\" id=\"fe133229-8aaf-4ff3-9700-82c912be1eb0\" type=\"checkbox\" ><label for=\"fe133229-8aaf-4ff3-9700-82c912be1eb0\" class=\"sk-toggleable__label sk-toggleable__label-arrow\">SimpleImputer</label><div class=\"sk-toggleable__content\"><pre>SimpleImputer()</pre></div></div></div><div class=\"sk-item\"><div class=\"sk-estimator sk-toggleable\"><input class=\"sk-toggleable__control sk-hidden--visually\" id=\"90841152-4a8e-4302-a594-151e79d84885\" type=\"checkbox\" ><label for=\"90841152-4a8e-4302-a594-151e79d84885\" class=\"sk-toggleable__label sk-toggleable__label-arrow\">MinMaxScaler</label><div class=\"sk-toggleable__content\"><pre>MinMaxScaler()</pre></div></div></div></div></div></div></div></div><div class=\"sk-parallel-item\"><div class=\"sk-item\"><div class=\"sk-label-container\"><div class=\"sk-label sk-toggleable\"><input class=\"sk-toggleable__control sk-hidden--visually\" id=\"2aca388b-a8f7-49d2-ac33-2dc569adcd72\" type=\"checkbox\" ><label for=\"2aca388b-a8f7-49d2-ac33-2dc569adcd72\" class=\"sk-toggleable__label sk-toggleable__label-arrow\">pipeline-2</label><div class=\"sk-toggleable__content\"><pre>[&#x27;MSZoning&#x27;, &#x27;Street&#x27;, &#x27;Alley&#x27;, &#x27;LotShape&#x27;, &#x27;LandContour&#x27;, &#x27;Utilities&#x27;, &#x27;LotConfig&#x27;, &#x27;LandSlope&#x27;, &#x27;BldgType&#x27;, &#x27;RoofStyle&#x27;, &#x27;MasVnrType&#x27;, &#x27;ExterQual&#x27;, &#x27;ExterCond&#x27;, &#x27;Foundation&#x27;, &#x27;BsmtQual&#x27;, &#x27;BsmtCond&#x27;, &#x27;BsmtExposure&#x27;, &#x27;BsmtFinType1&#x27;, &#x27;BsmtFinType2&#x27;, &#x27;Heating&#x27;, &#x27;HeatingQC&#x27;, &#x27;CentralAir&#x27;, &#x27;Electrical&#x27;, &#x27;KitchenQual&#x27;, &#x27;FireplaceQu&#x27;, &#x27;GarageType&#x27;, &#x27;GarageFinish&#x27;, &#x27;GarageQual&#x27;, &#x27;GarageCond&#x27;, &#x27;PavedDrive&#x27;, &#x27;PoolQC&#x27;, &#x27;Fence&#x27;, &#x27;MiscFeature&#x27;, &#x27;SaleCondition&#x27;]</pre></div></div></div><div class=\"sk-serial\"><div class=\"sk-item\"><div class=\"sk-serial\"><div class=\"sk-item\"><div class=\"sk-estimator sk-toggleable\"><input class=\"sk-toggleable__control sk-hidden--visually\" id=\"97ffb53c-54c6-43bc-a675-817e732e0cf4\" type=\"checkbox\" ><label for=\"97ffb53c-54c6-43bc-a675-817e732e0cf4\" class=\"sk-toggleable__label sk-toggleable__label-arrow\">SimpleImputer</label><div class=\"sk-toggleable__content\"><pre>SimpleImputer(strategy=&#x27;most_frequent&#x27;)</pre></div></div></div><div class=\"sk-item\"><div class=\"sk-estimator sk-toggleable\"><input class=\"sk-toggleable__control sk-hidden--visually\" id=\"7fe7946a-44f9-4754-9eb7-b663e228b719\" type=\"checkbox\" ><label for=\"7fe7946a-44f9-4754-9eb7-b663e228b719\" class=\"sk-toggleable__label sk-toggleable__label-arrow\">OneHotEncoder</label><div class=\"sk-toggleable__content\"><pre>OneHotEncoder(handle_unknown=&#x27;ignore&#x27;)</pre></div></div></div></div></div></div></div></div></div></div></div></div>"
      ],
      "text/plain": [
       "ColumnTransformer(transformers=[('pipeline-1',\n",
       "                                 Pipeline(steps=[('simpleimputer',\n",
       "                                                  SimpleImputer()),\n",
       "                                                 ('minmaxscaler',\n",
       "                                                  MinMaxScaler())]),\n",
       "                                 ['MSSubClass', 'LotFrontage', 'LotArea',\n",
       "                                  'OverallQual', 'OverallCond', 'YearBuilt',\n",
       "                                  'YearRemodAdd', 'MasVnrArea', 'BsmtFinSF1',\n",
       "                                  'BsmtFinSF2', 'BsmtUnfSF', 'TotalBsmtSF',\n",
       "                                  '1stFlrSF', '2ndFlrSF', 'LowQualFinSF',\n",
       "                                  'GrLivArea', 'BsmtFullBath...\n",
       "                                 ['MSZoning', 'Street', 'Alley', 'LotShape',\n",
       "                                  'LandContour', 'Utilities', 'LotConfig',\n",
       "                                  'LandSlope', 'BldgType', 'RoofStyle',\n",
       "                                  'MasVnrType', 'ExterQual', 'ExterCond',\n",
       "                                  'Foundation', 'BsmtQual', 'BsmtCond',\n",
       "                                  'BsmtExposure', 'BsmtFinType1',\n",
       "                                  'BsmtFinType2', 'Heating', 'HeatingQC',\n",
       "                                  'CentralAir', 'Electrical', 'KitchenQual',\n",
       "                                  'FireplaceQu', 'GarageType', 'GarageFinish',\n",
       "                                  'GarageQual', 'GarageCond', 'PavedDrive', ...])])"
      ]
     },
     "execution_count": 13,
     "metadata": {},
     "output_type": "execute_result"
    }
   ],
   "source": [
    "# YOUR CODE HERE\n",
    "from sklearn.pipeline import make_pipeline\n",
    "from sklearn.compose import make_column_transformer\n",
    "from sklearn.preprocessing import MinMaxScaler\n",
    "from sklearn.impute import SimpleImputer\n",
    "from sklearn.preprocessing import OneHotEncoder\n",
    "\n",
    "num_prep = make_pipeline(SimpleImputer(strategy = 'mean'), \n",
    "                         MinMaxScaler()\n",
    "                        )\n",
    "\n",
    "cat_prep = make_pipeline(SimpleImputer(strategy = 'most_frequent'),\n",
    "                         OneHotEncoder(handle_unknown = 'ignore')\n",
    "                        )\n",
    "\n",
    "prep = make_column_transformer((num_prep, feat_numerical),\n",
    "                               (cat_prep, feat_categorical_small)\n",
    "                              )\n",
    "\n",
    "\n",
    "prep"
   ]
  },
  {
   "cell_type": "code",
   "execution_count": 14,
   "metadata": {
    "hidden": true
   },
   "outputs": [],
   "source": [
    "X_trans = prep.fit_transform(X)"
   ]
  },
  {
   "cell_type": "markdown",
   "metadata": {
    "hidden": true
   },
   "source": [
    "❓ Look at the **shape** of your preprocessed dataframe."
   ]
  },
  {
   "cell_type": "code",
   "execution_count": 15,
   "metadata": {
    "hidden": true,
    "tags": [
     "challengify"
    ]
   },
   "outputs": [],
   "source": [
    "# YOUR CODE HERE\n",
    "shape_preproc_baseline = X_trans.shape\n",
    "\n",
    "# Next step- troubleshoot this- maybe they include the sale price as a value to be transformed?"
   ]
  },
  {
   "cell_type": "markdown",
   "metadata": {
    "hidden": true
   },
   "source": [
    "🧪 Test your code below"
   ]
  },
  {
   "cell_type": "code",
   "execution_count": 16,
   "metadata": {
    "hidden": true
   },
   "outputs": [
    {
     "name": "stdout",
     "output_type": "stream",
     "text": [
      "\u001b[1m============================= test session starts ==============================\u001b[0m\n",
      "platform darwin -- Python 3.9.8, pytest-6.2.5, py-1.11.0, pluggy-1.0.0 -- /Users/josephgulay/.pyenv/versions/lewagon/bin/python3\n",
      "cachedir: .pytest_cache\n",
      "rootdir: /Users/josephgulay/code/roadbusta/data-challenges-recap/05-ML/07-Ensemble-Methods/01-Houses-Kaggle-Competition\n",
      "plugins: anyio-3.4.0\n",
      "\u001b[1mcollecting ... \u001b[0mcollected 1 item\n",
      "\n",
      "tests/test_preproc_baseline.py::TestPreprocBaseline::test_shape \u001b[32mPASSED\u001b[0m\u001b[32m   [100%]\u001b[0m\n",
      "\n",
      "\u001b[32m============================== \u001b[32m\u001b[1m1 passed\u001b[0m\u001b[32m in 0.04s\u001b[0m\u001b[32m ===============================\u001b[0m\n",
      "\n",
      "\n",
      "💯 You can commit your code:\n",
      "\n",
      "\u001b[1;32mgit\u001b[39m add tests/preproc_baseline.pickle\n",
      "\n",
      "\u001b[32mgit\u001b[39m commit -m \u001b[33m'Completed preproc_baseline step'\u001b[39m\n",
      "\n",
      "\u001b[32mgit\u001b[39m push origin master\n"
     ]
    }
   ],
   "source": [
    "from nbresult import ChallengeResult\n",
    "result = ChallengeResult('preproc_baseline',\n",
    "    shape=shape_preproc_baseline)\n",
    "result.write()\n",
    "print(result.check())"
   ]
  },
  {
   "cell_type": "markdown",
   "metadata": {
    "hidden": true
   },
   "source": [
    "### b) Add estimator"
   ]
  },
  {
   "cell_type": "markdown",
   "metadata": {
    "hidden": true
   },
   "source": [
    "❓ Add a simple Decision Tree model to your `preproc_baseline` and store it to `pipe_baseline` variable."
   ]
  },
  {
   "cell_type": "code",
   "execution_count": 17,
   "metadata": {
    "hidden": true,
    "tags": [
     "challengify"
    ]
   },
   "outputs": [
    {
     "data": {
      "text/html": [
       "<style>#sk-86ea5884-8f54-406d-a921-cbe162b08edb {color: black;background-color: white;}#sk-86ea5884-8f54-406d-a921-cbe162b08edb pre{padding: 0;}#sk-86ea5884-8f54-406d-a921-cbe162b08edb div.sk-toggleable {background-color: white;}#sk-86ea5884-8f54-406d-a921-cbe162b08edb label.sk-toggleable__label {cursor: pointer;display: block;width: 100%;margin-bottom: 0;padding: 0.3em;box-sizing: border-box;text-align: center;}#sk-86ea5884-8f54-406d-a921-cbe162b08edb label.sk-toggleable__label-arrow:before {content: \"▸\";float: left;margin-right: 0.25em;color: #696969;}#sk-86ea5884-8f54-406d-a921-cbe162b08edb label.sk-toggleable__label-arrow:hover:before {color: black;}#sk-86ea5884-8f54-406d-a921-cbe162b08edb div.sk-estimator:hover label.sk-toggleable__label-arrow:before {color: black;}#sk-86ea5884-8f54-406d-a921-cbe162b08edb div.sk-toggleable__content {max-height: 0;max-width: 0;overflow: hidden;text-align: left;background-color: #f0f8ff;}#sk-86ea5884-8f54-406d-a921-cbe162b08edb div.sk-toggleable__content pre {margin: 0.2em;color: black;border-radius: 0.25em;background-color: #f0f8ff;}#sk-86ea5884-8f54-406d-a921-cbe162b08edb input.sk-toggleable__control:checked~div.sk-toggleable__content {max-height: 200px;max-width: 100%;overflow: auto;}#sk-86ea5884-8f54-406d-a921-cbe162b08edb input.sk-toggleable__control:checked~label.sk-toggleable__label-arrow:before {content: \"▾\";}#sk-86ea5884-8f54-406d-a921-cbe162b08edb div.sk-estimator input.sk-toggleable__control:checked~label.sk-toggleable__label {background-color: #d4ebff;}#sk-86ea5884-8f54-406d-a921-cbe162b08edb div.sk-label input.sk-toggleable__control:checked~label.sk-toggleable__label {background-color: #d4ebff;}#sk-86ea5884-8f54-406d-a921-cbe162b08edb input.sk-hidden--visually {border: 0;clip: rect(1px 1px 1px 1px);clip: rect(1px, 1px, 1px, 1px);height: 1px;margin: -1px;overflow: hidden;padding: 0;position: absolute;width: 1px;}#sk-86ea5884-8f54-406d-a921-cbe162b08edb div.sk-estimator {font-family: monospace;background-color: #f0f8ff;border: 1px dotted black;border-radius: 0.25em;box-sizing: border-box;margin-bottom: 0.5em;}#sk-86ea5884-8f54-406d-a921-cbe162b08edb div.sk-estimator:hover {background-color: #d4ebff;}#sk-86ea5884-8f54-406d-a921-cbe162b08edb div.sk-parallel-item::after {content: \"\";width: 100%;border-bottom: 1px solid gray;flex-grow: 1;}#sk-86ea5884-8f54-406d-a921-cbe162b08edb div.sk-label:hover label.sk-toggleable__label {background-color: #d4ebff;}#sk-86ea5884-8f54-406d-a921-cbe162b08edb div.sk-serial::before {content: \"\";position: absolute;border-left: 1px solid gray;box-sizing: border-box;top: 2em;bottom: 0;left: 50%;}#sk-86ea5884-8f54-406d-a921-cbe162b08edb div.sk-serial {display: flex;flex-direction: column;align-items: center;background-color: white;padding-right: 0.2em;padding-left: 0.2em;}#sk-86ea5884-8f54-406d-a921-cbe162b08edb div.sk-item {z-index: 1;}#sk-86ea5884-8f54-406d-a921-cbe162b08edb div.sk-parallel {display: flex;align-items: stretch;justify-content: center;background-color: white;}#sk-86ea5884-8f54-406d-a921-cbe162b08edb div.sk-parallel::before {content: \"\";position: absolute;border-left: 1px solid gray;box-sizing: border-box;top: 2em;bottom: 0;left: 50%;}#sk-86ea5884-8f54-406d-a921-cbe162b08edb div.sk-parallel-item {display: flex;flex-direction: column;position: relative;background-color: white;}#sk-86ea5884-8f54-406d-a921-cbe162b08edb div.sk-parallel-item:first-child::after {align-self: flex-end;width: 50%;}#sk-86ea5884-8f54-406d-a921-cbe162b08edb div.sk-parallel-item:last-child::after {align-self: flex-start;width: 50%;}#sk-86ea5884-8f54-406d-a921-cbe162b08edb div.sk-parallel-item:only-child::after {width: 0;}#sk-86ea5884-8f54-406d-a921-cbe162b08edb div.sk-dashed-wrapped {border: 1px dashed gray;margin: 0 0.4em 0.5em 0.4em;box-sizing: border-box;padding-bottom: 0.4em;background-color: white;position: relative;}#sk-86ea5884-8f54-406d-a921-cbe162b08edb div.sk-label label {font-family: monospace;font-weight: bold;background-color: white;display: inline-block;line-height: 1.2em;}#sk-86ea5884-8f54-406d-a921-cbe162b08edb div.sk-label-container {position: relative;z-index: 2;text-align: center;}#sk-86ea5884-8f54-406d-a921-cbe162b08edb div.sk-container {/* jupyter's `normalize.less` sets `[hidden] { display: none; }` but bootstrap.min.css set `[hidden] { display: none !important; }` so we also need the `!important` here to be able to override the default hidden behavior on the sphinx rendered scikit-learn.org. See: https://github.com/scikit-learn/scikit-learn/issues/21755 */display: inline-block !important;position: relative;}#sk-86ea5884-8f54-406d-a921-cbe162b08edb div.sk-text-repr-fallback {display: none;}</style><div id=\"sk-86ea5884-8f54-406d-a921-cbe162b08edb\" class=\"sk-top-container\"><div class=\"sk-text-repr-fallback\"><pre>Pipeline(steps=[(&#x27;columntransformer&#x27;,\n",
       "                 ColumnTransformer(transformers=[(&#x27;pipeline-1&#x27;,\n",
       "                                                  Pipeline(steps=[(&#x27;simpleimputer&#x27;,\n",
       "                                                                   SimpleImputer()),\n",
       "                                                                  (&#x27;minmaxscaler&#x27;,\n",
       "                                                                   MinMaxScaler())]),\n",
       "                                                  [&#x27;MSSubClass&#x27;, &#x27;LotFrontage&#x27;,\n",
       "                                                   &#x27;LotArea&#x27;, &#x27;OverallQual&#x27;,\n",
       "                                                   &#x27;OverallCond&#x27;, &#x27;YearBuilt&#x27;,\n",
       "                                                   &#x27;YearRemodAdd&#x27;, &#x27;MasVnrArea&#x27;,\n",
       "                                                   &#x27;BsmtFinSF1&#x27;, &#x27;BsmtFinSF2&#x27;,\n",
       "                                                   &#x27;BsmtUnfSF&#x27;, &#x27;TotalBsmtSF&#x27;,\n",
       "                                                   &#x27;1stFlrSF&#x27;, &#x27;2ndFlrSF&#x27;,\n",
       "                                                   &#x27;Lo...\n",
       "                                                   &#x27;LotConfig&#x27;, &#x27;LandSlope&#x27;,\n",
       "                                                   &#x27;BldgType&#x27;, &#x27;RoofStyle&#x27;,\n",
       "                                                   &#x27;MasVnrType&#x27;, &#x27;ExterQual&#x27;,\n",
       "                                                   &#x27;ExterCond&#x27;, &#x27;Foundation&#x27;,\n",
       "                                                   &#x27;BsmtQual&#x27;, &#x27;BsmtCond&#x27;,\n",
       "                                                   &#x27;BsmtExposure&#x27;,\n",
       "                                                   &#x27;BsmtFinType1&#x27;,\n",
       "                                                   &#x27;BsmtFinType2&#x27;, &#x27;Heating&#x27;,\n",
       "                                                   &#x27;HeatingQC&#x27;, &#x27;CentralAir&#x27;,\n",
       "                                                   &#x27;Electrical&#x27;, &#x27;KitchenQual&#x27;,\n",
       "                                                   &#x27;FireplaceQu&#x27;, &#x27;GarageType&#x27;,\n",
       "                                                   &#x27;GarageFinish&#x27;, &#x27;GarageQual&#x27;,\n",
       "                                                   &#x27;GarageCond&#x27;, &#x27;PavedDrive&#x27;, ...])])),\n",
       "                (&#x27;decisiontreeregressor&#x27;, DecisionTreeRegressor())])</pre><b>Please rerun this cell to show the HTML repr or trust the notebook.</b></div><div class=\"sk-container\" hidden><div class=\"sk-item sk-dashed-wrapped\"><div class=\"sk-label-container\"><div class=\"sk-label sk-toggleable\"><input class=\"sk-toggleable__control sk-hidden--visually\" id=\"c319eeca-22b1-4da6-bfe2-ecf22d41cb5b\" type=\"checkbox\" ><label for=\"c319eeca-22b1-4da6-bfe2-ecf22d41cb5b\" class=\"sk-toggleable__label sk-toggleable__label-arrow\">Pipeline</label><div class=\"sk-toggleable__content\"><pre>Pipeline(steps=[(&#x27;columntransformer&#x27;,\n",
       "                 ColumnTransformer(transformers=[(&#x27;pipeline-1&#x27;,\n",
       "                                                  Pipeline(steps=[(&#x27;simpleimputer&#x27;,\n",
       "                                                                   SimpleImputer()),\n",
       "                                                                  (&#x27;minmaxscaler&#x27;,\n",
       "                                                                   MinMaxScaler())]),\n",
       "                                                  [&#x27;MSSubClass&#x27;, &#x27;LotFrontage&#x27;,\n",
       "                                                   &#x27;LotArea&#x27;, &#x27;OverallQual&#x27;,\n",
       "                                                   &#x27;OverallCond&#x27;, &#x27;YearBuilt&#x27;,\n",
       "                                                   &#x27;YearRemodAdd&#x27;, &#x27;MasVnrArea&#x27;,\n",
       "                                                   &#x27;BsmtFinSF1&#x27;, &#x27;BsmtFinSF2&#x27;,\n",
       "                                                   &#x27;BsmtUnfSF&#x27;, &#x27;TotalBsmtSF&#x27;,\n",
       "                                                   &#x27;1stFlrSF&#x27;, &#x27;2ndFlrSF&#x27;,\n",
       "                                                   &#x27;Lo...\n",
       "                                                   &#x27;LotConfig&#x27;, &#x27;LandSlope&#x27;,\n",
       "                                                   &#x27;BldgType&#x27;, &#x27;RoofStyle&#x27;,\n",
       "                                                   &#x27;MasVnrType&#x27;, &#x27;ExterQual&#x27;,\n",
       "                                                   &#x27;ExterCond&#x27;, &#x27;Foundation&#x27;,\n",
       "                                                   &#x27;BsmtQual&#x27;, &#x27;BsmtCond&#x27;,\n",
       "                                                   &#x27;BsmtExposure&#x27;,\n",
       "                                                   &#x27;BsmtFinType1&#x27;,\n",
       "                                                   &#x27;BsmtFinType2&#x27;, &#x27;Heating&#x27;,\n",
       "                                                   &#x27;HeatingQC&#x27;, &#x27;CentralAir&#x27;,\n",
       "                                                   &#x27;Electrical&#x27;, &#x27;KitchenQual&#x27;,\n",
       "                                                   &#x27;FireplaceQu&#x27;, &#x27;GarageType&#x27;,\n",
       "                                                   &#x27;GarageFinish&#x27;, &#x27;GarageQual&#x27;,\n",
       "                                                   &#x27;GarageCond&#x27;, &#x27;PavedDrive&#x27;, ...])])),\n",
       "                (&#x27;decisiontreeregressor&#x27;, DecisionTreeRegressor())])</pre></div></div></div><div class=\"sk-serial\"><div class=\"sk-item sk-dashed-wrapped\"><div class=\"sk-label-container\"><div class=\"sk-label sk-toggleable\"><input class=\"sk-toggleable__control sk-hidden--visually\" id=\"27aff244-06df-4e13-8cc7-4781b940a8fc\" type=\"checkbox\" ><label for=\"27aff244-06df-4e13-8cc7-4781b940a8fc\" class=\"sk-toggleable__label sk-toggleable__label-arrow\">columntransformer: ColumnTransformer</label><div class=\"sk-toggleable__content\"><pre>ColumnTransformer(transformers=[(&#x27;pipeline-1&#x27;,\n",
       "                                 Pipeline(steps=[(&#x27;simpleimputer&#x27;,\n",
       "                                                  SimpleImputer()),\n",
       "                                                 (&#x27;minmaxscaler&#x27;,\n",
       "                                                  MinMaxScaler())]),\n",
       "                                 [&#x27;MSSubClass&#x27;, &#x27;LotFrontage&#x27;, &#x27;LotArea&#x27;,\n",
       "                                  &#x27;OverallQual&#x27;, &#x27;OverallCond&#x27;, &#x27;YearBuilt&#x27;,\n",
       "                                  &#x27;YearRemodAdd&#x27;, &#x27;MasVnrArea&#x27;, &#x27;BsmtFinSF1&#x27;,\n",
       "                                  &#x27;BsmtFinSF2&#x27;, &#x27;BsmtUnfSF&#x27;, &#x27;TotalBsmtSF&#x27;,\n",
       "                                  &#x27;1stFlrSF&#x27;, &#x27;2ndFlrSF&#x27;, &#x27;LowQualFinSF&#x27;,\n",
       "                                  &#x27;GrLivArea&#x27;, &#x27;BsmtFullBath...\n",
       "                                 [&#x27;MSZoning&#x27;, &#x27;Street&#x27;, &#x27;Alley&#x27;, &#x27;LotShape&#x27;,\n",
       "                                  &#x27;LandContour&#x27;, &#x27;Utilities&#x27;, &#x27;LotConfig&#x27;,\n",
       "                                  &#x27;LandSlope&#x27;, &#x27;BldgType&#x27;, &#x27;RoofStyle&#x27;,\n",
       "                                  &#x27;MasVnrType&#x27;, &#x27;ExterQual&#x27;, &#x27;ExterCond&#x27;,\n",
       "                                  &#x27;Foundation&#x27;, &#x27;BsmtQual&#x27;, &#x27;BsmtCond&#x27;,\n",
       "                                  &#x27;BsmtExposure&#x27;, &#x27;BsmtFinType1&#x27;,\n",
       "                                  &#x27;BsmtFinType2&#x27;, &#x27;Heating&#x27;, &#x27;HeatingQC&#x27;,\n",
       "                                  &#x27;CentralAir&#x27;, &#x27;Electrical&#x27;, &#x27;KitchenQual&#x27;,\n",
       "                                  &#x27;FireplaceQu&#x27;, &#x27;GarageType&#x27;, &#x27;GarageFinish&#x27;,\n",
       "                                  &#x27;GarageQual&#x27;, &#x27;GarageCond&#x27;, &#x27;PavedDrive&#x27;, ...])])</pre></div></div></div><div class=\"sk-parallel\"><div class=\"sk-parallel-item\"><div class=\"sk-item\"><div class=\"sk-label-container\"><div class=\"sk-label sk-toggleable\"><input class=\"sk-toggleable__control sk-hidden--visually\" id=\"8eca520e-8ac9-4cf9-9c0a-228a862aa7c4\" type=\"checkbox\" ><label for=\"8eca520e-8ac9-4cf9-9c0a-228a862aa7c4\" class=\"sk-toggleable__label sk-toggleable__label-arrow\">pipeline-1</label><div class=\"sk-toggleable__content\"><pre>[&#x27;MSSubClass&#x27;, &#x27;LotFrontage&#x27;, &#x27;LotArea&#x27;, &#x27;OverallQual&#x27;, &#x27;OverallCond&#x27;, &#x27;YearBuilt&#x27;, &#x27;YearRemodAdd&#x27;, &#x27;MasVnrArea&#x27;, &#x27;BsmtFinSF1&#x27;, &#x27;BsmtFinSF2&#x27;, &#x27;BsmtUnfSF&#x27;, &#x27;TotalBsmtSF&#x27;, &#x27;1stFlrSF&#x27;, &#x27;2ndFlrSF&#x27;, &#x27;LowQualFinSF&#x27;, &#x27;GrLivArea&#x27;, &#x27;BsmtFullBath&#x27;, &#x27;BsmtHalfBath&#x27;, &#x27;FullBath&#x27;, &#x27;HalfBath&#x27;, &#x27;BedroomAbvGr&#x27;, &#x27;KitchenAbvGr&#x27;, &#x27;TotRmsAbvGrd&#x27;, &#x27;Fireplaces&#x27;, &#x27;GarageYrBlt&#x27;, &#x27;GarageCars&#x27;, &#x27;GarageArea&#x27;, &#x27;WoodDeckSF&#x27;, &#x27;OpenPorchSF&#x27;, &#x27;EnclosedPorch&#x27;, &#x27;3SsnPorch&#x27;, &#x27;ScreenPorch&#x27;, &#x27;PoolArea&#x27;, &#x27;MiscVal&#x27;, &#x27;MoSold&#x27;, &#x27;YrSold&#x27;]</pre></div></div></div><div class=\"sk-serial\"><div class=\"sk-item\"><div class=\"sk-serial\"><div class=\"sk-item\"><div class=\"sk-estimator sk-toggleable\"><input class=\"sk-toggleable__control sk-hidden--visually\" id=\"c1863a9b-6e22-4a4d-bcd6-3734a044484a\" type=\"checkbox\" ><label for=\"c1863a9b-6e22-4a4d-bcd6-3734a044484a\" class=\"sk-toggleable__label sk-toggleable__label-arrow\">SimpleImputer</label><div class=\"sk-toggleable__content\"><pre>SimpleImputer()</pre></div></div></div><div class=\"sk-item\"><div class=\"sk-estimator sk-toggleable\"><input class=\"sk-toggleable__control sk-hidden--visually\" id=\"88ed41e0-7948-4724-991a-ab7329048513\" type=\"checkbox\" ><label for=\"88ed41e0-7948-4724-991a-ab7329048513\" class=\"sk-toggleable__label sk-toggleable__label-arrow\">MinMaxScaler</label><div class=\"sk-toggleable__content\"><pre>MinMaxScaler()</pre></div></div></div></div></div></div></div></div><div class=\"sk-parallel-item\"><div class=\"sk-item\"><div class=\"sk-label-container\"><div class=\"sk-label sk-toggleable\"><input class=\"sk-toggleable__control sk-hidden--visually\" id=\"5ca230a5-5da6-45d3-8c10-39058a6e72f1\" type=\"checkbox\" ><label for=\"5ca230a5-5da6-45d3-8c10-39058a6e72f1\" class=\"sk-toggleable__label sk-toggleable__label-arrow\">pipeline-2</label><div class=\"sk-toggleable__content\"><pre>[&#x27;MSZoning&#x27;, &#x27;Street&#x27;, &#x27;Alley&#x27;, &#x27;LotShape&#x27;, &#x27;LandContour&#x27;, &#x27;Utilities&#x27;, &#x27;LotConfig&#x27;, &#x27;LandSlope&#x27;, &#x27;BldgType&#x27;, &#x27;RoofStyle&#x27;, &#x27;MasVnrType&#x27;, &#x27;ExterQual&#x27;, &#x27;ExterCond&#x27;, &#x27;Foundation&#x27;, &#x27;BsmtQual&#x27;, &#x27;BsmtCond&#x27;, &#x27;BsmtExposure&#x27;, &#x27;BsmtFinType1&#x27;, &#x27;BsmtFinType2&#x27;, &#x27;Heating&#x27;, &#x27;HeatingQC&#x27;, &#x27;CentralAir&#x27;, &#x27;Electrical&#x27;, &#x27;KitchenQual&#x27;, &#x27;FireplaceQu&#x27;, &#x27;GarageType&#x27;, &#x27;GarageFinish&#x27;, &#x27;GarageQual&#x27;, &#x27;GarageCond&#x27;, &#x27;PavedDrive&#x27;, &#x27;PoolQC&#x27;, &#x27;Fence&#x27;, &#x27;MiscFeature&#x27;, &#x27;SaleCondition&#x27;]</pre></div></div></div><div class=\"sk-serial\"><div class=\"sk-item\"><div class=\"sk-serial\"><div class=\"sk-item\"><div class=\"sk-estimator sk-toggleable\"><input class=\"sk-toggleable__control sk-hidden--visually\" id=\"25393324-d1d5-4038-af06-85d0a6d2ae38\" type=\"checkbox\" ><label for=\"25393324-d1d5-4038-af06-85d0a6d2ae38\" class=\"sk-toggleable__label sk-toggleable__label-arrow\">SimpleImputer</label><div class=\"sk-toggleable__content\"><pre>SimpleImputer(strategy=&#x27;most_frequent&#x27;)</pre></div></div></div><div class=\"sk-item\"><div class=\"sk-estimator sk-toggleable\"><input class=\"sk-toggleable__control sk-hidden--visually\" id=\"b98555f0-105c-4edc-945d-f2c2d2fa5fc5\" type=\"checkbox\" ><label for=\"b98555f0-105c-4edc-945d-f2c2d2fa5fc5\" class=\"sk-toggleable__label sk-toggleable__label-arrow\">OneHotEncoder</label><div class=\"sk-toggleable__content\"><pre>OneHotEncoder(handle_unknown=&#x27;ignore&#x27;)</pre></div></div></div></div></div></div></div></div></div></div><div class=\"sk-item\"><div class=\"sk-estimator sk-toggleable\"><input class=\"sk-toggleable__control sk-hidden--visually\" id=\"727fb47c-e1bb-401e-9ed9-6f1c25ad13f3\" type=\"checkbox\" ><label for=\"727fb47c-e1bb-401e-9ed9-6f1c25ad13f3\" class=\"sk-toggleable__label sk-toggleable__label-arrow\">DecisionTreeRegressor</label><div class=\"sk-toggleable__content\"><pre>DecisionTreeRegressor()</pre></div></div></div></div></div></div></div>"
      ],
      "text/plain": [
       "Pipeline(steps=[('columntransformer',\n",
       "                 ColumnTransformer(transformers=[('pipeline-1',\n",
       "                                                  Pipeline(steps=[('simpleimputer',\n",
       "                                                                   SimpleImputer()),\n",
       "                                                                  ('minmaxscaler',\n",
       "                                                                   MinMaxScaler())]),\n",
       "                                                  ['MSSubClass', 'LotFrontage',\n",
       "                                                   'LotArea', 'OverallQual',\n",
       "                                                   'OverallCond', 'YearBuilt',\n",
       "                                                   'YearRemodAdd', 'MasVnrArea',\n",
       "                                                   'BsmtFinSF1', 'BsmtFinSF2',\n",
       "                                                   'BsmtUnfSF', 'TotalBsmtSF',\n",
       "                                                   '1stFlrSF', '2ndFlrSF',\n",
       "                                                   'Lo...\n",
       "                                                   'LotConfig', 'LandSlope',\n",
       "                                                   'BldgType', 'RoofStyle',\n",
       "                                                   'MasVnrType', 'ExterQual',\n",
       "                                                   'ExterCond', 'Foundation',\n",
       "                                                   'BsmtQual', 'BsmtCond',\n",
       "                                                   'BsmtExposure',\n",
       "                                                   'BsmtFinType1',\n",
       "                                                   'BsmtFinType2', 'Heating',\n",
       "                                                   'HeatingQC', 'CentralAir',\n",
       "                                                   'Electrical', 'KitchenQual',\n",
       "                                                   'FireplaceQu', 'GarageType',\n",
       "                                                   'GarageFinish', 'GarageQual',\n",
       "                                                   'GarageCond', 'PavedDrive', ...])])),\n",
       "                ('decisiontreeregressor', DecisionTreeRegressor())])"
      ]
     },
     "execution_count": 17,
     "metadata": {},
     "output_type": "execute_result"
    }
   ],
   "source": [
    "# YOUR CODE HERE\n",
    "from sklearn.tree import DecisionTreeRegressor\n",
    "\n",
    "pipe_baseline = make_pipeline(prep,\n",
    "                              DecisionTreeRegressor()\n",
    "                              )\n",
    "\n",
    "pipe_baseline"
   ]
  },
  {
   "cell_type": "markdown",
   "metadata": {
    "hidden": true
   },
   "source": [
    "### c) Cross-Validate"
   ]
  },
  {
   "cell_type": "markdown",
   "metadata": {
    "hidden": true
   },
   "source": [
    "❓ Read the Kaggle [contest evaluation rules](https://www.kaggle.com/c/house-prices-advanced-regression-techniques/overview/evaluation) \n",
    "- Which performance metric do you need? Is it readily available in sklearn?\n",
    "- We will need to create our custom `sklearn.metrics.scorer` object so as to pass to any cross-validation or grid search as below\n",
    "\n",
    "\n",
    "👉 Create a scorer called `rmsle` using [`make_scorer`](https://scikit-learn.org/stable/modules/generated/sklearn.metrics.make_scorer.html) that can be passed as a value for the `scoring` kwarg as below:\n",
    "```python\n",
    "cross_val_score(pipe_baseline, X, y, cv=5, scoring=rmsle)\n",
    "```\n",
    "👉 Create also the negative version `rmsle_neg` which is best when _maximized_. This will come handy later as `GridSearchCV` always tries to _maximize_ a score\n",
    "```python\n",
    "GridSearchCV(pipe_baseline, param_grid=..., cv=5, scoring=rmse_neg)\n",
    "```"
   ]
  },
  {
   "cell_type": "markdown",
   "metadata": {
    "hidden": true
   },
   "source": [
    "$$\\text{RMSLE}(y, \\hat{y}) = \\sqrt{\\frac{1}{n_\\text{samples}} \\sum_{i=0}^{n_\\text{samples} - 1} (\\log_e (1 + y_i) - \\log_e (1 + \\hat{y}_i) )^2.}$$"
   ]
  },
  {
   "cell_type": "code",
   "execution_count": 18,
   "metadata": {
    "hidden": true,
    "tags": [
     "challengify"
    ]
   },
   "outputs": [],
   "source": [
    "# YOUR CODE HERE\n",
    "#Scoring based on RMSE\n",
    "from sklearn.metrics import mean_squared_log_error\n",
    "from sklearn.metrics import make_scorer\n",
    "\n",
    "#This is our metric to miinimze\n",
    "rmsle = make_scorer(lambda y_true, y_pred: mean_squared_log_error(y_true, y_pred)**0.5 )\n",
    "\n",
    "# This is our score to maximize\n",
    "rmsle_neg = make_scorer(lambda y_true, y_pred: -1 * mean_squared_log_error(y_true, y_pred)**0.5 )\n"
   ]
  },
  {
   "cell_type": "markdown",
   "metadata": {
    "hidden": true
   },
   "source": [
    "❓5-fold cross_validate your `pipe_baseline` using this metric to get a first glance at your baseline perf.    \n",
    "\n",
    "Store your mean score as `score_baseline`"
   ]
  },
  {
   "cell_type": "code",
   "execution_count": 19,
   "metadata": {
    "hidden": true,
    "tags": [
     "challengify"
    ]
   },
   "outputs": [],
   "source": [
    "# YOUR CODE HERE\n",
    "from sklearn.model_selection import cross_val_score\n",
    "\n",
    "cv_score = cross_val_score(pipe_baseline, X, y, \n",
    "                           cv = 5,\n",
    "                           n_jobs = -1,\n",
    "                           scoring = rmsle)\n",
    "\n",
    "score_baseline = cv_score.mean()"
   ]
  },
  {
   "cell_type": "markdown",
   "metadata": {
    "hidden": true
   },
   "source": [
    "### d) Predict baseline"
   ]
  },
  {
   "cell_type": "markdown",
   "metadata": {
    "hidden": true
   },
   "source": [
    "❓ Predict `y_pred_baseline` from the Kaggle `test.csv` dataset you stored in the `data` folder."
   ]
  },
  {
   "cell_type": "code",
   "execution_count": 20,
   "metadata": {
    "hidden": true,
    "tags": [
     "challengify"
    ]
   },
   "outputs": [],
   "source": [
    "# YOUR CODE HERE\n",
    "test_data = pd.read_csv(\"data/test.csv\")\n",
    "\n",
    "X_test = test_data.drop(columns = \"Id\")\n",
    "\n",
    "pipe_baseline.fit(X,y)\n",
    "\n",
    "y_pred = pipe_baseline.predict(X_test)"
   ]
  },
  {
   "cell_type": "markdown",
   "metadata": {
    "hidden": true
   },
   "source": [
    "❓ Finally, store your CSV ready to be submitted as `submission_baseline.csv` in the `data` folder. Read carefully the Kaggle required format and test it below (you don't need to submit this baseline online for now)."
   ]
  },
  {
   "cell_type": "code",
   "execution_count": 21,
   "metadata": {
    "hidden": true,
    "tags": [
     "challengify"
    ]
   },
   "outputs": [],
   "source": [
    "# YOUR CODE HERE\n",
    "baseline_submission = pd.DataFrame(index = test_data['Id'], data = y_pred, columns = ['SalePrice'])\n",
    "# baseline_submission['SalePrice'] = y_pred\n",
    "# baseline_submission.to_csv('data/submission_baseline.csv')"
   ]
  },
  {
   "cell_type": "code",
   "execution_count": 22,
   "metadata": {
    "hidden": true
   },
   "outputs": [
    {
     "data": {
      "text/html": [
       "<div>\n",
       "<style scoped>\n",
       "    .dataframe tbody tr th:only-of-type {\n",
       "        vertical-align: middle;\n",
       "    }\n",
       "\n",
       "    .dataframe tbody tr th {\n",
       "        vertical-align: top;\n",
       "    }\n",
       "\n",
       "    .dataframe thead th {\n",
       "        text-align: right;\n",
       "    }\n",
       "</style>\n",
       "<table border=\"1\" class=\"dataframe\">\n",
       "  <thead>\n",
       "    <tr style=\"text-align: right;\">\n",
       "      <th></th>\n",
       "      <th>SalePrice</th>\n",
       "    </tr>\n",
       "    <tr>\n",
       "      <th>Id</th>\n",
       "      <th></th>\n",
       "    </tr>\n",
       "  </thead>\n",
       "  <tbody>\n",
       "    <tr>\n",
       "      <th>1461</th>\n",
       "      <td>129000.0</td>\n",
       "    </tr>\n",
       "    <tr>\n",
       "      <th>1462</th>\n",
       "      <td>157000.0</td>\n",
       "    </tr>\n",
       "    <tr>\n",
       "      <th>1463</th>\n",
       "      <td>204000.0</td>\n",
       "    </tr>\n",
       "    <tr>\n",
       "      <th>1464</th>\n",
       "      <td>169000.0</td>\n",
       "    </tr>\n",
       "    <tr>\n",
       "      <th>1465</th>\n",
       "      <td>210000.0</td>\n",
       "    </tr>\n",
       "    <tr>\n",
       "      <th>...</th>\n",
       "      <td>...</td>\n",
       "    </tr>\n",
       "    <tr>\n",
       "      <th>2915</th>\n",
       "      <td>82500.0</td>\n",
       "    </tr>\n",
       "    <tr>\n",
       "      <th>2916</th>\n",
       "      <td>83500.0</td>\n",
       "    </tr>\n",
       "    <tr>\n",
       "      <th>2917</th>\n",
       "      <td>139000.0</td>\n",
       "    </tr>\n",
       "    <tr>\n",
       "      <th>2918</th>\n",
       "      <td>93500.0</td>\n",
       "    </tr>\n",
       "    <tr>\n",
       "      <th>2919</th>\n",
       "      <td>176000.0</td>\n",
       "    </tr>\n",
       "  </tbody>\n",
       "</table>\n",
       "<p>1459 rows × 1 columns</p>\n",
       "</div>"
      ],
      "text/plain": [
       "      SalePrice\n",
       "Id             \n",
       "1461   129000.0\n",
       "1462   157000.0\n",
       "1463   204000.0\n",
       "1464   169000.0\n",
       "1465   210000.0\n",
       "...         ...\n",
       "2915    82500.0\n",
       "2916    83500.0\n",
       "2917   139000.0\n",
       "2918    93500.0\n",
       "2919   176000.0\n",
       "\n",
       "[1459 rows x 1 columns]"
      ]
     },
     "execution_count": 22,
     "metadata": {},
     "output_type": "execute_result"
    }
   ],
   "source": [
    "baseline_submission"
   ]
  },
  {
   "cell_type": "code",
   "execution_count": 23,
   "metadata": {
    "hidden": true
   },
   "outputs": [],
   "source": [
    "baseline_submission.to_csv('data/submission_baseline.csv')"
   ]
  },
  {
   "cell_type": "markdown",
   "metadata": {
    "hidden": true
   },
   "source": [
    "🧪 Test your code"
   ]
  },
  {
   "cell_type": "code",
   "execution_count": 24,
   "metadata": {
    "hidden": true
   },
   "outputs": [
    {
     "name": "stdout",
     "output_type": "stream",
     "text": [
      "\u001b[1m============================= test session starts ==============================\u001b[0m\n",
      "platform darwin -- Python 3.9.8, pytest-6.2.5, py-1.11.0, pluggy-1.0.0 -- /Users/josephgulay/.pyenv/versions/lewagon/bin/python3\n",
      "cachedir: .pytest_cache\n",
      "rootdir: /Users/josephgulay/code/roadbusta/data-challenges-recap/05-ML/07-Ensemble-Methods/01-Houses-Kaggle-Competition\n",
      "plugins: anyio-3.4.0\n",
      "\u001b[1mcollecting ... \u001b[0mcollected 4 items\n",
      "\n",
      "tests/test_submission_baseline.py::TestSubmissionBaseline::test_score_baseline \u001b[32mPASSED\u001b[0m\u001b[32m [ 25%]\u001b[0m\n",
      "tests/test_submission_baseline.py::TestSubmissionBaseline::test_submission_columns \u001b[32mPASSED\u001b[0m\u001b[32m [ 50%]\u001b[0m\n",
      "tests/test_submission_baseline.py::TestSubmissionBaseline::test_submission_dtypes \u001b[32mPASSED\u001b[0m\u001b[32m [ 75%]\u001b[0m\n",
      "tests/test_submission_baseline.py::TestSubmissionBaseline::test_submission_shape \u001b[32mPASSED\u001b[0m\u001b[32m [100%]\u001b[0m\n",
      "\n",
      "\u001b[32m============================== \u001b[32m\u001b[1m4 passed\u001b[0m\u001b[32m in 0.25s\u001b[0m\u001b[32m ===============================\u001b[0m\n",
      "\n",
      "\n",
      "💯 You can commit your code:\n",
      "\n",
      "\u001b[1;32mgit\u001b[39m add tests/submission_baseline.pickle\n",
      "\n",
      "\u001b[32mgit\u001b[39m commit -m \u001b[33m'Completed submission_baseline step'\u001b[39m\n",
      "\n",
      "\u001b[32mgit\u001b[39m push origin master\n"
     ]
    }
   ],
   "source": [
    "from nbresult import ChallengeResult\n",
    "tmp = pd.read_csv(\"data/submission_baseline.csv\")\n",
    "result = ChallengeResult('submission_baseline',\n",
    "    score_baseline = score_baseline,\n",
    "    submission_shape = tmp.shape,\n",
    "    submission_columns = list(tmp.columns),\n",
    "    submission_dtypes = str(list(tmp.dtypes)),\n",
    ")\n",
    "result.write()\n",
    "print(result.check())"
   ]
  },
  {
   "cell_type": "markdown",
   "metadata": {},
   "source": [
    "# 🏋️‍♀️ 2. ITERATIONS "
   ]
  },
  {
   "cell_type": "markdown",
   "metadata": {},
   "source": [
    "🎉 🎉 Congratulation for having fully pipelined a basline model! You will see now how easier it is to iterate and improve performance 🚀\n",
    "\n",
    "- Your goal is to improve your prediction and submit it by **16h30 max online**\n",
    "- We suggested you some improvements below: **Pick up your fights** and **incrementally** improve your pipeline as you see fit"
   ]
  },
  {
   "cell_type": "markdown",
   "metadata": {},
   "source": [
    "**Estimators**\n",
    "\n",
    "- **Tree-based ensembles (must try today)**: Probably the best suited for many categorical-features problems\n",
    "- Stacking !\n",
    "- XGBoost !\n",
    "\n",
    "**Preprocessing** (once your first ensemble models works)\n",
    "\n",
    "- Ordinal Encoding of categorical features with a hidden notion of order in their values (e.g. \"bad\", \"average\", good\")\n",
    "- Statistical Feature Selection to remove useless features (avoid overfitting and reduce train time)\n",
    "- Predict log(SalePrice) instead?\n",
    "- ..."
   ]
  },
  {
   "cell_type": "markdown",
   "metadata": {},
   "source": [
    "## 2.1 Preprocessing Iteration ♲ \n",
    "(**⚠️ come back here only after you have iterated on your estimators on section 2.2)**\n",
    "\n",
    "⏩ Collapse me if you don't use me!"
   ]
  },
  {
   "cell_type": "markdown",
   "metadata": {},
   "source": [
    "### a) Ordinal Encoding (1h)"
   ]
  },
  {
   "cell_type": "markdown",
   "metadata": {},
   "source": [
    "❓ Look at the following feature below. Couldn't it be encoded numerically in a wise manner?\n",
    "```\n",
    "ExterQual: Evaluates the quality of the material on the exterior \n",
    "\t\t\n",
    "       Ex\tExcellent\n",
    "       Gd\tGood\n",
    "       TA\tAverage/Typical\n",
    "       Fa\tFair\n",
    "       Po\tPoor\n",
    "```"
   ]
  },
  {
   "cell_type": "markdown",
   "metadata": {},
   "source": [
    "💡 Luckily, the `OrdinalEncoder` and its argument `categories`  allows us to do just that. Check it out below and make sure to understand how this works"
   ]
  },
  {
   "cell_type": "code",
   "execution_count": 25,
   "metadata": {},
   "outputs": [],
   "source": [
    "from sklearn.preprocessing import OrdinalEncoder"
   ]
  },
  {
   "cell_type": "code",
   "execution_count": 26,
   "metadata": {},
   "outputs": [],
   "source": [
    "# Define specific order for features\n",
    "# Note: if you change this order, it will change the output for .transform()\n",
    "# feature_A_sorted_values = ['bad', 'average', 'good'] \n",
    "# feature_B_sorted_values = ['dirty', 'clean', 'new']\n",
    "\n",
    "# encoder = OrdinalEncoder(\n",
    "#     categories=[\n",
    "#         feature_A_sorted_values,\n",
    "#         feature_B_sorted_values\n",
    "#     ],\n",
    "#     handle_unknown=\"use_encoded_value\",\n",
    "#     unknown_value=-1\n",
    "# )\n",
    "\n",
    "# # Just some random training data\n",
    "# XX = [\n",
    "#     ['good', 'dirty'],\n",
    "#     ['bad', 'new'],\n",
    "#     ['average', 'clean'],\n",
    "# ]\n",
    "\n",
    "# encoder.fit(XX)\n",
    "\n",
    "# encoder.transform([\n",
    "#         ['bad', \"dirty\"],\n",
    "#         [\"average\", \"clean\"],\n",
    "#         ['good', 'new'],\n",
    "#         ['bad', 'oooops never seen this label before']\n",
    "# ])\n",
    "\n",
    "\n",
    "\n"
   ]
  },
  {
   "cell_type": "markdown",
   "metadata": {},
   "source": [
    "---\n",
    "❓ **Your turn**: split your categorical preprocessor into\n",
    "\n",
    "- `preproc_ordinal` to ordinally encode **some features** of your choice\n",
    "- `preproc_nominal` to one hot encode the other ones\n",
    "\n",
    "\n",
    "<details>\n",
    "    <summary>Hints</summary>\n",
    "\n",
    "- You won't be able to avoid hard-coding names and ordered values of features! Be tidy!\n",
    "- It's a good practice to sort alphabetically your features to avoid bad surprises\n",
    "</details>"
   ]
  },
  {
   "cell_type": "code",
   "execution_count": 27,
   "metadata": {},
   "outputs": [],
   "source": [
    "#List categorical features\n",
    "feat_categorical_nunique\n",
    "\n",
    "#Ordinal array\n",
    "ordinal_X = X[[\"ExterQual\", \"ExterCond\", \"BsmtQual\", \"BsmtCond\", \"BsmtFinType1\", \"BsmtFinType2\", \"HeatingQC\", \"KitchenQual\", \"FireplaceQu\", \"GarageFinish\", \"GarageQual\", \"GarageCond\", \"PoolQC\", \"Fence\"]]\n",
    "\n",
    "\n",
    "#Define and sort ord_cat_list\n",
    "ord_cat_list = [\"ExterQual\", \"ExterCond\", \"BsmtQual\", \"BsmtCond\", \"BsmtFinType1\", \"BsmtFinType2\", \"HeatingQC\", \"KitchenQual\", \"FireplaceQu\", \"GarageFinish\", \"GarageQual\", \"GarageCond\", \"PoolQC\", \"Fence\"]\n",
    "ord_cat_list.sort()\n",
    "\n",
    "#Note that this is in reverse order\n",
    "BsmtCond_s_val = ['Ex', 'Gd', 'TA', 'Fa', 'Po', 'NA']\n",
    "BsmtFinType1_s_val = ['GLQ', 'ALQ', 'BLQ', 'Rec', 'LwQ', 'Unf', 'NA']\n",
    "BsmtFinType2_s_val = ['GLQ', 'ALQ', 'BLQ', 'Rec', 'LwQ', 'Unf', 'NA']\n",
    "BsmtQual_s_val = ['Ex', 'Gd', 'TA', 'Fa', 'Po', 'NA']\n",
    "ExterCond_s_val = ['Ex', 'Gd', 'TA', 'Fa', 'Po']\n",
    "ExterQual_s_val = ['Ex', 'Gd', 'TA', 'Fa', 'Po']\n",
    "Fence_s_val = ['GdPrv', 'MnPrv', 'GdWo', 'MnWw', 'NA']\n",
    "FireplaceQu_s_val = ['Ex', 'Gd', 'TA', 'Fa', 'Po', 'NA']\n",
    "GarageCond_s_val = ['Ex', 'Gd', 'TA', 'Fa', 'Po', 'NA']\n",
    "GarageFinish_s_val = ['Fin', 'RFn', 'Unf', 'NA']\n",
    "GarageQual_s_val = ['Ex', 'Gd', 'TA', 'Fa', 'Po', 'NA']\n",
    "HeatingQC_s_val = ['Ex', 'Gd', 'TA', 'Fa', 'Po']\n",
    "KitchenQual_s_val = ['Ex', 'Gd', 'TA', 'Fa', 'Po']\n",
    "PoolQC_s_val = ['Ex', 'Gd', 'TA', 'Fa', 'NA']\n",
    "\n",
    "#Reverse the order of the list\n",
    "BsmtCond_s_val.reverse() \n",
    "BsmtFinType1_s_val.reverse()\n",
    "BsmtFinType2_s_val.reverse()\n",
    "BsmtQual_s_val.reverse() \n",
    "ExterCond_s_val.reverse() \n",
    "ExterQual_s_val.reverse() \n",
    "Fence_s_val.reverse() \n",
    "FireplaceQu_s_val.reverse() \n",
    "GarageCond_s_val.reverse() \n",
    "GarageFinish_s_val.reverse()\n",
    "GarageQual_s_val.reverse() \n",
    "HeatingQC_s_val.reverse() \n",
    "KitchenQual_s_val.reverse() \n",
    "PoolQC_s_val.reverse() \n",
    "\n",
    "# Ordinal categories list\n",
    "categories=[\n",
    "        BsmtCond_s_val,\n",
    "        BsmtFinType1_s_val,\n",
    "        BsmtFinType2_s_val,\n",
    "        BsmtQual_s_val,\n",
    "        ExterCond_s_val,\n",
    "        ExterQual_s_val,\n",
    "        Fence_s_val,\n",
    "        FireplaceQu_s_val,\n",
    "        GarageCond_s_val,\n",
    "        GarageFinish_s_val,\n",
    "        GarageQual_s_val,\n",
    "        HeatingQC_s_val,\n",
    "        KitchenQual_s_val,\n",
    "        PoolQC_s_val\n",
    "    ]\n",
    "\n",
    "\n",
    "# Create encoder\n",
    "o_encoder = OrdinalEncoder(\n",
    "    categories= categories,\n",
    "    handle_unknown=\"use_encoded_value\",\n",
    "    unknown_value=-1\n",
    ")\n",
    "\n"
   ]
  },
  {
   "cell_type": "code",
   "execution_count": 28,
   "metadata": {},
   "outputs": [
    {
     "data": {
      "text/html": [
       "<div>\n",
       "<style scoped>\n",
       "    .dataframe tbody tr th:only-of-type {\n",
       "        vertical-align: middle;\n",
       "    }\n",
       "\n",
       "    .dataframe tbody tr th {\n",
       "        vertical-align: top;\n",
       "    }\n",
       "\n",
       "    .dataframe thead th {\n",
       "        text-align: right;\n",
       "    }\n",
       "</style>\n",
       "<table border=\"1\" class=\"dataframe\">\n",
       "  <thead>\n",
       "    <tr style=\"text-align: right;\">\n",
       "      <th></th>\n",
       "      <th>BsmtCond</th>\n",
       "      <th>BsmtFinType1</th>\n",
       "      <th>BsmtFinType2</th>\n",
       "      <th>BsmtQual</th>\n",
       "      <th>ExterCond</th>\n",
       "      <th>ExterQual</th>\n",
       "      <th>Fence</th>\n",
       "      <th>FireplaceQu</th>\n",
       "      <th>GarageCond</th>\n",
       "      <th>GarageFinish</th>\n",
       "      <th>GarageQual</th>\n",
       "      <th>HeatingQC</th>\n",
       "      <th>KitchenQual</th>\n",
       "      <th>PoolQC</th>\n",
       "    </tr>\n",
       "  </thead>\n",
       "  <tbody>\n",
       "    <tr>\n",
       "      <th>0</th>\n",
       "      <td>TA</td>\n",
       "      <td>GLQ</td>\n",
       "      <td>Unf</td>\n",
       "      <td>Gd</td>\n",
       "      <td>TA</td>\n",
       "      <td>Gd</td>\n",
       "      <td>NaN</td>\n",
       "      <td>NaN</td>\n",
       "      <td>TA</td>\n",
       "      <td>RFn</td>\n",
       "      <td>TA</td>\n",
       "      <td>Ex</td>\n",
       "      <td>Gd</td>\n",
       "      <td>NaN</td>\n",
       "    </tr>\n",
       "    <tr>\n",
       "      <th>1</th>\n",
       "      <td>TA</td>\n",
       "      <td>ALQ</td>\n",
       "      <td>Unf</td>\n",
       "      <td>Gd</td>\n",
       "      <td>TA</td>\n",
       "      <td>TA</td>\n",
       "      <td>NaN</td>\n",
       "      <td>TA</td>\n",
       "      <td>TA</td>\n",
       "      <td>RFn</td>\n",
       "      <td>TA</td>\n",
       "      <td>Ex</td>\n",
       "      <td>TA</td>\n",
       "      <td>NaN</td>\n",
       "    </tr>\n",
       "    <tr>\n",
       "      <th>2</th>\n",
       "      <td>TA</td>\n",
       "      <td>GLQ</td>\n",
       "      <td>Unf</td>\n",
       "      <td>Gd</td>\n",
       "      <td>TA</td>\n",
       "      <td>Gd</td>\n",
       "      <td>NaN</td>\n",
       "      <td>TA</td>\n",
       "      <td>TA</td>\n",
       "      <td>RFn</td>\n",
       "      <td>TA</td>\n",
       "      <td>Ex</td>\n",
       "      <td>Gd</td>\n",
       "      <td>NaN</td>\n",
       "    </tr>\n",
       "    <tr>\n",
       "      <th>3</th>\n",
       "      <td>Gd</td>\n",
       "      <td>ALQ</td>\n",
       "      <td>Unf</td>\n",
       "      <td>TA</td>\n",
       "      <td>TA</td>\n",
       "      <td>TA</td>\n",
       "      <td>NaN</td>\n",
       "      <td>Gd</td>\n",
       "      <td>TA</td>\n",
       "      <td>Unf</td>\n",
       "      <td>TA</td>\n",
       "      <td>Gd</td>\n",
       "      <td>Gd</td>\n",
       "      <td>NaN</td>\n",
       "    </tr>\n",
       "    <tr>\n",
       "      <th>4</th>\n",
       "      <td>TA</td>\n",
       "      <td>GLQ</td>\n",
       "      <td>Unf</td>\n",
       "      <td>Gd</td>\n",
       "      <td>TA</td>\n",
       "      <td>Gd</td>\n",
       "      <td>NaN</td>\n",
       "      <td>TA</td>\n",
       "      <td>TA</td>\n",
       "      <td>RFn</td>\n",
       "      <td>TA</td>\n",
       "      <td>Ex</td>\n",
       "      <td>Gd</td>\n",
       "      <td>NaN</td>\n",
       "    </tr>\n",
       "    <tr>\n",
       "      <th>...</th>\n",
       "      <td>...</td>\n",
       "      <td>...</td>\n",
       "      <td>...</td>\n",
       "      <td>...</td>\n",
       "      <td>...</td>\n",
       "      <td>...</td>\n",
       "      <td>...</td>\n",
       "      <td>...</td>\n",
       "      <td>...</td>\n",
       "      <td>...</td>\n",
       "      <td>...</td>\n",
       "      <td>...</td>\n",
       "      <td>...</td>\n",
       "      <td>...</td>\n",
       "    </tr>\n",
       "    <tr>\n",
       "      <th>1455</th>\n",
       "      <td>TA</td>\n",
       "      <td>Unf</td>\n",
       "      <td>Unf</td>\n",
       "      <td>Gd</td>\n",
       "      <td>TA</td>\n",
       "      <td>TA</td>\n",
       "      <td>NaN</td>\n",
       "      <td>TA</td>\n",
       "      <td>TA</td>\n",
       "      <td>RFn</td>\n",
       "      <td>TA</td>\n",
       "      <td>Ex</td>\n",
       "      <td>TA</td>\n",
       "      <td>NaN</td>\n",
       "    </tr>\n",
       "    <tr>\n",
       "      <th>1456</th>\n",
       "      <td>TA</td>\n",
       "      <td>ALQ</td>\n",
       "      <td>Rec</td>\n",
       "      <td>Gd</td>\n",
       "      <td>TA</td>\n",
       "      <td>TA</td>\n",
       "      <td>MnPrv</td>\n",
       "      <td>TA</td>\n",
       "      <td>TA</td>\n",
       "      <td>Unf</td>\n",
       "      <td>TA</td>\n",
       "      <td>TA</td>\n",
       "      <td>TA</td>\n",
       "      <td>NaN</td>\n",
       "    </tr>\n",
       "    <tr>\n",
       "      <th>1457</th>\n",
       "      <td>Gd</td>\n",
       "      <td>GLQ</td>\n",
       "      <td>Unf</td>\n",
       "      <td>TA</td>\n",
       "      <td>Gd</td>\n",
       "      <td>Ex</td>\n",
       "      <td>GdPrv</td>\n",
       "      <td>Gd</td>\n",
       "      <td>TA</td>\n",
       "      <td>RFn</td>\n",
       "      <td>TA</td>\n",
       "      <td>Ex</td>\n",
       "      <td>Gd</td>\n",
       "      <td>NaN</td>\n",
       "    </tr>\n",
       "    <tr>\n",
       "      <th>1458</th>\n",
       "      <td>TA</td>\n",
       "      <td>GLQ</td>\n",
       "      <td>Rec</td>\n",
       "      <td>TA</td>\n",
       "      <td>TA</td>\n",
       "      <td>TA</td>\n",
       "      <td>NaN</td>\n",
       "      <td>NaN</td>\n",
       "      <td>TA</td>\n",
       "      <td>Unf</td>\n",
       "      <td>TA</td>\n",
       "      <td>Gd</td>\n",
       "      <td>Gd</td>\n",
       "      <td>NaN</td>\n",
       "    </tr>\n",
       "    <tr>\n",
       "      <th>1459</th>\n",
       "      <td>TA</td>\n",
       "      <td>BLQ</td>\n",
       "      <td>LwQ</td>\n",
       "      <td>TA</td>\n",
       "      <td>TA</td>\n",
       "      <td>Gd</td>\n",
       "      <td>NaN</td>\n",
       "      <td>NaN</td>\n",
       "      <td>TA</td>\n",
       "      <td>Fin</td>\n",
       "      <td>TA</td>\n",
       "      <td>Gd</td>\n",
       "      <td>TA</td>\n",
       "      <td>NaN</td>\n",
       "    </tr>\n",
       "  </tbody>\n",
       "</table>\n",
       "<p>1460 rows × 14 columns</p>\n",
       "</div>"
      ],
      "text/plain": [
       "     BsmtCond BsmtFinType1 BsmtFinType2 BsmtQual ExterCond ExterQual  Fence  \\\n",
       "0          TA          GLQ          Unf       Gd        TA        Gd    NaN   \n",
       "1          TA          ALQ          Unf       Gd        TA        TA    NaN   \n",
       "2          TA          GLQ          Unf       Gd        TA        Gd    NaN   \n",
       "3          Gd          ALQ          Unf       TA        TA        TA    NaN   \n",
       "4          TA          GLQ          Unf       Gd        TA        Gd    NaN   \n",
       "...       ...          ...          ...      ...       ...       ...    ...   \n",
       "1455       TA          Unf          Unf       Gd        TA        TA    NaN   \n",
       "1456       TA          ALQ          Rec       Gd        TA        TA  MnPrv   \n",
       "1457       Gd          GLQ          Unf       TA        Gd        Ex  GdPrv   \n",
       "1458       TA          GLQ          Rec       TA        TA        TA    NaN   \n",
       "1459       TA          BLQ          LwQ       TA        TA        Gd    NaN   \n",
       "\n",
       "     FireplaceQu GarageCond GarageFinish GarageQual HeatingQC KitchenQual  \\\n",
       "0            NaN         TA          RFn         TA        Ex          Gd   \n",
       "1             TA         TA          RFn         TA        Ex          TA   \n",
       "2             TA         TA          RFn         TA        Ex          Gd   \n",
       "3             Gd         TA          Unf         TA        Gd          Gd   \n",
       "4             TA         TA          RFn         TA        Ex          Gd   \n",
       "...          ...        ...          ...        ...       ...         ...   \n",
       "1455          TA         TA          RFn         TA        Ex          TA   \n",
       "1456          TA         TA          Unf         TA        TA          TA   \n",
       "1457          Gd         TA          RFn         TA        Ex          Gd   \n",
       "1458         NaN         TA          Unf         TA        Gd          Gd   \n",
       "1459         NaN         TA          Fin         TA        Gd          TA   \n",
       "\n",
       "     PoolQC  \n",
       "0       NaN  \n",
       "1       NaN  \n",
       "2       NaN  \n",
       "3       NaN  \n",
       "4       NaN  \n",
       "...     ...  \n",
       "1455    NaN  \n",
       "1456    NaN  \n",
       "1457    NaN  \n",
       "1458    NaN  \n",
       "1459    NaN  \n",
       "\n",
       "[1460 rows x 14 columns]"
      ]
     },
     "execution_count": 28,
     "metadata": {},
     "output_type": "execute_result"
    }
   ],
   "source": [
    "#Define test set XX\n",
    "XX = X[ord_cat_list]\n",
    "XX"
   ]
  },
  {
   "cell_type": "code",
   "execution_count": 29,
   "metadata": {},
   "outputs": [
    {
     "data": {
      "text/plain": [
       "array([[ 3.,  6.,  1.,  4.,  2.,  3., -1., -1.,  3.,  2.,  3.,  4.,  3.,\n",
       "        -1.],\n",
       "       [ 3.,  5.,  1.,  4.,  2.,  2., -1.,  3.,  3.,  2.,  3.,  4.,  2.,\n",
       "        -1.],\n",
       "       [ 3.,  6.,  1.,  4.,  2.,  3., -1.,  3.,  3.,  2.,  3.,  4.,  3.,\n",
       "        -1.],\n",
       "       [ 4.,  5.,  1.,  3.,  2.,  2., -1.,  4.,  3.,  1.,  3.,  3.,  3.,\n",
       "        -1.],\n",
       "       [ 3.,  6.,  1.,  4.,  2.,  3., -1.,  3.,  3.,  2.,  3.,  4.,  3.,\n",
       "        -1.],\n",
       "       [ 3.,  6.,  1.,  4.,  2.,  2.,  3., -1.,  3.,  1.,  3.,  4.,  2.,\n",
       "        -1.],\n",
       "       [ 3.,  6.,  1.,  5.,  2.,  3., -1.,  4.,  3.,  2.,  3.,  4.,  3.,\n",
       "        -1.],\n",
       "       [ 3.,  5.,  4.,  4.,  2.,  2., -1.,  3.,  3.,  2.,  3.,  4.,  2.,\n",
       "        -1.],\n",
       "       [ 3.,  1.,  1.,  3.,  2.,  2., -1.,  3.,  3.,  1.,  2.,  3.,  2.,\n",
       "        -1.],\n",
       "       [ 3.,  6.,  1.,  3.,  2.,  2., -1.,  3.,  3.,  2.,  4.,  4.,  2.,\n",
       "        -1.]])"
      ]
     },
     "execution_count": 29,
     "metadata": {},
     "output_type": "execute_result"
    }
   ],
   "source": [
    "#Test the encoder\n",
    "o_encoder.fit(XX)\n",
    "o_encoder.transform(XX)[0:10]"
   ]
  },
  {
   "cell_type": "code",
   "execution_count": 30,
   "metadata": {},
   "outputs": [
    {
     "data": {
      "text/plain": [
       "['MSZoning',\n",
       " 'Street',\n",
       " 'Alley',\n",
       " 'LotShape',\n",
       " 'LandContour',\n",
       " 'Utilities',\n",
       " 'LotConfig',\n",
       " 'LandSlope',\n",
       " 'Neighborhood',\n",
       " 'Condition1',\n",
       " 'Condition2',\n",
       " 'BldgType',\n",
       " 'HouseStyle',\n",
       " 'RoofStyle',\n",
       " 'RoofMatl',\n",
       " 'Exterior1st',\n",
       " 'Exterior2nd',\n",
       " 'MasVnrType',\n",
       " 'Foundation',\n",
       " 'BsmtExposure',\n",
       " 'Heating',\n",
       " 'CentralAir',\n",
       " 'Electrical',\n",
       " 'Functional',\n",
       " 'GarageType',\n",
       " 'PavedDrive',\n",
       " 'MiscFeature',\n",
       " 'SaleType',\n",
       " 'SaleCondition']"
      ]
     },
     "execution_count": 30,
     "metadata": {},
     "output_type": "execute_result"
    }
   ],
   "source": [
    "cat_list = list(X.select_dtypes(include = 'object'))\n",
    "nom_cat_list = [heading for heading in cat_list if heading not in ord_cat_list]\n",
    "nom_cat_list"
   ]
  },
  {
   "cell_type": "code",
   "execution_count": 31,
   "metadata": {},
   "outputs": [
    {
     "data": {
      "text/html": [
       "<div>\n",
       "<style scoped>\n",
       "    .dataframe tbody tr th:only-of-type {\n",
       "        vertical-align: middle;\n",
       "    }\n",
       "\n",
       "    .dataframe tbody tr th {\n",
       "        vertical-align: top;\n",
       "    }\n",
       "\n",
       "    .dataframe thead th {\n",
       "        text-align: right;\n",
       "    }\n",
       "</style>\n",
       "<table border=\"1\" class=\"dataframe\">\n",
       "  <thead>\n",
       "    <tr style=\"text-align: right;\">\n",
       "      <th></th>\n",
       "      <th>MSSubClass</th>\n",
       "      <th>MSZoning</th>\n",
       "      <th>LotFrontage</th>\n",
       "      <th>LotArea</th>\n",
       "      <th>Street</th>\n",
       "      <th>Alley</th>\n",
       "      <th>LotShape</th>\n",
       "      <th>LandContour</th>\n",
       "      <th>Utilities</th>\n",
       "      <th>LotConfig</th>\n",
       "      <th>...</th>\n",
       "      <th>ScreenPorch</th>\n",
       "      <th>PoolArea</th>\n",
       "      <th>PoolQC</th>\n",
       "      <th>Fence</th>\n",
       "      <th>MiscFeature</th>\n",
       "      <th>MiscVal</th>\n",
       "      <th>MoSold</th>\n",
       "      <th>YrSold</th>\n",
       "      <th>SaleType</th>\n",
       "      <th>SaleCondition</th>\n",
       "    </tr>\n",
       "  </thead>\n",
       "  <tbody>\n",
       "    <tr>\n",
       "      <th>0</th>\n",
       "      <td>60</td>\n",
       "      <td>RL</td>\n",
       "      <td>65.0</td>\n",
       "      <td>8450</td>\n",
       "      <td>Pave</td>\n",
       "      <td>NaN</td>\n",
       "      <td>Reg</td>\n",
       "      <td>Lvl</td>\n",
       "      <td>AllPub</td>\n",
       "      <td>Inside</td>\n",
       "      <td>...</td>\n",
       "      <td>0</td>\n",
       "      <td>0</td>\n",
       "      <td>NaN</td>\n",
       "      <td>NaN</td>\n",
       "      <td>NaN</td>\n",
       "      <td>0</td>\n",
       "      <td>2</td>\n",
       "      <td>2008</td>\n",
       "      <td>WD</td>\n",
       "      <td>Normal</td>\n",
       "    </tr>\n",
       "    <tr>\n",
       "      <th>1</th>\n",
       "      <td>20</td>\n",
       "      <td>RL</td>\n",
       "      <td>80.0</td>\n",
       "      <td>9600</td>\n",
       "      <td>Pave</td>\n",
       "      <td>NaN</td>\n",
       "      <td>Reg</td>\n",
       "      <td>Lvl</td>\n",
       "      <td>AllPub</td>\n",
       "      <td>FR2</td>\n",
       "      <td>...</td>\n",
       "      <td>0</td>\n",
       "      <td>0</td>\n",
       "      <td>NaN</td>\n",
       "      <td>NaN</td>\n",
       "      <td>NaN</td>\n",
       "      <td>0</td>\n",
       "      <td>5</td>\n",
       "      <td>2007</td>\n",
       "      <td>WD</td>\n",
       "      <td>Normal</td>\n",
       "    </tr>\n",
       "    <tr>\n",
       "      <th>2</th>\n",
       "      <td>60</td>\n",
       "      <td>RL</td>\n",
       "      <td>68.0</td>\n",
       "      <td>11250</td>\n",
       "      <td>Pave</td>\n",
       "      <td>NaN</td>\n",
       "      <td>IR1</td>\n",
       "      <td>Lvl</td>\n",
       "      <td>AllPub</td>\n",
       "      <td>Inside</td>\n",
       "      <td>...</td>\n",
       "      <td>0</td>\n",
       "      <td>0</td>\n",
       "      <td>NaN</td>\n",
       "      <td>NaN</td>\n",
       "      <td>NaN</td>\n",
       "      <td>0</td>\n",
       "      <td>9</td>\n",
       "      <td>2008</td>\n",
       "      <td>WD</td>\n",
       "      <td>Normal</td>\n",
       "    </tr>\n",
       "    <tr>\n",
       "      <th>3</th>\n",
       "      <td>70</td>\n",
       "      <td>RL</td>\n",
       "      <td>60.0</td>\n",
       "      <td>9550</td>\n",
       "      <td>Pave</td>\n",
       "      <td>NaN</td>\n",
       "      <td>IR1</td>\n",
       "      <td>Lvl</td>\n",
       "      <td>AllPub</td>\n",
       "      <td>Corner</td>\n",
       "      <td>...</td>\n",
       "      <td>0</td>\n",
       "      <td>0</td>\n",
       "      <td>NaN</td>\n",
       "      <td>NaN</td>\n",
       "      <td>NaN</td>\n",
       "      <td>0</td>\n",
       "      <td>2</td>\n",
       "      <td>2006</td>\n",
       "      <td>WD</td>\n",
       "      <td>Abnorml</td>\n",
       "    </tr>\n",
       "    <tr>\n",
       "      <th>4</th>\n",
       "      <td>60</td>\n",
       "      <td>RL</td>\n",
       "      <td>84.0</td>\n",
       "      <td>14260</td>\n",
       "      <td>Pave</td>\n",
       "      <td>NaN</td>\n",
       "      <td>IR1</td>\n",
       "      <td>Lvl</td>\n",
       "      <td>AllPub</td>\n",
       "      <td>FR2</td>\n",
       "      <td>...</td>\n",
       "      <td>0</td>\n",
       "      <td>0</td>\n",
       "      <td>NaN</td>\n",
       "      <td>NaN</td>\n",
       "      <td>NaN</td>\n",
       "      <td>0</td>\n",
       "      <td>12</td>\n",
       "      <td>2008</td>\n",
       "      <td>WD</td>\n",
       "      <td>Normal</td>\n",
       "    </tr>\n",
       "    <tr>\n",
       "      <th>...</th>\n",
       "      <td>...</td>\n",
       "      <td>...</td>\n",
       "      <td>...</td>\n",
       "      <td>...</td>\n",
       "      <td>...</td>\n",
       "      <td>...</td>\n",
       "      <td>...</td>\n",
       "      <td>...</td>\n",
       "      <td>...</td>\n",
       "      <td>...</td>\n",
       "      <td>...</td>\n",
       "      <td>...</td>\n",
       "      <td>...</td>\n",
       "      <td>...</td>\n",
       "      <td>...</td>\n",
       "      <td>...</td>\n",
       "      <td>...</td>\n",
       "      <td>...</td>\n",
       "      <td>...</td>\n",
       "      <td>...</td>\n",
       "      <td>...</td>\n",
       "    </tr>\n",
       "    <tr>\n",
       "      <th>1455</th>\n",
       "      <td>60</td>\n",
       "      <td>RL</td>\n",
       "      <td>62.0</td>\n",
       "      <td>7917</td>\n",
       "      <td>Pave</td>\n",
       "      <td>NaN</td>\n",
       "      <td>Reg</td>\n",
       "      <td>Lvl</td>\n",
       "      <td>AllPub</td>\n",
       "      <td>Inside</td>\n",
       "      <td>...</td>\n",
       "      <td>0</td>\n",
       "      <td>0</td>\n",
       "      <td>NaN</td>\n",
       "      <td>NaN</td>\n",
       "      <td>NaN</td>\n",
       "      <td>0</td>\n",
       "      <td>8</td>\n",
       "      <td>2007</td>\n",
       "      <td>WD</td>\n",
       "      <td>Normal</td>\n",
       "    </tr>\n",
       "    <tr>\n",
       "      <th>1456</th>\n",
       "      <td>20</td>\n",
       "      <td>RL</td>\n",
       "      <td>85.0</td>\n",
       "      <td>13175</td>\n",
       "      <td>Pave</td>\n",
       "      <td>NaN</td>\n",
       "      <td>Reg</td>\n",
       "      <td>Lvl</td>\n",
       "      <td>AllPub</td>\n",
       "      <td>Inside</td>\n",
       "      <td>...</td>\n",
       "      <td>0</td>\n",
       "      <td>0</td>\n",
       "      <td>NaN</td>\n",
       "      <td>MnPrv</td>\n",
       "      <td>NaN</td>\n",
       "      <td>0</td>\n",
       "      <td>2</td>\n",
       "      <td>2010</td>\n",
       "      <td>WD</td>\n",
       "      <td>Normal</td>\n",
       "    </tr>\n",
       "    <tr>\n",
       "      <th>1457</th>\n",
       "      <td>70</td>\n",
       "      <td>RL</td>\n",
       "      <td>66.0</td>\n",
       "      <td>9042</td>\n",
       "      <td>Pave</td>\n",
       "      <td>NaN</td>\n",
       "      <td>Reg</td>\n",
       "      <td>Lvl</td>\n",
       "      <td>AllPub</td>\n",
       "      <td>Inside</td>\n",
       "      <td>...</td>\n",
       "      <td>0</td>\n",
       "      <td>0</td>\n",
       "      <td>NaN</td>\n",
       "      <td>GdPrv</td>\n",
       "      <td>Shed</td>\n",
       "      <td>2500</td>\n",
       "      <td>5</td>\n",
       "      <td>2010</td>\n",
       "      <td>WD</td>\n",
       "      <td>Normal</td>\n",
       "    </tr>\n",
       "    <tr>\n",
       "      <th>1458</th>\n",
       "      <td>20</td>\n",
       "      <td>RL</td>\n",
       "      <td>68.0</td>\n",
       "      <td>9717</td>\n",
       "      <td>Pave</td>\n",
       "      <td>NaN</td>\n",
       "      <td>Reg</td>\n",
       "      <td>Lvl</td>\n",
       "      <td>AllPub</td>\n",
       "      <td>Inside</td>\n",
       "      <td>...</td>\n",
       "      <td>0</td>\n",
       "      <td>0</td>\n",
       "      <td>NaN</td>\n",
       "      <td>NaN</td>\n",
       "      <td>NaN</td>\n",
       "      <td>0</td>\n",
       "      <td>4</td>\n",
       "      <td>2010</td>\n",
       "      <td>WD</td>\n",
       "      <td>Normal</td>\n",
       "    </tr>\n",
       "    <tr>\n",
       "      <th>1459</th>\n",
       "      <td>20</td>\n",
       "      <td>RL</td>\n",
       "      <td>75.0</td>\n",
       "      <td>9937</td>\n",
       "      <td>Pave</td>\n",
       "      <td>NaN</td>\n",
       "      <td>Reg</td>\n",
       "      <td>Lvl</td>\n",
       "      <td>AllPub</td>\n",
       "      <td>Inside</td>\n",
       "      <td>...</td>\n",
       "      <td>0</td>\n",
       "      <td>0</td>\n",
       "      <td>NaN</td>\n",
       "      <td>NaN</td>\n",
       "      <td>NaN</td>\n",
       "      <td>0</td>\n",
       "      <td>6</td>\n",
       "      <td>2008</td>\n",
       "      <td>WD</td>\n",
       "      <td>Normal</td>\n",
       "    </tr>\n",
       "  </tbody>\n",
       "</table>\n",
       "<p>1460 rows × 79 columns</p>\n",
       "</div>"
      ],
      "text/plain": [
       "      MSSubClass MSZoning  LotFrontage  LotArea Street Alley LotShape  \\\n",
       "0             60       RL         65.0     8450   Pave   NaN      Reg   \n",
       "1             20       RL         80.0     9600   Pave   NaN      Reg   \n",
       "2             60       RL         68.0    11250   Pave   NaN      IR1   \n",
       "3             70       RL         60.0     9550   Pave   NaN      IR1   \n",
       "4             60       RL         84.0    14260   Pave   NaN      IR1   \n",
       "...          ...      ...          ...      ...    ...   ...      ...   \n",
       "1455          60       RL         62.0     7917   Pave   NaN      Reg   \n",
       "1456          20       RL         85.0    13175   Pave   NaN      Reg   \n",
       "1457          70       RL         66.0     9042   Pave   NaN      Reg   \n",
       "1458          20       RL         68.0     9717   Pave   NaN      Reg   \n",
       "1459          20       RL         75.0     9937   Pave   NaN      Reg   \n",
       "\n",
       "     LandContour Utilities LotConfig  ... ScreenPorch PoolArea PoolQC  Fence  \\\n",
       "0            Lvl    AllPub    Inside  ...           0        0    NaN    NaN   \n",
       "1            Lvl    AllPub       FR2  ...           0        0    NaN    NaN   \n",
       "2            Lvl    AllPub    Inside  ...           0        0    NaN    NaN   \n",
       "3            Lvl    AllPub    Corner  ...           0        0    NaN    NaN   \n",
       "4            Lvl    AllPub       FR2  ...           0        0    NaN    NaN   \n",
       "...          ...       ...       ...  ...         ...      ...    ...    ...   \n",
       "1455         Lvl    AllPub    Inside  ...           0        0    NaN    NaN   \n",
       "1456         Lvl    AllPub    Inside  ...           0        0    NaN  MnPrv   \n",
       "1457         Lvl    AllPub    Inside  ...           0        0    NaN  GdPrv   \n",
       "1458         Lvl    AllPub    Inside  ...           0        0    NaN    NaN   \n",
       "1459         Lvl    AllPub    Inside  ...           0        0    NaN    NaN   \n",
       "\n",
       "     MiscFeature MiscVal  MoSold  YrSold  SaleType  SaleCondition  \n",
       "0            NaN       0       2    2008        WD         Normal  \n",
       "1            NaN       0       5    2007        WD         Normal  \n",
       "2            NaN       0       9    2008        WD         Normal  \n",
       "3            NaN       0       2    2006        WD        Abnorml  \n",
       "4            NaN       0      12    2008        WD         Normal  \n",
       "...          ...     ...     ...     ...       ...            ...  \n",
       "1455         NaN       0       8    2007        WD         Normal  \n",
       "1456         NaN       0       2    2010        WD         Normal  \n",
       "1457        Shed    2500       5    2010        WD         Normal  \n",
       "1458         NaN       0       4    2010        WD         Normal  \n",
       "1459         NaN       0       6    2008        WD         Normal  \n",
       "\n",
       "[1460 rows x 79 columns]"
      ]
     },
     "execution_count": 31,
     "metadata": {},
     "output_type": "execute_result"
    }
   ],
   "source": [
    "X"
   ]
  },
  {
   "cell_type": "code",
   "execution_count": 32,
   "metadata": {
    "tags": [
     "challengify"
    ]
   },
   "outputs": [
    {
     "data": {
      "text/html": [
       "<style>#sk-74677d09-246a-47e7-ad06-6cc9efa5ef74 {color: black;background-color: white;}#sk-74677d09-246a-47e7-ad06-6cc9efa5ef74 pre{padding: 0;}#sk-74677d09-246a-47e7-ad06-6cc9efa5ef74 div.sk-toggleable {background-color: white;}#sk-74677d09-246a-47e7-ad06-6cc9efa5ef74 label.sk-toggleable__label {cursor: pointer;display: block;width: 100%;margin-bottom: 0;padding: 0.3em;box-sizing: border-box;text-align: center;}#sk-74677d09-246a-47e7-ad06-6cc9efa5ef74 label.sk-toggleable__label-arrow:before {content: \"▸\";float: left;margin-right: 0.25em;color: #696969;}#sk-74677d09-246a-47e7-ad06-6cc9efa5ef74 label.sk-toggleable__label-arrow:hover:before {color: black;}#sk-74677d09-246a-47e7-ad06-6cc9efa5ef74 div.sk-estimator:hover label.sk-toggleable__label-arrow:before {color: black;}#sk-74677d09-246a-47e7-ad06-6cc9efa5ef74 div.sk-toggleable__content {max-height: 0;max-width: 0;overflow: hidden;text-align: left;background-color: #f0f8ff;}#sk-74677d09-246a-47e7-ad06-6cc9efa5ef74 div.sk-toggleable__content pre {margin: 0.2em;color: black;border-radius: 0.25em;background-color: #f0f8ff;}#sk-74677d09-246a-47e7-ad06-6cc9efa5ef74 input.sk-toggleable__control:checked~div.sk-toggleable__content {max-height: 200px;max-width: 100%;overflow: auto;}#sk-74677d09-246a-47e7-ad06-6cc9efa5ef74 input.sk-toggleable__control:checked~label.sk-toggleable__label-arrow:before {content: \"▾\";}#sk-74677d09-246a-47e7-ad06-6cc9efa5ef74 div.sk-estimator input.sk-toggleable__control:checked~label.sk-toggleable__label {background-color: #d4ebff;}#sk-74677d09-246a-47e7-ad06-6cc9efa5ef74 div.sk-label input.sk-toggleable__control:checked~label.sk-toggleable__label {background-color: #d4ebff;}#sk-74677d09-246a-47e7-ad06-6cc9efa5ef74 input.sk-hidden--visually {border: 0;clip: rect(1px 1px 1px 1px);clip: rect(1px, 1px, 1px, 1px);height: 1px;margin: -1px;overflow: hidden;padding: 0;position: absolute;width: 1px;}#sk-74677d09-246a-47e7-ad06-6cc9efa5ef74 div.sk-estimator {font-family: monospace;background-color: #f0f8ff;border: 1px dotted black;border-radius: 0.25em;box-sizing: border-box;margin-bottom: 0.5em;}#sk-74677d09-246a-47e7-ad06-6cc9efa5ef74 div.sk-estimator:hover {background-color: #d4ebff;}#sk-74677d09-246a-47e7-ad06-6cc9efa5ef74 div.sk-parallel-item::after {content: \"\";width: 100%;border-bottom: 1px solid gray;flex-grow: 1;}#sk-74677d09-246a-47e7-ad06-6cc9efa5ef74 div.sk-label:hover label.sk-toggleable__label {background-color: #d4ebff;}#sk-74677d09-246a-47e7-ad06-6cc9efa5ef74 div.sk-serial::before {content: \"\";position: absolute;border-left: 1px solid gray;box-sizing: border-box;top: 2em;bottom: 0;left: 50%;}#sk-74677d09-246a-47e7-ad06-6cc9efa5ef74 div.sk-serial {display: flex;flex-direction: column;align-items: center;background-color: white;padding-right: 0.2em;padding-left: 0.2em;}#sk-74677d09-246a-47e7-ad06-6cc9efa5ef74 div.sk-item {z-index: 1;}#sk-74677d09-246a-47e7-ad06-6cc9efa5ef74 div.sk-parallel {display: flex;align-items: stretch;justify-content: center;background-color: white;}#sk-74677d09-246a-47e7-ad06-6cc9efa5ef74 div.sk-parallel::before {content: \"\";position: absolute;border-left: 1px solid gray;box-sizing: border-box;top: 2em;bottom: 0;left: 50%;}#sk-74677d09-246a-47e7-ad06-6cc9efa5ef74 div.sk-parallel-item {display: flex;flex-direction: column;position: relative;background-color: white;}#sk-74677d09-246a-47e7-ad06-6cc9efa5ef74 div.sk-parallel-item:first-child::after {align-self: flex-end;width: 50%;}#sk-74677d09-246a-47e7-ad06-6cc9efa5ef74 div.sk-parallel-item:last-child::after {align-self: flex-start;width: 50%;}#sk-74677d09-246a-47e7-ad06-6cc9efa5ef74 div.sk-parallel-item:only-child::after {width: 0;}#sk-74677d09-246a-47e7-ad06-6cc9efa5ef74 div.sk-dashed-wrapped {border: 1px dashed gray;margin: 0 0.4em 0.5em 0.4em;box-sizing: border-box;padding-bottom: 0.4em;background-color: white;position: relative;}#sk-74677d09-246a-47e7-ad06-6cc9efa5ef74 div.sk-label label {font-family: monospace;font-weight: bold;background-color: white;display: inline-block;line-height: 1.2em;}#sk-74677d09-246a-47e7-ad06-6cc9efa5ef74 div.sk-label-container {position: relative;z-index: 2;text-align: center;}#sk-74677d09-246a-47e7-ad06-6cc9efa5ef74 div.sk-container {/* jupyter's `normalize.less` sets `[hidden] { display: none; }` but bootstrap.min.css set `[hidden] { display: none !important; }` so we also need the `!important` here to be able to override the default hidden behavior on the sphinx rendered scikit-learn.org. See: https://github.com/scikit-learn/scikit-learn/issues/21755 */display: inline-block !important;position: relative;}#sk-74677d09-246a-47e7-ad06-6cc9efa5ef74 div.sk-text-repr-fallback {display: none;}</style><div id=\"sk-74677d09-246a-47e7-ad06-6cc9efa5ef74\" class=\"sk-top-container\"><div class=\"sk-text-repr-fallback\"><pre>ColumnTransformer(sparse_threshold=0,\n",
       "                  transformers=[(&#x27;pipeline-1&#x27;,\n",
       "                                 Pipeline(steps=[(&#x27;ordinalencoder&#x27;,\n",
       "                                                  OrdinalEncoder(categories=[[&#x27;NA&#x27;,\n",
       "                                                                              &#x27;Po&#x27;,\n",
       "                                                                              &#x27;Fa&#x27;,\n",
       "                                                                              &#x27;TA&#x27;,\n",
       "                                                                              &#x27;Gd&#x27;,\n",
       "                                                                              &#x27;Ex&#x27;],\n",
       "                                                                             [&#x27;NA&#x27;,\n",
       "                                                                              &#x27;Unf&#x27;,\n",
       "                                                                              &#x27;LwQ&#x27;,\n",
       "                                                                              &#x27;Rec&#x27;,\n",
       "                                                                              &#x27;BLQ&#x27;,\n",
       "                                                                              &#x27;ALQ&#x27;,\n",
       "                                                                              &#x27;GLQ&#x27;],\n",
       "                                                                             [&#x27;NA&#x27;,\n",
       "                                                                              &#x27;Unf&#x27;,\n",
       "                                                                              &#x27;LwQ&#x27;,\n",
       "                                                                              &#x27;Rec&#x27;,\n",
       "                                                                              &#x27;BLQ&#x27;,\n",
       "                                                                              &#x27;ALQ&#x27;,\n",
       "                                                                              &#x27;GLQ&#x27;],\n",
       "                                                                             [&#x27;NA&#x27;,\n",
       "                                                                              &#x27;Po&#x27;,\n",
       "                                                                              &#x27;Fa&#x27;,\n",
       "                                                                              &#x27;TA&#x27;,\n",
       "                                                                              &#x27;Gd&#x27;,\n",
       "                                                                              &#x27;Ex&#x27;],\n",
       "                                                                             [&#x27;Po&#x27;,\n",
       "                                                                              &#x27;Fa&#x27;,\n",
       "                                                                              &#x27;TA&#x27;,\n",
       "                                                                              &#x27;Gd&#x27;,\n",
       "                                                                              &#x27;Ex&#x27;],\n",
       "                                                                             [&#x27;Po&#x27;,\n",
       "                                                                              &#x27;Fa&#x27;,\n",
       "                                                                              &#x27;TA&#x27;,\n",
       "                                                                              &#x27;Gd&#x27;,\n",
       "                                                                              &#x27;Ex&#x27;],\n",
       "                                                                             [&#x27;NA&#x27;,\n",
       "                                                                              &#x27;MnWw&#x27;,\n",
       "                                                                              &#x27;GdWo&#x27;,...\n",
       "                                  &#x27;OverallQual&#x27;, &#x27;OverallCond&#x27;, &#x27;YearBuilt&#x27;,\n",
       "                                  &#x27;YearRemodAdd&#x27;, &#x27;MasVnrArea&#x27;, &#x27;BsmtFinSF1&#x27;,\n",
       "                                  &#x27;BsmtFinSF2&#x27;, &#x27;BsmtUnfSF&#x27;, &#x27;TotalBsmtSF&#x27;,\n",
       "                                  &#x27;1stFlrSF&#x27;, &#x27;2ndFlrSF&#x27;, &#x27;LowQualFinSF&#x27;,\n",
       "                                  &#x27;GrLivArea&#x27;, &#x27;BsmtFullBath&#x27;, &#x27;BsmtHalfBath&#x27;,\n",
       "                                  &#x27;FullBath&#x27;, &#x27;HalfBath&#x27;, &#x27;BedroomAbvGr&#x27;,\n",
       "                                  &#x27;KitchenAbvGr&#x27;, &#x27;TotRmsAbvGrd&#x27;, &#x27;Fireplaces&#x27;,\n",
       "                                  &#x27;GarageYrBlt&#x27;, &#x27;GarageCars&#x27;, &#x27;GarageArea&#x27;,\n",
       "                                  &#x27;WoodDeckSF&#x27;, &#x27;OpenPorchSF&#x27;, &#x27;EnclosedPorch&#x27;, ...])])</pre><b>Please rerun this cell to show the HTML repr or trust the notebook.</b></div><div class=\"sk-container\" hidden><div class=\"sk-item sk-dashed-wrapped\"><div class=\"sk-label-container\"><div class=\"sk-label sk-toggleable\"><input class=\"sk-toggleable__control sk-hidden--visually\" id=\"21368a12-9a24-4db6-aa84-7a6d942ca50a\" type=\"checkbox\" ><label for=\"21368a12-9a24-4db6-aa84-7a6d942ca50a\" class=\"sk-toggleable__label sk-toggleable__label-arrow\">ColumnTransformer</label><div class=\"sk-toggleable__content\"><pre>ColumnTransformer(sparse_threshold=0,\n",
       "                  transformers=[(&#x27;pipeline-1&#x27;,\n",
       "                                 Pipeline(steps=[(&#x27;ordinalencoder&#x27;,\n",
       "                                                  OrdinalEncoder(categories=[[&#x27;NA&#x27;,\n",
       "                                                                              &#x27;Po&#x27;,\n",
       "                                                                              &#x27;Fa&#x27;,\n",
       "                                                                              &#x27;TA&#x27;,\n",
       "                                                                              &#x27;Gd&#x27;,\n",
       "                                                                              &#x27;Ex&#x27;],\n",
       "                                                                             [&#x27;NA&#x27;,\n",
       "                                                                              &#x27;Unf&#x27;,\n",
       "                                                                              &#x27;LwQ&#x27;,\n",
       "                                                                              &#x27;Rec&#x27;,\n",
       "                                                                              &#x27;BLQ&#x27;,\n",
       "                                                                              &#x27;ALQ&#x27;,\n",
       "                                                                              &#x27;GLQ&#x27;],\n",
       "                                                                             [&#x27;NA&#x27;,\n",
       "                                                                              &#x27;Unf&#x27;,\n",
       "                                                                              &#x27;LwQ&#x27;,\n",
       "                                                                              &#x27;Rec&#x27;,\n",
       "                                                                              &#x27;BLQ&#x27;,\n",
       "                                                                              &#x27;ALQ&#x27;,\n",
       "                                                                              &#x27;GLQ&#x27;],\n",
       "                                                                             [&#x27;NA&#x27;,\n",
       "                                                                              &#x27;Po&#x27;,\n",
       "                                                                              &#x27;Fa&#x27;,\n",
       "                                                                              &#x27;TA&#x27;,\n",
       "                                                                              &#x27;Gd&#x27;,\n",
       "                                                                              &#x27;Ex&#x27;],\n",
       "                                                                             [&#x27;Po&#x27;,\n",
       "                                                                              &#x27;Fa&#x27;,\n",
       "                                                                              &#x27;TA&#x27;,\n",
       "                                                                              &#x27;Gd&#x27;,\n",
       "                                                                              &#x27;Ex&#x27;],\n",
       "                                                                             [&#x27;Po&#x27;,\n",
       "                                                                              &#x27;Fa&#x27;,\n",
       "                                                                              &#x27;TA&#x27;,\n",
       "                                                                              &#x27;Gd&#x27;,\n",
       "                                                                              &#x27;Ex&#x27;],\n",
       "                                                                             [&#x27;NA&#x27;,\n",
       "                                                                              &#x27;MnWw&#x27;,\n",
       "                                                                              &#x27;GdWo&#x27;,...\n",
       "                                  &#x27;OverallQual&#x27;, &#x27;OverallCond&#x27;, &#x27;YearBuilt&#x27;,\n",
       "                                  &#x27;YearRemodAdd&#x27;, &#x27;MasVnrArea&#x27;, &#x27;BsmtFinSF1&#x27;,\n",
       "                                  &#x27;BsmtFinSF2&#x27;, &#x27;BsmtUnfSF&#x27;, &#x27;TotalBsmtSF&#x27;,\n",
       "                                  &#x27;1stFlrSF&#x27;, &#x27;2ndFlrSF&#x27;, &#x27;LowQualFinSF&#x27;,\n",
       "                                  &#x27;GrLivArea&#x27;, &#x27;BsmtFullBath&#x27;, &#x27;BsmtHalfBath&#x27;,\n",
       "                                  &#x27;FullBath&#x27;, &#x27;HalfBath&#x27;, &#x27;BedroomAbvGr&#x27;,\n",
       "                                  &#x27;KitchenAbvGr&#x27;, &#x27;TotRmsAbvGrd&#x27;, &#x27;Fireplaces&#x27;,\n",
       "                                  &#x27;GarageYrBlt&#x27;, &#x27;GarageCars&#x27;, &#x27;GarageArea&#x27;,\n",
       "                                  &#x27;WoodDeckSF&#x27;, &#x27;OpenPorchSF&#x27;, &#x27;EnclosedPorch&#x27;, ...])])</pre></div></div></div><div class=\"sk-parallel\"><div class=\"sk-parallel-item\"><div class=\"sk-item\"><div class=\"sk-label-container\"><div class=\"sk-label sk-toggleable\"><input class=\"sk-toggleable__control sk-hidden--visually\" id=\"dbed83ff-0509-4ab3-92a8-54124b5c5848\" type=\"checkbox\" ><label for=\"dbed83ff-0509-4ab3-92a8-54124b5c5848\" class=\"sk-toggleable__label sk-toggleable__label-arrow\">pipeline-1</label><div class=\"sk-toggleable__content\"><pre>[&#x27;BsmtCond&#x27;, &#x27;BsmtFinType1&#x27;, &#x27;BsmtFinType2&#x27;, &#x27;BsmtQual&#x27;, &#x27;ExterCond&#x27;, &#x27;ExterQual&#x27;, &#x27;Fence&#x27;, &#x27;FireplaceQu&#x27;, &#x27;GarageCond&#x27;, &#x27;GarageFinish&#x27;, &#x27;GarageQual&#x27;, &#x27;HeatingQC&#x27;, &#x27;KitchenQual&#x27;, &#x27;PoolQC&#x27;]</pre></div></div></div><div class=\"sk-serial\"><div class=\"sk-item\"><div class=\"sk-serial\"><div class=\"sk-item\"><div class=\"sk-estimator sk-toggleable\"><input class=\"sk-toggleable__control sk-hidden--visually\" id=\"3387cf7d-5fdb-41ae-80b0-db72059cf6fb\" type=\"checkbox\" ><label for=\"3387cf7d-5fdb-41ae-80b0-db72059cf6fb\" class=\"sk-toggleable__label sk-toggleable__label-arrow\">OrdinalEncoder</label><div class=\"sk-toggleable__content\"><pre>OrdinalEncoder(categories=[[&#x27;NA&#x27;, &#x27;Po&#x27;, &#x27;Fa&#x27;, &#x27;TA&#x27;, &#x27;Gd&#x27;, &#x27;Ex&#x27;],\n",
       "                           [&#x27;NA&#x27;, &#x27;Unf&#x27;, &#x27;LwQ&#x27;, &#x27;Rec&#x27;, &#x27;BLQ&#x27;, &#x27;ALQ&#x27;, &#x27;GLQ&#x27;],\n",
       "                           [&#x27;NA&#x27;, &#x27;Unf&#x27;, &#x27;LwQ&#x27;, &#x27;Rec&#x27;, &#x27;BLQ&#x27;, &#x27;ALQ&#x27;, &#x27;GLQ&#x27;],\n",
       "                           [&#x27;NA&#x27;, &#x27;Po&#x27;, &#x27;Fa&#x27;, &#x27;TA&#x27;, &#x27;Gd&#x27;, &#x27;Ex&#x27;],\n",
       "                           [&#x27;Po&#x27;, &#x27;Fa&#x27;, &#x27;TA&#x27;, &#x27;Gd&#x27;, &#x27;Ex&#x27;],\n",
       "                           [&#x27;Po&#x27;, &#x27;Fa&#x27;, &#x27;TA&#x27;, &#x27;Gd&#x27;, &#x27;Ex&#x27;],\n",
       "                           [&#x27;NA&#x27;, &#x27;MnWw&#x27;, &#x27;GdWo&#x27;, &#x27;MnPrv&#x27;, &#x27;GdPrv&#x27;],\n",
       "                           [&#x27;NA&#x27;, &#x27;Po&#x27;, &#x27;Fa&#x27;, &#x27;TA&#x27;, &#x27;Gd&#x27;, &#x27;Ex&#x27;],\n",
       "                           [&#x27;NA&#x27;, &#x27;Po&#x27;, &#x27;Fa&#x27;, &#x27;TA&#x27;, &#x27;Gd&#x27;, &#x27;Ex&#x27;],\n",
       "                           [&#x27;NA&#x27;, &#x27;Unf&#x27;, &#x27;RFn&#x27;, &#x27;Fin&#x27;],\n",
       "                           [&#x27;NA&#x27;, &#x27;Po&#x27;, &#x27;Fa&#x27;, &#x27;TA&#x27;, &#x27;Gd&#x27;, &#x27;Ex&#x27;],\n",
       "                           [&#x27;Po&#x27;, &#x27;Fa&#x27;, &#x27;TA&#x27;, &#x27;Gd&#x27;, &#x27;Ex&#x27;],\n",
       "                           [&#x27;Po&#x27;, &#x27;Fa&#x27;, &#x27;TA&#x27;, &#x27;Gd&#x27;, &#x27;Ex&#x27;],\n",
       "                           [&#x27;NA&#x27;, &#x27;Fa&#x27;, &#x27;TA&#x27;, &#x27;Gd&#x27;, &#x27;Ex&#x27;]],\n",
       "               handle_unknown=&#x27;use_encoded_value&#x27;, unknown_value=-1)</pre></div></div></div></div></div></div></div></div><div class=\"sk-parallel-item\"><div class=\"sk-item\"><div class=\"sk-label-container\"><div class=\"sk-label sk-toggleable\"><input class=\"sk-toggleable__control sk-hidden--visually\" id=\"a5a82f4c-6a6a-40c0-be7e-4f822de77fe6\" type=\"checkbox\" ><label for=\"a5a82f4c-6a6a-40c0-be7e-4f822de77fe6\" class=\"sk-toggleable__label sk-toggleable__label-arrow\">pipeline-2</label><div class=\"sk-toggleable__content\"><pre>[&#x27;MSZoning&#x27;, &#x27;Street&#x27;, &#x27;Alley&#x27;, &#x27;LotShape&#x27;, &#x27;LandContour&#x27;, &#x27;Utilities&#x27;, &#x27;LotConfig&#x27;, &#x27;LandSlope&#x27;, &#x27;Neighborhood&#x27;, &#x27;Condition1&#x27;, &#x27;Condition2&#x27;, &#x27;BldgType&#x27;, &#x27;HouseStyle&#x27;, &#x27;RoofStyle&#x27;, &#x27;RoofMatl&#x27;, &#x27;Exterior1st&#x27;, &#x27;Exterior2nd&#x27;, &#x27;MasVnrType&#x27;, &#x27;Foundation&#x27;, &#x27;BsmtExposure&#x27;, &#x27;Heating&#x27;, &#x27;CentralAir&#x27;, &#x27;Electrical&#x27;, &#x27;Functional&#x27;, &#x27;GarageType&#x27;, &#x27;PavedDrive&#x27;, &#x27;MiscFeature&#x27;, &#x27;SaleType&#x27;, &#x27;SaleCondition&#x27;]</pre></div></div></div><div class=\"sk-serial\"><div class=\"sk-item\"><div class=\"sk-serial\"><div class=\"sk-item\"><div class=\"sk-estimator sk-toggleable\"><input class=\"sk-toggleable__control sk-hidden--visually\" id=\"01f12d57-c6f3-4e13-94a1-d05efdd96b6f\" type=\"checkbox\" ><label for=\"01f12d57-c6f3-4e13-94a1-d05efdd96b6f\" class=\"sk-toggleable__label sk-toggleable__label-arrow\">SimpleImputer</label><div class=\"sk-toggleable__content\"><pre>SimpleImputer(strategy=&#x27;most_frequent&#x27;)</pre></div></div></div><div class=\"sk-item\"><div class=\"sk-estimator sk-toggleable\"><input class=\"sk-toggleable__control sk-hidden--visually\" id=\"1e1f33ab-7de0-4743-98dd-15713ed6c47d\" type=\"checkbox\" ><label for=\"1e1f33ab-7de0-4743-98dd-15713ed6c47d\" class=\"sk-toggleable__label sk-toggleable__label-arrow\">OneHotEncoder</label><div class=\"sk-toggleable__content\"><pre>OneHotEncoder(handle_unknown=&#x27;ignore&#x27;, sparse=&#x27;False&#x27;)</pre></div></div></div></div></div></div></div></div><div class=\"sk-parallel-item\"><div class=\"sk-item\"><div class=\"sk-label-container\"><div class=\"sk-label sk-toggleable\"><input class=\"sk-toggleable__control sk-hidden--visually\" id=\"620459c2-fcef-45bc-b8f4-34138a40d049\" type=\"checkbox\" ><label for=\"620459c2-fcef-45bc-b8f4-34138a40d049\" class=\"sk-toggleable__label sk-toggleable__label-arrow\">pipeline-3</label><div class=\"sk-toggleable__content\"><pre>[&#x27;MSSubClass&#x27;, &#x27;LotFrontage&#x27;, &#x27;LotArea&#x27;, &#x27;OverallQual&#x27;, &#x27;OverallCond&#x27;, &#x27;YearBuilt&#x27;, &#x27;YearRemodAdd&#x27;, &#x27;MasVnrArea&#x27;, &#x27;BsmtFinSF1&#x27;, &#x27;BsmtFinSF2&#x27;, &#x27;BsmtUnfSF&#x27;, &#x27;TotalBsmtSF&#x27;, &#x27;1stFlrSF&#x27;, &#x27;2ndFlrSF&#x27;, &#x27;LowQualFinSF&#x27;, &#x27;GrLivArea&#x27;, &#x27;BsmtFullBath&#x27;, &#x27;BsmtHalfBath&#x27;, &#x27;FullBath&#x27;, &#x27;HalfBath&#x27;, &#x27;BedroomAbvGr&#x27;, &#x27;KitchenAbvGr&#x27;, &#x27;TotRmsAbvGrd&#x27;, &#x27;Fireplaces&#x27;, &#x27;GarageYrBlt&#x27;, &#x27;GarageCars&#x27;, &#x27;GarageArea&#x27;, &#x27;WoodDeckSF&#x27;, &#x27;OpenPorchSF&#x27;, &#x27;EnclosedPorch&#x27;, &#x27;3SsnPorch&#x27;, &#x27;ScreenPorch&#x27;, &#x27;PoolArea&#x27;, &#x27;MiscVal&#x27;, &#x27;MoSold&#x27;, &#x27;YrSold&#x27;]</pre></div></div></div><div class=\"sk-serial\"><div class=\"sk-item\"><div class=\"sk-serial\"><div class=\"sk-item\"><div class=\"sk-estimator sk-toggleable\"><input class=\"sk-toggleable__control sk-hidden--visually\" id=\"e3d68004-dd29-42d2-9707-ce17abfd2e72\" type=\"checkbox\" ><label for=\"e3d68004-dd29-42d2-9707-ce17abfd2e72\" class=\"sk-toggleable__label sk-toggleable__label-arrow\">SimpleImputer</label><div class=\"sk-toggleable__content\"><pre>SimpleImputer()</pre></div></div></div><div class=\"sk-item\"><div class=\"sk-estimator sk-toggleable\"><input class=\"sk-toggleable__control sk-hidden--visually\" id=\"69e7aedd-845f-439c-894d-2f28fde6b1c2\" type=\"checkbox\" ><label for=\"69e7aedd-845f-439c-894d-2f28fde6b1c2\" class=\"sk-toggleable__label sk-toggleable__label-arrow\">MinMaxScaler</label><div class=\"sk-toggleable__content\"><pre>MinMaxScaler()</pre></div></div></div></div></div></div></div></div></div></div></div></div>"
      ],
      "text/plain": [
       "ColumnTransformer(sparse_threshold=0,\n",
       "                  transformers=[('pipeline-1',\n",
       "                                 Pipeline(steps=[('ordinalencoder',\n",
       "                                                  OrdinalEncoder(categories=[['NA',\n",
       "                                                                              'Po',\n",
       "                                                                              'Fa',\n",
       "                                                                              'TA',\n",
       "                                                                              'Gd',\n",
       "                                                                              'Ex'],\n",
       "                                                                             ['NA',\n",
       "                                                                              'Unf',\n",
       "                                                                              'LwQ',\n",
       "                                                                              'Rec',\n",
       "                                                                              'BLQ',\n",
       "                                                                              'ALQ',\n",
       "                                                                              'GLQ'],\n",
       "                                                                             ['NA',\n",
       "                                                                              'Unf',\n",
       "                                                                              'LwQ',\n",
       "                                                                              'Rec',\n",
       "                                                                              'BLQ',\n",
       "                                                                              'ALQ',\n",
       "                                                                              'GLQ'],\n",
       "                                                                             ['NA',\n",
       "                                                                              'Po',\n",
       "                                                                              'Fa',\n",
       "                                                                              'TA',\n",
       "                                                                              'Gd',\n",
       "                                                                              'Ex'],\n",
       "                                                                             ['Po',\n",
       "                                                                              'Fa',\n",
       "                                                                              'TA',\n",
       "                                                                              'Gd',\n",
       "                                                                              'Ex'],\n",
       "                                                                             ['Po',\n",
       "                                                                              'Fa',\n",
       "                                                                              'TA',\n",
       "                                                                              'Gd',\n",
       "                                                                              'Ex'],\n",
       "                                                                             ['NA',\n",
       "                                                                              'MnWw',\n",
       "                                                                              'GdWo',...\n",
       "                                  'OverallQual', 'OverallCond', 'YearBuilt',\n",
       "                                  'YearRemodAdd', 'MasVnrArea', 'BsmtFinSF1',\n",
       "                                  'BsmtFinSF2', 'BsmtUnfSF', 'TotalBsmtSF',\n",
       "                                  '1stFlrSF', '2ndFlrSF', 'LowQualFinSF',\n",
       "                                  'GrLivArea', 'BsmtFullBath', 'BsmtHalfBath',\n",
       "                                  'FullBath', 'HalfBath', 'BedroomAbvGr',\n",
       "                                  'KitchenAbvGr', 'TotRmsAbvGrd', 'Fireplaces',\n",
       "                                  'GarageYrBlt', 'GarageCars', 'GarageArea',\n",
       "                                  'WoodDeckSF', 'OpenPorchSF', 'EnclosedPorch', ...])])"
      ]
     },
     "execution_count": 32,
     "metadata": {},
     "output_type": "execute_result"
    }
   ],
   "source": [
    "# YOUR CODE HERE\n",
    "preproc_ordinal = make_pipeline(o_encoder)\n",
    "\n",
    "preproc_nominal = make_pipeline(SimpleImputer(strategy = 'most_frequent'),\n",
    "                         OneHotEncoder(handle_unknown = 'ignore', sparse = 'False')\n",
    "                        )\n",
    "\n",
    "preproc_num = make_pipeline(SimpleImputer(strategy = 'mean'), \n",
    "                         MinMaxScaler()\n",
    "                        )\n",
    "prep_transformer = make_column_transformer((preproc_ordinal, ord_cat_list),\n",
    "                               (preproc_nominal, nom_cat_list),\n",
    "                               (preproc_num, feat_numerical), sparse_threshold=0\n",
    "                              )\n",
    "\n",
    "prep_transformer"
   ]
  },
  {
   "cell_type": "markdown",
   "metadata": {},
   "source": [
    "### b) Statistical Feature Selection (~30min)"
   ]
  },
  {
   "cell_type": "markdown",
   "metadata": {},
   "source": [
    "Our goal is to remove the least interesting features, to limit overfitting and shorten training time.  \n",
    "\n",
    "🔥 We will make use of sklearn's [feature selection](https://scikit-learn.org/stable/modules/classes.html#module-sklearn.feature_selection) transformers directly in your pipeline!\n",
    "\n",
    "❗️ We recommend you to **try only option 1 today to start with**. Option 2 and 3 will be corrected in Recap"
   ]
  },
  {
   "cell_type": "markdown",
   "metadata": {},
   "source": [
    "#### (option 1 - recommended) <font color=green>Univariate</font> feature selection based on their mutual information with target `y`"
   ]
  },
  {
   "cell_type": "markdown",
   "metadata": {},
   "source": [
    "- Feel free to add a `SelectPercentile` filter at the end of your `preproc` pipeline.\n",
    "- This will filter-out features that, - taken individually - least explain your target!\n",
    "- The statistical test we recommend to pass to SelectPercentile is the `mutual_info_regression`\n",
    "\n",
    "<details>\n",
    "    <summary markdown='span'>🤔 Mutual Information?</summary>\n",
    "\n",
    "- Mutual information is a *statistical* distance between two probability distributions.\n",
    "- Correlation is a *linear* distance between two random variables.\n",
    "- Mutual information is more general and measures the reduction of uncertainty in Y after observing X.\n",
    "- On the other hand, if you already know you are working with variables that are smooth (like continuous numerical variables), sometimes correlation may tell you more about them, for instance if their relationship is monotonic.\n",
    "\n",
    "See [animation](https://twitter.com/ari_seff/status/1409296508634152964)\n",
    "</details>"
   ]
  },
  {
   "cell_type": "code",
   "execution_count": 33,
   "metadata": {
    "tags": [
     "challengify"
    ]
   },
   "outputs": [
    {
     "data": {
      "text/html": [
       "<style>#sk-12426b30-bda3-4405-9b25-27aaa6d5ee06 {color: black;background-color: white;}#sk-12426b30-bda3-4405-9b25-27aaa6d5ee06 pre{padding: 0;}#sk-12426b30-bda3-4405-9b25-27aaa6d5ee06 div.sk-toggleable {background-color: white;}#sk-12426b30-bda3-4405-9b25-27aaa6d5ee06 label.sk-toggleable__label {cursor: pointer;display: block;width: 100%;margin-bottom: 0;padding: 0.3em;box-sizing: border-box;text-align: center;}#sk-12426b30-bda3-4405-9b25-27aaa6d5ee06 label.sk-toggleable__label-arrow:before {content: \"▸\";float: left;margin-right: 0.25em;color: #696969;}#sk-12426b30-bda3-4405-9b25-27aaa6d5ee06 label.sk-toggleable__label-arrow:hover:before {color: black;}#sk-12426b30-bda3-4405-9b25-27aaa6d5ee06 div.sk-estimator:hover label.sk-toggleable__label-arrow:before {color: black;}#sk-12426b30-bda3-4405-9b25-27aaa6d5ee06 div.sk-toggleable__content {max-height: 0;max-width: 0;overflow: hidden;text-align: left;background-color: #f0f8ff;}#sk-12426b30-bda3-4405-9b25-27aaa6d5ee06 div.sk-toggleable__content pre {margin: 0.2em;color: black;border-radius: 0.25em;background-color: #f0f8ff;}#sk-12426b30-bda3-4405-9b25-27aaa6d5ee06 input.sk-toggleable__control:checked~div.sk-toggleable__content {max-height: 200px;max-width: 100%;overflow: auto;}#sk-12426b30-bda3-4405-9b25-27aaa6d5ee06 input.sk-toggleable__control:checked~label.sk-toggleable__label-arrow:before {content: \"▾\";}#sk-12426b30-bda3-4405-9b25-27aaa6d5ee06 div.sk-estimator input.sk-toggleable__control:checked~label.sk-toggleable__label {background-color: #d4ebff;}#sk-12426b30-bda3-4405-9b25-27aaa6d5ee06 div.sk-label input.sk-toggleable__control:checked~label.sk-toggleable__label {background-color: #d4ebff;}#sk-12426b30-bda3-4405-9b25-27aaa6d5ee06 input.sk-hidden--visually {border: 0;clip: rect(1px 1px 1px 1px);clip: rect(1px, 1px, 1px, 1px);height: 1px;margin: -1px;overflow: hidden;padding: 0;position: absolute;width: 1px;}#sk-12426b30-bda3-4405-9b25-27aaa6d5ee06 div.sk-estimator {font-family: monospace;background-color: #f0f8ff;border: 1px dotted black;border-radius: 0.25em;box-sizing: border-box;margin-bottom: 0.5em;}#sk-12426b30-bda3-4405-9b25-27aaa6d5ee06 div.sk-estimator:hover {background-color: #d4ebff;}#sk-12426b30-bda3-4405-9b25-27aaa6d5ee06 div.sk-parallel-item::after {content: \"\";width: 100%;border-bottom: 1px solid gray;flex-grow: 1;}#sk-12426b30-bda3-4405-9b25-27aaa6d5ee06 div.sk-label:hover label.sk-toggleable__label {background-color: #d4ebff;}#sk-12426b30-bda3-4405-9b25-27aaa6d5ee06 div.sk-serial::before {content: \"\";position: absolute;border-left: 1px solid gray;box-sizing: border-box;top: 2em;bottom: 0;left: 50%;}#sk-12426b30-bda3-4405-9b25-27aaa6d5ee06 div.sk-serial {display: flex;flex-direction: column;align-items: center;background-color: white;padding-right: 0.2em;padding-left: 0.2em;}#sk-12426b30-bda3-4405-9b25-27aaa6d5ee06 div.sk-item {z-index: 1;}#sk-12426b30-bda3-4405-9b25-27aaa6d5ee06 div.sk-parallel {display: flex;align-items: stretch;justify-content: center;background-color: white;}#sk-12426b30-bda3-4405-9b25-27aaa6d5ee06 div.sk-parallel::before {content: \"\";position: absolute;border-left: 1px solid gray;box-sizing: border-box;top: 2em;bottom: 0;left: 50%;}#sk-12426b30-bda3-4405-9b25-27aaa6d5ee06 div.sk-parallel-item {display: flex;flex-direction: column;position: relative;background-color: white;}#sk-12426b30-bda3-4405-9b25-27aaa6d5ee06 div.sk-parallel-item:first-child::after {align-self: flex-end;width: 50%;}#sk-12426b30-bda3-4405-9b25-27aaa6d5ee06 div.sk-parallel-item:last-child::after {align-self: flex-start;width: 50%;}#sk-12426b30-bda3-4405-9b25-27aaa6d5ee06 div.sk-parallel-item:only-child::after {width: 0;}#sk-12426b30-bda3-4405-9b25-27aaa6d5ee06 div.sk-dashed-wrapped {border: 1px dashed gray;margin: 0 0.4em 0.5em 0.4em;box-sizing: border-box;padding-bottom: 0.4em;background-color: white;position: relative;}#sk-12426b30-bda3-4405-9b25-27aaa6d5ee06 div.sk-label label {font-family: monospace;font-weight: bold;background-color: white;display: inline-block;line-height: 1.2em;}#sk-12426b30-bda3-4405-9b25-27aaa6d5ee06 div.sk-label-container {position: relative;z-index: 2;text-align: center;}#sk-12426b30-bda3-4405-9b25-27aaa6d5ee06 div.sk-container {/* jupyter's `normalize.less` sets `[hidden] { display: none; }` but bootstrap.min.css set `[hidden] { display: none !important; }` so we also need the `!important` here to be able to override the default hidden behavior on the sphinx rendered scikit-learn.org. See: https://github.com/scikit-learn/scikit-learn/issues/21755 */display: inline-block !important;position: relative;}#sk-12426b30-bda3-4405-9b25-27aaa6d5ee06 div.sk-text-repr-fallback {display: none;}</style><div id=\"sk-12426b30-bda3-4405-9b25-27aaa6d5ee06\" class=\"sk-top-container\"><div class=\"sk-text-repr-fallback\"><pre>Pipeline(steps=[(&#x27;columntransformer&#x27;,\n",
       "                 ColumnTransformer(sparse_threshold=0,\n",
       "                                   transformers=[(&#x27;pipeline-1&#x27;,\n",
       "                                                  Pipeline(steps=[(&#x27;ordinalencoder&#x27;,\n",
       "                                                                   OrdinalEncoder(categories=[[&#x27;NA&#x27;,\n",
       "                                                                                               &#x27;Po&#x27;,\n",
       "                                                                                               &#x27;Fa&#x27;,\n",
       "                                                                                               &#x27;TA&#x27;,\n",
       "                                                                                               &#x27;Gd&#x27;,\n",
       "                                                                                               &#x27;Ex&#x27;],\n",
       "                                                                                              [&#x27;NA&#x27;,\n",
       "                                                                                               &#x27;Unf&#x27;,\n",
       "                                                                                               &#x27;LwQ&#x27;,\n",
       "                                                                                               &#x27;Rec&#x27;,\n",
       "                                                                                               &#x27;BLQ&#x27;,\n",
       "                                                                                               &#x27;ALQ&#x27;,\n",
       "                                                                                               &#x27;GLQ&#x27;],\n",
       "                                                                                              [&#x27;NA&#x27;,\n",
       "                                                                                               &#x27;Unf&#x27;,\n",
       "                                                                                               &#x27;LwQ&#x27;,\n",
       "                                                                                               &#x27;Rec&#x27;,\n",
       "                                                                                               &#x27;BLQ&#x27;,\n",
       "                                                                                               &#x27;ALQ&#x27;,\n",
       "                                                                                               &#x27;GLQ&#x27;],\n",
       "                                                                                              [&#x27;NA&#x27;,\n",
       "                                                                                               &#x27;Po&#x27;,\n",
       "                                                                                               &#x27;Fa&#x27;,\n",
       "                                                                                               &#x27;TA&#x27;,\n",
       "                                                                                               &#x27;Gd&#x27;,\n",
       "                                                                                               &#x27;Ex&#x27;],\n",
       "                                                                                              [&#x27;Po&#x27;,\n",
       "                                                                                               &#x27;Fa&#x27;,\n",
       "                                                                                               &#x27;TA&#x27;,\n",
       "                                                                                               &#x27;Gd&#x27;,\n",
       "                                                                                               &#x27;Ex&#x27;],\n",
       "                                                                                              [&#x27;Po&#x27;,\n",
       "                                                                                               &#x27;Fa&#x27;...\n",
       "                                                   &#x27;1stFlrSF&#x27;, &#x27;2ndFlrSF&#x27;,\n",
       "                                                   &#x27;LowQualFinSF&#x27;, &#x27;GrLivArea&#x27;,\n",
       "                                                   &#x27;BsmtFullBath&#x27;,\n",
       "                                                   &#x27;BsmtHalfBath&#x27;, &#x27;FullBath&#x27;,\n",
       "                                                   &#x27;HalfBath&#x27;, &#x27;BedroomAbvGr&#x27;,\n",
       "                                                   &#x27;KitchenAbvGr&#x27;,\n",
       "                                                   &#x27;TotRmsAbvGrd&#x27;, &#x27;Fireplaces&#x27;,\n",
       "                                                   &#x27;GarageYrBlt&#x27;, &#x27;GarageCars&#x27;,\n",
       "                                                   &#x27;GarageArea&#x27;, &#x27;WoodDeckSF&#x27;,\n",
       "                                                   &#x27;OpenPorchSF&#x27;,\n",
       "                                                   &#x27;EnclosedPorch&#x27;, ...])])),\n",
       "                (&#x27;selectpercentile&#x27;,\n",
       "                 SelectPercentile(percentile=25,\n",
       "                                  score_func=&lt;function mutual_info_regression at 0x126ba2dc0&gt;))])</pre><b>Please rerun this cell to show the HTML repr or trust the notebook.</b></div><div class=\"sk-container\" hidden><div class=\"sk-item sk-dashed-wrapped\"><div class=\"sk-label-container\"><div class=\"sk-label sk-toggleable\"><input class=\"sk-toggleable__control sk-hidden--visually\" id=\"e7505e1f-f9d5-469f-83d9-aa3aa2e4551e\" type=\"checkbox\" ><label for=\"e7505e1f-f9d5-469f-83d9-aa3aa2e4551e\" class=\"sk-toggleable__label sk-toggleable__label-arrow\">Pipeline</label><div class=\"sk-toggleable__content\"><pre>Pipeline(steps=[(&#x27;columntransformer&#x27;,\n",
       "                 ColumnTransformer(sparse_threshold=0,\n",
       "                                   transformers=[(&#x27;pipeline-1&#x27;,\n",
       "                                                  Pipeline(steps=[(&#x27;ordinalencoder&#x27;,\n",
       "                                                                   OrdinalEncoder(categories=[[&#x27;NA&#x27;,\n",
       "                                                                                               &#x27;Po&#x27;,\n",
       "                                                                                               &#x27;Fa&#x27;,\n",
       "                                                                                               &#x27;TA&#x27;,\n",
       "                                                                                               &#x27;Gd&#x27;,\n",
       "                                                                                               &#x27;Ex&#x27;],\n",
       "                                                                                              [&#x27;NA&#x27;,\n",
       "                                                                                               &#x27;Unf&#x27;,\n",
       "                                                                                               &#x27;LwQ&#x27;,\n",
       "                                                                                               &#x27;Rec&#x27;,\n",
       "                                                                                               &#x27;BLQ&#x27;,\n",
       "                                                                                               &#x27;ALQ&#x27;,\n",
       "                                                                                               &#x27;GLQ&#x27;],\n",
       "                                                                                              [&#x27;NA&#x27;,\n",
       "                                                                                               &#x27;Unf&#x27;,\n",
       "                                                                                               &#x27;LwQ&#x27;,\n",
       "                                                                                               &#x27;Rec&#x27;,\n",
       "                                                                                               &#x27;BLQ&#x27;,\n",
       "                                                                                               &#x27;ALQ&#x27;,\n",
       "                                                                                               &#x27;GLQ&#x27;],\n",
       "                                                                                              [&#x27;NA&#x27;,\n",
       "                                                                                               &#x27;Po&#x27;,\n",
       "                                                                                               &#x27;Fa&#x27;,\n",
       "                                                                                               &#x27;TA&#x27;,\n",
       "                                                                                               &#x27;Gd&#x27;,\n",
       "                                                                                               &#x27;Ex&#x27;],\n",
       "                                                                                              [&#x27;Po&#x27;,\n",
       "                                                                                               &#x27;Fa&#x27;,\n",
       "                                                                                               &#x27;TA&#x27;,\n",
       "                                                                                               &#x27;Gd&#x27;,\n",
       "                                                                                               &#x27;Ex&#x27;],\n",
       "                                                                                              [&#x27;Po&#x27;,\n",
       "                                                                                               &#x27;Fa&#x27;...\n",
       "                                                   &#x27;1stFlrSF&#x27;, &#x27;2ndFlrSF&#x27;,\n",
       "                                                   &#x27;LowQualFinSF&#x27;, &#x27;GrLivArea&#x27;,\n",
       "                                                   &#x27;BsmtFullBath&#x27;,\n",
       "                                                   &#x27;BsmtHalfBath&#x27;, &#x27;FullBath&#x27;,\n",
       "                                                   &#x27;HalfBath&#x27;, &#x27;BedroomAbvGr&#x27;,\n",
       "                                                   &#x27;KitchenAbvGr&#x27;,\n",
       "                                                   &#x27;TotRmsAbvGrd&#x27;, &#x27;Fireplaces&#x27;,\n",
       "                                                   &#x27;GarageYrBlt&#x27;, &#x27;GarageCars&#x27;,\n",
       "                                                   &#x27;GarageArea&#x27;, &#x27;WoodDeckSF&#x27;,\n",
       "                                                   &#x27;OpenPorchSF&#x27;,\n",
       "                                                   &#x27;EnclosedPorch&#x27;, ...])])),\n",
       "                (&#x27;selectpercentile&#x27;,\n",
       "                 SelectPercentile(percentile=25,\n",
       "                                  score_func=&lt;function mutual_info_regression at 0x126ba2dc0&gt;))])</pre></div></div></div><div class=\"sk-serial\"><div class=\"sk-item sk-dashed-wrapped\"><div class=\"sk-label-container\"><div class=\"sk-label sk-toggleable\"><input class=\"sk-toggleable__control sk-hidden--visually\" id=\"0784a923-363d-4195-935b-4abfd7882bcf\" type=\"checkbox\" ><label for=\"0784a923-363d-4195-935b-4abfd7882bcf\" class=\"sk-toggleable__label sk-toggleable__label-arrow\">columntransformer: ColumnTransformer</label><div class=\"sk-toggleable__content\"><pre>ColumnTransformer(sparse_threshold=0,\n",
       "                  transformers=[(&#x27;pipeline-1&#x27;,\n",
       "                                 Pipeline(steps=[(&#x27;ordinalencoder&#x27;,\n",
       "                                                  OrdinalEncoder(categories=[[&#x27;NA&#x27;,\n",
       "                                                                              &#x27;Po&#x27;,\n",
       "                                                                              &#x27;Fa&#x27;,\n",
       "                                                                              &#x27;TA&#x27;,\n",
       "                                                                              &#x27;Gd&#x27;,\n",
       "                                                                              &#x27;Ex&#x27;],\n",
       "                                                                             [&#x27;NA&#x27;,\n",
       "                                                                              &#x27;Unf&#x27;,\n",
       "                                                                              &#x27;LwQ&#x27;,\n",
       "                                                                              &#x27;Rec&#x27;,\n",
       "                                                                              &#x27;BLQ&#x27;,\n",
       "                                                                              &#x27;ALQ&#x27;,\n",
       "                                                                              &#x27;GLQ&#x27;],\n",
       "                                                                             [&#x27;NA&#x27;,\n",
       "                                                                              &#x27;Unf&#x27;,\n",
       "                                                                              &#x27;LwQ&#x27;,\n",
       "                                                                              &#x27;Rec&#x27;,\n",
       "                                                                              &#x27;BLQ&#x27;,\n",
       "                                                                              &#x27;ALQ&#x27;,\n",
       "                                                                              &#x27;GLQ&#x27;],\n",
       "                                                                             [&#x27;NA&#x27;,\n",
       "                                                                              &#x27;Po&#x27;,\n",
       "                                                                              &#x27;Fa&#x27;,\n",
       "                                                                              &#x27;TA&#x27;,\n",
       "                                                                              &#x27;Gd&#x27;,\n",
       "                                                                              &#x27;Ex&#x27;],\n",
       "                                                                             [&#x27;Po&#x27;,\n",
       "                                                                              &#x27;Fa&#x27;,\n",
       "                                                                              &#x27;TA&#x27;,\n",
       "                                                                              &#x27;Gd&#x27;,\n",
       "                                                                              &#x27;Ex&#x27;],\n",
       "                                                                             [&#x27;Po&#x27;,\n",
       "                                                                              &#x27;Fa&#x27;,\n",
       "                                                                              &#x27;TA&#x27;,\n",
       "                                                                              &#x27;Gd&#x27;,\n",
       "                                                                              &#x27;Ex&#x27;],\n",
       "                                                                             [&#x27;NA&#x27;,\n",
       "                                                                              &#x27;MnWw&#x27;,\n",
       "                                                                              &#x27;GdWo&#x27;,...\n",
       "                                  &#x27;OverallQual&#x27;, &#x27;OverallCond&#x27;, &#x27;YearBuilt&#x27;,\n",
       "                                  &#x27;YearRemodAdd&#x27;, &#x27;MasVnrArea&#x27;, &#x27;BsmtFinSF1&#x27;,\n",
       "                                  &#x27;BsmtFinSF2&#x27;, &#x27;BsmtUnfSF&#x27;, &#x27;TotalBsmtSF&#x27;,\n",
       "                                  &#x27;1stFlrSF&#x27;, &#x27;2ndFlrSF&#x27;, &#x27;LowQualFinSF&#x27;,\n",
       "                                  &#x27;GrLivArea&#x27;, &#x27;BsmtFullBath&#x27;, &#x27;BsmtHalfBath&#x27;,\n",
       "                                  &#x27;FullBath&#x27;, &#x27;HalfBath&#x27;, &#x27;BedroomAbvGr&#x27;,\n",
       "                                  &#x27;KitchenAbvGr&#x27;, &#x27;TotRmsAbvGrd&#x27;, &#x27;Fireplaces&#x27;,\n",
       "                                  &#x27;GarageYrBlt&#x27;, &#x27;GarageCars&#x27;, &#x27;GarageArea&#x27;,\n",
       "                                  &#x27;WoodDeckSF&#x27;, &#x27;OpenPorchSF&#x27;, &#x27;EnclosedPorch&#x27;, ...])])</pre></div></div></div><div class=\"sk-parallel\"><div class=\"sk-parallel-item\"><div class=\"sk-item\"><div class=\"sk-label-container\"><div class=\"sk-label sk-toggleable\"><input class=\"sk-toggleable__control sk-hidden--visually\" id=\"21d573f1-97c6-467c-9a38-fe50cdff4a2e\" type=\"checkbox\" ><label for=\"21d573f1-97c6-467c-9a38-fe50cdff4a2e\" class=\"sk-toggleable__label sk-toggleable__label-arrow\">pipeline-1</label><div class=\"sk-toggleable__content\"><pre>[&#x27;BsmtCond&#x27;, &#x27;BsmtFinType1&#x27;, &#x27;BsmtFinType2&#x27;, &#x27;BsmtQual&#x27;, &#x27;ExterCond&#x27;, &#x27;ExterQual&#x27;, &#x27;Fence&#x27;, &#x27;FireplaceQu&#x27;, &#x27;GarageCond&#x27;, &#x27;GarageFinish&#x27;, &#x27;GarageQual&#x27;, &#x27;HeatingQC&#x27;, &#x27;KitchenQual&#x27;, &#x27;PoolQC&#x27;]</pre></div></div></div><div class=\"sk-serial\"><div class=\"sk-item\"><div class=\"sk-serial\"><div class=\"sk-item\"><div class=\"sk-estimator sk-toggleable\"><input class=\"sk-toggleable__control sk-hidden--visually\" id=\"d099be15-4b62-4575-8819-198ae03451f5\" type=\"checkbox\" ><label for=\"d099be15-4b62-4575-8819-198ae03451f5\" class=\"sk-toggleable__label sk-toggleable__label-arrow\">OrdinalEncoder</label><div class=\"sk-toggleable__content\"><pre>OrdinalEncoder(categories=[[&#x27;NA&#x27;, &#x27;Po&#x27;, &#x27;Fa&#x27;, &#x27;TA&#x27;, &#x27;Gd&#x27;, &#x27;Ex&#x27;],\n",
       "                           [&#x27;NA&#x27;, &#x27;Unf&#x27;, &#x27;LwQ&#x27;, &#x27;Rec&#x27;, &#x27;BLQ&#x27;, &#x27;ALQ&#x27;, &#x27;GLQ&#x27;],\n",
       "                           [&#x27;NA&#x27;, &#x27;Unf&#x27;, &#x27;LwQ&#x27;, &#x27;Rec&#x27;, &#x27;BLQ&#x27;, &#x27;ALQ&#x27;, &#x27;GLQ&#x27;],\n",
       "                           [&#x27;NA&#x27;, &#x27;Po&#x27;, &#x27;Fa&#x27;, &#x27;TA&#x27;, &#x27;Gd&#x27;, &#x27;Ex&#x27;],\n",
       "                           [&#x27;Po&#x27;, &#x27;Fa&#x27;, &#x27;TA&#x27;, &#x27;Gd&#x27;, &#x27;Ex&#x27;],\n",
       "                           [&#x27;Po&#x27;, &#x27;Fa&#x27;, &#x27;TA&#x27;, &#x27;Gd&#x27;, &#x27;Ex&#x27;],\n",
       "                           [&#x27;NA&#x27;, &#x27;MnWw&#x27;, &#x27;GdWo&#x27;, &#x27;MnPrv&#x27;, &#x27;GdPrv&#x27;],\n",
       "                           [&#x27;NA&#x27;, &#x27;Po&#x27;, &#x27;Fa&#x27;, &#x27;TA&#x27;, &#x27;Gd&#x27;, &#x27;Ex&#x27;],\n",
       "                           [&#x27;NA&#x27;, &#x27;Po&#x27;, &#x27;Fa&#x27;, &#x27;TA&#x27;, &#x27;Gd&#x27;, &#x27;Ex&#x27;],\n",
       "                           [&#x27;NA&#x27;, &#x27;Unf&#x27;, &#x27;RFn&#x27;, &#x27;Fin&#x27;],\n",
       "                           [&#x27;NA&#x27;, &#x27;Po&#x27;, &#x27;Fa&#x27;, &#x27;TA&#x27;, &#x27;Gd&#x27;, &#x27;Ex&#x27;],\n",
       "                           [&#x27;Po&#x27;, &#x27;Fa&#x27;, &#x27;TA&#x27;, &#x27;Gd&#x27;, &#x27;Ex&#x27;],\n",
       "                           [&#x27;Po&#x27;, &#x27;Fa&#x27;, &#x27;TA&#x27;, &#x27;Gd&#x27;, &#x27;Ex&#x27;],\n",
       "                           [&#x27;NA&#x27;, &#x27;Fa&#x27;, &#x27;TA&#x27;, &#x27;Gd&#x27;, &#x27;Ex&#x27;]],\n",
       "               handle_unknown=&#x27;use_encoded_value&#x27;, unknown_value=-1)</pre></div></div></div></div></div></div></div></div><div class=\"sk-parallel-item\"><div class=\"sk-item\"><div class=\"sk-label-container\"><div class=\"sk-label sk-toggleable\"><input class=\"sk-toggleable__control sk-hidden--visually\" id=\"c68a5bf2-69e6-4736-9945-f69c6e8d4dd8\" type=\"checkbox\" ><label for=\"c68a5bf2-69e6-4736-9945-f69c6e8d4dd8\" class=\"sk-toggleable__label sk-toggleable__label-arrow\">pipeline-2</label><div class=\"sk-toggleable__content\"><pre>[&#x27;MSZoning&#x27;, &#x27;Street&#x27;, &#x27;Alley&#x27;, &#x27;LotShape&#x27;, &#x27;LandContour&#x27;, &#x27;Utilities&#x27;, &#x27;LotConfig&#x27;, &#x27;LandSlope&#x27;, &#x27;Neighborhood&#x27;, &#x27;Condition1&#x27;, &#x27;Condition2&#x27;, &#x27;BldgType&#x27;, &#x27;HouseStyle&#x27;, &#x27;RoofStyle&#x27;, &#x27;RoofMatl&#x27;, &#x27;Exterior1st&#x27;, &#x27;Exterior2nd&#x27;, &#x27;MasVnrType&#x27;, &#x27;Foundation&#x27;, &#x27;BsmtExposure&#x27;, &#x27;Heating&#x27;, &#x27;CentralAir&#x27;, &#x27;Electrical&#x27;, &#x27;Functional&#x27;, &#x27;GarageType&#x27;, &#x27;PavedDrive&#x27;, &#x27;MiscFeature&#x27;, &#x27;SaleType&#x27;, &#x27;SaleCondition&#x27;]</pre></div></div></div><div class=\"sk-serial\"><div class=\"sk-item\"><div class=\"sk-serial\"><div class=\"sk-item\"><div class=\"sk-estimator sk-toggleable\"><input class=\"sk-toggleable__control sk-hidden--visually\" id=\"ebd6486e-d401-4bdb-9e05-43e9c6069f48\" type=\"checkbox\" ><label for=\"ebd6486e-d401-4bdb-9e05-43e9c6069f48\" class=\"sk-toggleable__label sk-toggleable__label-arrow\">SimpleImputer</label><div class=\"sk-toggleable__content\"><pre>SimpleImputer(strategy=&#x27;most_frequent&#x27;)</pre></div></div></div><div class=\"sk-item\"><div class=\"sk-estimator sk-toggleable\"><input class=\"sk-toggleable__control sk-hidden--visually\" id=\"3c657d6c-328d-4d49-81c8-c6f6bd36c9c4\" type=\"checkbox\" ><label for=\"3c657d6c-328d-4d49-81c8-c6f6bd36c9c4\" class=\"sk-toggleable__label sk-toggleable__label-arrow\">OneHotEncoder</label><div class=\"sk-toggleable__content\"><pre>OneHotEncoder(handle_unknown=&#x27;ignore&#x27;, sparse=&#x27;False&#x27;)</pre></div></div></div></div></div></div></div></div><div class=\"sk-parallel-item\"><div class=\"sk-item\"><div class=\"sk-label-container\"><div class=\"sk-label sk-toggleable\"><input class=\"sk-toggleable__control sk-hidden--visually\" id=\"7d5ece62-afe0-4228-a19d-fd4d5f0d1ebc\" type=\"checkbox\" ><label for=\"7d5ece62-afe0-4228-a19d-fd4d5f0d1ebc\" class=\"sk-toggleable__label sk-toggleable__label-arrow\">pipeline-3</label><div class=\"sk-toggleable__content\"><pre>[&#x27;MSSubClass&#x27;, &#x27;LotFrontage&#x27;, &#x27;LotArea&#x27;, &#x27;OverallQual&#x27;, &#x27;OverallCond&#x27;, &#x27;YearBuilt&#x27;, &#x27;YearRemodAdd&#x27;, &#x27;MasVnrArea&#x27;, &#x27;BsmtFinSF1&#x27;, &#x27;BsmtFinSF2&#x27;, &#x27;BsmtUnfSF&#x27;, &#x27;TotalBsmtSF&#x27;, &#x27;1stFlrSF&#x27;, &#x27;2ndFlrSF&#x27;, &#x27;LowQualFinSF&#x27;, &#x27;GrLivArea&#x27;, &#x27;BsmtFullBath&#x27;, &#x27;BsmtHalfBath&#x27;, &#x27;FullBath&#x27;, &#x27;HalfBath&#x27;, &#x27;BedroomAbvGr&#x27;, &#x27;KitchenAbvGr&#x27;, &#x27;TotRmsAbvGrd&#x27;, &#x27;Fireplaces&#x27;, &#x27;GarageYrBlt&#x27;, &#x27;GarageCars&#x27;, &#x27;GarageArea&#x27;, &#x27;WoodDeckSF&#x27;, &#x27;OpenPorchSF&#x27;, &#x27;EnclosedPorch&#x27;, &#x27;3SsnPorch&#x27;, &#x27;ScreenPorch&#x27;, &#x27;PoolArea&#x27;, &#x27;MiscVal&#x27;, &#x27;MoSold&#x27;, &#x27;YrSold&#x27;]</pre></div></div></div><div class=\"sk-serial\"><div class=\"sk-item\"><div class=\"sk-serial\"><div class=\"sk-item\"><div class=\"sk-estimator sk-toggleable\"><input class=\"sk-toggleable__control sk-hidden--visually\" id=\"7e2ef138-eaf7-4489-a1bb-e26eb21a3408\" type=\"checkbox\" ><label for=\"7e2ef138-eaf7-4489-a1bb-e26eb21a3408\" class=\"sk-toggleable__label sk-toggleable__label-arrow\">SimpleImputer</label><div class=\"sk-toggleable__content\"><pre>SimpleImputer()</pre></div></div></div><div class=\"sk-item\"><div class=\"sk-estimator sk-toggleable\"><input class=\"sk-toggleable__control sk-hidden--visually\" id=\"58a28743-dcfa-44fb-a148-928d6226445b\" type=\"checkbox\" ><label for=\"58a28743-dcfa-44fb-a148-928d6226445b\" class=\"sk-toggleable__label sk-toggleable__label-arrow\">MinMaxScaler</label><div class=\"sk-toggleable__content\"><pre>MinMaxScaler()</pre></div></div></div></div></div></div></div></div></div></div><div class=\"sk-item\"><div class=\"sk-estimator sk-toggleable\"><input class=\"sk-toggleable__control sk-hidden--visually\" id=\"72e14471-3e53-4302-8ce2-dbb74080e725\" type=\"checkbox\" ><label for=\"72e14471-3e53-4302-8ce2-dbb74080e725\" class=\"sk-toggleable__label sk-toggleable__label-arrow\">SelectPercentile</label><div class=\"sk-toggleable__content\"><pre>SelectPercentile(percentile=25,\n",
       "                 score_func=&lt;function mutual_info_regression at 0x126ba2dc0&gt;)</pre></div></div></div></div></div></div></div>"
      ],
      "text/plain": [
       "Pipeline(steps=[('columntransformer',\n",
       "                 ColumnTransformer(sparse_threshold=0,\n",
       "                                   transformers=[('pipeline-1',\n",
       "                                                  Pipeline(steps=[('ordinalencoder',\n",
       "                                                                   OrdinalEncoder(categories=[['NA',\n",
       "                                                                                               'Po',\n",
       "                                                                                               'Fa',\n",
       "                                                                                               'TA',\n",
       "                                                                                               'Gd',\n",
       "                                                                                               'Ex'],\n",
       "                                                                                              ['NA',\n",
       "                                                                                               'Unf',\n",
       "                                                                                               'LwQ',\n",
       "                                                                                               'Rec',\n",
       "                                                                                               'BLQ',\n",
       "                                                                                               'ALQ',\n",
       "                                                                                               'GLQ'],\n",
       "                                                                                              ['NA',\n",
       "                                                                                               'Unf',\n",
       "                                                                                               'LwQ',\n",
       "                                                                                               'Rec',\n",
       "                                                                                               'BLQ',\n",
       "                                                                                               'ALQ',\n",
       "                                                                                               'GLQ'],\n",
       "                                                                                              ['NA',\n",
       "                                                                                               'Po',\n",
       "                                                                                               'Fa',\n",
       "                                                                                               'TA',\n",
       "                                                                                               'Gd',\n",
       "                                                                                               'Ex'],\n",
       "                                                                                              ['Po',\n",
       "                                                                                               'Fa',\n",
       "                                                                                               'TA',\n",
       "                                                                                               'Gd',\n",
       "                                                                                               'Ex'],\n",
       "                                                                                              ['Po',\n",
       "                                                                                               'Fa'...\n",
       "                                                   '1stFlrSF', '2ndFlrSF',\n",
       "                                                   'LowQualFinSF', 'GrLivArea',\n",
       "                                                   'BsmtFullBath',\n",
       "                                                   'BsmtHalfBath', 'FullBath',\n",
       "                                                   'HalfBath', 'BedroomAbvGr',\n",
       "                                                   'KitchenAbvGr',\n",
       "                                                   'TotRmsAbvGrd', 'Fireplaces',\n",
       "                                                   'GarageYrBlt', 'GarageCars',\n",
       "                                                   'GarageArea', 'WoodDeckSF',\n",
       "                                                   'OpenPorchSF',\n",
       "                                                   'EnclosedPorch', ...])])),\n",
       "                ('selectpercentile',\n",
       "                 SelectPercentile(percentile=25,\n",
       "                                  score_func=<function mutual_info_regression at 0x126ba2dc0>))])"
      ]
     },
     "execution_count": 33,
     "metadata": {},
     "output_type": "execute_result"
    }
   ],
   "source": [
    "# YOUR CODE HERE\n",
    "from sklearn.feature_selection import SelectPercentile, mutual_info_regression\n",
    "\n",
    "preproc_selector = SelectPercentile(mutual_info_regression, percentile = 25)\n",
    "\n",
    "\n",
    "preproc = make_pipeline(\n",
    "            prep_transformer,\n",
    "            preproc_selector)\n",
    "\n",
    "preproc\n",
    "\n"
   ]
  },
  {
   "cell_type": "code",
   "execution_count": 34,
   "metadata": {},
   "outputs": [
    {
     "data": {
      "text/plain": [
       "(1460, 79)"
      ]
     },
     "execution_count": 34,
     "metadata": {},
     "output_type": "execute_result"
    }
   ],
   "source": [
    "X.shape"
   ]
  },
  {
   "cell_type": "code",
   "execution_count": 35,
   "metadata": {},
   "outputs": [
    {
     "data": {
      "text/plain": [
       "(1460, 60)"
      ]
     },
     "execution_count": 35,
     "metadata": {},
     "output_type": "execute_result"
    }
   ],
   "source": [
    "preproc.fit_transform(X,y).shape"
   ]
  },
  {
   "cell_type": "markdown",
   "metadata": {},
   "source": [
    "#### (option 2) <font color=green>Multivariate</font> feature selection based their combined relationship with target `y`"
   ]
  },
  {
   "cell_type": "markdown",
   "metadata": {},
   "source": [
    "🤔 We want to remove features that, when in combination with all the others, do not really help predict our target.\n",
    "\n",
    "1️⃣ To do so, remember that we can use feature [`permutation_importance`](https://scikit-learn.org/stable/modules/permutation_importance.html) importance in combination with an estimator! It train one pipe per feature, so as to estimate which feature make our performance score *decrease* the most when shuffling it randomly. These would be our most important feature not to remove. \n",
    "\n",
    "Cherry on the cake, scikit-learn allows you to integrate this methodology directly into your `preproc` pipeline thanks to the `SequentialFeatureSelector` transformer: This will recursively filter-out least important features according to `feature_permutation` importance!  \n",
    "\n",
    "However, such process can take extremely long to train when you have many features.\n",
    "\n",
    "2️⃣ Alternatively, a faster way would be to make use of models that already outputs some measure of feature_importance when fitting them. For instance, Trees with gini-based `feature_importance_`, or Lasso regressions with L1 `coef_`. Again here, scikit-learn has coded for you a [`SelectFromModel`](https://scikit-learn.org/stable/modules/generated/sklearn.feature_selection.SelectFromModel.html) transformer to do just that"
   ]
  },
  {
   "cell_type": "code",
   "execution_count": 36,
   "metadata": {
    "tags": [
     "challengify"
    ]
   },
   "outputs": [
    {
     "data": {
      "text/plain": [
       "(1460, 21)"
      ]
     },
     "execution_count": 36,
     "metadata": {},
     "output_type": "execute_result"
    }
   ],
   "source": [
    "# YOUR CODE HERE\n",
    "from sklearn.inspection import permutation_importance\n",
    "from sklearn.ensemble import RandomForestRegressor\n",
    "from sklearn.feature_selection import SelectFromModel\n",
    "\n",
    "preproc_selector = SelectFromModel(estimator = RandomForestRegressor())\n",
    "\n",
    "preproc = make_pipeline(\n",
    "            prep_transformer,\n",
    "            preproc_selector)\n",
    "\n",
    "preproc.fit_transform(X,y).shape\n",
    "\n",
    "\n"
   ]
  },
  {
   "cell_type": "markdown",
   "metadata": {},
   "source": [
    "#### (option 3) <font color=green>Unsupervised</font> selection: Filter based only on the properties of `X`? "
   ]
  },
  {
   "cell_type": "markdown",
   "metadata": {},
   "source": [
    "❓ A quick-win is to remove features with the lowest variance. Think about it: a feature which only takes one value is useless (and has a variance of 0).  \n",
    "- Feel free to add a `VarianceThreshold` to the end of your pipeline"
   ]
  },
  {
   "cell_type": "code",
   "execution_count": 37,
   "metadata": {
    "tags": [
     "challengify"
    ]
   },
   "outputs": [
    {
     "data": {
      "image/png": "[encoded data removed]",
      "text/plain": [
       "<Figure size 432x288 with 1 Axes>"
      ]
     },
     "metadata": {
      "needs_background": "light"
     },
     "output_type": "display_data"
    }
   ],
   "source": [
    "# YOUR CODE HERE\n",
    "\n",
    "from sklearn.feature_selection import VarianceThreshold\n",
    "\n",
    "def number_feature_remaining(cutoff=0):\n",
    "    preproc_transformer = make_column_transformer((preproc_ordinal, ord_cat_list),\n",
    "                               (preproc_nominal, nom_cat_list),\n",
    "                               (preproc_num, feat_numerical), \n",
    "                                sparse_threshold=0,\n",
    "                                remainder=\"drop\"\n",
    "                              )\n",
    "\n",
    "    preproc_selector = VarianceThreshold(cutoff)\n",
    "\n",
    "    preproc = make_pipeline(\n",
    "        preproc_transformer,\n",
    "        preproc_selector)\n",
    "\n",
    "    return preproc.fit_transform(X).shape[1]\n",
    "\n",
    "cutoff_values = np.arange(0, 0.2, 0.01)\n",
    "plt.plot(cutoff_values, [number_feature_remaining(t) for t in cutoff_values], marker='x')\n",
    "plt.xlabel(\"chosen feature variance cutoff values\")\n",
    "plt.title(\"Number of Feature Remaining\");"
   ]
  },
  {
   "cell_type": "markdown",
   "metadata": {},
   "source": [
    "❓ Additionally, we can check for correlation between our **numerical features** only\n",
    "\n",
    "- Use [Pearson's correlation](https://en.wikipedia.org/wiki/Pearson_correlation_coefficient) combined with a heatmap to check visually whether some **numerical** features almost entirely correlated with others. \n",
    "- Use statsmodels's `VIF` to check for feature that have the highest multicolionearity"
   ]
  },
  {
   "cell_type": "code",
   "execution_count": 38,
   "metadata": {
    "tags": [
     "challengify"
    ]
   },
   "outputs": [
    {
     "data": {
      "image/png": "[encoded data removed]",
      "text/plain": [
       "<Figure size 504x360 with 2 Axes>"
      ]
     },
     "metadata": {
      "needs_background": "light"
     },
     "output_type": "display_data"
    }
   ],
   "source": [
    "# YOUR CODE HERE\n",
    "corr_num = X[feat_numerical].corr()\n",
    "plt.figure(figsize=(7,5))\n",
    "sns.heatmap(corr_num, cmap='coolwarm',vmin=-1, vmax=1);"
   ]
  },
  {
   "cell_type": "code",
   "execution_count": 39,
   "metadata": {},
   "outputs": [
    {
     "data": {
      "text/plain": [
       "['1stFlrSF', 'TotRmsAbvGrd', 'GarageYrBlt', 'GarageArea']"
      ]
     },
     "execution_count": 39,
     "metadata": {},
     "output_type": "execute_result"
    }
   ],
   "source": [
    "# Check which columns to drop based on too high correlation \n",
    "num_corr_threshold = 0.8\n",
    "\n",
    "corr_num = X[feat_numerical].corr()\n",
    "corr_num_upper_triangle = corr_num.where(np.triu(np.ones(corr_num.shape),k=1).astype(np.bool)).abs()\n",
    "num_col_to_drop = [column for column in corr_num_upper_triangle.columns if any(corr_num_upper_triangle[column] > num_corr_threshold)]\n",
    "num_col_to_drop"
   ]
  },
  {
   "cell_type": "markdown",
   "metadata": {},
   "source": [
    "❓ For **ordinal features**, we can use [Spearman's rank correlation](https://en.wikipedia.org/wiki/Spearman%27s_rank_correlation_coefficient) instead to check whether some **ordinally encoded** features are almost entirely \"ordered\" similarily than others. Feel free to plot a heatmap again"
   ]
  },
  {
   "cell_type": "code",
   "execution_count": 40,
   "metadata": {
    "tags": [
     "challengify"
    ]
   },
   "outputs": [
    {
     "data": {
      "image/png": "[encoded data removed]",
      "text/plain": [
       "<Figure size 432x288 with 2 Axes>"
      ]
     },
     "metadata": {
      "needs_background": "light"
     },
     "output_type": "display_data"
    }
   ],
   "source": [
    "# YOUR CODE HERE\n",
    "X_ordinally_encoded = pd.DataFrame(preproc_ordinal.fit_transform(X[ord_cat_list]))\n",
    "sns.heatmap(X_ordinally_encoded.corr(method='spearman'), cmap='coolwarm', vmin=-1, vmax=1);"
   ]
  },
  {
   "cell_type": "markdown",
   "metadata": {},
   "source": [
    "❓Now, feel free to create a \"filter\" in your pipeline that removes any feature you want beyond a given (spearman + peasron) correlation threshold. You'll need a custom transformer class"
   ]
  },
  {
   "cell_type": "code",
   "execution_count": 41,
   "metadata": {
    "tags": [
     "challengify"
    ]
   },
   "outputs": [
    {
     "data": {
      "text/html": [
       "<div>\n",
       "<style scoped>\n",
       "    .dataframe tbody tr th:only-of-type {\n",
       "        vertical-align: middle;\n",
       "    }\n",
       "\n",
       "    .dataframe tbody tr th {\n",
       "        vertical-align: top;\n",
       "    }\n",
       "\n",
       "    .dataframe thead th {\n",
       "        text-align: right;\n",
       "    }\n",
       "</style>\n",
       "<table border=\"1\" class=\"dataframe\">\n",
       "  <thead>\n",
       "    <tr style=\"text-align: right;\">\n",
       "      <th></th>\n",
       "      <th>MSSubClass</th>\n",
       "      <th>OverallCond</th>\n",
       "      <th>BsmtFinSF2</th>\n",
       "      <th>LowQualFinSF</th>\n",
       "      <th>BsmtHalfBath</th>\n",
       "      <th>3SsnPorch</th>\n",
       "      <th>ScreenPorch</th>\n",
       "      <th>MiscVal</th>\n",
       "      <th>MoSold</th>\n",
       "      <th>YrSold</th>\n",
       "    </tr>\n",
       "  </thead>\n",
       "  <tbody>\n",
       "    <tr>\n",
       "      <th>0</th>\n",
       "      <td>60</td>\n",
       "      <td>5</td>\n",
       "      <td>0</td>\n",
       "      <td>0</td>\n",
       "      <td>0</td>\n",
       "      <td>0</td>\n",
       "      <td>0</td>\n",
       "      <td>0</td>\n",
       "      <td>2</td>\n",
       "      <td>2008</td>\n",
       "    </tr>\n",
       "    <tr>\n",
       "      <th>1</th>\n",
       "      <td>20</td>\n",
       "      <td>8</td>\n",
       "      <td>0</td>\n",
       "      <td>0</td>\n",
       "      <td>1</td>\n",
       "      <td>0</td>\n",
       "      <td>0</td>\n",
       "      <td>0</td>\n",
       "      <td>5</td>\n",
       "      <td>2007</td>\n",
       "    </tr>\n",
       "  </tbody>\n",
       "</table>\n",
       "</div>"
      ],
      "text/plain": [
       "   MSSubClass  OverallCond  BsmtFinSF2  LowQualFinSF  BsmtHalfBath  3SsnPorch  \\\n",
       "0          60            5           0             0             0          0   \n",
       "1          20            8           0             0             1          0   \n",
       "\n",
       "   ScreenPorch  MiscVal  MoSold  YrSold  \n",
       "0            0        0       2    2008  \n",
       "1            0        0       5    2007  "
      ]
     },
     "execution_count": 41,
     "metadata": {},
     "output_type": "execute_result"
    }
   ],
   "source": [
    "# YOUR CODE HERE\n",
    "from sklearn.base import BaseEstimator, TransformerMixin\n",
    "\n",
    "\n",
    "class CustomFeatureSelector(BaseEstimator, TransformerMixin):\n",
    "    def __init__(self, num_corr_threshold=0.95):\n",
    "        self.num_corr_threshold = num_corr_threshold\n",
    "\n",
    "    def fit(self, X, y=None):\n",
    "        corr_num = X[feat_numerical].corr()\n",
    "        upper = corr_num.where(np.triu(np.ones(corr_num.shape), k=1).astype(np.bool)).abs()\n",
    "        self.num_col_to_drop = [column for column in upper.columns if any(upper[column] > self.num_corr_threshold)]\n",
    "        self.num_col = X[feat_numerical].columns\n",
    "        return self\n",
    "\n",
    "    def transform(self, X, y=None):\n",
    "        df = pd.DataFrame(X, columns=self.num_col)\n",
    "        return df.drop(columns=self.num_col_to_drop)\n",
    "    \n",
    "# Test it here\n",
    "CustomFeatureSelector(num_corr_threshold=0.2).fit_transform(X[feat_numerical]).head(2)"
   ]
  },
  {
   "cell_type": "markdown",
   "metadata": {},
   "source": [
    "### c) Target engineering (15 min)"
   ]
  },
  {
   "cell_type": "markdown",
   "metadata": {},
   "source": [
    "❓ We are asked to minimize the RMS**L**E. Why don't we transform our target to directly predict its log?\n",
    "- Check-out the histogram of the target `y`.\n",
    "- Normally distributed variables should be easier to predict with linear or parametric models. \n",
    "- Create `y_log` and your new performance metrics\n",
    "- Don't forget at the end to take the exponential of your predictions!"
   ]
  },
  {
   "cell_type": "code",
   "execution_count": 42,
   "metadata": {
    "tags": [
     "challengify"
    ]
   },
   "outputs": [
    {
     "data": {
      "image/png": "[encoded data removed]",
      "text/plain": [
       "<Figure size 1080x216 with 2 Axes>"
      ]
     },
     "metadata": {
      "needs_background": "light"
     },
     "output_type": "display_data"
    }
   ],
   "source": [
    "# YOUR CODE HERE\n",
    "y_log = np.log(y)\n",
    "plt.figure(figsize=(15,3))\n",
    "plt.subplot(1,2,1)\n",
    "sns.histplot(y)\n",
    "plt.subplot(1,2,2)\n",
    "sns.histplot(y_log, color='green');"
   ]
  },
  {
   "cell_type": "code",
   "execution_count": 43,
   "metadata": {},
   "outputs": [],
   "source": [
    "# Create your new scorer to minimize\n",
    "from sklearn.metrics import mean_squared_error, mean_squared_log_error\n",
    "rmsle = make_scorer(lambda y_true, y_pred: mean_squared_log_error(y_true, y_pred)**0.5)\n",
    "\n",
    "# Create your new scorer to maximize\n",
    "rmsle_neg = make_scorer(lambda y_true, y_pred: -1 * mean_squared_log_error(y_true, y_pred)**0.5)"
   ]
  },
  {
   "cell_type": "code",
   "execution_count": 44,
   "metadata": {},
   "outputs": [],
   "source": [
    "# Create your new scorer to minimize\n",
    "rmse = make_scorer(lambda y_true, y_pred: mean_squared_error(y_true, y_pred)**0.5)\n",
    "\n",
    "# Create your new scorer to maximize\n",
    "rmse_neg = make_scorer(lambda y_true, y_pred: -1 * mean_squared_error(y_true, y_pred)**0.5)"
   ]
  },
  {
   "cell_type": "markdown",
   "metadata": {},
   "source": [
    "## 2.2 Models Iteration ♻"
   ]
  },
  {
   "cell_type": "markdown",
   "metadata": {},
   "source": [
    "### a ) Final version of the preproc pipeline\n",
    "❓ We advise you to start with a fresh definition below so you can quickly update it as need be."
   ]
  },
  {
   "cell_type": "markdown",
   "metadata": {},
   "source": [
    "#### Decision Tree Regressor\n",
    "**Scores**<br>\n",
    "Initial CV Score: **0.21** <br>\n",
    "After pre-process improvements: **0.21** <br>\n",
    "After Gridsearching:"
   ]
  },
  {
   "cell_type": "markdown",
   "metadata": {},
   "source": [
    "👍 Advantages\n",
    "\n",
    "- No scaling necessary\n",
    "- Resistant to outliers\n",
    "- Intuitive and interpretable\n",
    "- Allow feature selection (see gini-based feature_importance_)\n",
    "- Non-Linear modelisation\n",
    "\n",
    "\n",
    "👎 Disadvantages\n",
    "\n",
    "- High variance (i.e small change in data has a big change in the tree structure)\n",
    "- Long training time if grown up to max depth \n",
    "- Split data \"orthogonally\" to feature directions\n",
    "    - 💡 use PCA upfront to \"orient\" data"
   ]
  },
  {
   "cell_type": "code",
   "execution_count": 45,
   "metadata": {
    "tags": [
     "challengify"
    ]
   },
   "outputs": [
    {
     "name": "stdout",
     "output_type": "stream",
     "text": [
      "0.21060737288993434\n"
     ]
    }
   ],
   "source": [
    "# YOUR CODE HERE\n",
    "num_prep = make_pipeline(SimpleImputer(strategy = 'mean'), \n",
    "                         MinMaxScaler()\n",
    "                        )\n",
    "\n",
    "cat_prep = make_pipeline(SimpleImputer(strategy = 'most_frequent'),\n",
    "                         OneHotEncoder(handle_unknown = 'ignore')\n",
    "                        )\n",
    "\n",
    "prep = make_column_transformer((num_prep, feat_numerical),\n",
    "                               (cat_prep, feat_categorical_small)\n",
    "                              )\n",
    "pipe_baseline = make_pipeline(prep,\n",
    "                              DecisionTreeRegressor()\n",
    "                              )\n",
    "\n",
    "cv_score = cross_val_score(pipe_baseline, X, y, \n",
    "                           cv = 5,\n",
    "                           n_jobs = -1,\n",
    "                           scoring = rmsle)\n",
    "\n",
    "score_baseline = cv_score.mean()\n",
    "print(score_baseline)"
   ]
  },
  {
   "cell_type": "code",
   "execution_count": 46,
   "metadata": {},
   "outputs": [
    {
     "data": {
      "text/html": [
       "<style>#sk-151e412e-dce6-4f12-b80c-5a1ab4944ebe {color: black;background-color: white;}#sk-151e412e-dce6-4f12-b80c-5a1ab4944ebe pre{padding: 0;}#sk-151e412e-dce6-4f12-b80c-5a1ab4944ebe div.sk-toggleable {background-color: white;}#sk-151e412e-dce6-4f12-b80c-5a1ab4944ebe label.sk-toggleable__label {cursor: pointer;display: block;width: 100%;margin-bottom: 0;padding: 0.3em;box-sizing: border-box;text-align: center;}#sk-151e412e-dce6-4f12-b80c-5a1ab4944ebe label.sk-toggleable__label-arrow:before {content: \"▸\";float: left;margin-right: 0.25em;color: #696969;}#sk-151e412e-dce6-4f12-b80c-5a1ab4944ebe label.sk-toggleable__label-arrow:hover:before {color: black;}#sk-151e412e-dce6-4f12-b80c-5a1ab4944ebe div.sk-estimator:hover label.sk-toggleable__label-arrow:before {color: black;}#sk-151e412e-dce6-4f12-b80c-5a1ab4944ebe div.sk-toggleable__content {max-height: 0;max-width: 0;overflow: hidden;text-align: left;background-color: #f0f8ff;}#sk-151e412e-dce6-4f12-b80c-5a1ab4944ebe div.sk-toggleable__content pre {margin: 0.2em;color: black;border-radius: 0.25em;background-color: #f0f8ff;}#sk-151e412e-dce6-4f12-b80c-5a1ab4944ebe input.sk-toggleable__control:checked~div.sk-toggleable__content {max-height: 200px;max-width: 100%;overflow: auto;}#sk-151e412e-dce6-4f12-b80c-5a1ab4944ebe input.sk-toggleable__control:checked~label.sk-toggleable__label-arrow:before {content: \"▾\";}#sk-151e412e-dce6-4f12-b80c-5a1ab4944ebe div.sk-estimator input.sk-toggleable__control:checked~label.sk-toggleable__label {background-color: #d4ebff;}#sk-151e412e-dce6-4f12-b80c-5a1ab4944ebe div.sk-label input.sk-toggleable__control:checked~label.sk-toggleable__label {background-color: #d4ebff;}#sk-151e412e-dce6-4f12-b80c-5a1ab4944ebe input.sk-hidden--visually {border: 0;clip: rect(1px 1px 1px 1px);clip: rect(1px, 1px, 1px, 1px);height: 1px;margin: -1px;overflow: hidden;padding: 0;position: absolute;width: 1px;}#sk-151e412e-dce6-4f12-b80c-5a1ab4944ebe div.sk-estimator {font-family: monospace;background-color: #f0f8ff;border: 1px dotted black;border-radius: 0.25em;box-sizing: border-box;margin-bottom: 0.5em;}#sk-151e412e-dce6-4f12-b80c-5a1ab4944ebe div.sk-estimator:hover {background-color: #d4ebff;}#sk-151e412e-dce6-4f12-b80c-5a1ab4944ebe div.sk-parallel-item::after {content: \"\";width: 100%;border-bottom: 1px solid gray;flex-grow: 1;}#sk-151e412e-dce6-4f12-b80c-5a1ab4944ebe div.sk-label:hover label.sk-toggleable__label {background-color: #d4ebff;}#sk-151e412e-dce6-4f12-b80c-5a1ab4944ebe div.sk-serial::before {content: \"\";position: absolute;border-left: 1px solid gray;box-sizing: border-box;top: 2em;bottom: 0;left: 50%;}#sk-151e412e-dce6-4f12-b80c-5a1ab4944ebe div.sk-serial {display: flex;flex-direction: column;align-items: center;background-color: white;padding-right: 0.2em;padding-left: 0.2em;}#sk-151e412e-dce6-4f12-b80c-5a1ab4944ebe div.sk-item {z-index: 1;}#sk-151e412e-dce6-4f12-b80c-5a1ab4944ebe div.sk-parallel {display: flex;align-items: stretch;justify-content: center;background-color: white;}#sk-151e412e-dce6-4f12-b80c-5a1ab4944ebe div.sk-parallel::before {content: \"\";position: absolute;border-left: 1px solid gray;box-sizing: border-box;top: 2em;bottom: 0;left: 50%;}#sk-151e412e-dce6-4f12-b80c-5a1ab4944ebe div.sk-parallel-item {display: flex;flex-direction: column;position: relative;background-color: white;}#sk-151e412e-dce6-4f12-b80c-5a1ab4944ebe div.sk-parallel-item:first-child::after {align-self: flex-end;width: 50%;}#sk-151e412e-dce6-4f12-b80c-5a1ab4944ebe div.sk-parallel-item:last-child::after {align-self: flex-start;width: 50%;}#sk-151e412e-dce6-4f12-b80c-5a1ab4944ebe div.sk-parallel-item:only-child::after {width: 0;}#sk-151e412e-dce6-4f12-b80c-5a1ab4944ebe div.sk-dashed-wrapped {border: 1px dashed gray;margin: 0 0.4em 0.5em 0.4em;box-sizing: border-box;padding-bottom: 0.4em;background-color: white;position: relative;}#sk-151e412e-dce6-4f12-b80c-5a1ab4944ebe div.sk-label label {font-family: monospace;font-weight: bold;background-color: white;display: inline-block;line-height: 1.2em;}#sk-151e412e-dce6-4f12-b80c-5a1ab4944ebe div.sk-label-container {position: relative;z-index: 2;text-align: center;}#sk-151e412e-dce6-4f12-b80c-5a1ab4944ebe div.sk-container {/* jupyter's `normalize.less` sets `[hidden] { display: none; }` but bootstrap.min.css set `[hidden] { display: none !important; }` so we also need the `!important` here to be able to override the default hidden behavior on the sphinx rendered scikit-learn.org. See: https://github.com/scikit-learn/scikit-learn/issues/21755 */display: inline-block !important;position: relative;}#sk-151e412e-dce6-4f12-b80c-5a1ab4944ebe div.sk-text-repr-fallback {display: none;}</style><div id=\"sk-151e412e-dce6-4f12-b80c-5a1ab4944ebe\" class=\"sk-top-container\"><div class=\"sk-text-repr-fallback\"><pre>Pipeline(steps=[(&#x27;columntransformer&#x27;,\n",
       "                 ColumnTransformer(sparse_threshold=0,\n",
       "                                   transformers=[(&#x27;pipeline-1&#x27;,\n",
       "                                                  Pipeline(steps=[(&#x27;ordinalencoder&#x27;,\n",
       "                                                                   OrdinalEncoder(categories=[[&#x27;NA&#x27;,\n",
       "                                                                                               &#x27;Po&#x27;,\n",
       "                                                                                               &#x27;Fa&#x27;,\n",
       "                                                                                               &#x27;TA&#x27;,\n",
       "                                                                                               &#x27;Gd&#x27;,\n",
       "                                                                                               &#x27;Ex&#x27;],\n",
       "                                                                                              [&#x27;NA&#x27;,\n",
       "                                                                                               &#x27;Unf&#x27;,\n",
       "                                                                                               &#x27;LwQ&#x27;,\n",
       "                                                                                               &#x27;Rec&#x27;,\n",
       "                                                                                               &#x27;BLQ&#x27;,\n",
       "                                                                                               &#x27;ALQ&#x27;,\n",
       "                                                                                               &#x27;GLQ&#x27;],\n",
       "                                                                                              [&#x27;NA&#x27;,\n",
       "                                                                                               &#x27;Unf&#x27;,\n",
       "                                                                                               &#x27;LwQ&#x27;,\n",
       "                                                                                               &#x27;Rec&#x27;,\n",
       "                                                                                               &#x27;BLQ&#x27;,\n",
       "                                                                                               &#x27;ALQ&#x27;,\n",
       "                                                                                               &#x27;GLQ&#x27;],\n",
       "                                                                                              [&#x27;NA&#x27;,\n",
       "                                                                                               &#x27;Po&#x27;,\n",
       "                                                                                               &#x27;Fa&#x27;,\n",
       "                                                                                               &#x27;TA&#x27;,\n",
       "                                                                                               &#x27;Gd&#x27;,\n",
       "                                                                                               &#x27;Ex&#x27;],\n",
       "                                                                                              [&#x27;Po&#x27;,\n",
       "                                                                                               &#x27;Fa&#x27;,\n",
       "                                                                                               &#x27;TA&#x27;,\n",
       "                                                                                               &#x27;Gd&#x27;,\n",
       "                                                                                               &#x27;Ex&#x27;],\n",
       "                                                                                              [&#x27;Po&#x27;,\n",
       "                                                                                               &#x27;Fa&#x27;...\n",
       "                                                   &#x27;1stFlrSF&#x27;, &#x27;2ndFlrSF&#x27;,\n",
       "                                                   &#x27;LowQualFinSF&#x27;, &#x27;GrLivArea&#x27;,\n",
       "                                                   &#x27;BsmtFullBath&#x27;,\n",
       "                                                   &#x27;BsmtHalfBath&#x27;, &#x27;FullBath&#x27;,\n",
       "                                                   &#x27;HalfBath&#x27;, &#x27;BedroomAbvGr&#x27;,\n",
       "                                                   &#x27;KitchenAbvGr&#x27;,\n",
       "                                                   &#x27;TotRmsAbvGrd&#x27;, &#x27;Fireplaces&#x27;,\n",
       "                                                   &#x27;GarageYrBlt&#x27;, &#x27;GarageCars&#x27;,\n",
       "                                                   &#x27;GarageArea&#x27;, &#x27;WoodDeckSF&#x27;,\n",
       "                                                   &#x27;OpenPorchSF&#x27;,\n",
       "                                                   &#x27;EnclosedPorch&#x27;, ...])])),\n",
       "                (&#x27;selectpercentile&#x27;,\n",
       "                 SelectPercentile(percentile=50,\n",
       "                                  score_func=&lt;function mutual_info_regression at 0x126ba2dc0&gt;))])</pre><b>Please rerun this cell to show the HTML repr or trust the notebook.</b></div><div class=\"sk-container\" hidden><div class=\"sk-item sk-dashed-wrapped\"><div class=\"sk-label-container\"><div class=\"sk-label sk-toggleable\"><input class=\"sk-toggleable__control sk-hidden--visually\" id=\"fe93e3e5-9ac8-41f5-8563-e9a39831a56d\" type=\"checkbox\" ><label for=\"fe93e3e5-9ac8-41f5-8563-e9a39831a56d\" class=\"sk-toggleable__label sk-toggleable__label-arrow\">Pipeline</label><div class=\"sk-toggleable__content\"><pre>Pipeline(steps=[(&#x27;columntransformer&#x27;,\n",
       "                 ColumnTransformer(sparse_threshold=0,\n",
       "                                   transformers=[(&#x27;pipeline-1&#x27;,\n",
       "                                                  Pipeline(steps=[(&#x27;ordinalencoder&#x27;,\n",
       "                                                                   OrdinalEncoder(categories=[[&#x27;NA&#x27;,\n",
       "                                                                                               &#x27;Po&#x27;,\n",
       "                                                                                               &#x27;Fa&#x27;,\n",
       "                                                                                               &#x27;TA&#x27;,\n",
       "                                                                                               &#x27;Gd&#x27;,\n",
       "                                                                                               &#x27;Ex&#x27;],\n",
       "                                                                                              [&#x27;NA&#x27;,\n",
       "                                                                                               &#x27;Unf&#x27;,\n",
       "                                                                                               &#x27;LwQ&#x27;,\n",
       "                                                                                               &#x27;Rec&#x27;,\n",
       "                                                                                               &#x27;BLQ&#x27;,\n",
       "                                                                                               &#x27;ALQ&#x27;,\n",
       "                                                                                               &#x27;GLQ&#x27;],\n",
       "                                                                                              [&#x27;NA&#x27;,\n",
       "                                                                                               &#x27;Unf&#x27;,\n",
       "                                                                                               &#x27;LwQ&#x27;,\n",
       "                                                                                               &#x27;Rec&#x27;,\n",
       "                                                                                               &#x27;BLQ&#x27;,\n",
       "                                                                                               &#x27;ALQ&#x27;,\n",
       "                                                                                               &#x27;GLQ&#x27;],\n",
       "                                                                                              [&#x27;NA&#x27;,\n",
       "                                                                                               &#x27;Po&#x27;,\n",
       "                                                                                               &#x27;Fa&#x27;,\n",
       "                                                                                               &#x27;TA&#x27;,\n",
       "                                                                                               &#x27;Gd&#x27;,\n",
       "                                                                                               &#x27;Ex&#x27;],\n",
       "                                                                                              [&#x27;Po&#x27;,\n",
       "                                                                                               &#x27;Fa&#x27;,\n",
       "                                                                                               &#x27;TA&#x27;,\n",
       "                                                                                               &#x27;Gd&#x27;,\n",
       "                                                                                               &#x27;Ex&#x27;],\n",
       "                                                                                              [&#x27;Po&#x27;,\n",
       "                                                                                               &#x27;Fa&#x27;...\n",
       "                                                   &#x27;1stFlrSF&#x27;, &#x27;2ndFlrSF&#x27;,\n",
       "                                                   &#x27;LowQualFinSF&#x27;, &#x27;GrLivArea&#x27;,\n",
       "                                                   &#x27;BsmtFullBath&#x27;,\n",
       "                                                   &#x27;BsmtHalfBath&#x27;, &#x27;FullBath&#x27;,\n",
       "                                                   &#x27;HalfBath&#x27;, &#x27;BedroomAbvGr&#x27;,\n",
       "                                                   &#x27;KitchenAbvGr&#x27;,\n",
       "                                                   &#x27;TotRmsAbvGrd&#x27;, &#x27;Fireplaces&#x27;,\n",
       "                                                   &#x27;GarageYrBlt&#x27;, &#x27;GarageCars&#x27;,\n",
       "                                                   &#x27;GarageArea&#x27;, &#x27;WoodDeckSF&#x27;,\n",
       "                                                   &#x27;OpenPorchSF&#x27;,\n",
       "                                                   &#x27;EnclosedPorch&#x27;, ...])])),\n",
       "                (&#x27;selectpercentile&#x27;,\n",
       "                 SelectPercentile(percentile=50,\n",
       "                                  score_func=&lt;function mutual_info_regression at 0x126ba2dc0&gt;))])</pre></div></div></div><div class=\"sk-serial\"><div class=\"sk-item sk-dashed-wrapped\"><div class=\"sk-label-container\"><div class=\"sk-label sk-toggleable\"><input class=\"sk-toggleable__control sk-hidden--visually\" id=\"d5434052-d294-4649-b928-e524bc755bb2\" type=\"checkbox\" ><label for=\"d5434052-d294-4649-b928-e524bc755bb2\" class=\"sk-toggleable__label sk-toggleable__label-arrow\">columntransformer: ColumnTransformer</label><div class=\"sk-toggleable__content\"><pre>ColumnTransformer(sparse_threshold=0,\n",
       "                  transformers=[(&#x27;pipeline-1&#x27;,\n",
       "                                 Pipeline(steps=[(&#x27;ordinalencoder&#x27;,\n",
       "                                                  OrdinalEncoder(categories=[[&#x27;NA&#x27;,\n",
       "                                                                              &#x27;Po&#x27;,\n",
       "                                                                              &#x27;Fa&#x27;,\n",
       "                                                                              &#x27;TA&#x27;,\n",
       "                                                                              &#x27;Gd&#x27;,\n",
       "                                                                              &#x27;Ex&#x27;],\n",
       "                                                                             [&#x27;NA&#x27;,\n",
       "                                                                              &#x27;Unf&#x27;,\n",
       "                                                                              &#x27;LwQ&#x27;,\n",
       "                                                                              &#x27;Rec&#x27;,\n",
       "                                                                              &#x27;BLQ&#x27;,\n",
       "                                                                              &#x27;ALQ&#x27;,\n",
       "                                                                              &#x27;GLQ&#x27;],\n",
       "                                                                             [&#x27;NA&#x27;,\n",
       "                                                                              &#x27;Unf&#x27;,\n",
       "                                                                              &#x27;LwQ&#x27;,\n",
       "                                                                              &#x27;Rec&#x27;,\n",
       "                                                                              &#x27;BLQ&#x27;,\n",
       "                                                                              &#x27;ALQ&#x27;,\n",
       "                                                                              &#x27;GLQ&#x27;],\n",
       "                                                                             [&#x27;NA&#x27;,\n",
       "                                                                              &#x27;Po&#x27;,\n",
       "                                                                              &#x27;Fa&#x27;,\n",
       "                                                                              &#x27;TA&#x27;,\n",
       "                                                                              &#x27;Gd&#x27;,\n",
       "                                                                              &#x27;Ex&#x27;],\n",
       "                                                                             [&#x27;Po&#x27;,\n",
       "                                                                              &#x27;Fa&#x27;,\n",
       "                                                                              &#x27;TA&#x27;,\n",
       "                                                                              &#x27;Gd&#x27;,\n",
       "                                                                              &#x27;Ex&#x27;],\n",
       "                                                                             [&#x27;Po&#x27;,\n",
       "                                                                              &#x27;Fa&#x27;,\n",
       "                                                                              &#x27;TA&#x27;,\n",
       "                                                                              &#x27;Gd&#x27;,\n",
       "                                                                              &#x27;Ex&#x27;],\n",
       "                                                                             [&#x27;NA&#x27;,\n",
       "                                                                              &#x27;MnWw&#x27;,\n",
       "                                                                              &#x27;GdWo&#x27;,...\n",
       "                                  &#x27;OverallQual&#x27;, &#x27;OverallCond&#x27;, &#x27;YearBuilt&#x27;,\n",
       "                                  &#x27;YearRemodAdd&#x27;, &#x27;MasVnrArea&#x27;, &#x27;BsmtFinSF1&#x27;,\n",
       "                                  &#x27;BsmtFinSF2&#x27;, &#x27;BsmtUnfSF&#x27;, &#x27;TotalBsmtSF&#x27;,\n",
       "                                  &#x27;1stFlrSF&#x27;, &#x27;2ndFlrSF&#x27;, &#x27;LowQualFinSF&#x27;,\n",
       "                                  &#x27;GrLivArea&#x27;, &#x27;BsmtFullBath&#x27;, &#x27;BsmtHalfBath&#x27;,\n",
       "                                  &#x27;FullBath&#x27;, &#x27;HalfBath&#x27;, &#x27;BedroomAbvGr&#x27;,\n",
       "                                  &#x27;KitchenAbvGr&#x27;, &#x27;TotRmsAbvGrd&#x27;, &#x27;Fireplaces&#x27;,\n",
       "                                  &#x27;GarageYrBlt&#x27;, &#x27;GarageCars&#x27;, &#x27;GarageArea&#x27;,\n",
       "                                  &#x27;WoodDeckSF&#x27;, &#x27;OpenPorchSF&#x27;, &#x27;EnclosedPorch&#x27;, ...])])</pre></div></div></div><div class=\"sk-parallel\"><div class=\"sk-parallel-item\"><div class=\"sk-item\"><div class=\"sk-label-container\"><div class=\"sk-label sk-toggleable\"><input class=\"sk-toggleable__control sk-hidden--visually\" id=\"70d73b33-95e7-45ad-9ab3-a1fa9245deda\" type=\"checkbox\" ><label for=\"70d73b33-95e7-45ad-9ab3-a1fa9245deda\" class=\"sk-toggleable__label sk-toggleable__label-arrow\">pipeline-1</label><div class=\"sk-toggleable__content\"><pre>[&#x27;BsmtCond&#x27;, &#x27;BsmtFinType1&#x27;, &#x27;BsmtFinType2&#x27;, &#x27;BsmtQual&#x27;, &#x27;ExterCond&#x27;, &#x27;ExterQual&#x27;, &#x27;Fence&#x27;, &#x27;FireplaceQu&#x27;, &#x27;GarageCond&#x27;, &#x27;GarageFinish&#x27;, &#x27;GarageQual&#x27;, &#x27;HeatingQC&#x27;, &#x27;KitchenQual&#x27;, &#x27;PoolQC&#x27;]</pre></div></div></div><div class=\"sk-serial\"><div class=\"sk-item\"><div class=\"sk-serial\"><div class=\"sk-item\"><div class=\"sk-estimator sk-toggleable\"><input class=\"sk-toggleable__control sk-hidden--visually\" id=\"4e4ab0c2-259e-4b6a-a6ed-5fcd5a52afc8\" type=\"checkbox\" ><label for=\"4e4ab0c2-259e-4b6a-a6ed-5fcd5a52afc8\" class=\"sk-toggleable__label sk-toggleable__label-arrow\">OrdinalEncoder</label><div class=\"sk-toggleable__content\"><pre>OrdinalEncoder(categories=[[&#x27;NA&#x27;, &#x27;Po&#x27;, &#x27;Fa&#x27;, &#x27;TA&#x27;, &#x27;Gd&#x27;, &#x27;Ex&#x27;],\n",
       "                           [&#x27;NA&#x27;, &#x27;Unf&#x27;, &#x27;LwQ&#x27;, &#x27;Rec&#x27;, &#x27;BLQ&#x27;, &#x27;ALQ&#x27;, &#x27;GLQ&#x27;],\n",
       "                           [&#x27;NA&#x27;, &#x27;Unf&#x27;, &#x27;LwQ&#x27;, &#x27;Rec&#x27;, &#x27;BLQ&#x27;, &#x27;ALQ&#x27;, &#x27;GLQ&#x27;],\n",
       "                           [&#x27;NA&#x27;, &#x27;Po&#x27;, &#x27;Fa&#x27;, &#x27;TA&#x27;, &#x27;Gd&#x27;, &#x27;Ex&#x27;],\n",
       "                           [&#x27;Po&#x27;, &#x27;Fa&#x27;, &#x27;TA&#x27;, &#x27;Gd&#x27;, &#x27;Ex&#x27;],\n",
       "                           [&#x27;Po&#x27;, &#x27;Fa&#x27;, &#x27;TA&#x27;, &#x27;Gd&#x27;, &#x27;Ex&#x27;],\n",
       "                           [&#x27;NA&#x27;, &#x27;MnWw&#x27;, &#x27;GdWo&#x27;, &#x27;MnPrv&#x27;, &#x27;GdPrv&#x27;],\n",
       "                           [&#x27;NA&#x27;, &#x27;Po&#x27;, &#x27;Fa&#x27;, &#x27;TA&#x27;, &#x27;Gd&#x27;, &#x27;Ex&#x27;],\n",
       "                           [&#x27;NA&#x27;, &#x27;Po&#x27;, &#x27;Fa&#x27;, &#x27;TA&#x27;, &#x27;Gd&#x27;, &#x27;Ex&#x27;],\n",
       "                           [&#x27;NA&#x27;, &#x27;Unf&#x27;, &#x27;RFn&#x27;, &#x27;Fin&#x27;],\n",
       "                           [&#x27;NA&#x27;, &#x27;Po&#x27;, &#x27;Fa&#x27;, &#x27;TA&#x27;, &#x27;Gd&#x27;, &#x27;Ex&#x27;],\n",
       "                           [&#x27;Po&#x27;, &#x27;Fa&#x27;, &#x27;TA&#x27;, &#x27;Gd&#x27;, &#x27;Ex&#x27;],\n",
       "                           [&#x27;Po&#x27;, &#x27;Fa&#x27;, &#x27;TA&#x27;, &#x27;Gd&#x27;, &#x27;Ex&#x27;],\n",
       "                           [&#x27;NA&#x27;, &#x27;Fa&#x27;, &#x27;TA&#x27;, &#x27;Gd&#x27;, &#x27;Ex&#x27;]],\n",
       "               handle_unknown=&#x27;use_encoded_value&#x27;, unknown_value=-1)</pre></div></div></div></div></div></div></div></div><div class=\"sk-parallel-item\"><div class=\"sk-item\"><div class=\"sk-label-container\"><div class=\"sk-label sk-toggleable\"><input class=\"sk-toggleable__control sk-hidden--visually\" id=\"ceb9cb9b-4738-4526-ba5e-3242a7613a98\" type=\"checkbox\" ><label for=\"ceb9cb9b-4738-4526-ba5e-3242a7613a98\" class=\"sk-toggleable__label sk-toggleable__label-arrow\">pipeline-2</label><div class=\"sk-toggleable__content\"><pre>[&#x27;MSZoning&#x27;, &#x27;Street&#x27;, &#x27;Alley&#x27;, &#x27;LotShape&#x27;, &#x27;LandContour&#x27;, &#x27;Utilities&#x27;, &#x27;LotConfig&#x27;, &#x27;LandSlope&#x27;, &#x27;Neighborhood&#x27;, &#x27;Condition1&#x27;, &#x27;Condition2&#x27;, &#x27;BldgType&#x27;, &#x27;HouseStyle&#x27;, &#x27;RoofStyle&#x27;, &#x27;RoofMatl&#x27;, &#x27;Exterior1st&#x27;, &#x27;Exterior2nd&#x27;, &#x27;MasVnrType&#x27;, &#x27;Foundation&#x27;, &#x27;BsmtExposure&#x27;, &#x27;Heating&#x27;, &#x27;CentralAir&#x27;, &#x27;Electrical&#x27;, &#x27;Functional&#x27;, &#x27;GarageType&#x27;, &#x27;PavedDrive&#x27;, &#x27;MiscFeature&#x27;, &#x27;SaleType&#x27;, &#x27;SaleCondition&#x27;]</pre></div></div></div><div class=\"sk-serial\"><div class=\"sk-item\"><div class=\"sk-serial\"><div class=\"sk-item\"><div class=\"sk-estimator sk-toggleable\"><input class=\"sk-toggleable__control sk-hidden--visually\" id=\"caa9da88-fa8e-458f-a625-45d7ce5620ba\" type=\"checkbox\" ><label for=\"caa9da88-fa8e-458f-a625-45d7ce5620ba\" class=\"sk-toggleable__label sk-toggleable__label-arrow\">SimpleImputer</label><div class=\"sk-toggleable__content\"><pre>SimpleImputer(strategy=&#x27;most_frequent&#x27;)</pre></div></div></div><div class=\"sk-item\"><div class=\"sk-estimator sk-toggleable\"><input class=\"sk-toggleable__control sk-hidden--visually\" id=\"dd3b340e-340f-4672-be14-f4b21b7654c5\" type=\"checkbox\" ><label for=\"dd3b340e-340f-4672-be14-f4b21b7654c5\" class=\"sk-toggleable__label sk-toggleable__label-arrow\">OneHotEncoder</label><div class=\"sk-toggleable__content\"><pre>OneHotEncoder(handle_unknown=&#x27;ignore&#x27;, sparse=&#x27;False&#x27;)</pre></div></div></div></div></div></div></div></div><div class=\"sk-parallel-item\"><div class=\"sk-item\"><div class=\"sk-label-container\"><div class=\"sk-label sk-toggleable\"><input class=\"sk-toggleable__control sk-hidden--visually\" id=\"e931e3aa-7fa9-4942-95c7-7016635e0c0e\" type=\"checkbox\" ><label for=\"e931e3aa-7fa9-4942-95c7-7016635e0c0e\" class=\"sk-toggleable__label sk-toggleable__label-arrow\">pipeline-3</label><div class=\"sk-toggleable__content\"><pre>[&#x27;MSSubClass&#x27;, &#x27;LotFrontage&#x27;, &#x27;LotArea&#x27;, &#x27;OverallQual&#x27;, &#x27;OverallCond&#x27;, &#x27;YearBuilt&#x27;, &#x27;YearRemodAdd&#x27;, &#x27;MasVnrArea&#x27;, &#x27;BsmtFinSF1&#x27;, &#x27;BsmtFinSF2&#x27;, &#x27;BsmtUnfSF&#x27;, &#x27;TotalBsmtSF&#x27;, &#x27;1stFlrSF&#x27;, &#x27;2ndFlrSF&#x27;, &#x27;LowQualFinSF&#x27;, &#x27;GrLivArea&#x27;, &#x27;BsmtFullBath&#x27;, &#x27;BsmtHalfBath&#x27;, &#x27;FullBath&#x27;, &#x27;HalfBath&#x27;, &#x27;BedroomAbvGr&#x27;, &#x27;KitchenAbvGr&#x27;, &#x27;TotRmsAbvGrd&#x27;, &#x27;Fireplaces&#x27;, &#x27;GarageYrBlt&#x27;, &#x27;GarageCars&#x27;, &#x27;GarageArea&#x27;, &#x27;WoodDeckSF&#x27;, &#x27;OpenPorchSF&#x27;, &#x27;EnclosedPorch&#x27;, &#x27;3SsnPorch&#x27;, &#x27;ScreenPorch&#x27;, &#x27;PoolArea&#x27;, &#x27;MiscVal&#x27;, &#x27;MoSold&#x27;, &#x27;YrSold&#x27;]</pre></div></div></div><div class=\"sk-serial\"><div class=\"sk-item\"><div class=\"sk-serial\"><div class=\"sk-item\"><div class=\"sk-estimator sk-toggleable\"><input class=\"sk-toggleable__control sk-hidden--visually\" id=\"225a47d2-8943-4f92-afac-9255c801a565\" type=\"checkbox\" ><label for=\"225a47d2-8943-4f92-afac-9255c801a565\" class=\"sk-toggleable__label sk-toggleable__label-arrow\">SimpleImputer</label><div class=\"sk-toggleable__content\"><pre>SimpleImputer()</pre></div></div></div><div class=\"sk-item\"><div class=\"sk-estimator sk-toggleable\"><input class=\"sk-toggleable__control sk-hidden--visually\" id=\"2a9d0ffd-4e93-4f1b-9272-b1e134880111\" type=\"checkbox\" ><label for=\"2a9d0ffd-4e93-4f1b-9272-b1e134880111\" class=\"sk-toggleable__label sk-toggleable__label-arrow\">MinMaxScaler</label><div class=\"sk-toggleable__content\"><pre>MinMaxScaler()</pre></div></div></div></div></div></div></div></div></div></div><div class=\"sk-item\"><div class=\"sk-estimator sk-toggleable\"><input class=\"sk-toggleable__control sk-hidden--visually\" id=\"6110de69-3942-4873-b69d-d88b81fa1d8e\" type=\"checkbox\" ><label for=\"6110de69-3942-4873-b69d-d88b81fa1d8e\" class=\"sk-toggleable__label sk-toggleable__label-arrow\">SelectPercentile</label><div class=\"sk-toggleable__content\"><pre>SelectPercentile(percentile=50,\n",
       "                 score_func=&lt;function mutual_info_regression at 0x126ba2dc0&gt;)</pre></div></div></div></div></div></div></div>"
      ],
      "text/plain": [
       "Pipeline(steps=[('columntransformer',\n",
       "                 ColumnTransformer(sparse_threshold=0,\n",
       "                                   transformers=[('pipeline-1',\n",
       "                                                  Pipeline(steps=[('ordinalencoder',\n",
       "                                                                   OrdinalEncoder(categories=[['NA',\n",
       "                                                                                               'Po',\n",
       "                                                                                               'Fa',\n",
       "                                                                                               'TA',\n",
       "                                                                                               'Gd',\n",
       "                                                                                               'Ex'],\n",
       "                                                                                              ['NA',\n",
       "                                                                                               'Unf',\n",
       "                                                                                               'LwQ',\n",
       "                                                                                               'Rec',\n",
       "                                                                                               'BLQ',\n",
       "                                                                                               'ALQ',\n",
       "                                                                                               'GLQ'],\n",
       "                                                                                              ['NA',\n",
       "                                                                                               'Unf',\n",
       "                                                                                               'LwQ',\n",
       "                                                                                               'Rec',\n",
       "                                                                                               'BLQ',\n",
       "                                                                                               'ALQ',\n",
       "                                                                                               'GLQ'],\n",
       "                                                                                              ['NA',\n",
       "                                                                                               'Po',\n",
       "                                                                                               'Fa',\n",
       "                                                                                               'TA',\n",
       "                                                                                               'Gd',\n",
       "                                                                                               'Ex'],\n",
       "                                                                                              ['Po',\n",
       "                                                                                               'Fa',\n",
       "                                                                                               'TA',\n",
       "                                                                                               'Gd',\n",
       "                                                                                               'Ex'],\n",
       "                                                                                              ['Po',\n",
       "                                                                                               'Fa'...\n",
       "                                                   '1stFlrSF', '2ndFlrSF',\n",
       "                                                   'LowQualFinSF', 'GrLivArea',\n",
       "                                                   'BsmtFullBath',\n",
       "                                                   'BsmtHalfBath', 'FullBath',\n",
       "                                                   'HalfBath', 'BedroomAbvGr',\n",
       "                                                   'KitchenAbvGr',\n",
       "                                                   'TotRmsAbvGrd', 'Fireplaces',\n",
       "                                                   'GarageYrBlt', 'GarageCars',\n",
       "                                                   'GarageArea', 'WoodDeckSF',\n",
       "                                                   'OpenPorchSF',\n",
       "                                                   'EnclosedPorch', ...])])),\n",
       "                ('selectpercentile',\n",
       "                 SelectPercentile(percentile=50,\n",
       "                                  score_func=<function mutual_info_regression at 0x126ba2dc0>))])"
      ]
     },
     "execution_count": 46,
     "metadata": {},
     "output_type": "execute_result"
    }
   ],
   "source": [
    "# Updated pipeline\n",
    "\n",
    "# Create ordinal encoder\n",
    "o_encoder = OrdinalEncoder(\n",
    "    categories= categories,\n",
    "    handle_unknown=\"use_encoded_value\",\n",
    "    unknown_value=-1\n",
    ")\n",
    "\n",
    "preproc_ordinal = make_pipeline(o_encoder)\n",
    "\n",
    "preproc_nominal = make_pipeline(SimpleImputer(strategy = 'most_frequent'),\n",
    "                         OneHotEncoder(handle_unknown = 'ignore', sparse = 'False')\n",
    "                        )\n",
    "\n",
    "preproc_num = make_pipeline(SimpleImputer(strategy = 'mean'), \n",
    "                         MinMaxScaler()\n",
    "                        )\n",
    "prep_transformer = make_column_transformer((preproc_ordinal, ord_cat_list),\n",
    "                               (preproc_nominal, nom_cat_list),\n",
    "                               (preproc_num, feat_numerical), sparse_threshold=0\n",
    "                              )\n",
    "\n",
    "preproc_selector = SelectPercentile(mutual_info_regression, percentile = 50)\n",
    "\n",
    "\n",
    "preproc = make_pipeline(\n",
    "            prep_transformer,\n",
    "            preproc_selector)\n",
    "\n",
    "preproc\n"
   ]
  },
  {
   "cell_type": "code",
   "execution_count": 47,
   "metadata": {},
   "outputs": [
    {
     "data": {
      "text/plain": [
       "(1460, 119)"
      ]
     },
     "execution_count": 47,
     "metadata": {},
     "output_type": "execute_result"
    }
   ],
   "source": [
    "#check shape\n",
    "preproc_fitted = preproc.fit(X,y)\n",
    "preproc.transform(X).shape\n",
    "# preproc_fitted_log = preproc.fit(X,y_log)\n",
    "# preproc_fitted_log.transform(X).shape"
   ]
  },
  {
   "cell_type": "code",
   "execution_count": 48,
   "metadata": {},
   "outputs": [
    {
     "name": "stdout",
     "output_type": "stream",
     "text": [
      "0.20609336986601115\n"
     ]
    }
   ],
   "source": [
    "#Updated baseline\n",
    "pipe_baseline = make_pipeline(preproc,\n",
    "                              DecisionTreeRegressor()\n",
    "                              )\n",
    "\n",
    "cv_score = cross_val_score(pipe_baseline, X, y, \n",
    "                           cv = 5,\n",
    "                           n_jobs = -1,\n",
    "                           scoring = rmsle)\n",
    "\n",
    "score_baseline = cv_score.mean()\n",
    "print(score_baseline)"
   ]
  },
  {
   "cell_type": "code",
   "execution_count": 49,
   "metadata": {},
   "outputs": [
    {
     "data": {
      "text/plain": [
       "(1460, 119)"
      ]
     },
     "execution_count": 49,
     "metadata": {},
     "output_type": "execute_result"
    }
   ],
   "source": [
    "preproc_fitted_log = preproc.fit(X,y_log)\n",
    "preproc_fitted_log.transform(X).shape"
   ]
  },
  {
   "cell_type": "code",
   "execution_count": 65,
   "metadata": {},
   "outputs": [
    {
     "name": "stdout",
     "output_type": "stream",
     "text": [
      "0.20603483107146392\n"
     ]
    }
   ],
   "source": [
    "#Using y_log\n",
    "\n",
    "pipe_baseline = make_pipeline(preproc,\n",
    "                              DecisionTreeRegressor()\n",
    "                              )\n",
    "\n",
    "cv_score = cross_val_score(pipe_baseline, X, y_log, \n",
    "                           cv = 5,\n",
    "                           n_jobs = -1,\n",
    "                           scoring = rmse)\n",
    "\n",
    "score_baseline = cv_score.mean()\n",
    "print(score_baseline)"
   ]
  },
  {
   "cell_type": "code",
   "execution_count": 51,
   "metadata": {},
   "outputs": [],
   "source": [
    "# We can see that"
   ]
  },
  {
   "cell_type": "markdown",
   "metadata": {},
   "source": [
    "#### Random Forest Regressor\n",
    "**Scores**<br>\n",
    "Initial CV Score: **0.15** <br>\n",
    "After pre-process improvements: **0.14** <br>\n",
    "After Gridsearching:"
   ]
  },
  {
   "cell_type": "markdown",
   "metadata": {},
   "source": [
    "👍 Advantages:\n",
    "\n",
    "- Reduces variance/overfitting\n",
    "- Can be applied to any model\n",
    "\n",
    "👎 Disadvantages\n",
    "\n",
    "- Complex structure\n",
    "- High training time\n",
    "- Disregards the performance of individual sub-models"
   ]
  },
  {
   "cell_type": "code",
   "execution_count": 52,
   "metadata": {},
   "outputs": [],
   "source": [
    "from sklearn.ensemble import RandomForestRegressor"
   ]
  },
  {
   "cell_type": "code",
   "execution_count": 53,
   "metadata": {},
   "outputs": [
    {
     "name": "stdout",
     "output_type": "stream",
     "text": [
      "0.14698521489823735\n"
     ]
    }
   ],
   "source": [
    "num_prep = make_pipeline(SimpleImputer(strategy = 'mean'), \n",
    "                         MinMaxScaler()\n",
    "                        )\n",
    "\n",
    "cat_prep = make_pipeline(SimpleImputer(strategy = 'most_frequent'),\n",
    "                         OneHotEncoder(handle_unknown = 'ignore')\n",
    "                        )\n",
    "\n",
    "prep = make_column_transformer((num_prep, feat_numerical),\n",
    "                               (cat_prep, feat_categorical_small)\n",
    "                              )\n",
    "pipe_baseline = make_pipeline(prep,\n",
    "                              RandomForestRegressor()\n",
    "                              )\n",
    "\n",
    "cv_score = cross_val_score(pipe_baseline, X, y, \n",
    "                           cv = 5,\n",
    "                           n_jobs = -1,\n",
    "                           scoring = rmsle)\n",
    "\n",
    "score_baseline = cv_score.mean()\n",
    "print(score_baseline)"
   ]
  },
  {
   "cell_type": "code",
   "execution_count": 66,
   "metadata": {},
   "outputs": [
    {
     "name": "stdout",
     "output_type": "stream",
     "text": [
      "0.14151750099486815\n"
     ]
    }
   ],
   "source": [
    "#Updated baseline\n",
    "pipe_baseline = make_pipeline(preproc,\n",
    "                              RandomForestRegressor()\n",
    "                              )\n",
    "\n",
    "cv_score = cross_val_score(pipe_baseline, X, y_log, \n",
    "                           cv = 5,\n",
    "                           n_jobs = -1,\n",
    "                           scoring = rmse)\n",
    "\n",
    "score_baseline = cv_score.mean()\n",
    "print(score_baseline)"
   ]
  },
  {
   "cell_type": "markdown",
   "metadata": {},
   "source": []
  },
  {
   "cell_type": "markdown",
   "metadata": {},
   "source": [
    "#### BaggingRegressor with KNN Regressor\n",
    "**Scores**<br>\n",
    "Initial CV Score: **0.22** <br>\n",
    "After pre-process improvements: **0.21**<br>\n",
    "After Gridsearching:\n"
   ]
  },
  {
   "cell_type": "code",
   "execution_count": 55,
   "metadata": {},
   "outputs": [],
   "source": [
    "from sklearn.ensemble import BaggingRegressor\n",
    "from sklearn.neighbors import KNeighborsRegressor\n",
    "\n"
   ]
  },
  {
   "cell_type": "code",
   "execution_count": 56,
   "metadata": {},
   "outputs": [
    {
     "name": "stdout",
     "output_type": "stream",
     "text": [
      "0.21609478076716132\n"
     ]
    }
   ],
   "source": [
    "#Define Bagging Regressor\n",
    "weak_learner = KNeighborsRegressor(n_neighbors=3)\n",
    "bagged_model = BaggingRegressor(weak_learner, n_estimators=40)\n",
    "\n",
    "num_prep = make_pipeline(SimpleImputer(strategy = 'mean'), \n",
    "                         MinMaxScaler()\n",
    "                        )\n",
    "\n",
    "cat_prep = make_pipeline(SimpleImputer(strategy = 'most_frequent'),\n",
    "                         OneHotEncoder(handle_unknown = 'ignore')\n",
    "                        )\n",
    "\n",
    "prep = make_column_transformer((num_prep, feat_numerical),\n",
    "                               (cat_prep, feat_categorical_small)\n",
    "                              )\n",
    "pipe_baseline = make_pipeline(prep,\n",
    "                              bagged_model\n",
    "                              )\n",
    "\n",
    "cv_score = cross_val_score(pipe_baseline, X, y, \n",
    "                           cv = 5,\n",
    "                           n_jobs = -1,\n",
    "                           scoring = rmsle)\n",
    "\n",
    "score_baseline = cv_score.mean()\n",
    "print(score_baseline)"
   ]
  },
  {
   "cell_type": "code",
   "execution_count": 57,
   "metadata": {},
   "outputs": [
    {
     "name": "stdout",
     "output_type": "stream",
     "text": [
      "0.20613908795226948\n"
     ]
    }
   ],
   "source": [
    "#Updated baseline\n",
    "#Define Bagging Regressor\n",
    "weak_learner = KNeighborsRegressor(n_neighbors=3)\n",
    "bagged_model = BaggingRegressor(weak_learner, n_estimators=40)\n",
    "\n",
    "pipe_baseline = make_pipeline(preproc,\n",
    "                              bagged_model\n",
    "                              )\n",
    "\n",
    "cv_score = cross_val_score(pipe_baseline, X, y, \n",
    "                           cv = 5,\n",
    "                           n_jobs = -1,\n",
    "                           scoring = rmsle)\n",
    "\n",
    "score_baseline = cv_score.mean()\n",
    "print(score_baseline)"
   ]
  },
  {
   "cell_type": "markdown",
   "metadata": {},
   "source": []
  },
  {
   "cell_type": "markdown",
   "metadata": {},
   "source": [
    "#### Adaboost with DecisionTreeRegressor\n",
    "**Scores**<br>\n",
    "Initial CV Score: **0.14** <br>\n",
    "After pre-process improvements: <br>\n",
    "After Gridsearching:"
   ]
  },
  {
   "cell_type": "code",
   "execution_count": 58,
   "metadata": {},
   "outputs": [],
   "source": [
    "from sklearn.ensemble import AdaBoostRegressor"
   ]
  },
  {
   "cell_type": "code",
   "execution_count": 59,
   "metadata": {},
   "outputs": [
    {
     "name": "stdout",
     "output_type": "stream",
     "text": [
      "0.1460577375198051\n"
     ]
    }
   ],
   "source": [
    "#Define Adaboost Regressor\n",
    "adaboost = AdaBoostRegressor(\n",
    "    DecisionTreeRegressor(max_depth=10),\n",
    "    n_estimators=80)\n",
    "\n",
    "num_prep = make_pipeline(SimpleImputer(strategy = 'mean'), \n",
    "                         MinMaxScaler()\n",
    "                        )\n",
    "\n",
    "cat_prep = make_pipeline(SimpleImputer(strategy = 'most_frequent'),\n",
    "                         OneHotEncoder(handle_unknown = 'ignore')\n",
    "                        )\n",
    "\n",
    "prep = make_column_transformer((num_prep, feat_numerical),\n",
    "                               (cat_prep, feat_categorical_small)\n",
    "                              )\n",
    "pipe_baseline = make_pipeline(prep,\n",
    "                              adaboost\n",
    "                              )\n",
    "\n",
    "cv_score = cross_val_score(pipe_baseline, X, y, \n",
    "                           cv = 5,\n",
    "                           n_jobs = -1,\n",
    "                           scoring = rmsle)\n",
    "\n",
    "score_baseline = cv_score.mean()\n",
    "print(score_baseline)"
   ]
  },
  {
   "cell_type": "markdown",
   "metadata": {},
   "source": []
  },
  {
   "cell_type": "markdown",
   "metadata": {
    "heading_collapsed": true
   },
   "source": [
    "#### Gradient Boosting\n",
    "**Scores**<br>\n",
    "Initial CV Score: **0.13** <br>\n",
    "After pre-process improvements: <br>\n",
    "After Gridsearching:"
   ]
  },
  {
   "cell_type": "markdown",
   "metadata": {
    "hidden": true
   },
   "source": [
    "Only implemented for trees<br>\n",
    "Generally more performant than AdaBoost"
   ]
  },
  {
   "cell_type": "code",
   "execution_count": 60,
   "metadata": {
    "hidden": true
   },
   "outputs": [],
   "source": [
    "from sklearn.ensemble import GradientBoostingRegressor\n"
   ]
  },
  {
   "cell_type": "code",
   "execution_count": 61,
   "metadata": {
    "hidden": true
   },
   "outputs": [
    {
     "name": "stdout",
     "output_type": "stream",
     "text": [
      "0.1332159877621843\n"
     ]
    }
   ],
   "source": [
    "# Define Gradient Boosting Regressor here\n",
    "model = GradientBoostingRegressor(\n",
    "    n_estimators=100, \n",
    "    learning_rate=0.1,\n",
    "    max_depth=3\n",
    ")\n",
    "\n",
    "num_prep = make_pipeline(SimpleImputer(strategy = 'mean'), \n",
    "                         MinMaxScaler()\n",
    "                        )\n",
    "\n",
    "cat_prep = make_pipeline(SimpleImputer(strategy = 'most_frequent'),\n",
    "                         OneHotEncoder(handle_unknown = 'ignore')\n",
    "                        )\n",
    "\n",
    "prep = make_column_transformer((num_prep, feat_numerical),\n",
    "                               (cat_prep, feat_categorical_small)\n",
    "                              )\n",
    "pipe_baseline = make_pipeline(prep,\n",
    "                              model\n",
    "                              )\n",
    "\n",
    "cv_score = cross_val_score(pipe_baseline, X, y, \n",
    "                           cv = 5,\n",
    "                           n_jobs = -1,\n",
    "                           scoring = rmsle)\n",
    "\n",
    "score_baseline = cv_score.mean()\n",
    "print(score_baseline)"
   ]
  },
  {
   "cell_type": "markdown",
   "metadata": {
    "hidden": true
   },
   "source": []
  },
  {
   "cell_type": "markdown",
   "metadata": {
    "heading_collapsed": true
   },
   "source": [
    "#### XGBOOST\n",
    "**Scores**<br>\n",
    "Initial CV Score: **0.14** <br>\n",
    "After pre-process improvements: <br>\n",
    "After Gridsearching:"
   ]
  },
  {
   "cell_type": "markdown",
   "metadata": {
    "hidden": true
   },
   "source": [
    "👍 Advantages:\n",
    "\n",
    "- Strong sub-models have more influence in final decision\n",
    "- Reduce bias\n",
    "\n",
    "\n",
    "👎 Disadvantages:\n",
    "\n",
    "- Computationally expensive (sequential)\n",
    "- Easily overfit\n",
    "- Sensitive to outliers (too much time spent trying to correctly predict them)"
   ]
  },
  {
   "cell_type": "code",
   "execution_count": 62,
   "metadata": {
    "hidden": true
   },
   "outputs": [],
   "source": [
    "from xgboost import XGBRegressor"
   ]
  },
  {
   "cell_type": "code",
   "execution_count": 63,
   "metadata": {
    "hidden": true
   },
   "outputs": [
    {
     "name": "stdout",
     "output_type": "stream",
     "text": [
      "0.13713602666872715\n"
     ]
    }
   ],
   "source": [
    "# Define XGBOOST Regressor here\n",
    "model = XGBRegressor(max_depth=10, n_estimators=100, learning_rate=0.1)\n",
    "\n",
    "num_prep = make_pipeline(SimpleImputer(strategy = 'mean'), \n",
    "                         MinMaxScaler()\n",
    "                        )\n",
    "\n",
    "cat_prep = make_pipeline(SimpleImputer(strategy = 'most_frequent'),\n",
    "                         OneHotEncoder(handle_unknown = 'ignore')\n",
    "                        )\n",
    "\n",
    "prep = make_column_transformer((num_prep, feat_numerical),\n",
    "                               (cat_prep, feat_categorical_small)\n",
    "                              )\n",
    "pipe_baseline = make_pipeline(prep,\n",
    "                              model\n",
    "                              )\n",
    "\n",
    "cv_score = cross_val_score(pipe_baseline, X, y, \n",
    "                           cv = 5,\n",
    "                           n_jobs = -1,\n",
    "                           scoring = rmsle)\n",
    "\n",
    "score_baseline = cv_score.mean()\n",
    "print(score_baseline)"
   ]
  },
  {
   "cell_type": "markdown",
   "metadata": {
    "hidden": true
   },
   "source": [
    "**Scores**<br>\n",
    "Initial CV Score: **0.14** <br>\n",
    "After pre-process improvements: <br>\n",
    "After Gridsearching:"
   ]
  },
  {
   "cell_type": "markdown",
   "metadata": {},
   "source": [
    "# 🏅FINAL SUBMISSION (submit at least 30 min before Recap)"
   ]
  },
  {
   "cell_type": "markdown",
   "metadata": {},
   "source": [
    "Discover your real test score by submitting on Kaggle! \n",
    "\n",
    "👉 Write down your test score on the [result spreadsheet here](https://docs.google.com/spreadsheets/d/1ZEBKwa_k1Ytb0WCOh-Nopq3eaezwBNu1SAqKXEXRguc/edit#gid=0) (pick the correct batch!)"
   ]
  },
  {
   "cell_type": "code",
   "execution_count": 64,
   "metadata": {
    "tags": [
     "challengify"
    ]
   },
   "outputs": [],
   "source": [
    "# YOUR CODE HERE"
   ]
  }
 ],
 "metadata": {
  "kernelspec": {
   "display_name": "Python 3 (ipykernel)",
   "language": "python",
   "name": "python3"
  },
  "language_info": {
   "codemirror_mode": {
    "name": "ipython",
    "version": 3
   },
   "file_extension": ".py",
   "mimetype": "text/x-python",
   "name": "python",
   "nbconvert_exporter": "python",
   "pygments_lexer": "ipython3",
   "version": "3.9.8"
  },
  "toc": {
   "base_numbering": 1,
   "nav_menu": {},
   "number_sections": true,
   "sideBar": true,
   "skip_h1_title": false,
   "title_cell": "Table of Contents",
   "title_sidebar": "Contents",
   "toc_cell": false,
   "toc_position": {},
   "toc_section_display": true,
   "toc_window_display": false
  }
 },
 "nbformat": 4,
 "nbformat_minor": 4
}
