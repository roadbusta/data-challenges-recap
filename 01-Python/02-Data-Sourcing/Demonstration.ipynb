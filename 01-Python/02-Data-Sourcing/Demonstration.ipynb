{
 "cells": [
  {
   "cell_type": "markdown",
   "id": "60984212",
   "metadata": {
    "heading_collapsed": true
   },
   "source": [
    "# Refactor"
   ]
  },
  {
   "cell_type": "code",
   "execution_count": 9,
   "id": "78c76a32",
   "metadata": {
    "hidden": true
   },
   "outputs": [],
   "source": [
    "#Refactor\n",
    "# %load_ext autoreload\n",
    "# %autoreload 2"
   ]
  },
  {
   "cell_type": "code",
   "execution_count": null,
   "id": "191ca104",
   "metadata": {
    "hidden": true
   },
   "outputs": [],
   "source": []
  },
  {
   "cell_type": "markdown",
   "id": "727d3903",
   "metadata": {
    "heading_collapsed": true
   },
   "source": [
    "# Load from CSV"
   ]
  },
  {
   "cell_type": "code",
   "execution_count": 4,
   "id": "cad8a47b",
   "metadata": {
    "hidden": true
   },
   "outputs": [],
   "source": [
    "#Import libraries\n",
    "\n"
   ]
  },
  {
   "cell_type": "code",
   "execution_count": 5,
   "id": "e13442c3",
   "metadata": {
    "hidden": true
   },
   "outputs": [],
   "source": [
    "#Create dataframe with read_csv\n"
   ]
  },
  {
   "cell_type": "markdown",
   "id": "bf0d3393",
   "metadata": {},
   "source": [
    "# Load from API"
   ]
  },
  {
   "cell_type": "code",
   "execution_count": null,
   "id": "bfdb97c4",
   "metadata": {},
   "outputs": [],
   "source": [
    "# Use Lyrics API\n",
    "# https://lyrics.lewagon.ai/search?artist=The%20Beatles&title=Come%20together"
   ]
  },
  {
   "cell_type": "code",
   "execution_count": 6,
   "id": "946bc021",
   "metadata": {},
   "outputs": [],
   "source": [
    "import requests\n",
    "\n",
    "def fetch_lyrics(artists, title):\n",
    "    \"\"\"\n",
    "    Get lyrics from Seeds Lyrics API. Returns empty string if song not found\n",
    "    \"\"\"\n",
    "    url = f'https://lyrics.lewagon.ai/search?artist={artists}&title={title}'\n",
    "    response = requests.get(url)\n",
    "    if response.status_code != 200:\n",
    "        return ''\n",
    "    data = response.json()\n",
    "    return data['lyrics']\n",
    "\n"
   ]
  },
  {
   "cell_type": "code",
   "execution_count": 11,
   "id": "986df6f3",
   "metadata": {},
   "outputs": [],
   "source": [
    "#Check if it works with a known song\n",
    "# fetch_lyrics('The Beatles', 'Come Together')[0:100]"
   ]
  },
  {
   "cell_type": "code",
   "execution_count": 8,
   "id": "042c5df0",
   "metadata": {},
   "outputs": [
    {
     "data": {
      "text/plain": [
       "''"
      ]
     },
     "execution_count": 8,
     "metadata": {},
     "output_type": "execute_result"
    }
   ],
   "source": [
    "# Check if it works with an unknown song\n"
   ]
  },
  {
   "cell_type": "code",
   "execution_count": null,
   "id": "59de3a1e",
   "metadata": {},
   "outputs": [],
   "source": [
    "#Import defined function"
   ]
  },
  {
   "cell_type": "code",
   "execution_count": null,
   "id": "c0bddb7f",
   "metadata": {},
   "outputs": [],
   "source": [
    "#Use iterrows and loc to build dataframe"
   ]
  },
  {
   "cell_type": "code",
   "execution_count": null,
   "id": "d2362043",
   "metadata": {},
   "outputs": [],
   "source": []
  },
  {
   "cell_type": "markdown",
   "id": "cfc78771",
   "metadata": {},
   "source": [
    "# Load from Scraping"
   ]
  },
  {
   "cell_type": "code",
   "execution_count": null,
   "id": "4649f5d3",
   "metadata": {},
   "outputs": [],
   "source": [
    "#import re\n",
    "#import requests\n",
    "#import beautiful soup"
   ]
  },
  {
   "cell_type": "code",
   "execution_count": null,
   "id": "c5b26552",
   "metadata": {},
   "outputs": [],
   "source": [
    "#create response\n",
    "#\"https://www.imdb.com/list/ls055386972/\"\n",
    "#Language\n",
    "#headers={\"Accept-Language\":\"en-US\"}\n",
    "\n",
    "#create soup object"
   ]
  },
  {
   "cell_type": "code",
   "execution_count": null,
   "id": "669e4595",
   "metadata": {},
   "outputs": [],
   "source": [
    "# Scrape all pages from top 250"
   ]
  },
  {
   "cell_type": "code",
   "execution_count": null,
   "id": "245ffb0c",
   "metadata": {},
   "outputs": [],
   "source": [
    "def fetch_page(page):\n",
    "    response = requests.get(\n",
    "        \"https://www.imdb.com/search/title/\",\n",
    "        params={\"groups\":\"top_250\", \"sort\":\"user_rating\",\"start\": (1 + page * 50)},\n",
    "        headers={\"Accept-Language\":\"en-US\"})\n",
    "    soup = BeautifulSoup(response.content, \"html.parser\")\n",
    "    return soup"
   ]
  },
  {
   "cell_type": "code",
   "execution_count": null,
   "id": "576dc189",
   "metadata": {},
   "outputs": [],
   "source": [
    "def parse_movies(soup):\n",
    "    movies = []\n",
    "    for movie in soup.find_all(\"div\", class_=\"lister-item-content\"):\n",
    "        title = movie.find(\"h3\").find(\"a\").string\n",
    "        duration = int(movie.find(class_=\"runtime\").string.strip(' min'))\n",
    "        year = int(re.search(r\"\\d{4}\", movie.find(class_=\"lister-item-year\").string).group(0))\n",
    "        movies.append({'title': title, 'duration': duration, 'year': year})\n",
    "    return movies\n",
    "\n"
   ]
  },
  {
   "cell_type": "code",
   "execution_count": null,
   "id": "a2cf2859",
   "metadata": {},
   "outputs": [],
   "source": [
    "#Apply both functions"
   ]
  },
  {
   "cell_type": "code",
   "execution_count": null,
   "id": "07e1a483",
   "metadata": {},
   "outputs": [],
   "source": [
    "all_movies = []\n",
    "for page in range(5):\n",
    "    print(f\"Parsing page {page + 1}...\")\n",
    "    soup = fetch_page(page)\n",
    "    all_movies += parse_movies(soup)\n",
    "print(\"Done\")"
   ]
  },
  {
   "cell_type": "code",
   "execution_count": null,
   "id": "b3d718ed",
   "metadata": {},
   "outputs": [],
   "source": [
    "#Apply histograms\n",
    "all_movies_df.hist()"
   ]
  }
 ],
 "metadata": {
  "kernelspec": {
   "display_name": "Python 3 (ipykernel)",
   "language": "python",
   "name": "python3"
  },
  "language_info": {
   "codemirror_mode": {
    "name": "ipython",
    "version": 3
   },
   "file_extension": ".py",
   "mimetype": "text/x-python",
   "name": "python",
   "nbconvert_exporter": "python",
   "pygments_lexer": "ipython3",
   "version": "3.9.8"
  },
  "toc": {
   "base_numbering": 1,
   "nav_menu": {},
   "number_sections": true,
   "sideBar": true,
   "skip_h1_title": false,
   "title_cell": "Table of Contents",
   "title_sidebar": "Contents",
   "toc_cell": false,
   "toc_position": {},
   "toc_section_display": true,
   "toc_window_display": false
  }
 },
 "nbformat": 4,
 "nbformat_minor": 5
}
