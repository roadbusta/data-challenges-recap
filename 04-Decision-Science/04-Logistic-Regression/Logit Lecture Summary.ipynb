{
 "cells": [
  {
   "cell_type": "markdown",
   "id": "fd02cd49",
   "metadata": {},
   "source": [
    "# Import relevant libraries"
   ]
  },
  {
   "cell_type": "code",
   "execution_count": 2,
   "id": "44037832",
   "metadata": {},
   "outputs": [],
   "source": [
    "import seaborn as sns\n",
    "import statsmodels.formula.api as smf\n",
    "import pandas as pd\n",
    "import numpy as np\n",
    "import math"
   ]
  },
  {
   "cell_type": "markdown",
   "id": "88e3ea3c",
   "metadata": {},
   "source": [
    "# Interpreting Logicstic Regression"
   ]
  },
  {
   "cell_type": "markdown",
   "id": "1dfdd8db",
   "metadata": {},
   "source": [
    "**Lets use the Titanic dataset**"
   ]
  },
  {
   "cell_type": "code",
   "execution_count": 3,
   "id": "a7db5755",
   "metadata": {},
   "outputs": [
    {
     "data": {
      "text/html": [
       "<div>\n",
       "<style scoped>\n",
       "    .dataframe tbody tr th:only-of-type {\n",
       "        vertical-align: middle;\n",
       "    }\n",
       "\n",
       "    .dataframe tbody tr th {\n",
       "        vertical-align: top;\n",
       "    }\n",
       "\n",
       "    .dataframe thead th {\n",
       "        text-align: right;\n",
       "    }\n",
       "</style>\n",
       "<table border=\"1\" class=\"dataframe\">\n",
       "  <thead>\n",
       "    <tr style=\"text-align: right;\">\n",
       "      <th></th>\n",
       "      <th>survived</th>\n",
       "      <th>pclass</th>\n",
       "      <th>sex</th>\n",
       "      <th>age</th>\n",
       "      <th>sibsp</th>\n",
       "      <th>parch</th>\n",
       "      <th>fare</th>\n",
       "      <th>embarked</th>\n",
       "      <th>class</th>\n",
       "      <th>who</th>\n",
       "      <th>adult_male</th>\n",
       "      <th>deck</th>\n",
       "      <th>embark_town</th>\n",
       "      <th>alive</th>\n",
       "      <th>alone</th>\n",
       "    </tr>\n",
       "  </thead>\n",
       "  <tbody>\n",
       "    <tr>\n",
       "      <th>0</th>\n",
       "      <td>0</td>\n",
       "      <td>3</td>\n",
       "      <td>male</td>\n",
       "      <td>22.0</td>\n",
       "      <td>1</td>\n",
       "      <td>0</td>\n",
       "      <td>7.2500</td>\n",
       "      <td>S</td>\n",
       "      <td>Third</td>\n",
       "      <td>man</td>\n",
       "      <td>True</td>\n",
       "      <td>NaN</td>\n",
       "      <td>Southampton</td>\n",
       "      <td>no</td>\n",
       "      <td>False</td>\n",
       "    </tr>\n",
       "    <tr>\n",
       "      <th>1</th>\n",
       "      <td>1</td>\n",
       "      <td>1</td>\n",
       "      <td>female</td>\n",
       "      <td>38.0</td>\n",
       "      <td>1</td>\n",
       "      <td>0</td>\n",
       "      <td>71.2833</td>\n",
       "      <td>C</td>\n",
       "      <td>First</td>\n",
       "      <td>woman</td>\n",
       "      <td>False</td>\n",
       "      <td>C</td>\n",
       "      <td>Cherbourg</td>\n",
       "      <td>yes</td>\n",
       "      <td>False</td>\n",
       "    </tr>\n",
       "    <tr>\n",
       "      <th>2</th>\n",
       "      <td>1</td>\n",
       "      <td>3</td>\n",
       "      <td>female</td>\n",
       "      <td>26.0</td>\n",
       "      <td>0</td>\n",
       "      <td>0</td>\n",
       "      <td>7.9250</td>\n",
       "      <td>S</td>\n",
       "      <td>Third</td>\n",
       "      <td>woman</td>\n",
       "      <td>False</td>\n",
       "      <td>NaN</td>\n",
       "      <td>Southampton</td>\n",
       "      <td>yes</td>\n",
       "      <td>True</td>\n",
       "    </tr>\n",
       "  </tbody>\n",
       "</table>\n",
       "</div>"
      ],
      "text/plain": [
       "   survived  pclass     sex   age  sibsp  parch     fare embarked  class  \\\n",
       "0         0       3    male  22.0      1      0   7.2500        S  Third   \n",
       "1         1       1  female  38.0      1      0  71.2833        C  First   \n",
       "2         1       3  female  26.0      0      0   7.9250        S  Third   \n",
       "\n",
       "     who  adult_male deck  embark_town alive  alone  \n",
       "0    man        True  NaN  Southampton    no  False  \n",
       "1  woman       False    C    Cherbourg   yes  False  \n",
       "2  woman       False  NaN  Southampton   yes   True  "
      ]
     },
     "execution_count": 3,
     "metadata": {},
     "output_type": "execute_result"
    }
   ],
   "source": [
    "titanic = sns.load_dataset(\"titanic\")\n",
    "titanic.head(3)"
   ]
  },
  {
   "cell_type": "code",
   "execution_count": 4,
   "id": "1fee78c9",
   "metadata": {},
   "outputs": [
    {
     "name": "stdout",
     "output_type": "stream",
     "text": [
      "Optimization terminated successfully.\n",
      "         Current function value: 0.665912\n",
      "         Iterations 4\n"
     ]
    },
    {
     "data": {
      "text/plain": [
       "Intercept   -0.473288\n",
       "dtype: float64"
      ]
     },
     "execution_count": 4,
     "metadata": {},
     "output_type": "execute_result"
    }
   ],
   "source": [
    "model1 = smf.logit(formula='survived ~ 1', data=titanic).fit();\n",
    "model1.params"
   ]
  },
  {
   "cell_type": "markdown",
   "id": "f3dcbf8a",
   "metadata": {},
   "source": [
    "**How does this translate into probability?**"
   ]
  },
  {
   "cell_type": "code",
   "execution_count": 5,
   "id": "38fdb978",
   "metadata": {},
   "outputs": [
    {
     "name": "stdout",
     "output_type": "stream",
     "text": [
      "Odds: 0.6250022682827008\n",
      "Probability: 0.3846162436088178\n"
     ]
    }
   ],
   "source": [
    "log_odd=  -0.47\n",
    "odds = math.exp(log_odd)\n",
    "print(\"Odds:\", odds)\n",
    "probability = odds/(1+odds)\n",
    "print(\"Probability:\", probability)"
   ]
  },
  {
   "cell_type": "markdown",
   "id": "2085725b",
   "metadata": {},
   "source": [
    "**Let's double check this**"
   ]
  },
  {
   "cell_type": "code",
   "execution_count": 6,
   "id": "cd1bac79",
   "metadata": {},
   "outputs": [
    {
     "data": {
      "text/html": [
       "<div>\n",
       "<style scoped>\n",
       "    .dataframe tbody tr th:only-of-type {\n",
       "        vertical-align: middle;\n",
       "    }\n",
       "\n",
       "    .dataframe tbody tr th {\n",
       "        vertical-align: top;\n",
       "    }\n",
       "\n",
       "    .dataframe thead th {\n",
       "        text-align: right;\n",
       "    }\n",
       "</style>\n",
       "<table border=\"1\" class=\"dataframe\">\n",
       "  <thead>\n",
       "    <tr style=\"text-align: right;\">\n",
       "      <th></th>\n",
       "      <th>count</th>\n",
       "      <th>percentage</th>\n",
       "    </tr>\n",
       "  </thead>\n",
       "  <tbody>\n",
       "    <tr>\n",
       "      <th>0</th>\n",
       "      <td>549</td>\n",
       "      <td>0.62</td>\n",
       "    </tr>\n",
       "    <tr>\n",
       "      <th>1</th>\n",
       "      <td>342</td>\n",
       "      <td>0.38</td>\n",
       "    </tr>\n",
       "  </tbody>\n",
       "</table>\n",
       "</div>"
      ],
      "text/plain": [
       "   count  percentage\n",
       "0    549        0.62\n",
       "1    342        0.38"
      ]
     },
     "execution_count": 6,
     "metadata": {},
     "output_type": "execute_result"
    }
   ],
   "source": [
    "cross_tab = pd.DataFrame({\n",
    "    'count': titanic['survived'].value_counts(), \n",
    "    'percentage': titanic['survived'].value_counts(normalize=True)\n",
    "    })\n",
    "\n",
    "round(cross_tab,2)"
   ]
  },
  {
   "cell_type": "markdown",
   "id": "2168d333",
   "metadata": {},
   "source": [
    "**Let's add a feature continuous feature**"
   ]
  },
  {
   "cell_type": "code",
   "execution_count": 7,
   "id": "fa988b7b",
   "metadata": {},
   "outputs": [
    {
     "name": "stdout",
     "output_type": "stream",
     "text": [
      "Optimization terminated successfully.\n",
      "         Current function value: 0.627143\n",
      "         Iterations 6\n"
     ]
    },
    {
     "data": {
      "text/plain": [
       "Intercept   -0.941330\n",
       "fare         0.015197\n",
       "dtype: float64"
      ]
     },
     "execution_count": 7,
     "metadata": {},
     "output_type": "execute_result"
    }
   ],
   "source": [
    "model3 = smf.logit(formula='survived ~ fare', data=titanic).fit()\n",
    "model3.params"
   ]
  },
  {
   "cell_type": "code",
   "execution_count": 9,
   "id": "044bcf45",
   "metadata": {},
   "outputs": [
    {
     "name": "stdout",
     "output_type": "stream",
     "text": [
      "Odds: 0.39010864567516657\n",
      "Probability: 0.28063176708443055\n"
     ]
    }
   ],
   "source": [
    "log_odd=  -0.941330\n",
    "odds = math.exp(log_odd)\n",
    "print(\"Odds:\", odds)\n",
    "probability = odds/(1+odds)\n",
    "print(\"Probability:\", probability)"
   ]
  },
  {
   "cell_type": "markdown",
   "id": "f0713964",
   "metadata": {},
   "source": [
    "**Let's add a catagorical feature**"
   ]
  },
  {
   "cell_type": "code",
   "execution_count": 10,
   "id": "7096963c",
   "metadata": {},
   "outputs": [
    {
     "name": "stdout",
     "output_type": "stream",
     "text": [
      "Optimization terminated successfully.\n",
      "         Current function value: 0.607805\n",
      "         Iterations 5\n"
     ]
    },
    {
     "data": {
      "text/plain": [
       "Intercept         0.530628\n",
       "C(pclass)[T.2]   -0.639431\n",
       "C(pclass)[T.3]   -1.670399\n",
       "dtype: float64"
      ]
     },
     "execution_count": 10,
     "metadata": {},
     "output_type": "execute_result"
    }
   ],
   "source": [
    "model2 = smf.logit(formula='survived ~ C(pclass)', data=titanic).fit()\n",
    "model2.params"
   ]
  },
  {
   "cell_type": "code",
   "execution_count": 13,
   "id": "81a6151b",
   "metadata": {},
   "outputs": [
    {
     "name": "stdout",
     "output_type": "stream",
     "text": [
      "0.5325918010068972\n",
      "0.53475935828877\n"
     ]
    }
   ],
   "source": [
    "log_odd = -0.63\n",
    "odds = math.exp(log_odd)\n",
    "\n",
    "probability = odds/(1+odds)\n",
    "\n",
    "print(odds)\n",
    "print(1/1.87)"
   ]
  },
  {
   "cell_type": "markdown",
   "id": "d5c738cc",
   "metadata": {},
   "source": [
    "**Let's now combine features**"
   ]
  },
  {
   "cell_type": "code",
   "execution_count": 14,
   "id": "7b34d71f",
   "metadata": {},
   "outputs": [
    {
     "name": "stdout",
     "output_type": "stream",
     "text": [
      "Optimization terminated successfully.\n",
      "         Current function value: 0.501450\n",
      "         Iterations 6\n"
     ]
    },
    {
     "data": {
      "text/plain": [
       "Intercept         0.934841\n",
       "C(sex)[T.male]   -2.347599\n",
       "fare              0.012773\n",
       "age              -0.010570\n",
       "dtype: float64"
      ]
     },
     "execution_count": 14,
     "metadata": {},
     "output_type": "execute_result"
    }
   ],
   "source": [
    "model2 = smf.logit(formula='survived ~ fare + C(sex) + age', data=titanic).fit()\n",
    "model2.params"
   ]
  },
  {
   "cell_type": "markdown",
   "id": "7599c7d2",
   "metadata": {},
   "source": [
    "# Evaluate performance"
   ]
  },
  {
   "cell_type": "code",
   "execution_count": 18,
   "id": "b6f9707f",
   "metadata": {},
   "outputs": [
    {
     "name": "stdout",
     "output_type": "stream",
     "text": [
      "Optimization terminated successfully.\n",
      "         Current function value: 0.501450\n",
      "         Iterations 6\n"
     ]
    },
    {
     "data": {
      "text/html": [
       "<table class=\"simpletable\">\n",
       "<caption>Logit Regression Results</caption>\n",
       "<tr>\n",
       "  <th>Dep. Variable:</th>       <td>survived</td>     <th>  No. Observations:  </th>  <td>   714</td>  \n",
       "</tr>\n",
       "<tr>\n",
       "  <th>Model:</th>                 <td>Logit</td>      <th>  Df Residuals:      </th>  <td>   710</td>  \n",
       "</tr>\n",
       "<tr>\n",
       "  <th>Method:</th>                 <td>MLE</td>       <th>  Df Model:          </th>  <td>     3</td>  \n",
       "</tr>\n",
       "<tr>\n",
       "  <th>Date:</th>            <td>Sat, 07 May 2022</td> <th>  Pseudo R-squ.:     </th>  <td>0.2576</td>  \n",
       "</tr>\n",
       "<tr>\n",
       "  <th>Time:</th>                <td>10:36:54</td>     <th>  Log-Likelihood:    </th> <td> -358.04</td> \n",
       "</tr>\n",
       "<tr>\n",
       "  <th>converged:</th>             <td>True</td>       <th>  LL-Null:           </th> <td> -482.26</td> \n",
       "</tr>\n",
       "<tr>\n",
       "  <th>Covariance Type:</th>     <td>nonrobust</td>    <th>  LLR p-value:       </th> <td>1.419e-53</td>\n",
       "</tr>\n",
       "</table>\n",
       "<table class=\"simpletable\">\n",
       "<tr>\n",
       "         <td></td>           <th>coef</th>     <th>std err</th>      <th>z</th>      <th>P>|z|</th>  <th>[0.025</th>    <th>0.975]</th>  \n",
       "</tr>\n",
       "<tr>\n",
       "  <th>Intercept</th>      <td>    0.9348</td> <td>    0.239</td> <td>    3.910</td> <td> 0.000</td> <td>    0.466</td> <td>    1.403</td>\n",
       "</tr>\n",
       "<tr>\n",
       "  <th>C(sex)[T.male]</th> <td>   -2.3476</td> <td>    0.190</td> <td>  -12.359</td> <td> 0.000</td> <td>   -2.720</td> <td>   -1.975</td>\n",
       "</tr>\n",
       "<tr>\n",
       "  <th>fare</th>           <td>    0.0128</td> <td>    0.003</td> <td>    4.738</td> <td> 0.000</td> <td>    0.007</td> <td>    0.018</td>\n",
       "</tr>\n",
       "<tr>\n",
       "  <th>age</th>            <td>   -0.0106</td> <td>    0.006</td> <td>   -1.627</td> <td> 0.104</td> <td>   -0.023</td> <td>    0.002</td>\n",
       "</tr>\n",
       "</table>"
      ],
      "text/plain": [
       "<class 'statsmodels.iolib.summary.Summary'>\n",
       "\"\"\"\n",
       "                           Logit Regression Results                           \n",
       "==============================================================================\n",
       "Dep. Variable:               survived   No. Observations:                  714\n",
       "Model:                          Logit   Df Residuals:                      710\n",
       "Method:                           MLE   Df Model:                            3\n",
       "Date:                Sat, 07 May 2022   Pseudo R-squ.:                  0.2576\n",
       "Time:                        10:36:54   Log-Likelihood:                -358.04\n",
       "converged:                       True   LL-Null:                       -482.26\n",
       "Covariance Type:            nonrobust   LLR p-value:                 1.419e-53\n",
       "==================================================================================\n",
       "                     coef    std err          z      P>|z|      [0.025      0.975]\n",
       "----------------------------------------------------------------------------------\n",
       "Intercept          0.9348      0.239      3.910      0.000       0.466       1.403\n",
       "C(sex)[T.male]    -2.3476      0.190    -12.359      0.000      -2.720      -1.975\n",
       "fare               0.0128      0.003      4.738      0.000       0.007       0.018\n",
       "age               -0.0106      0.006     -1.627      0.104      -0.023       0.002\n",
       "==================================================================================\n",
       "\"\"\""
      ]
     },
     "execution_count": 18,
     "metadata": {},
     "output_type": "execute_result"
    }
   ],
   "source": [
    "model4 = smf.logit(formula='survived ~ fare + C(sex) + age', data=titanic).fit()\n",
    "model4.summary()"
   ]
  },
  {
   "cell_type": "markdown",
   "id": "91d60b8c",
   "metadata": {},
   "source": [
    "Key things to note: \n",
    "- Model\n",
    "- P Value, Z score, 95% cofidence interval\n",
    "- Pseudo R-squ\n",
    "- Log likelihood"
   ]
  },
  {
   "cell_type": "code",
   "execution_count": 6,
   "id": "01332db7",
   "metadata": {},
   "outputs": [],
   "source": [
    "# model4.summary()"
   ]
  },
  {
   "cell_type": "markdown",
   "id": "94cb0953",
   "metadata": {},
   "source": [
    "# Multicolinearity issues in Linear/Logistic Regression"
   ]
  },
  {
   "cell_type": "code",
   "execution_count": 19,
   "id": "879d69d4",
   "metadata": {},
   "outputs": [
    {
     "data": {
      "text/html": [
       "<style type=\"text/css\">\n",
       "#T_2a589_row0_col0, #T_2a589_row1_col1, #T_2a589_row2_col2, #T_2a589_row3_col3, #T_2a589_row4_col4, #T_2a589_row5_col5 {\n",
       "  background-color: #b40426;\n",
       "  color: #f1f1f1;\n",
       "}\n",
       "#T_2a589_row0_col1, #T_2a589_row0_col2, #T_2a589_row0_col3, #T_2a589_row2_col4, #T_2a589_row2_col5, #T_2a589_row3_col0 {\n",
       "  background-color: #3b4cc0;\n",
       "  color: #f1f1f1;\n",
       "}\n",
       "#T_2a589_row0_col4 {\n",
       "  background-color: #f7ba9f;\n",
       "  color: #000000;\n",
       "}\n",
       "#T_2a589_row0_col5 {\n",
       "  background-color: #f7aa8c;\n",
       "  color: #000000;\n",
       "}\n",
       "#T_2a589_row1_col0, #T_2a589_row2_col0 {\n",
       "  background-color: #4358cb;\n",
       "  color: #f1f1f1;\n",
       "}\n",
       "#T_2a589_row1_col2, #T_2a589_row2_col1 {\n",
       "  background-color: #d24b40;\n",
       "  color: #f1f1f1;\n",
       "}\n",
       "#T_2a589_row1_col3, #T_2a589_row3_col1 {\n",
       "  background-color: #c83836;\n",
       "  color: #f1f1f1;\n",
       "}\n",
       "#T_2a589_row1_col4 {\n",
       "  background-color: #5b7ae5;\n",
       "  color: #f1f1f1;\n",
       "}\n",
       "#T_2a589_row1_col5, #T_2a589_row4_col2 {\n",
       "  background-color: #4961d2;\n",
       "  color: #f1f1f1;\n",
       "}\n",
       "#T_2a589_row2_col3 {\n",
       "  background-color: #cd423b;\n",
       "  color: #f1f1f1;\n",
       "}\n",
       "#T_2a589_row3_col2 {\n",
       "  background-color: #cf453c;\n",
       "  color: #f1f1f1;\n",
       "}\n",
       "#T_2a589_row3_col4 {\n",
       "  background-color: #6e90f2;\n",
       "  color: #f1f1f1;\n",
       "}\n",
       "#T_2a589_row3_col5 {\n",
       "  background-color: #516ddb;\n",
       "  color: #f1f1f1;\n",
       "}\n",
       "#T_2a589_row4_col0 {\n",
       "  background-color: #f7b194;\n",
       "  color: #000000;\n",
       "}\n",
       "#T_2a589_row4_col1 {\n",
       "  background-color: #6b8df0;\n",
       "  color: #f1f1f1;\n",
       "}\n",
       "#T_2a589_row4_col3 {\n",
       "  background-color: #85a8fc;\n",
       "  color: #f1f1f1;\n",
       "}\n",
       "#T_2a589_row4_col5 {\n",
       "  background-color: #dcdddd;\n",
       "  color: #000000;\n",
       "}\n",
       "#T_2a589_row5_col0 {\n",
       "  background-color: #f29072;\n",
       "  color: #f1f1f1;\n",
       "}\n",
       "#T_2a589_row5_col1 {\n",
       "  background-color: #8badfd;\n",
       "  color: #000000;\n",
       "}\n",
       "#T_2a589_row5_col2 {\n",
       "  background-color: #7da0f9;\n",
       "  color: #f1f1f1;\n",
       "}\n",
       "#T_2a589_row5_col3 {\n",
       "  background-color: #9abbff;\n",
       "  color: #000000;\n",
       "}\n",
       "#T_2a589_row5_col4 {\n",
       "  background-color: #efcfbf;\n",
       "  color: #000000;\n",
       "}\n",
       "</style>\n",
       "<table id=\"T_2a589_\">\n",
       "  <thead>\n",
       "    <tr>\n",
       "      <th class=\"blank level0\" >&nbsp;</th>\n",
       "      <th class=\"col_heading level0 col0\" >mpg</th>\n",
       "      <th class=\"col_heading level0 col1\" >cylinders</th>\n",
       "      <th class=\"col_heading level0 col2\" >horsepower</th>\n",
       "      <th class=\"col_heading level0 col3\" >weight</th>\n",
       "      <th class=\"col_heading level0 col4\" >acceleration</th>\n",
       "      <th class=\"col_heading level0 col5\" >model_year</th>\n",
       "    </tr>\n",
       "  </thead>\n",
       "  <tbody>\n",
       "    <tr>\n",
       "      <th id=\"T_2a589_level0_row0\" class=\"row_heading level0 row0\" >mpg</th>\n",
       "      <td id=\"T_2a589_row0_col0\" class=\"data row0 col0\" >1.000000</td>\n",
       "      <td id=\"T_2a589_row0_col1\" class=\"data row0 col1\" >-0.777618</td>\n",
       "      <td id=\"T_2a589_row0_col2\" class=\"data row0 col2\" >-0.778427</td>\n",
       "      <td id=\"T_2a589_row0_col3\" class=\"data row0 col3\" >-0.832244</td>\n",
       "      <td id=\"T_2a589_row0_col4\" class=\"data row0 col4\" >0.423329</td>\n",
       "      <td id=\"T_2a589_row0_col5\" class=\"data row0 col5\" >0.580541</td>\n",
       "    </tr>\n",
       "    <tr>\n",
       "      <th id=\"T_2a589_level0_row1\" class=\"row_heading level0 row1\" >cylinders</th>\n",
       "      <td id=\"T_2a589_row1_col0\" class=\"data row1 col0\" >-0.777618</td>\n",
       "      <td id=\"T_2a589_row1_col1\" class=\"data row1 col1\" >1.000000</td>\n",
       "      <td id=\"T_2a589_row1_col2\" class=\"data row1 col2\" >0.842983</td>\n",
       "      <td id=\"T_2a589_row1_col3\" class=\"data row1 col3\" >0.897527</td>\n",
       "      <td id=\"T_2a589_row1_col4\" class=\"data row1 col4\" >-0.504683</td>\n",
       "      <td id=\"T_2a589_row1_col5\" class=\"data row1 col5\" >-0.345647</td>\n",
       "    </tr>\n",
       "    <tr>\n",
       "      <th id=\"T_2a589_level0_row2\" class=\"row_heading level0 row2\" >horsepower</th>\n",
       "      <td id=\"T_2a589_row2_col0\" class=\"data row2 col0\" >-0.778427</td>\n",
       "      <td id=\"T_2a589_row2_col1\" class=\"data row2 col1\" >0.842983</td>\n",
       "      <td id=\"T_2a589_row2_col2\" class=\"data row2 col2\" >1.000000</td>\n",
       "      <td id=\"T_2a589_row2_col3\" class=\"data row2 col3\" >0.864538</td>\n",
       "      <td id=\"T_2a589_row2_col4\" class=\"data row2 col4\" >-0.689196</td>\n",
       "      <td id=\"T_2a589_row2_col5\" class=\"data row2 col5\" >-0.416361</td>\n",
       "    </tr>\n",
       "    <tr>\n",
       "      <th id=\"T_2a589_level0_row3\" class=\"row_heading level0 row3\" >weight</th>\n",
       "      <td id=\"T_2a589_row3_col0\" class=\"data row3 col0\" >-0.832244</td>\n",
       "      <td id=\"T_2a589_row3_col1\" class=\"data row3 col1\" >0.897527</td>\n",
       "      <td id=\"T_2a589_row3_col2\" class=\"data row3 col2\" >0.864538</td>\n",
       "      <td id=\"T_2a589_row3_col3\" class=\"data row3 col3\" >1.000000</td>\n",
       "      <td id=\"T_2a589_row3_col4\" class=\"data row3 col4\" >-0.416839</td>\n",
       "      <td id=\"T_2a589_row3_col5\" class=\"data row3 col5\" >-0.309120</td>\n",
       "    </tr>\n",
       "    <tr>\n",
       "      <th id=\"T_2a589_level0_row4\" class=\"row_heading level0 row4\" >acceleration</th>\n",
       "      <td id=\"T_2a589_row4_col0\" class=\"data row4 col0\" >0.423329</td>\n",
       "      <td id=\"T_2a589_row4_col1\" class=\"data row4 col1\" >-0.504683</td>\n",
       "      <td id=\"T_2a589_row4_col2\" class=\"data row4 col2\" >-0.689196</td>\n",
       "      <td id=\"T_2a589_row4_col3\" class=\"data row4 col3\" >-0.416839</td>\n",
       "      <td id=\"T_2a589_row4_col4\" class=\"data row4 col4\" >1.000000</td>\n",
       "      <td id=\"T_2a589_row4_col5\" class=\"data row4 col5\" >0.290316</td>\n",
       "    </tr>\n",
       "    <tr>\n",
       "      <th id=\"T_2a589_level0_row5\" class=\"row_heading level0 row5\" >model_year</th>\n",
       "      <td id=\"T_2a589_row5_col0\" class=\"data row5 col0\" >0.580541</td>\n",
       "      <td id=\"T_2a589_row5_col1\" class=\"data row5 col1\" >-0.345647</td>\n",
       "      <td id=\"T_2a589_row5_col2\" class=\"data row5 col2\" >-0.416361</td>\n",
       "      <td id=\"T_2a589_row5_col3\" class=\"data row5 col3\" >-0.309120</td>\n",
       "      <td id=\"T_2a589_row5_col4\" class=\"data row5 col4\" >0.290316</td>\n",
       "      <td id=\"T_2a589_row5_col5\" class=\"data row5 col5\" >1.000000</td>\n",
       "    </tr>\n",
       "  </tbody>\n",
       "</table>\n"
      ],
      "text/plain": [
       "<pandas.io.formats.style.Styler at 0x12aa4f160>"
      ]
     },
     "execution_count": 19,
     "metadata": {},
     "output_type": "execute_result"
    }
   ],
   "source": [
    "mpg = sns.load_dataset('mpg').dropna().drop(columns=['origin', 'name', 'displacement'])\n",
    "mpg.corr().style.background_gradient(cmap='coolwarm')"
   ]
  },
  {
   "cell_type": "code",
   "execution_count": 20,
   "id": "64d9f9fd",
   "metadata": {},
   "outputs": [
    {
     "data": {
      "text/plain": [
       "Intercept     528.876711\n",
       "cylinders     290.356425\n",
       "horsepower      8.231070\n",
       "dtype: float64"
      ]
     },
     "execution_count": 20,
     "metadata": {},
     "output_type": "execute_result"
    }
   ],
   "source": [
    "smf.ols(formula='weight ~ cylinders + horsepower', data=mpg).fit().params"
   ]
  },
  {
   "cell_type": "code",
   "execution_count": 21,
   "id": "127a9718",
   "metadata": {},
   "outputs": [
    {
     "data": {
      "text/html": [
       "<div>\n",
       "<style scoped>\n",
       "    .dataframe tbody tr th:only-of-type {\n",
       "        vertical-align: middle;\n",
       "    }\n",
       "\n",
       "    .dataframe tbody tr th {\n",
       "        vertical-align: top;\n",
       "    }\n",
       "\n",
       "    .dataframe thead th {\n",
       "        text-align: right;\n",
       "    }\n",
       "</style>\n",
       "<table border=\"1\" class=\"dataframe\">\n",
       "  <thead>\n",
       "    <tr style=\"text-align: right;\">\n",
       "      <th></th>\n",
       "      <th>mpg</th>\n",
       "      <th>cylinders</th>\n",
       "      <th>horsepower</th>\n",
       "      <th>weight</th>\n",
       "      <th>acceleration</th>\n",
       "      <th>model_year</th>\n",
       "      <th>lin_comb</th>\n",
       "    </tr>\n",
       "  </thead>\n",
       "  <tbody>\n",
       "    <tr>\n",
       "      <th>0</th>\n",
       "      <td>18.0</td>\n",
       "      <td>8</td>\n",
       "      <td>130.0</td>\n",
       "      <td>3504</td>\n",
       "      <td>12.0</td>\n",
       "      <td>70</td>\n",
       "      <td>41.0</td>\n",
       "    </tr>\n",
       "    <tr>\n",
       "      <th>1</th>\n",
       "      <td>15.0</td>\n",
       "      <td>8</td>\n",
       "      <td>165.0</td>\n",
       "      <td>3693</td>\n",
       "      <td>11.5</td>\n",
       "      <td>70</td>\n",
       "      <td>30.5</td>\n",
       "    </tr>\n",
       "    <tr>\n",
       "      <th>2</th>\n",
       "      <td>18.0</td>\n",
       "      <td>8</td>\n",
       "      <td>150.0</td>\n",
       "      <td>3436</td>\n",
       "      <td>11.0</td>\n",
       "      <td>70</td>\n",
       "      <td>35.0</td>\n",
       "    </tr>\n",
       "  </tbody>\n",
       "</table>\n",
       "</div>"
      ],
      "text/plain": [
       "    mpg  cylinders  horsepower  weight  acceleration  model_year  lin_comb\n",
       "0  18.0          8       130.0    3504          12.0          70      41.0\n",
       "1  15.0          8       165.0    3693          11.5          70      30.5\n",
       "2  18.0          8       150.0    3436          11.0          70      35.0"
      ]
     },
     "execution_count": 21,
     "metadata": {},
     "output_type": "execute_result"
    }
   ],
   "source": [
    "mpg['lin_comb'] = 10 * mpg['cylinders'] - 0.3 * mpg['horsepower']\n",
    "mpg.head(3)"
   ]
  },
  {
   "cell_type": "code",
   "execution_count": 22,
   "id": "d0ed4d84",
   "metadata": {},
   "outputs": [
    {
     "data": {
      "text/plain": [
       "Intercept     528.876711\n",
       "cylinders       3.375029\n",
       "horsepower     16.840512\n",
       "lin_comb       28.698140\n",
       "dtype: float64"
      ]
     },
     "execution_count": 22,
     "metadata": {},
     "output_type": "execute_result"
    }
   ],
   "source": [
    "smf.ols(formula='weight ~ cylinders + horsepower + lin_comb', data=mpg).fit().params"
   ]
  },
  {
   "cell_type": "code",
   "execution_count": 25,
   "id": "f164aa45",
   "metadata": {},
   "outputs": [
    {
     "data": {
      "text/plain": [
       "Intercept      524.838981\n",
       "cylinders     5954.582173\n",
       "horsepower    -161.691947\n",
       "lin_comb      -566.220542\n",
       "dtype: float64"
      ]
     },
     "execution_count": 25,
     "metadata": {},
     "output_type": "execute_result"
    }
   ],
   "source": [
    "# # Now, change just a bit one single observation by 1% just on one feature\n",
    "mpg.loc[0,'horsepower'] = mpg.loc[0,'horsepower']*1.01\n",
    "smf.ols(formula='weight ~ cylinders + horsepower + lin_comb', data=mpg).fit().params"
   ]
  },
  {
   "cell_type": "code",
   "execution_count": 27,
   "id": "988d09af",
   "metadata": {},
   "outputs": [
    {
     "data": {
      "text/html": [
       "<table class=\"simpletable\">\n",
       "<caption>OLS Regression Results</caption>\n",
       "<tr>\n",
       "  <th>Dep. Variable:</th>         <td>weight</td>      <th>  R-squared:         </th> <td>   0.846</td> \n",
       "</tr>\n",
       "<tr>\n",
       "  <th>Model:</th>                   <td>OLS</td>       <th>  Adj. R-squared:    </th> <td>   0.845</td> \n",
       "</tr>\n",
       "<tr>\n",
       "  <th>Method:</th>             <td>Least Squares</td>  <th>  F-statistic:       </th> <td>   712.9</td> \n",
       "</tr>\n",
       "<tr>\n",
       "  <th>Date:</th>             <td>Sat, 07 May 2022</td> <th>  Prob (F-statistic):</th> <td>1.99e-157</td>\n",
       "</tr>\n",
       "<tr>\n",
       "  <th>Time:</th>                 <td>10:45:54</td>     <th>  Log-Likelihood:    </th> <td> -2832.3</td> \n",
       "</tr>\n",
       "<tr>\n",
       "  <th>No. Observations:</th>      <td>   392</td>      <th>  AIC:               </th> <td>   5673.</td> \n",
       "</tr>\n",
       "<tr>\n",
       "  <th>Df Residuals:</th>          <td>   388</td>      <th>  BIC:               </th> <td>   5689.</td> \n",
       "</tr>\n",
       "<tr>\n",
       "  <th>Df Model:</th>              <td>     3</td>      <th>                     </th>     <td> </td>    \n",
       "</tr>\n",
       "<tr>\n",
       "  <th>Covariance Type:</th>      <td>nonrobust</td>    <th>                     </th>     <td> </td>    \n",
       "</tr>\n",
       "</table>\n",
       "<table class=\"simpletable\">\n",
       "<tr>\n",
       "       <td></td>         <th>coef</th>     <th>std err</th>      <th>t</th>      <th>P>|t|</th>  <th>[0.025</th>    <th>0.975]</th>  \n",
       "</tr>\n",
       "<tr>\n",
       "  <th>Intercept</th>  <td>  524.8390</td> <td>   56.865</td> <td>    9.230</td> <td> 0.000</td> <td>  413.038</td> <td>  636.640</td>\n",
       "</tr>\n",
       "<tr>\n",
       "  <th>cylinders</th>  <td> 5954.5822</td> <td> 4286.694</td> <td>    1.389</td> <td> 0.166</td> <td>-2473.473</td> <td> 1.44e+04</td>\n",
       "</tr>\n",
       "<tr>\n",
       "  <th>horsepower</th> <td> -161.6919</td> <td>  128.597</td> <td>   -1.257</td> <td> 0.209</td> <td> -414.526</td> <td>   91.142</td>\n",
       "</tr>\n",
       "<tr>\n",
       "  <th>lin_comb</th>   <td> -566.2205</td> <td>  428.515</td> <td>   -1.321</td> <td> 0.187</td> <td>-1408.722</td> <td>  276.281</td>\n",
       "</tr>\n",
       "</table>\n",
       "<table class=\"simpletable\">\n",
       "<tr>\n",
       "  <th>Omnibus:</th>       <td>12.222</td> <th>  Durbin-Watson:     </th> <td>   1.199</td>\n",
       "</tr>\n",
       "<tr>\n",
       "  <th>Prob(Omnibus):</th> <td> 0.002</td> <th>  Jarque-Bera (JB):  </th> <td>  24.236</td>\n",
       "</tr>\n",
       "<tr>\n",
       "  <th>Skew:</th>          <td> 0.069</td> <th>  Prob(JB):          </th> <td>5.46e-06</td>\n",
       "</tr>\n",
       "<tr>\n",
       "  <th>Kurtosis:</th>      <td> 4.210</td> <th>  Cond. No.          </th> <td>2.91e+04</td>\n",
       "</tr>\n",
       "</table><br/><br/>Notes:<br/>[1] Standard Errors assume that the covariance matrix of the errors is correctly specified.<br/>[2] The condition number is large, 2.91e+04. This might indicate that there are<br/>strong multicollinearity or other numerical problems."
      ],
      "text/plain": [
       "<class 'statsmodels.iolib.summary.Summary'>\n",
       "\"\"\"\n",
       "                            OLS Regression Results                            \n",
       "==============================================================================\n",
       "Dep. Variable:                 weight   R-squared:                       0.846\n",
       "Model:                            OLS   Adj. R-squared:                  0.845\n",
       "Method:                 Least Squares   F-statistic:                     712.9\n",
       "Date:                Sat, 07 May 2022   Prob (F-statistic):          1.99e-157\n",
       "Time:                        10:45:54   Log-Likelihood:                -2832.3\n",
       "No. Observations:                 392   AIC:                             5673.\n",
       "Df Residuals:                     388   BIC:                             5689.\n",
       "Df Model:                           3                                         \n",
       "Covariance Type:            nonrobust                                         \n",
       "==============================================================================\n",
       "                 coef    std err          t      P>|t|      [0.025      0.975]\n",
       "------------------------------------------------------------------------------\n",
       "Intercept    524.8390     56.865      9.230      0.000     413.038     636.640\n",
       "cylinders   5954.5822   4286.694      1.389      0.166   -2473.473    1.44e+04\n",
       "horsepower  -161.6919    128.597     -1.257      0.209    -414.526      91.142\n",
       "lin_comb    -566.2205    428.515     -1.321      0.187   -1408.722     276.281\n",
       "==============================================================================\n",
       "Omnibus:                       12.222   Durbin-Watson:                   1.199\n",
       "Prob(Omnibus):                  0.002   Jarque-Bera (JB):               24.236\n",
       "Skew:                           0.069   Prob(JB):                     5.46e-06\n",
       "Kurtosis:                       4.210   Cond. No.                     2.91e+04\n",
       "==============================================================================\n",
       "\n",
       "Notes:\n",
       "[1] Standard Errors assume that the covariance matrix of the errors is correctly specified.\n",
       "[2] The condition number is large, 2.91e+04. This might indicate that there are\n",
       "strong multicollinearity or other numerical problems.\n",
       "\"\"\""
      ]
     },
     "execution_count": 27,
     "metadata": {},
     "output_type": "execute_result"
    }
   ],
   "source": [
    "# Statsmodels gives us a clear WARNING [2]\n",
    "# Summary table also reads 'Covariance Type: nonrobust'\n",
    "smf.ols(formula='weight ~ cylinders + horsepower + lin_comb', data=mpg).fit().summary()"
   ]
  },
  {
   "cell_type": "code",
   "execution_count": 13,
   "id": "de2963ac",
   "metadata": {},
   "outputs": [],
   "source": [
    "# mpg['lin_comb'] = mpg['lin_comb'] +  0.05 * np.random.rand(mpg.shape[0])\n",
    "# np.linalg.matrix_rank(mpg)"
   ]
  },
  {
   "cell_type": "code",
   "execution_count": 14,
   "id": "cf3e2ba1",
   "metadata": {},
   "outputs": [],
   "source": [
    "# smf.ols(formula='weight ~ cylinders + horsepower + lin_comb', data=mpg).fit().params"
   ]
  },
  {
   "cell_type": "code",
   "execution_count": 15,
   "id": "40360b9e",
   "metadata": {},
   "outputs": [],
   "source": [
    "# # Again, change just a bit one single observation in the dataset and check the OLS results\n",
    "# mpg.loc[0,'horsepower'] = mpg.loc[0,'horsepower']*0.8\n",
    "# smf.ols(formula='weight ~ cylinders + horsepower + lin_comb', data=mpg).fit().params"
   ]
  },
  {
   "cell_type": "markdown",
   "id": "0f94a4c1",
   "metadata": {},
   "source": [
    "## How to detect multicolinearity"
   ]
  },
  {
   "cell_type": "code",
   "execution_count": 28,
   "id": "1c5e27b4",
   "metadata": {},
   "outputs": [
    {
     "data": {
      "text/html": [
       "<style type=\"text/css\">\n",
       "#T_e73af_row0_col0, #T_e73af_row1_col1, #T_e73af_row2_col2, #T_e73af_row3_col3, #T_e73af_row4_col4, #T_e73af_row5_col5, #T_e73af_row6_col6 {\n",
       "  background-color: #b40426;\n",
       "  color: #f1f1f1;\n",
       "}\n",
       "#T_e73af_row0_col1, #T_e73af_row0_col2, #T_e73af_row0_col3, #T_e73af_row0_col6, #T_e73af_row2_col4, #T_e73af_row2_col5, #T_e73af_row3_col0 {\n",
       "  background-color: #3b4cc0;\n",
       "  color: #f1f1f1;\n",
       "}\n",
       "#T_e73af_row0_col4 {\n",
       "  background-color: #f7ba9f;\n",
       "  color: #000000;\n",
       "}\n",
       "#T_e73af_row0_col5 {\n",
       "  background-color: #f7aa8c;\n",
       "  color: #000000;\n",
       "}\n",
       "#T_e73af_row1_col0, #T_e73af_row2_col0 {\n",
       "  background-color: #4358cb;\n",
       "  color: #f1f1f1;\n",
       "}\n",
       "#T_e73af_row1_col2, #T_e73af_row2_col1 {\n",
       "  background-color: #d24b40;\n",
       "  color: #f1f1f1;\n",
       "}\n",
       "#T_e73af_row1_col3, #T_e73af_row3_col1 {\n",
       "  background-color: #c83836;\n",
       "  color: #f1f1f1;\n",
       "}\n",
       "#T_e73af_row1_col4 {\n",
       "  background-color: #5b7ae5;\n",
       "  color: #f1f1f1;\n",
       "}\n",
       "#T_e73af_row1_col5, #T_e73af_row4_col2 {\n",
       "  background-color: #4961d2;\n",
       "  color: #f1f1f1;\n",
       "}\n",
       "#T_e73af_row1_col6 {\n",
       "  background-color: #e7745b;\n",
       "  color: #f1f1f1;\n",
       "}\n",
       "#T_e73af_row2_col3 {\n",
       "  background-color: #cd423b;\n",
       "  color: #f1f1f1;\n",
       "}\n",
       "#T_e73af_row2_col6 {\n",
       "  background-color: #e0dbd8;\n",
       "  color: #000000;\n",
       "}\n",
       "#T_e73af_row3_col2 {\n",
       "  background-color: #cf453c;\n",
       "  color: #f1f1f1;\n",
       "}\n",
       "#T_e73af_row3_col4 {\n",
       "  background-color: #6e90f2;\n",
       "  color: #f1f1f1;\n",
       "}\n",
       "#T_e73af_row3_col5 {\n",
       "  background-color: #516ddb;\n",
       "  color: #f1f1f1;\n",
       "}\n",
       "#T_e73af_row3_col6 {\n",
       "  background-color: #f7af91;\n",
       "  color: #000000;\n",
       "}\n",
       "#T_e73af_row4_col0 {\n",
       "  background-color: #f7b194;\n",
       "  color: #000000;\n",
       "}\n",
       "#T_e73af_row4_col1 {\n",
       "  background-color: #6b8df0;\n",
       "  color: #f1f1f1;\n",
       "}\n",
       "#T_e73af_row4_col3, #T_e73af_row5_col6 {\n",
       "  background-color: #85a8fc;\n",
       "  color: #f1f1f1;\n",
       "}\n",
       "#T_e73af_row4_col5 {\n",
       "  background-color: #dcdddd;\n",
       "  color: #000000;\n",
       "}\n",
       "#T_e73af_row4_col6 {\n",
       "  background-color: #90b2fe;\n",
       "  color: #000000;\n",
       "}\n",
       "#T_e73af_row5_col0 {\n",
       "  background-color: #f29072;\n",
       "  color: #f1f1f1;\n",
       "}\n",
       "#T_e73af_row5_col1 {\n",
       "  background-color: #8badfd;\n",
       "  color: #000000;\n",
       "}\n",
       "#T_e73af_row5_col2 {\n",
       "  background-color: #7da0f9;\n",
       "  color: #f1f1f1;\n",
       "}\n",
       "#T_e73af_row5_col3 {\n",
       "  background-color: #9abbff;\n",
       "  color: #000000;\n",
       "}\n",
       "#T_e73af_row5_col4 {\n",
       "  background-color: #efcfbf;\n",
       "  color: #000000;\n",
       "}\n",
       "#T_e73af_row6_col0, #T_e73af_row6_col5 {\n",
       "  background-color: #80a3fa;\n",
       "  color: #f1f1f1;\n",
       "}\n",
       "#T_e73af_row6_col1 {\n",
       "  background-color: #e0654f;\n",
       "  color: #f1f1f1;\n",
       "}\n",
       "#T_e73af_row6_col2 {\n",
       "  background-color: #f2cab5;\n",
       "  color: #000000;\n",
       "}\n",
       "#T_e73af_row6_col3 {\n",
       "  background-color: #f39778;\n",
       "  color: #000000;\n",
       "}\n",
       "#T_e73af_row6_col4 {\n",
       "  background-color: #b6cefa;\n",
       "  color: #000000;\n",
       "}\n",
       "</style>\n",
       "<table id=\"T_e73af_\">\n",
       "  <thead>\n",
       "    <tr>\n",
       "      <th class=\"blank level0\" >&nbsp;</th>\n",
       "      <th class=\"col_heading level0 col0\" >mpg</th>\n",
       "      <th class=\"col_heading level0 col1\" >cylinders</th>\n",
       "      <th class=\"col_heading level0 col2\" >horsepower</th>\n",
       "      <th class=\"col_heading level0 col3\" >weight</th>\n",
       "      <th class=\"col_heading level0 col4\" >acceleration</th>\n",
       "      <th class=\"col_heading level0 col5\" >model_year</th>\n",
       "      <th class=\"col_heading level0 col6\" >lin_comb</th>\n",
       "    </tr>\n",
       "  </thead>\n",
       "  <tbody>\n",
       "    <tr>\n",
       "      <th id=\"T_e73af_level0_row0\" class=\"row_heading level0 row0\" >mpg</th>\n",
       "      <td id=\"T_e73af_row0_col0\" class=\"data row0 col0\" >1.000000</td>\n",
       "      <td id=\"T_e73af_row0_col1\" class=\"data row0 col1\" >-0.777618</td>\n",
       "      <td id=\"T_e73af_row0_col2\" class=\"data row0 col2\" >-0.778454</td>\n",
       "      <td id=\"T_e73af_row0_col3\" class=\"data row0 col3\" >-0.832244</td>\n",
       "      <td id=\"T_e73af_row0_col4\" class=\"data row0 col4\" >0.423329</td>\n",
       "      <td id=\"T_e73af_row0_col5\" class=\"data row0 col5\" >0.580541</td>\n",
       "      <td id=\"T_e73af_row0_col6\" class=\"data row0 col6\" >-0.445237</td>\n",
       "    </tr>\n",
       "    <tr>\n",
       "      <th id=\"T_e73af_level0_row1\" class=\"row_heading level0 row1\" >cylinders</th>\n",
       "      <td id=\"T_e73af_row1_col0\" class=\"data row1 col0\" >-0.777618</td>\n",
       "      <td id=\"T_e73af_row1_col1\" class=\"data row1 col1\" >1.000000</td>\n",
       "      <td id=\"T_e73af_row1_col2\" class=\"data row1 col2\" >0.843139</td>\n",
       "      <td id=\"T_e73af_row1_col3\" class=\"data row1 col3\" >0.897527</td>\n",
       "      <td id=\"T_e73af_row1_col4\" class=\"data row1 col4\" >-0.504683</td>\n",
       "      <td id=\"T_e73af_row1_col5\" class=\"data row1 col5\" >-0.345647</td>\n",
       "      <td id=\"T_e73af_row1_col6\" class=\"data row1 col6\" >0.762622</td>\n",
       "    </tr>\n",
       "    <tr>\n",
       "      <th id=\"T_e73af_level0_row2\" class=\"row_heading level0 row2\" >horsepower</th>\n",
       "      <td id=\"T_e73af_row2_col0\" class=\"data row2 col0\" >-0.778454</td>\n",
       "      <td id=\"T_e73af_row2_col1\" class=\"data row2 col1\" >0.843139</td>\n",
       "      <td id=\"T_e73af_row2_col2\" class=\"data row2 col2\" >1.000000</td>\n",
       "      <td id=\"T_e73af_row2_col3\" class=\"data row2 col3\" >0.864541</td>\n",
       "      <td id=\"T_e73af_row2_col4\" class=\"data row2 col4\" >-0.689335</td>\n",
       "      <td id=\"T_e73af_row2_col5\" class=\"data row2 col5\" >-0.416593</td>\n",
       "      <td id=\"T_e73af_row2_col6\" class=\"data row2 col6\" >0.295197</td>\n",
       "    </tr>\n",
       "    <tr>\n",
       "      <th id=\"T_e73af_level0_row3\" class=\"row_heading level0 row3\" >weight</th>\n",
       "      <td id=\"T_e73af_row3_col0\" class=\"data row3 col0\" >-0.832244</td>\n",
       "      <td id=\"T_e73af_row3_col1\" class=\"data row3 col1\" >0.897527</td>\n",
       "      <td id=\"T_e73af_row3_col2\" class=\"data row3 col2\" >0.864541</td>\n",
       "      <td id=\"T_e73af_row3_col3\" class=\"data row3 col3\" >1.000000</td>\n",
       "      <td id=\"T_e73af_row3_col4\" class=\"data row3 col4\" >-0.416839</td>\n",
       "      <td id=\"T_e73af_row3_col5\" class=\"data row3 col5\" >-0.309120</td>\n",
       "      <td id=\"T_e73af_row3_col6\" class=\"data row3 col6\" >0.554685</td>\n",
       "    </tr>\n",
       "    <tr>\n",
       "      <th id=\"T_e73af_level0_row4\" class=\"row_heading level0 row4\" >acceleration</th>\n",
       "      <td id=\"T_e73af_row4_col0\" class=\"data row4 col0\" >0.423329</td>\n",
       "      <td id=\"T_e73af_row4_col1\" class=\"data row4 col1\" >-0.504683</td>\n",
       "      <td id=\"T_e73af_row4_col2\" class=\"data row4 col2\" >-0.689335</td>\n",
       "      <td id=\"T_e73af_row4_col3\" class=\"data row4 col3\" >-0.416839</td>\n",
       "      <td id=\"T_e73af_row4_col4\" class=\"data row4 col4\" >1.000000</td>\n",
       "      <td id=\"T_e73af_row4_col5\" class=\"data row4 col5\" >0.290316</td>\n",
       "      <td id=\"T_e73af_row4_col6\" class=\"data row4 col6\" >-0.067730</td>\n",
       "    </tr>\n",
       "    <tr>\n",
       "      <th id=\"T_e73af_level0_row5\" class=\"row_heading level0 row5\" >model_year</th>\n",
       "      <td id=\"T_e73af_row5_col0\" class=\"data row5 col0\" >0.580541</td>\n",
       "      <td id=\"T_e73af_row5_col1\" class=\"data row5 col1\" >-0.345647</td>\n",
       "      <td id=\"T_e73af_row5_col2\" class=\"data row5 col2\" >-0.416593</td>\n",
       "      <td id=\"T_e73af_row5_col3\" class=\"data row5 col3\" >-0.309120</td>\n",
       "      <td id=\"T_e73af_row5_col4\" class=\"data row5 col4\" >0.290316</td>\n",
       "      <td id=\"T_e73af_row5_col5\" class=\"data row5 col5\" >1.000000</td>\n",
       "      <td id=\"T_e73af_row5_col6\" class=\"data row5 col6\" >-0.113309</td>\n",
       "    </tr>\n",
       "    <tr>\n",
       "      <th id=\"T_e73af_level0_row6\" class=\"row_heading level0 row6\" >lin_comb</th>\n",
       "      <td id=\"T_e73af_row6_col0\" class=\"data row6 col0\" >-0.445237</td>\n",
       "      <td id=\"T_e73af_row6_col1\" class=\"data row6 col1\" >0.762622</td>\n",
       "      <td id=\"T_e73af_row6_col2\" class=\"data row6 col2\" >0.295197</td>\n",
       "      <td id=\"T_e73af_row6_col3\" class=\"data row6 col3\" >0.554685</td>\n",
       "      <td id=\"T_e73af_row6_col4\" class=\"data row6 col4\" >-0.067730</td>\n",
       "      <td id=\"T_e73af_row6_col5\" class=\"data row6 col5\" >-0.113309</td>\n",
       "      <td id=\"T_e73af_row6_col6\" class=\"data row6 col6\" >1.000000</td>\n",
       "    </tr>\n",
       "  </tbody>\n",
       "</table>\n"
      ],
      "text/plain": [
       "<pandas.io.formats.style.Styler at 0x12ac36df0>"
      ]
     },
     "execution_count": 28,
     "metadata": {},
     "output_type": "execute_result"
    }
   ],
   "source": [
    "# Correlation matix is not sufficient to detect soft or event strict multicolinearity\n",
    "mpg.corr().style.background_gradient(cmap='coolwarm')"
   ]
  },
  {
   "cell_type": "code",
   "execution_count": 29,
   "id": "b95ee505",
   "metadata": {},
   "outputs": [
    {
     "data": {
      "text/html": [
       "<div>\n",
       "<style scoped>\n",
       "    .dataframe tbody tr th:only-of-type {\n",
       "        vertical-align: middle;\n",
       "    }\n",
       "\n",
       "    .dataframe tbody tr th {\n",
       "        vertical-align: top;\n",
       "    }\n",
       "\n",
       "    .dataframe thead th {\n",
       "        text-align: right;\n",
       "    }\n",
       "</style>\n",
       "<table border=\"1\" class=\"dataframe\">\n",
       "  <thead>\n",
       "    <tr style=\"text-align: right;\">\n",
       "      <th></th>\n",
       "      <th>mpg</th>\n",
       "      <th>cylinders</th>\n",
       "      <th>horsepower</th>\n",
       "      <th>weight</th>\n",
       "      <th>acceleration</th>\n",
       "      <th>model_year</th>\n",
       "      <th>lin_comb</th>\n",
       "    </tr>\n",
       "  </thead>\n",
       "  <tbody>\n",
       "    <tr>\n",
       "      <th>0</th>\n",
       "      <td>-0.697747</td>\n",
       "      <td>1.482053</td>\n",
       "      <td>0.730909</td>\n",
       "      <td>0.619748</td>\n",
       "      <td>-1.283618</td>\n",
       "      <td>-1.623241</td>\n",
       "      <td>1.834954</td>\n",
       "    </tr>\n",
       "    <tr>\n",
       "      <th>1</th>\n",
       "      <td>-1.082115</td>\n",
       "      <td>1.482053</td>\n",
       "      <td>1.572221</td>\n",
       "      <td>0.842258</td>\n",
       "      <td>-1.464852</td>\n",
       "      <td>-1.623241</td>\n",
       "      <td>0.741568</td>\n",
       "    </tr>\n",
       "    <tr>\n",
       "      <th>2</th>\n",
       "      <td>-0.697747</td>\n",
       "      <td>1.482053</td>\n",
       "      <td>1.182569</td>\n",
       "      <td>0.539692</td>\n",
       "      <td>-1.646086</td>\n",
       "      <td>-1.623241</td>\n",
       "      <td>1.210162</td>\n",
       "    </tr>\n",
       "    <tr>\n",
       "      <th>3</th>\n",
       "      <td>-0.953992</td>\n",
       "      <td>1.482053</td>\n",
       "      <td>1.182569</td>\n",
       "      <td>0.536160</td>\n",
       "      <td>-1.283618</td>\n",
       "      <td>-1.623241</td>\n",
       "      <td>1.210162</td>\n",
       "    </tr>\n",
       "    <tr>\n",
       "      <th>4</th>\n",
       "      <td>-0.825870</td>\n",
       "      <td>1.482053</td>\n",
       "      <td>0.922800</td>\n",
       "      <td>0.554997</td>\n",
       "      <td>-1.827320</td>\n",
       "      <td>-1.623241</td>\n",
       "      <td>1.522558</td>\n",
       "    </tr>\n",
       "    <tr>\n",
       "      <th>...</th>\n",
       "      <td>...</td>\n",
       "      <td>...</td>\n",
       "      <td>...</td>\n",
       "      <td>...</td>\n",
       "      <td>...</td>\n",
       "      <td>...</td>\n",
       "      <td>...</td>\n",
       "    </tr>\n",
       "    <tr>\n",
       "      <th>393</th>\n",
       "      <td>0.455359</td>\n",
       "      <td>-0.862911</td>\n",
       "      <td>-0.479950</td>\n",
       "      <td>-0.220842</td>\n",
       "      <td>0.021267</td>\n",
       "      <td>1.634321</td>\n",
       "      <td>-0.955783</td>\n",
       "    </tr>\n",
       "    <tr>\n",
       "      <th>394</th>\n",
       "      <td>2.633448</td>\n",
       "      <td>-0.862911</td>\n",
       "      <td>-1.363162</td>\n",
       "      <td>-0.997859</td>\n",
       "      <td>3.283479</td>\n",
       "      <td>1.634321</td>\n",
       "      <td>0.106363</td>\n",
       "    </tr>\n",
       "    <tr>\n",
       "      <th>395</th>\n",
       "      <td>1.095974</td>\n",
       "      <td>-0.862911</td>\n",
       "      <td>-0.531903</td>\n",
       "      <td>-0.803605</td>\n",
       "      <td>-1.428605</td>\n",
       "      <td>1.634321</td>\n",
       "      <td>-0.893304</td>\n",
       "    </tr>\n",
       "    <tr>\n",
       "      <th>396</th>\n",
       "      <td>0.583482</td>\n",
       "      <td>-0.862911</td>\n",
       "      <td>-0.661788</td>\n",
       "      <td>-0.415097</td>\n",
       "      <td>1.108671</td>\n",
       "      <td>1.634321</td>\n",
       "      <td>-0.737106</td>\n",
       "    </tr>\n",
       "    <tr>\n",
       "      <th>397</th>\n",
       "      <td>0.967851</td>\n",
       "      <td>-0.862911</td>\n",
       "      <td>-0.583857</td>\n",
       "      <td>-0.303253</td>\n",
       "      <td>1.398646</td>\n",
       "      <td>1.634321</td>\n",
       "      <td>-0.830824</td>\n",
       "    </tr>\n",
       "  </tbody>\n",
       "</table>\n",
       "<p>392 rows × 7 columns</p>\n",
       "</div>"
      ],
      "text/plain": [
       "          mpg  cylinders  horsepower    weight  acceleration  model_year  \\\n",
       "0   -0.697747   1.482053    0.730909  0.619748     -1.283618   -1.623241   \n",
       "1   -1.082115   1.482053    1.572221  0.842258     -1.464852   -1.623241   \n",
       "2   -0.697747   1.482053    1.182569  0.539692     -1.646086   -1.623241   \n",
       "3   -0.953992   1.482053    1.182569  0.536160     -1.283618   -1.623241   \n",
       "4   -0.825870   1.482053    0.922800  0.554997     -1.827320   -1.623241   \n",
       "..        ...        ...         ...       ...           ...         ...   \n",
       "393  0.455359  -0.862911   -0.479950 -0.220842      0.021267    1.634321   \n",
       "394  2.633448  -0.862911   -1.363162 -0.997859      3.283479    1.634321   \n",
       "395  1.095974  -0.862911   -0.531903 -0.803605     -1.428605    1.634321   \n",
       "396  0.583482  -0.862911   -0.661788 -0.415097      1.108671    1.634321   \n",
       "397  0.967851  -0.862911   -0.583857 -0.303253      1.398646    1.634321   \n",
       "\n",
       "     lin_comb  \n",
       "0    1.834954  \n",
       "1    0.741568  \n",
       "2    1.210162  \n",
       "3    1.210162  \n",
       "4    1.522558  \n",
       "..        ...  \n",
       "393 -0.955783  \n",
       "394  0.106363  \n",
       "395 -0.893304  \n",
       "396 -0.737106  \n",
       "397 -0.830824  \n",
       "\n",
       "[392 rows x 7 columns]"
      ]
     },
     "execution_count": 29,
     "metadata": {},
     "output_type": "execute_result"
    }
   ],
   "source": [
    "mpg_scaled = mpg.copy()\n",
    "\n",
    "for feature in mpg_scaled.columns:\n",
    "    mu = mpg[feature].mean()\n",
    "    sigma = mpg[feature].std()\n",
    "    mpg_scaled[feature] = mpg_scaled[feature].apply(lambda x: (x-mu)/sigma)\n",
    "    \n",
    "mpg_scaled"
   ]
  },
  {
   "cell_type": "code",
   "execution_count": 31,
   "id": "74abcf51",
   "metadata": {},
   "outputs": [
    {
     "data": {
      "text/plain": [
       "5.23757224818339"
      ]
     },
     "execution_count": 31,
     "metadata": {},
     "output_type": "execute_result"
    }
   ],
   "source": [
    "from statsmodels.stats.outliers_influence import variance_inflation_factor as vif\n",
    "# compute VIF factor for feature index 0\n",
    "vif(mpg_scaled.values, 0)"
   ]
  },
  {
   "cell_type": "code",
   "execution_count": 32,
   "id": "5f49c2db",
   "metadata": {},
   "outputs": [
    {
     "data": {
      "text/html": [
       "<div>\n",
       "<style scoped>\n",
       "    .dataframe tbody tr th:only-of-type {\n",
       "        vertical-align: middle;\n",
       "    }\n",
       "\n",
       "    .dataframe tbody tr th {\n",
       "        vertical-align: top;\n",
       "    }\n",
       "\n",
       "    .dataframe thead th {\n",
       "        text-align: right;\n",
       "    }\n",
       "</style>\n",
       "<table border=\"1\" class=\"dataframe\">\n",
       "  <thead>\n",
       "    <tr style=\"text-align: right;\">\n",
       "      <th></th>\n",
       "      <th>features</th>\n",
       "      <th>vif_index</th>\n",
       "    </tr>\n",
       "  </thead>\n",
       "  <tbody>\n",
       "    <tr>\n",
       "      <th>1</th>\n",
       "      <td>cylinders</td>\n",
       "      <td>189828.71</td>\n",
       "    </tr>\n",
       "    <tr>\n",
       "      <th>2</th>\n",
       "      <td>horsepower</td>\n",
       "      <td>87032.48</td>\n",
       "    </tr>\n",
       "    <tr>\n",
       "      <th>6</th>\n",
       "      <td>lin_comb</td>\n",
       "      <td>60101.90</td>\n",
       "    </tr>\n",
       "    <tr>\n",
       "      <th>3</th>\n",
       "      <td>weight</td>\n",
       "      <td>11.25</td>\n",
       "    </tr>\n",
       "    <tr>\n",
       "      <th>0</th>\n",
       "      <td>mpg</td>\n",
       "      <td>5.24</td>\n",
       "    </tr>\n",
       "    <tr>\n",
       "      <th>4</th>\n",
       "      <td>acceleration</td>\n",
       "      <td>2.61</td>\n",
       "    </tr>\n",
       "    <tr>\n",
       "      <th>5</th>\n",
       "      <td>model_year</td>\n",
       "      <td>1.91</td>\n",
       "    </tr>\n",
       "  </tbody>\n",
       "</table>\n",
       "</div>"
      ],
      "text/plain": [
       "       features  vif_index\n",
       "1     cylinders  189828.71\n",
       "2    horsepower   87032.48\n",
       "6      lin_comb   60101.90\n",
       "3        weight      11.25\n",
       "0           mpg       5.24\n",
       "4  acceleration       2.61\n",
       "5    model_year       1.91"
      ]
     },
     "execution_count": 32,
     "metadata": {},
     "output_type": "execute_result"
    }
   ],
   "source": [
    "df = pd.DataFrame()\n",
    "\n",
    "df[\"features\"] = mpg_scaled.columns\n",
    "\n",
    "df[\"vif_index\"] = [vif(mpg_scaled.values, i) for i in range(mpg_scaled.shape[1])]\n",
    "\n",
    "round(df.sort_values(by=\"vif_index\", ascending = False),2)"
   ]
  },
  {
   "cell_type": "code",
   "execution_count": null,
   "id": "03c8dce7",
   "metadata": {},
   "outputs": [],
   "source": []
  }
 ],
 "metadata": {
  "kernelspec": {
   "display_name": "Python 3 (ipykernel)",
   "language": "python",
   "name": "python3"
  },
  "language_info": {
   "codemirror_mode": {
    "name": "ipython",
    "version": 3
   },
   "file_extension": ".py",
   "mimetype": "text/x-python",
   "name": "python",
   "nbconvert_exporter": "python",
   "pygments_lexer": "ipython3",
   "version": "3.9.8"
  },
  "toc": {
   "base_numbering": 1,
   "nav_menu": {},
   "number_sections": true,
   "sideBar": true,
   "skip_h1_title": false,
   "title_cell": "Table of Contents",
   "title_sidebar": "Contents",
   "toc_cell": false,
   "toc_position": {},
   "toc_section_display": true,
   "toc_window_display": false
  }
 },
 "nbformat": 4,
 "nbformat_minor": 5
}
