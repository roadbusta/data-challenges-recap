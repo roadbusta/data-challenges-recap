{
 "cells": [
  {
   "cell_type": "markdown",
   "id": "fd02cd49",
   "metadata": {},
   "source": [
    "# Import relevant libraries"
   ]
  },
  {
   "cell_type": "code",
   "execution_count": 1,
   "id": "44037832",
   "metadata": {},
   "outputs": [],
   "source": [
    "import seaborn as sns\n",
    "import statsmodels.formula.api as smf\n",
    "import pandas as pd\n",
    "import numpy as np\n",
    "import math"
   ]
  },
  {
   "cell_type": "markdown",
   "id": "88e3ea3c",
   "metadata": {
    "heading_collapsed": true
   },
   "source": [
    "# Interpreting Logicstic Regression"
   ]
  },
  {
   "cell_type": "markdown",
   "id": "1dfdd8db",
   "metadata": {
    "hidden": true
   },
   "source": [
    "**Lets use the Titanic dataset**"
   ]
  },
  {
   "cell_type": "code",
   "execution_count": 2,
   "id": "a7db5755",
   "metadata": {
    "hidden": true
   },
   "outputs": [],
   "source": [
    "# titanic = sns.load_dataset(\"titanic\")\n",
    "# titanic.head(3)"
   ]
  },
  {
   "cell_type": "code",
   "execution_count": null,
   "id": "1fee78c9",
   "metadata": {
    "hidden": true
   },
   "outputs": [],
   "source": []
  },
  {
   "cell_type": "markdown",
   "id": "f3dcbf8a",
   "metadata": {
    "hidden": true
   },
   "source": [
    "**How does this translate into probability?**"
   ]
  },
  {
   "cell_type": "code",
   "execution_count": null,
   "id": "38fdb978",
   "metadata": {
    "hidden": true
   },
   "outputs": [],
   "source": []
  },
  {
   "cell_type": "markdown",
   "id": "2085725b",
   "metadata": {
    "hidden": true
   },
   "source": [
    "**Let's double check this**"
   ]
  },
  {
   "cell_type": "code",
   "execution_count": 3,
   "id": "cd1bac79",
   "metadata": {
    "hidden": true
   },
   "outputs": [],
   "source": [
    "# cross_tab = pd.DataFrame({\n",
    "#     'count': titanic['survived'].value_counts(), \n",
    "#     'percentage': titanic['survived'].value_counts(normalize=True)\n",
    "#     })\n",
    "\n",
    "# round(cross_tab,2)"
   ]
  },
  {
   "cell_type": "markdown",
   "id": "2168d333",
   "metadata": {
    "hidden": true
   },
   "source": [
    "**Let's add a feature continuous feature**"
   ]
  },
  {
   "cell_type": "code",
   "execution_count": null,
   "id": "fa988b7b",
   "metadata": {
    "hidden": true
   },
   "outputs": [],
   "source": []
  },
  {
   "cell_type": "markdown",
   "id": "f0713964",
   "metadata": {
    "hidden": true
   },
   "source": [
    "**Let's add a catagorical feature**"
   ]
  },
  {
   "cell_type": "code",
   "execution_count": null,
   "id": "7096963c",
   "metadata": {
    "hidden": true
   },
   "outputs": [],
   "source": []
  },
  {
   "cell_type": "code",
   "execution_count": 4,
   "id": "81a6151b",
   "metadata": {
    "hidden": true
   },
   "outputs": [],
   "source": [
    "# log_odd = -0.63\n",
    "# odds = math.exp(log_odd)\n",
    "\n",
    "# probability = odds/(1+odds)\n",
    "\n",
    "# print(odds)\n",
    "# print(1/1.87)"
   ]
  },
  {
   "cell_type": "markdown",
   "id": "d5c738cc",
   "metadata": {
    "hidden": true
   },
   "source": [
    "**Let's now combine features**"
   ]
  },
  {
   "cell_type": "code",
   "execution_count": null,
   "id": "7b34d71f",
   "metadata": {
    "hidden": true
   },
   "outputs": [],
   "source": []
  },
  {
   "cell_type": "markdown",
   "id": "7599c7d2",
   "metadata": {
    "heading_collapsed": true
   },
   "source": [
    "# Evaluate performance"
   ]
  },
  {
   "cell_type": "code",
   "execution_count": 5,
   "id": "b6f9707f",
   "metadata": {
    "hidden": true
   },
   "outputs": [],
   "source": [
    "# model4 = smf.logit(formula='survived ~ fare + C(sex) + age', data=titanic).fit()\n"
   ]
  },
  {
   "cell_type": "markdown",
   "id": "91d60b8c",
   "metadata": {
    "hidden": true
   },
   "source": [
    "Key things to note: \n",
    "- Model\n",
    "- P Value, Z score, 95% cofidence interval\n",
    "- Pseudo R-squ\n",
    "- Log likelihood"
   ]
  },
  {
   "cell_type": "code",
   "execution_count": 6,
   "id": "01332db7",
   "metadata": {
    "hidden": true
   },
   "outputs": [],
   "source": [
    "# model4.summary()"
   ]
  },
  {
   "cell_type": "markdown",
   "id": "94cb0953",
   "metadata": {
    "heading_collapsed": true
   },
   "source": [
    "# Multicolinearity issues in Linear/Logistic Regression"
   ]
  },
  {
   "cell_type": "code",
   "execution_count": 7,
   "id": "879d69d4",
   "metadata": {
    "hidden": true
   },
   "outputs": [],
   "source": [
    "# mpg = sns.load_dataset('mpg').dropna().drop(columns=['origin', 'name', 'displacement'])\n",
    "# mpg.corr().style.background_gradient(cmap='coolwarm')"
   ]
  },
  {
   "cell_type": "code",
   "execution_count": 8,
   "id": "64d9f9fd",
   "metadata": {
    "hidden": true
   },
   "outputs": [],
   "source": [
    "# smf.ols(formula='weight ~ cylinders + horsepower', data=mpg).fit().params"
   ]
  },
  {
   "cell_type": "code",
   "execution_count": 9,
   "id": "127a9718",
   "metadata": {
    "hidden": true
   },
   "outputs": [],
   "source": [
    "# mpg['lin_comb'] = 10 * mpg['cylinders'] - 0.3 * mpg['horsepower']\n",
    "# mpg.head(3)"
   ]
  },
  {
   "cell_type": "code",
   "execution_count": 10,
   "id": "d0ed4d84",
   "metadata": {
    "hidden": true
   },
   "outputs": [],
   "source": [
    "# smf.ols(formula='weight ~ cylinders + horsepower + lin_comb', data=mpg).fit().params"
   ]
  },
  {
   "cell_type": "code",
   "execution_count": 11,
   "id": "f164aa45",
   "metadata": {
    "hidden": true
   },
   "outputs": [],
   "source": [
    "# # Now, change just a bit one single observation by 1% just on one feature\n",
    "# mpg.loc[0,'horsepower'] = mpg.loc[0,'horsepower']*1.01\n",
    "# smf.ols(formula='weight ~ cylinders + horsepower + lin_comb', data=mpg).fit().params"
   ]
  },
  {
   "cell_type": "code",
   "execution_count": 12,
   "id": "988d09af",
   "metadata": {
    "hidden": true
   },
   "outputs": [],
   "source": [
    "# # Statsmodels gives us a clear WARNING [2]\n",
    "# # Summary table also reads 'Covariance Type: nonrobust'\n",
    "# smf.ols(formula='weight ~ cylinders + horsepower + lin_comb', data=mpg).fit().summary()"
   ]
  },
  {
   "cell_type": "code",
   "execution_count": 13,
   "id": "de2963ac",
   "metadata": {
    "hidden": true
   },
   "outputs": [],
   "source": [
    "# mpg['lin_comb'] = mpg['lin_comb'] +  0.05 * np.random.rand(mpg.shape[0])\n",
    "# np.linalg.matrix_rank(mpg)"
   ]
  },
  {
   "cell_type": "code",
   "execution_count": 14,
   "id": "cf3e2ba1",
   "metadata": {
    "hidden": true
   },
   "outputs": [],
   "source": [
    "# smf.ols(formula='weight ~ cylinders + horsepower + lin_comb', data=mpg).fit().params"
   ]
  },
  {
   "cell_type": "code",
   "execution_count": 15,
   "id": "40360b9e",
   "metadata": {
    "hidden": true
   },
   "outputs": [],
   "source": [
    "# # Again, change just a bit one single observation in the dataset and check the OLS results\n",
    "# mpg.loc[0,'horsepower'] = mpg.loc[0,'horsepower']*0.8\n",
    "# smf.ols(formula='weight ~ cylinders + horsepower + lin_comb', data=mpg).fit().params"
   ]
  },
  {
   "cell_type": "markdown",
   "id": "0f94a4c1",
   "metadata": {
    "hidden": true
   },
   "source": [
    "## How to detect multicolinearity"
   ]
  },
  {
   "cell_type": "code",
   "execution_count": 16,
   "id": "1c5e27b4",
   "metadata": {
    "hidden": true
   },
   "outputs": [],
   "source": [
    "# Correlation matix is not sufficient to detect soft or event strict multicolinearity\n",
    "# mpg.corr().style.background_gradient(cmap='coolwarm')"
   ]
  },
  {
   "cell_type": "code",
   "execution_count": 17,
   "id": "b95ee505",
   "metadata": {
    "hidden": true
   },
   "outputs": [],
   "source": [
    "# mpg_scaled = mpg.copy()\n",
    "\n",
    "# for feature in mpg_scaled.columns:\n",
    "#     mu = mpg[feature].mean()\n",
    "#     sigma = mpg[feature].std()\n",
    "#     mpg_scaled[feature] = mpg_scaled[feature].apply(lambda x: (x-mu)/sigma)\n",
    "    \n",
    "# mpg_scaled"
   ]
  },
  {
   "cell_type": "code",
   "execution_count": 18,
   "id": "74abcf51",
   "metadata": {
    "hidden": true
   },
   "outputs": [],
   "source": [
    "# from statsmodels.stats.outliers_influence import variance_inflation_factor as vif\n",
    "# # compute VIF factor for feature index 0\n",
    "# vif(mpg_scaled.values, 0)"
   ]
  },
  {
   "cell_type": "code",
   "execution_count": 19,
   "id": "5f49c2db",
   "metadata": {
    "hidden": true
   },
   "outputs": [],
   "source": [
    "# df = pd.DataFrame()\n",
    "\n",
    "# df[\"features\"] = mpg_scaled.columns\n",
    "\n",
    "# df[\"vif_index\"] = [vif(mpg_scaled.values, i) for i in range(mpg_scaled.shape[1])]\n",
    "\n",
    "# round(df.sort_values(by=\"vif_index\", ascending = False),2)"
   ]
  },
  {
   "cell_type": "code",
   "execution_count": null,
   "id": "03c8dce7",
   "metadata": {
    "hidden": true
   },
   "outputs": [],
   "source": []
  }
 ],
 "metadata": {
  "kernelspec": {
   "display_name": "Python 3 (ipykernel)",
   "language": "python",
   "name": "python3"
  },
  "language_info": {
   "codemirror_mode": {
    "name": "ipython",
    "version": 3
   },
   "file_extension": ".py",
   "mimetype": "text/x-python",
   "name": "python",
   "nbconvert_exporter": "python",
   "pygments_lexer": "ipython3",
   "version": "3.9.8"
  },
  "toc": {
   "base_numbering": 1,
   "nav_menu": {},
   "number_sections": true,
   "sideBar": true,
   "skip_h1_title": false,
   "title_cell": "Table of Contents",
   "title_sidebar": "Contents",
   "toc_cell": false,
   "toc_position": {},
   "toc_section_display": true,
   "toc_window_display": false
  }
 },
 "nbformat": 4,
 "nbformat_minor": 5
}
