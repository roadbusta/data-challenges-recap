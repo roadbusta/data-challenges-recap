{
 "cells": [
  {
   "cell_type": "markdown",
   "id": "60984212",
   "metadata": {},
   "source": [
    "# Autoreload\n"
   ]
  },
  {
   "cell_type": "code",
   "execution_count": 34,
   "id": "78c76a32",
   "metadata": {},
   "outputs": [
    {
     "name": "stdout",
     "output_type": "stream",
     "text": [
      "The autoreload extension is already loaded. To reload it, use:\n",
      "  %reload_ext autoreload\n"
     ]
    }
   ],
   "source": [
    "%load_ext autoreload\n",
    "%autoreload 2"
   ]
  },
  {
   "cell_type": "code",
   "execution_count": null,
   "id": "191ca104",
   "metadata": {},
   "outputs": [],
   "source": []
  },
  {
   "cell_type": "markdown",
   "id": "727d3903",
   "metadata": {
    "heading_collapsed": true
   },
   "source": [
    "# Load from CSV"
   ]
  },
  {
   "cell_type": "code",
   "execution_count": 7,
   "id": "cad8a47b",
   "metadata": {
    "hidden": true
   },
   "outputs": [],
   "source": [
    "#Import libraries\n",
    "import pandas as pd"
   ]
  },
  {
   "cell_type": "code",
   "execution_count": 8,
   "id": "e13442c3",
   "metadata": {
    "hidden": true
   },
   "outputs": [
    {
     "data": {
      "text/html": [
       "<div>\n",
       "<style scoped>\n",
       "    .dataframe tbody tr th:only-of-type {\n",
       "        vertical-align: middle;\n",
       "    }\n",
       "\n",
       "    .dataframe tbody tr th {\n",
       "        vertical-align: top;\n",
       "    }\n",
       "\n",
       "    .dataframe thead th {\n",
       "        text-align: right;\n",
       "    }\n",
       "</style>\n",
       "<table border=\"1\" class=\"dataframe\">\n",
       "  <thead>\n",
       "    <tr style=\"text-align: right;\">\n",
       "      <th></th>\n",
       "      <th>id</th>\n",
       "      <th>name</th>\n",
       "      <th>artists</th>\n",
       "      <th>danceability</th>\n",
       "      <th>energy</th>\n",
       "      <th>key</th>\n",
       "      <th>loudness</th>\n",
       "      <th>mode</th>\n",
       "      <th>speechiness</th>\n",
       "      <th>acousticness</th>\n",
       "      <th>instrumentalness</th>\n",
       "      <th>liveness</th>\n",
       "      <th>valence</th>\n",
       "      <th>tempo</th>\n",
       "      <th>duration_ms</th>\n",
       "      <th>time_signature</th>\n",
       "    </tr>\n",
       "  </thead>\n",
       "  <tbody>\n",
       "    <tr>\n",
       "      <th>0</th>\n",
       "      <td>7qiZfU4dY1lWllzX7mPBI</td>\n",
       "      <td>Shape of You</td>\n",
       "      <td>Ed Sheeran</td>\n",
       "      <td>0.825</td>\n",
       "      <td>0.652</td>\n",
       "      <td>1.0</td>\n",
       "      <td>-3.183</td>\n",
       "      <td>0.0</td>\n",
       "      <td>0.0802</td>\n",
       "      <td>0.5810</td>\n",
       "      <td>0.000000</td>\n",
       "      <td>0.0931</td>\n",
       "      <td>0.9310</td>\n",
       "      <td>95.977</td>\n",
       "      <td>233713.0</td>\n",
       "      <td>4.0</td>\n",
       "    </tr>\n",
       "    <tr>\n",
       "      <th>1</th>\n",
       "      <td>5CtI0qwDJkDQGwXD1H1cL</td>\n",
       "      <td>Despacito - Remix</td>\n",
       "      <td>Luis Fonsi</td>\n",
       "      <td>0.694</td>\n",
       "      <td>0.815</td>\n",
       "      <td>2.0</td>\n",
       "      <td>-4.328</td>\n",
       "      <td>1.0</td>\n",
       "      <td>0.1200</td>\n",
       "      <td>0.2290</td>\n",
       "      <td>0.000000</td>\n",
       "      <td>0.0924</td>\n",
       "      <td>0.8130</td>\n",
       "      <td>88.931</td>\n",
       "      <td>228827.0</td>\n",
       "      <td>4.0</td>\n",
       "    </tr>\n",
       "    <tr>\n",
       "      <th>2</th>\n",
       "      <td>4aWmUDTfIPGksMNLV2rQP</td>\n",
       "      <td>Despacito (Featuring Daddy Yankee)</td>\n",
       "      <td>Luis Fonsi</td>\n",
       "      <td>0.660</td>\n",
       "      <td>0.786</td>\n",
       "      <td>2.0</td>\n",
       "      <td>-4.757</td>\n",
       "      <td>1.0</td>\n",
       "      <td>0.1700</td>\n",
       "      <td>0.2090</td>\n",
       "      <td>0.000000</td>\n",
       "      <td>0.1120</td>\n",
       "      <td>0.8460</td>\n",
       "      <td>177.833</td>\n",
       "      <td>228200.0</td>\n",
       "      <td>4.0</td>\n",
       "    </tr>\n",
       "    <tr>\n",
       "      <th>3</th>\n",
       "      <td>6RUKPb4LETWmmr3iAEQkt</td>\n",
       "      <td>Something Just Like This</td>\n",
       "      <td>The Chainsmokers</td>\n",
       "      <td>0.617</td>\n",
       "      <td>0.635</td>\n",
       "      <td>11.0</td>\n",
       "      <td>-6.769</td>\n",
       "      <td>0.0</td>\n",
       "      <td>0.0317</td>\n",
       "      <td>0.0498</td>\n",
       "      <td>0.000014</td>\n",
       "      <td>0.1640</td>\n",
       "      <td>0.4460</td>\n",
       "      <td>103.019</td>\n",
       "      <td>247160.0</td>\n",
       "      <td>4.0</td>\n",
       "    </tr>\n",
       "    <tr>\n",
       "      <th>4</th>\n",
       "      <td>3DXncPQOG4VBw3QHh3S81</td>\n",
       "      <td>I'm the One</td>\n",
       "      <td>DJ Khaled</td>\n",
       "      <td>0.609</td>\n",
       "      <td>0.668</td>\n",
       "      <td>7.0</td>\n",
       "      <td>-4.284</td>\n",
       "      <td>1.0</td>\n",
       "      <td>0.0367</td>\n",
       "      <td>0.0552</td>\n",
       "      <td>0.000000</td>\n",
       "      <td>0.1670</td>\n",
       "      <td>0.8110</td>\n",
       "      <td>80.924</td>\n",
       "      <td>288600.0</td>\n",
       "      <td>4.0</td>\n",
       "    </tr>\n",
       "    <tr>\n",
       "      <th>...</th>\n",
       "      <td>...</td>\n",
       "      <td>...</td>\n",
       "      <td>...</td>\n",
       "      <td>...</td>\n",
       "      <td>...</td>\n",
       "      <td>...</td>\n",
       "      <td>...</td>\n",
       "      <td>...</td>\n",
       "      <td>...</td>\n",
       "      <td>...</td>\n",
       "      <td>...</td>\n",
       "      <td>...</td>\n",
       "      <td>...</td>\n",
       "      <td>...</td>\n",
       "      <td>...</td>\n",
       "      <td>...</td>\n",
       "    </tr>\n",
       "    <tr>\n",
       "      <th>95</th>\n",
       "      <td>1PSBzsahR2AKwLJgx8ehB</td>\n",
       "      <td>Bad Things (with Camila Cabello)</td>\n",
       "      <td>Machine Gun Kelly</td>\n",
       "      <td>0.675</td>\n",
       "      <td>0.690</td>\n",
       "      <td>2.0</td>\n",
       "      <td>-4.761</td>\n",
       "      <td>1.0</td>\n",
       "      <td>0.1320</td>\n",
       "      <td>0.2100</td>\n",
       "      <td>0.000000</td>\n",
       "      <td>0.2870</td>\n",
       "      <td>0.2720</td>\n",
       "      <td>137.817</td>\n",
       "      <td>239293.0</td>\n",
       "      <td>4.0</td>\n",
       "    </tr>\n",
       "    <tr>\n",
       "      <th>96</th>\n",
       "      <td>0QsvXIfqM0zZoerQfsI9l</td>\n",
       "      <td>Don't Let Me Down</td>\n",
       "      <td>The Chainsmokers</td>\n",
       "      <td>0.542</td>\n",
       "      <td>0.859</td>\n",
       "      <td>11.0</td>\n",
       "      <td>-5.651</td>\n",
       "      <td>1.0</td>\n",
       "      <td>0.1970</td>\n",
       "      <td>0.1600</td>\n",
       "      <td>0.004660</td>\n",
       "      <td>0.1370</td>\n",
       "      <td>0.4030</td>\n",
       "      <td>159.797</td>\n",
       "      <td>208053.0</td>\n",
       "      <td>4.0</td>\n",
       "    </tr>\n",
       "    <tr>\n",
       "      <th>97</th>\n",
       "      <td>7mldq42yDuxiUNn08nvzH</td>\n",
       "      <td>Body Like A Back Road</td>\n",
       "      <td>Sam Hunt</td>\n",
       "      <td>0.731</td>\n",
       "      <td>0.469</td>\n",
       "      <td>5.0</td>\n",
       "      <td>-7.226</td>\n",
       "      <td>1.0</td>\n",
       "      <td>0.0326</td>\n",
       "      <td>0.4630</td>\n",
       "      <td>0.000001</td>\n",
       "      <td>0.1030</td>\n",
       "      <td>0.6310</td>\n",
       "      <td>98.963</td>\n",
       "      <td>165387.0</td>\n",
       "      <td>4.0</td>\n",
       "    </tr>\n",
       "    <tr>\n",
       "      <th>98</th>\n",
       "      <td>7i2DJ88J7jQ8K7zqFX2fW</td>\n",
       "      <td>Now Or Never</td>\n",
       "      <td>Halsey</td>\n",
       "      <td>0.658</td>\n",
       "      <td>0.588</td>\n",
       "      <td>6.0</td>\n",
       "      <td>-4.902</td>\n",
       "      <td>0.0</td>\n",
       "      <td>0.0367</td>\n",
       "      <td>0.1050</td>\n",
       "      <td>0.000001</td>\n",
       "      <td>0.1250</td>\n",
       "      <td>0.4340</td>\n",
       "      <td>110.075</td>\n",
       "      <td>214802.0</td>\n",
       "      <td>4.0</td>\n",
       "    </tr>\n",
       "    <tr>\n",
       "      <th>99</th>\n",
       "      <td>1j4kHkkpqZRBwE0A4CN4Y</td>\n",
       "      <td>Dusk Till Dawn - Radio Edit</td>\n",
       "      <td>ZAYN</td>\n",
       "      <td>0.258</td>\n",
       "      <td>0.437</td>\n",
       "      <td>11.0</td>\n",
       "      <td>-6.593</td>\n",
       "      <td>0.0</td>\n",
       "      <td>0.0390</td>\n",
       "      <td>0.1010</td>\n",
       "      <td>0.000001</td>\n",
       "      <td>0.1060</td>\n",
       "      <td>0.0967</td>\n",
       "      <td>180.043</td>\n",
       "      <td>239000.0</td>\n",
       "      <td>4.0</td>\n",
       "    </tr>\n",
       "  </tbody>\n",
       "</table>\n",
       "<p>100 rows × 16 columns</p>\n",
       "</div>"
      ],
      "text/plain": [
       "                       id                                name  \\\n",
       "0   7qiZfU4dY1lWllzX7mPBI                        Shape of You   \n",
       "1   5CtI0qwDJkDQGwXD1H1cL                   Despacito - Remix   \n",
       "2   4aWmUDTfIPGksMNLV2rQP  Despacito (Featuring Daddy Yankee)   \n",
       "3   6RUKPb4LETWmmr3iAEQkt            Something Just Like This   \n",
       "4   3DXncPQOG4VBw3QHh3S81                         I'm the One   \n",
       "..                    ...                                 ...   \n",
       "95  1PSBzsahR2AKwLJgx8ehB    Bad Things (with Camila Cabello)   \n",
       "96  0QsvXIfqM0zZoerQfsI9l                   Don't Let Me Down   \n",
       "97  7mldq42yDuxiUNn08nvzH               Body Like A Back Road   \n",
       "98  7i2DJ88J7jQ8K7zqFX2fW                        Now Or Never   \n",
       "99  1j4kHkkpqZRBwE0A4CN4Y         Dusk Till Dawn - Radio Edit   \n",
       "\n",
       "              artists  danceability  energy   key  loudness  mode  \\\n",
       "0          Ed Sheeran         0.825   0.652   1.0    -3.183   0.0   \n",
       "1          Luis Fonsi         0.694   0.815   2.0    -4.328   1.0   \n",
       "2          Luis Fonsi         0.660   0.786   2.0    -4.757   1.0   \n",
       "3    The Chainsmokers         0.617   0.635  11.0    -6.769   0.0   \n",
       "4           DJ Khaled         0.609   0.668   7.0    -4.284   1.0   \n",
       "..                ...           ...     ...   ...       ...   ...   \n",
       "95  Machine Gun Kelly         0.675   0.690   2.0    -4.761   1.0   \n",
       "96   The Chainsmokers         0.542   0.859  11.0    -5.651   1.0   \n",
       "97           Sam Hunt         0.731   0.469   5.0    -7.226   1.0   \n",
       "98             Halsey         0.658   0.588   6.0    -4.902   0.0   \n",
       "99               ZAYN         0.258   0.437  11.0    -6.593   0.0   \n",
       "\n",
       "    speechiness  acousticness  instrumentalness  liveness  valence    tempo  \\\n",
       "0        0.0802        0.5810          0.000000    0.0931   0.9310   95.977   \n",
       "1        0.1200        0.2290          0.000000    0.0924   0.8130   88.931   \n",
       "2        0.1700        0.2090          0.000000    0.1120   0.8460  177.833   \n",
       "3        0.0317        0.0498          0.000014    0.1640   0.4460  103.019   \n",
       "4        0.0367        0.0552          0.000000    0.1670   0.8110   80.924   \n",
       "..          ...           ...               ...       ...      ...      ...   \n",
       "95       0.1320        0.2100          0.000000    0.2870   0.2720  137.817   \n",
       "96       0.1970        0.1600          0.004660    0.1370   0.4030  159.797   \n",
       "97       0.0326        0.4630          0.000001    0.1030   0.6310   98.963   \n",
       "98       0.0367        0.1050          0.000001    0.1250   0.4340  110.075   \n",
       "99       0.0390        0.1010          0.000001    0.1060   0.0967  180.043   \n",
       "\n",
       "    duration_ms  time_signature  \n",
       "0      233713.0             4.0  \n",
       "1      228827.0             4.0  \n",
       "2      228200.0             4.0  \n",
       "3      247160.0             4.0  \n",
       "4      288600.0             4.0  \n",
       "..          ...             ...  \n",
       "95     239293.0             4.0  \n",
       "96     208053.0             4.0  \n",
       "97     165387.0             4.0  \n",
       "98     214802.0             4.0  \n",
       "99     239000.0             4.0  \n",
       "\n",
       "[100 rows x 16 columns]"
      ]
     },
     "execution_count": 8,
     "metadata": {},
     "output_type": "execute_result"
    }
   ],
   "source": [
    "#Create dataframe with read_csv\n",
    "df = pd.read_csv('data/spotify_2017.csv')\n",
    "df"
   ]
  },
  {
   "cell_type": "markdown",
   "id": "bf0d3393",
   "metadata": {
    "heading_collapsed": true
   },
   "source": [
    "# Load from API"
   ]
  },
  {
   "cell_type": "code",
   "execution_count": null,
   "id": "bfdb97c4",
   "metadata": {
    "hidden": true
   },
   "outputs": [],
   "source": [
    "# Use Lyrics API\n",
    "https://lyrics.lewagon.ai/search?artist=The%20Beatles&title=Come%20together"
   ]
  },
  {
   "cell_type": "code",
   "execution_count": 58,
   "id": "946bc021",
   "metadata": {
    "hidden": true
   },
   "outputs": [],
   "source": [
    "import requests\n",
    "\n",
    "def fetch_lyrics(artists, title):\n",
    "    \"\"\"\n",
    "    Get lyrics from Seeds Lyrics API. Returns empty string if song not found\n",
    "    \"\"\"\n",
    "    url = f'https://lyrics.lewagon.ai/search?artist={artists}&title={title}'\n",
    "    response = requests.get(url)\n",
    "    if response.status_code != 200:\n",
    "        return 'No Lyrics Found'\n",
    "    data = response.json()\n",
    "    return data['lyrics']\n",
    "\n"
   ]
  },
  {
   "cell_type": "code",
   "execution_count": 16,
   "id": "b9f98e7a",
   "metadata": {
    "hidden": true
   },
   "outputs": [],
   "source": [
    "artists = 'The Beatles'\n",
    "title = 'Yesterday'\n",
    "url = f'https://lyrics.lewagon.ai/search?artist={artists}&title={title}'\n",
    "response = requests.get(url)\n"
   ]
  },
  {
   "cell_type": "code",
   "execution_count": 17,
   "id": "09c4b2d2",
   "metadata": {
    "hidden": true
   },
   "outputs": [
    {
     "data": {
      "text/plain": [
       "200"
      ]
     },
     "execution_count": 17,
     "metadata": {},
     "output_type": "execute_result"
    }
   ],
   "source": [
    "response.status_code"
   ]
  },
  {
   "cell_type": "code",
   "execution_count": 20,
   "id": "80e3b878",
   "metadata": {
    "hidden": true
   },
   "outputs": [
    {
     "data": {
      "text/plain": [
       "\"Yesterday all my troubles seemed so far away.\\nNow it looks as though they're here to stay.\\nOh, I believe in yesterday.\\n\\nSuddenly, I'm not half the man I used to be.\\nThere's a shadow hanging over me.\\nOh, yesterday came suddenly.\\n\\nWhy she had to go?\\nI don't know, she wouldn't say.\\nI said something wrong.\\nNow I long for yesterday.\\n\\nYesterday love was such an easy game to play.\\nNow I need a place to hide away.\\nOh, I believe in yesterday.\\n\\nWhy she had to go?\\nI don't know, she wouldn't say.\\nI said something wrong.\\nNow I long for yesterday.\\n\\nYesterday love was such an easy game to play.\\nNow I need a place to hide away.\\nOh, I believe in yesterday.\\n\\nMm mm mm mm mm mm mm.\""
      ]
     },
     "execution_count": 20,
     "metadata": {},
     "output_type": "execute_result"
    }
   ],
   "source": [
    "response.json()['lyrics']"
   ]
  },
  {
   "cell_type": "code",
   "execution_count": 21,
   "id": "986df6f3",
   "metadata": {
    "hidden": true
   },
   "outputs": [
    {
     "data": {
      "text/plain": [
       "'Here come old flat top\\nHe come grooving up slowly\\nHe got joo joo eyeball\\nHe one holy roller\\nHe got h'"
      ]
     },
     "execution_count": 21,
     "metadata": {},
     "output_type": "execute_result"
    }
   ],
   "source": [
    "#Check if it works with a known song\n",
    "fetch_lyrics('The Beatles', 'Come Together')[0:100]"
   ]
  },
  {
   "cell_type": "code",
   "execution_count": 22,
   "id": "042c5df0",
   "metadata": {
    "hidden": true
   },
   "outputs": [
    {
     "data": {
      "text/plain": [
       "''"
      ]
     },
     "execution_count": 22,
     "metadata": {},
     "output_type": "execute_result"
    }
   ],
   "source": [
    "# Check if it works with an unknown song\n",
    "fetch_lyrics('The Beatles', 'Come Together zdxfzdxc')[0:100]"
   ]
  },
  {
   "cell_type": "markdown",
   "id": "33c2cdb8",
   "metadata": {
    "hidden": true
   },
   "source": [
    "## Autoreload "
   ]
  },
  {
   "cell_type": "code",
   "execution_count": 35,
   "id": "f2959557",
   "metadata": {
    "hidden": true
   },
   "outputs": [],
   "source": [
    "from lyrics import fetch_lyrics as fl"
   ]
  },
  {
   "cell_type": "code",
   "execution_count": 39,
   "id": "bc2c297c",
   "metadata": {
    "hidden": true
   },
   "outputs": [],
   "source": [
    "# fl('The Beatles', 'Come Together')"
   ]
  },
  {
   "cell_type": "markdown",
   "id": "5012e503",
   "metadata": {
    "hidden": true
   },
   "source": [
    "## Use iterrows and loc to build dataframe"
   ]
  },
  {
   "cell_type": "code",
   "execution_count": 59,
   "id": "d2362043",
   "metadata": {
    "hidden": true
   },
   "outputs": [
    {
     "data": {
      "text/html": [
       "<div>\n",
       "<style scoped>\n",
       "    .dataframe tbody tr th:only-of-type {\n",
       "        vertical-align: middle;\n",
       "    }\n",
       "\n",
       "    .dataframe tbody tr th {\n",
       "        vertical-align: top;\n",
       "    }\n",
       "\n",
       "    .dataframe thead th {\n",
       "        text-align: right;\n",
       "    }\n",
       "</style>\n",
       "<table border=\"1\" class=\"dataframe\">\n",
       "  <thead>\n",
       "    <tr style=\"text-align: right;\">\n",
       "      <th></th>\n",
       "      <th>artists</th>\n",
       "      <th>name</th>\n",
       "      <th>lyrics</th>\n",
       "    </tr>\n",
       "  </thead>\n",
       "  <tbody>\n",
       "    <tr>\n",
       "      <th>0</th>\n",
       "      <td>Ed Sheeran</td>\n",
       "      <td>Shape of You</td>\n",
       "      <td>None</td>\n",
       "    </tr>\n",
       "    <tr>\n",
       "      <th>1</th>\n",
       "      <td>Luis Fonsi</td>\n",
       "      <td>Despacito - Remix</td>\n",
       "      <td>None</td>\n",
       "    </tr>\n",
       "    <tr>\n",
       "      <th>2</th>\n",
       "      <td>Luis Fonsi</td>\n",
       "      <td>Despacito (Featuring Daddy Yankee)</td>\n",
       "      <td>None</td>\n",
       "    </tr>\n",
       "  </tbody>\n",
       "</table>\n",
       "</div>"
      ],
      "text/plain": [
       "      artists                                name lyrics\n",
       "0  Ed Sheeran                        Shape of You   None\n",
       "1  Luis Fonsi                   Despacito - Remix   None\n",
       "2  Luis Fonsi  Despacito (Featuring Daddy Yankee)   None"
      ]
     },
     "execution_count": 59,
     "metadata": {},
     "output_type": "execute_result"
    }
   ],
   "source": [
    "tracks_df = pd.read_csv('data/spotify_2017.csv')\n",
    "test  = tracks_df[['artists', 'name']].head(3)\n",
    "test['lyrics'] = None\n",
    "test "
   ]
  },
  {
   "cell_type": "code",
   "execution_count": 60,
   "id": "f0bae2e4",
   "metadata": {
    "hidden": true
   },
   "outputs": [],
   "source": [
    "for index, row in  test.iterrows():\n",
    "    row_lyrics = fetch_lyrics(row['artists'], row['name'])[0:100]\n",
    "    test.loc[index, 'lyrics'] = row_lyrics\n",
    "    \n",
    "\n",
    "\n",
    "    \n",
    "        "
   ]
  },
  {
   "cell_type": "code",
   "execution_count": 61,
   "id": "da617a7f",
   "metadata": {
    "hidden": true
   },
   "outputs": [
    {
     "data": {
      "text/html": [
       "<div>\n",
       "<style scoped>\n",
       "    .dataframe tbody tr th:only-of-type {\n",
       "        vertical-align: middle;\n",
       "    }\n",
       "\n",
       "    .dataframe tbody tr th {\n",
       "        vertical-align: top;\n",
       "    }\n",
       "\n",
       "    .dataframe thead th {\n",
       "        text-align: right;\n",
       "    }\n",
       "</style>\n",
       "<table border=\"1\" class=\"dataframe\">\n",
       "  <thead>\n",
       "    <tr style=\"text-align: right;\">\n",
       "      <th></th>\n",
       "      <th>artists</th>\n",
       "      <th>name</th>\n",
       "      <th>lyrics</th>\n",
       "    </tr>\n",
       "  </thead>\n",
       "  <tbody>\n",
       "    <tr>\n",
       "      <th>0</th>\n",
       "      <td>Ed Sheeran</td>\n",
       "      <td>Shape of You</td>\n",
       "      <td>The club isn't the best place to find a lover\\...</td>\n",
       "    </tr>\n",
       "    <tr>\n",
       "      <th>1</th>\n",
       "      <td>Luis Fonsi</td>\n",
       "      <td>Despacito - Remix</td>\n",
       "      <td>No Lyrics Found</td>\n",
       "    </tr>\n",
       "    <tr>\n",
       "      <th>2</th>\n",
       "      <td>Luis Fonsi</td>\n",
       "      <td>Despacito (Featuring Daddy Yankee)</td>\n",
       "      <td>No Lyrics Found</td>\n",
       "    </tr>\n",
       "  </tbody>\n",
       "</table>\n",
       "</div>"
      ],
      "text/plain": [
       "      artists                                name  \\\n",
       "0  Ed Sheeran                        Shape of You   \n",
       "1  Luis Fonsi                   Despacito - Remix   \n",
       "2  Luis Fonsi  Despacito (Featuring Daddy Yankee)   \n",
       "\n",
       "                                              lyrics  \n",
       "0  The club isn't the best place to find a lover\\...  \n",
       "1                                    No Lyrics Found  \n",
       "2                                    No Lyrics Found  "
      ]
     },
     "execution_count": 61,
     "metadata": {},
     "output_type": "execute_result"
    }
   ],
   "source": [
    "test"
   ]
  },
  {
   "cell_type": "markdown",
   "id": "cfc78771",
   "metadata": {},
   "source": [
    "# Load from Scraping"
   ]
  },
  {
   "cell_type": "code",
   "execution_count": 63,
   "id": "4649f5d3",
   "metadata": {},
   "outputs": [],
   "source": [
    "import re\n",
    "import requests\n",
    "from bs4 import BeautifulSoup\n",
    "\n"
   ]
  },
  {
   "cell_type": "code",
   "execution_count": 65,
   "id": "c5b26552",
   "metadata": {},
   "outputs": [],
   "source": [
    "# create response\n",
    "url = \"https://www.imdb.com/list/ls055386972/\"\n",
    "headers={\"Accept-Language\":\"en-US\"}\n",
    "\n",
    "response = requests.get(url, headers)\n",
    "\n",
    "soup = BeautifulSoup(response.content, \"html.parser\")\n",
    "\n",
    "\n"
   ]
  },
  {
   "cell_type": "code",
   "execution_count": 72,
   "id": "7a1a9762",
   "metadata": {},
   "outputs": [
    {
     "data": {
      "text/plain": [
       "'The Godfather'"
      ]
     },
     "execution_count": 72,
     "metadata": {},
     "output_type": "execute_result"
    }
   ],
   "source": [
    "soup_list = soup.find_all(\"div\", class_= \"lister-item-content\")\n",
    "\n",
    "title =soup_list[0].find(\"h3\").find(\"a\").string\n",
    "title"
   ]
  },
  {
   "cell_type": "code",
   "execution_count": 74,
   "id": "0f4509ae",
   "metadata": {},
   "outputs": [
    {
     "name": "stdout",
     "output_type": "stream",
     "text": [
      "[{'title': 'The Godfather', 'duration': 175, 'year': 1972}, {'title': \"Schindler's List\", 'duration': 195, 'year': 1993}, {'title': '12 Angry Men', 'duration': 96, 'year': 1957}, {'title': 'Life Is Beautiful', 'duration': 116, 'year': 1997}, {'title': 'The Good, the Bad and the Ugly', 'duration': 161, 'year': 1966}, {'title': 'The Shawshank Redemption', 'duration': 142, 'year': 1994}, {'title': 'The Pursuit of Happyness', 'duration': 117, 'year': 2006}, {'title': 'Seven Samurai', 'duration': 207, 'year': 1954}, {'title': 'The Intouchables', 'duration': 112, 'year': 2011}, {'title': 'Central do Brasil', 'duration': 110, 'year': 1998}, {'title': 'Requiem for a Dream', 'duration': 102, 'year': 2000}, {'title': 'A Beautiful Mind', 'duration': 135, 'year': 2001}, {'title': \"Hachi: A Dog's Tale\", 'duration': 93, 'year': 2009}, {'title': 'Taken', 'duration': 90, 'year': 2008}, {'title': 'Yeopgijeogin geunyeo', 'duration': 137, 'year': 2001}, {'title': 'Amores perros', 'duration': 154, 'year': 2000}, {'title': 'The Shining', 'duration': 146, 'year': 1980}, {'title': 'Apocalypto', 'duration': 139, 'year': 2006}, {'title': 'Gladiator', 'duration': 155, 'year': 2000}, {'title': 'Cast Away', 'duration': 143, 'year': 2000}, {'title': 'The Dark Knight', 'duration': 152, 'year': 2008}, {'title': 'The Pianist', 'duration': 150, 'year': 2002}, {'title': 'Titanic', 'duration': 194, 'year': 1997}, {'title': 'Bin-jip', 'duration': 88, 'year': 2004}, {'title': 'Braveheart', 'duration': 178, 'year': 1995}, {'title': \"It's a Wonderful Life\", 'duration': 130, 'year': 1946}, {'title': 'Spring, Summer, Autumn, Winter... and Spring', 'duration': 103, 'year': 2003}, {'title': 'Alien', 'duration': 117, 'year': 1979}, {'title': 'Memories of Murder', 'duration': 131, 'year': 2003}, {'title': 'Vozvrashchenie', 'duration': 110, 'year': 2003}, {'title': 'I Saw the Devil', 'duration': 144, 'year': 2010}, {'title': 'Children of Heaven', 'duration': 89, 'year': 1997}, {'title': 'A Separation', 'duration': 123, 'year': 2011}, {'title': 'The Sixth Sense', 'duration': 107, 'year': 1999}, {'title': 'Nae meorisokui jiwoogae', 'duration': 144, 'year': 2004}, {'title': 'Okuribito', 'duration': 130, 'year': 2008}, {'title': 'Wo de fu qin mu qin', 'duration': 89, 'year': 1999}, {'title': 'Saving Private Ryan', 'duration': 169, 'year': 1998}, {'title': 'The Bridge on the River Kwai', 'duration': 161, 'year': 1957}, {'title': 'Ben-Hur', 'duration': 212, 'year': 1959}, {'title': 'The Exorcist', 'duration': 122, 'year': 1973}, {'title': 'The Secret in Their Eyes', 'duration': 129, 'year': 2009}, {'title': 'Leon: The Professional', 'duration': 110, 'year': 1994}, {'title': 'The Green Mile', 'duration': 189, 'year': 1999}, {'title': 'Gran Torino', 'duration': 116, 'year': 2008}, {'title': 'Kill Bill: Vol. 1', 'duration': 111, 'year': 2003}, {'title': 'Jurassic Park', 'duration': 127, 'year': 1993}, {'title': 'Terminator 2: Judgment Day', 'duration': 137, 'year': 1991}, {'title': 'Back to the Future', 'duration': 116, 'year': 1985}, {'title': 'Finding Nemo', 'duration': 100, 'year': 2003}]\n"
     ]
    }
   ],
   "source": [
    "movies = []\n",
    "for movie in soup.find_all(\"div\", class_=\"lister-item-content\"):\n",
    "    title = movie.find(\"h3\").find(\"a\").string\n",
    "    duration = int(movie.find(class_=\"runtime\").string.strip(' min'))\n",
    "    year = int(re.search(r\"\\d{4}\", movie.find(class_=\"lister-item-year\").string).group(0))\n",
    "    movies.append({'title': title, 'duration': duration, 'year': year})\n",
    "print(movies)"
   ]
  },
  {
   "cell_type": "markdown",
   "id": "536e35e9",
   "metadata": {},
   "source": [
    "## Scrape all pages from top 250"
   ]
  },
  {
   "cell_type": "code",
   "execution_count": null,
   "id": "7e30d864",
   "metadata": {},
   "outputs": [],
   "source": []
  },
  {
   "cell_type": "code",
   "execution_count": 76,
   "id": "245ffb0c",
   "metadata": {},
   "outputs": [],
   "source": [
    "def fetch_page(page):\n",
    "    response = requests.get(\n",
    "        \"https://www.imdb.com/search/title/\",\n",
    "        params={\"groups\":\"top_250\", \"sort\":\"user_rating\",\"start\": (1 + page * 50)},\n",
    "        headers={\"Accept-Language\":\"en-US\"})\n",
    "    soup = BeautifulSoup(response.content, \"html.parser\")\n",
    "    return soup"
   ]
  },
  {
   "cell_type": "code",
   "execution_count": 77,
   "id": "576dc189",
   "metadata": {},
   "outputs": [],
   "source": [
    "def parse_movies(soup):\n",
    "    movies = []\n",
    "    for movie in soup.find_all(\"div\", class_=\"lister-item-content\"):\n",
    "        title = movie.find(\"h3\").find(\"a\").string\n",
    "        duration = int(movie.find(class_=\"runtime\").string.strip(' min'))\n",
    "        year = int(re.search(r\"\\d{4}\", movie.find(class_=\"lister-item-year\").string).group(0))\n",
    "        movies.append({'title': title, 'duration': duration, 'year': year})\n",
    "    return movies\n",
    "\n"
   ]
  },
  {
   "cell_type": "markdown",
   "id": "07e06df9",
   "metadata": {},
   "source": [
    "## Apply both functions"
   ]
  },
  {
   "cell_type": "code",
   "execution_count": 78,
   "id": "07e1a483",
   "metadata": {},
   "outputs": [
    {
     "name": "stdout",
     "output_type": "stream",
     "text": [
      "Parsing page 1...\n",
      "Parsing page 2...\n",
      "Parsing page 3...\n",
      "Parsing page 4...\n",
      "Parsing page 5...\n",
      "Done\n"
     ]
    }
   ],
   "source": [
    "all_movies = []\n",
    "for page in range(5):\n",
    "    print(f\"Parsing page {page + 1}...\")\n",
    "    soup = fetch_page(page)\n",
    "    all_movies += parse_movies(soup)\n",
    "print(\"Done\")"
   ]
  },
  {
   "cell_type": "code",
   "execution_count": 82,
   "id": "2edbedb6",
   "metadata": {},
   "outputs": [
    {
     "data": {
      "text/html": [
       "<div>\n",
       "<style scoped>\n",
       "    .dataframe tbody tr th:only-of-type {\n",
       "        vertical-align: middle;\n",
       "    }\n",
       "\n",
       "    .dataframe tbody tr th {\n",
       "        vertical-align: top;\n",
       "    }\n",
       "\n",
       "    .dataframe thead th {\n",
       "        text-align: right;\n",
       "    }\n",
       "</style>\n",
       "<table border=\"1\" class=\"dataframe\">\n",
       "  <thead>\n",
       "    <tr style=\"text-align: right;\">\n",
       "      <th></th>\n",
       "      <th>title</th>\n",
       "      <th>duration</th>\n",
       "      <th>year</th>\n",
       "    </tr>\n",
       "  </thead>\n",
       "  <tbody>\n",
       "    <tr>\n",
       "      <th>0</th>\n",
       "      <td>The Shawshank Redemption</td>\n",
       "      <td>142</td>\n",
       "      <td>1994</td>\n",
       "    </tr>\n",
       "    <tr>\n",
       "      <th>1</th>\n",
       "      <td>The Godfather</td>\n",
       "      <td>175</td>\n",
       "      <td>1972</td>\n",
       "    </tr>\n",
       "    <tr>\n",
       "      <th>2</th>\n",
       "      <td>The Dark Knight</td>\n",
       "      <td>152</td>\n",
       "      <td>2008</td>\n",
       "    </tr>\n",
       "    <tr>\n",
       "      <th>3</th>\n",
       "      <td>The Lord of the Rings: The Return of the King</td>\n",
       "      <td>201</td>\n",
       "      <td>2003</td>\n",
       "    </tr>\n",
       "    <tr>\n",
       "      <th>4</th>\n",
       "      <td>Schindler's List</td>\n",
       "      <td>195</td>\n",
       "      <td>1993</td>\n",
       "    </tr>\n",
       "    <tr>\n",
       "      <th>...</th>\n",
       "      <td>...</td>\n",
       "      <td>...</td>\n",
       "      <td>...</td>\n",
       "    </tr>\n",
       "    <tr>\n",
       "      <th>245</th>\n",
       "      <td>Rebecca</td>\n",
       "      <td>130</td>\n",
       "      <td>1940</td>\n",
       "    </tr>\n",
       "    <tr>\n",
       "      <th>246</th>\n",
       "      <td>The Grapes of Wrath</td>\n",
       "      <td>129</td>\n",
       "      <td>1940</td>\n",
       "    </tr>\n",
       "    <tr>\n",
       "      <th>247</th>\n",
       "      <td>The Wizard of Oz</td>\n",
       "      <td>102</td>\n",
       "      <td>1939</td>\n",
       "    </tr>\n",
       "    <tr>\n",
       "      <th>248</th>\n",
       "      <td>Mr. Smith Goes to Washington</td>\n",
       "      <td>129</td>\n",
       "      <td>1939</td>\n",
       "    </tr>\n",
       "    <tr>\n",
       "      <th>249</th>\n",
       "      <td>It Happened One Night</td>\n",
       "      <td>105</td>\n",
       "      <td>1934</td>\n",
       "    </tr>\n",
       "  </tbody>\n",
       "</table>\n",
       "<p>250 rows × 3 columns</p>\n",
       "</div>"
      ],
      "text/plain": [
       "                                             title  duration  year\n",
       "0                         The Shawshank Redemption       142  1994\n",
       "1                                    The Godfather       175  1972\n",
       "2                                  The Dark Knight       152  2008\n",
       "3    The Lord of the Rings: The Return of the King       201  2003\n",
       "4                                 Schindler's List       195  1993\n",
       "..                                             ...       ...   ...\n",
       "245                                        Rebecca       130  1940\n",
       "246                            The Grapes of Wrath       129  1940\n",
       "247                               The Wizard of Oz       102  1939\n",
       "248                   Mr. Smith Goes to Washington       129  1939\n",
       "249                          It Happened One Night       105  1934\n",
       "\n",
       "[250 rows x 3 columns]"
      ]
     },
     "execution_count": 82,
     "metadata": {},
     "output_type": "execute_result"
    }
   ],
   "source": [
    "all_movies_df = pd.DataFrame(all_movies)\n",
    "all_movies_df"
   ]
  },
  {
   "cell_type": "code",
   "execution_count": 83,
   "id": "b3d718ed",
   "metadata": {},
   "outputs": [
    {
     "data": {
      "text/plain": [
       "array([[<AxesSubplot:title={'center':'duration'}>,\n",
       "        <AxesSubplot:title={'center':'year'}>]], dtype=object)"
      ]
     },
     "execution_count": 83,
     "metadata": {},
     "output_type": "execute_result"
    },
    {
     "data": {
      "image/png": "[encoded data removed]",
      "text/plain": [
       "<Figure size 432x288 with 2 Axes>"
      ]
     },
     "metadata": {
      "needs_background": "light"
     },
     "output_type": "display_data"
    }
   ],
   "source": [
    "#Apply histograms\n",
    "all_movies_df.hist()"
   ]
  },
  {
   "cell_type": "code",
   "execution_count": null,
   "id": "63482e6d",
   "metadata": {},
   "outputs": [],
   "source": []
  }
 ],
 "metadata": {
  "kernelspec": {
   "display_name": "Python 3 (ipykernel)",
   "language": "python",
   "name": "python3"
  },
  "language_info": {
   "codemirror_mode": {
    "name": "ipython",
    "version": 3
   },
   "file_extension": ".py",
   "mimetype": "text/x-python",
   "name": "python",
   "nbconvert_exporter": "python",
   "pygments_lexer": "ipython3",
   "version": "3.9.8"
  },
  "toc": {
   "base_numbering": 1,
   "nav_menu": {},
   "number_sections": true,
   "sideBar": true,
   "skip_h1_title": false,
   "title_cell": "Table of Contents",
   "title_sidebar": "Contents",
   "toc_cell": false,
   "toc_position": {},
   "toc_section_display": true,
   "toc_window_display": false
  }
 },
 "nbformat": 4,
 "nbformat_minor": 5
}
