{
 "cells": [
  {
   "cell_type": "markdown",
   "metadata": {},
   "source": [
    "# Scraping books"
   ]
  },
  {
   "cell_type": "code",
   "execution_count": null,
   "metadata": {},
   "outputs": [],
   "source": [
    "import requests\n",
    "from bs4 import BeautifulSoup\n",
    "\n",
    "import numpy as np\n",
    "import pandas as pd\n",
    "\n",
    "%matplotlib inline\n",
    "import matplotlib"
   ]
  },
  {
   "cell_type": "code",
   "execution_count": null,
   "metadata": {},
   "outputs": [],
   "source": [
    "def fetch_page(page):\n",
    "    print(f\"scraping page {page + 1}\")\n",
    "    response = requests.get(\n",
    "        f'http://books.toscrape.com/catalogue/page-{page + 1}.html',\n",
    "        headers={\"Accept-Language\":\"en-US\"}\n",
    "    )\n",
    "    soup = BeautifulSoup(response.content, \"html.parser\")\n",
    "    return soup"
   ]
  },
  {
   "cell_type": "code",
   "execution_count": null,
   "metadata": {},
   "outputs": [],
   "source": [
    "ratings = {'One':1, 'Two':2, 'Three':3, 'Four':4, 'Five':5}"
   ]
  },
  {
   "cell_type": "code",
   "execution_count": null,
   "metadata": {},
   "outputs": [],
   "source": [
    "def add_books_to_dict(soup, dict):\n",
    "    for book_html in soup.find_all(class_=\"product_pod\"):\n",
    "        dict['Title'].append(book_html.find(\"h3\").find(\"a\").string)\n",
    "        dict['Price'].append(float(book_html.find(class_=\"price_color\").string.strip('£')))\n",
    "        stars_html = book_html.find(class_=\"star-rating\")\n",
    "        dict['Rating'].append(ratings.get(stars_html.attrs['class'][1], 0))"
   ]
  },
  {
   "cell_type": "code",
   "execution_count": null,
   "metadata": {},
   "outputs": [],
   "source": [
    "books_dict = { 'Title': [], 'Price': [], 'Rating': [] }"
   ]
  },
  {
   "cell_type": "code",
   "execution_count": null,
   "metadata": {},
   "outputs": [],
   "source": [
    "def create_books_df(max_page):\n",
    "    books_dict = { 'Title': [], 'Price': [], 'Rating': [] }\n",
    "    for page in range(max_page):\n",
    "        soup = fetch_page(page)\n",
    "        add_books_to_dict(soup, books_dict)\n",
    "    return pd.DataFrame.from_dict(books_dict)"
   ]
  },
  {
   "cell_type": "code",
   "execution_count": null,
   "metadata": {},
   "outputs": [
    {
     "name": "stdout",
     "output_type": "stream",
     "text": [
      "scraping page 1\n",
      "scraping page 2\n",
      "scraping page 3\n",
      "scraping page 4\n",
      "scraping page 5\n",
      "scraping page 6\n",
      "scraping page 7\n",
      "scraping page 8\n",
      "scraping page 9\n",
      "scraping page 10\n",
      "scraping page 11\n",
      "scraping page 12\n",
      "scraping page 13\n",
      "scraping page 14\n",
      "scraping page 15\n",
      "scraping page 16\n",
      "scraping page 17\n",
      "scraping page 18\n",
      "scraping page 19\n",
      "scraping page 20\n",
      "scraping page 21\n",
      "scraping page 22\n",
      "scraping page 23\n",
      "scraping page 24\n",
      "scraping page 25\n",
      "scraping page 26\n",
      "scraping page 27\n",
      "scraping page 28\n",
      "scraping page 29\n",
      "scraping page 30\n",
      "scraping page 31\n",
      "scraping page 32\n",
      "scraping page 33\n",
      "scraping page 34\n",
      "scraping page 35\n",
      "scraping page 36\n",
      "scraping page 37\n",
      "scraping page 38\n",
      "scraping page 39\n",
      "scraping page 40\n",
      "scraping page 41\n",
      "scraping page 42\n",
      "scraping page 43\n",
      "scraping page 44\n",
      "scraping page 45\n",
      "scraping page 46\n",
      "scraping page 47\n",
      "scraping page 48\n",
      "scraping page 49\n",
      "scraping page 50\n"
     ]
    },
    {
     "data": {
      "text/plain": [
       "(1000, 3)"
      ]
     },
     "execution_count": null,
     "metadata": {},
     "output_type": "execute_result"
    }
   ],
   "source": [
    "books_df = create_books_df(50)\n",
    "books_df.shape"
   ]
  },
  {
   "cell_type": "code",
   "execution_count": null,
   "metadata": {},
   "outputs": [
    {
     "data": {
      "text/html": [
       "<div>\n",
       "<style scoped>\n",
       "    .dataframe tbody tr th:only-of-type {\n",
       "        vertical-align: middle;\n",
       "    }\n",
       "\n",
       "    .dataframe tbody tr th {\n",
       "        vertical-align: top;\n",
       "    }\n",
       "\n",
       "    .dataframe thead th {\n",
       "        text-align: right;\n",
       "    }\n",
       "</style>\n",
       "<table border=\"1\" class=\"dataframe\">\n",
       "  <thead>\n",
       "    <tr style=\"text-align: right;\">\n",
       "      <th></th>\n",
       "      <th>Title</th>\n",
       "      <th>Price</th>\n",
       "      <th>Rating</th>\n",
       "    </tr>\n",
       "  </thead>\n",
       "  <tbody>\n",
       "    <tr>\n",
       "      <th>0</th>\n",
       "      <td>A Light in the ...</td>\n",
       "      <td>51.77</td>\n",
       "      <td>3</td>\n",
       "    </tr>\n",
       "    <tr>\n",
       "      <th>1</th>\n",
       "      <td>Tipping the Velvet</td>\n",
       "      <td>53.74</td>\n",
       "      <td>1</td>\n",
       "    </tr>\n",
       "    <tr>\n",
       "      <th>2</th>\n",
       "      <td>Soumission</td>\n",
       "      <td>50.10</td>\n",
       "      <td>1</td>\n",
       "    </tr>\n",
       "    <tr>\n",
       "      <th>3</th>\n",
       "      <td>Sharp Objects</td>\n",
       "      <td>47.82</td>\n",
       "      <td>4</td>\n",
       "    </tr>\n",
       "    <tr>\n",
       "      <th>4</th>\n",
       "      <td>Sapiens: A Brief History ...</td>\n",
       "      <td>54.23</td>\n",
       "      <td>5</td>\n",
       "    </tr>\n",
       "  </tbody>\n",
       "</table>\n",
       "</div>"
      ],
      "text/plain": [
       "                          Title  Price  Rating\n",
       "0            A Light in the ...  51.77       3\n",
       "1            Tipping the Velvet  53.74       1\n",
       "2                    Soumission  50.10       1\n",
       "3                 Sharp Objects  47.82       4\n",
       "4  Sapiens: A Brief History ...  54.23       5"
      ]
     },
     "execution_count": null,
     "metadata": {},
     "output_type": "execute_result"
    }
   ],
   "source": [
    "books_df.head()"
   ]
  },
  {
   "cell_type": "code",
   "execution_count": null,
   "metadata": {},
   "outputs": [
    {
     "data": {
      "text/plain": [
       "<matplotlib.axes._subplots.AxesSubplot at 0x110604390>"
      ]
     },
     "execution_count": null,
     "metadata": {},
     "output_type": "execute_result"
    },
    {
     "data": {
      "image/png": "[encoded data removed]",
      "text/plain": [
       "<Figure size 432x288 with 1 Axes>"
      ]
     },
     "metadata": {
      "needs_background": "light"
     },
     "output_type": "display_data"
    }
   ],
   "source": [
    "books_df.groupby(\"Rating\").count()[\"Title\"].plot(kind=\"bar\")"
   ]
  },
  {
   "cell_type": "code",
   "execution_count": null,
   "metadata": {},
   "outputs": [
    {
     "data": {
      "text/plain": [
       "<matplotlib.axes._subplots.AxesSubplot at 0x1135b4d50>"
      ]
     },
     "execution_count": null,
     "metadata": {},
     "output_type": "execute_result"
    },
    {
     "data": {
      "image/png": "[encoded data removed]",
      "text/plain": [
       "<Figure size 432x288 with 1 Axes>"
      ]
     },
     "metadata": {
      "needs_background": "light"
     },
     "output_type": "display_data"
    }
   ],
   "source": [
    "books_df['Price'].hist()"
   ]
  },
  {
   "cell_type": "code",
   "execution_count": null,
   "metadata": {},
   "outputs": [],
   "source": [
    "books_df.to_csv(\"books.csv\")\n",
    "#all_books_df.to_excel('books.xlsx', sheet_name='Books')"
   ]
  },
  {
   "cell_type": "code",
   "execution_count": null,
   "metadata": {},
   "outputs": [
    {
     "name": "stdout",
     "output_type": "stream",
     "text": [
      "\u001b[1m============================= test session starts ==============================\u001b[0m\n",
      "platform darwin -- Python 3.8.6, pytest-6.2.1, py-1.10.0, pluggy-0.13.1 -- /Users/krokrob/.pyenv/versions/3.8.6/envs/lewagon386/bin/python3.8\n",
      "cachedir: .pytest_cache\n",
      "rootdir: /Users/krokrob/code/lewagon/data-solutions/02-Data-Toolkit/02-Data-Sourcing/02-Scraping\n",
      "plugins: anyio-2.0.2\n",
      "\u001b[1mcollecting ... \u001b[0mcollected 6 items\n",
      "\n",
      "tests/test_books.py::TestBooks::test_books_df_columns_name \u001b[32mPASSED\u001b[0m\u001b[32m        [ 16%]\u001b[0m\n",
      "tests/test_books.py::TestBooks::test_books_df_columns_size \u001b[32mPASSED\u001b[0m\u001b[32m        [ 33%]\u001b[0m\n",
      "tests/test_books.py::TestBooks::test_books_dict_id_defined \u001b[32mPASSED\u001b[0m\u001b[32m        [ 50%]\u001b[0m\n",
      "tests/test_books.py::TestBooks::test_first_book_price \u001b[32mPASSED\u001b[0m\u001b[32m             [ 66%]\u001b[0m\n",
      "tests/test_books.py::TestBooks::test_first_book_rating \u001b[32mPASSED\u001b[0m\u001b[32m            [ 83%]\u001b[0m\n",
      "tests/test_books.py::TestBooks::test_first_book_title \u001b[32mPASSED\u001b[0m\u001b[32m             [100%]\u001b[0m\n",
      "\n",
      "\u001b[32m============================== \u001b[32m\u001b[1m6 passed\u001b[0m\u001b[32m in 0.28s\u001b[0m\u001b[32m ===============================\u001b[0m\n",
      "\n",
      "\n",
      "💯 You can commit your code:\n",
      "\n",
      "\u001b[1;32mgit\u001b[39m add tests/books.pickle\n",
      "\n",
      "\u001b[32mgit\u001b[39m commit -m \u001b[33m'Completed books step'\u001b[39m\n",
      "\n",
      "\u001b[32mgit\u001b[39m push origin master\n"
     ]
    }
   ],
   "source": [
    "from nbresult import ChallengeResult\n",
    "\n",
    "result = ChallengeResult('books',\n",
    "    books_dict=books_dict,\n",
    "    columns=books_df.columns,\n",
    "    title=str(books_df.loc[0,'Title']),\n",
    "    price=books_df.loc[0,'Price'],\n",
    "    rating=books_df.loc[0,'Rating']\n",
    ")\n",
    "result.write()\n",
    "print(result.check())"
   ]
  },
  {
   "cell_type": "code",
   "execution_count": null,
   "metadata": {},
   "outputs": [],
   "source": []
  }
 ],
 "metadata": {
  "kernelspec": {
   "display_name": "Python 3",
   "language": "python",
   "name": "python3"
  }
 },
 "nbformat": 4,
 "nbformat_minor": 2
}
