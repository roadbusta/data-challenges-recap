{
 "cells": [
  {
   "cell_type": "markdown",
   "metadata": {},
   "source": [
    "# CSV + API\n",
    "\n",
    "In this reboot, we are going to use:\n",
    "\n",
    "- The [Goodreads books](https://www.kaggle.com/jealousleopard/goodreadsbooks) dataset from Kaggle.\n",
    "- The [Open Library Books API](https://openlibrary.org/dev/docs/api/books)\n",
    "\n",
    "The goal of this livecode is to load the data from a CSV + loop over rows to enrich each row with information such as:\n",
    "\n",
    "- List of subjects (Science, Humor, Travel, etc.)\n",
    "- The cover URL of the book\n",
    "- Other information you'd find useful in the JSON API"
   ]
  },
  {
   "cell_type": "markdown",
   "metadata": {},
   "source": [
    "First, download the CSV in the local folder:"
   ]
  },
  {
   "cell_type": "code",
   "execution_count": 1,
   "metadata": {},
   "outputs": [
    {
     "name": "stdout",
     "output_type": "stream",
     "text": [
      "  % Total    % Received % Xferd  Average Speed   Time    Time     Time  Current\n",
      "                                 Dload  Upload   Total   Spent    Left  Speed\n",
      "100 1509k  100 1509k    0     0  2542k      0 --:--:-- --:--:-- --:--:-- 2695k\n"
     ]
    }
   ],
   "source": [
    "!curl -L https://gist.githubusercontent.com/ssaunier/351b17f5a7a009808b60aeacd1f4a036/raw/books.csv > books.csv"
   ]
  },
  {
   "cell_type": "code",
   "execution_count": 2,
   "metadata": {},
   "outputs": [
    {
     "name": "stdout",
     "output_type": "stream",
     "text": [
      "total 4392\r\n",
      "-rw-r--r--  1 josephgulay  staff   579B Mar 24 12:11 README.md\r\n",
      "-rw-r--r--@ 1 josephgulay  staff    77K Apr  9 16:49 Recap.ipynb\r\n",
      "-rw-r--r--  1 josephgulay  staff   1.5M Apr  9 16:49 books.csv\r\n"
     ]
    }
   ],
   "source": [
    "!ls -lh"
   ]
  },
  {
   "cell_type": "markdown",
   "metadata": {},
   "source": [
    "Then import the usual suspects!"
   ]
  },
  {
   "cell_type": "markdown",
   "metadata": {},
   "source": [
    "# Import CSV and turn into a dataframe"
   ]
  },
  {
   "cell_type": "code",
   "execution_count": 3,
   "metadata": {},
   "outputs": [
    {
     "data": {
      "text/html": [
       "<div>\n",
       "<style scoped>\n",
       "    .dataframe tbody tr th:only-of-type {\n",
       "        vertical-align: middle;\n",
       "    }\n",
       "\n",
       "    .dataframe tbody tr th {\n",
       "        vertical-align: top;\n",
       "    }\n",
       "\n",
       "    .dataframe thead th {\n",
       "        text-align: right;\n",
       "    }\n",
       "</style>\n",
       "<table border=\"1\" class=\"dataframe\">\n",
       "  <thead>\n",
       "    <tr style=\"text-align: right;\">\n",
       "      <th></th>\n",
       "      <th>bookID</th>\n",
       "      <th>title</th>\n",
       "      <th>authors</th>\n",
       "      <th>average_rating</th>\n",
       "      <th>isbn</th>\n",
       "      <th>isbn13</th>\n",
       "      <th>language_code</th>\n",
       "      <th># num_pages</th>\n",
       "      <th>ratings_count</th>\n",
       "      <th>text_reviews_count</th>\n",
       "    </tr>\n",
       "  </thead>\n",
       "  <tbody>\n",
       "    <tr>\n",
       "      <th>0</th>\n",
       "      <td>1</td>\n",
       "      <td>Harry Potter and the Half-Blood Prince (Harry ...</td>\n",
       "      <td>J.K. Rowling-Mary GrandPré</td>\n",
       "      <td>4.56</td>\n",
       "      <td>0439785960</td>\n",
       "      <td>9780439785969</td>\n",
       "      <td>eng</td>\n",
       "      <td>652</td>\n",
       "      <td>1944099</td>\n",
       "      <td>26249</td>\n",
       "    </tr>\n",
       "    <tr>\n",
       "      <th>1</th>\n",
       "      <td>2</td>\n",
       "      <td>Harry Potter and the Order of the Phoenix (Har...</td>\n",
       "      <td>J.K. Rowling-Mary GrandPré</td>\n",
       "      <td>4.49</td>\n",
       "      <td>0439358078</td>\n",
       "      <td>9780439358071</td>\n",
       "      <td>eng</td>\n",
       "      <td>870</td>\n",
       "      <td>1996446</td>\n",
       "      <td>27613</td>\n",
       "    </tr>\n",
       "    <tr>\n",
       "      <th>2</th>\n",
       "      <td>3</td>\n",
       "      <td>Harry Potter and the Sorcerer's Stone (Harry P...</td>\n",
       "      <td>J.K. Rowling-Mary GrandPré</td>\n",
       "      <td>4.47</td>\n",
       "      <td>0439554934</td>\n",
       "      <td>9780439554930</td>\n",
       "      <td>eng</td>\n",
       "      <td>320</td>\n",
       "      <td>5629932</td>\n",
       "      <td>70390</td>\n",
       "    </tr>\n",
       "    <tr>\n",
       "      <th>3</th>\n",
       "      <td>4</td>\n",
       "      <td>Harry Potter and the Chamber of Secrets (Harry...</td>\n",
       "      <td>J.K. Rowling</td>\n",
       "      <td>4.41</td>\n",
       "      <td>0439554896</td>\n",
       "      <td>9780439554893</td>\n",
       "      <td>eng</td>\n",
       "      <td>352</td>\n",
       "      <td>6267</td>\n",
       "      <td>272</td>\n",
       "    </tr>\n",
       "    <tr>\n",
       "      <th>4</th>\n",
       "      <td>5</td>\n",
       "      <td>Harry Potter and the Prisoner of Azkaban (Harr...</td>\n",
       "      <td>J.K. Rowling-Mary GrandPré</td>\n",
       "      <td>4.55</td>\n",
       "      <td>043965548X</td>\n",
       "      <td>9780439655484</td>\n",
       "      <td>eng</td>\n",
       "      <td>435</td>\n",
       "      <td>2149872</td>\n",
       "      <td>33964</td>\n",
       "    </tr>\n",
       "    <tr>\n",
       "      <th>...</th>\n",
       "      <td>...</td>\n",
       "      <td>...</td>\n",
       "      <td>...</td>\n",
       "      <td>...</td>\n",
       "      <td>...</td>\n",
       "      <td>...</td>\n",
       "      <td>...</td>\n",
       "      <td>...</td>\n",
       "      <td>...</td>\n",
       "      <td>...</td>\n",
       "    </tr>\n",
       "    <tr>\n",
       "      <th>13714</th>\n",
       "      <td>47699</td>\n",
       "      <td>M Is for Magic</td>\n",
       "      <td>Neil Gaiman-Teddy Kristiansen</td>\n",
       "      <td>3.82</td>\n",
       "      <td>0061186422</td>\n",
       "      <td>9780061186424</td>\n",
       "      <td>eng</td>\n",
       "      <td>260</td>\n",
       "      <td>11317</td>\n",
       "      <td>1060</td>\n",
       "    </tr>\n",
       "    <tr>\n",
       "      <th>13715</th>\n",
       "      <td>47700</td>\n",
       "      <td>Black Orchid</td>\n",
       "      <td>Neil Gaiman-Dave McKean</td>\n",
       "      <td>3.72</td>\n",
       "      <td>0930289552</td>\n",
       "      <td>9780930289553</td>\n",
       "      <td>eng</td>\n",
       "      <td>160</td>\n",
       "      <td>8710</td>\n",
       "      <td>361</td>\n",
       "    </tr>\n",
       "    <tr>\n",
       "      <th>13716</th>\n",
       "      <td>47701</td>\n",
       "      <td>InterWorld (InterWorld  #1)</td>\n",
       "      <td>Neil Gaiman-Michael Reaves</td>\n",
       "      <td>3.53</td>\n",
       "      <td>0061238961</td>\n",
       "      <td>9780061238963</td>\n",
       "      <td>en-US</td>\n",
       "      <td>239</td>\n",
       "      <td>14334</td>\n",
       "      <td>1485</td>\n",
       "    </tr>\n",
       "    <tr>\n",
       "      <th>13717</th>\n",
       "      <td>47708</td>\n",
       "      <td>The Faeries' Oracle</td>\n",
       "      <td>Brian Froud-Jessica Macbeth</td>\n",
       "      <td>4.43</td>\n",
       "      <td>0743201116</td>\n",
       "      <td>9780743201117</td>\n",
       "      <td>eng</td>\n",
       "      <td>224</td>\n",
       "      <td>1550</td>\n",
       "      <td>38</td>\n",
       "    </tr>\n",
       "    <tr>\n",
       "      <th>13718</th>\n",
       "      <td>47709</td>\n",
       "      <td>The World of The Dark Crystal</td>\n",
       "      <td>Brian Froud</td>\n",
       "      <td>4.29</td>\n",
       "      <td>1862056242</td>\n",
       "      <td>9781862056244</td>\n",
       "      <td>eng</td>\n",
       "      <td>132</td>\n",
       "      <td>3572</td>\n",
       "      <td>33</td>\n",
       "    </tr>\n",
       "  </tbody>\n",
       "</table>\n",
       "<p>13719 rows × 10 columns</p>\n",
       "</div>"
      ],
      "text/plain": [
       "       bookID                                              title  \\\n",
       "0           1  Harry Potter and the Half-Blood Prince (Harry ...   \n",
       "1           2  Harry Potter and the Order of the Phoenix (Har...   \n",
       "2           3  Harry Potter and the Sorcerer's Stone (Harry P...   \n",
       "3           4  Harry Potter and the Chamber of Secrets (Harry...   \n",
       "4           5  Harry Potter and the Prisoner of Azkaban (Harr...   \n",
       "...       ...                                                ...   \n",
       "13714   47699                                     M Is for Magic   \n",
       "13715   47700                                       Black Orchid   \n",
       "13716   47701                        InterWorld (InterWorld  #1)   \n",
       "13717   47708                                The Faeries' Oracle   \n",
       "13718   47709                      The World of The Dark Crystal   \n",
       "\n",
       "                             authors  average_rating        isbn  \\\n",
       "0         J.K. Rowling-Mary GrandPré            4.56  0439785960   \n",
       "1         J.K. Rowling-Mary GrandPré            4.49  0439358078   \n",
       "2         J.K. Rowling-Mary GrandPré            4.47  0439554934   \n",
       "3                       J.K. Rowling            4.41  0439554896   \n",
       "4         J.K. Rowling-Mary GrandPré            4.55  043965548X   \n",
       "...                              ...             ...         ...   \n",
       "13714  Neil Gaiman-Teddy Kristiansen            3.82  0061186422   \n",
       "13715        Neil Gaiman-Dave McKean            3.72  0930289552   \n",
       "13716     Neil Gaiman-Michael Reaves            3.53  0061238961   \n",
       "13717    Brian Froud-Jessica Macbeth            4.43  0743201116   \n",
       "13718                    Brian Froud            4.29  1862056242   \n",
       "\n",
       "              isbn13 language_code  # num_pages  ratings_count  \\\n",
       "0      9780439785969           eng          652        1944099   \n",
       "1      9780439358071           eng          870        1996446   \n",
       "2      9780439554930           eng          320        5629932   \n",
       "3      9780439554893           eng          352           6267   \n",
       "4      9780439655484           eng          435        2149872   \n",
       "...              ...           ...          ...            ...   \n",
       "13714  9780061186424           eng          260          11317   \n",
       "13715  9780930289553           eng          160           8710   \n",
       "13716  9780061238963         en-US          239          14334   \n",
       "13717  9780743201117           eng          224           1550   \n",
       "13718  9781862056244           eng          132           3572   \n",
       "\n",
       "       text_reviews_count  \n",
       "0                   26249  \n",
       "1                   27613  \n",
       "2                   70390  \n",
       "3                     272  \n",
       "4                   33964  \n",
       "...                   ...  \n",
       "13714                1060  \n",
       "13715                 361  \n",
       "13716                1485  \n",
       "13717                  38  \n",
       "13718                  33  \n",
       "\n",
       "[13719 rows x 10 columns]"
      ]
     },
     "execution_count": 3,
     "metadata": {},
     "output_type": "execute_result"
    }
   ],
   "source": [
    "import pandas as pd\n",
    "\n",
    "books_df = pd.read_csv('books.csv')\n",
    "books_df"
   ]
  },
  {
   "cell_type": "code",
   "execution_count": 4,
   "metadata": {},
   "outputs": [
    {
     "data": {
      "text/html": [
       "<div>\n",
       "<style scoped>\n",
       "    .dataframe tbody tr th:only-of-type {\n",
       "        vertical-align: middle;\n",
       "    }\n",
       "\n",
       "    .dataframe tbody tr th {\n",
       "        vertical-align: top;\n",
       "    }\n",
       "\n",
       "    .dataframe thead th {\n",
       "        text-align: right;\n",
       "    }\n",
       "</style>\n",
       "<table border=\"1\" class=\"dataframe\">\n",
       "  <thead>\n",
       "    <tr style=\"text-align: right;\">\n",
       "      <th></th>\n",
       "      <th>title</th>\n",
       "      <th>authors</th>\n",
       "      <th>isbn</th>\n",
       "    </tr>\n",
       "  </thead>\n",
       "  <tbody>\n",
       "    <tr>\n",
       "      <th>0</th>\n",
       "      <td>Harry Potter and the Half-Blood Prince (Harry ...</td>\n",
       "      <td>J.K. Rowling-Mary GrandPré</td>\n",
       "      <td>0439785960</td>\n",
       "    </tr>\n",
       "    <tr>\n",
       "      <th>1</th>\n",
       "      <td>Harry Potter and the Order of the Phoenix (Har...</td>\n",
       "      <td>J.K. Rowling-Mary GrandPré</td>\n",
       "      <td>0439358078</td>\n",
       "    </tr>\n",
       "    <tr>\n",
       "      <th>2</th>\n",
       "      <td>Harry Potter and the Sorcerer's Stone (Harry P...</td>\n",
       "      <td>J.K. Rowling-Mary GrandPré</td>\n",
       "      <td>0439554934</td>\n",
       "    </tr>\n",
       "    <tr>\n",
       "      <th>3</th>\n",
       "      <td>Harry Potter and the Chamber of Secrets (Harry...</td>\n",
       "      <td>J.K. Rowling</td>\n",
       "      <td>0439554896</td>\n",
       "    </tr>\n",
       "    <tr>\n",
       "      <th>4</th>\n",
       "      <td>Harry Potter and the Prisoner of Azkaban (Harr...</td>\n",
       "      <td>J.K. Rowling-Mary GrandPré</td>\n",
       "      <td>043965548X</td>\n",
       "    </tr>\n",
       "    <tr>\n",
       "      <th>...</th>\n",
       "      <td>...</td>\n",
       "      <td>...</td>\n",
       "      <td>...</td>\n",
       "    </tr>\n",
       "    <tr>\n",
       "      <th>13714</th>\n",
       "      <td>M Is for Magic</td>\n",
       "      <td>Neil Gaiman-Teddy Kristiansen</td>\n",
       "      <td>0061186422</td>\n",
       "    </tr>\n",
       "    <tr>\n",
       "      <th>13715</th>\n",
       "      <td>Black Orchid</td>\n",
       "      <td>Neil Gaiman-Dave McKean</td>\n",
       "      <td>0930289552</td>\n",
       "    </tr>\n",
       "    <tr>\n",
       "      <th>13716</th>\n",
       "      <td>InterWorld (InterWorld  #1)</td>\n",
       "      <td>Neil Gaiman-Michael Reaves</td>\n",
       "      <td>0061238961</td>\n",
       "    </tr>\n",
       "    <tr>\n",
       "      <th>13717</th>\n",
       "      <td>The Faeries' Oracle</td>\n",
       "      <td>Brian Froud-Jessica Macbeth</td>\n",
       "      <td>0743201116</td>\n",
       "    </tr>\n",
       "    <tr>\n",
       "      <th>13718</th>\n",
       "      <td>The World of The Dark Crystal</td>\n",
       "      <td>Brian Froud</td>\n",
       "      <td>1862056242</td>\n",
       "    </tr>\n",
       "  </tbody>\n",
       "</table>\n",
       "<p>13719 rows × 3 columns</p>\n",
       "</div>"
      ],
      "text/plain": [
       "                                                   title  \\\n",
       "0      Harry Potter and the Half-Blood Prince (Harry ...   \n",
       "1      Harry Potter and the Order of the Phoenix (Har...   \n",
       "2      Harry Potter and the Sorcerer's Stone (Harry P...   \n",
       "3      Harry Potter and the Chamber of Secrets (Harry...   \n",
       "4      Harry Potter and the Prisoner of Azkaban (Harr...   \n",
       "...                                                  ...   \n",
       "13714                                     M Is for Magic   \n",
       "13715                                       Black Orchid   \n",
       "13716                        InterWorld (InterWorld  #1)   \n",
       "13717                                The Faeries' Oracle   \n",
       "13718                      The World of The Dark Crystal   \n",
       "\n",
       "                             authors        isbn  \n",
       "0         J.K. Rowling-Mary GrandPré  0439785960  \n",
       "1         J.K. Rowling-Mary GrandPré  0439358078  \n",
       "2         J.K. Rowling-Mary GrandPré  0439554934  \n",
       "3                       J.K. Rowling  0439554896  \n",
       "4         J.K. Rowling-Mary GrandPré  043965548X  \n",
       "...                              ...         ...  \n",
       "13714  Neil Gaiman-Teddy Kristiansen  0061186422  \n",
       "13715        Neil Gaiman-Dave McKean  0930289552  \n",
       "13716     Neil Gaiman-Michael Reaves  0061238961  \n",
       "13717    Brian Froud-Jessica Macbeth  0743201116  \n",
       "13718                    Brian Froud  1862056242  \n",
       "\n",
       "[13719 rows x 3 columns]"
      ]
     },
     "execution_count": 4,
     "metadata": {},
     "output_type": "execute_result"
    }
   ],
   "source": [
    "books_df = books_df[['title', 'authors', 'isbn']]\n",
    "books_df"
   ]
  },
  {
   "cell_type": "markdown",
   "metadata": {},
   "source": [
    "# Figure out how to interact with URL \n"
   ]
  },
  {
   "cell_type": "code",
   "execution_count": 5,
   "metadata": {},
   "outputs": [
    {
     "name": "stdout",
     "output_type": "stream",
     "text": [
      "{'ISBN:0439785960': {'url': 'https://openlibrary.org/books/OL24280830M/Harry_Potter_and_the_Half-Blood_Prince', 'key': '/books/OL24280830M', 'title': 'Harry Potter and the Half-Blood Prince', 'authors': [{'url': 'https://openlibrary.org/authors/OL23919A/J._K._Rowling', 'name': 'J. K. Rowling'}], 'identifiers': {'amazon': ['0439785960'], 'goodreads': ['53178655'], 'isbn_10': ['0439785960'], 'isbn_13': ['9780439785969'], 'oclc': ['70666878', '819153929'], 'openlibrary': ['OL24280830M']}, 'publishers': [{'name': 'Scholastic'}], 'publish_places': [{'name': 'New York, USA'}], 'publish_date': '2006-09', 'subjects': [{'name': 'orphans', 'url': 'https://openlibrary.org/subjects/orphans'}, {'name': 'foster homes', 'url': 'https://openlibrary.org/subjects/foster_homes'}, {'name': 'romans', 'url': 'https://openlibrary.org/subjects/romans'}, {'name': 'magie', 'url': 'https://openlibrary.org/subjects/magie'}, {'name': 'adolescence', 'url': 'https://openlibrary.org/subjects/adolescence'}, {'name': 'Quill Award winner', 'url': 'https://openlibrary.org/subjects/quill_award_winner'}, {'name': 'Scottish Children’s Book Award winner', 'url': 'https://openlibrary.org/subjects/scottish_children’s_book_award_winner'}, {'name': 'British Book of the Year Award winner', 'url': 'https://openlibrary.org/subjects/british_book_of_the_year_award_winner'}, {'name': 'Fiction', 'url': 'https://openlibrary.org/subjects/fiction'}, {'name': 'Juvenile fiction', 'url': 'https://openlibrary.org/subjects/juvenile_fiction'}, {'name': 'Magic', 'url': 'https://openlibrary.org/subjects/magic'}, {'name': 'Schools', 'url': 'https://openlibrary.org/subjects/schools'}, {'name': 'Witches', 'url': 'https://openlibrary.org/subjects/witches'}, {'name': 'Wizards', 'url': 'https://openlibrary.org/subjects/wizards'}, {'name': 'New York Times bestseller', 'url': 'https://openlibrary.org/subjects/new_york_times_bestseller'}, {'name': 'Fantasy fiction', 'url': 'https://openlibrary.org/subjects/fantasy_fiction'}, {'name': 'nyt:series_books=2006-07-15', 'url': 'https://openlibrary.org/subjects/nyt:series_books=2006-07-15'}, {'name': 'nyt:series_books=2006-09-16', 'url': 'https://openlibrary.org/subjects/nyt:series_books=2006-09-16'}, {'name': 'Romans, nouvelles, etc. pour la jeunesse', 'url': 'https://openlibrary.org/subjects/romans,_nouvelles,_etc._pour_la_jeunesse'}, {'name': 'Sorciers', 'url': 'https://openlibrary.org/subjects/sorciers'}, {'name': 'Roman fantastique', 'url': 'https://openlibrary.org/subjects/roman_fantastique'}, {'name': 'Merveilleux', 'url': 'https://openlibrary.org/subjects/merveilleux'}, {'name': 'Hogwarts School of Witchcraft and Wizardry (Imaginary place)', 'url': 'https://openlibrary.org/subjects/hogwarts_school_of_witchcraft_and_wizardry_(imaginary_place)'}, {'name': 'Harry Potter (Fictitious character)', 'url': 'https://openlibrary.org/subjects/harry_potter_(fictitious_character)'}, {'name': 'Hogwarts School of Witchcraft and Wizardry (Imaginary organization)', 'url': 'https://openlibrary.org/subjects/hogwarts_school_of_witchcraft_and_wizardry_(imaginary_organization)'}, {'name': 'Magos', 'url': 'https://openlibrary.org/subjects/magos'}, {'name': 'Magia', 'url': 'https://openlibrary.org/subjects/magia'}, {'name': 'Ficción juvenil', 'url': 'https://openlibrary.org/subjects/ficción_juvenil'}, {'name': 'Escuelas', 'url': 'https://openlibrary.org/subjects/escuelas'}, {'name': 'Novela fantástica', 'url': 'https://openlibrary.org/subjects/novela_fantástica'}, {'name': 'England', 'url': 'https://openlibrary.org/subjects/england'}, {'name': 'School stories', 'url': 'https://openlibrary.org/subjects/school_stories'}, {'name': 'Family', 'url': 'https://openlibrary.org/subjects/family'}, {'name': 'Harry Potter (Fictional character)', 'url': 'https://openlibrary.org/subjects/harry_potter_(fictional_character)'}, {'name': 'Orphans & Foster Homes', 'url': 'https://openlibrary.org/subjects/orphans_&_foster_homes'}, {'name': 'Social Themes', 'url': 'https://openlibrary.org/subjects/social_themes'}, {'name': 'Fantasy', 'url': 'https://openlibrary.org/subjects/fantasy'}, {'name': 'Fantasy & Magic', 'url': 'https://openlibrary.org/subjects/fantasy_&_magic'}, {'name': 'Friendship', 'url': 'https://openlibrary.org/subjects/friendship'}, {'name': 'Reading Level-Grade 11', 'url': 'https://openlibrary.org/subjects/reading_level-grade_11'}, {'name': 'Reading Level-Grade 10', 'url': 'https://openlibrary.org/subjects/reading_level-grade_10'}, {'name': 'Reading Level-Grade 12', 'url': 'https://openlibrary.org/subjects/reading_level-grade_12'}, {'name': 'England, fiction', 'url': 'https://openlibrary.org/subjects/england,_fiction'}, {'name': 'Magic, fiction', 'url': 'https://openlibrary.org/subjects/magic,_fiction'}, {'name': 'Schools, fiction', 'url': 'https://openlibrary.org/subjects/schools,_fiction'}, {'name': \"Children's fiction\", 'url': \"https://openlibrary.org/subjects/children's_fiction\"}, {'name': 'Potter, harry (fictitious character), fiction', 'url': 'https://openlibrary.org/subjects/potter,_harry_(fictitious_character),_fiction'}, {'name': 'Wizards, fiction', 'url': 'https://openlibrary.org/subjects/wizards,_fiction'}, {'name': 'Hogwarts school of witchcraft and wizardry (imaginary organization), fiction', 'url': 'https://openlibrary.org/subjects/hogwarts_school_of_witchcraft_and_wizardry_(imaginary_organization),_fiction'}, {'name': 'Large type books', 'url': 'https://openlibrary.org/subjects/large_type_books'}, {'name': 'Bengali Detective and mystery stories', 'url': 'https://openlibrary.org/subjects/bengali_detective_and_mystery_stories'}, {'name': 'Hermione Granger (Fictitious character)', 'url': 'https://openlibrary.org/subjects/hermione_granger_(fictitious_character)'}, {'name': 'Ron Weasley (Fictitious character)', 'url': 'https://openlibrary.org/subjects/ron_weasley_(fictitious_character)'}, {'name': 'Good and evil', 'url': 'https://openlibrary.org/subjects/good_and_evil'}, {'name': 'Fantasiewelt', 'url': 'https://openlibrary.org/subjects/fantasiewelt'}, {'name': 'Phantastische Literatur', 'url': 'https://openlibrary.org/subjects/phantastische_literatur'}, {'name': 'Englisch', 'url': 'https://openlibrary.org/subjects/englisch'}, {'name': 'Magic - Fiction', 'url': 'https://openlibrary.org/subjects/magic_-_fiction'}, {'name': 'Fiction, fantasy, general', 'url': 'https://openlibrary.org/subjects/fiction,_fantasy,_general'}], 'subject_places': [{'name': 'England', 'url': 'https://openlibrary.org/subjects/place:england'}, {'name': 'Hogwarts School of Witchcraft and Wizardry', 'url': 'https://openlibrary.org/subjects/place:hogwarts_school_of_witchcraft_and_wizardry'}, {'name': 'Privet Drive', 'url': 'https://openlibrary.org/subjects/place:privet_drive'}, {'name': 'Hogwarts School of Witchcraft and Wizardry (Imaginary organization)', 'url': 'https://openlibrary.org/subjects/place:hogwarts_school_of_witchcraft_and_wizardry_(imaginary_organization)'}], 'subject_people': [{'name': 'Harry Potter', 'url': 'https://openlibrary.org/subjects/person:harry_potter'}, {'name': 'Dumbledore', 'url': 'https://openlibrary.org/subjects/person:dumbledore'}, {'name': 'Lord Voldemort', 'url': 'https://openlibrary.org/subjects/person:lord_voldemort'}, {'name': 'Draco Malfoy', 'url': 'https://openlibrary.org/subjects/person:draco_malfoy'}, {'name': 'Hermione Granger', 'url': 'https://openlibrary.org/subjects/person:hermione_granger'}, {'name': 'Ron Weasley', 'url': 'https://openlibrary.org/subjects/person:ron_weasley'}, {'name': 'Tom Riddle', 'url': 'https://openlibrary.org/subjects/person:tom_riddle'}, {'name': 'Harry Potter (Fictitious character)', 'url': 'https://openlibrary.org/subjects/person:harry_potter_(fictitious_character)'}, {'name': 'Hermine Granger', 'url': 'https://openlibrary.org/subjects/person:hermine_granger'}, {'name': 'Ron Weasly', 'url': 'https://openlibrary.org/subjects/person:ron_weasly'}], 'excerpts': [{'text': 'It was nearing midnight and the Prime Minister was sitting alone in his office, reading a long memo that was slipping through his brain without leaving the slightest trace of meaning behind.', 'comment': '', 'first_sentence': True}, {'text': 'It was nearing midnight and the Prime Minister was sitting alone in his office, reading a long memo that was slipping through his brain without leaving the slightest trace of meaning behind.', 'comment': 'first sentence'}], 'notes': 'USA', 'links': [{'title': 'jkrowling.com/book/harry-potter-half-blood-prince/', 'url': 'https://www.jkrowling.com/book/harry-potter-half-blood-prince/'}, {'title': 'Wikipedia', 'url': 'https://en.wikipedia.org/wiki/Harry_Potter_and_the_Half-Blood_Prince'}, {'title': 'Into the gloom - review | the Guardian', 'url': 'https://www.theguardian.com/books/2005/jul/23/booksforchildrenandteenagers.harrypotter'}], 'ebooks': [{'preview_url': 'https://archive.org/details/harrypotterhalfb2005rowl', 'availability': 'restricted', 'formats': {}}], 'cover': {'small': 'https://covers.openlibrary.org/b/id/9326654-S.jpg', 'medium': 'https://covers.openlibrary.org/b/id/9326654-M.jpg', 'large': 'https://covers.openlibrary.org/b/id/9326654-L.jpg'}}}\n"
     ]
    }
   ],
   "source": [
    "import requests\n",
    "\n",
    "isbn = '0439785960'\n",
    "\n",
    "url = \"https://openlibrary.org/api/books\"\n",
    "\n",
    "params = {\"bibkeys\" : f\"ISBN:{isbn}\",\n",
    "          \"format\" : 'json',\n",
    "          \"jscmd\" : 'data'}\n",
    "\n",
    "response = requests.get(url, params).json()\n",
    "\n",
    "print(response)"
   ]
  },
  {
   "cell_type": "code",
   "execution_count": 6,
   "metadata": {},
   "outputs": [
    {
     "data": {
      "text/plain": [
       "'https://covers.openlibrary.org/b/id/9326654-S.jpg'"
      ]
     },
     "execution_count": 6,
     "metadata": {},
     "output_type": "execute_result"
    }
   ],
   "source": [
    "#How to get cover URL\n",
    "response[f'ISBN:{isbn}']['cover']['small']"
   ]
  },
  {
   "cell_type": "code",
   "execution_count": 7,
   "metadata": {},
   "outputs": [
    {
     "data": {
      "text/html": [
       "<div>\n",
       "<style scoped>\n",
       "    .dataframe tbody tr th:only-of-type {\n",
       "        vertical-align: middle;\n",
       "    }\n",
       "\n",
       "    .dataframe tbody tr th {\n",
       "        vertical-align: top;\n",
       "    }\n",
       "\n",
       "    .dataframe thead th {\n",
       "        text-align: right;\n",
       "    }\n",
       "</style>\n",
       "<table border=\"1\" class=\"dataframe\">\n",
       "  <thead>\n",
       "    <tr style=\"text-align: right;\">\n",
       "      <th></th>\n",
       "      <th>title</th>\n",
       "      <th>authors</th>\n",
       "      <th>isbn</th>\n",
       "    </tr>\n",
       "  </thead>\n",
       "  <tbody>\n",
       "    <tr>\n",
       "      <th>0</th>\n",
       "      <td>Harry Potter and the Half-Blood Prince (Harry ...</td>\n",
       "      <td>J.K. Rowling-Mary GrandPré</td>\n",
       "      <td>0439785960</td>\n",
       "    </tr>\n",
       "    <tr>\n",
       "      <th>1</th>\n",
       "      <td>Harry Potter and the Order of the Phoenix (Har...</td>\n",
       "      <td>J.K. Rowling-Mary GrandPré</td>\n",
       "      <td>0439358078</td>\n",
       "    </tr>\n",
       "    <tr>\n",
       "      <th>2</th>\n",
       "      <td>Harry Potter and the Sorcerer's Stone (Harry P...</td>\n",
       "      <td>J.K. Rowling-Mary GrandPré</td>\n",
       "      <td>0439554934</td>\n",
       "    </tr>\n",
       "    <tr>\n",
       "      <th>3</th>\n",
       "      <td>Harry Potter and the Chamber of Secrets (Harry...</td>\n",
       "      <td>J.K. Rowling</td>\n",
       "      <td>0439554896</td>\n",
       "    </tr>\n",
       "    <tr>\n",
       "      <th>4</th>\n",
       "      <td>Harry Potter and the Prisoner of Azkaban (Harr...</td>\n",
       "      <td>J.K. Rowling-Mary GrandPré</td>\n",
       "      <td>043965548X</td>\n",
       "    </tr>\n",
       "    <tr>\n",
       "      <th>5</th>\n",
       "      <td>Harry Potter Boxed Set  Books 1-5 (Harry Potte...</td>\n",
       "      <td>J.K. Rowling-Mary GrandPré</td>\n",
       "      <td>0439682584</td>\n",
       "    </tr>\n",
       "    <tr>\n",
       "      <th>6</th>\n",
       "      <td>Unauthorized Harry Potter Book Seven News: \"Ha...</td>\n",
       "      <td>W. Frederick Zimmerman</td>\n",
       "      <td>0976540606</td>\n",
       "    </tr>\n",
       "    <tr>\n",
       "      <th>7</th>\n",
       "      <td>Harry Potter Collection (Harry Potter  #1-6)</td>\n",
       "      <td>J.K. Rowling</td>\n",
       "      <td>0439827604</td>\n",
       "    </tr>\n",
       "    <tr>\n",
       "      <th>8</th>\n",
       "      <td>The Ultimate Hitchhiker's Guide: Five Complete...</td>\n",
       "      <td>Douglas Adams</td>\n",
       "      <td>0517226952</td>\n",
       "    </tr>\n",
       "    <tr>\n",
       "      <th>9</th>\n",
       "      <td>The Ultimate Hitchhiker's Guide to the Galaxy</td>\n",
       "      <td>Douglas Adams</td>\n",
       "      <td>0345453743</td>\n",
       "    </tr>\n",
       "  </tbody>\n",
       "</table>\n",
       "</div>"
      ],
      "text/plain": [
       "                                               title  \\\n",
       "0  Harry Potter and the Half-Blood Prince (Harry ...   \n",
       "1  Harry Potter and the Order of the Phoenix (Har...   \n",
       "2  Harry Potter and the Sorcerer's Stone (Harry P...   \n",
       "3  Harry Potter and the Chamber of Secrets (Harry...   \n",
       "4  Harry Potter and the Prisoner of Azkaban (Harr...   \n",
       "5  Harry Potter Boxed Set  Books 1-5 (Harry Potte...   \n",
       "6  Unauthorized Harry Potter Book Seven News: \"Ha...   \n",
       "7       Harry Potter Collection (Harry Potter  #1-6)   \n",
       "8  The Ultimate Hitchhiker's Guide: Five Complete...   \n",
       "9      The Ultimate Hitchhiker's Guide to the Galaxy   \n",
       "\n",
       "                      authors        isbn  \n",
       "0  J.K. Rowling-Mary GrandPré  0439785960  \n",
       "1  J.K. Rowling-Mary GrandPré  0439358078  \n",
       "2  J.K. Rowling-Mary GrandPré  0439554934  \n",
       "3                J.K. Rowling  0439554896  \n",
       "4  J.K. Rowling-Mary GrandPré  043965548X  \n",
       "5  J.K. Rowling-Mary GrandPré  0439682584  \n",
       "6      W. Frederick Zimmerman  0976540606  \n",
       "7                J.K. Rowling  0439827604  \n",
       "8               Douglas Adams  0517226952  \n",
       "9               Douglas Adams  0345453743  "
      ]
     },
     "execution_count": 7,
     "metadata": {},
     "output_type": "execute_result"
    }
   ],
   "source": [
    "books_small_df = books_df.head(10)\n",
    "books_small_df"
   ]
  },
  {
   "cell_type": "code",
   "execution_count": 23,
   "metadata": {},
   "outputs": [],
   "source": [
    "import requests\n",
    "\n",
    "# isbn_works = '0439785960'\n",
    "# isbn_not_working = ''\n",
    "def get_cover_url(isbn):\n",
    "    url = \"https://openlibrary.org/api/books\"\n",
    "\n",
    "    params = {\"bibkeys\" : f\"ISBN:{isbn}\",\n",
    "              \"format\" : 'json',\n",
    "              \"jscmd\" : 'data'}\n",
    "\n",
    "    response = requests.get(url, params).json()\n",
    "    #If cover is not in the dictionary, just pass\n",
    "    try:\n",
    "        response[f'ISBN:{isbn}']['cover']['small']\n",
    "        return response[f'ISBN:{isbn}']['cover']['small']\n",
    "    except:\n",
    "        return None\n",
    "    \n",
    "\n",
    "\n"
   ]
  },
  {
   "cell_type": "code",
   "execution_count": 25,
   "metadata": {},
   "outputs": [
    {
     "name": "stdout",
     "output_type": "stream",
     "text": [
      "None\n"
     ]
    }
   ],
   "source": [
    "print(get_cover_url('0345453743'))"
   ]
  },
  {
   "cell_type": "code",
   "execution_count": 14,
   "metadata": {},
   "outputs": [
    {
     "data": {
      "text/plain": [
       "{'url': \"https://openlibrary.org/books/OL17044900M/The_ultimate_hitchhiker's_guide_to_the_galaxy\",\n",
       " 'key': '/books/OL17044900M',\n",
       " 'title': \"The ultimate hitchhiker's guide to the galaxy\",\n",
       " 'authors': [{'url': 'https://openlibrary.org/authors/OL272947A/Douglas_Adams',\n",
       "   'name': 'Douglas Adams'}],\n",
       " 'number_of_pages': 815,\n",
       " 'pagination': 'xvi, 815 p. ;',\n",
       " 'by_statement': 'Douglas Adams',\n",
       " 'identifiers': {'goodreads': ['13'],\n",
       "  'librarything': ['7015245'],\n",
       "  'isbn_10': ['0345453743'],\n",
       "  'openlibrary': ['OL17044900M']},\n",
       " 'publishers': [{'name': 'Del Rey'}],\n",
       " 'publish_places': [{'name': 'New York'}],\n",
       " 'publish_date': '1996',\n",
       " 'subjects': [{'name': 'comic science fiction',\n",
       "   'url': 'https://openlibrary.org/subjects/comic_science_fiction'},\n",
       "  {'name': 'Vogons', 'url': 'https://openlibrary.org/subjects/vogons'},\n",
       "  {'name': 'Humorous fiction',\n",
       "   'url': 'https://openlibrary.org/subjects/humorous_fiction'},\n",
       "  {'name': 'Imaginary voyages',\n",
       "   'url': 'https://openlibrary.org/subjects/imaginary_voyages'},\n",
       "  {'name': 'wit and humour',\n",
       "   'url': 'https://openlibrary.org/subjects/wit_and_humour'},\n",
       "  {'name': 'Science Fiction',\n",
       "   'url': 'https://openlibrary.org/subjects/science_fiction'},\n",
       "  {'name': 'Interstellar travel',\n",
       "   'url': 'https://openlibrary.org/subjects/interstellar_travel'},\n",
       "  {'name': 'Fiction', 'url': 'https://openlibrary.org/subjects/fiction'},\n",
       "  {'name': 'Interplanetary voyages',\n",
       "   'url': 'https://openlibrary.org/subjects/interplanetary_voyages'},\n",
       "  {'name': 'Life on other planets',\n",
       "   'url': 'https://openlibrary.org/subjects/life_on_other_planets'},\n",
       "  {'name': 'Humorous stories',\n",
       "   'url': 'https://openlibrary.org/subjects/humorous_stories'},\n",
       "  {'name': 'fantasy fiction',\n",
       "   'url': 'https://openlibrary.org/subjects/fantasy_fiction'},\n",
       "  {'name': 'English Humorous stories',\n",
       "   'url': 'https://openlibrary.org/subjects/english_humorous_stories'},\n",
       "  {'name': 'English Science fiction',\n",
       "   'url': 'https://openlibrary.org/subjects/english_science_fiction'},\n",
       "  {'name': 'Humorous stories, English',\n",
       "   'url': 'https://openlibrary.org/subjects/humorous_stories,_english'},\n",
       "  {'name': 'Science fiction, English',\n",
       "   'url': 'https://openlibrary.org/subjects/science_fiction,_english'},\n",
       "  {'name': 'English literature',\n",
       "   'url': 'https://openlibrary.org/subjects/english_literature'},\n",
       "  {'name': 'Fiction, science fiction, action & adventure',\n",
       "   'url': 'https://openlibrary.org/subjects/fiction,_science_fiction,_action_&_adventure'},\n",
       "  {'name': 'Dent, arthur (fictitious character), fiction',\n",
       "   'url': 'https://openlibrary.org/subjects/dent,_arthur_(fictitious_character),_fiction'},\n",
       "  {'name': 'Prefect, ford (fictitious character), fiction',\n",
       "   'url': 'https://openlibrary.org/subjects/prefect,_ford_(fictitious_character),_fiction'},\n",
       "  {'name': 'Short stories',\n",
       "   'url': 'https://openlibrary.org/subjects/short_stories'},\n",
       "  {'name': 'Fiction, science fiction, general',\n",
       "   'url': 'https://openlibrary.org/subjects/fiction,_science_fiction,_general'},\n",
       "  {'name': 'Fiction, humorous, general',\n",
       "   'url': 'https://openlibrary.org/subjects/fiction,_humorous,_general'}],\n",
       " 'subject_places': [{'name': 'Earth',\n",
       "   'url': 'https://openlibrary.org/subjects/place:earth'},\n",
       "  {'name': 'London', 'url': 'https://openlibrary.org/subjects/place:london'},\n",
       "  {'name': 'Islington',\n",
       "   'url': 'https://openlibrary.org/subjects/place:islington'},\n",
       "  {'name': 'Galaxy', 'url': 'https://openlibrary.org/subjects/place:galaxy'},\n",
       "  {'name': 'Heart of Gold',\n",
       "   'url': 'https://openlibrary.org/subjects/place:heart_of_gold'},\n",
       "  {'name': 'Magrathea',\n",
       "   'url': 'https://openlibrary.org/subjects/place:magrathea'},\n",
       "  {'name': 'Milliways',\n",
       "   'url': 'https://openlibrary.org/subjects/place:milliways'}],\n",
       " 'subject_people': [{'name': 'Arthur Dent',\n",
       "   'url': 'https://openlibrary.org/subjects/person:arthur_dent'},\n",
       "  {'name': 'Ford Prefect',\n",
       "   'url': 'https://openlibrary.org/subjects/person:ford_prefect'},\n",
       "  {'name': 'Zaphod Beeblebrox',\n",
       "   'url': 'https://openlibrary.org/subjects/person:zaphod_beeblebrox'},\n",
       "  {'name': 'Marvin', 'url': 'https://openlibrary.org/subjects/person:marvin'},\n",
       "  {'name': 'Trisha MacMillan',\n",
       "   'url': 'https://openlibrary.org/subjects/person:trisha_macmillan'},\n",
       "  {'name': 'Slartibartfast',\n",
       "   'url': 'https://openlibrary.org/subjects/person:slartibartfast'},\n",
       "  {'name': 'Deep Thought',\n",
       "   'url': 'https://openlibrary.org/subjects/person:deep_thought'}]}"
      ]
     },
     "execution_count": 14,
     "metadata": {},
     "output_type": "execute_result"
    }
   ],
   "source": [
    "isbn_not_working = '0345453743'\n",
    "url = \"https://openlibrary.org/api/books\"\n",
    "\n",
    "params = {\"bibkeys\" : f\"ISBN:{isbn}\",\n",
    "          \"format\" : 'json',\n",
    "          \"jscmd\" : 'data'}\n",
    "\n",
    "response = requests.get(url, params).json()\n",
    "response[f'ISBN:{isbn_not_working}']"
   ]
  },
  {
   "cell_type": "code",
   "execution_count": 10,
   "metadata": {},
   "outputs": [
    {
     "name": "stderr",
     "output_type": "stream",
     "text": [
      "/var/folders/cg/r94_mmdj4b7f0wkkq_fnyfs80000gp/T/ipykernel_13623/3595088341.py:1: SettingWithCopyWarning: \n",
      "A value is trying to be set on a copy of a slice from a DataFrame.\n",
      "Try using .loc[row_indexer,col_indexer] = value instead\n",
      "\n",
      "See the caveats in the documentation: https://pandas.pydata.org/pandas-docs/stable/user_guide/indexing.html#returning-a-view-versus-a-copy\n",
      "  books_small_df['name_url'] = None\n"
     ]
    },
    {
     "name": "stdout",
     "output_type": "stream",
     "text": [
      "0439785960\n",
      "0439358078\n",
      "0439554934\n",
      "0439554896\n",
      "043965548X\n",
      "0439682584\n",
      "0976540606\n",
      "0439827604\n",
      "0517226952\n",
      "0345453743\n"
     ]
    },
    {
     "ename": "KeyError",
     "evalue": "'cover'",
     "output_type": "error",
     "traceback": [
      "\u001b[0;31m---------------------------------------------------------------------------\u001b[0m",
      "\u001b[0;31mKeyError\u001b[0m                                  Traceback (most recent call last)",
      "Input \u001b[0;32mIn [10]\u001b[0m, in \u001b[0;36m<cell line: 3>\u001b[0;34m()\u001b[0m\n\u001b[1;32m      4\u001b[0m     isbn \u001b[38;5;241m=\u001b[39m row[\u001b[38;5;124m'\u001b[39m\u001b[38;5;124misbn\u001b[39m\u001b[38;5;124m'\u001b[39m]\n\u001b[1;32m      5\u001b[0m     \u001b[38;5;28mprint\u001b[39m(isbn)\n\u001b[0;32m----> 6\u001b[0m     books_small_df\u001b[38;5;241m.\u001b[39mloc[index, \u001b[38;5;124m\"\u001b[39m\u001b[38;5;124mname_url\u001b[39m\u001b[38;5;124m\"\u001b[39m] \u001b[38;5;241m=\u001b[39m \u001b[43mget_cover_url\u001b[49m\u001b[43m(\u001b[49m\u001b[43misbn\u001b[49m\u001b[43m)\u001b[49m\n\u001b[1;32m      8\u001b[0m books_small_df\n",
      "Input \u001b[0;32mIn [8]\u001b[0m, in \u001b[0;36mget_cover_url\u001b[0;34m(isbn)\u001b[0m\n\u001b[1;32m      7\u001b[0m params \u001b[38;5;241m=\u001b[39m {\u001b[38;5;124m\"\u001b[39m\u001b[38;5;124mbibkeys\u001b[39m\u001b[38;5;124m\"\u001b[39m : \u001b[38;5;124mf\u001b[39m\u001b[38;5;124m\"\u001b[39m\u001b[38;5;124mISBN:\u001b[39m\u001b[38;5;132;01m{\u001b[39;00misbn\u001b[38;5;132;01m}\u001b[39;00m\u001b[38;5;124m\"\u001b[39m,\n\u001b[1;32m      8\u001b[0m           \u001b[38;5;124m\"\u001b[39m\u001b[38;5;124mformat\u001b[39m\u001b[38;5;124m\"\u001b[39m : \u001b[38;5;124m'\u001b[39m\u001b[38;5;124mjson\u001b[39m\u001b[38;5;124m'\u001b[39m,\n\u001b[1;32m      9\u001b[0m           \u001b[38;5;124m\"\u001b[39m\u001b[38;5;124mjscmd\u001b[39m\u001b[38;5;124m\"\u001b[39m : \u001b[38;5;124m'\u001b[39m\u001b[38;5;124mdata\u001b[39m\u001b[38;5;124m'\u001b[39m}\n\u001b[1;32m     11\u001b[0m response \u001b[38;5;241m=\u001b[39m requests\u001b[38;5;241m.\u001b[39mget(url, params)\u001b[38;5;241m.\u001b[39mjson()\n\u001b[0;32m---> 13\u001b[0m \u001b[38;5;28;01mreturn\u001b[39;00m \u001b[43mresponse\u001b[49m\u001b[43m[\u001b[49m\u001b[38;5;124;43mf\u001b[39;49m\u001b[38;5;124;43m'\u001b[39;49m\u001b[38;5;124;43mISBN:\u001b[39;49m\u001b[38;5;132;43;01m{\u001b[39;49;00m\u001b[43misbn\u001b[49m\u001b[38;5;132;43;01m}\u001b[39;49;00m\u001b[38;5;124;43m'\u001b[39;49m\u001b[43m]\u001b[49m\u001b[43m[\u001b[49m\u001b[38;5;124;43m'\u001b[39;49m\u001b[38;5;124;43mcover\u001b[39;49m\u001b[38;5;124;43m'\u001b[39;49m\u001b[43m]\u001b[49m[\u001b[38;5;124m'\u001b[39m\u001b[38;5;124msmall\u001b[39m\u001b[38;5;124m'\u001b[39m]\n",
      "\u001b[0;31mKeyError\u001b[0m: 'cover'"
     ]
    }
   ],
   "source": [
    "books_small_df['name_url'] = None\n",
    "\n",
    "for index, row in books_small_df.iterrows():\n",
    "    isbn = row['isbn']\n",
    "    print(isbn)\n",
    "    books_small_df.loc[index, \"name_url\"] = get_cover_url(isbn)\n",
    "\n",
    "books_small_df\n",
    "    "
   ]
  },
  {
   "cell_type": "code",
   "execution_count": null,
   "metadata": {},
   "outputs": [],
   "source": [
    "books_small_df['subjects'] = None\n",
    "\n",
    "books_small_df"
   ]
  },
  {
   "cell_type": "code",
   "execution_count": null,
   "metadata": {},
   "outputs": [],
   "source": [
    "isbn = '0439785960'\n",
    "\n",
    "\n",
    "\n",
    "def get_subject_list(isbn):\n",
    "    url = \"https://openlibrary.org/api/books\"\n",
    "    params = {\"bibkeys\" : f\"ISBN:{isbn}\",\n",
    "              \"format\" : 'json',\n",
    "              \"jscmd\" : 'data'}\n",
    "\n",
    "    response = requests.get(url, params).json()\n",
    "\n",
    "    subjects_list = []\n",
    "    for item in response[f'ISBN:{isbn}']['subjects']:\n",
    "        subjects_list.append(item['name'])\n",
    "    \n",
    "    return subjects_list[0:5]"
   ]
  },
  {
   "cell_type": "code",
   "execution_count": null,
   "metadata": {},
   "outputs": [],
   "source": [
    "isbn = '0439785960'\n",
    "get_subject_list(isbn)"
   ]
  },
  {
   "cell_type": "code",
   "execution_count": null,
   "metadata": {},
   "outputs": [],
   "source": [
    "for index, row in books_small_df.iterrows():\n",
    "    isbn = row['isbn']\n",
    "    row['subjects'] = get_subject_list(isbn)\n",
    "    \n",
    "books_small_df"
   ]
  },
  {
   "cell_type": "markdown",
   "metadata": {},
   "source": [
    "# Add one more column"
   ]
  },
  {
   "cell_type": "code",
   "execution_count": null,
   "metadata": {},
   "outputs": [],
   "source": [
    "import requests\n",
    "\n",
    "isbn = '0439785960'\n",
    "\n",
    "url = \"https://openlibrary.org/api/books\"\n",
    "\n",
    "params = {\"bibkeys\" : f\"ISBN:{isbn}\",\n",
    "          \"format\" : 'json',\n",
    "          \"jscmd\" : 'data'}\n",
    "\n",
    "response = requests.get(url, params).json()\n",
    "\n",
    "print(response)"
   ]
  },
  {
   "cell_type": "code",
   "execution_count": null,
   "metadata": {},
   "outputs": [],
   "source": [
    "url = \"https://openlibrary.org/api/books\"\n",
    "params = {\"bibkeys\" : f\"ISBN:{isbn}\",\n",
    "              \"format\" : 'json',\n",
    "              \"jscmd\" : 'data'}\n",
    "\n",
    "response = requests.get(url, params).json()\n",
    "response[f'ISBN:{isbn}']['publish_date']"
   ]
  },
  {
   "cell_type": "code",
   "execution_count": null,
   "metadata": {},
   "outputs": [],
   "source": [
    "def get_publish_date(isbn):\n",
    "    url = \"https://openlibrary.org/api/books\"\n",
    "    params = {\"bibkeys\" : f\"ISBN:{isbn}\",\n",
    "              \"format\" : 'json',\n",
    "              \"jscmd\" : 'data'}\n",
    "\n",
    "    response = requests.get(url, params).json()\n",
    "\n",
    "    return response[f'ISBN:{isbn}']['publish_date']\n",
    "\n"
   ]
  },
  {
   "cell_type": "code",
   "execution_count": null,
   "metadata": {},
   "outputs": [],
   "source": [
    "get_publish_date(isbn)"
   ]
  },
  {
   "cell_type": "code",
   "execution_count": null,
   "metadata": {},
   "outputs": [],
   "source": [
    "books_small_df['publish_date'] = None\n",
    "books_small_df"
   ]
  },
  {
   "cell_type": "code",
   "execution_count": null,
   "metadata": {},
   "outputs": [],
   "source": [
    "for index, row in books_small_df.iterrows():\n",
    "    isbn = row['isbn']\n",
    "    row['publish_date'] = get_publish_date(isbn)\n",
    "    \n",
    "books_small_df"
   ]
  },
  {
   "cell_type": "markdown",
   "metadata": {},
   "source": [
    "# Convert to date time"
   ]
  },
  {
   "cell_type": "code",
   "execution_count": null,
   "metadata": {},
   "outputs": [],
   "source": [
    "books_small_df['publish_date_2'] = pd.to_datetime(books_small_df['publish_date'])\n",
    "books_small_df"
   ]
  },
  {
   "cell_type": "code",
   "execution_count": null,
   "metadata": {},
   "outputs": [],
   "source": [
    "# Apply to all rows\n",
    "\n"
   ]
  }
 ],
 "metadata": {
  "kernelspec": {
   "display_name": "Python 3 (ipykernel)",
   "language": "python",
   "name": "python3"
  },
  "language_info": {
   "codemirror_mode": {
    "name": "ipython",
    "version": 3
   },
   "file_extension": ".py",
   "mimetype": "text/x-python",
   "name": "python",
   "nbconvert_exporter": "python",
   "pygments_lexer": "ipython3",
   "version": "3.9.8"
  },
  "toc": {
   "base_numbering": 1,
   "nav_menu": {},
   "number_sections": true,
   "sideBar": true,
   "skip_h1_title": false,
   "title_cell": "Table of Contents",
   "title_sidebar": "Contents",
   "toc_cell": false,
   "toc_position": {},
   "toc_section_display": true,
   "toc_window_display": false
  }
 },
 "nbformat": 4,
 "nbformat_minor": 2
}
